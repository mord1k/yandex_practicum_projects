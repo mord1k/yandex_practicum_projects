{
 "cells": [
  {
   "cell_type": "markdown",
   "metadata": {
    "toc": true
   },
   "source": [
    "<h1>Содержание<span class=\"tocSkip\"></span></h1>\n",
    "<div class=\"toc\"><ul class=\"toc-item\"><li><span><a href=\"#Загрузка-данных\" data-toc-modified-id=\"Загрузка-данных-1\"><span class=\"toc-item-num\">1&nbsp;&nbsp;</span>Загрузка данных</a></span></li><li><span><a href=\"#Умножение-матриц\" data-toc-modified-id=\"Умножение-матриц-2\"><span class=\"toc-item-num\">2&nbsp;&nbsp;</span>Умножение матриц</a></span></li><li><span><a href=\"#Алгоритм-преобразования\" data-toc-modified-id=\"Алгоритм-преобразования-3\"><span class=\"toc-item-num\">3&nbsp;&nbsp;</span>Алгоритм преобразования</a></span></li><li><span><a href=\"#Проверка-алгоритма\" data-toc-modified-id=\"Проверка-алгоритма-4\"><span class=\"toc-item-num\">4&nbsp;&nbsp;</span>Проверка алгоритма</a></span></li></ul></div>"
   ]
  },
  {
   "cell_type": "markdown",
   "metadata": {},
   "source": [
    "# Защита персональных данных клиентов"
   ]
  },
  {
   "cell_type": "markdown",
   "metadata": {},
   "source": [
    "Вам нужно защитить данные клиентов страховой компании «Хоть потоп». Разработайте такой метод преобразования данных, чтобы по ним было сложно восстановить персональную информацию. Обоснуйте корректность его работы.\n",
    "\n",
    "Нужно защитить данные, чтобы при преобразовании качество моделей машинного обучения не ухудшилось. Подбирать наилучшую модель не требуется."
   ]
  },
  {
   "cell_type": "markdown",
   "metadata": {},
   "source": [
    "## Загрузка данных"
   ]
  },
  {
   "cell_type": "code",
   "execution_count": 1,
   "metadata": {},
   "outputs": [],
   "source": [
    "import pandas as pd\n",
    "import seaborn as sns\n",
    "import numpy as np\n",
    "from sklearn.linear_model import LinearRegression\n",
    "from sklearn.metrics import r2_score"
   ]
  },
  {
   "cell_type": "markdown",
   "metadata": {},
   "source": [
    "Откроем файл и посмотрим, какие там хранятся данные."
   ]
  },
  {
   "cell_type": "code",
   "execution_count": 2,
   "metadata": {},
   "outputs": [],
   "source": [
    "try:\n",
    "    data = pd.read_csv('/datasets/insurance.csv')\n",
    "except:\n",
    "    data = pd.read_csv('https://code.s3.yandex.net/insurance.csv')"
   ]
  },
  {
   "cell_type": "code",
   "execution_count": 3,
   "metadata": {},
   "outputs": [
    {
     "data": {
      "text/html": [
       "<div>\n",
       "<style scoped>\n",
       "    .dataframe tbody tr th:only-of-type {\n",
       "        vertical-align: middle;\n",
       "    }\n",
       "\n",
       "    .dataframe tbody tr th {\n",
       "        vertical-align: top;\n",
       "    }\n",
       "\n",
       "    .dataframe thead th {\n",
       "        text-align: right;\n",
       "    }\n",
       "</style>\n",
       "<table border=\"1\" class=\"dataframe\">\n",
       "  <thead>\n",
       "    <tr style=\"text-align: right;\">\n",
       "      <th></th>\n",
       "      <th>Пол</th>\n",
       "      <th>Возраст</th>\n",
       "      <th>Зарплата</th>\n",
       "      <th>Члены семьи</th>\n",
       "      <th>Страховые выплаты</th>\n",
       "    </tr>\n",
       "  </thead>\n",
       "  <tbody>\n",
       "    <tr>\n",
       "      <th>0</th>\n",
       "      <td>1</td>\n",
       "      <td>41.0</td>\n",
       "      <td>49600.0</td>\n",
       "      <td>1</td>\n",
       "      <td>0</td>\n",
       "    </tr>\n",
       "    <tr>\n",
       "      <th>1</th>\n",
       "      <td>0</td>\n",
       "      <td>46.0</td>\n",
       "      <td>38000.0</td>\n",
       "      <td>1</td>\n",
       "      <td>1</td>\n",
       "    </tr>\n",
       "    <tr>\n",
       "      <th>2</th>\n",
       "      <td>0</td>\n",
       "      <td>29.0</td>\n",
       "      <td>21000.0</td>\n",
       "      <td>0</td>\n",
       "      <td>0</td>\n",
       "    </tr>\n",
       "    <tr>\n",
       "      <th>3</th>\n",
       "      <td>0</td>\n",
       "      <td>21.0</td>\n",
       "      <td>41700.0</td>\n",
       "      <td>2</td>\n",
       "      <td>0</td>\n",
       "    </tr>\n",
       "    <tr>\n",
       "      <th>4</th>\n",
       "      <td>1</td>\n",
       "      <td>28.0</td>\n",
       "      <td>26100.0</td>\n",
       "      <td>0</td>\n",
       "      <td>0</td>\n",
       "    </tr>\n",
       "  </tbody>\n",
       "</table>\n",
       "</div>"
      ],
      "text/plain": [
       "   Пол  Возраст  Зарплата  Члены семьи  Страховые выплаты\n",
       "0    1     41.0   49600.0            1                  0\n",
       "1    0     46.0   38000.0            1                  1\n",
       "2    0     29.0   21000.0            0                  0\n",
       "3    0     21.0   41700.0            2                  0\n",
       "4    1     28.0   26100.0            0                  0"
      ]
     },
     "execution_count": 3,
     "metadata": {},
     "output_type": "execute_result"
    }
   ],
   "source": [
    "data.head()"
   ]
  },
  {
   "cell_type": "code",
   "execution_count": 4,
   "metadata": {},
   "outputs": [
    {
     "name": "stdout",
     "output_type": "stream",
     "text": [
      "<class 'pandas.core.frame.DataFrame'>\n",
      "RangeIndex: 5000 entries, 0 to 4999\n",
      "Data columns (total 5 columns):\n",
      " #   Column             Non-Null Count  Dtype  \n",
      "---  ------             --------------  -----  \n",
      " 0   Пол                5000 non-null   int64  \n",
      " 1   Возраст            5000 non-null   float64\n",
      " 2   Зарплата           5000 non-null   float64\n",
      " 3   Члены семьи        5000 non-null   int64  \n",
      " 4   Страховые выплаты  5000 non-null   int64  \n",
      "dtypes: float64(2), int64(3)\n",
      "memory usage: 195.4 KB\n"
     ]
    }
   ],
   "source": [
    "data.info()"
   ]
  },
  {
   "cell_type": "markdown",
   "metadata": {},
   "source": [
    "Видим, что в данных нет пропусков. У нас есть 5 признаков \"пол\", \"возраст\", \"зарплата\", \"члены семьи\", \"страховые выплаты\". Посмотрим на распределение данных и кореляцию между признаками."
   ]
  },
  {
   "cell_type": "code",
   "execution_count": 5,
   "metadata": {},
   "outputs": [
    {
     "data": {
      "text/html": [
       "<div>\n",
       "<style scoped>\n",
       "    .dataframe tbody tr th:only-of-type {\n",
       "        vertical-align: middle;\n",
       "    }\n",
       "\n",
       "    .dataframe tbody tr th {\n",
       "        vertical-align: top;\n",
       "    }\n",
       "\n",
       "    .dataframe thead th {\n",
       "        text-align: right;\n",
       "    }\n",
       "</style>\n",
       "<table border=\"1\" class=\"dataframe\">\n",
       "  <thead>\n",
       "    <tr style=\"text-align: right;\">\n",
       "      <th></th>\n",
       "      <th>Пол</th>\n",
       "      <th>Возраст</th>\n",
       "      <th>Зарплата</th>\n",
       "      <th>Члены семьи</th>\n",
       "      <th>Страховые выплаты</th>\n",
       "    </tr>\n",
       "  </thead>\n",
       "  <tbody>\n",
       "    <tr>\n",
       "      <th>count</th>\n",
       "      <td>5000.000000</td>\n",
       "      <td>5000.000000</td>\n",
       "      <td>5000.000000</td>\n",
       "      <td>5000.000000</td>\n",
       "      <td>5000.000000</td>\n",
       "    </tr>\n",
       "    <tr>\n",
       "      <th>mean</th>\n",
       "      <td>0.499000</td>\n",
       "      <td>30.952800</td>\n",
       "      <td>39916.360000</td>\n",
       "      <td>1.194200</td>\n",
       "      <td>0.148000</td>\n",
       "    </tr>\n",
       "    <tr>\n",
       "      <th>std</th>\n",
       "      <td>0.500049</td>\n",
       "      <td>8.440807</td>\n",
       "      <td>9900.083569</td>\n",
       "      <td>1.091387</td>\n",
       "      <td>0.463183</td>\n",
       "    </tr>\n",
       "    <tr>\n",
       "      <th>min</th>\n",
       "      <td>0.000000</td>\n",
       "      <td>18.000000</td>\n",
       "      <td>5300.000000</td>\n",
       "      <td>0.000000</td>\n",
       "      <td>0.000000</td>\n",
       "    </tr>\n",
       "    <tr>\n",
       "      <th>25%</th>\n",
       "      <td>0.000000</td>\n",
       "      <td>24.000000</td>\n",
       "      <td>33300.000000</td>\n",
       "      <td>0.000000</td>\n",
       "      <td>0.000000</td>\n",
       "    </tr>\n",
       "    <tr>\n",
       "      <th>50%</th>\n",
       "      <td>0.000000</td>\n",
       "      <td>30.000000</td>\n",
       "      <td>40200.000000</td>\n",
       "      <td>1.000000</td>\n",
       "      <td>0.000000</td>\n",
       "    </tr>\n",
       "    <tr>\n",
       "      <th>75%</th>\n",
       "      <td>1.000000</td>\n",
       "      <td>37.000000</td>\n",
       "      <td>46600.000000</td>\n",
       "      <td>2.000000</td>\n",
       "      <td>0.000000</td>\n",
       "    </tr>\n",
       "    <tr>\n",
       "      <th>max</th>\n",
       "      <td>1.000000</td>\n",
       "      <td>65.000000</td>\n",
       "      <td>79000.000000</td>\n",
       "      <td>6.000000</td>\n",
       "      <td>5.000000</td>\n",
       "    </tr>\n",
       "  </tbody>\n",
       "</table>\n",
       "</div>"
      ],
      "text/plain": [
       "               Пол      Возраст      Зарплата  Члены семьи  Страховые выплаты\n",
       "count  5000.000000  5000.000000   5000.000000  5000.000000        5000.000000\n",
       "mean      0.499000    30.952800  39916.360000     1.194200           0.148000\n",
       "std       0.500049     8.440807   9900.083569     1.091387           0.463183\n",
       "min       0.000000    18.000000   5300.000000     0.000000           0.000000\n",
       "25%       0.000000    24.000000  33300.000000     0.000000           0.000000\n",
       "50%       0.000000    30.000000  40200.000000     1.000000           0.000000\n",
       "75%       1.000000    37.000000  46600.000000     2.000000           0.000000\n",
       "max       1.000000    65.000000  79000.000000     6.000000           5.000000"
      ]
     },
     "execution_count": 5,
     "metadata": {},
     "output_type": "execute_result"
    }
   ],
   "source": [
    "data.describe()"
   ]
  },
  {
   "cell_type": "code",
   "execution_count": 6,
   "metadata": {},
   "outputs": [
    {
     "data": {
      "text/html": [
       "<div>\n",
       "<style scoped>\n",
       "    .dataframe tbody tr th:only-of-type {\n",
       "        vertical-align: middle;\n",
       "    }\n",
       "\n",
       "    .dataframe tbody tr th {\n",
       "        vertical-align: top;\n",
       "    }\n",
       "\n",
       "    .dataframe thead th {\n",
       "        text-align: right;\n",
       "    }\n",
       "</style>\n",
       "<table border=\"1\" class=\"dataframe\">\n",
       "  <thead>\n",
       "    <tr style=\"text-align: right;\">\n",
       "      <th></th>\n",
       "      <th>Пол</th>\n",
       "      <th>Возраст</th>\n",
       "      <th>Зарплата</th>\n",
       "      <th>Члены семьи</th>\n",
       "      <th>Страховые выплаты</th>\n",
       "    </tr>\n",
       "  </thead>\n",
       "  <tbody>\n",
       "    <tr>\n",
       "      <th>Пол</th>\n",
       "      <td>1.000000</td>\n",
       "      <td>0.000134</td>\n",
       "      <td>0.011823</td>\n",
       "      <td>-0.006578</td>\n",
       "      <td>-0.000172</td>\n",
       "    </tr>\n",
       "    <tr>\n",
       "      <th>Возраст</th>\n",
       "      <td>0.000134</td>\n",
       "      <td>1.000000</td>\n",
       "      <td>-0.020238</td>\n",
       "      <td>-0.001503</td>\n",
       "      <td>0.548589</td>\n",
       "    </tr>\n",
       "    <tr>\n",
       "      <th>Зарплата</th>\n",
       "      <td>0.011823</td>\n",
       "      <td>-0.020238</td>\n",
       "      <td>1.000000</td>\n",
       "      <td>-0.025492</td>\n",
       "      <td>-0.005549</td>\n",
       "    </tr>\n",
       "    <tr>\n",
       "      <th>Члены семьи</th>\n",
       "      <td>-0.006578</td>\n",
       "      <td>-0.001503</td>\n",
       "      <td>-0.025492</td>\n",
       "      <td>1.000000</td>\n",
       "      <td>-0.029210</td>\n",
       "    </tr>\n",
       "    <tr>\n",
       "      <th>Страховые выплаты</th>\n",
       "      <td>-0.000172</td>\n",
       "      <td>0.548589</td>\n",
       "      <td>-0.005549</td>\n",
       "      <td>-0.029210</td>\n",
       "      <td>1.000000</td>\n",
       "    </tr>\n",
       "  </tbody>\n",
       "</table>\n",
       "</div>"
      ],
      "text/plain": [
       "                        Пол   Возраст  Зарплата  Члены семьи  \\\n",
       "Пол                1.000000  0.000134  0.011823    -0.006578   \n",
       "Возраст            0.000134  1.000000 -0.020238    -0.001503   \n",
       "Зарплата           0.011823 -0.020238  1.000000    -0.025492   \n",
       "Члены семьи       -0.006578 -0.001503 -0.025492     1.000000   \n",
       "Страховые выплаты -0.000172  0.548589 -0.005549    -0.029210   \n",
       "\n",
       "                   Страховые выплаты  \n",
       "Пол                        -0.000172  \n",
       "Возраст                     0.548589  \n",
       "Зарплата                   -0.005549  \n",
       "Члены семьи                -0.029210  \n",
       "Страховые выплаты           1.000000  "
      ]
     },
     "execution_count": 6,
     "metadata": {},
     "output_type": "execute_result"
    }
   ],
   "source": [
    "data.corr(method='spearman')"
   ]
  },
  {
   "cell_type": "code",
   "execution_count": 7,
   "metadata": {},
   "outputs": [
    {
     "data": {
      "image/png": "[encoded data removed]",
      "text/plain": [
       "<Figure size 432x288 with 2 Axes>"
      ]
     },
     "metadata": {
      "needs_background": "light"
     },
     "output_type": "display_data"
    }
   ],
   "source": [
    "sns.heatmap(data.corr());"
   ]
  },
  {
   "cell_type": "markdown",
   "metadata": {},
   "source": [
    "Видим, что я `возраст` и `страховые выплаты` имеют более высокую корреляцию, чем остальные признаки. \n",
    "\n",
    "Перейдем к следующему пункту, в котором необходимо проверить, изменится ли качество линейной регресси, если изменить данные."
   ]
  },
  {
   "cell_type": "markdown",
   "metadata": {},
   "source": [
    "## Умножение матриц"
   ]
  },
  {
   "cell_type": "markdown",
   "metadata": {},
   "source": [
    "Разделим данные на целевой `features` и `target`."
   ]
  },
  {
   "cell_type": "code",
   "execution_count": 8,
   "metadata": {},
   "outputs": [],
   "source": [
    "features = data.drop('Страховые выплаты', axis=1)\n",
    "target = data['Страховые выплаты']"
   ]
  },
  {
   "cell_type": "markdown",
   "metadata": {},
   "source": [
    "Обучим модель линейной регрессии и посмотрим результат метрики R2."
   ]
  },
  {
   "cell_type": "code",
   "execution_count": 9,
   "metadata": {},
   "outputs": [
    {
     "data": {
      "text/plain": [
       "0.4249455028666801"
      ]
     },
     "execution_count": 9,
     "metadata": {},
     "output_type": "execute_result"
    }
   ],
   "source": [
    "model = LinearRegression()\n",
    "model.fit(features, target)\n",
    "predictions_1 = model.predict(features)\n",
    "r2_score(target, predictions_1)"
   ]
  },
  {
   "cell_type": "markdown",
   "metadata": {},
   "source": [
    "Модель линейной регрессии показала метрику R2 равную 0.424. Теперь нам необходимо проверить, изменится ли качество линейной регрессии, если умножить признаки на обратимую матрицу. Создадим из признаков матрицу."
   ]
  },
  {
   "cell_type": "code",
   "execution_count": 10,
   "metadata": {},
   "outputs": [],
   "source": [
    "matrix = features.values"
   ]
  },
  {
   "cell_type": "markdown",
   "metadata": {},
   "source": [
    "Для решения вопроса нужно умножить матрицу признаков на невырожденную матрицу размерности 4 x 4 (4 - число признаков, а ранг матрицы  не должен быть меньше 4)\n",
    "\n",
    "Проверить ранг матрицы можно с помощью функции `np.linalg.matrix_rank(A)`."
   ]
  },
  {
   "cell_type": "code",
   "execution_count": 11,
   "metadata": {},
   "outputs": [],
   "source": [
    "reversible_matrix = np.array([[1, 2, 3, 4],\n",
    "                               [4, 3, 2, 1],\n",
    "                               [5, 7, 1, 9],\n",
    "                               [1, 3, 5, 11]])"
   ]
  },
  {
   "cell_type": "code",
   "execution_count": 12,
   "metadata": {},
   "outputs": [
    {
     "data": {
      "text/plain": [
       "4"
      ]
     },
     "execution_count": 12,
     "metadata": {},
     "output_type": "execute_result"
    }
   ],
   "source": [
    "np.linalg.matrix_rank(reversible_matrix)"
   ]
  },
  {
   "cell_type": "markdown",
   "metadata": {},
   "source": [
    "Отлично, создали матрицу с рангом 4. Теперь умножим матрицу с параметрами признаков и созданную матрицу."
   ]
  },
  {
   "cell_type": "code",
   "execution_count": 13,
   "metadata": {},
   "outputs": [],
   "source": [
    "new_features = matrix.dot(reversible_matrix)"
   ]
  },
  {
   "cell_type": "code",
   "execution_count": 14,
   "metadata": {},
   "outputs": [],
   "source": [
    "new_features = pd.DataFrame(new_features, columns=features.columns)"
   ]
  },
  {
   "cell_type": "markdown",
   "metadata": {},
   "source": [
    "Успешно создали датафрейм из признаков умноженных на невырожденную матрицу."
   ]
  },
  {
   "cell_type": "code",
   "execution_count": 15,
   "metadata": {},
   "outputs": [
    {
     "data": {
      "text/html": [
       "<div>\n",
       "<style scoped>\n",
       "    .dataframe tbody tr th:only-of-type {\n",
       "        vertical-align: middle;\n",
       "    }\n",
       "\n",
       "    .dataframe tbody tr th {\n",
       "        vertical-align: top;\n",
       "    }\n",
       "\n",
       "    .dataframe thead th {\n",
       "        text-align: right;\n",
       "    }\n",
       "</style>\n",
       "<table border=\"1\" class=\"dataframe\">\n",
       "  <thead>\n",
       "    <tr style=\"text-align: right;\">\n",
       "      <th></th>\n",
       "      <th>Пол</th>\n",
       "      <th>Возраст</th>\n",
       "      <th>Зарплата</th>\n",
       "      <th>Члены семьи</th>\n",
       "    </tr>\n",
       "  </thead>\n",
       "  <tbody>\n",
       "    <tr>\n",
       "      <th>0</th>\n",
       "      <td>1</td>\n",
       "      <td>41.0</td>\n",
       "      <td>49600.0</td>\n",
       "      <td>1</td>\n",
       "    </tr>\n",
       "    <tr>\n",
       "      <th>1</th>\n",
       "      <td>0</td>\n",
       "      <td>46.0</td>\n",
       "      <td>38000.0</td>\n",
       "      <td>1</td>\n",
       "    </tr>\n",
       "    <tr>\n",
       "      <th>2</th>\n",
       "      <td>0</td>\n",
       "      <td>29.0</td>\n",
       "      <td>21000.0</td>\n",
       "      <td>0</td>\n",
       "    </tr>\n",
       "    <tr>\n",
       "      <th>3</th>\n",
       "      <td>0</td>\n",
       "      <td>21.0</td>\n",
       "      <td>41700.0</td>\n",
       "      <td>2</td>\n",
       "    </tr>\n",
       "    <tr>\n",
       "      <th>4</th>\n",
       "      <td>1</td>\n",
       "      <td>28.0</td>\n",
       "      <td>26100.0</td>\n",
       "      <td>0</td>\n",
       "    </tr>\n",
       "  </tbody>\n",
       "</table>\n",
       "</div>"
      ],
      "text/plain": [
       "   Пол  Возраст  Зарплата  Члены семьи\n",
       "0    1     41.0   49600.0            1\n",
       "1    0     46.0   38000.0            1\n",
       "2    0     29.0   21000.0            0\n",
       "3    0     21.0   41700.0            2\n",
       "4    1     28.0   26100.0            0"
      ]
     },
     "execution_count": 15,
     "metadata": {},
     "output_type": "execute_result"
    }
   ],
   "source": [
    "features.head()"
   ]
  },
  {
   "cell_type": "code",
   "execution_count": 16,
   "metadata": {},
   "outputs": [
    {
     "data": {
      "text/html": [
       "<div>\n",
       "<style scoped>\n",
       "    .dataframe tbody tr th:only-of-type {\n",
       "        vertical-align: middle;\n",
       "    }\n",
       "\n",
       "    .dataframe tbody tr th {\n",
       "        vertical-align: top;\n",
       "    }\n",
       "\n",
       "    .dataframe thead th {\n",
       "        text-align: right;\n",
       "    }\n",
       "</style>\n",
       "<table border=\"1\" class=\"dataframe\">\n",
       "  <thead>\n",
       "    <tr style=\"text-align: right;\">\n",
       "      <th></th>\n",
       "      <th>Пол</th>\n",
       "      <th>Возраст</th>\n",
       "      <th>Зарплата</th>\n",
       "      <th>Члены семьи</th>\n",
       "    </tr>\n",
       "  </thead>\n",
       "  <tbody>\n",
       "    <tr>\n",
       "      <th>0</th>\n",
       "      <td>248166.0</td>\n",
       "      <td>347328.0</td>\n",
       "      <td>49690.0</td>\n",
       "      <td>446456.0</td>\n",
       "    </tr>\n",
       "    <tr>\n",
       "      <th>1</th>\n",
       "      <td>190185.0</td>\n",
       "      <td>266141.0</td>\n",
       "      <td>38097.0</td>\n",
       "      <td>342057.0</td>\n",
       "    </tr>\n",
       "    <tr>\n",
       "      <th>2</th>\n",
       "      <td>105116.0</td>\n",
       "      <td>147087.0</td>\n",
       "      <td>21058.0</td>\n",
       "      <td>189029.0</td>\n",
       "    </tr>\n",
       "    <tr>\n",
       "      <th>3</th>\n",
       "      <td>208586.0</td>\n",
       "      <td>291969.0</td>\n",
       "      <td>41752.0</td>\n",
       "      <td>375343.0</td>\n",
       "    </tr>\n",
       "    <tr>\n",
       "      <th>4</th>\n",
       "      <td>130613.0</td>\n",
       "      <td>182786.0</td>\n",
       "      <td>26159.0</td>\n",
       "      <td>234932.0</td>\n",
       "    </tr>\n",
       "  </tbody>\n",
       "</table>\n",
       "</div>"
      ],
      "text/plain": [
       "        Пол   Возраст  Зарплата  Члены семьи\n",
       "0  248166.0  347328.0   49690.0     446456.0\n",
       "1  190185.0  266141.0   38097.0     342057.0\n",
       "2  105116.0  147087.0   21058.0     189029.0\n",
       "3  208586.0  291969.0   41752.0     375343.0\n",
       "4  130613.0  182786.0   26159.0     234932.0"
      ]
     },
     "execution_count": 16,
     "metadata": {},
     "output_type": "execute_result"
    }
   ],
   "source": [
    "new_features.head()"
   ]
  },
  {
   "cell_type": "markdown",
   "metadata": {},
   "source": [
    "Видим, что данные очень сильно отличаются. Попробуем еще раз обучить модель линейной регрессии и посмотреть на ее качество."
   ]
  },
  {
   "cell_type": "code",
   "execution_count": 17,
   "metadata": {},
   "outputs": [
    {
     "data": {
      "text/plain": [
       "0.42494550286668165"
      ]
     },
     "execution_count": 17,
     "metadata": {},
     "output_type": "execute_result"
    }
   ],
   "source": [
    "model = LinearRegression()\n",
    "model.fit(new_features, target)\n",
    "predictions = model.predict(new_features)\n",
    "r2_score(target, predictions)"
   ]
  },
  {
   "cell_type": "markdown",
   "metadata": {},
   "source": [
    "Видим, что качество модели после умножения матрицы признаков на обратимую матрицу не поменялось.\n",
    "\n",
    "Далее пойдет теоретическая часть, где будут описаны обозначения и формулы."
   ]
  },
  {
   "cell_type": "markdown",
   "metadata": {},
   "source": [
    "Обозначения:\n",
    "\n",
    "- $X$ — матрица признаков (нулевой столбец состоит из единиц)\n",
    "\n",
    "- $y$ — вектор целевого признака\n",
    "\n",
    "- $P$ — матрица, на которую умножаются признаки\n",
    "\n",
    "- $w$ — вектор весов линейной регрессии (нулевой элемент равен сдвигу)"
   ]
  },
  {
   "cell_type": "markdown",
   "metadata": {},
   "source": [
    "Предсказания:\n",
    "\n",
    "$$\n",
    "a = Xw\n",
    "$$\n",
    "\n",
    "Задача обучения:\n",
    "\n",
    "$$\n",
    "w = \\arg\\min_w MSE(Xw, y)\n",
    "$$\n",
    "\n",
    "Формула обучения:\n",
    "\n",
    "$$\n",
    "w = (X^T X)^{-1} X^T y\n",
    "$$"
   ]
  },
  {
   "cell_type": "markdown",
   "metadata": {},
   "source": [
    "Рассмотрим, как связаны параметры линейной регрессии в исходной задаче и в преобразованной."
   ]
  },
  {
   "cell_type": "markdown",
   "metadata": {},
   "source": [
    "**Ответ:** \n",
    "\n",
    "В качестве ответа представлена формула, которая будет получена из обоснования.\n",
    "\n",
    "$$\n",
    "w' = P^{-1}w,\n",
    "$$\n",
    "\n",
    "\n",
    "\n",
    "**Обоснование:** Для обоснования подставим в формулу получения весов для зашифрованной регрессии формулу инференса для незашифрованной регрессии.\n",
    "\n",
    "Формула для получения весов для зашифрованной регрессии:\n",
    "\n",
    "$$\n",
    "w'= ((XP)^T XP)^{-1} (XP)^T y\n",
    "$$\n",
    "\n",
    "Формула инференса для незашифрованной регрессии:\n",
    "\n",
    "$$\n",
    "y = Xw\n",
    "$$\n",
    "\n",
    "Подставим формулу инференса в формулу получения весов и получим:\n",
    "\n",
    "$$\n",
    "w'= ((XP)^T XP)^{-1} (XP)^T Xw\n",
    "$$\n",
    "\n",
    "Раскроем скобки по основным свойствам операций над матрицами:\n",
    "\n",
    "$$\n",
    "w' = (P^T X^T XP)^{-1} P^T X^T X w = \n",
    "$$\n",
    "\n",
    "Потом можем воспользоваться свойством, что: $(ABC)^{-1} = C^{-1} B^{-1} A^{-1}$, где $A = P^T$, $B = X^T X$, $C = P$. Получим:\n",
    "\n",
    "$$\n",
    "w' = P^{-1} (X^{T} X)^{-1} (P^T)^{-1} P^T X^T X w\n",
    "$$\n",
    "\n",
    "Данную формулу можно сократить и получить ответ:\n",
    "\n",
    "$$\n",
    "w' = P^{-1} (X^{T} X)^{-1} E X^T X w = P^{-1} (X^{T} X)^{-1} X^T X w = P^{-1} E w = P^{-1} w\n",
    "$$"
   ]
  },
  {
   "cell_type": "markdown",
   "metadata": {},
   "source": [
    "Таким образом можно сделать вывод, что параметры линейной регрессии в исходной задаче связаны с параметрами линейной регрессии в преобразованной задаче некоторым ключом шифрования, который представляет из себя обратную невырожденную матрицу."
   ]
  },
  {
   "cell_type": "markdown",
   "metadata": {},
   "source": [
    "## Алгоритм преобразования"
   ]
  },
  {
   "cell_type": "markdown",
   "metadata": {},
   "source": [
    "Предложим алгоритм преобразования данных для решения задачи. Обоснуем, почему качество линейной регрессии не поменяется."
   ]
  },
  {
   "cell_type": "markdown",
   "metadata": {},
   "source": [
    "**Алгоритм**\n",
    "\n",
    "Для защиты данных клиентов страховой компании «Хоть потоп» разработаем такой метод преобразования данных, чтобы по ним было сложно восстановить персональную информацию.\n",
    "\n",
    "Возьмём признаки, которые являются данными клиентов. Представим эти данные в виде матрицы n x m.\n",
    "\n",
    "Для шифрования данных необходимо полученную матрицу умножить на матрицу размерностью m x m. Данная матрица обязательно должна быть обратимой, т.е. квадратная матрица, которая является невырожденной. Ранг матрицы должен быть не меньше m.\n",
    "\n",
    "После умножения на обратимую матрицу мы получаем новые данные, которые можем использовать в моделе линейной регрессии и ее качество не изменится.\n",
    "\n",
    "Чтобы расшифровать данные необходимо умножить их на обратную матрицу размерности m x m.\n",
    "\n",
    "Идея в том, что домножив матрицу признаков на квадратную невырожденную матрицу, мы практически не влияем на предсказательную силу линейной регрессии. Таким образом, страховая компания может \"зашифровать\" датасет (признаковую его часть) и передать его исследователям, не боясь потери персональных данных"
   ]
  },
  {
   "cell_type": "markdown",
   "metadata": {},
   "source": [
    "**Обоснование**\n",
    "\n",
    "Во втором пункте мы проверили теорию о том, что  качество линейной регрессии не поменялось, когда мы умножили матрицу признаков на случайную невырожденную обратимую матрицу определенной размерности.\n",
    "\n",
    "Разберемся, почему так происходит. У нас есть формулы для обучения линейной регрессии матрицей без изменений и с изменениями, запишем их.\n",
    "\n",
    "Формула предсказания исходной матрицы:\n",
    "\n",
    "$$\n",
    "a = Xw\n",
    "$$\n",
    "\n",
    "Формула обучения для исходной матрицы:\n",
    "\n",
    "$$\n",
    "w = (X^T X)^{-1} X^T y\n",
    "$$\n",
    "\n",
    "Формула предсказания преобразованной матрицы:\n",
    "\n",
    "$$\n",
    "a' = XP w'\n",
    "$$\n",
    "\n",
    "Формула обучения для преобразованной матрицы:\n",
    "\n",
    "$$\n",
    "w' = ((XP)^T XP)^{-1} (XP)^T y\n",
    "$$\n",
    "\n",
    "Во втором пункте мы определили, что параметры линейной регрессии в исходной задаче связаны с параметрами линейной регрессии в преобразованной задаче некоторым ключом шифрования, который представляет из себя обратную невырожденную матрицу. Таким образом подставим параметры линейной регрессии, которые мы определили в прошлом пункте в формулу предсказания преобразованной матрицы:\n",
    "\n",
    "$$\n",
    "a' = XP w' = XPP^{-1}w = Xw = a\n",
    "$$\n",
    "\n",
    "С помощью преобразований и подстановок, видим, что предсказания преобразованной матрицы равняются предсказаниям исходной матрицы. \n",
    "\n",
    "Таким образом качество линейной регрессии не меняется если мы умножаем исходную матрицу на обратимую матрицу."
   ]
  },
  {
   "cell_type": "markdown",
   "metadata": {},
   "source": [
    "## Проверка алгоритма"
   ]
  },
  {
   "cell_type": "markdown",
   "metadata": {},
   "source": [
    "Запрограммируем алгоритм преобразования данных. Для начала попробуем написать алгоритм генерации ключа (невырожденная квадратная матрица)."
   ]
  },
  {
   "cell_type": "code",
   "execution_count": 18,
   "metadata": {},
   "outputs": [],
   "source": [
    "def revers_matrix(number):\n",
    "    array = np.random.randint(1, 11, size=(number, number))\n",
    "    while np.linalg.matrix_rank(array) < 4:\n",
    "        array = np.random.randint(1, 11, size=(number, number))\n",
    "    return (array)"
   ]
  },
  {
   "cell_type": "markdown",
   "metadata": {},
   "source": [
    "Далее создадим функцию для шифрования данных (умножение матрицы признаков на матрицу-ключ)"
   ]
  },
  {
   "cell_type": "code",
   "execution_count": 19,
   "metadata": {},
   "outputs": [],
   "source": [
    "def encryption(features):\n",
    "    new_features = (features.values).dot(revers_matrix(features.shape[1]))\n",
    "    return pd.DataFrame(new_features, columns=features.columns)"
   ]
  },
  {
   "cell_type": "markdown",
   "metadata": {},
   "source": [
    "Проверим новые данные, отличается ли качество линейной  регрессии исходных данных от качества линейной регрессии преобразованных данных. "
   ]
  },
  {
   "cell_type": "code",
   "execution_count": 20,
   "metadata": {},
   "outputs": [],
   "source": [
    "new_features = encryption(features)"
   ]
  },
  {
   "cell_type": "markdown",
   "metadata": {},
   "source": [
    "Модель с исходными данными. Посмотрим на ее качество."
   ]
  },
  {
   "cell_type": "code",
   "execution_count": 21,
   "metadata": {},
   "outputs": [
    {
     "data": {
      "text/plain": [
       "0.4249455028666801"
      ]
     },
     "execution_count": 21,
     "metadata": {},
     "output_type": "execute_result"
    }
   ],
   "source": [
    "model_1 = LinearRegression()\n",
    "model_1.fit(features, target)\n",
    "predictions_1 = model_1.predict(features)\n",
    "r2_score(target, predictions_1)"
   ]
  },
  {
   "cell_type": "markdown",
   "metadata": {},
   "source": [
    "Модель с преобразованными данными. Также проверим качество данной модели."
   ]
  },
  {
   "cell_type": "code",
   "execution_count": 22,
   "metadata": {},
   "outputs": [
    {
     "data": {
      "text/plain": [
       "0.42494550286668153"
      ]
     },
     "execution_count": 22,
     "metadata": {},
     "output_type": "execute_result"
    }
   ],
   "source": [
    "model_2 = LinearRegression()\n",
    "model_2.fit(new_features, target)\n",
    "predictions_2 = model_2.predict(new_features)\n",
    "r2_score(target, predictions_2)"
   ]
  },
  {
   "cell_type": "markdown",
   "metadata": {},
   "source": [
    "Заметим, что качества моделей практически не различимы."
   ]
  },
  {
   "cell_type": "markdown",
   "metadata": {},
   "source": [
    "**Вывод:**\n",
    "\n",
    "В данном проекте нужно было защитить данные, чтобы при преобразовании качество моделей машинного обучения не ухудшилось. После проеделанной работы можно сделать вывод, что:\n",
    "\n",
    "- мы научились преобразовывать исходные данные с помощью невырожденной обратимой матрицы;\n",
    "- разобрались с тем, как связаны параметры линейной регрессии в исходной задаче и в преобразованной;\n",
    "- доказали, что качество модели линейной регрессии с исходными данными не отличается от качества модели с преобразованными данными;\n",
    "- создали функции, с помощью которых можно зашифровать данные.\n",
    "\n",
    "Таким образом мы полностью ывполнили поставленную задачу, защитили данные клиентов."
   ]
  }
 ],
 "metadata": {
  "ExecuteTimeLog": [
   {
    "duration": 1316,
    "start_time": "2023-02-15T10:34:50.804Z"
   },
   {
    "duration": 84,
    "start_time": "2023-02-15T10:35:12.416Z"
   },
   {
    "duration": 15,
    "start_time": "2023-02-15T10:35:13.582Z"
   },
   {
    "duration": 11,
    "start_time": "2023-02-15T10:35:18.123Z"
   },
   {
    "duration": 22,
    "start_time": "2023-02-15T10:36:43.315Z"
   },
   {
    "duration": 12,
    "start_time": "2023-02-15T10:36:44.572Z"
   },
   {
    "duration": 367,
    "start_time": "2023-02-15T10:36:46.189Z"
   },
   {
    "duration": 53,
    "start_time": "2023-02-15T14:36:25.226Z"
   },
   {
    "duration": 6,
    "start_time": "2023-02-15T14:36:32.509Z"
   },
   {
    "duration": 5,
    "start_time": "2023-02-15T14:36:32.714Z"
   },
   {
    "duration": 5,
    "start_time": "2023-02-15T14:36:32.899Z"
   },
   {
    "duration": 6,
    "start_time": "2023-02-15T14:36:33.314Z"
   },
   {
    "duration": 1367,
    "start_time": "2023-02-15T14:36:36.895Z"
   },
   {
    "duration": 94,
    "start_time": "2023-02-15T14:36:38.264Z"
   },
   {
    "duration": 13,
    "start_time": "2023-02-15T14:36:38.359Z"
   },
   {
    "duration": 11,
    "start_time": "2023-02-15T14:36:38.375Z"
   },
   {
    "duration": 23,
    "start_time": "2023-02-15T14:36:38.749Z"
   },
   {
    "duration": 12,
    "start_time": "2023-02-15T14:36:39.061Z"
   },
   {
    "duration": 345,
    "start_time": "2023-02-15T14:36:39.405Z"
   },
   {
    "duration": 4,
    "start_time": "2023-02-15T14:36:40.823Z"
   },
   {
    "duration": 3,
    "start_time": "2023-02-15T14:36:59.740Z"
   },
   {
    "duration": 5,
    "start_time": "2023-02-15T14:41:41.889Z"
   },
   {
    "duration": 4,
    "start_time": "2023-02-15T14:43:58.733Z"
   },
   {
    "duration": 70,
    "start_time": "2023-02-15T14:54:12.492Z"
   },
   {
    "duration": 2,
    "start_time": "2023-02-15T14:54:29.029Z"
   },
   {
    "duration": 9,
    "start_time": "2023-02-15T14:57:26.098Z"
   },
   {
    "duration": 10,
    "start_time": "2023-02-15T14:57:32.526Z"
   },
   {
    "duration": 3,
    "start_time": "2023-02-15T14:57:52.719Z"
   },
   {
    "duration": 4,
    "start_time": "2023-02-15T14:57:57.098Z"
   },
   {
    "duration": 48,
    "start_time": "2023-02-15T14:58:02.952Z"
   },
   {
    "duration": 44,
    "start_time": "2023-02-15T14:58:11.645Z"
   },
   {
    "duration": 3,
    "start_time": "2023-02-15T14:58:17.128Z"
   },
   {
    "duration": 6,
    "start_time": "2023-02-15T14:58:18.477Z"
   },
   {
    "duration": 238,
    "start_time": "2023-02-15T14:59:51.890Z"
   },
   {
    "duration": 5,
    "start_time": "2023-02-15T15:00:48.165Z"
   },
   {
    "duration": 6,
    "start_time": "2023-02-15T15:03:07.054Z"
   },
   {
    "duration": 3,
    "start_time": "2023-02-15T15:04:24.976Z"
   },
   {
    "duration": 6,
    "start_time": "2023-02-15T15:04:26.679Z"
   },
   {
    "duration": 96,
    "start_time": "2023-02-15T15:07:37.729Z"
   },
   {
    "duration": 5,
    "start_time": "2023-02-15T15:10:16.704Z"
   },
   {
    "duration": 6,
    "start_time": "2023-02-15T15:10:24.162Z"
   },
   {
    "duration": 3,
    "start_time": "2023-02-15T15:11:17.160Z"
   },
   {
    "duration": 12,
    "start_time": "2023-02-15T15:14:41.967Z"
   },
   {
    "duration": 5,
    "start_time": "2023-02-15T15:15:07.003Z"
   },
   {
    "duration": 15,
    "start_time": "2023-02-15T15:15:52.472Z"
   },
   {
    "duration": 4,
    "start_time": "2023-02-15T15:16:43.976Z"
   },
   {
    "duration": 15,
    "start_time": "2023-02-15T15:16:54.335Z"
   },
   {
    "duration": 13,
    "start_time": "2023-02-15T15:19:30.759Z"
   },
   {
    "duration": 11,
    "start_time": "2023-02-15T15:19:34.363Z"
   },
   {
    "duration": 11,
    "start_time": "2023-02-15T15:20:01.405Z"
   },
   {
    "duration": 1672,
    "start_time": "2023-02-17T09:31:22.181Z"
   },
   {
    "duration": 88,
    "start_time": "2023-02-17T09:31:23.856Z"
   },
   {
    "duration": 13,
    "start_time": "2023-02-17T09:31:23.946Z"
   },
   {
    "duration": 12,
    "start_time": "2023-02-17T09:31:23.962Z"
   },
   {
    "duration": 26,
    "start_time": "2023-02-17T09:31:23.976Z"
   },
   {
    "duration": 14,
    "start_time": "2023-02-17T09:31:24.005Z"
   },
   {
    "duration": 416,
    "start_time": "2023-02-17T09:31:24.020Z"
   },
   {
    "duration": 4,
    "start_time": "2023-02-17T09:31:24.438Z"
   },
   {
    "duration": 160,
    "start_time": "2023-02-17T09:31:24.444Z"
   },
   {
    "duration": 20,
    "start_time": "2023-02-17T09:31:24.614Z"
   },
   {
    "duration": 95,
    "start_time": "2023-02-17T09:31:24.636Z"
   },
   {
    "duration": 9,
    "start_time": "2023-02-17T09:31:24.733Z"
   },
   {
    "duration": 5,
    "start_time": "2023-02-17T09:31:24.743Z"
   },
   {
    "duration": 7,
    "start_time": "2023-02-17T09:31:24.749Z"
   },
   {
    "duration": 10,
    "start_time": "2023-02-17T09:31:24.757Z"
   },
   {
    "duration": 11,
    "start_time": "2023-02-17T09:31:24.769Z"
   },
   {
    "duration": 36,
    "start_time": "2023-02-17T09:31:24.781Z"
   },
   {
    "duration": 4,
    "start_time": "2023-02-17T09:43:57.520Z"
   },
   {
    "duration": 4,
    "start_time": "2023-02-17T09:44:06.794Z"
   },
   {
    "duration": 9,
    "start_time": "2023-02-17T09:44:15.915Z"
   },
   {
    "duration": 6,
    "start_time": "2023-02-17T09:44:29.152Z"
   },
   {
    "duration": 129,
    "start_time": "2023-02-17T09:45:29.169Z"
   },
   {
    "duration": 3,
    "start_time": "2023-02-17T09:45:36.239Z"
   },
   {
    "duration": 5,
    "start_time": "2023-02-17T09:45:40.520Z"
   },
   {
    "duration": 71,
    "start_time": "2023-02-17T09:45:45.520Z"
   },
   {
    "duration": 81,
    "start_time": "2023-02-17T09:45:51.091Z"
   },
   {
    "duration": 7,
    "start_time": "2023-02-17T09:46:00.019Z"
   },
   {
    "duration": 13,
    "start_time": "2023-02-17T09:46:14.924Z"
   },
   {
    "duration": 6,
    "start_time": "2023-02-17T09:46:22.141Z"
   },
   {
    "duration": 11,
    "start_time": "2023-02-17T09:47:20.912Z"
   },
   {
    "duration": 6,
    "start_time": "2023-02-17T09:47:32.429Z"
   },
   {
    "duration": 9,
    "start_time": "2023-02-17T09:49:30.082Z"
   },
   {
    "duration": 122,
    "start_time": "2023-02-17T09:49:35.100Z"
   },
   {
    "duration": 4,
    "start_time": "2023-02-17T09:50:29.617Z"
   },
   {
    "duration": 5,
    "start_time": "2023-02-17T09:50:47.370Z"
   },
   {
    "duration": 11,
    "start_time": "2023-02-17T09:50:58.040Z"
   },
   {
    "duration": 9,
    "start_time": "2023-02-17T09:51:19.352Z"
   },
   {
    "duration": 13,
    "start_time": "2023-02-17T09:51:24.354Z"
   },
   {
    "duration": 511,
    "start_time": "2023-02-17T12:02:17.037Z"
   },
   {
    "duration": 1386,
    "start_time": "2023-02-17T12:34:28.807Z"
   },
   {
    "duration": 31,
    "start_time": "2023-02-17T12:34:30.197Z"
   },
   {
    "duration": 14,
    "start_time": "2023-02-17T12:34:30.230Z"
   },
   {
    "duration": 36,
    "start_time": "2023-02-17T12:34:30.246Z"
   },
   {
    "duration": 24,
    "start_time": "2023-02-17T12:34:30.284Z"
   },
   {
    "duration": 22,
    "start_time": "2023-02-17T12:34:30.310Z"
   },
   {
    "duration": 308,
    "start_time": "2023-02-17T12:34:30.334Z"
   },
   {
    "duration": 4,
    "start_time": "2023-02-17T12:34:30.644Z"
   },
   {
    "duration": 22,
    "start_time": "2023-02-17T12:34:30.650Z"
   },
   {
    "duration": 12,
    "start_time": "2023-02-17T12:34:30.706Z"
   },
   {
    "duration": 4,
    "start_time": "2023-02-17T12:34:30.804Z"
   },
   {
    "duration": 18,
    "start_time": "2023-02-17T12:34:30.809Z"
   },
   {
    "duration": 11,
    "start_time": "2023-02-17T12:34:30.828Z"
   },
   {
    "duration": 15,
    "start_time": "2023-02-17T12:34:30.841Z"
   },
   {
    "duration": 22,
    "start_time": "2023-02-17T12:34:30.858Z"
   },
   {
    "duration": 29,
    "start_time": "2023-02-17T12:34:30.882Z"
   },
   {
    "duration": 41,
    "start_time": "2023-02-17T12:34:30.913Z"
   },
   {
    "duration": 4,
    "start_time": "2023-02-17T12:34:44.188Z"
   },
   {
    "duration": 5,
    "start_time": "2023-02-17T12:34:49.437Z"
   },
   {
    "duration": 4,
    "start_time": "2023-02-17T13:35:41.156Z"
   },
   {
    "duration": 3,
    "start_time": "2023-02-17T13:35:56.123Z"
   },
   {
    "duration": 6,
    "start_time": "2023-02-17T13:36:11.624Z"
   },
   {
    "duration": 6,
    "start_time": "2023-02-17T13:36:27.567Z"
   },
   {
    "duration": 236,
    "start_time": "2023-02-17T13:37:27.856Z"
   },
   {
    "duration": 4,
    "start_time": "2023-02-17T13:38:14.408Z"
   },
   {
    "duration": 9,
    "start_time": "2023-02-17T13:38:15.767Z"
   },
   {
    "duration": 7,
    "start_time": "2023-02-17T13:38:17.788Z"
   },
   {
    "duration": 8,
    "start_time": "2023-02-17T13:39:04.117Z"
   },
   {
    "duration": 8,
    "start_time": "2023-02-17T13:39:05.572Z"
   },
   {
    "duration": 6,
    "start_time": "2023-02-17T13:39:13.377Z"
   },
   {
    "duration": 8,
    "start_time": "2023-02-17T13:39:15.189Z"
   },
   {
    "duration": 8,
    "start_time": "2023-02-17T13:39:16.627Z"
   },
   {
    "duration": 1681,
    "start_time": "2023-02-18T08:58:23.966Z"
   },
   {
    "duration": 99,
    "start_time": "2023-02-18T08:58:25.649Z"
   },
   {
    "duration": 14,
    "start_time": "2023-02-18T08:58:25.751Z"
   },
   {
    "duration": 17,
    "start_time": "2023-02-18T08:58:25.768Z"
   },
   {
    "duration": 31,
    "start_time": "2023-02-18T08:58:25.787Z"
   },
   {
    "duration": 25,
    "start_time": "2023-02-18T08:58:25.820Z"
   },
   {
    "duration": 349,
    "start_time": "2023-02-18T08:58:25.846Z"
   },
   {
    "duration": 4,
    "start_time": "2023-02-18T08:58:26.197Z"
   },
   {
    "duration": 26,
    "start_time": "2023-02-18T08:58:26.202Z"
   },
   {
    "duration": 101,
    "start_time": "2023-02-18T08:58:26.231Z"
   },
   {
    "duration": 99,
    "start_time": "2023-02-18T08:58:26.335Z"
   },
   {
    "duration": 11,
    "start_time": "2023-02-18T08:58:26.437Z"
   },
   {
    "duration": 7,
    "start_time": "2023-02-18T08:58:26.460Z"
   },
   {
    "duration": 57,
    "start_time": "2023-02-18T08:58:26.468Z"
   },
   {
    "duration": 17,
    "start_time": "2023-02-18T08:58:26.528Z"
   },
   {
    "duration": 10,
    "start_time": "2023-02-18T08:58:26.547Z"
   },
   {
    "duration": 71,
    "start_time": "2023-02-18T08:58:26.559Z"
   },
   {
    "duration": 5,
    "start_time": "2023-02-18T08:58:26.632Z"
   },
   {
    "duration": 18,
    "start_time": "2023-02-18T08:58:26.723Z"
   },
   {
    "duration": 83,
    "start_time": "2023-02-18T08:58:26.743Z"
   },
   {
    "duration": 3,
    "start_time": "2023-02-18T09:32:35.933Z"
   },
   {
    "duration": 4,
    "start_time": "2023-02-18T09:32:52.581Z"
   },
   {
    "duration": 5,
    "start_time": "2023-02-18T09:33:42.533Z"
   },
   {
    "duration": 5,
    "start_time": "2023-02-18T09:33:44.740Z"
   },
   {
    "duration": 5,
    "start_time": "2023-02-18T09:33:45.467Z"
   },
   {
    "duration": 5,
    "start_time": "2023-02-18T09:33:46.233Z"
   },
   {
    "duration": 5,
    "start_time": "2023-02-18T09:33:47.291Z"
   },
   {
    "duration": 6,
    "start_time": "2023-02-18T09:33:49.286Z"
   },
   {
    "duration": 5,
    "start_time": "2023-02-18T09:33:50.665Z"
   },
   {
    "duration": 5,
    "start_time": "2023-02-18T09:33:51.536Z"
   },
   {
    "duration": 5,
    "start_time": "2023-02-18T09:33:52.188Z"
   },
   {
    "duration": 5,
    "start_time": "2023-02-18T09:33:52.690Z"
   },
   {
    "duration": 5,
    "start_time": "2023-02-18T09:33:52.997Z"
   },
   {
    "duration": 5,
    "start_time": "2023-02-18T09:33:53.298Z"
   },
   {
    "duration": 4,
    "start_time": "2023-02-18T09:33:53.547Z"
   },
   {
    "duration": 5,
    "start_time": "2023-02-18T09:33:53.837Z"
   },
   {
    "duration": 5,
    "start_time": "2023-02-18T09:33:54.087Z"
   },
   {
    "duration": 5,
    "start_time": "2023-02-18T09:33:54.371Z"
   },
   {
    "duration": 5,
    "start_time": "2023-02-18T09:33:54.690Z"
   },
   {
    "duration": 5,
    "start_time": "2023-02-18T09:33:54.969Z"
   },
   {
    "duration": 6,
    "start_time": "2023-02-18T09:33:55.256Z"
   },
   {
    "duration": 6,
    "start_time": "2023-02-18T09:33:55.535Z"
   },
   {
    "duration": 5,
    "start_time": "2023-02-18T09:33:55.833Z"
   },
   {
    "duration": 5,
    "start_time": "2023-02-18T09:33:56.066Z"
   },
   {
    "duration": 6,
    "start_time": "2023-02-18T09:33:56.351Z"
   },
   {
    "duration": 5,
    "start_time": "2023-02-18T09:33:56.596Z"
   },
   {
    "duration": 5,
    "start_time": "2023-02-18T09:33:56.874Z"
   },
   {
    "duration": 5,
    "start_time": "2023-02-18T09:33:57.170Z"
   },
   {
    "duration": 4,
    "start_time": "2023-02-18T09:33:57.449Z"
   },
   {
    "duration": 5,
    "start_time": "2023-02-18T09:33:57.733Z"
   },
   {
    "duration": 5,
    "start_time": "2023-02-18T09:33:58.032Z"
   },
   {
    "duration": 6,
    "start_time": "2023-02-18T09:33:58.294Z"
   },
   {
    "duration": 5,
    "start_time": "2023-02-18T09:33:58.663Z"
   },
   {
    "duration": 5,
    "start_time": "2023-02-18T09:33:58.998Z"
   },
   {
    "duration": 6,
    "start_time": "2023-02-18T09:33:59.437Z"
   },
   {
    "duration": 6,
    "start_time": "2023-02-18T09:33:59.875Z"
   },
   {
    "duration": 6,
    "start_time": "2023-02-18T09:34:00.358Z"
   },
   {
    "duration": 6,
    "start_time": "2023-02-18T09:34:01.035Z"
   },
   {
    "duration": 6,
    "start_time": "2023-02-18T09:34:01.232Z"
   },
   {
    "duration": 4,
    "start_time": "2023-02-18T09:34:01.646Z"
   },
   {
    "duration": 4,
    "start_time": "2023-02-18T09:34:01.775Z"
   },
   {
    "duration": 5,
    "start_time": "2023-02-18T09:34:02.234Z"
   },
   {
    "duration": 3,
    "start_time": "2023-02-18T09:34:11.338Z"
   },
   {
    "duration": 4,
    "start_time": "2023-02-18T09:34:12.255Z"
   },
   {
    "duration": 4,
    "start_time": "2023-02-18T09:34:13.704Z"
   },
   {
    "duration": 6,
    "start_time": "2023-02-18T09:34:14.494Z"
   },
   {
    "duration": 4,
    "start_time": "2023-02-18T09:34:16.830Z"
   },
   {
    "duration": 4,
    "start_time": "2023-02-18T09:34:18.490Z"
   },
   {
    "duration": 4,
    "start_time": "2023-02-18T09:34:19.677Z"
   },
   {
    "duration": 5,
    "start_time": "2023-02-18T09:34:20.637Z"
   },
   {
    "duration": 4,
    "start_time": "2023-02-18T09:34:21.675Z"
   },
   {
    "duration": 6,
    "start_time": "2023-02-18T09:34:22.543Z"
   },
   {
    "duration": 3,
    "start_time": "2023-02-18T09:34:23.744Z"
   },
   {
    "duration": 5,
    "start_time": "2023-02-18T09:34:24.560Z"
   },
   {
    "duration": 3,
    "start_time": "2023-02-18T09:34:26.158Z"
   },
   {
    "duration": 4,
    "start_time": "2023-02-18T09:34:26.864Z"
   },
   {
    "duration": 4,
    "start_time": "2023-02-18T09:34:27.260Z"
   },
   {
    "duration": 4,
    "start_time": "2023-02-18T09:34:27.540Z"
   },
   {
    "duration": 5,
    "start_time": "2023-02-18T09:34:28.032Z"
   },
   {
    "duration": 4,
    "start_time": "2023-02-18T09:34:28.541Z"
   },
   {
    "duration": 4,
    "start_time": "2023-02-18T09:34:28.885Z"
   },
   {
    "duration": 2,
    "start_time": "2023-02-18T09:34:29.570Z"
   },
   {
    "duration": 4,
    "start_time": "2023-02-18T09:34:30.377Z"
   },
   {
    "duration": 5,
    "start_time": "2023-02-18T09:34:30.796Z"
   },
   {
    "duration": 4,
    "start_time": "2023-02-18T09:34:31.184Z"
   },
   {
    "duration": 3,
    "start_time": "2023-02-18T09:34:31.857Z"
   },
   {
    "duration": 5,
    "start_time": "2023-02-18T09:34:32.551Z"
   },
   {
    "duration": 5,
    "start_time": "2023-02-18T09:34:32.980Z"
   },
   {
    "duration": 4,
    "start_time": "2023-02-18T09:34:33.337Z"
   },
   {
    "duration": 3,
    "start_time": "2023-02-18T09:34:34.088Z"
   },
   {
    "duration": 4,
    "start_time": "2023-02-18T09:37:05.337Z"
   },
   {
    "duration": 4,
    "start_time": "2023-02-18T09:37:06.745Z"
   },
   {
    "duration": 4,
    "start_time": "2023-02-18T09:37:10.065Z"
   },
   {
    "duration": 5,
    "start_time": "2023-02-18T09:37:10.916Z"
   },
   {
    "duration": 9,
    "start_time": "2023-02-18T09:37:11.432Z"
   },
   {
    "duration": 4,
    "start_time": "2023-02-18T09:37:11.945Z"
   },
   {
    "duration": 6,
    "start_time": "2023-02-18T09:37:12.888Z"
   },
   {
    "duration": 5,
    "start_time": "2023-02-18T09:37:13.341Z"
   },
   {
    "duration": 3,
    "start_time": "2023-02-18T09:37:14.443Z"
   },
   {
    "duration": 5,
    "start_time": "2023-02-18T09:37:14.827Z"
   },
   {
    "duration": 6,
    "start_time": "2023-02-18T09:37:15.070Z"
   },
   {
    "duration": 5,
    "start_time": "2023-02-18T09:37:15.841Z"
   },
   {
    "duration": 4,
    "start_time": "2023-02-18T09:37:16.736Z"
   },
   {
    "duration": 5,
    "start_time": "2023-02-18T09:37:17.337Z"
   },
   {
    "duration": 5,
    "start_time": "2023-02-18T09:37:18.242Z"
   },
   {
    "duration": 6,
    "start_time": "2023-02-18T09:37:18.643Z"
   },
   {
    "duration": 3,
    "start_time": "2023-02-18T09:37:19.292Z"
   },
   {
    "duration": 4,
    "start_time": "2023-02-18T09:37:19.864Z"
   },
   {
    "duration": 4,
    "start_time": "2023-02-18T09:37:20.477Z"
   },
   {
    "duration": 5,
    "start_time": "2023-02-18T09:37:21.185Z"
   },
   {
    "duration": 5,
    "start_time": "2023-02-18T09:37:21.933Z"
   },
   {
    "duration": 9,
    "start_time": "2023-02-18T09:37:22.533Z"
   },
   {
    "duration": 5,
    "start_time": "2023-02-18T09:37:23.234Z"
   },
   {
    "duration": 5,
    "start_time": "2023-02-18T09:37:23.885Z"
   },
   {
    "duration": 4,
    "start_time": "2023-02-18T09:37:24.577Z"
   },
   {
    "duration": 6,
    "start_time": "2023-02-18T09:37:25.331Z"
   },
   {
    "duration": 5,
    "start_time": "2023-02-18T09:37:26.157Z"
   },
   {
    "duration": 5,
    "start_time": "2023-02-18T09:37:26.941Z"
   },
   {
    "duration": 3,
    "start_time": "2023-02-18T09:37:27.740Z"
   },
   {
    "duration": 5,
    "start_time": "2023-02-18T09:37:28.630Z"
   },
   {
    "duration": 4,
    "start_time": "2023-02-18T09:37:30.337Z"
   },
   {
    "duration": 5,
    "start_time": "2023-02-18T09:37:30.982Z"
   },
   {
    "duration": 3,
    "start_time": "2023-02-18T09:37:31.742Z"
   },
   {
    "duration": 5,
    "start_time": "2023-02-18T09:37:32.377Z"
   },
   {
    "duration": 4,
    "start_time": "2023-02-18T09:37:33.142Z"
   },
   {
    "duration": 6,
    "start_time": "2023-02-18T09:37:34.037Z"
   },
   {
    "duration": 3,
    "start_time": "2023-02-18T09:37:34.949Z"
   },
   {
    "duration": 5,
    "start_time": "2023-02-18T09:37:35.655Z"
   },
   {
    "duration": 5,
    "start_time": "2023-02-18T09:37:36.389Z"
   },
   {
    "duration": 5,
    "start_time": "2023-02-18T09:37:37.654Z"
   },
   {
    "duration": 4,
    "start_time": "2023-02-18T09:37:38.335Z"
   },
   {
    "duration": 4,
    "start_time": "2023-02-18T09:37:39.159Z"
   },
   {
    "duration": 3,
    "start_time": "2023-02-18T09:44:48.173Z"
   },
   {
    "duration": 3,
    "start_time": "2023-02-18T09:44:53.271Z"
   },
   {
    "duration": 4,
    "start_time": "2023-02-18T09:44:56.773Z"
   },
   {
    "duration": 3,
    "start_time": "2023-02-18T09:45:25.134Z"
   },
   {
    "duration": 3,
    "start_time": "2023-02-18T09:46:41.527Z"
   },
   {
    "duration": 3,
    "start_time": "2023-02-18T09:47:38.235Z"
   },
   {
    "duration": 3,
    "start_time": "2023-02-18T09:50:46.145Z"
   },
   {
    "duration": 2,
    "start_time": "2023-02-18T09:50:48.609Z"
   },
   {
    "duration": 4,
    "start_time": "2023-02-18T09:51:09.493Z"
   },
   {
    "duration": 16,
    "start_time": "2023-02-18T09:51:48.956Z"
   },
   {
    "duration": 11,
    "start_time": "2023-02-18T09:52:03.867Z"
   },
   {
    "duration": 11,
    "start_time": "2023-02-18T09:53:22.582Z"
   },
   {
    "duration": 11,
    "start_time": "2023-02-18T09:53:31.120Z"
   },
   {
    "duration": 1787,
    "start_time": "2023-02-18T10:32:11.315Z"
   },
   {
    "duration": 31,
    "start_time": "2023-02-18T10:32:13.104Z"
   },
   {
    "duration": 14,
    "start_time": "2023-02-18T10:32:13.137Z"
   },
   {
    "duration": 11,
    "start_time": "2023-02-18T10:32:13.153Z"
   },
   {
    "duration": 29,
    "start_time": "2023-02-18T10:32:13.166Z"
   },
   {
    "duration": 14,
    "start_time": "2023-02-18T10:32:13.197Z"
   },
   {
    "duration": 312,
    "start_time": "2023-02-18T10:32:13.213Z"
   },
   {
    "duration": 5,
    "start_time": "2023-02-18T10:32:13.527Z"
   },
   {
    "duration": 14,
    "start_time": "2023-02-18T10:32:13.533Z"
   },
   {
    "duration": 99,
    "start_time": "2023-02-18T10:32:13.594Z"
   },
   {
    "duration": 5,
    "start_time": "2023-02-18T10:32:13.695Z"
   },
   {
    "duration": 112,
    "start_time": "2023-02-18T10:32:15.292Z"
   },
   {
    "duration": 4,
    "start_time": "2023-02-18T10:32:48.852Z"
   },
   {
    "duration": 1563,
    "start_time": "2023-02-18T19:54:40.617Z"
   },
   {
    "duration": 80,
    "start_time": "2023-02-18T19:54:42.182Z"
   },
   {
    "duration": 13,
    "start_time": "2023-02-18T19:54:42.263Z"
   },
   {
    "duration": 11,
    "start_time": "2023-02-18T19:54:42.278Z"
   },
   {
    "duration": 25,
    "start_time": "2023-02-18T19:54:42.291Z"
   },
   {
    "duration": 12,
    "start_time": "2023-02-18T19:54:42.317Z"
   },
   {
    "duration": 318,
    "start_time": "2023-02-18T19:54:42.330Z"
   },
   {
    "duration": 4,
    "start_time": "2023-02-18T19:54:42.650Z"
   },
   {
    "duration": 59,
    "start_time": "2023-02-18T19:54:42.655Z"
   },
   {
    "duration": 92,
    "start_time": "2023-02-18T19:54:42.718Z"
   },
   {
    "duration": 6,
    "start_time": "2023-02-18T19:54:42.813Z"
   },
   {
    "duration": 90,
    "start_time": "2023-02-18T19:54:42.821Z"
   },
   {
    "duration": 4,
    "start_time": "2023-02-18T19:54:42.913Z"
   },
   {
    "duration": 8,
    "start_time": "2023-02-18T19:54:42.919Z"
   },
   {
    "duration": 97,
    "start_time": "2023-02-18T19:54:42.929Z"
   },
   {
    "duration": 32,
    "start_time": "2023-02-18T19:54:43.027Z"
   },
   {
    "duration": 51,
    "start_time": "2023-02-18T19:54:43.060Z"
   },
   {
    "duration": 98,
    "start_time": "2023-02-18T19:54:43.113Z"
   },
   {
    "duration": 6,
    "start_time": "2023-02-18T19:54:43.213Z"
   },
   {
    "duration": 7,
    "start_time": "2023-02-18T19:54:43.220Z"
   },
   {
    "duration": 12,
    "start_time": "2023-02-18T19:54:43.228Z"
   },
   {
    "duration": 181,
    "start_time": "2023-02-18T19:54:43.242Z"
   },
   {
    "duration": 1380,
    "start_time": "2023-02-19T09:06:18.881Z"
   },
   {
    "duration": 81,
    "start_time": "2023-02-19T09:06:20.264Z"
   },
   {
    "duration": 15,
    "start_time": "2023-02-19T09:06:20.347Z"
   },
   {
    "duration": 22,
    "start_time": "2023-02-19T09:06:20.364Z"
   },
   {
    "duration": 33,
    "start_time": "2023-02-19T09:06:20.389Z"
   },
   {
    "duration": 14,
    "start_time": "2023-02-19T09:06:20.424Z"
   },
   {
    "duration": 335,
    "start_time": "2023-02-19T09:06:20.440Z"
   },
   {
    "duration": 4,
    "start_time": "2023-02-19T09:06:20.777Z"
   },
   {
    "duration": 24,
    "start_time": "2023-02-19T09:06:20.783Z"
   },
   {
    "duration": 95,
    "start_time": "2023-02-19T09:06:20.810Z"
   },
   {
    "duration": 89,
    "start_time": "2023-02-19T09:06:20.911Z"
   },
   {
    "duration": 20,
    "start_time": "2023-02-19T09:06:21.002Z"
   },
   {
    "duration": 8,
    "start_time": "2023-02-19T09:06:21.025Z"
   },
   {
    "duration": 7,
    "start_time": "2023-02-19T09:06:21.034Z"
   },
   {
    "duration": 13,
    "start_time": "2023-02-19T09:06:21.043Z"
   },
   {
    "duration": 12,
    "start_time": "2023-02-19T09:06:21.058Z"
   },
   {
    "duration": 33,
    "start_time": "2023-02-19T09:06:21.072Z"
   },
   {
    "duration": 108,
    "start_time": "2023-02-19T09:06:21.107Z"
   },
   {
    "duration": 82,
    "start_time": "2023-02-19T09:06:21.217Z"
   },
   {
    "duration": 3,
    "start_time": "2023-02-19T09:06:21.301Z"
   },
   {
    "duration": 18,
    "start_time": "2023-02-19T09:06:21.306Z"
   },
   {
    "duration": 114,
    "start_time": "2023-02-19T09:06:21.398Z"
   }
  ],
  "kernelspec": {
   "display_name": "Python 3 (ipykernel)",
   "language": "python",
   "name": "python3"
  },
  "language_info": {
   "codemirror_mode": {
    "name": "ipython",
    "version": 3
   },
   "file_extension": ".py",
   "mimetype": "text/x-python",
   "name": "python",
   "nbconvert_exporter": "python",
   "pygments_lexer": "ipython3",
   "version": "3.9.5"
  },
  "toc": {
   "base_numbering": 1,
   "nav_menu": {},
   "number_sections": true,
   "sideBar": true,
   "skip_h1_title": true,
   "title_cell": "Содержание",
   "title_sidebar": "Contents",
   "toc_cell": true,
   "toc_position": {
    "height": "calc(100% - 180px)",
    "left": "10px",
    "top": "150px",
    "width": "313.854px"
   },
   "toc_section_display": true,
   "toc_window_display": true
  }
 },
 "nbformat": 4,
 "nbformat_minor": 2
}
