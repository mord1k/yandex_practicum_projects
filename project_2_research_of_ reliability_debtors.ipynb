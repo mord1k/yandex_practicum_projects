{
 "cells": [
  {
   "cell_type": "markdown",
   "id": "ec010b6f",
   "metadata": {},
   "source": [
    "# Исследование надежности заемщиков"
   ]
  },
  {
   "cell_type": "markdown",
   "id": "a49d8d4c",
   "metadata": {},
   "source": [
    "## Открытие таблицы и изучение общей информацию о данных"
   ]
  },
  {
   "cell_type": "code",
   "execution_count": 1,
   "id": "70e28c01",
   "metadata": {},
   "outputs": [],
   "source": [
    "import pandas as pd"
   ]
  },
  {
   "cell_type": "code",
   "execution_count": 2,
   "id": "80c0b23c",
   "metadata": {},
   "outputs": [],
   "source": [
    "try:\n",
    "    data = pd.read_csv('/datasets/data.csv')\n",
    "except:\n",
    "    data = pd.read_csv('https://code.s3.yandex.net/datasets/data.csv') # чтение файла"
   ]
  },
  {
   "cell_type": "code",
   "execution_count": 3,
   "id": "be9beffa",
   "metadata": {},
   "outputs": [
    {
     "data": {
      "text/html": [
       "<div>\n",
       "<style scoped>\n",
       "    .dataframe tbody tr th:only-of-type {\n",
       "        vertical-align: middle;\n",
       "    }\n",
       "\n",
       "    .dataframe tbody tr th {\n",
       "        vertical-align: top;\n",
       "    }\n",
       "\n",
       "    .dataframe thead th {\n",
       "        text-align: right;\n",
       "    }\n",
       "</style>\n",
       "<table border=\"1\" class=\"dataframe\">\n",
       "  <thead>\n",
       "    <tr style=\"text-align: right;\">\n",
       "      <th></th>\n",
       "      <th>children</th>\n",
       "      <th>days_employed</th>\n",
       "      <th>dob_years</th>\n",
       "      <th>education</th>\n",
       "      <th>education_id</th>\n",
       "      <th>family_status</th>\n",
       "      <th>family_status_id</th>\n",
       "      <th>gender</th>\n",
       "      <th>income_type</th>\n",
       "      <th>debt</th>\n",
       "      <th>total_income</th>\n",
       "      <th>purpose</th>\n",
       "    </tr>\n",
       "  </thead>\n",
       "  <tbody>\n",
       "    <tr>\n",
       "      <th>0</th>\n",
       "      <td>1</td>\n",
       "      <td>-8437.673028</td>\n",
       "      <td>42</td>\n",
       "      <td>высшее</td>\n",
       "      <td>0</td>\n",
       "      <td>женат / замужем</td>\n",
       "      <td>0</td>\n",
       "      <td>F</td>\n",
       "      <td>сотрудник</td>\n",
       "      <td>0</td>\n",
       "      <td>253875.639453</td>\n",
       "      <td>покупка жилья</td>\n",
       "    </tr>\n",
       "    <tr>\n",
       "      <th>1</th>\n",
       "      <td>1</td>\n",
       "      <td>-4024.803754</td>\n",
       "      <td>36</td>\n",
       "      <td>среднее</td>\n",
       "      <td>1</td>\n",
       "      <td>женат / замужем</td>\n",
       "      <td>0</td>\n",
       "      <td>F</td>\n",
       "      <td>сотрудник</td>\n",
       "      <td>0</td>\n",
       "      <td>112080.014102</td>\n",
       "      <td>приобретение автомобиля</td>\n",
       "    </tr>\n",
       "    <tr>\n",
       "      <th>2</th>\n",
       "      <td>0</td>\n",
       "      <td>-5623.422610</td>\n",
       "      <td>33</td>\n",
       "      <td>Среднее</td>\n",
       "      <td>1</td>\n",
       "      <td>женат / замужем</td>\n",
       "      <td>0</td>\n",
       "      <td>M</td>\n",
       "      <td>сотрудник</td>\n",
       "      <td>0</td>\n",
       "      <td>145885.952297</td>\n",
       "      <td>покупка жилья</td>\n",
       "    </tr>\n",
       "    <tr>\n",
       "      <th>3</th>\n",
       "      <td>3</td>\n",
       "      <td>-4124.747207</td>\n",
       "      <td>32</td>\n",
       "      <td>среднее</td>\n",
       "      <td>1</td>\n",
       "      <td>женат / замужем</td>\n",
       "      <td>0</td>\n",
       "      <td>M</td>\n",
       "      <td>сотрудник</td>\n",
       "      <td>0</td>\n",
       "      <td>267628.550329</td>\n",
       "      <td>дополнительное образование</td>\n",
       "    </tr>\n",
       "    <tr>\n",
       "      <th>4</th>\n",
       "      <td>0</td>\n",
       "      <td>340266.072047</td>\n",
       "      <td>53</td>\n",
       "      <td>среднее</td>\n",
       "      <td>1</td>\n",
       "      <td>гражданский брак</td>\n",
       "      <td>1</td>\n",
       "      <td>F</td>\n",
       "      <td>пенсионер</td>\n",
       "      <td>0</td>\n",
       "      <td>158616.077870</td>\n",
       "      <td>сыграть свадьбу</td>\n",
       "    </tr>\n",
       "    <tr>\n",
       "      <th>5</th>\n",
       "      <td>0</td>\n",
       "      <td>-926.185831</td>\n",
       "      <td>27</td>\n",
       "      <td>высшее</td>\n",
       "      <td>0</td>\n",
       "      <td>гражданский брак</td>\n",
       "      <td>1</td>\n",
       "      <td>M</td>\n",
       "      <td>компаньон</td>\n",
       "      <td>0</td>\n",
       "      <td>255763.565419</td>\n",
       "      <td>покупка жилья</td>\n",
       "    </tr>\n",
       "    <tr>\n",
       "      <th>6</th>\n",
       "      <td>0</td>\n",
       "      <td>-2879.202052</td>\n",
       "      <td>43</td>\n",
       "      <td>высшее</td>\n",
       "      <td>0</td>\n",
       "      <td>женат / замужем</td>\n",
       "      <td>0</td>\n",
       "      <td>F</td>\n",
       "      <td>компаньон</td>\n",
       "      <td>0</td>\n",
       "      <td>240525.971920</td>\n",
       "      <td>операции с жильем</td>\n",
       "    </tr>\n",
       "    <tr>\n",
       "      <th>7</th>\n",
       "      <td>0</td>\n",
       "      <td>-152.779569</td>\n",
       "      <td>50</td>\n",
       "      <td>СРЕДНЕЕ</td>\n",
       "      <td>1</td>\n",
       "      <td>женат / замужем</td>\n",
       "      <td>0</td>\n",
       "      <td>M</td>\n",
       "      <td>сотрудник</td>\n",
       "      <td>0</td>\n",
       "      <td>135823.934197</td>\n",
       "      <td>образование</td>\n",
       "    </tr>\n",
       "    <tr>\n",
       "      <th>8</th>\n",
       "      <td>2</td>\n",
       "      <td>-6929.865299</td>\n",
       "      <td>35</td>\n",
       "      <td>ВЫСШЕЕ</td>\n",
       "      <td>0</td>\n",
       "      <td>гражданский брак</td>\n",
       "      <td>1</td>\n",
       "      <td>F</td>\n",
       "      <td>сотрудник</td>\n",
       "      <td>0</td>\n",
       "      <td>95856.832424</td>\n",
       "      <td>на проведение свадьбы</td>\n",
       "    </tr>\n",
       "    <tr>\n",
       "      <th>9</th>\n",
       "      <td>0</td>\n",
       "      <td>-2188.756445</td>\n",
       "      <td>41</td>\n",
       "      <td>среднее</td>\n",
       "      <td>1</td>\n",
       "      <td>женат / замужем</td>\n",
       "      <td>0</td>\n",
       "      <td>M</td>\n",
       "      <td>сотрудник</td>\n",
       "      <td>0</td>\n",
       "      <td>144425.938277</td>\n",
       "      <td>покупка жилья для семьи</td>\n",
       "    </tr>\n",
       "    <tr>\n",
       "      <th>10</th>\n",
       "      <td>2</td>\n",
       "      <td>-4171.483647</td>\n",
       "      <td>36</td>\n",
       "      <td>высшее</td>\n",
       "      <td>0</td>\n",
       "      <td>женат / замужем</td>\n",
       "      <td>0</td>\n",
       "      <td>M</td>\n",
       "      <td>компаньон</td>\n",
       "      <td>0</td>\n",
       "      <td>113943.491460</td>\n",
       "      <td>покупка недвижимости</td>\n",
       "    </tr>\n",
       "    <tr>\n",
       "      <th>11</th>\n",
       "      <td>0</td>\n",
       "      <td>-792.701887</td>\n",
       "      <td>40</td>\n",
       "      <td>среднее</td>\n",
       "      <td>1</td>\n",
       "      <td>женат / замужем</td>\n",
       "      <td>0</td>\n",
       "      <td>F</td>\n",
       "      <td>сотрудник</td>\n",
       "      <td>0</td>\n",
       "      <td>77069.234271</td>\n",
       "      <td>покупка коммерческой недвижимости</td>\n",
       "    </tr>\n",
       "    <tr>\n",
       "      <th>12</th>\n",
       "      <td>0</td>\n",
       "      <td>NaN</td>\n",
       "      <td>65</td>\n",
       "      <td>среднее</td>\n",
       "      <td>1</td>\n",
       "      <td>гражданский брак</td>\n",
       "      <td>1</td>\n",
       "      <td>M</td>\n",
       "      <td>пенсионер</td>\n",
       "      <td>0</td>\n",
       "      <td>NaN</td>\n",
       "      <td>сыграть свадьбу</td>\n",
       "    </tr>\n",
       "    <tr>\n",
       "      <th>13</th>\n",
       "      <td>0</td>\n",
       "      <td>-1846.641941</td>\n",
       "      <td>54</td>\n",
       "      <td>неоконченное высшее</td>\n",
       "      <td>2</td>\n",
       "      <td>женат / замужем</td>\n",
       "      <td>0</td>\n",
       "      <td>F</td>\n",
       "      <td>сотрудник</td>\n",
       "      <td>0</td>\n",
       "      <td>130458.228857</td>\n",
       "      <td>приобретение автомобиля</td>\n",
       "    </tr>\n",
       "    <tr>\n",
       "      <th>14</th>\n",
       "      <td>0</td>\n",
       "      <td>-1844.956182</td>\n",
       "      <td>56</td>\n",
       "      <td>высшее</td>\n",
       "      <td>0</td>\n",
       "      <td>гражданский брак</td>\n",
       "      <td>1</td>\n",
       "      <td>F</td>\n",
       "      <td>компаньон</td>\n",
       "      <td>1</td>\n",
       "      <td>165127.911772</td>\n",
       "      <td>покупка жилой недвижимости</td>\n",
       "    </tr>\n",
       "    <tr>\n",
       "      <th>15</th>\n",
       "      <td>1</td>\n",
       "      <td>-972.364419</td>\n",
       "      <td>26</td>\n",
       "      <td>среднее</td>\n",
       "      <td>1</td>\n",
       "      <td>женат / замужем</td>\n",
       "      <td>0</td>\n",
       "      <td>F</td>\n",
       "      <td>сотрудник</td>\n",
       "      <td>0</td>\n",
       "      <td>116820.904450</td>\n",
       "      <td>строительство собственной недвижимости</td>\n",
       "    </tr>\n",
       "    <tr>\n",
       "      <th>16</th>\n",
       "      <td>0</td>\n",
       "      <td>-1719.934226</td>\n",
       "      <td>35</td>\n",
       "      <td>среднее</td>\n",
       "      <td>1</td>\n",
       "      <td>женат / замужем</td>\n",
       "      <td>0</td>\n",
       "      <td>F</td>\n",
       "      <td>сотрудник</td>\n",
       "      <td>0</td>\n",
       "      <td>289202.704229</td>\n",
       "      <td>недвижимость</td>\n",
       "    </tr>\n",
       "    <tr>\n",
       "      <th>17</th>\n",
       "      <td>0</td>\n",
       "      <td>-2369.999720</td>\n",
       "      <td>33</td>\n",
       "      <td>высшее</td>\n",
       "      <td>0</td>\n",
       "      <td>гражданский брак</td>\n",
       "      <td>1</td>\n",
       "      <td>M</td>\n",
       "      <td>сотрудник</td>\n",
       "      <td>0</td>\n",
       "      <td>90410.586745</td>\n",
       "      <td>строительство недвижимости</td>\n",
       "    </tr>\n",
       "    <tr>\n",
       "      <th>18</th>\n",
       "      <td>0</td>\n",
       "      <td>400281.136913</td>\n",
       "      <td>53</td>\n",
       "      <td>среднее</td>\n",
       "      <td>1</td>\n",
       "      <td>вдовец / вдова</td>\n",
       "      <td>2</td>\n",
       "      <td>F</td>\n",
       "      <td>пенсионер</td>\n",
       "      <td>0</td>\n",
       "      <td>56823.777243</td>\n",
       "      <td>на покупку подержанного автомобиля</td>\n",
       "    </tr>\n",
       "    <tr>\n",
       "      <th>19</th>\n",
       "      <td>0</td>\n",
       "      <td>-10038.818549</td>\n",
       "      <td>48</td>\n",
       "      <td>СРЕДНЕЕ</td>\n",
       "      <td>1</td>\n",
       "      <td>в разводе</td>\n",
       "      <td>3</td>\n",
       "      <td>F</td>\n",
       "      <td>сотрудник</td>\n",
       "      <td>0</td>\n",
       "      <td>242831.107982</td>\n",
       "      <td>на покупку своего автомобиля</td>\n",
       "    </tr>\n",
       "  </tbody>\n",
       "</table>\n",
       "</div>"
      ],
      "text/plain": [
       "    children  days_employed  dob_years            education  education_id  \\\n",
       "0          1   -8437.673028         42               высшее             0   \n",
       "1          1   -4024.803754         36              среднее             1   \n",
       "2          0   -5623.422610         33              Среднее             1   \n",
       "3          3   -4124.747207         32              среднее             1   \n",
       "4          0  340266.072047         53              среднее             1   \n",
       "5          0    -926.185831         27               высшее             0   \n",
       "6          0   -2879.202052         43               высшее             0   \n",
       "7          0    -152.779569         50              СРЕДНЕЕ             1   \n",
       "8          2   -6929.865299         35               ВЫСШЕЕ             0   \n",
       "9          0   -2188.756445         41              среднее             1   \n",
       "10         2   -4171.483647         36               высшее             0   \n",
       "11         0    -792.701887         40              среднее             1   \n",
       "12         0            NaN         65              среднее             1   \n",
       "13         0   -1846.641941         54  неоконченное высшее             2   \n",
       "14         0   -1844.956182         56               высшее             0   \n",
       "15         1    -972.364419         26              среднее             1   \n",
       "16         0   -1719.934226         35              среднее             1   \n",
       "17         0   -2369.999720         33               высшее             0   \n",
       "18         0  400281.136913         53              среднее             1   \n",
       "19         0  -10038.818549         48              СРЕДНЕЕ             1   \n",
       "\n",
       "       family_status  family_status_id gender income_type  debt  \\\n",
       "0    женат / замужем                 0      F   сотрудник     0   \n",
       "1    женат / замужем                 0      F   сотрудник     0   \n",
       "2    женат / замужем                 0      M   сотрудник     0   \n",
       "3    женат / замужем                 0      M   сотрудник     0   \n",
       "4   гражданский брак                 1      F   пенсионер     0   \n",
       "5   гражданский брак                 1      M   компаньон     0   \n",
       "6    женат / замужем                 0      F   компаньон     0   \n",
       "7    женат / замужем                 0      M   сотрудник     0   \n",
       "8   гражданский брак                 1      F   сотрудник     0   \n",
       "9    женат / замужем                 0      M   сотрудник     0   \n",
       "10   женат / замужем                 0      M   компаньон     0   \n",
       "11   женат / замужем                 0      F   сотрудник     0   \n",
       "12  гражданский брак                 1      M   пенсионер     0   \n",
       "13   женат / замужем                 0      F   сотрудник     0   \n",
       "14  гражданский брак                 1      F   компаньон     1   \n",
       "15   женат / замужем                 0      F   сотрудник     0   \n",
       "16   женат / замужем                 0      F   сотрудник     0   \n",
       "17  гражданский брак                 1      M   сотрудник     0   \n",
       "18    вдовец / вдова                 2      F   пенсионер     0   \n",
       "19         в разводе                 3      F   сотрудник     0   \n",
       "\n",
       "     total_income                                 purpose  \n",
       "0   253875.639453                           покупка жилья  \n",
       "1   112080.014102                 приобретение автомобиля  \n",
       "2   145885.952297                           покупка жилья  \n",
       "3   267628.550329              дополнительное образование  \n",
       "4   158616.077870                         сыграть свадьбу  \n",
       "5   255763.565419                           покупка жилья  \n",
       "6   240525.971920                       операции с жильем  \n",
       "7   135823.934197                             образование  \n",
       "8    95856.832424                   на проведение свадьбы  \n",
       "9   144425.938277                 покупка жилья для семьи  \n",
       "10  113943.491460                    покупка недвижимости  \n",
       "11   77069.234271       покупка коммерческой недвижимости  \n",
       "12            NaN                         сыграть свадьбу  \n",
       "13  130458.228857                 приобретение автомобиля  \n",
       "14  165127.911772              покупка жилой недвижимости  \n",
       "15  116820.904450  строительство собственной недвижимости  \n",
       "16  289202.704229                            недвижимость  \n",
       "17   90410.586745              строительство недвижимости  \n",
       "18   56823.777243      на покупку подержанного автомобиля  \n",
       "19  242831.107982            на покупку своего автомобиля  "
      ]
     },
     "execution_count": 3,
     "metadata": {},
     "output_type": "execute_result"
    }
   ],
   "source": [
    "data.head(20) # первые 20 строчек датафрейма data"
   ]
  },
  {
   "cell_type": "code",
   "execution_count": 4,
   "id": "3132b312",
   "metadata": {},
   "outputs": [
    {
     "name": "stdout",
     "output_type": "stream",
     "text": [
      "<class 'pandas.core.frame.DataFrame'>\n",
      "RangeIndex: 21525 entries, 0 to 21524\n",
      "Data columns (total 12 columns):\n",
      " #   Column            Non-Null Count  Dtype  \n",
      "---  ------            --------------  -----  \n",
      " 0   children          21525 non-null  int64  \n",
      " 1   days_employed     19351 non-null  float64\n",
      " 2   dob_years         21525 non-null  int64  \n",
      " 3   education         21525 non-null  object \n",
      " 4   education_id      21525 non-null  int64  \n",
      " 5   family_status     21525 non-null  object \n",
      " 6   family_status_id  21525 non-null  int64  \n",
      " 7   gender            21525 non-null  object \n",
      " 8   income_type       21525 non-null  object \n",
      " 9   debt              21525 non-null  int64  \n",
      " 10  total_income      19351 non-null  float64\n",
      " 11  purpose           21525 non-null  object \n",
      "dtypes: float64(2), int64(5), object(5)\n",
      "memory usage: 2.0+ MB\n"
     ]
    }
   ],
   "source": [
    "data.info()"
   ]
  },
  {
   "cell_type": "markdown",
   "id": "91e19a23",
   "metadata": {},
   "source": [
    "## Предобработка данных"
   ]
  },
  {
   "cell_type": "markdown",
   "id": "58da3321",
   "metadata": {},
   "source": [
    "### Удаление пропусков"
   ]
  },
  {
   "cell_type": "code",
   "execution_count": 5,
   "id": "40926c56",
   "metadata": {},
   "outputs": [
    {
     "data": {
      "text/plain": [
       "children               0\n",
       "days_employed       2174\n",
       "dob_years              0\n",
       "education              0\n",
       "education_id           0\n",
       "family_status          0\n",
       "family_status_id       0\n",
       "gender                 0\n",
       "income_type            0\n",
       "debt                   0\n",
       "total_income        2174\n",
       "purpose                0\n",
       "dtype: int64"
      ]
     },
     "execution_count": 5,
     "metadata": {},
     "output_type": "execute_result"
    }
   ],
   "source": [
    "data.isna().sum()"
   ]
  },
  {
   "cell_type": "markdown",
   "id": "fd7df692",
   "metadata": {},
   "source": [
    "В двух столбцах есть пропущенные значения. Один из них — `days_employed`. Пропуски в этом столбце обработаем на следующем этапе. Другой столбец с пропущенными значениями — `total_income` — хранит данные о доходах. На сумму дохода сильнее всего влияет тип занятости, поэтому заполнить пропуски в этом столбце нужно медианным значением по каждому типу из столбца `income_type`. Например, у человека с типом занятости `сотрудник` пропуск в столбце `total_income` должен быть заполнен медианным доходом среди всех записей с тем же типом."
   ]
  },
  {
   "cell_type": "code",
   "execution_count": 6,
   "id": "b6545cfe",
   "metadata": {},
   "outputs": [],
   "source": [
    "for t in data['income_type'].unique():\n",
    "    data.loc[(data['income_type'] == t) & (data['total_income'].isna()), 'total_income'] = \\\n",
    "    data.loc[(data['income_type'] == t), 'total_income'].median()"
   ]
  },
  {
   "cell_type": "markdown",
   "id": "e8a04b0c",
   "metadata": {},
   "source": [
    "### Обработка аномальных значений"
   ]
  },
  {
   "cell_type": "markdown",
   "id": "9b2f9f2b",
   "metadata": {},
   "source": [
    "В данных могут встречаться артефакты (аномалии) — значения, которые не отражают действительность и появились по какой-то ошибке. Таким артефактом будет отрицательное количество дней трудового стажа в столбце `days_employed`. Для реальных данных это нормально. Необходимо обработать значения в этом столбце: заменить все отрицательные значения положительными с помощью метода `abs()`."
   ]
  },
  {
   "cell_type": "code",
   "execution_count": 7,
   "id": "46b5d4aa",
   "metadata": {},
   "outputs": [],
   "source": [
    "data['days_employed'] = data['days_employed'].abs()"
   ]
  },
  {
   "cell_type": "code",
   "execution_count": 8,
   "id": "ad5cf8b0",
   "metadata": {},
   "outputs": [
    {
     "data": {
      "text/plain": [
       "income_type\n",
       "безработный        366413.652744\n",
       "в декрете            3296.759962\n",
       "госслужащий          2689.368353\n",
       "компаньон            1547.382223\n",
       "пенсионер          365213.306266\n",
       "предприниматель       520.848083\n",
       "сотрудник            1574.202821\n",
       "студент               578.751554\n",
       "Name: days_employed, dtype: float64"
      ]
     },
     "execution_count": 8,
     "metadata": {},
     "output_type": "execute_result"
    }
   ],
   "source": [
    "data.groupby('income_type')['days_employed'].agg('median') # медианное значение трудового стажа в днях"
   ]
  },
  {
   "cell_type": "markdown",
   "id": "f1a51be8",
   "metadata": {},
   "source": [
    "У двух типов (безработные и пенсионеры) получатся аномально большие значения. Исправить такие значения сложно, поэтому оставим их как есть. Тем более этот столбец не понадобится для исследования."
   ]
  },
  {
   "cell_type": "code",
   "execution_count": 9,
   "id": "cf05aadb",
   "metadata": {},
   "outputs": [
    {
     "data": {
      "text/plain": [
       "array([ 1,  0,  3,  2, -1,  4, 20,  5])"
      ]
     },
     "execution_count": 9,
     "metadata": {},
     "output_type": "execute_result"
    }
   ],
   "source": [
    "data['children'].unique() # перечень уникальных значений"
   ]
  },
  {
   "cell_type": "markdown",
   "id": "a072547b",
   "metadata": {},
   "source": [
    "В столбце `children` есть два аномальных значения. Удалим строки, в которых встречаются такие аномальные значения из датафрейма data."
   ]
  },
  {
   "cell_type": "code",
   "execution_count": 10,
   "id": "0a5e3dcb",
   "metadata": {},
   "outputs": [],
   "source": [
    "data = data[(data['children'] > -1) & (data['children'] < 20)]"
   ]
  },
  {
   "cell_type": "code",
   "execution_count": 11,
   "id": "f1895379",
   "metadata": {},
   "outputs": [
    {
     "data": {
      "text/plain": [
       "array([1, 0, 3, 2, 4, 5])"
      ]
     },
     "execution_count": 11,
     "metadata": {},
     "output_type": "execute_result"
    }
   ],
   "source": [
    "data['children'].unique()"
   ]
  },
  {
   "cell_type": "markdown",
   "id": "d7b90b1e",
   "metadata": {},
   "source": [
    "### Удаление пропусков (продолжение)"
   ]
  },
  {
   "cell_type": "markdown",
   "id": "83e33cd0",
   "metadata": {},
   "source": [
    "Заполним пропуски в столбце `days_employed` медианными значениями по каждого типа занятости `income_type`."
   ]
  },
  {
   "cell_type": "code",
   "execution_count": 12,
   "id": "cac50a41",
   "metadata": {},
   "outputs": [],
   "source": [
    "for t in data['income_type'].unique():\n",
    "    data.loc[(data['income_type'] == t) & (data['days_employed'].isna()), 'days_employed'] = \\\n",
    "    data.loc[(data['income_type'] == t), 'days_employed'].median()"
   ]
  },
  {
   "cell_type": "code",
   "execution_count": 13,
   "id": "a9a029a0",
   "metadata": {},
   "outputs": [
    {
     "data": {
      "text/plain": [
       "children            0\n",
       "days_employed       0\n",
       "dob_years           0\n",
       "education           0\n",
       "education_id        0\n",
       "family_status       0\n",
       "family_status_id    0\n",
       "gender              0\n",
       "income_type         0\n",
       "debt                0\n",
       "total_income        0\n",
       "purpose             0\n",
       "dtype: int64"
      ]
     },
     "execution_count": 13,
     "metadata": {},
     "output_type": "execute_result"
    }
   ],
   "source": [
    "data.isna().sum()"
   ]
  },
  {
   "cell_type": "markdown",
   "id": "0090db20",
   "metadata": {},
   "source": [
    "### Изменение типов данных"
   ]
  },
  {
   "cell_type": "markdown",
   "id": "28746b7d",
   "metadata": {},
   "source": [
    "Заменим вещественный тип данных в столбце `total_income` на целочисленный с помощью метода `astype()`."
   ]
  },
  {
   "cell_type": "code",
   "execution_count": 14,
   "id": "59709bae",
   "metadata": {},
   "outputs": [],
   "source": [
    "data['total_income'] = data['total_income'].astype(int)"
   ]
  },
  {
   "cell_type": "markdown",
   "id": "73b905fb",
   "metadata": {},
   "source": [
    "### Обработка дубликатов"
   ]
  },
  {
   "cell_type": "markdown",
   "id": "021c3f8d",
   "metadata": {},
   "source": [
    "Обработаем неявные дубликаты в столбце `education`. В этом столбце есть одни и те же значения, но записанные по-разному: с использованием заглавных и строчных букв. Приведем их к нижнему регистру. Проверим остальные столбцы."
   ]
  },
  {
   "cell_type": "code",
   "execution_count": 15,
   "id": "516792fd",
   "metadata": {},
   "outputs": [],
   "source": [
    "data['education'] = data['education'].str.lower() # нижний регистр"
   ]
  },
  {
   "cell_type": "code",
   "execution_count": 16,
   "id": "19af70cf",
   "metadata": {},
   "outputs": [
    {
     "data": {
      "text/plain": [
       "71"
      ]
     },
     "execution_count": 16,
     "metadata": {},
     "output_type": "execute_result"
    }
   ],
   "source": [
    "data.duplicated().sum() # количество дубликатов"
   ]
  },
  {
   "cell_type": "code",
   "execution_count": 17,
   "id": "9a6d1a2f",
   "metadata": {},
   "outputs": [],
   "source": [
    "data = data.drop_duplicates() # удаление дубликатов"
   ]
  },
  {
   "cell_type": "markdown",
   "id": "f36b1655",
   "metadata": {},
   "source": [
    "### Категоризация данных"
   ]
  },
  {
   "cell_type": "markdown",
   "id": "238ce854",
   "metadata": {},
   "source": [
    "На основании диапазонов, указанных ниже, создадим в датафрейме `data` столбец `total_income_category` с категориями:\n",
    "\n",
    "- 0–30000 — `'E'`;\n",
    "- 30001–50000 — `'D'`;\n",
    "- 50001–200000 — `'C'`;\n",
    "- 200001–1000000 — `'B'`;\n",
    "- 1000001 и выше — `'A'`.\n",
    "\n",
    "Например, кредитополучателю с доходом 25000 нужно назначить категорию `'E'`, а клиенту, получающему 235000, — `'B'`. Будем использовать собственную функцию с именем `categorize_income()` и метод `apply()`."
   ]
  },
  {
   "cell_type": "code",
   "execution_count": 18,
   "id": "faec3092",
   "metadata": {},
   "outputs": [],
   "source": [
    "def categorize_income(income):\n",
    "    try:\n",
    "        if 0 <= income <= 30000:\n",
    "            return 'E'\n",
    "        elif 30001 <= income <= 50000:\n",
    "            return 'D'\n",
    "        elif 50001 <= income <= 200000:\n",
    "            return 'C'\n",
    "        elif 200001 <= income <= 1000000:\n",
    "            return 'B'\n",
    "        elif income >= 1000001:\n",
    "            return 'A'\n",
    "    except:\n",
    "        pass"
   ]
  },
  {
   "cell_type": "code",
   "execution_count": 19,
   "id": "51debf78",
   "metadata": {},
   "outputs": [],
   "source": [
    "data['total_income_category'] = data['total_income'].apply(categorize_income)"
   ]
  },
  {
   "cell_type": "code",
   "execution_count": 20,
   "id": "6e1d0097",
   "metadata": {},
   "outputs": [
    {
     "data": {
      "text/plain": [
       "array(['покупка жилья', 'приобретение автомобиля',\n",
       "       'дополнительное образование', 'сыграть свадьбу',\n",
       "       'операции с жильем', 'образование', 'на проведение свадьбы',\n",
       "       'покупка жилья для семьи', 'покупка недвижимости',\n",
       "       'покупка коммерческой недвижимости', 'покупка жилой недвижимости',\n",
       "       'строительство собственной недвижимости', 'недвижимость',\n",
       "       'строительство недвижимости', 'на покупку подержанного автомобиля',\n",
       "       'на покупку своего автомобиля',\n",
       "       'операции с коммерческой недвижимостью',\n",
       "       'строительство жилой недвижимости', 'жилье',\n",
       "       'операции со своей недвижимостью', 'автомобили',\n",
       "       'заняться образованием', 'сделка с подержанным автомобилем',\n",
       "       'получение образования', 'автомобиль', 'свадьба',\n",
       "       'получение дополнительного образования', 'покупка своего жилья',\n",
       "       'операции с недвижимостью', 'получение высшего образования',\n",
       "       'свой автомобиль', 'сделка с автомобилем',\n",
       "       'профильное образование', 'высшее образование',\n",
       "       'покупка жилья для сдачи', 'на покупку автомобиля', 'ремонт жилью',\n",
       "       'заняться высшим образованием'], dtype=object)"
      ]
     },
     "execution_count": 20,
     "metadata": {},
     "output_type": "execute_result"
    }
   ],
   "source": [
    "data['purpose'].unique() # перечень уникальных целей взятия кредита из столбца purpose"
   ]
  },
  {
   "cell_type": "markdown",
   "id": "c8ad2b02",
   "metadata": {},
   "source": [
    "Создадим функцию, которая на основании данных из столбца `purpose` сформирует новый столбец `purpose_category`, в который войдут следующие категории:\n",
    "\n",
    "- `'операции с автомобилем'`,\n",
    "- `'операции с недвижимостью'`,\n",
    "- `'проведение свадьбы'`,\n",
    "- `'получение образования'`.\n",
    "\n",
    "Например, если в столбце `purpose` находится подстрока `'на покупку автомобиля'`, то в столбце `purpose_category` должна появиться строка `'операции с автомобилем'`.\n",
    "\n",
    "Будем использовать собственную функцию с именем `categorize_purpose()` и метод `apply()`. Изучим данные в столбце `purpose` и определим, какие подстроки помогут правильно определить категорию."
   ]
  },
  {
   "cell_type": "code",
   "execution_count": 21,
   "id": "db3ea1c3",
   "metadata": {},
   "outputs": [],
   "source": [
    "def categorize_purpose(row):\n",
    "    try:\n",
    "        if 'автом' in row:\n",
    "            return 'операции с автомобилем'\n",
    "        elif 'жил' in row or 'недвиж' in row:\n",
    "            return 'операции с недвижимостью'\n",
    "        elif 'свад' in row:\n",
    "            return 'проведение свадьбы'\n",
    "        elif 'образов' in row:\n",
    "            return 'получение образования'\n",
    "    except:\n",
    "        return 'нет категории'"
   ]
  },
  {
   "cell_type": "code",
   "execution_count": 22,
   "id": "5bda2315",
   "metadata": {},
   "outputs": [
    {
     "data": {
      "text/html": [
       "<div>\n",
       "<style scoped>\n",
       "    .dataframe tbody tr th:only-of-type {\n",
       "        vertical-align: middle;\n",
       "    }\n",
       "\n",
       "    .dataframe tbody tr th {\n",
       "        vertical-align: top;\n",
       "    }\n",
       "\n",
       "    .dataframe thead th {\n",
       "        text-align: right;\n",
       "    }\n",
       "</style>\n",
       "<table border=\"1\" class=\"dataframe\">\n",
       "  <thead>\n",
       "    <tr style=\"text-align: right;\">\n",
       "      <th></th>\n",
       "      <th>children</th>\n",
       "      <th>days_employed</th>\n",
       "      <th>dob_years</th>\n",
       "      <th>education</th>\n",
       "      <th>education_id</th>\n",
       "      <th>family_status</th>\n",
       "      <th>family_status_id</th>\n",
       "      <th>gender</th>\n",
       "      <th>income_type</th>\n",
       "      <th>debt</th>\n",
       "      <th>total_income</th>\n",
       "      <th>purpose</th>\n",
       "      <th>total_income_category</th>\n",
       "      <th>purpose_category</th>\n",
       "    </tr>\n",
       "  </thead>\n",
       "  <tbody>\n",
       "    <tr>\n",
       "      <th>0</th>\n",
       "      <td>1</td>\n",
       "      <td>8437.673028</td>\n",
       "      <td>42</td>\n",
       "      <td>высшее</td>\n",
       "      <td>0</td>\n",
       "      <td>женат / замужем</td>\n",
       "      <td>0</td>\n",
       "      <td>F</td>\n",
       "      <td>сотрудник</td>\n",
       "      <td>0</td>\n",
       "      <td>253875</td>\n",
       "      <td>покупка жилья</td>\n",
       "      <td>B</td>\n",
       "      <td>операции с недвижимостью</td>\n",
       "    </tr>\n",
       "    <tr>\n",
       "      <th>1</th>\n",
       "      <td>1</td>\n",
       "      <td>4024.803754</td>\n",
       "      <td>36</td>\n",
       "      <td>среднее</td>\n",
       "      <td>1</td>\n",
       "      <td>женат / замужем</td>\n",
       "      <td>0</td>\n",
       "      <td>F</td>\n",
       "      <td>сотрудник</td>\n",
       "      <td>0</td>\n",
       "      <td>112080</td>\n",
       "      <td>приобретение автомобиля</td>\n",
       "      <td>C</td>\n",
       "      <td>операции с автомобилем</td>\n",
       "    </tr>\n",
       "    <tr>\n",
       "      <th>2</th>\n",
       "      <td>0</td>\n",
       "      <td>5623.422610</td>\n",
       "      <td>33</td>\n",
       "      <td>среднее</td>\n",
       "      <td>1</td>\n",
       "      <td>женат / замужем</td>\n",
       "      <td>0</td>\n",
       "      <td>M</td>\n",
       "      <td>сотрудник</td>\n",
       "      <td>0</td>\n",
       "      <td>145885</td>\n",
       "      <td>покупка жилья</td>\n",
       "      <td>C</td>\n",
       "      <td>операции с недвижимостью</td>\n",
       "    </tr>\n",
       "    <tr>\n",
       "      <th>3</th>\n",
       "      <td>3</td>\n",
       "      <td>4124.747207</td>\n",
       "      <td>32</td>\n",
       "      <td>среднее</td>\n",
       "      <td>1</td>\n",
       "      <td>женат / замужем</td>\n",
       "      <td>0</td>\n",
       "      <td>M</td>\n",
       "      <td>сотрудник</td>\n",
       "      <td>0</td>\n",
       "      <td>267628</td>\n",
       "      <td>дополнительное образование</td>\n",
       "      <td>B</td>\n",
       "      <td>получение образования</td>\n",
       "    </tr>\n",
       "    <tr>\n",
       "      <th>4</th>\n",
       "      <td>0</td>\n",
       "      <td>340266.072047</td>\n",
       "      <td>53</td>\n",
       "      <td>среднее</td>\n",
       "      <td>1</td>\n",
       "      <td>гражданский брак</td>\n",
       "      <td>1</td>\n",
       "      <td>F</td>\n",
       "      <td>пенсионер</td>\n",
       "      <td>0</td>\n",
       "      <td>158616</td>\n",
       "      <td>сыграть свадьбу</td>\n",
       "      <td>C</td>\n",
       "      <td>проведение свадьбы</td>\n",
       "    </tr>\n",
       "    <tr>\n",
       "      <th>...</th>\n",
       "      <td>...</td>\n",
       "      <td>...</td>\n",
       "      <td>...</td>\n",
       "      <td>...</td>\n",
       "      <td>...</td>\n",
       "      <td>...</td>\n",
       "      <td>...</td>\n",
       "      <td>...</td>\n",
       "      <td>...</td>\n",
       "      <td>...</td>\n",
       "      <td>...</td>\n",
       "      <td>...</td>\n",
       "      <td>...</td>\n",
       "      <td>...</td>\n",
       "    </tr>\n",
       "    <tr>\n",
       "      <th>21520</th>\n",
       "      <td>1</td>\n",
       "      <td>4529.316663</td>\n",
       "      <td>43</td>\n",
       "      <td>среднее</td>\n",
       "      <td>1</td>\n",
       "      <td>гражданский брак</td>\n",
       "      <td>1</td>\n",
       "      <td>F</td>\n",
       "      <td>компаньон</td>\n",
       "      <td>0</td>\n",
       "      <td>224791</td>\n",
       "      <td>операции с жильем</td>\n",
       "      <td>B</td>\n",
       "      <td>операции с недвижимостью</td>\n",
       "    </tr>\n",
       "    <tr>\n",
       "      <th>21521</th>\n",
       "      <td>0</td>\n",
       "      <td>343937.404131</td>\n",
       "      <td>67</td>\n",
       "      <td>среднее</td>\n",
       "      <td>1</td>\n",
       "      <td>женат / замужем</td>\n",
       "      <td>0</td>\n",
       "      <td>F</td>\n",
       "      <td>пенсионер</td>\n",
       "      <td>0</td>\n",
       "      <td>155999</td>\n",
       "      <td>сделка с автомобилем</td>\n",
       "      <td>C</td>\n",
       "      <td>операции с автомобилем</td>\n",
       "    </tr>\n",
       "    <tr>\n",
       "      <th>21522</th>\n",
       "      <td>1</td>\n",
       "      <td>2113.346888</td>\n",
       "      <td>38</td>\n",
       "      <td>среднее</td>\n",
       "      <td>1</td>\n",
       "      <td>гражданский брак</td>\n",
       "      <td>1</td>\n",
       "      <td>M</td>\n",
       "      <td>сотрудник</td>\n",
       "      <td>1</td>\n",
       "      <td>89672</td>\n",
       "      <td>недвижимость</td>\n",
       "      <td>C</td>\n",
       "      <td>операции с недвижимостью</td>\n",
       "    </tr>\n",
       "    <tr>\n",
       "      <th>21523</th>\n",
       "      <td>3</td>\n",
       "      <td>3112.481705</td>\n",
       "      <td>38</td>\n",
       "      <td>среднее</td>\n",
       "      <td>1</td>\n",
       "      <td>женат / замужем</td>\n",
       "      <td>0</td>\n",
       "      <td>M</td>\n",
       "      <td>сотрудник</td>\n",
       "      <td>1</td>\n",
       "      <td>244093</td>\n",
       "      <td>на покупку своего автомобиля</td>\n",
       "      <td>B</td>\n",
       "      <td>операции с автомобилем</td>\n",
       "    </tr>\n",
       "    <tr>\n",
       "      <th>21524</th>\n",
       "      <td>2</td>\n",
       "      <td>1984.507589</td>\n",
       "      <td>40</td>\n",
       "      <td>среднее</td>\n",
       "      <td>1</td>\n",
       "      <td>женат / замужем</td>\n",
       "      <td>0</td>\n",
       "      <td>F</td>\n",
       "      <td>сотрудник</td>\n",
       "      <td>0</td>\n",
       "      <td>82047</td>\n",
       "      <td>на покупку автомобиля</td>\n",
       "      <td>C</td>\n",
       "      <td>операции с автомобилем</td>\n",
       "    </tr>\n",
       "  </tbody>\n",
       "</table>\n",
       "<p>21331 rows × 14 columns</p>\n",
       "</div>"
      ],
      "text/plain": [
       "       children  days_employed  dob_years education  education_id  \\\n",
       "0             1    8437.673028         42    высшее             0   \n",
       "1             1    4024.803754         36   среднее             1   \n",
       "2             0    5623.422610         33   среднее             1   \n",
       "3             3    4124.747207         32   среднее             1   \n",
       "4             0  340266.072047         53   среднее             1   \n",
       "...         ...            ...        ...       ...           ...   \n",
       "21520         1    4529.316663         43   среднее             1   \n",
       "21521         0  343937.404131         67   среднее             1   \n",
       "21522         1    2113.346888         38   среднее             1   \n",
       "21523         3    3112.481705         38   среднее             1   \n",
       "21524         2    1984.507589         40   среднее             1   \n",
       "\n",
       "          family_status  family_status_id gender income_type  debt  \\\n",
       "0       женат / замужем                 0      F   сотрудник     0   \n",
       "1       женат / замужем                 0      F   сотрудник     0   \n",
       "2       женат / замужем                 0      M   сотрудник     0   \n",
       "3       женат / замужем                 0      M   сотрудник     0   \n",
       "4      гражданский брак                 1      F   пенсионер     0   \n",
       "...                 ...               ...    ...         ...   ...   \n",
       "21520  гражданский брак                 1      F   компаньон     0   \n",
       "21521   женат / замужем                 0      F   пенсионер     0   \n",
       "21522  гражданский брак                 1      M   сотрудник     1   \n",
       "21523   женат / замужем                 0      M   сотрудник     1   \n",
       "21524   женат / замужем                 0      F   сотрудник     0   \n",
       "\n",
       "       total_income                       purpose total_income_category  \\\n",
       "0            253875                 покупка жилья                     B   \n",
       "1            112080       приобретение автомобиля                     C   \n",
       "2            145885                 покупка жилья                     C   \n",
       "3            267628    дополнительное образование                     B   \n",
       "4            158616               сыграть свадьбу                     C   \n",
       "...             ...                           ...                   ...   \n",
       "21520        224791             операции с жильем                     B   \n",
       "21521        155999          сделка с автомобилем                     C   \n",
       "21522         89672                  недвижимость                     C   \n",
       "21523        244093  на покупку своего автомобиля                     B   \n",
       "21524         82047         на покупку автомобиля                     C   \n",
       "\n",
       "               purpose_category  \n",
       "0      операции с недвижимостью  \n",
       "1        операции с автомобилем  \n",
       "2      операции с недвижимостью  \n",
       "3         получение образования  \n",
       "4            проведение свадьбы  \n",
       "...                         ...  \n",
       "21520  операции с недвижимостью  \n",
       "21521    операции с автомобилем  \n",
       "21522  операции с недвижимостью  \n",
       "21523    операции с автомобилем  \n",
       "21524    операции с автомобилем  \n",
       "\n",
       "[21331 rows x 14 columns]"
      ]
     },
     "execution_count": 22,
     "metadata": {},
     "output_type": "execute_result"
    }
   ],
   "source": [
    "data['purpose_category'] = data['purpose'].apply(categorize_purpose)\n",
    "data"
   ]
  },
  {
   "cell_type": "markdown",
   "id": "e9b10ffb",
   "metadata": {},
   "source": [
    "## Исследование данных"
   ]
  },
  {
   "cell_type": "markdown",
   "id": "231f7e22",
   "metadata": {},
   "source": [
    "### Проверим есть ли зависимость между количеством детей и возвратом кредита в срок."
   ]
  },
  {
   "cell_type": "code",
   "execution_count": 25,
   "id": "e611560f",
   "metadata": {},
   "outputs": [
    {
     "data": {
      "text/html": [
       "<div>\n",
       "<style scoped>\n",
       "    .dataframe tbody tr th:only-of-type {\n",
       "        vertical-align: middle;\n",
       "    }\n",
       "\n",
       "    .dataframe tbody tr th {\n",
       "        vertical-align: top;\n",
       "    }\n",
       "\n",
       "    .dataframe thead th {\n",
       "        text-align: right;\n",
       "    }\n",
       "</style>\n",
       "<table border=\"1\" class=\"dataframe\">\n",
       "  <thead>\n",
       "    <tr style=\"text-align: right;\">\n",
       "      <th></th>\n",
       "      <th>Количество людей</th>\n",
       "      <th>Количество людей с задолжностью</th>\n",
       "      <th>Доля людей с задолжностью</th>\n",
       "    </tr>\n",
       "    <tr>\n",
       "      <th>children</th>\n",
       "      <th></th>\n",
       "      <th></th>\n",
       "      <th></th>\n",
       "    </tr>\n",
       "  </thead>\n",
       "  <tbody>\n",
       "    <tr>\n",
       "      <th>5</th>\n",
       "      <td>9</td>\n",
       "      <td>0</td>\n",
       "      <td>0.000000</td>\n",
       "    </tr>\n",
       "    <tr>\n",
       "      <th>0</th>\n",
       "      <td>14091</td>\n",
       "      <td>1063</td>\n",
       "      <td>0.075438</td>\n",
       "    </tr>\n",
       "    <tr>\n",
       "      <th>3</th>\n",
       "      <td>330</td>\n",
       "      <td>27</td>\n",
       "      <td>0.081818</td>\n",
       "    </tr>\n",
       "    <tr>\n",
       "      <th>1</th>\n",
       "      <td>4808</td>\n",
       "      <td>444</td>\n",
       "      <td>0.092346</td>\n",
       "    </tr>\n",
       "    <tr>\n",
       "      <th>2</th>\n",
       "      <td>2052</td>\n",
       "      <td>194</td>\n",
       "      <td>0.094542</td>\n",
       "    </tr>\n",
       "    <tr>\n",
       "      <th>4</th>\n",
       "      <td>41</td>\n",
       "      <td>4</td>\n",
       "      <td>0.097561</td>\n",
       "    </tr>\n",
       "  </tbody>\n",
       "</table>\n",
       "</div>"
      ],
      "text/plain": [
       "          Количество людей  Количество людей с задолжностью  \\\n",
       "children                                                      \n",
       "5                        9                                0   \n",
       "0                    14091                             1063   \n",
       "3                      330                               27   \n",
       "1                     4808                              444   \n",
       "2                     2052                              194   \n",
       "4                       41                                4   \n",
       "\n",
       "          Доля людей с задолжностью  \n",
       "children                             \n",
       "5                          0.000000  \n",
       "0                          0.075438  \n",
       "3                          0.081818  \n",
       "1                          0.092346  \n",
       "2                          0.094542  \n",
       "4                          0.097561  "
      ]
     },
     "execution_count": 25,
     "metadata": {},
     "output_type": "execute_result"
    }
   ],
   "source": [
    "grouped_by_children = data.groupby('children')['debt'].agg(['count','sum','mean'])\n",
    "grouped_by_children.columns = ['Количество людей', 'Количество людей с задолжностью', 'Доля людей с задолжностью']\n",
    "grouped_by_children.sort_values(by='Доля людей с задолжностью')"
   ]
  },
  {
   "cell_type": "markdown",
   "id": "5e872824",
   "metadata": {},
   "source": [
    "**Вывод:** Зависимость между количеством детей и возвратом кредита в срок есть. Конверсия при количестве детей от 0 до 4 варьируется от 8 до 10 процентов. Если же детей 5, конверсия составляет 0 процентов. Данные результаты говорят о том, что люди у кого 5 детей составляют маленькую долю от всего количества. Можно добавить, что в данной категории данных не хватает, поэтому можно ее не учитывать. Также стоит отметить, что у категории людей без детей и категории людей у кого 3 ребенка в семье показывают лучшую конверсию, приблизительно равную 8 процентам, в отличии от других категорий."
   ]
  },
  {
   "cell_type": "markdown",
   "id": "d7257655",
   "metadata": {},
   "source": [
    "### Проверим есть ли зависимость между семейным положением и возвратом кредита в срок?"
   ]
  },
  {
   "cell_type": "code",
   "execution_count": 26,
   "id": "83e886ae",
   "metadata": {},
   "outputs": [
    {
     "data": {
      "text/html": [
       "<div>\n",
       "<style scoped>\n",
       "    .dataframe tbody tr th:only-of-type {\n",
       "        vertical-align: middle;\n",
       "    }\n",
       "\n",
       "    .dataframe tbody tr th {\n",
       "        vertical-align: top;\n",
       "    }\n",
       "\n",
       "    .dataframe thead th {\n",
       "        text-align: right;\n",
       "    }\n",
       "</style>\n",
       "<table border=\"1\" class=\"dataframe\">\n",
       "  <thead>\n",
       "    <tr style=\"text-align: right;\">\n",
       "      <th></th>\n",
       "      <th>Количество людей</th>\n",
       "      <th>Количество людей с задолжностью</th>\n",
       "      <th>Доля людей с задолжностью</th>\n",
       "    </tr>\n",
       "    <tr>\n",
       "      <th>family_status</th>\n",
       "      <th></th>\n",
       "      <th></th>\n",
       "      <th></th>\n",
       "    </tr>\n",
       "  </thead>\n",
       "  <tbody>\n",
       "    <tr>\n",
       "      <th>вдовец / вдова</th>\n",
       "      <td>951</td>\n",
       "      <td>63</td>\n",
       "      <td>0.066246</td>\n",
       "    </tr>\n",
       "    <tr>\n",
       "      <th>в разводе</th>\n",
       "      <td>1189</td>\n",
       "      <td>84</td>\n",
       "      <td>0.070648</td>\n",
       "    </tr>\n",
       "    <tr>\n",
       "      <th>женат / замужем</th>\n",
       "      <td>12261</td>\n",
       "      <td>927</td>\n",
       "      <td>0.075606</td>\n",
       "    </tr>\n",
       "    <tr>\n",
       "      <th>гражданский брак</th>\n",
       "      <td>4134</td>\n",
       "      <td>385</td>\n",
       "      <td>0.093130</td>\n",
       "    </tr>\n",
       "    <tr>\n",
       "      <th>Не женат / не замужем</th>\n",
       "      <td>2796</td>\n",
       "      <td>273</td>\n",
       "      <td>0.097639</td>\n",
       "    </tr>\n",
       "  </tbody>\n",
       "</table>\n",
       "</div>"
      ],
      "text/plain": [
       "                       Количество людей  Количество людей с задолжностью  \\\n",
       "family_status                                                              \n",
       "вдовец / вдова                      951                               63   \n",
       "в разводе                          1189                               84   \n",
       "женат / замужем                   12261                              927   \n",
       "гражданский брак                   4134                              385   \n",
       "Не женат / не замужем              2796                              273   \n",
       "\n",
       "                       Доля людей с задолжностью  \n",
       "family_status                                     \n",
       "вдовец / вдова                          0.066246  \n",
       "в разводе                               0.070648  \n",
       "женат / замужем                         0.075606  \n",
       "гражданский брак                        0.093130  \n",
       "Не женат / не замужем                   0.097639  "
      ]
     },
     "execution_count": 26,
     "metadata": {},
     "output_type": "execute_result"
    }
   ],
   "source": [
    "grouped_by_family_status = data.groupby('family_status')['debt'].agg(['count','sum','mean'])\n",
    "grouped_by_family_status.columns = ['Количество людей', 'Количество людей с задолжностью',\n",
    "                                    'Доля людей с задолжностью']\n",
    "grouped_by_family_status.sort_values('Доля людей с задолжностью')"
   ]
  },
  {
   "cell_type": "markdown",
   "id": "8203b924",
   "metadata": {},
   "source": [
    "Поделим выбранные категории на две группы по формально оформленным отношениям."
   ]
  },
  {
   "cell_type": "code",
   "execution_count": 27,
   "id": "09588f93",
   "metadata": {},
   "outputs": [],
   "source": [
    "def categorize_family_status(family_status):\n",
    "    try:\n",
    "        if family_status == 'женат / замужем':\n",
    "            return 'оформленные отношения'\n",
    "        return 'без отношений/не оформленные отношения'\n",
    "    except:\n",
    "        pass"
   ]
  },
  {
   "cell_type": "code",
   "execution_count": 28,
   "id": "82128725",
   "metadata": {},
   "outputs": [],
   "source": [
    "data['family_status_category'] = data['family_status'].apply(categorize_family_status)"
   ]
  },
  {
   "cell_type": "code",
   "execution_count": 29,
   "id": "ecc2fab6",
   "metadata": {},
   "outputs": [
    {
     "data": {
      "text/html": [
       "<div>\n",
       "<style scoped>\n",
       "    .dataframe tbody tr th:only-of-type {\n",
       "        vertical-align: middle;\n",
       "    }\n",
       "\n",
       "    .dataframe tbody tr th {\n",
       "        vertical-align: top;\n",
       "    }\n",
       "\n",
       "    .dataframe thead th {\n",
       "        text-align: right;\n",
       "    }\n",
       "</style>\n",
       "<table border=\"1\" class=\"dataframe\">\n",
       "  <thead>\n",
       "    <tr style=\"text-align: right;\">\n",
       "      <th></th>\n",
       "      <th>Количество людей</th>\n",
       "      <th>Количество людей с задолжностью</th>\n",
       "      <th>Доля людей с задолжностью</th>\n",
       "    </tr>\n",
       "    <tr>\n",
       "      <th>family_status_category</th>\n",
       "      <th></th>\n",
       "      <th></th>\n",
       "      <th></th>\n",
       "    </tr>\n",
       "  </thead>\n",
       "  <tbody>\n",
       "    <tr>\n",
       "      <th>без отношений/не оформленные отношения</th>\n",
       "      <td>9070</td>\n",
       "      <td>805</td>\n",
       "      <td>0.088754</td>\n",
       "    </tr>\n",
       "    <tr>\n",
       "      <th>оформленные отношения</th>\n",
       "      <td>12261</td>\n",
       "      <td>927</td>\n",
       "      <td>0.075606</td>\n",
       "    </tr>\n",
       "  </tbody>\n",
       "</table>\n",
       "</div>"
      ],
      "text/plain": [
       "                                        Количество людей  \\\n",
       "family_status_category                                     \n",
       "без отношений/не оформленные отношения              9070   \n",
       "оформленные отношения                              12261   \n",
       "\n",
       "                                        Количество людей с задолжностью  \\\n",
       "family_status_category                                                    \n",
       "без отношений/не оформленные отношения                              805   \n",
       "оформленные отношения                                               927   \n",
       "\n",
       "                                        Доля людей с задолжностью  \n",
       "family_status_category                                             \n",
       "без отношений/не оформленные отношения                   0.088754  \n",
       "оформленные отношения                                    0.075606  "
      ]
     },
     "execution_count": 29,
     "metadata": {},
     "output_type": "execute_result"
    }
   ],
   "source": [
    "grouped_by_family_status_category = data.groupby('family_status_category')['debt'].agg(['count','sum','mean'])\n",
    "grouped_by_family_status_category.columns = ['Количество людей', 'Количество людей с задолжностью',\n",
    "                                             'Доля людей с задолжностью']\n",
    "grouped_by_family_status_category"
   ]
  },
  {
   "cell_type": "markdown",
   "id": "c9bdacaa",
   "metadata": {},
   "source": [
    "**Вывод:** Зависимость между семейным положением и возвратом кредита в срок также присутсвует. В категории вдовец/вдова наименьшая конверсия, это может быть связано с тем, что в данной категории меньше всего человек. Также видно, что люди в разводе и в категории женат/замужем имеют конверсию ниже, чем остальные категории. Дополнительно проанализировав данные, можно с уверенностью сказать, что заемщики в оформленном браке надежнее, чем без отношений."
   ]
  },
  {
   "cell_type": "markdown",
   "id": "83f6855a",
   "metadata": {},
   "source": [
    "### Проверим есть ли зависимость между уровнем дохода и возвратом кредита в срок?"
   ]
  },
  {
   "cell_type": "code",
   "execution_count": 30,
   "id": "ae7346bb",
   "metadata": {},
   "outputs": [
    {
     "data": {
      "text/html": [
       "<div>\n",
       "<style scoped>\n",
       "    .dataframe tbody tr th:only-of-type {\n",
       "        vertical-align: middle;\n",
       "    }\n",
       "\n",
       "    .dataframe tbody tr th {\n",
       "        vertical-align: top;\n",
       "    }\n",
       "\n",
       "    .dataframe thead th {\n",
       "        text-align: right;\n",
       "    }\n",
       "</style>\n",
       "<table border=\"1\" class=\"dataframe\">\n",
       "  <thead>\n",
       "    <tr style=\"text-align: right;\">\n",
       "      <th></th>\n",
       "      <th>Количество людей</th>\n",
       "      <th>Количество людей с задолжностью</th>\n",
       "      <th>Доля людей с задолжностью</th>\n",
       "    </tr>\n",
       "    <tr>\n",
       "      <th>total_income_category</th>\n",
       "      <th></th>\n",
       "      <th></th>\n",
       "      <th></th>\n",
       "    </tr>\n",
       "  </thead>\n",
       "  <tbody>\n",
       "    <tr>\n",
       "      <th>D</th>\n",
       "      <td>349</td>\n",
       "      <td>21</td>\n",
       "      <td>0.060172</td>\n",
       "    </tr>\n",
       "    <tr>\n",
       "      <th>B</th>\n",
       "      <td>5014</td>\n",
       "      <td>354</td>\n",
       "      <td>0.070602</td>\n",
       "    </tr>\n",
       "    <tr>\n",
       "      <th>A</th>\n",
       "      <td>25</td>\n",
       "      <td>2</td>\n",
       "      <td>0.080000</td>\n",
       "    </tr>\n",
       "    <tr>\n",
       "      <th>C</th>\n",
       "      <td>15921</td>\n",
       "      <td>1353</td>\n",
       "      <td>0.084982</td>\n",
       "    </tr>\n",
       "    <tr>\n",
       "      <th>E</th>\n",
       "      <td>22</td>\n",
       "      <td>2</td>\n",
       "      <td>0.090909</td>\n",
       "    </tr>\n",
       "  </tbody>\n",
       "</table>\n",
       "</div>"
      ],
      "text/plain": [
       "                       Количество людей  Количество людей с задолжностью  \\\n",
       "total_income_category                                                      \n",
       "D                                   349                               21   \n",
       "B                                  5014                              354   \n",
       "A                                    25                                2   \n",
       "C                                 15921                             1353   \n",
       "E                                    22                                2   \n",
       "\n",
       "                       Доля людей с задолжностью  \n",
       "total_income_category                             \n",
       "D                                       0.060172  \n",
       "B                                       0.070602  \n",
       "A                                       0.080000  \n",
       "C                                       0.084982  \n",
       "E                                       0.090909  "
      ]
     },
     "execution_count": 30,
     "metadata": {},
     "output_type": "execute_result"
    }
   ],
   "source": [
    "grouped_by_total_income_category = data.groupby('total_income_category')['debt'].agg(['count','sum','mean'])\n",
    "grouped_by_total_income_category.columns = ['Количество людей', 'Количество людей с задолжностью', \n",
    "                                            'Доля людей с задолжностью']\n",
    "grouped_by_total_income_category.sort_values('Доля людей с задолжностью')"
   ]
  },
  {
   "cell_type": "markdown",
   "id": "cb94e609",
   "metadata": {},
   "source": [
    "Поделим данные на другие группы, по уровню дохода. Первая группа с уровнем дохода до 100тыс., вторая до 200 тыс. и третья больше 200 тыс."
   ]
  },
  {
   "cell_type": "code",
   "execution_count": 31,
   "id": "17554286",
   "metadata": {},
   "outputs": [],
   "source": [
    "def categorize_income_new(income):\n",
    "    try:\n",
    "        if 0 <= income <= 100000:\n",
    "            return 'A'\n",
    "        if income <= 200000:\n",
    "            return 'B'\n",
    "        return 'C'\n",
    "    except:\n",
    "        pass"
   ]
  },
  {
   "cell_type": "code",
   "execution_count": 32,
   "id": "6c2732f9",
   "metadata": {},
   "outputs": [],
   "source": [
    "data['totla_income_category_new'] = data['total_income'].apply(categorize_income_new)"
   ]
  },
  {
   "cell_type": "code",
   "execution_count": 33,
   "id": "9c3efd99",
   "metadata": {},
   "outputs": [
    {
     "data": {
      "text/html": [
       "<div>\n",
       "<style scoped>\n",
       "    .dataframe tbody tr th:only-of-type {\n",
       "        vertical-align: middle;\n",
       "    }\n",
       "\n",
       "    .dataframe tbody tr th {\n",
       "        vertical-align: top;\n",
       "    }\n",
       "\n",
       "    .dataframe thead th {\n",
       "        text-align: right;\n",
       "    }\n",
       "</style>\n",
       "<table border=\"1\" class=\"dataframe\">\n",
       "  <thead>\n",
       "    <tr style=\"text-align: right;\">\n",
       "      <th></th>\n",
       "      <th>Количество людей</th>\n",
       "      <th>Количество людей с задолжностью</th>\n",
       "      <th>Доля людей с задолжностью</th>\n",
       "    </tr>\n",
       "    <tr>\n",
       "      <th>totla_income_category_new</th>\n",
       "      <th></th>\n",
       "      <th></th>\n",
       "      <th></th>\n",
       "    </tr>\n",
       "  </thead>\n",
       "  <tbody>\n",
       "    <tr>\n",
       "      <th>C</th>\n",
       "      <td>5039</td>\n",
       "      <td>356</td>\n",
       "      <td>0.070649</td>\n",
       "    </tr>\n",
       "    <tr>\n",
       "      <th>A</th>\n",
       "      <td>4444</td>\n",
       "      <td>354</td>\n",
       "      <td>0.079658</td>\n",
       "    </tr>\n",
       "    <tr>\n",
       "      <th>B</th>\n",
       "      <td>11848</td>\n",
       "      <td>1022</td>\n",
       "      <td>0.086259</td>\n",
       "    </tr>\n",
       "  </tbody>\n",
       "</table>\n",
       "</div>"
      ],
      "text/plain": [
       "                           Количество людей  Количество людей с задолжностью  \\\n",
       "totla_income_category_new                                                      \n",
       "C                                      5039                              356   \n",
       "A                                      4444                              354   \n",
       "B                                     11848                             1022   \n",
       "\n",
       "                           Доля людей с задолжностью  \n",
       "totla_income_category_new                             \n",
       "C                                           0.070649  \n",
       "A                                           0.079658  \n",
       "B                                           0.086259  "
      ]
     },
     "execution_count": 33,
     "metadata": {},
     "output_type": "execute_result"
    }
   ],
   "source": [
    "grouped_by_total_income_category_new = data.groupby('totla_income_category_new')['debt'].agg(['count',\n",
    "                                                                                              'sum','mean'])\n",
    "grouped_by_total_income_category_new.columns = ['Количество людей', 'Количество людей с задолжностью',\n",
    "                                                'Доля людей с задолжностью']\n",
    "grouped_by_total_income_category_new.sort_values('Доля людей с задолжностью')"
   ]
  },
  {
   "cell_type": "markdown",
   "id": "4c2b70f7",
   "metadata": {},
   "source": [
    "**Вывод:** Зависимость между уровнем дохода и возвратом кредита в срок есть. Разделив на категории дохода, можно увидеть, что люди в категории D имеют наменьшую конверсию, что говорит нам о том, что в данной категории меньше всего задолжностей. Также стоит отметить категорию B, в которой меньше конверсия, чем в остальных категориях. В категории С намного больше людей, чем в остальных категориях. Исходя из дополнительного анализа данных, можно сделать вывод о том, что категория людей с доходом от 100 до 200 тыс. имеет самую высокую долю долгов (категория В). Проанализировав данные, можно сказать, что наиболее выгодной категорей для предоставления кредита является группа людей с доходом больше 200 тыс (категория С)."
   ]
  },
  {
   "cell_type": "markdown",
   "id": "4c22b974",
   "metadata": {},
   "source": [
    "### Проверим как разные цели кредита влияют на его возврат в срок?"
   ]
  },
  {
   "cell_type": "code",
   "execution_count": 34,
   "id": "9c4d8345",
   "metadata": {},
   "outputs": [
    {
     "data": {
      "text/html": [
       "<div>\n",
       "<style scoped>\n",
       "    .dataframe tbody tr th:only-of-type {\n",
       "        vertical-align: middle;\n",
       "    }\n",
       "\n",
       "    .dataframe tbody tr th {\n",
       "        vertical-align: top;\n",
       "    }\n",
       "\n",
       "    .dataframe thead th {\n",
       "        text-align: right;\n",
       "    }\n",
       "</style>\n",
       "<table border=\"1\" class=\"dataframe\">\n",
       "  <thead>\n",
       "    <tr style=\"text-align: right;\">\n",
       "      <th></th>\n",
       "      <th>Количество людей</th>\n",
       "      <th>Количество людей с задолжностью</th>\n",
       "      <th>Доля людей с задолжностью</th>\n",
       "    </tr>\n",
       "    <tr>\n",
       "      <th>purpose_category</th>\n",
       "      <th></th>\n",
       "      <th></th>\n",
       "      <th></th>\n",
       "    </tr>\n",
       "  </thead>\n",
       "  <tbody>\n",
       "    <tr>\n",
       "      <th>операции с недвижимостью</th>\n",
       "      <td>10751</td>\n",
       "      <td>780</td>\n",
       "      <td>0.072551</td>\n",
       "    </tr>\n",
       "    <tr>\n",
       "      <th>проведение свадьбы</th>\n",
       "      <td>2313</td>\n",
       "      <td>183</td>\n",
       "      <td>0.079118</td>\n",
       "    </tr>\n",
       "    <tr>\n",
       "      <th>получение образования</th>\n",
       "      <td>3988</td>\n",
       "      <td>369</td>\n",
       "      <td>0.092528</td>\n",
       "    </tr>\n",
       "    <tr>\n",
       "      <th>операции с автомобилем</th>\n",
       "      <td>4279</td>\n",
       "      <td>400</td>\n",
       "      <td>0.093480</td>\n",
       "    </tr>\n",
       "  </tbody>\n",
       "</table>\n",
       "</div>"
      ],
      "text/plain": [
       "                          Количество людей  Количество людей с задолжностью  \\\n",
       "purpose_category                                                              \n",
       "операции с недвижимостью             10751                              780   \n",
       "проведение свадьбы                    2313                              183   \n",
       "получение образования                 3988                              369   \n",
       "операции с автомобилем                4279                              400   \n",
       "\n",
       "                          Доля людей с задолжностью  \n",
       "purpose_category                                     \n",
       "операции с недвижимостью                   0.072551  \n",
       "проведение свадьбы                         0.079118  \n",
       "получение образования                      0.092528  \n",
       "операции с автомобилем                     0.093480  "
      ]
     },
     "execution_count": 34,
     "metadata": {},
     "output_type": "execute_result"
    }
   ],
   "source": [
    "grouped_by_purpose = data.groupby('purpose_category')['debt'].agg(['count','sum','mean'])\n",
    "grouped_by_purpose.columns = ['Количество людей', 'Количество людей с задолжностью', 'Доля людей с задолжностью']\n",
    "grouped_by_purpose.sort_values('Доля людей с задолжностью')"
   ]
  },
  {
   "cell_type": "markdown",
   "id": "90cd1867",
   "metadata": {},
   "source": [
    "**Вывод:** По статистике, операции с недвижимостью показали лучшую конверсию, что может означать, что всего 7 процентов имеют задолжность по данной категории целей. Также стоит отметить, что проведение свадьбы имеет меньший процент, чем другие категории. Операции с автомобилем и получение образования, такие категории имеют больший процент задолжностей по кредитам."
   ]
  },
  {
   "cell_type": "markdown",
   "id": "d5a53dfa",
   "metadata": {},
   "source": [
    "### Приведем возможные причины появления пропусков в исходных данных."
   ]
  },
  {
   "cell_type": "markdown",
   "id": "94b1378d",
   "metadata": {},
   "source": [
    "Пропуски может допустить любой человек, случайный человеческий фактор, либо же могут быть технологические ошибки. Также могут быть случайные пропуски, но данные пропуски зависят от набора других данных в таблице. Существуют еще неслучайные пропуски, которые зависят есть набор данных или же его нет."
   ]
  },
  {
   "cell_type": "markdown",
   "id": "a8f0e028",
   "metadata": {},
   "source": [
    "### Объяснение, почему заполнить пропуски медианным значением — лучшее решение для количественных переменных."
   ]
  },
  {
   "cell_type": "markdown",
   "id": "016ec201",
   "metadata": {},
   "source": [
    "Медиана — это такое число в выборке, что ровно половина элементов больше него, а другая половина — меньше. Данные в выборке могут быть слишком приувеличены или приуменьшены, в таком случае среднее значение выборки искажает действительность. Медиана же, в свою очередь, даёт нам значение, которое находится по середине всей выборки, что является лучшим решением для количественных переменных. \n",
    "\n",
    "Допустим у нас в команде есть 5 человек с ростом в 180 см, пришел новый игрок с росто 215 см. В итоге среднее значение при 5 игроках 180 см, а при 6 - 185 см. По сути рост у 5 человек не изменился, но среднее значение больше, чем у всех 5 членов команды. Можно сделать вывод, что при слишком выделяющемся значении, лучше всего использовать медиану, т.к. она устойчива к сильно отклоняющимся значениям (устойчива к выбросам и аномалиям)."
   ]
  },
  {
   "cell_type": "code",
   "execution_count": 35,
   "id": "30db1e0c",
   "metadata": {},
   "outputs": [
    {
     "name": "stdout",
     "output_type": "stream",
     "text": [
      "180.0 185.83333333333334\n"
     ]
    }
   ],
   "source": [
    "height = pd.Series([180, 180, 180, 180, 180]) #рост 5 игроков изначально\n",
    "height_new = pd.Series([180, 180, 180, 180, 180, 215]) #рост 6 игроков \n",
    "print(height.mean(), height_new.mean())"
   ]
  },
  {
   "cell_type": "markdown",
   "id": "1cd29db3",
   "metadata": {},
   "source": [
    "## Общий вывод"
   ]
  },
  {
   "cell_type": "markdown",
   "id": "638c130a",
   "metadata": {},
   "source": [
    "**Вывод:** Решая данную задачу, можно сделать вывод о том, что любые данные необходимо проверять на пропуски, дубликаты и аномальные значения. Исследуя данные, нужно проанализировать все возможные варианты влияния разных категорий друг на друга. В заключении хотелось бы сказать, что проанализировав все данные, можно сказать, что выгодным заемщиком будут люди у которых нет детей, кто состоит в официальных отношениях, по зароботной плате в подкатегории С. Также лучше всего выбрать тех людей, чья цель кредита состоит в том, чтобы производить операции с недвижимостью."
   ]
  },
  {
   "cell_type": "code",
   "execution_count": 36,
   "id": "2cbb5479",
   "metadata": {},
   "outputs": [
    {
     "data": {
      "text/html": [
       "<div>\n",
       "<style scoped>\n",
       "    .dataframe tbody tr th:only-of-type {\n",
       "        vertical-align: middle;\n",
       "    }\n",
       "\n",
       "    .dataframe tbody tr th {\n",
       "        vertical-align: top;\n",
       "    }\n",
       "\n",
       "    .dataframe thead th {\n",
       "        text-align: right;\n",
       "    }\n",
       "</style>\n",
       "<table border=\"1\" class=\"dataframe\">\n",
       "  <thead>\n",
       "    <tr style=\"text-align: right;\">\n",
       "      <th></th>\n",
       "      <th>children</th>\n",
       "      <th>days_employed</th>\n",
       "      <th>dob_years</th>\n",
       "      <th>education</th>\n",
       "      <th>education_id</th>\n",
       "      <th>family_status</th>\n",
       "      <th>family_status_id</th>\n",
       "      <th>gender</th>\n",
       "      <th>income_type</th>\n",
       "      <th>debt</th>\n",
       "      <th>total_income</th>\n",
       "      <th>purpose</th>\n",
       "      <th>total_income_category</th>\n",
       "      <th>purpose_category</th>\n",
       "      <th>family_status_category</th>\n",
       "      <th>totla_income_category_new</th>\n",
       "    </tr>\n",
       "  </thead>\n",
       "  <tbody>\n",
       "    <tr>\n",
       "      <th>0</th>\n",
       "      <td>0</td>\n",
       "      <td>2879.202052</td>\n",
       "      <td>43</td>\n",
       "      <td>высшее</td>\n",
       "      <td>0</td>\n",
       "      <td>женат / замужем</td>\n",
       "      <td>0</td>\n",
       "      <td>F</td>\n",
       "      <td>компаньон</td>\n",
       "      <td>0</td>\n",
       "      <td>240525</td>\n",
       "      <td>операции с жильем</td>\n",
       "      <td>B</td>\n",
       "      <td>операции с недвижимостью</td>\n",
       "      <td>оформленные отношения</td>\n",
       "      <td>C</td>\n",
       "    </tr>\n",
       "    <tr>\n",
       "      <th>1</th>\n",
       "      <td>0</td>\n",
       "      <td>1719.934226</td>\n",
       "      <td>35</td>\n",
       "      <td>среднее</td>\n",
       "      <td>1</td>\n",
       "      <td>женат / замужем</td>\n",
       "      <td>0</td>\n",
       "      <td>F</td>\n",
       "      <td>сотрудник</td>\n",
       "      <td>0</td>\n",
       "      <td>289202</td>\n",
       "      <td>недвижимость</td>\n",
       "      <td>B</td>\n",
       "      <td>операции с недвижимостью</td>\n",
       "      <td>оформленные отношения</td>\n",
       "      <td>C</td>\n",
       "    </tr>\n",
       "    <tr>\n",
       "      <th>2</th>\n",
       "      <td>0</td>\n",
       "      <td>529.191635</td>\n",
       "      <td>28</td>\n",
       "      <td>высшее</td>\n",
       "      <td>0</td>\n",
       "      <td>женат / замужем</td>\n",
       "      <td>0</td>\n",
       "      <td>M</td>\n",
       "      <td>сотрудник</td>\n",
       "      <td>0</td>\n",
       "      <td>308848</td>\n",
       "      <td>строительство собственной недвижимости</td>\n",
       "      <td>B</td>\n",
       "      <td>операции с недвижимостью</td>\n",
       "      <td>оформленные отношения</td>\n",
       "      <td>C</td>\n",
       "    </tr>\n",
       "    <tr>\n",
       "      <th>3</th>\n",
       "      <td>0</td>\n",
       "      <td>1682.083438</td>\n",
       "      <td>47</td>\n",
       "      <td>начальное</td>\n",
       "      <td>3</td>\n",
       "      <td>женат / замужем</td>\n",
       "      <td>0</td>\n",
       "      <td>F</td>\n",
       "      <td>сотрудник</td>\n",
       "      <td>0</td>\n",
       "      <td>275485</td>\n",
       "      <td>жилье</td>\n",
       "      <td>B</td>\n",
       "      <td>операции с недвижимостью</td>\n",
       "      <td>оформленные отношения</td>\n",
       "      <td>C</td>\n",
       "    </tr>\n",
       "    <tr>\n",
       "      <th>4</th>\n",
       "      <td>0</td>\n",
       "      <td>335.318630</td>\n",
       "      <td>36</td>\n",
       "      <td>высшее</td>\n",
       "      <td>0</td>\n",
       "      <td>женат / замужем</td>\n",
       "      <td>0</td>\n",
       "      <td>M</td>\n",
       "      <td>сотрудник</td>\n",
       "      <td>0</td>\n",
       "      <td>414404</td>\n",
       "      <td>недвижимость</td>\n",
       "      <td>B</td>\n",
       "      <td>операции с недвижимостью</td>\n",
       "      <td>оформленные отношения</td>\n",
       "      <td>C</td>\n",
       "    </tr>\n",
       "    <tr>\n",
       "      <th>...</th>\n",
       "      <td>...</td>\n",
       "      <td>...</td>\n",
       "      <td>...</td>\n",
       "      <td>...</td>\n",
       "      <td>...</td>\n",
       "      <td>...</td>\n",
       "      <td>...</td>\n",
       "      <td>...</td>\n",
       "      <td>...</td>\n",
       "      <td>...</td>\n",
       "      <td>...</td>\n",
       "      <td>...</td>\n",
       "      <td>...</td>\n",
       "      <td>...</td>\n",
       "      <td>...</td>\n",
       "      <td>...</td>\n",
       "    </tr>\n",
       "    <tr>\n",
       "      <th>1000</th>\n",
       "      <td>0</td>\n",
       "      <td>9945.187489</td>\n",
       "      <td>48</td>\n",
       "      <td>среднее</td>\n",
       "      <td>1</td>\n",
       "      <td>женат / замужем</td>\n",
       "      <td>0</td>\n",
       "      <td>F</td>\n",
       "      <td>сотрудник</td>\n",
       "      <td>0</td>\n",
       "      <td>200223</td>\n",
       "      <td>операции с коммерческой недвижимостью</td>\n",
       "      <td>B</td>\n",
       "      <td>операции с недвижимостью</td>\n",
       "      <td>оформленные отношения</td>\n",
       "      <td>C</td>\n",
       "    </tr>\n",
       "    <tr>\n",
       "      <th>1001</th>\n",
       "      <td>0</td>\n",
       "      <td>2539.502794</td>\n",
       "      <td>52</td>\n",
       "      <td>высшее</td>\n",
       "      <td>0</td>\n",
       "      <td>женат / замужем</td>\n",
       "      <td>0</td>\n",
       "      <td>M</td>\n",
       "      <td>компаньон</td>\n",
       "      <td>0</td>\n",
       "      <td>527452</td>\n",
       "      <td>операции со своей недвижимостью</td>\n",
       "      <td>B</td>\n",
       "      <td>операции с недвижимостью</td>\n",
       "      <td>оформленные отношения</td>\n",
       "      <td>C</td>\n",
       "    </tr>\n",
       "    <tr>\n",
       "      <th>1002</th>\n",
       "      <td>0</td>\n",
       "      <td>1618.645283</td>\n",
       "      <td>54</td>\n",
       "      <td>среднее</td>\n",
       "      <td>1</td>\n",
       "      <td>женат / замужем</td>\n",
       "      <td>0</td>\n",
       "      <td>M</td>\n",
       "      <td>компаньон</td>\n",
       "      <td>0</td>\n",
       "      <td>295234</td>\n",
       "      <td>покупка жилой недвижимости</td>\n",
       "      <td>B</td>\n",
       "      <td>операции с недвижимостью</td>\n",
       "      <td>оформленные отношения</td>\n",
       "      <td>C</td>\n",
       "    </tr>\n",
       "    <tr>\n",
       "      <th>1003</th>\n",
       "      <td>0</td>\n",
       "      <td>1166.216789</td>\n",
       "      <td>35</td>\n",
       "      <td>среднее</td>\n",
       "      <td>1</td>\n",
       "      <td>женат / замужем</td>\n",
       "      <td>0</td>\n",
       "      <td>F</td>\n",
       "      <td>сотрудник</td>\n",
       "      <td>0</td>\n",
       "      <td>250986</td>\n",
       "      <td>покупка жилья</td>\n",
       "      <td>B</td>\n",
       "      <td>операции с недвижимостью</td>\n",
       "      <td>оформленные отношения</td>\n",
       "      <td>C</td>\n",
       "    </tr>\n",
       "    <tr>\n",
       "      <th>1004</th>\n",
       "      <td>0</td>\n",
       "      <td>914.391429</td>\n",
       "      <td>42</td>\n",
       "      <td>высшее</td>\n",
       "      <td>0</td>\n",
       "      <td>женат / замужем</td>\n",
       "      <td>0</td>\n",
       "      <td>F</td>\n",
       "      <td>компаньон</td>\n",
       "      <td>0</td>\n",
       "      <td>322807</td>\n",
       "      <td>покупка своего жилья</td>\n",
       "      <td>B</td>\n",
       "      <td>операции с недвижимостью</td>\n",
       "      <td>оформленные отношения</td>\n",
       "      <td>C</td>\n",
       "    </tr>\n",
       "  </tbody>\n",
       "</table>\n",
       "<p>1005 rows × 16 columns</p>\n",
       "</div>"
      ],
      "text/plain": [
       "      children  days_employed  dob_years  education  education_id  \\\n",
       "0            0    2879.202052         43     высшее             0   \n",
       "1            0    1719.934226         35    среднее             1   \n",
       "2            0     529.191635         28     высшее             0   \n",
       "3            0    1682.083438         47  начальное             3   \n",
       "4            0     335.318630         36     высшее             0   \n",
       "...        ...            ...        ...        ...           ...   \n",
       "1000         0    9945.187489         48    среднее             1   \n",
       "1001         0    2539.502794         52     высшее             0   \n",
       "1002         0    1618.645283         54    среднее             1   \n",
       "1003         0    1166.216789         35    среднее             1   \n",
       "1004         0     914.391429         42     высшее             0   \n",
       "\n",
       "        family_status  family_status_id gender income_type  debt  \\\n",
       "0     женат / замужем                 0      F   компаньон     0   \n",
       "1     женат / замужем                 0      F   сотрудник     0   \n",
       "2     женат / замужем                 0      M   сотрудник     0   \n",
       "3     женат / замужем                 0      F   сотрудник     0   \n",
       "4     женат / замужем                 0      M   сотрудник     0   \n",
       "...               ...               ...    ...         ...   ...   \n",
       "1000  женат / замужем                 0      F   сотрудник     0   \n",
       "1001  женат / замужем                 0      M   компаньон     0   \n",
       "1002  женат / замужем                 0      M   компаньон     0   \n",
       "1003  женат / замужем                 0      F   сотрудник     0   \n",
       "1004  женат / замужем                 0      F   компаньон     0   \n",
       "\n",
       "      total_income                                 purpose  \\\n",
       "0           240525                       операции с жильем   \n",
       "1           289202                            недвижимость   \n",
       "2           308848  строительство собственной недвижимости   \n",
       "3           275485                                   жилье   \n",
       "4           414404                            недвижимость   \n",
       "...            ...                                     ...   \n",
       "1000        200223   операции с коммерческой недвижимостью   \n",
       "1001        527452         операции со своей недвижимостью   \n",
       "1002        295234              покупка жилой недвижимости   \n",
       "1003        250986                           покупка жилья   \n",
       "1004        322807                    покупка своего жилья   \n",
       "\n",
       "     total_income_category          purpose_category family_status_category  \\\n",
       "0                        B  операции с недвижимостью  оформленные отношения   \n",
       "1                        B  операции с недвижимостью  оформленные отношения   \n",
       "2                        B  операции с недвижимостью  оформленные отношения   \n",
       "3                        B  операции с недвижимостью  оформленные отношения   \n",
       "4                        B  операции с недвижимостью  оформленные отношения   \n",
       "...                    ...                       ...                    ...   \n",
       "1000                     B  операции с недвижимостью  оформленные отношения   \n",
       "1001                     B  операции с недвижимостью  оформленные отношения   \n",
       "1002                     B  операции с недвижимостью  оформленные отношения   \n",
       "1003                     B  операции с недвижимостью  оформленные отношения   \n",
       "1004                     B  операции с недвижимостью  оформленные отношения   \n",
       "\n",
       "     totla_income_category_new  \n",
       "0                            C  \n",
       "1                            C  \n",
       "2                            C  \n",
       "3                            C  \n",
       "4                            C  \n",
       "...                        ...  \n",
       "1000                         C  \n",
       "1001                         C  \n",
       "1002                         C  \n",
       "1003                         C  \n",
       "1004                         C  \n",
       "\n",
       "[1005 rows x 16 columns]"
      ]
     },
     "execution_count": 36,
     "metadata": {},
     "output_type": "execute_result"
    }
   ],
   "source": [
    "data = data.loc[data['children'] == 0]\n",
    "data = data.loc[(data['family_status_category'] == 'оформленные отношения')]\n",
    "data = data.loc[(data['totla_income_category_new'] == 'C')]\n",
    "data = data.loc[data['purpose_category'] == 'операции с недвижимостью']\n",
    "data.reset_index(drop=True)"
   ]
  },
  {
   "cell_type": "markdown",
   "id": "bb43f7cc",
   "metadata": {},
   "source": [
    "Также стоит отметить, что исключив категории людей с 4 детьми, без оформленных отношений, входящие в категорию доходов В, которые берут кредит для образования или выплаты за автомобиль будут улучшений в показателях возврата долга."
   ]
  }
 ],
 "metadata": {
  "ExecuteTimeLog": [
   {
    "duration": 401,
    "start_time": "2022-12-20T20:15:58.285Z"
   },
   {
    "duration": 779,
    "start_time": "2022-12-20T20:15:59.528Z"
   },
   {
    "duration": 29,
    "start_time": "2022-12-20T20:16:00.980Z"
   },
   {
    "duration": 17,
    "start_time": "2022-12-20T20:20:10.583Z"
   },
   {
    "duration": 16,
    "start_time": "2022-12-20T20:21:02.474Z"
   },
   {
    "duration": 38,
    "start_time": "2022-12-20T20:24:54.889Z"
   },
   {
    "duration": 4,
    "start_time": "2022-12-20T20:26:38.007Z"
   },
   {
    "duration": 15,
    "start_time": "2022-12-20T20:26:52.452Z"
   },
   {
    "duration": 6,
    "start_time": "2022-12-20T20:28:48.919Z"
   },
   {
    "duration": 17,
    "start_time": "2022-12-20T20:30:30.681Z"
   },
   {
    "duration": 9,
    "start_time": "2022-12-20T20:30:49.401Z"
   },
   {
    "duration": 41,
    "start_time": "2022-12-20T20:31:45.185Z"
   },
   {
    "duration": 23,
    "start_time": "2022-12-20T20:31:53.178Z"
   },
   {
    "duration": 4,
    "start_time": "2022-12-20T20:33:58.206Z"
   },
   {
    "duration": 11,
    "start_time": "2022-12-20T20:35:04.095Z"
   },
   {
    "duration": 13,
    "start_time": "2022-12-20T20:35:36.632Z"
   },
   {
    "duration": 22,
    "start_time": "2022-12-20T20:36:09.501Z"
   },
   {
    "duration": 17,
    "start_time": "2022-12-20T20:36:21.194Z"
   },
   {
    "duration": 4,
    "start_time": "2022-12-20T21:00:38.329Z"
   },
   {
    "duration": 10,
    "start_time": "2022-12-20T21:00:46.937Z"
   },
   {
    "duration": 6,
    "start_time": "2022-12-20T21:01:35.883Z"
   },
   {
    "duration": 396,
    "start_time": "2022-12-22T18:10:23.942Z"
   },
   {
    "duration": 323,
    "start_time": "2022-12-22T18:10:24.339Z"
   },
   {
    "duration": 22,
    "start_time": "2022-12-22T18:10:24.663Z"
   },
   {
    "duration": 13,
    "start_time": "2022-12-22T18:10:24.687Z"
   },
   {
    "duration": 10,
    "start_time": "2022-12-22T18:10:24.702Z"
   },
   {
    "duration": 31,
    "start_time": "2022-12-22T18:10:24.713Z"
   },
   {
    "duration": 3,
    "start_time": "2022-12-22T18:10:24.746Z"
   },
   {
    "duration": 10,
    "start_time": "2022-12-22T18:10:24.750Z"
   },
   {
    "duration": 3,
    "start_time": "2022-12-22T18:10:24.761Z"
   },
   {
    "duration": 7,
    "start_time": "2022-12-22T18:10:24.766Z"
   },
   {
    "duration": 8,
    "start_time": "2022-12-22T18:10:24.774Z"
   },
   {
    "duration": 55,
    "start_time": "2022-12-22T18:10:24.783Z"
   },
   {
    "duration": 8,
    "start_time": "2022-12-22T18:10:24.840Z"
   },
   {
    "duration": 10,
    "start_time": "2022-12-22T18:10:24.850Z"
   },
   {
    "duration": 16,
    "start_time": "2022-12-22T18:10:24.861Z"
   },
   {
    "duration": 22,
    "start_time": "2022-12-22T18:10:24.878Z"
   },
   {
    "duration": 29,
    "start_time": "2022-12-22T18:10:24.902Z"
   },
   {
    "duration": 3,
    "start_time": "2022-12-22T18:10:24.933Z"
   },
   {
    "duration": 15,
    "start_time": "2022-12-22T18:10:24.938Z"
   },
   {
    "duration": 9,
    "start_time": "2022-12-22T18:10:24.955Z"
   },
   {
    "duration": 3,
    "start_time": "2022-12-22T18:13:17.119Z"
   },
   {
    "duration": 27,
    "start_time": "2022-12-22T18:13:27.050Z"
   },
   {
    "duration": 14,
    "start_time": "2022-12-22T18:15:56.090Z"
   },
   {
    "duration": 65,
    "start_time": "2022-12-22T18:16:20.182Z"
   },
   {
    "duration": 11,
    "start_time": "2022-12-22T18:16:40.316Z"
   },
   {
    "duration": 18,
    "start_time": "2022-12-22T18:24:00.894Z"
   },
   {
    "duration": 3,
    "start_time": "2022-12-22T18:25:32.784Z"
   },
   {
    "duration": 7,
    "start_time": "2022-12-22T18:25:47.856Z"
   },
   {
    "duration": 14,
    "start_time": "2022-12-22T18:25:58.209Z"
   },
   {
    "duration": 13,
    "start_time": "2022-12-22T18:28:01.816Z"
   },
   {
    "duration": 3,
    "start_time": "2022-12-22T18:29:12.684Z"
   },
   {
    "duration": 11,
    "start_time": "2022-12-22T18:29:26.905Z"
   },
   {
    "duration": 15,
    "start_time": "2022-12-22T18:30:27.312Z"
   },
   {
    "duration": 12,
    "start_time": "2022-12-22T18:33:26.674Z"
   },
   {
    "duration": 5,
    "start_time": "2022-12-22T18:41:43.884Z"
   },
   {
    "duration": 35,
    "start_time": "2022-12-22T18:43:38.459Z"
   }
  ],
  "kernelspec": {
   "display_name": "Python 3 (ipykernel)",
   "language": "python",
   "name": "python3"
  },
  "language_info": {
   "codemirror_mode": {
    "name": "ipython",
    "version": 3
   },
   "file_extension": ".py",
   "mimetype": "text/x-python",
   "name": "python",
   "nbconvert_exporter": "python",
   "pygments_lexer": "ipython3",
   "version": "3.9.5"
  },
  "toc": {
   "base_numbering": 1,
   "nav_menu": {},
   "number_sections": true,
   "sideBar": true,
   "skip_h1_title": true,
   "title_cell": "Table of Contents",
   "title_sidebar": "Contents",
   "toc_cell": false,
   "toc_position": {},
   "toc_section_display": true,
   "toc_window_display": false
  }
 },
 "nbformat": 4,
 "nbformat_minor": 5
}
