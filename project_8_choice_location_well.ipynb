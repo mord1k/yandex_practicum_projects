{
 "cells": [
  {
   "cell_type": "markdown",
   "metadata": {},
   "source": [
    "# Выбор локации для скважины"
   ]
  },
  {
   "cell_type": "markdown",
   "metadata": {},
   "source": [
    "Допустим, вы работаете в добывающей компании «ГлавРосГосНефть». Нужно решить, где бурить новую скважину.\n",
    "\n",
    "Вам предоставлены пробы нефти в трёх регионах: в каждом 10 000 месторождений, где измерили качество нефти и объём её запасов. Постройте модель машинного обучения, которая поможет определить регион, где добыча принесёт наибольшую прибыль. Проанализируйте возможную прибыль и риски техникой *Bootstrap.*\n",
    "\n",
    "Шаги для выбора локации:\n",
    "\n",
    "- В избранном регионе ищут месторождения, для каждого определяют значения признаков;\n",
    "- Строят модель и оценивают объём запасов;\n",
    "- Выбирают месторождения с самым высокими оценками значений. Количество месторождений зависит от бюджета компании и стоимости разработки одной скважины;\n",
    "- Прибыль равна суммарной прибыли отобранных месторождений."
   ]
  },
  {
   "cell_type": "markdown",
   "metadata": {},
   "source": [
    "## Загрузка и подготовка данных"
   ]
  },
  {
   "cell_type": "code",
   "execution_count": 1,
   "metadata": {},
   "outputs": [],
   "source": [
    "import pandas as pd\n",
    "import seaborn as sns\n",
    "import matplotlib.pyplot as plt\n",
    "from sklearn.model_selection import train_test_split\n",
    "from sklearn.linear_model import LinearRegression\n",
    "from sklearn.preprocessing import StandardScaler \n",
    "from sklearn.metrics import mean_squared_error\n",
    "import math\n",
    "from numpy.random import RandomState\n",
    "import numpy as np\n",
    "from sklearn.preprocessing import MinMaxScaler"
   ]
  },
  {
   "cell_type": "code",
   "execution_count": 2,
   "metadata": {},
   "outputs": [],
   "source": [
    "RANDOM_STATE = 2023\n",
    "TEST_SIZE = 0.25\n",
    "BUDGET = 10e9\n",
    "BARREL = 450000\n",
    "WELL_COUNT = 200"
   ]
  },
  {
   "cell_type": "code",
   "execution_count": 3,
   "metadata": {},
   "outputs": [],
   "source": [
    "try:\n",
    "    data_1 = pd.read_csv('/datasets/geo_data_0.csv')\n",
    "except:\n",
    "    data_1 = pd.read_csv('https://code.s3.yandex.net/geo_data_0.csv')\n",
    "\n",
    "try:\n",
    "    data_2 = pd.read_csv('/datasets/geo_data_1.csv')\n",
    "except:\n",
    "    data_2 = pd.read_csv('https://code.s3.yandex.net/geo_data_1.csv')\n",
    "    \n",
    "try:\n",
    "    data_3 = pd.read_csv('/datasets/geo_data_2.csv')\n",
    "except:\n",
    "    data_3 = pd.read_csv('https://code.s3.yandex.net/geo_data_2.csv')"
   ]
  },
  {
   "cell_type": "markdown",
   "metadata": {},
   "source": [
    "Посмотрим, какие данные представлены в таблицах."
   ]
  },
  {
   "cell_type": "code",
   "execution_count": 4,
   "metadata": {},
   "outputs": [
    {
     "data": {
      "text/html": [
       "<div>\n",
       "<style scoped>\n",
       "    .dataframe tbody tr th:only-of-type {\n",
       "        vertical-align: middle;\n",
       "    }\n",
       "\n",
       "    .dataframe tbody tr th {\n",
       "        vertical-align: top;\n",
       "    }\n",
       "\n",
       "    .dataframe thead th {\n",
       "        text-align: right;\n",
       "    }\n",
       "</style>\n",
       "<table border=\"1\" class=\"dataframe\">\n",
       "  <thead>\n",
       "    <tr style=\"text-align: right;\">\n",
       "      <th></th>\n",
       "      <th>id</th>\n",
       "      <th>f0</th>\n",
       "      <th>f1</th>\n",
       "      <th>f2</th>\n",
       "      <th>product</th>\n",
       "    </tr>\n",
       "  </thead>\n",
       "  <tbody>\n",
       "    <tr>\n",
       "      <th>0</th>\n",
       "      <td>txEyH</td>\n",
       "      <td>0.705745</td>\n",
       "      <td>-0.497823</td>\n",
       "      <td>1.221170</td>\n",
       "      <td>105.280062</td>\n",
       "    </tr>\n",
       "    <tr>\n",
       "      <th>1</th>\n",
       "      <td>2acmU</td>\n",
       "      <td>1.334711</td>\n",
       "      <td>-0.340164</td>\n",
       "      <td>4.365080</td>\n",
       "      <td>73.037750</td>\n",
       "    </tr>\n",
       "    <tr>\n",
       "      <th>2</th>\n",
       "      <td>409Wp</td>\n",
       "      <td>1.022732</td>\n",
       "      <td>0.151990</td>\n",
       "      <td>1.419926</td>\n",
       "      <td>85.265647</td>\n",
       "    </tr>\n",
       "    <tr>\n",
       "      <th>3</th>\n",
       "      <td>iJLyR</td>\n",
       "      <td>-0.032172</td>\n",
       "      <td>0.139033</td>\n",
       "      <td>2.978566</td>\n",
       "      <td>168.620776</td>\n",
       "    </tr>\n",
       "    <tr>\n",
       "      <th>4</th>\n",
       "      <td>Xdl7t</td>\n",
       "      <td>1.988431</td>\n",
       "      <td>0.155413</td>\n",
       "      <td>4.751769</td>\n",
       "      <td>154.036647</td>\n",
       "    </tr>\n",
       "  </tbody>\n",
       "</table>\n",
       "</div>"
      ],
      "text/plain": [
       "      id        f0        f1        f2     product\n",
       "0  txEyH  0.705745 -0.497823  1.221170  105.280062\n",
       "1  2acmU  1.334711 -0.340164  4.365080   73.037750\n",
       "2  409Wp  1.022732  0.151990  1.419926   85.265647\n",
       "3  iJLyR -0.032172  0.139033  2.978566  168.620776\n",
       "4  Xdl7t  1.988431  0.155413  4.751769  154.036647"
      ]
     },
     "execution_count": 4,
     "metadata": {},
     "output_type": "execute_result"
    }
   ],
   "source": [
    "data_1.head()"
   ]
  },
  {
   "cell_type": "code",
   "execution_count": 5,
   "metadata": {},
   "outputs": [
    {
     "data": {
      "text/html": [
       "<div>\n",
       "<style scoped>\n",
       "    .dataframe tbody tr th:only-of-type {\n",
       "        vertical-align: middle;\n",
       "    }\n",
       "\n",
       "    .dataframe tbody tr th {\n",
       "        vertical-align: top;\n",
       "    }\n",
       "\n",
       "    .dataframe thead th {\n",
       "        text-align: right;\n",
       "    }\n",
       "</style>\n",
       "<table border=\"1\" class=\"dataframe\">\n",
       "  <thead>\n",
       "    <tr style=\"text-align: right;\">\n",
       "      <th></th>\n",
       "      <th>id</th>\n",
       "      <th>f0</th>\n",
       "      <th>f1</th>\n",
       "      <th>f2</th>\n",
       "      <th>product</th>\n",
       "    </tr>\n",
       "  </thead>\n",
       "  <tbody>\n",
       "    <tr>\n",
       "      <th>0</th>\n",
       "      <td>kBEdx</td>\n",
       "      <td>-15.001348</td>\n",
       "      <td>-8.276000</td>\n",
       "      <td>-0.005876</td>\n",
       "      <td>3.179103</td>\n",
       "    </tr>\n",
       "    <tr>\n",
       "      <th>1</th>\n",
       "      <td>62mP7</td>\n",
       "      <td>14.272088</td>\n",
       "      <td>-3.475083</td>\n",
       "      <td>0.999183</td>\n",
       "      <td>26.953261</td>\n",
       "    </tr>\n",
       "    <tr>\n",
       "      <th>2</th>\n",
       "      <td>vyE1P</td>\n",
       "      <td>6.263187</td>\n",
       "      <td>-5.948386</td>\n",
       "      <td>5.001160</td>\n",
       "      <td>134.766305</td>\n",
       "    </tr>\n",
       "    <tr>\n",
       "      <th>3</th>\n",
       "      <td>KcrkZ</td>\n",
       "      <td>-13.081196</td>\n",
       "      <td>-11.506057</td>\n",
       "      <td>4.999415</td>\n",
       "      <td>137.945408</td>\n",
       "    </tr>\n",
       "    <tr>\n",
       "      <th>4</th>\n",
       "      <td>AHL4O</td>\n",
       "      <td>12.702195</td>\n",
       "      <td>-8.147433</td>\n",
       "      <td>5.004363</td>\n",
       "      <td>134.766305</td>\n",
       "    </tr>\n",
       "  </tbody>\n",
       "</table>\n",
       "</div>"
      ],
      "text/plain": [
       "      id         f0         f1        f2     product\n",
       "0  kBEdx -15.001348  -8.276000 -0.005876    3.179103\n",
       "1  62mP7  14.272088  -3.475083  0.999183   26.953261\n",
       "2  vyE1P   6.263187  -5.948386  5.001160  134.766305\n",
       "3  KcrkZ -13.081196 -11.506057  4.999415  137.945408\n",
       "4  AHL4O  12.702195  -8.147433  5.004363  134.766305"
      ]
     },
     "execution_count": 5,
     "metadata": {},
     "output_type": "execute_result"
    }
   ],
   "source": [
    "data_2.head()"
   ]
  },
  {
   "cell_type": "code",
   "execution_count": 6,
   "metadata": {},
   "outputs": [
    {
     "data": {
      "text/html": [
       "<div>\n",
       "<style scoped>\n",
       "    .dataframe tbody tr th:only-of-type {\n",
       "        vertical-align: middle;\n",
       "    }\n",
       "\n",
       "    .dataframe tbody tr th {\n",
       "        vertical-align: top;\n",
       "    }\n",
       "\n",
       "    .dataframe thead th {\n",
       "        text-align: right;\n",
       "    }\n",
       "</style>\n",
       "<table border=\"1\" class=\"dataframe\">\n",
       "  <thead>\n",
       "    <tr style=\"text-align: right;\">\n",
       "      <th></th>\n",
       "      <th>id</th>\n",
       "      <th>f0</th>\n",
       "      <th>f1</th>\n",
       "      <th>f2</th>\n",
       "      <th>product</th>\n",
       "    </tr>\n",
       "  </thead>\n",
       "  <tbody>\n",
       "    <tr>\n",
       "      <th>0</th>\n",
       "      <td>fwXo0</td>\n",
       "      <td>-1.146987</td>\n",
       "      <td>0.963328</td>\n",
       "      <td>-0.828965</td>\n",
       "      <td>27.758673</td>\n",
       "    </tr>\n",
       "    <tr>\n",
       "      <th>1</th>\n",
       "      <td>WJtFt</td>\n",
       "      <td>0.262778</td>\n",
       "      <td>0.269839</td>\n",
       "      <td>-2.530187</td>\n",
       "      <td>56.069697</td>\n",
       "    </tr>\n",
       "    <tr>\n",
       "      <th>2</th>\n",
       "      <td>ovLUW</td>\n",
       "      <td>0.194587</td>\n",
       "      <td>0.289035</td>\n",
       "      <td>-5.586433</td>\n",
       "      <td>62.871910</td>\n",
       "    </tr>\n",
       "    <tr>\n",
       "      <th>3</th>\n",
       "      <td>q6cA6</td>\n",
       "      <td>2.236060</td>\n",
       "      <td>-0.553760</td>\n",
       "      <td>0.930038</td>\n",
       "      <td>114.572842</td>\n",
       "    </tr>\n",
       "    <tr>\n",
       "      <th>4</th>\n",
       "      <td>WPMUX</td>\n",
       "      <td>-0.515993</td>\n",
       "      <td>1.716266</td>\n",
       "      <td>5.899011</td>\n",
       "      <td>149.600746</td>\n",
       "    </tr>\n",
       "  </tbody>\n",
       "</table>\n",
       "</div>"
      ],
      "text/plain": [
       "      id        f0        f1        f2     product\n",
       "0  fwXo0 -1.146987  0.963328 -0.828965   27.758673\n",
       "1  WJtFt  0.262778  0.269839 -2.530187   56.069697\n",
       "2  ovLUW  0.194587  0.289035 -5.586433   62.871910\n",
       "3  q6cA6  2.236060 -0.553760  0.930038  114.572842\n",
       "4  WPMUX -0.515993  1.716266  5.899011  149.600746"
      ]
     },
     "execution_count": 6,
     "metadata": {},
     "output_type": "execute_result"
    }
   ],
   "source": [
    "data_3.head()"
   ]
  },
  {
   "cell_type": "code",
   "execution_count": 7,
   "metadata": {},
   "outputs": [
    {
     "name": "stdout",
     "output_type": "stream",
     "text": [
      "<class 'pandas.core.frame.DataFrame'>\n",
      "RangeIndex: 100000 entries, 0 to 99999\n",
      "Data columns (total 5 columns):\n",
      " #   Column   Non-Null Count   Dtype  \n",
      "---  ------   --------------   -----  \n",
      " 0   id       100000 non-null  object \n",
      " 1   f0       100000 non-null  float64\n",
      " 2   f1       100000 non-null  float64\n",
      " 3   f2       100000 non-null  float64\n",
      " 4   product  100000 non-null  float64\n",
      "dtypes: float64(4), object(1)\n",
      "memory usage: 3.8+ MB\n",
      "None \n",
      "\n",
      "<class 'pandas.core.frame.DataFrame'>\n",
      "RangeIndex: 100000 entries, 0 to 99999\n",
      "Data columns (total 5 columns):\n",
      " #   Column   Non-Null Count   Dtype  \n",
      "---  ------   --------------   -----  \n",
      " 0   id       100000 non-null  object \n",
      " 1   f0       100000 non-null  float64\n",
      " 2   f1       100000 non-null  float64\n",
      " 3   f2       100000 non-null  float64\n",
      " 4   product  100000 non-null  float64\n",
      "dtypes: float64(4), object(1)\n",
      "memory usage: 3.8+ MB\n",
      "None \n",
      "\n",
      "<class 'pandas.core.frame.DataFrame'>\n",
      "RangeIndex: 100000 entries, 0 to 99999\n",
      "Data columns (total 5 columns):\n",
      " #   Column   Non-Null Count   Dtype  \n",
      "---  ------   --------------   -----  \n",
      " 0   id       100000 non-null  object \n",
      " 1   f0       100000 non-null  float64\n",
      " 2   f1       100000 non-null  float64\n",
      " 3   f2       100000 non-null  float64\n",
      " 4   product  100000 non-null  float64\n",
      "dtypes: float64(4), object(1)\n",
      "memory usage: 3.8+ MB\n"
     ]
    }
   ],
   "source": [
    "print(data_1.info(),'\\n')\n",
    "print(data_2.info(), '\\n')\n",
    "data_3.info()"
   ]
  },
  {
   "cell_type": "markdown",
   "metadata": {},
   "source": [
    "Можно с уверенностью сказать, что в данных нет пропусков и таблице по структуре схожи. Проверим данные на дубликаты."
   ]
  },
  {
   "cell_type": "code",
   "execution_count": 8,
   "metadata": {},
   "outputs": [
    {
     "data": {
      "text/plain": [
       "0"
      ]
     },
     "execution_count": 8,
     "metadata": {},
     "output_type": "execute_result"
    }
   ],
   "source": [
    "data_1.duplicated().sum()"
   ]
  },
  {
   "cell_type": "code",
   "execution_count": 9,
   "metadata": {},
   "outputs": [
    {
     "data": {
      "text/plain": [
       "0"
      ]
     },
     "execution_count": 9,
     "metadata": {},
     "output_type": "execute_result"
    }
   ],
   "source": [
    "data_2.duplicated().sum()"
   ]
  },
  {
   "cell_type": "code",
   "execution_count": 10,
   "metadata": {},
   "outputs": [
    {
     "data": {
      "text/plain": [
       "0"
      ]
     },
     "execution_count": 10,
     "metadata": {},
     "output_type": "execute_result"
    }
   ],
   "source": [
    "data_3.duplicated().sum()"
   ]
  },
  {
   "cell_type": "markdown",
   "metadata": {},
   "source": [
    "Полных дубликатов в данных нет. В таблицах есть уникальные идентификаторы, которые лучше всегда исключать, так как есть вероятность переобучения модели на них. Перед удалением проверим данный столбец на дубликаты."
   ]
  },
  {
   "cell_type": "code",
   "execution_count": 11,
   "metadata": {},
   "outputs": [
    {
     "data": {
      "text/plain": [
       "10"
      ]
     },
     "execution_count": 11,
     "metadata": {},
     "output_type": "execute_result"
    }
   ],
   "source": [
    "data_1['id'].duplicated().sum()"
   ]
  },
  {
   "cell_type": "code",
   "execution_count": 12,
   "metadata": {},
   "outputs": [
    {
     "data": {
      "text/html": [
       "<div>\n",
       "<style scoped>\n",
       "    .dataframe tbody tr th:only-of-type {\n",
       "        vertical-align: middle;\n",
       "    }\n",
       "\n",
       "    .dataframe tbody tr th {\n",
       "        vertical-align: top;\n",
       "    }\n",
       "\n",
       "    .dataframe thead th {\n",
       "        text-align: right;\n",
       "    }\n",
       "</style>\n",
       "<table border=\"1\" class=\"dataframe\">\n",
       "  <thead>\n",
       "    <tr style=\"text-align: right;\">\n",
       "      <th></th>\n",
       "      <th>id</th>\n",
       "      <th>f0</th>\n",
       "      <th>f1</th>\n",
       "      <th>f2</th>\n",
       "      <th>product</th>\n",
       "    </tr>\n",
       "  </thead>\n",
       "  <tbody>\n",
       "    <tr>\n",
       "      <th>7530</th>\n",
       "      <td>HZww2</td>\n",
       "      <td>1.061194</td>\n",
       "      <td>-0.373969</td>\n",
       "      <td>10.430210</td>\n",
       "      <td>158.828695</td>\n",
       "    </tr>\n",
       "    <tr>\n",
       "      <th>41724</th>\n",
       "      <td>bxg6G</td>\n",
       "      <td>-0.823752</td>\n",
       "      <td>0.546319</td>\n",
       "      <td>3.630479</td>\n",
       "      <td>93.007798</td>\n",
       "    </tr>\n",
       "    <tr>\n",
       "      <th>51970</th>\n",
       "      <td>A5aEY</td>\n",
       "      <td>-0.180335</td>\n",
       "      <td>0.935548</td>\n",
       "      <td>-2.094773</td>\n",
       "      <td>33.020205</td>\n",
       "    </tr>\n",
       "    <tr>\n",
       "      <th>63593</th>\n",
       "      <td>QcMuo</td>\n",
       "      <td>0.635635</td>\n",
       "      <td>-0.473422</td>\n",
       "      <td>0.862670</td>\n",
       "      <td>64.578675</td>\n",
       "    </tr>\n",
       "    <tr>\n",
       "      <th>66136</th>\n",
       "      <td>74z30</td>\n",
       "      <td>1.084962</td>\n",
       "      <td>-0.312358</td>\n",
       "      <td>6.990771</td>\n",
       "      <td>127.643327</td>\n",
       "    </tr>\n",
       "    <tr>\n",
       "      <th>69163</th>\n",
       "      <td>AGS9W</td>\n",
       "      <td>-0.933795</td>\n",
       "      <td>0.116194</td>\n",
       "      <td>-3.655896</td>\n",
       "      <td>19.230453</td>\n",
       "    </tr>\n",
       "    <tr>\n",
       "      <th>75715</th>\n",
       "      <td>Tdehs</td>\n",
       "      <td>0.112079</td>\n",
       "      <td>0.430296</td>\n",
       "      <td>3.218993</td>\n",
       "      <td>60.964018</td>\n",
       "    </tr>\n",
       "    <tr>\n",
       "      <th>90815</th>\n",
       "      <td>fiKDv</td>\n",
       "      <td>0.049883</td>\n",
       "      <td>0.841313</td>\n",
       "      <td>6.394613</td>\n",
       "      <td>137.346586</td>\n",
       "    </tr>\n",
       "    <tr>\n",
       "      <th>92341</th>\n",
       "      <td>TtcGQ</td>\n",
       "      <td>0.110711</td>\n",
       "      <td>1.022689</td>\n",
       "      <td>0.911381</td>\n",
       "      <td>101.318008</td>\n",
       "    </tr>\n",
       "    <tr>\n",
       "      <th>97785</th>\n",
       "      <td>bsk9y</td>\n",
       "      <td>0.378429</td>\n",
       "      <td>0.005837</td>\n",
       "      <td>0.160827</td>\n",
       "      <td>160.637302</td>\n",
       "    </tr>\n",
       "  </tbody>\n",
       "</table>\n",
       "</div>"
      ],
      "text/plain": [
       "          id        f0        f1         f2     product\n",
       "7530   HZww2  1.061194 -0.373969  10.430210  158.828695\n",
       "41724  bxg6G -0.823752  0.546319   3.630479   93.007798\n",
       "51970  A5aEY -0.180335  0.935548  -2.094773   33.020205\n",
       "63593  QcMuo  0.635635 -0.473422   0.862670   64.578675\n",
       "66136  74z30  1.084962 -0.312358   6.990771  127.643327\n",
       "69163  AGS9W -0.933795  0.116194  -3.655896   19.230453\n",
       "75715  Tdehs  0.112079  0.430296   3.218993   60.964018\n",
       "90815  fiKDv  0.049883  0.841313   6.394613  137.346586\n",
       "92341  TtcGQ  0.110711  1.022689   0.911381  101.318008\n",
       "97785  bsk9y  0.378429  0.005837   0.160827  160.637302"
      ]
     },
     "execution_count": 12,
     "metadata": {},
     "output_type": "execute_result"
    }
   ],
   "source": [
    "data_1[data_1['id'].duplicated()]"
   ]
  },
  {
   "cell_type": "markdown",
   "metadata": {},
   "source": [
    "Видим, что в первом регионе есть дубликаты по столбцу `id`. Их можно оставть, либо удалить, т.к. они занимают 0.0001 процент от данных. Это никак не помешают нашему анализу."
   ]
  },
  {
   "cell_type": "code",
   "execution_count": 13,
   "metadata": {},
   "outputs": [],
   "source": [
    "data_1 = data_1.drop_duplicates(subset='id').reset_index(drop=True)"
   ]
  },
  {
   "cell_type": "code",
   "execution_count": 14,
   "metadata": {},
   "outputs": [
    {
     "name": "stdout",
     "output_type": "stream",
     "text": [
      "<class 'pandas.core.frame.DataFrame'>\n",
      "RangeIndex: 99990 entries, 0 to 99989\n",
      "Data columns (total 5 columns):\n",
      " #   Column   Non-Null Count  Dtype  \n",
      "---  ------   --------------  -----  \n",
      " 0   id       99990 non-null  object \n",
      " 1   f0       99990 non-null  float64\n",
      " 2   f1       99990 non-null  float64\n",
      " 3   f2       99990 non-null  float64\n",
      " 4   product  99990 non-null  float64\n",
      "dtypes: float64(4), object(1)\n",
      "memory usage: 3.8+ MB\n"
     ]
    }
   ],
   "source": [
    "data_1.info()"
   ]
  },
  {
   "cell_type": "markdown",
   "metadata": {},
   "source": [
    "Видим, что дубликаты были удалены. Проверим второй регион."
   ]
  },
  {
   "cell_type": "code",
   "execution_count": 15,
   "metadata": {},
   "outputs": [
    {
     "data": {
      "text/plain": [
       "4"
      ]
     },
     "execution_count": 15,
     "metadata": {},
     "output_type": "execute_result"
    }
   ],
   "source": [
    "data_2['id'].duplicated().sum()"
   ]
  },
  {
   "cell_type": "code",
   "execution_count": 16,
   "metadata": {},
   "outputs": [],
   "source": [
    "data_2 = data_2.drop_duplicates(subset='id').reset_index(drop=True)"
   ]
  },
  {
   "cell_type": "code",
   "execution_count": 17,
   "metadata": {},
   "outputs": [
    {
     "name": "stdout",
     "output_type": "stream",
     "text": [
      "<class 'pandas.core.frame.DataFrame'>\n",
      "RangeIndex: 99996 entries, 0 to 99995\n",
      "Data columns (total 5 columns):\n",
      " #   Column   Non-Null Count  Dtype  \n",
      "---  ------   --------------  -----  \n",
      " 0   id       99996 non-null  object \n",
      " 1   f0       99996 non-null  float64\n",
      " 2   f1       99996 non-null  float64\n",
      " 3   f2       99996 non-null  float64\n",
      " 4   product  99996 non-null  float64\n",
      "dtypes: float64(4), object(1)\n",
      "memory usage: 3.8+ MB\n"
     ]
    }
   ],
   "source": [
    "data_2.info()"
   ]
  },
  {
   "cell_type": "markdown",
   "metadata": {},
   "source": [
    "Во втором датасете мы также удалили 4 дубликата. Приступим к проверке третьего региона."
   ]
  },
  {
   "cell_type": "code",
   "execution_count": 18,
   "metadata": {},
   "outputs": [
    {
     "data": {
      "text/plain": [
       "4"
      ]
     },
     "execution_count": 18,
     "metadata": {},
     "output_type": "execute_result"
    }
   ],
   "source": [
    "data_3['id'].duplicated().sum()"
   ]
  },
  {
   "cell_type": "code",
   "execution_count": 19,
   "metadata": {},
   "outputs": [],
   "source": [
    "data_3 = data_3.drop_duplicates(subset='id').reset_index(drop=True)"
   ]
  },
  {
   "cell_type": "code",
   "execution_count": 20,
   "metadata": {},
   "outputs": [
    {
     "name": "stdout",
     "output_type": "stream",
     "text": [
      "<class 'pandas.core.frame.DataFrame'>\n",
      "RangeIndex: 99996 entries, 0 to 99995\n",
      "Data columns (total 5 columns):\n",
      " #   Column   Non-Null Count  Dtype  \n",
      "---  ------   --------------  -----  \n",
      " 0   id       99996 non-null  object \n",
      " 1   f0       99996 non-null  float64\n",
      " 2   f1       99996 non-null  float64\n",
      " 3   f2       99996 non-null  float64\n",
      " 4   product  99996 non-null  float64\n",
      "dtypes: float64(4), object(1)\n",
      "memory usage: 3.8+ MB\n"
     ]
    }
   ],
   "source": [
    "data_3.info()"
   ]
  },
  {
   "cell_type": "markdown",
   "metadata": {},
   "source": [
    "В трёх датасетах были обнаружены дубликаты, их колиство слишком мало, поэтому было принято решение их удалить, т.к. данные не будут искажены. Теперь исключим столбец `id` из наших данных, т.к. он нам больше не пригодится."
   ]
  },
  {
   "cell_type": "code",
   "execution_count": 21,
   "metadata": {},
   "outputs": [],
   "source": [
    "data_1 = data_1.drop(['id'] , axis=1)\n",
    "data_2 = data_2.drop(['id'] , axis=1)\n",
    "data_3 = data_3.drop(['id'] , axis=1)"
   ]
  },
  {
   "cell_type": "markdown",
   "metadata": {},
   "source": [
    "Посмотрим на распределение данных в каждом регионе."
   ]
  },
  {
   "cell_type": "code",
   "execution_count": 22,
   "metadata": {},
   "outputs": [
    {
     "data": {
      "text/html": [
       "<div>\n",
       "<style scoped>\n",
       "    .dataframe tbody tr th:only-of-type {\n",
       "        vertical-align: middle;\n",
       "    }\n",
       "\n",
       "    .dataframe tbody tr th {\n",
       "        vertical-align: top;\n",
       "    }\n",
       "\n",
       "    .dataframe thead th {\n",
       "        text-align: right;\n",
       "    }\n",
       "</style>\n",
       "<table border=\"1\" class=\"dataframe\">\n",
       "  <thead>\n",
       "    <tr style=\"text-align: right;\">\n",
       "      <th></th>\n",
       "      <th>f0</th>\n",
       "      <th>f1</th>\n",
       "      <th>f2</th>\n",
       "      <th>product</th>\n",
       "    </tr>\n",
       "  </thead>\n",
       "  <tbody>\n",
       "    <tr>\n",
       "      <th>count</th>\n",
       "      <td>99990.000000</td>\n",
       "      <td>99990.000000</td>\n",
       "      <td>99990.000000</td>\n",
       "      <td>99990.000000</td>\n",
       "    </tr>\n",
       "    <tr>\n",
       "      <th>mean</th>\n",
       "      <td>0.500454</td>\n",
       "      <td>0.250141</td>\n",
       "      <td>2.502629</td>\n",
       "      <td>92.499684</td>\n",
       "    </tr>\n",
       "    <tr>\n",
       "      <th>std</th>\n",
       "      <td>0.871844</td>\n",
       "      <td>0.504430</td>\n",
       "      <td>3.248149</td>\n",
       "      <td>44.288304</td>\n",
       "    </tr>\n",
       "    <tr>\n",
       "      <th>min</th>\n",
       "      <td>-1.408605</td>\n",
       "      <td>-0.848218</td>\n",
       "      <td>-12.088328</td>\n",
       "      <td>0.000000</td>\n",
       "    </tr>\n",
       "    <tr>\n",
       "      <th>25%</th>\n",
       "      <td>-0.072572</td>\n",
       "      <td>-0.200877</td>\n",
       "      <td>0.287784</td>\n",
       "      <td>56.497069</td>\n",
       "    </tr>\n",
       "    <tr>\n",
       "      <th>50%</th>\n",
       "      <td>0.502405</td>\n",
       "      <td>0.250252</td>\n",
       "      <td>2.515969</td>\n",
       "      <td>91.847928</td>\n",
       "    </tr>\n",
       "    <tr>\n",
       "      <th>75%</th>\n",
       "      <td>1.073626</td>\n",
       "      <td>0.700640</td>\n",
       "      <td>4.715035</td>\n",
       "      <td>128.563699</td>\n",
       "    </tr>\n",
       "    <tr>\n",
       "      <th>max</th>\n",
       "      <td>2.362331</td>\n",
       "      <td>1.343769</td>\n",
       "      <td>16.003790</td>\n",
       "      <td>185.364347</td>\n",
       "    </tr>\n",
       "  </tbody>\n",
       "</table>\n",
       "</div>"
      ],
      "text/plain": [
       "                 f0            f1            f2       product\n",
       "count  99990.000000  99990.000000  99990.000000  99990.000000\n",
       "mean       0.500454      0.250141      2.502629     92.499684\n",
       "std        0.871844      0.504430      3.248149     44.288304\n",
       "min       -1.408605     -0.848218    -12.088328      0.000000\n",
       "25%       -0.072572     -0.200877      0.287784     56.497069\n",
       "50%        0.502405      0.250252      2.515969     91.847928\n",
       "75%        1.073626      0.700640      4.715035    128.563699\n",
       "max        2.362331      1.343769     16.003790    185.364347"
      ]
     },
     "execution_count": 22,
     "metadata": {},
     "output_type": "execute_result"
    }
   ],
   "source": [
    "data_1.describe()"
   ]
  },
  {
   "cell_type": "code",
   "execution_count": 23,
   "metadata": {},
   "outputs": [
    {
     "data": {
      "text/html": [
       "<div>\n",
       "<style scoped>\n",
       "    .dataframe tbody tr th:only-of-type {\n",
       "        vertical-align: middle;\n",
       "    }\n",
       "\n",
       "    .dataframe tbody tr th {\n",
       "        vertical-align: top;\n",
       "    }\n",
       "\n",
       "    .dataframe thead th {\n",
       "        text-align: right;\n",
       "    }\n",
       "</style>\n",
       "<table border=\"1\" class=\"dataframe\">\n",
       "  <thead>\n",
       "    <tr style=\"text-align: right;\">\n",
       "      <th></th>\n",
       "      <th>f0</th>\n",
       "      <th>f1</th>\n",
       "      <th>f2</th>\n",
       "      <th>product</th>\n",
       "    </tr>\n",
       "  </thead>\n",
       "  <tbody>\n",
       "    <tr>\n",
       "      <th>count</th>\n",
       "      <td>99996.000000</td>\n",
       "      <td>99996.000000</td>\n",
       "      <td>99996.000000</td>\n",
       "      <td>99996.000000</td>\n",
       "    </tr>\n",
       "    <tr>\n",
       "      <th>mean</th>\n",
       "      <td>1.141209</td>\n",
       "      <td>-4.796608</td>\n",
       "      <td>2.494501</td>\n",
       "      <td>68.823916</td>\n",
       "    </tr>\n",
       "    <tr>\n",
       "      <th>std</th>\n",
       "      <td>8.965815</td>\n",
       "      <td>5.119906</td>\n",
       "      <td>1.703579</td>\n",
       "      <td>45.944663</td>\n",
       "    </tr>\n",
       "    <tr>\n",
       "      <th>min</th>\n",
       "      <td>-31.609576</td>\n",
       "      <td>-26.358598</td>\n",
       "      <td>-0.018144</td>\n",
       "      <td>0.000000</td>\n",
       "    </tr>\n",
       "    <tr>\n",
       "      <th>25%</th>\n",
       "      <td>-6.298551</td>\n",
       "      <td>-8.267985</td>\n",
       "      <td>1.000021</td>\n",
       "      <td>26.953261</td>\n",
       "    </tr>\n",
       "    <tr>\n",
       "      <th>50%</th>\n",
       "      <td>1.153055</td>\n",
       "      <td>-4.813172</td>\n",
       "      <td>2.011475</td>\n",
       "      <td>57.085625</td>\n",
       "    </tr>\n",
       "    <tr>\n",
       "      <th>75%</th>\n",
       "      <td>8.620964</td>\n",
       "      <td>-1.332816</td>\n",
       "      <td>3.999904</td>\n",
       "      <td>107.813044</td>\n",
       "    </tr>\n",
       "    <tr>\n",
       "      <th>max</th>\n",
       "      <td>29.421755</td>\n",
       "      <td>18.734063</td>\n",
       "      <td>5.019721</td>\n",
       "      <td>137.945408</td>\n",
       "    </tr>\n",
       "  </tbody>\n",
       "</table>\n",
       "</div>"
      ],
      "text/plain": [
       "                 f0            f1            f2       product\n",
       "count  99996.000000  99996.000000  99996.000000  99996.000000\n",
       "mean       1.141209     -4.796608      2.494501     68.823916\n",
       "std        8.965815      5.119906      1.703579     45.944663\n",
       "min      -31.609576    -26.358598     -0.018144      0.000000\n",
       "25%       -6.298551     -8.267985      1.000021     26.953261\n",
       "50%        1.153055     -4.813172      2.011475     57.085625\n",
       "75%        8.620964     -1.332816      3.999904    107.813044\n",
       "max       29.421755     18.734063      5.019721    137.945408"
      ]
     },
     "execution_count": 23,
     "metadata": {},
     "output_type": "execute_result"
    }
   ],
   "source": [
    "data_2.describe()"
   ]
  },
  {
   "cell_type": "code",
   "execution_count": 24,
   "metadata": {},
   "outputs": [
    {
     "data": {
      "text/html": [
       "<div>\n",
       "<style scoped>\n",
       "    .dataframe tbody tr th:only-of-type {\n",
       "        vertical-align: middle;\n",
       "    }\n",
       "\n",
       "    .dataframe tbody tr th {\n",
       "        vertical-align: top;\n",
       "    }\n",
       "\n",
       "    .dataframe thead th {\n",
       "        text-align: right;\n",
       "    }\n",
       "</style>\n",
       "<table border=\"1\" class=\"dataframe\">\n",
       "  <thead>\n",
       "    <tr style=\"text-align: right;\">\n",
       "      <th></th>\n",
       "      <th>f0</th>\n",
       "      <th>f1</th>\n",
       "      <th>f2</th>\n",
       "      <th>product</th>\n",
       "    </tr>\n",
       "  </thead>\n",
       "  <tbody>\n",
       "    <tr>\n",
       "      <th>count</th>\n",
       "      <td>99996.000000</td>\n",
       "      <td>99996.000000</td>\n",
       "      <td>99996.000000</td>\n",
       "      <td>99996.000000</td>\n",
       "    </tr>\n",
       "    <tr>\n",
       "      <th>mean</th>\n",
       "      <td>0.002002</td>\n",
       "      <td>-0.002159</td>\n",
       "      <td>2.495084</td>\n",
       "      <td>94.998342</td>\n",
       "    </tr>\n",
       "    <tr>\n",
       "      <th>std</th>\n",
       "      <td>1.732052</td>\n",
       "      <td>1.730397</td>\n",
       "      <td>3.473482</td>\n",
       "      <td>44.749573</td>\n",
       "    </tr>\n",
       "    <tr>\n",
       "      <th>min</th>\n",
       "      <td>-8.760004</td>\n",
       "      <td>-7.084020</td>\n",
       "      <td>-11.970335</td>\n",
       "      <td>0.000000</td>\n",
       "    </tr>\n",
       "    <tr>\n",
       "      <th>25%</th>\n",
       "      <td>-1.162328</td>\n",
       "      <td>-1.174841</td>\n",
       "      <td>0.130269</td>\n",
       "      <td>59.450028</td>\n",
       "    </tr>\n",
       "    <tr>\n",
       "      <th>50%</th>\n",
       "      <td>0.009424</td>\n",
       "      <td>-0.009661</td>\n",
       "      <td>2.484236</td>\n",
       "      <td>94.925026</td>\n",
       "    </tr>\n",
       "    <tr>\n",
       "      <th>75%</th>\n",
       "      <td>1.158477</td>\n",
       "      <td>1.163523</td>\n",
       "      <td>4.858720</td>\n",
       "      <td>130.586815</td>\n",
       "    </tr>\n",
       "    <tr>\n",
       "      <th>max</th>\n",
       "      <td>7.238262</td>\n",
       "      <td>7.844801</td>\n",
       "      <td>16.739402</td>\n",
       "      <td>190.029838</td>\n",
       "    </tr>\n",
       "  </tbody>\n",
       "</table>\n",
       "</div>"
      ],
      "text/plain": [
       "                 f0            f1            f2       product\n",
       "count  99996.000000  99996.000000  99996.000000  99996.000000\n",
       "mean       0.002002     -0.002159      2.495084     94.998342\n",
       "std        1.732052      1.730397      3.473482     44.749573\n",
       "min       -8.760004     -7.084020    -11.970335      0.000000\n",
       "25%       -1.162328     -1.174841      0.130269     59.450028\n",
       "50%        0.009424     -0.009661      2.484236     94.925026\n",
       "75%        1.158477      1.163523      4.858720    130.586815\n",
       "max        7.238262      7.844801     16.739402    190.029838"
      ]
     },
     "execution_count": 24,
     "metadata": {},
     "output_type": "execute_result"
    }
   ],
   "source": [
    "data_3.describe()"
   ]
  },
  {
   "cell_type": "markdown",
   "metadata": {},
   "source": [
    "Также можно проверить корреляцию в данных датасетов. Построим матрицы корреляции и для удобства визуализируем хитмэпом."
   ]
  },
  {
   "cell_type": "code",
   "execution_count": 25,
   "metadata": {},
   "outputs": [
    {
     "data": {
      "text/html": [
       "<div>\n",
       "<style scoped>\n",
       "    .dataframe tbody tr th:only-of-type {\n",
       "        vertical-align: middle;\n",
       "    }\n",
       "\n",
       "    .dataframe tbody tr th {\n",
       "        vertical-align: top;\n",
       "    }\n",
       "\n",
       "    .dataframe thead th {\n",
       "        text-align: right;\n",
       "    }\n",
       "</style>\n",
       "<table border=\"1\" class=\"dataframe\">\n",
       "  <thead>\n",
       "    <tr style=\"text-align: right;\">\n",
       "      <th></th>\n",
       "      <th>f0</th>\n",
       "      <th>f1</th>\n",
       "      <th>f2</th>\n",
       "      <th>product</th>\n",
       "    </tr>\n",
       "  </thead>\n",
       "  <tbody>\n",
       "    <tr>\n",
       "      <th>f0</th>\n",
       "      <td>1.000000</td>\n",
       "      <td>-0.471379</td>\n",
       "      <td>-0.002739</td>\n",
       "      <td>0.128379</td>\n",
       "    </tr>\n",
       "    <tr>\n",
       "      <th>f1</th>\n",
       "      <td>-0.471379</td>\n",
       "      <td>1.000000</td>\n",
       "      <td>0.001440</td>\n",
       "      <td>-0.181136</td>\n",
       "    </tr>\n",
       "    <tr>\n",
       "      <th>f2</th>\n",
       "      <td>-0.002739</td>\n",
       "      <td>0.001440</td>\n",
       "      <td>1.000000</td>\n",
       "      <td>0.486370</td>\n",
       "    </tr>\n",
       "    <tr>\n",
       "      <th>product</th>\n",
       "      <td>0.128379</td>\n",
       "      <td>-0.181136</td>\n",
       "      <td>0.486370</td>\n",
       "      <td>1.000000</td>\n",
       "    </tr>\n",
       "  </tbody>\n",
       "</table>\n",
       "</div>"
      ],
      "text/plain": [
       "               f0        f1        f2   product\n",
       "f0       1.000000 -0.471379 -0.002739  0.128379\n",
       "f1      -0.471379  1.000000  0.001440 -0.181136\n",
       "f2      -0.002739  0.001440  1.000000  0.486370\n",
       "product  0.128379 -0.181136  0.486370  1.000000"
      ]
     },
     "execution_count": 25,
     "metadata": {},
     "output_type": "execute_result"
    }
   ],
   "source": [
    "data_1.corr(method='spearman')"
   ]
  },
  {
   "cell_type": "code",
   "execution_count": 26,
   "metadata": {},
   "outputs": [
    {
     "data": {
      "image/png": "[encoded data removed]",
      "text/plain": [
       "<Figure size 432x288 with 2 Axes>"
      ]
     },
     "metadata": {
      "needs_background": "light"
     },
     "output_type": "display_data"
    }
   ],
   "source": [
    "sns.heatmap(data_1.corr(), vmin = -1, vmax = +1, annot = True, cmap = 'coolwarm');"
   ]
  },
  {
   "cell_type": "code",
   "execution_count": 27,
   "metadata": {},
   "outputs": [
    {
     "data": {
      "text/html": [
       "<div>\n",
       "<style scoped>\n",
       "    .dataframe tbody tr th:only-of-type {\n",
       "        vertical-align: middle;\n",
       "    }\n",
       "\n",
       "    .dataframe tbody tr th {\n",
       "        vertical-align: top;\n",
       "    }\n",
       "\n",
       "    .dataframe thead th {\n",
       "        text-align: right;\n",
       "    }\n",
       "</style>\n",
       "<table border=\"1\" class=\"dataframe\">\n",
       "  <thead>\n",
       "    <tr style=\"text-align: right;\">\n",
       "      <th></th>\n",
       "      <th>f0</th>\n",
       "      <th>f1</th>\n",
       "      <th>f2</th>\n",
       "      <th>product</th>\n",
       "    </tr>\n",
       "  </thead>\n",
       "  <tbody>\n",
       "    <tr>\n",
       "      <th>f0</th>\n",
       "      <td>1.000000</td>\n",
       "      <td>0.182247</td>\n",
       "      <td>-0.002024</td>\n",
       "      <td>-0.122901</td>\n",
       "    </tr>\n",
       "    <tr>\n",
       "      <th>f1</th>\n",
       "      <td>0.182247</td>\n",
       "      <td>1.000000</td>\n",
       "      <td>-0.003674</td>\n",
       "      <td>-0.033906</td>\n",
       "    </tr>\n",
       "    <tr>\n",
       "      <th>f2</th>\n",
       "      <td>-0.002024</td>\n",
       "      <td>-0.003674</td>\n",
       "      <td>1.000000</td>\n",
       "      <td>0.975604</td>\n",
       "    </tr>\n",
       "    <tr>\n",
       "      <th>product</th>\n",
       "      <td>-0.122901</td>\n",
       "      <td>-0.033906</td>\n",
       "      <td>0.975604</td>\n",
       "      <td>1.000000</td>\n",
       "    </tr>\n",
       "  </tbody>\n",
       "</table>\n",
       "</div>"
      ],
      "text/plain": [
       "               f0        f1        f2   product\n",
       "f0       1.000000  0.182247 -0.002024 -0.122901\n",
       "f1       0.182247  1.000000 -0.003674 -0.033906\n",
       "f2      -0.002024 -0.003674  1.000000  0.975604\n",
       "product -0.122901 -0.033906  0.975604  1.000000"
      ]
     },
     "execution_count": 27,
     "metadata": {},
     "output_type": "execute_result"
    }
   ],
   "source": [
    "data_2.corr(method='spearman')"
   ]
  },
  {
   "cell_type": "code",
   "execution_count": 28,
   "metadata": {},
   "outputs": [
    {
     "data": {
      "image/png": "[encoded data removed]",
      "text/plain": [
       "<Figure size 432x288 with 2 Axes>"
      ]
     },
     "metadata": {
      "needs_background": "light"
     },
     "output_type": "display_data"
    }
   ],
   "source": [
    "sns.heatmap(data_2.corr(), vmin = -1, vmax = +1, annot = True, cmap = 'coolwarm');"
   ]
  },
  {
   "cell_type": "markdown",
   "metadata": {},
   "source": [
    "Можно заметить, что данные в столбце `f2` очень сильно коррелируют с целевым показателем `product`. Высокий коэффициент корреляции признака и целевой переменной в пользу точности предсказаний."
   ]
  },
  {
   "cell_type": "code",
   "execution_count": 29,
   "metadata": {},
   "outputs": [
    {
     "data": {
      "text/html": [
       "<div>\n",
       "<style scoped>\n",
       "    .dataframe tbody tr th:only-of-type {\n",
       "        vertical-align: middle;\n",
       "    }\n",
       "\n",
       "    .dataframe tbody tr th {\n",
       "        vertical-align: top;\n",
       "    }\n",
       "\n",
       "    .dataframe thead th {\n",
       "        text-align: right;\n",
       "    }\n",
       "</style>\n",
       "<table border=\"1\" class=\"dataframe\">\n",
       "  <thead>\n",
       "    <tr style=\"text-align: right;\">\n",
       "      <th></th>\n",
       "      <th>f0</th>\n",
       "      <th>f1</th>\n",
       "      <th>f2</th>\n",
       "      <th>product</th>\n",
       "    </tr>\n",
       "  </thead>\n",
       "  <tbody>\n",
       "    <tr>\n",
       "      <th>f0</th>\n",
       "      <td>1.000000</td>\n",
       "      <td>0.002471</td>\n",
       "      <td>0.000046</td>\n",
       "      <td>-0.002453</td>\n",
       "    </tr>\n",
       "    <tr>\n",
       "      <th>f1</th>\n",
       "      <td>0.002471</td>\n",
       "      <td>1.000000</td>\n",
       "      <td>0.000349</td>\n",
       "      <td>-0.001508</td>\n",
       "    </tr>\n",
       "    <tr>\n",
       "      <th>f2</th>\n",
       "      <td>0.000046</td>\n",
       "      <td>0.000349</td>\n",
       "      <td>1.000000</td>\n",
       "      <td>0.448459</td>\n",
       "    </tr>\n",
       "    <tr>\n",
       "      <th>product</th>\n",
       "      <td>-0.002453</td>\n",
       "      <td>-0.001508</td>\n",
       "      <td>0.448459</td>\n",
       "      <td>1.000000</td>\n",
       "    </tr>\n",
       "  </tbody>\n",
       "</table>\n",
       "</div>"
      ],
      "text/plain": [
       "               f0        f1        f2   product\n",
       "f0       1.000000  0.002471  0.000046 -0.002453\n",
       "f1       0.002471  1.000000  0.000349 -0.001508\n",
       "f2       0.000046  0.000349  1.000000  0.448459\n",
       "product -0.002453 -0.001508  0.448459  1.000000"
      ]
     },
     "execution_count": 29,
     "metadata": {},
     "output_type": "execute_result"
    }
   ],
   "source": [
    "data_3.corr(method='spearman')"
   ]
  },
  {
   "cell_type": "code",
   "execution_count": 30,
   "metadata": {},
   "outputs": [
    {
     "data": {
      "image/png": "[encoded data removed]",
      "text/plain": [
       "<Figure size 432x288 with 2 Axes>"
      ]
     },
     "metadata": {
      "needs_background": "light"
     },
     "output_type": "display_data"
    }
   ],
   "source": [
    "sns.heatmap(data_3.corr(), vmin = -1, vmax = +1, annot = True, cmap = 'coolwarm');"
   ]
  },
  {
   "cell_type": "markdown",
   "metadata": {},
   "source": [
    "Посмотрев на корреляцию в данных, можно сделать вывод, что целевой признак во всех датасетах больше всего зависит от признака `f2`."
   ]
  },
  {
   "cell_type": "markdown",
   "metadata": {},
   "source": [
    "Посмотрим распределение признаков и целевой переменной для каждого региона. Посмотрим на гистограммы каждого датасета."
   ]
  },
  {
   "cell_type": "code",
   "execution_count": 31,
   "metadata": {},
   "outputs": [
    {
     "data": {
      "image/png": "[encoded data removed]",
      "text/plain": [
       "<Figure size 432x288 with 4 Axes>"
      ]
     },
     "metadata": {
      "needs_background": "light"
     },
     "output_type": "display_data"
    }
   ],
   "source": [
    "data_1.hist();"
   ]
  },
  {
   "cell_type": "markdown",
   "metadata": {},
   "source": [
    "В первом датасете целевой показатель и показатель `f2` имеют нормальное распределение. Остальные показатели имеют провалы в распределении."
   ]
  },
  {
   "cell_type": "code",
   "execution_count": 32,
   "metadata": {},
   "outputs": [
    {
     "data": {
      "image/png": "[encoded data removed]",
      "text/plain": [
       "<Figure size 432x288 with 4 Axes>"
      ]
     },
     "metadata": {
      "needs_background": "light"
     },
     "output_type": "display_data"
    }
   ],
   "source": [
    "data_2.hist();"
   ]
  },
  {
   "cell_type": "markdown",
   "metadata": {},
   "source": [
    "Во втором регионе целевой прзнак имеет сильный перекос в начале и в конце распределения данных. Показатель `f2` также распределен хаотично, скорее всего из-за того, что сильно коррелирует с целевым признаком. Показатель `f1` имеет более нормальное распределение, чем показатель `f0`, у которого есть провал в середине даанных."
   ]
  },
  {
   "cell_type": "code",
   "execution_count": 33,
   "metadata": {},
   "outputs": [
    {
     "data": {
      "image/png": "[encoded data removed]",
      "text/plain": [
       "<Figure size 432x288 with 4 Axes>"
      ]
     },
     "metadata": {
      "needs_background": "light"
     },
     "output_type": "display_data"
    }
   ],
   "source": [
    "data_3.hist();"
   ]
  },
  {
   "cell_type": "markdown",
   "metadata": {},
   "source": [
    "В третьем датасете все показатели имеют нормальное распределение, без явных скачков и перепадов."
   ]
  },
  {
   "cell_type": "markdown",
   "metadata": {},
   "source": [
    "Подготовим данные для обучения. Разделим датасеты на `target` и `features`."
   ]
  },
  {
   "cell_type": "code",
   "execution_count": 34,
   "metadata": {},
   "outputs": [],
   "source": [
    "features_1 = data_1.drop('product', axis=1)\n",
    "target_1 = data_1['product']"
   ]
  },
  {
   "cell_type": "code",
   "execution_count": 35,
   "metadata": {},
   "outputs": [],
   "source": [
    "features_2 = data_2.drop('product', axis=1)\n",
    "target_2 = data_2['product']"
   ]
  },
  {
   "cell_type": "code",
   "execution_count": 36,
   "metadata": {},
   "outputs": [],
   "source": [
    "features_3 = data_3.drop('product', axis=1)\n",
    "target_3 = data_3['product']"
   ]
  },
  {
   "cell_type": "markdown",
   "metadata": {},
   "source": [
    "Данные подготовлены, теперь можно перейти к обучению и проверке модели."
   ]
  },
  {
   "cell_type": "markdown",
   "metadata": {},
   "source": [
    "## Обучение и проверка модели"
   ]
  },
  {
   "cell_type": "markdown",
   "metadata": {},
   "source": [
    "### Обучение и проверка модели для первого региона"
   ]
  },
  {
   "cell_type": "markdown",
   "metadata": {},
   "source": [
    "Разобьем данные на обучающую и валидационную выборки в соотношении 75:25."
   ]
  },
  {
   "cell_type": "code",
   "execution_count": 37,
   "metadata": {},
   "outputs": [],
   "source": [
    "features_train_1, features_valid_1, target_train_1, target_valid_1 = train_test_split(features_1,\n",
    "                                                                              target_1,\n",
    "                                                                              test_size=TEST_SIZE,\n",
    "                                                                              random_state=RANDOM_STATE, \n",
    "                                                                              shuffle=True)"
   ]
  },
  {
   "cell_type": "markdown",
   "metadata": {},
   "source": [
    "Проверим размеры выборок."
   ]
  },
  {
   "cell_type": "code",
   "execution_count": 38,
   "metadata": {},
   "outputs": [
    {
     "name": "stdout",
     "output_type": "stream",
     "text": [
      "Тренировочная выборка: (74992, 3).\n",
      "Валидационная выборка: (24998, 3).\n"
     ]
    }
   ],
   "source": [
    "print(f'Тренировочная выборка: {features_train_1.shape}.')\n",
    "print(f'Валидационная выборка: {features_valid_1.shape}.')"
   ]
  },
  {
   "cell_type": "markdown",
   "metadata": {},
   "source": [
    "Проведем масштабирование данных, т.к. мы будем применять линейную регрессию. Будем использовать `MinMaxScaler`, т.к. данные в первом датасете распределены не во всех столбцах нормально."
   ]
  },
  {
   "cell_type": "code",
   "execution_count": 39,
   "metadata": {},
   "outputs": [],
   "source": [
    "mmscaler = MinMaxScaler()\n",
    "features_train_1 = pd.DataFrame(mmscaler.fit_transform(features_train_1))\n",
    "features_valid_1 = pd.DataFrame(mmscaler.transform(features_valid_1))"
   ]
  },
  {
   "cell_type": "markdown",
   "metadata": {},
   "source": [
    "Проверим, как выглядят данные."
   ]
  },
  {
   "cell_type": "code",
   "execution_count": 40,
   "metadata": {},
   "outputs": [
    {
     "data": {
      "text/html": [
       "<div>\n",
       "<style scoped>\n",
       "    .dataframe tbody tr th:only-of-type {\n",
       "        vertical-align: middle;\n",
       "    }\n",
       "\n",
       "    .dataframe tbody tr th {\n",
       "        vertical-align: top;\n",
       "    }\n",
       "\n",
       "    .dataframe thead th {\n",
       "        text-align: right;\n",
       "    }\n",
       "</style>\n",
       "<table border=\"1\" class=\"dataframe\">\n",
       "  <thead>\n",
       "    <tr style=\"text-align: right;\">\n",
       "      <th></th>\n",
       "      <th>0</th>\n",
       "      <th>1</th>\n",
       "      <th>2</th>\n",
       "    </tr>\n",
       "  </thead>\n",
       "  <tbody>\n",
       "    <tr>\n",
       "      <th>0</th>\n",
       "      <td>0.858088</td>\n",
       "      <td>0.328746</td>\n",
       "      <td>0.431529</td>\n",
       "    </tr>\n",
       "    <tr>\n",
       "      <th>1</th>\n",
       "      <td>0.121646</td>\n",
       "      <td>0.403109</td>\n",
       "      <td>0.681714</td>\n",
       "    </tr>\n",
       "    <tr>\n",
       "      <th>2</th>\n",
       "      <td>0.313649</td>\n",
       "      <td>0.873212</td>\n",
       "      <td>0.307012</td>\n",
       "    </tr>\n",
       "    <tr>\n",
       "      <th>3</th>\n",
       "      <td>0.125264</td>\n",
       "      <td>0.617869</td>\n",
       "      <td>0.419312</td>\n",
       "    </tr>\n",
       "    <tr>\n",
       "      <th>4</th>\n",
       "      <td>0.122520</td>\n",
       "      <td>0.453831</td>\n",
       "      <td>0.404160</td>\n",
       "    </tr>\n",
       "  </tbody>\n",
       "</table>\n",
       "</div>"
      ],
      "text/plain": [
       "          0         1         2\n",
       "0  0.858088  0.328746  0.431529\n",
       "1  0.121646  0.403109  0.681714\n",
       "2  0.313649  0.873212  0.307012\n",
       "3  0.125264  0.617869  0.419312\n",
       "4  0.122520  0.453831  0.404160"
      ]
     },
     "execution_count": 40,
     "metadata": {},
     "output_type": "execute_result"
    }
   ],
   "source": [
    "features_train_1.head()"
   ]
  },
  {
   "cell_type": "markdown",
   "metadata": {},
   "source": [
    "Теперь пришло время обучить модель и сделать предсказания на валидационной выборке.\n",
    "\n",
    "Создадим функцию, которая будет:\n",
    "- обучать модель и предсказывать данные;\n",
    "- выводить на экран средний запас предсказанного сырья и `RMSE` модели."
   ]
  },
  {
   "cell_type": "code",
   "execution_count": 41,
   "metadata": {},
   "outputs": [],
   "source": [
    "model = LinearRegression()\n",
    "model.fit(features_train_1, target_train_1)\n",
    "predicted_valid_1 = model.predict(features_valid_1)"
   ]
  },
  {
   "cell_type": "markdown",
   "metadata": {},
   "source": [
    "Сохраним предсказания и правильные ответы на валидационной выборке, создав отдельный датафрейм."
   ]
  },
  {
   "cell_type": "code",
   "execution_count": 42,
   "metadata": {},
   "outputs": [],
   "source": [
    "df_1 = pd.DataFrame()\n",
    "df_1['prediction'] = predicted_valid_1 \n",
    "df_1['product'] = target_valid_1.reset_index(drop=True)"
   ]
  },
  {
   "cell_type": "markdown",
   "metadata": {},
   "source": [
    "Посмотрим на средний запас предсказанного сырья и `RMSE` модели."
   ]
  },
  {
   "cell_type": "code",
   "execution_count": 43,
   "metadata": {},
   "outputs": [
    {
     "name": "stdout",
     "output_type": "stream",
     "text": [
      "Средний запас предсказанного сырья: 92.58912508150183\n",
      "RMSE = 37.62166944945255\n"
     ]
    }
   ],
   "source": [
    "mse = mean_squared_error(target_valid_1, predicted_valid_1)\n",
    "print('Средний запас предсказанного сырья:', predicted_valid_1.mean())\n",
    "print(\"RMSE =\", mse ** 0.5)"
   ]
  },
  {
   "cell_type": "markdown",
   "metadata": {},
   "source": [
    "- Средний запас предсказанного сырья в первом регионе 92.59 тыс. баррелей.\n",
    "- RMSE - это квадратный корень из средней квадратичной ошибки и равняется 37.46 тыс. баррелей. Слишком большое значение для данной метрики в нашем случае."
   ]
  },
  {
   "cell_type": "markdown",
   "metadata": {},
   "source": [
    "### Обучение и проверка модели для второго региона"
   ]
  },
  {
   "cell_type": "markdown",
   "metadata": {},
   "source": [
    "Разобьем данные на обучающую и валидационную выборки в соотношении 75:25."
   ]
  },
  {
   "cell_type": "code",
   "execution_count": 44,
   "metadata": {},
   "outputs": [],
   "source": [
    "features_train_2, features_valid_2, target_train_2, target_valid_2 = train_test_split(features_2,\n",
    "                                                                              target_2,\n",
    "                                                                              test_size=TEST_SIZE,\n",
    "                                                                              random_state=RANDOM_STATE)"
   ]
  },
  {
   "cell_type": "markdown",
   "metadata": {},
   "source": [
    "Проверим размеры выборок."
   ]
  },
  {
   "cell_type": "code",
   "execution_count": 45,
   "metadata": {},
   "outputs": [
    {
     "name": "stdout",
     "output_type": "stream",
     "text": [
      "Тренировочная выборка: (74997, 3).\n",
      "Валидационная выборка: (24999, 3).\n"
     ]
    }
   ],
   "source": [
    "print(f'Тренировочная выборка: {features_train_2.shape}.')\n",
    "print(f'Валидационная выборка: {features_valid_2.shape}.')"
   ]
  },
  {
   "cell_type": "markdown",
   "metadata": {},
   "source": [
    "Проведем масштабирование данных, т.к. мы будем применять линейную регрессию. Во втором датасете также даные распределены не нормально."
   ]
  },
  {
   "cell_type": "code",
   "execution_count": 46,
   "metadata": {},
   "outputs": [],
   "source": [
    "mmscaler = MinMaxScaler()\n",
    "features_train_2 = pd.DataFrame(mmscaler.fit_transform(features_train_2))\n",
    "features_valid_2 = pd.DataFrame(mmscaler.transform(features_valid_2))"
   ]
  },
  {
   "cell_type": "markdown",
   "metadata": {},
   "source": [
    "Обучим модель для второго региона и предскажем целевой показатель."
   ]
  },
  {
   "cell_type": "code",
   "execution_count": 47,
   "metadata": {},
   "outputs": [],
   "source": [
    "model = LinearRegression()\n",
    "model.fit(features_train_2, target_train_2)\n",
    "predicted_valid_2 = model.predict(features_valid_2)"
   ]
  },
  {
   "cell_type": "markdown",
   "metadata": {},
   "source": [
    "Сохраним предсказания и правильные ответы на валидационной выборке, создав отдельный датафрейм."
   ]
  },
  {
   "cell_type": "code",
   "execution_count": 48,
   "metadata": {},
   "outputs": [],
   "source": [
    "df_2 = pd.DataFrame()\n",
    "df_2['prediction'] = predicted_valid_2 \n",
    "df_2['product'] = target_valid_2.reset_index(drop=True)"
   ]
  },
  {
   "cell_type": "markdown",
   "metadata": {},
   "source": [
    "Посмотрим на средний запас предсказанного сырья и RMSE модели."
   ]
  },
  {
   "cell_type": "code",
   "execution_count": 49,
   "metadata": {},
   "outputs": [
    {
     "name": "stdout",
     "output_type": "stream",
     "text": [
      "Средний запас предсказанного сырья: 68.65421500612776\n",
      "RMSE = 0.8858720945141563\n"
     ]
    }
   ],
   "source": [
    "mse = mean_squared_error(target_valid_2, predicted_valid_2)\n",
    "print('Средний запас предсказанного сырья:', predicted_valid_2.mean())\n",
    "print(\"RMSE =\", mse ** 0.5)"
   ]
  },
  {
   "cell_type": "markdown",
   "metadata": {},
   "source": [
    "- Средний запас предсказанного сырья равен 68.65 тыс. баррелей, что значительно меньше, чем в первом регионе;\n",
    "- RMSE во втором регионе показывает очень маленькое значение, в отличии от первого региона; \n",
    "- это очень хорошо, если ошибка меньше, значит прогноз точнее и модель лучше обучилась."
   ]
  },
  {
   "cell_type": "markdown",
   "metadata": {},
   "source": [
    "### Обучение и проверка модели для третьего региона"
   ]
  },
  {
   "cell_type": "markdown",
   "metadata": {},
   "source": [
    "Разобьем данные на обучающую и валидационную выборки в соотношении 75:25."
   ]
  },
  {
   "cell_type": "code",
   "execution_count": 50,
   "metadata": {},
   "outputs": [],
   "source": [
    "features_train_3, features_valid_3, target_train_3, target_valid_3 = train_test_split(features_3,\n",
    "                                                                              target_3,\n",
    "                                                                              test_size=TEST_SIZE,\n",
    "                                                                              random_state=RANDOM_STATE)"
   ]
  },
  {
   "cell_type": "code",
   "execution_count": 51,
   "metadata": {},
   "outputs": [
    {
     "name": "stdout",
     "output_type": "stream",
     "text": [
      "Тренировочная выборка: (74997, 3).\n",
      "Валидационная выборка: (24999, 3).\n"
     ]
    }
   ],
   "source": [
    "print(f'Тренировочная выборка: {features_train_3.shape}.')\n",
    "print(f'Валидационная выборка: {features_valid_3.shape}.')"
   ]
  },
  {
   "cell_type": "markdown",
   "metadata": {},
   "source": [
    "Проведем масштабирование данных, т.к. мы будем применять линейную регрессию. В третьем датасете данные имеют распределение ближе к нормальному, поэтому применним `StandardScaler`."
   ]
  },
  {
   "cell_type": "code",
   "execution_count": 52,
   "metadata": {},
   "outputs": [],
   "source": [
    "scaler = StandardScaler()\n",
    "scaler.fit(features_train_3)\n",
    "features_train_3 = pd.DataFrame(scaler.transform(features_train_3))\n",
    "features_valid_3 = pd.DataFrame(scaler.transform(features_valid_3))"
   ]
  },
  {
   "cell_type": "markdown",
   "metadata": {},
   "source": [
    "Обучим модель для третьего региона и предскажем значения."
   ]
  },
  {
   "cell_type": "code",
   "execution_count": 53,
   "metadata": {},
   "outputs": [],
   "source": [
    "model = LinearRegression()\n",
    "model.fit(features_train_3, target_train_3)\n",
    "predicted_valid_3 = model.predict(features_valid_3)"
   ]
  },
  {
   "cell_type": "markdown",
   "metadata": {},
   "source": [
    "Сохраним предсказания и правильные ответы на валидационной выборке, создав отдельный датафрейм."
   ]
  },
  {
   "cell_type": "code",
   "execution_count": 54,
   "metadata": {},
   "outputs": [],
   "source": [
    "df_3 = pd.DataFrame()\n",
    "df_3['prediction'] = predicted_valid_3\n",
    "df_3['product'] = target_valid_3.reset_index(drop=True)"
   ]
  },
  {
   "cell_type": "markdown",
   "metadata": {},
   "source": [
    "Посмотрим на средний запас предсказанного сырья и RMSE модели."
   ]
  },
  {
   "cell_type": "code",
   "execution_count": 55,
   "metadata": {},
   "outputs": [
    {
     "name": "stdout",
     "output_type": "stream",
     "text": [
      "Средний запас предсказанного сырья: 94.82809359736106\n",
      "RMSE = 40.15909396294103\n"
     ]
    }
   ],
   "source": [
    "mse = mean_squared_error(target_valid_3, predicted_valid_3)\n",
    "print('Средний запас предсказанного сырья:', predicted_valid_3.mean())\n",
    "print(\"RMSE =\", mse ** 0.5)"
   ]
  },
  {
   "cell_type": "markdown",
   "metadata": {},
   "source": [
    "- RMSE равняется 40,15 тыс. баррелей, что является самым высоким резульатом, чем выше ошибка, тем хуже работает модель;\n",
    "- Средний запас предсказанного сырья 95 тыс. баррелей, что также является самым высоким показателем."
   ]
  },
  {
   "cell_type": "markdown",
   "metadata": {},
   "source": [
    "## Подготовка к расчёту прибыли"
   ]
  },
  {
   "cell_type": "markdown",
   "metadata": {},
   "source": [
    "Бюджет на разработку скважин в регионе — 10 млрд рублей. Присвоем данное значение константе `BUDGET`.\n",
    "\n",
    "При нынешних ценах один баррель сырья приносит 450 рублей дохода. Доход с каждой единицы продукта составляет 450 тыс. рублей, поскольку объём указан в тысячах баррелей. Укажем доход в константе `BARREL`. Количество скважин на которые распределяется бюджет равняется 200 и записывается в переменную `WELL_COUNT`."
   ]
  },
  {
   "cell_type": "markdown",
   "metadata": {},
   "source": [
    "Рассчитаем достаточный объём сырья для безубыточной разработки новой скважины. Для этого бюджет поделим на доход за один баррель и количество предполагаемых скважин и найдем количество баррелей, которое будет в бюджете."
   ]
  },
  {
   "cell_type": "code",
   "execution_count": 56,
   "metadata": {},
   "outputs": [
    {
     "data": {
      "text/plain": [
       "112"
      ]
     },
     "execution_count": 56,
     "metadata": {},
     "output_type": "execute_result"
    }
   ],
   "source": [
    "size = BUDGET / (BARREL * WELL_COUNT)\n",
    "math.ceil(size)"
   ]
  },
  {
   "cell_type": "markdown",
   "metadata": {},
   "source": [
    "С помощью расчётов мы определили, что в каждой скважине необходимо, чтобы было около 112 тыс. баррелей для безубыточной разработки скважины.\n",
    "\n",
    "Средние запасы скважин в каждом регионе намного меньше, чем требуется для безубыточности."
   ]
  },
  {
   "cell_type": "code",
   "execution_count": 57,
   "metadata": {},
   "outputs": [],
   "source": [
    "def target_level(data, count):\n",
    "    av = data.mean()\n",
    "    result = size / av\n",
    "    print(f'В {count} регионе количество средних запасов в {result} раз ниже, чем необходимо для безубыточной разработки скважины')"
   ]
  },
  {
   "cell_type": "code",
   "execution_count": 58,
   "metadata": {},
   "outputs": [
    {
     "name": "stdout",
     "output_type": "stream",
     "text": [
      "В 1 регионе количество средних запасов в 1.2012053019506146 раз ниже, чем необходимо для безубыточной разработки скважины\n"
     ]
    }
   ],
   "source": [
    "target_level(target_1, 1)"
   ]
  },
  {
   "cell_type": "code",
   "execution_count": 59,
   "metadata": {},
   "outputs": [
    {
     "name": "stdout",
     "output_type": "stream",
     "text": [
      "В 2 регионе количество средних запасов в 1.6144258813088814 раз ниже, чем необходимо для безубыточной разработки скважины\n"
     ]
    }
   ],
   "source": [
    "target_level(target_2, 2)"
   ]
  },
  {
   "cell_type": "code",
   "execution_count": 60,
   "metadata": {},
   "outputs": [
    {
     "name": "stdout",
     "output_type": "stream",
     "text": [
      "В 3 регионе количество средних запасов в 1.169611054596479 раз ниже, чем необходимо для безубыточной разработки скважины\n"
     ]
    }
   ],
   "source": [
    "target_level(target_3, 3)"
   ]
  },
  {
   "cell_type": "markdown",
   "metadata": {},
   "source": [
    "Исходя из анализа данных и подготовки расчёта прибыли, можно сделать выводы, что:\n",
    "- в каждом регионе средний объем сырья меньше достаточного объёма для безубыточности, поэтому точность прогноза имеет большое значение и без модели нам не обойтись;\n",
    "- есть 25 000 точек, из которых в результате надо выбрать 200. В результате,  среди этих скважин могут быть скважины с достаточным и недостаточным запасом сырья.\n",
    "\n",
    "Имеено техника \"Bootstrap\" опираясь на предсказания позволяет оценить риск убытков при случайным отборе 500 точек. 1000 раз отбирая случайным образом точки, считаем какой % случаев принесет убытки."
   ]
  },
  {
   "cell_type": "markdown",
   "metadata": {},
   "source": [
    "## Расчёт прибыли и рисков "
   ]
  },
  {
   "cell_type": "markdown",
   "metadata": {},
   "source": [
    "### Напишем функцию для расчёта прибыли по выбранным скважинам и предсказаниям модели."
   ]
  },
  {
   "cell_type": "code",
   "execution_count": 61,
   "metadata": {},
   "outputs": [],
   "source": [
    "def profit(reals, preds, count):\n",
    "    probs_sorted = preds.sort_values(ascending=False)\n",
    "    selected = reals[probs_sorted.index][:count]\n",
    "    prof = (BARREL * selected.sum()) - BUDGET\n",
    "    return prof"
   ]
  },
  {
   "cell_type": "markdown",
   "metadata": {},
   "source": [
    "Напишем еще одну функцию для более удобного вывода информации."
   ]
  },
  {
   "cell_type": "code",
   "execution_count": 62,
   "metadata": {},
   "outputs": [],
   "source": [
    "def profit_write(reals, preds, count):\n",
    "    if profit(reals, preds, count) > 0:\n",
    "        print(f'Прибыль для полученного объёма сырья составляет {profit(reals, preds, count)} р.')\n",
    "    else:\n",
    "        print(f'Убыток для полученного объёма сырья составляет {profit(reals, preds, count)} р.')"
   ]
  },
  {
   "cell_type": "markdown",
   "metadata": {},
   "source": [
    "При подсчете получим прибыль от топ-200 скважин в каждом регионе."
   ]
  },
  {
   "cell_type": "code",
   "execution_count": 63,
   "metadata": {},
   "outputs": [
    {
     "name": "stdout",
     "output_type": "stream",
     "text": [
      "Прибыль для полученного объёма сырья составляет 3356349222.617914 р.\n"
     ]
    }
   ],
   "source": [
    "profit_write(df_1['product'], df_1['prediction'], 200)"
   ]
  },
  {
   "cell_type": "code",
   "execution_count": 64,
   "metadata": {},
   "outputs": [
    {
     "name": "stdout",
     "output_type": "stream",
     "text": [
      "Прибыль для полученного объёма сырья составляет 2415086696.681511 р.\n"
     ]
    }
   ],
   "source": [
    "profit_write(df_2['product'], df_2['prediction'], 200)"
   ]
  },
  {
   "cell_type": "code",
   "execution_count": 65,
   "metadata": {},
   "outputs": [
    {
     "name": "stdout",
     "output_type": "stream",
     "text": [
      "Прибыль для полученного объёма сырья составляет 2557971424.3160496 р.\n"
     ]
    }
   ],
   "source": [
    "profit_write(df_3['product'], df_3['prediction'], 200)"
   ]
  },
  {
   "cell_type": "markdown",
   "metadata": {},
   "source": [
    "### Подсчёт рисков и прибыли для каждого региона"
   ]
  },
  {
   "cell_type": "markdown",
   "metadata": {},
   "source": [
    "Применим технику Bootstrap с 1000 выборок, чтобы найти распределение прибыли."
   ]
  },
  {
   "cell_type": "code",
   "execution_count": 66,
   "metadata": {},
   "outputs": [],
   "source": [
    "state = RandomState(12345)"
   ]
  },
  {
   "cell_type": "markdown",
   "metadata": {},
   "source": [
    "При семплировании данных устанавливаем `replace = True`, это необходимо чтобы наблюдение в выборку попало несколько раз, что позволяет добиться независимости при каждом выборе, иначе вероятность достать элемент из выборки будет с каждым разом увеличиваться. Чем больше размер подвыборки, тем выраженнее будет зависимость, поэтому без возврата не удастся получить разнообразные варианты, а подвыборку бОльшего размера вообще не получить."
   ]
  },
  {
   "cell_type": "code",
   "execution_count": 67,
   "metadata": {},
   "outputs": [],
   "source": [
    "def bootstrap(reals_s, preds_s, number):\n",
    "    values = []\n",
    "    for i in range(1000):\n",
    "        reals_subsample = reals_s.sample(n=500, replace=True, random_state=state)\n",
    "        prediction_subsample = preds_s[reals_subsample.index]\n",
    "        values.append(profit(reals_subsample, prediction_subsample, 200))\n",
    "    values = pd.Series(values)\n",
    "    \n",
    "    print(f'Средняя прибыль на {number} участке среди 200 скважин будет равняться: {round(values.mean(),2)}')\n",
    "    \n",
    "    lower = values.quantile(0.025)\n",
    "    upper = values.quantile(0.975)\n",
    "    print(f'95-ый доверительный интервал для {number} региона: ({round(lower, 2)}, {round(upper, 2)}).')\n",
    "    \n",
    "    risk = values[values < 0].count() / values.count() * 100\n",
    "    print(f'Риск убытков для {number} региона: {round(risk, 2)}%.')\n"
   ]
  },
  {
   "cell_type": "markdown",
   "metadata": {},
   "source": [
    "В функции также будет расчитаны следующие показатели:\n",
    "- средняя прибыль в регионе среди 200 скважин;\n",
    "- 95-ый доверительный интервал;\n",
    "- риск убытков.\n",
    "\n",
    "Убыток — это отрицательная прибыль. Риск убытков посчитаем, как число убытков из выборки деленное на число всех значений выборки."
   ]
  },
  {
   "cell_type": "code",
   "execution_count": 68,
   "metadata": {},
   "outputs": [
    {
     "name": "stdout",
     "output_type": "stream",
     "text": [
      "Средняя прибыль на 1 участке среди 200 скважин будет равняться: 461509393.73\n",
      "95-ый доверительный интервал для 1 региона: (-54940911.19, 998489744.13).\n",
      "Риск убытков для 1 региона: 3.9%.\n"
     ]
    }
   ],
   "source": [
    "bootstrap(df_1['product'], df_1['prediction'], 1)"
   ]
  },
  {
   "cell_type": "code",
   "execution_count": 69,
   "metadata": {},
   "outputs": [
    {
     "name": "stdout",
     "output_type": "stream",
     "text": [
      "Средняя прибыль на 2 участке среди 200 скважин будет равняться: 490160781.27\n",
      "95-ый доверительный интервал для 2 региона: (70970914.74, 961467266.0).\n",
      "Риск убытков для 2 региона: 1.2%.\n"
     ]
    }
   ],
   "source": [
    "bootstrap(df_2['product'], df_2['prediction'], 2)"
   ]
  },
  {
   "cell_type": "code",
   "execution_count": 70,
   "metadata": {
    "scrolled": true
   },
   "outputs": [
    {
     "name": "stdout",
     "output_type": "stream",
     "text": [
      "Средняя прибыль на 3 участке среди 200 скважин будет равняться: 374308754.64\n",
      "95-ый доверительный интервал для 3 региона: (-169163869.01, 936394644.32).\n",
      "Риск убытков для 3 региона: 8.5%.\n"
     ]
    }
   ],
   "source": [
    "bootstrap(df_3['product'], df_3['prediction'], 3)"
   ]
  },
  {
   "cell_type": "markdown",
   "metadata": {},
   "source": [
    "Что такое  `quantile()` очень хорошо объясняет пример - 0.5-й квантиль, это, по сути, медиана, т.е. функция `quantile(0.5)` должна вернуть такое значение, которое меньше ровно половины элементов массива.\n",
    "`quantile(0.025)` находит такое значение прибыли,  меньше которого только 2,5% элементов. И если это значение прибыли положительное, значит и риск меньше 2,5%. <br>\n",
    "Выбирая наугад 1000 раз 500 случайных скважин и отбирая из них 200 лучших, убыток получаем менее, чем в 2,5% случаев только во втором регионе."
   ]
  },
  {
   "cell_type": "markdown",
   "metadata": {},
   "source": [
    "## Итоговый вывод"
   ]
  },
  {
   "cell_type": "markdown",
   "metadata": {},
   "source": [
    "Исходя из результатов, можно сделать несколько выводов:\n",
    "- первый регион показал неплохую среднюю прибыль, но доверительный интервал имеет отрицательное значение на нижней границе, также риск убытков составляет 3.9 процентов, что больше, чем в задании;\n",
    "- второй регион показал самую лучшую среднюю прибыль, доверительный интервал также получился самый лучший, без отрицательных значений, соответсвенно и риск убытков составляет всего 1.2 процент;\n",
    "- третий регион имеет самую маленькую среднюю прибыль, доверительный интервал также как и в первом уходит в отрицательную зону, только на более высокие значения, риск убытков составляет самый большой результат среди всех регионов и равняется 8.5 процентов.\n",
    "\n",
    "**После анализа трёх регионов, можно с уверенностью сказать, что для безубыточного бурения скважин лучше выбрать второй регион. Во этом регионе минимальный % риска, т.к. модель предсказывает хорошо (ошибка минимальная). А при выборе 200 лучших скважин мы опираемся на предсказания, поэтому ничего удивительного  -  регион победил!**"
   ]
  }
 ],
 "metadata": {
  "ExecuteTimeLog": [
   {
    "duration": 458,
    "start_time": "2023-01-23T07:03:58.893Z"
   },
   {
    "duration": 1098,
    "start_time": "2023-01-23T07:04:00.170Z"
   },
   {
    "duration": 24,
    "start_time": "2023-01-23T07:04:09.902Z"
   },
   {
    "duration": 10,
    "start_time": "2023-01-23T07:04:41.472Z"
   },
   {
    "duration": 10,
    "start_time": "2023-01-23T07:04:49.270Z"
   },
   {
    "duration": 19,
    "start_time": "2023-01-23T07:05:15.403Z"
   },
   {
    "duration": 17,
    "start_time": "2023-01-23T07:05:22.688Z"
   },
   {
    "duration": 17,
    "start_time": "2023-01-23T07:05:26.433Z"
   },
   {
    "duration": 69,
    "start_time": "2023-01-23T07:07:57.242Z"
   },
   {
    "duration": 8,
    "start_time": "2023-01-23T07:08:03.670Z"
   },
   {
    "duration": 54,
    "start_time": "2023-01-23T07:08:28.611Z"
   },
   {
    "duration": 56,
    "start_time": "2023-01-23T07:08:32.477Z"
   },
   {
    "duration": 48,
    "start_time": "2023-01-23T07:08:36.674Z"
   },
   {
    "duration": 52,
    "start_time": "2023-01-23T07:08:40.333Z"
   },
   {
    "duration": 25,
    "start_time": "2023-01-23T07:09:17.974Z"
   },
   {
    "duration": 26,
    "start_time": "2023-01-23T07:09:40.620Z"
   },
   {
    "duration": 30,
    "start_time": "2023-01-23T07:09:56.076Z"
   },
   {
    "duration": 42,
    "start_time": "2023-01-23T07:10:07.606Z"
   },
   {
    "duration": 40,
    "start_time": "2023-01-23T07:10:16.366Z"
   },
   {
    "duration": 42,
    "start_time": "2023-01-23T07:10:23.111Z"
   },
   {
    "duration": 42,
    "start_time": "2023-01-23T07:10:36.070Z"
   },
   {
    "duration": 15,
    "start_time": "2023-01-23T07:22:02.025Z"
   },
   {
    "duration": 11,
    "start_time": "2023-01-23T07:22:11.588Z"
   },
   {
    "duration": 4,
    "start_time": "2023-01-23T07:22:18.610Z"
   },
   {
    "duration": 449,
    "start_time": "2023-01-23T13:02:42.295Z"
   },
   {
    "duration": 1806,
    "start_time": "2023-01-23T13:02:42.746Z"
   },
   {
    "duration": 17,
    "start_time": "2023-01-23T13:02:44.554Z"
   },
   {
    "duration": 10,
    "start_time": "2023-01-23T13:02:44.572Z"
   },
   {
    "duration": 9,
    "start_time": "2023-01-23T13:02:45.676Z"
   },
   {
    "duration": 38,
    "start_time": "2023-01-23T13:02:46.915Z"
   },
   {
    "duration": 13,
    "start_time": "2023-01-23T13:02:51.740Z"
   },
   {
    "duration": 8,
    "start_time": "2023-01-23T13:03:07.502Z"
   },
   {
    "duration": 37,
    "start_time": "2023-01-23T13:03:30.917Z"
   },
   {
    "duration": 36,
    "start_time": "2023-01-23T13:03:51.403Z"
   },
   {
    "duration": 34,
    "start_time": "2023-01-23T13:04:27.459Z"
   },
   {
    "duration": 45,
    "start_time": "2023-01-24T06:04:52.320Z"
   },
   {
    "duration": 379,
    "start_time": "2023-01-24T06:04:57.966Z"
   },
   {
    "duration": 828,
    "start_time": "2023-01-24T06:04:58.347Z"
   },
   {
    "duration": 17,
    "start_time": "2023-01-24T06:04:59.177Z"
   },
   {
    "duration": 9,
    "start_time": "2023-01-24T06:04:59.195Z"
   },
   {
    "duration": 11,
    "start_time": "2023-01-24T06:04:59.206Z"
   },
   {
    "duration": 37,
    "start_time": "2023-01-24T06:04:59.218Z"
   },
   {
    "duration": 11,
    "start_time": "2023-01-24T06:04:59.616Z"
   },
   {
    "duration": 37,
    "start_time": "2023-01-24T06:04:59.818Z"
   },
   {
    "duration": 35,
    "start_time": "2023-01-24T06:05:00.024Z"
   },
   {
    "duration": 36,
    "start_time": "2023-01-24T06:05:00.223Z"
   },
   {
    "duration": 65,
    "start_time": "2023-01-24T06:05:00.442Z"
   },
   {
    "duration": 33,
    "start_time": "2023-01-24T06:07:33.600Z"
   },
   {
    "duration": 866,
    "start_time": "2023-01-24T06:07:48.048Z"
   },
   {
    "duration": 45,
    "start_time": "2023-01-24T06:11:46.365Z"
   },
   {
    "duration": 1181,
    "start_time": "2023-01-24T06:11:51.385Z"
   },
   {
    "duration": 409,
    "start_time": "2023-01-24T06:11:52.569Z"
   },
   {
    "duration": 14,
    "start_time": "2023-01-24T06:11:52.980Z"
   },
   {
    "duration": 242,
    "start_time": "2023-01-24T06:11:52.995Z"
   },
   {
    "duration": 76,
    "start_time": "2023-01-24T06:11:53.239Z"
   },
   {
    "duration": 56,
    "start_time": "2023-01-24T06:11:53.317Z"
   },
   {
    "duration": 18,
    "start_time": "2023-01-24T06:11:53.376Z"
   },
   {
    "duration": 77,
    "start_time": "2023-01-24T06:11:53.397Z"
   },
   {
    "duration": 60,
    "start_time": "2023-01-24T06:11:53.475Z"
   },
   {
    "duration": 56,
    "start_time": "2023-01-24T06:11:53.538Z"
   },
   {
    "duration": 84,
    "start_time": "2023-01-24T06:11:53.597Z"
   },
   {
    "duration": 68,
    "start_time": "2023-01-24T06:11:53.683Z"
   },
   {
    "duration": 73,
    "start_time": "2023-01-24T06:12:08.651Z"
   },
   {
    "duration": 3,
    "start_time": "2023-01-24T06:12:41.063Z"
   },
   {
    "duration": 127,
    "start_time": "2023-01-24T06:12:57.352Z"
   },
   {
    "duration": 1696,
    "start_time": "2023-01-24T06:13:03.143Z"
   },
   {
    "duration": 28446,
    "start_time": "2023-01-24T06:13:10.666Z"
   },
   {
    "duration": 4,
    "start_time": "2023-01-24T06:23:45.653Z"
   },
   {
    "duration": 2,
    "start_time": "2023-01-24T06:45:51.925Z"
   },
   {
    "duration": 11,
    "start_time": "2023-01-24T06:46:30.140Z"
   },
   {
    "duration": 219,
    "start_time": "2023-01-24T06:48:03.004Z"
   },
   {
    "duration": 11,
    "start_time": "2023-01-24T06:48:10.825Z"
   },
   {
    "duration": 4,
    "start_time": "2023-01-24T06:49:12.825Z"
   },
   {
    "duration": 91,
    "start_time": "2023-01-24T06:50:06.136Z"
   },
   {
    "duration": 9,
    "start_time": "2023-01-24T06:58:47.653Z"
   },
   {
    "duration": 11,
    "start_time": "2023-01-24T06:58:59.988Z"
   },
   {
    "duration": 1350,
    "start_time": "2023-01-24T06:59:13.151Z"
   },
   {
    "duration": 349,
    "start_time": "2023-01-24T06:59:14.503Z"
   },
   {
    "duration": 14,
    "start_time": "2023-01-24T06:59:14.853Z"
   },
   {
    "duration": 22,
    "start_time": "2023-01-24T06:59:14.869Z"
   },
   {
    "duration": 24,
    "start_time": "2023-01-24T06:59:14.893Z"
   },
   {
    "duration": 50,
    "start_time": "2023-01-24T06:59:14.919Z"
   },
   {
    "duration": 108,
    "start_time": "2023-01-24T06:59:14.970Z"
   },
   {
    "duration": 0,
    "start_time": "2023-01-24T06:59:15.080Z"
   },
   {
    "duration": 0,
    "start_time": "2023-01-24T06:59:15.082Z"
   },
   {
    "duration": 0,
    "start_time": "2023-01-24T06:59:15.083Z"
   },
   {
    "duration": 0,
    "start_time": "2023-01-24T06:59:15.084Z"
   },
   {
    "duration": 0,
    "start_time": "2023-01-24T06:59:15.085Z"
   },
   {
    "duration": 0,
    "start_time": "2023-01-24T06:59:15.086Z"
   },
   {
    "duration": 0,
    "start_time": "2023-01-24T06:59:15.087Z"
   },
   {
    "duration": 0,
    "start_time": "2023-01-24T06:59:15.087Z"
   },
   {
    "duration": 0,
    "start_time": "2023-01-24T06:59:15.088Z"
   },
   {
    "duration": 0,
    "start_time": "2023-01-24T06:59:15.089Z"
   },
   {
    "duration": 0,
    "start_time": "2023-01-24T06:59:15.090Z"
   },
   {
    "duration": 12,
    "start_time": "2023-01-24T06:59:59.400Z"
   },
   {
    "duration": 12,
    "start_time": "2023-01-24T07:00:00.380Z"
   },
   {
    "duration": 12,
    "start_time": "2023-01-24T07:00:09.151Z"
   },
   {
    "duration": 38,
    "start_time": "2023-01-24T07:00:20.847Z"
   },
   {
    "duration": 38,
    "start_time": "2023-01-24T07:00:22.088Z"
   },
   {
    "duration": 35,
    "start_time": "2023-01-24T07:00:24.573Z"
   },
   {
    "duration": 69,
    "start_time": "2023-01-24T07:00:25.841Z"
   },
   {
    "duration": 61,
    "start_time": "2023-01-24T07:00:27.263Z"
   },
   {
    "duration": 68,
    "start_time": "2023-01-24T07:00:28.887Z"
   },
   {
    "duration": 2,
    "start_time": "2023-01-24T07:00:33.988Z"
   },
   {
    "duration": 4,
    "start_time": "2023-01-24T07:00:35.182Z"
   },
   {
    "duration": 13,
    "start_time": "2023-01-24T07:00:37.625Z"
   },
   {
    "duration": 3,
    "start_time": "2023-01-24T07:00:41.817Z"
   },
   {
    "duration": 14,
    "start_time": "2023-01-24T07:14:16.600Z"
   },
   {
    "duration": 14,
    "start_time": "2023-01-24T07:14:32.260Z"
   },
   {
    "duration": 4,
    "start_time": "2023-01-24T07:14:46.525Z"
   },
   {
    "duration": 13,
    "start_time": "2023-01-24T07:14:51.533Z"
   },
   {
    "duration": 9,
    "start_time": "2023-01-24T07:14:55.881Z"
   },
   {
    "duration": 10,
    "start_time": "2023-01-24T07:15:25.317Z"
   },
   {
    "duration": 9,
    "start_time": "2023-01-24T07:15:27.211Z"
   },
   {
    "duration": 44,
    "start_time": "2023-01-24T07:22:46.713Z"
   },
   {
    "duration": 6,
    "start_time": "2023-01-24T07:26:14.562Z"
   },
   {
    "duration": 23,
    "start_time": "2023-01-24T07:26:25.954Z"
   },
   {
    "duration": 8,
    "start_time": "2023-01-24T07:26:36.410Z"
   },
   {
    "duration": 49,
    "start_time": "2023-01-24T07:26:37.865Z"
   },
   {
    "duration": 12,
    "start_time": "2023-01-24T07:27:02.470Z"
   },
   {
    "duration": 6,
    "start_time": "2023-01-24T07:27:58.459Z"
   },
   {
    "duration": 14,
    "start_time": "2023-01-24T07:27:59.544Z"
   },
   {
    "duration": 3,
    "start_time": "2023-01-24T07:28:13.818Z"
   },
   {
    "duration": 13,
    "start_time": "2023-01-24T07:28:35.351Z"
   },
   {
    "duration": 11,
    "start_time": "2023-01-24T07:29:23.217Z"
   },
   {
    "duration": 7,
    "start_time": "2023-01-24T07:29:27.917Z"
   },
   {
    "duration": 14,
    "start_time": "2023-01-24T07:29:29.581Z"
   },
   {
    "duration": 4,
    "start_time": "2023-01-24T07:29:37.762Z"
   },
   {
    "duration": 4,
    "start_time": "2023-01-24T07:29:45.917Z"
   },
   {
    "duration": 13,
    "start_time": "2023-01-24T07:29:56.556Z"
   },
   {
    "duration": 53,
    "start_time": "2023-01-24T07:37:17.967Z"
   },
   {
    "duration": 45,
    "start_time": "2023-01-24T07:41:07.926Z"
   },
   {
    "duration": 43,
    "start_time": "2023-01-24T07:43:40.284Z"
   },
   {
    "duration": 12,
    "start_time": "2023-01-24T07:50:58.795Z"
   },
   {
    "duration": 77,
    "start_time": "2023-01-24T07:51:18.548Z"
   },
   {
    "duration": 70,
    "start_time": "2023-01-24T08:01:22.934Z"
   },
   {
    "duration": 14,
    "start_time": "2023-01-24T08:01:32.346Z"
   },
   {
    "duration": 23,
    "start_time": "2023-01-24T08:07:37.581Z"
   },
   {
    "duration": 15,
    "start_time": "2023-01-24T08:09:01.083Z"
   },
   {
    "duration": 45,
    "start_time": "2023-01-24T08:21:53.662Z"
   },
   {
    "duration": 16,
    "start_time": "2023-01-24T08:22:07.300Z"
   },
   {
    "duration": 18,
    "start_time": "2023-01-24T08:22:21.864Z"
   },
   {
    "duration": 3,
    "start_time": "2023-01-24T08:23:58.846Z"
   },
   {
    "duration": 44,
    "start_time": "2023-01-24T08:24:50.825Z"
   },
   {
    "duration": 50,
    "start_time": "2023-01-24T08:24:58.573Z"
   },
   {
    "duration": 105,
    "start_time": "2023-01-24T08:25:04.901Z"
   },
   {
    "duration": 9,
    "start_time": "2023-01-24T08:29:58.929Z"
   },
   {
    "duration": 3,
    "start_time": "2023-01-24T08:30:01.434Z"
   },
   {
    "duration": 3,
    "start_time": "2023-01-24T08:30:02.579Z"
   },
   {
    "duration": 4,
    "start_time": "2023-01-24T08:30:08.776Z"
   },
   {
    "duration": 25,
    "start_time": "2023-01-24T08:45:25.456Z"
   },
   {
    "duration": 25,
    "start_time": "2023-01-24T08:45:34.153Z"
   },
   {
    "duration": 20,
    "start_time": "2023-01-24T08:45:41.300Z"
   },
   {
    "duration": 9,
    "start_time": "2023-01-24T08:45:46.678Z"
   },
   {
    "duration": 37,
    "start_time": "2023-01-24T08:46:10.266Z"
   },
   {
    "duration": 18,
    "start_time": "2023-01-24T08:46:20.405Z"
   },
   {
    "duration": 47,
    "start_time": "2023-01-24T08:49:13.096Z"
   },
   {
    "duration": 68,
    "start_time": "2023-01-24T08:49:26.337Z"
   },
   {
    "duration": 13,
    "start_time": "2023-01-24T08:49:33.260Z"
   },
   {
    "duration": 6,
    "start_time": "2023-01-24T08:50:35.545Z"
   },
   {
    "duration": 18,
    "start_time": "2023-01-24T08:50:41.636Z"
   },
   {
    "duration": 7,
    "start_time": "2023-01-24T08:50:53.850Z"
   },
   {
    "duration": 5,
    "start_time": "2023-01-24T08:50:57.066Z"
   },
   {
    "duration": 5,
    "start_time": "2023-01-24T08:52:18.410Z"
   },
   {
    "duration": 10,
    "start_time": "2023-01-24T08:52:23.491Z"
   },
   {
    "duration": 8,
    "start_time": "2023-01-24T08:52:28.464Z"
   },
   {
    "duration": 9,
    "start_time": "2023-01-24T08:52:35.609Z"
   },
   {
    "duration": 5,
    "start_time": "2023-01-24T08:52:42.752Z"
   },
   {
    "duration": 8,
    "start_time": "2023-01-24T08:52:56.299Z"
   },
   {
    "duration": 9,
    "start_time": "2023-01-24T08:53:02.635Z"
   },
   {
    "duration": 25,
    "start_time": "2023-01-24T08:53:55.038Z"
   },
   {
    "duration": 10,
    "start_time": "2023-01-24T08:55:15.887Z"
   },
   {
    "duration": 12,
    "start_time": "2023-01-24T08:55:19.582Z"
   },
   {
    "duration": 8,
    "start_time": "2023-01-24T08:55:21.256Z"
   },
   {
    "duration": 16,
    "start_time": "2023-01-24T08:55:31.582Z"
   },
   {
    "duration": 3,
    "start_time": "2023-01-24T08:58:36.092Z"
   },
   {
    "duration": 351,
    "start_time": "2023-01-24T08:58:36.508Z"
   },
   {
    "duration": 9,
    "start_time": "2023-01-24T08:58:37.486Z"
   },
   {
    "duration": 10,
    "start_time": "2023-01-24T08:58:37.946Z"
   },
   {
    "duration": 10,
    "start_time": "2023-01-24T08:58:39.147Z"
   },
   {
    "duration": 34,
    "start_time": "2023-01-24T08:58:40.120Z"
   },
   {
    "duration": 12,
    "start_time": "2023-01-24T08:58:50.206Z"
   },
   {
    "duration": 12,
    "start_time": "2023-01-24T08:58:51.658Z"
   },
   {
    "duration": 10,
    "start_time": "2023-01-24T08:58:55.457Z"
   },
   {
    "duration": 39,
    "start_time": "2023-01-24T08:58:58.114Z"
   },
   {
    "duration": 34,
    "start_time": "2023-01-24T08:59:01.715Z"
   },
   {
    "duration": 36,
    "start_time": "2023-01-24T08:59:03.034Z"
   },
   {
    "duration": 65,
    "start_time": "2023-01-24T08:59:04.961Z"
   },
   {
    "duration": 63,
    "start_time": "2023-01-24T08:59:06.054Z"
   },
   {
    "duration": 63,
    "start_time": "2023-01-24T08:59:09.585Z"
   },
   {
    "duration": 5,
    "start_time": "2023-01-24T08:59:13.583Z"
   },
   {
    "duration": 6,
    "start_time": "2023-01-24T08:59:15.538Z"
   },
   {
    "duration": 5,
    "start_time": "2023-01-24T08:59:25.290Z"
   },
   {
    "duration": 4,
    "start_time": "2023-01-24T08:59:26.169Z"
   },
   {
    "duration": 3,
    "start_time": "2023-01-24T08:59:30.529Z"
   },
   {
    "duration": 12,
    "start_time": "2023-01-24T08:59:33.554Z"
   },
   {
    "duration": 4,
    "start_time": "2023-01-24T08:59:40.492Z"
   },
   {
    "duration": 13,
    "start_time": "2023-01-24T08:59:53.568Z"
   },
   {
    "duration": 8,
    "start_time": "2023-01-24T09:00:06.291Z"
   },
   {
    "duration": 13,
    "start_time": "2023-01-24T09:00:17.898Z"
   },
   {
    "duration": 15,
    "start_time": "2023-01-24T09:00:21.452Z"
   },
   {
    "duration": 743,
    "start_time": "2023-01-24T09:01:02.203Z"
   },
   {
    "duration": 10,
    "start_time": "2023-01-24T09:01:15.389Z"
   },
   {
    "duration": 5,
    "start_time": "2023-01-24T09:02:46.880Z"
   },
   {
    "duration": 4,
    "start_time": "2023-01-24T09:02:58.852Z"
   },
   {
    "duration": 9,
    "start_time": "2023-01-24T09:03:57.591Z"
   },
   {
    "duration": 10,
    "start_time": "2023-01-24T09:04:05.659Z"
   },
   {
    "duration": 6,
    "start_time": "2023-01-24T09:05:08.964Z"
   },
   {
    "duration": 11,
    "start_time": "2023-01-24T09:05:14.826Z"
   },
   {
    "duration": 9,
    "start_time": "2023-01-24T09:05:17.219Z"
   },
   {
    "duration": 10,
    "start_time": "2023-01-24T09:05:18.050Z"
   },
   {
    "duration": 7,
    "start_time": "2023-01-24T09:05:27.900Z"
   },
   {
    "duration": 11,
    "start_time": "2023-01-24T09:05:29.536Z"
   },
   {
    "duration": 1353,
    "start_time": "2023-01-24T09:26:14.865Z"
   },
   {
    "duration": 350,
    "start_time": "2023-01-24T09:26:16.833Z"
   },
   {
    "duration": 12,
    "start_time": "2023-01-24T09:26:21.289Z"
   },
   {
    "duration": 10,
    "start_time": "2023-01-24T09:26:24.595Z"
   },
   {
    "duration": 9,
    "start_time": "2023-01-24T09:26:25.377Z"
   },
   {
    "duration": 46,
    "start_time": "2023-01-24T09:26:27.233Z"
   },
   {
    "duration": 12,
    "start_time": "2023-01-24T09:26:36.963Z"
   },
   {
    "duration": 5,
    "start_time": "2023-01-24T09:27:00.068Z"
   },
   {
    "duration": 11,
    "start_time": "2023-01-24T09:27:02.730Z"
   },
   {
    "duration": 37,
    "start_time": "2023-01-24T09:27:10.235Z"
   },
   {
    "duration": 33,
    "start_time": "2023-01-24T09:27:10.939Z"
   },
   {
    "duration": 37,
    "start_time": "2023-01-24T09:27:11.651Z"
   },
   {
    "duration": 64,
    "start_time": "2023-01-24T09:27:12.414Z"
   },
   {
    "duration": 61,
    "start_time": "2023-01-24T09:27:14.580Z"
   },
   {
    "duration": 72,
    "start_time": "2023-01-24T09:27:17.825Z"
   },
   {
    "duration": 4,
    "start_time": "2023-01-24T09:27:23.481Z"
   },
   {
    "duration": 6,
    "start_time": "2023-01-24T09:27:24.385Z"
   },
   {
    "duration": 6,
    "start_time": "2023-01-24T09:27:27.537Z"
   },
   {
    "duration": 3,
    "start_time": "2023-01-24T09:27:33.441Z"
   },
   {
    "duration": 13,
    "start_time": "2023-01-24T09:27:35.329Z"
   },
   {
    "duration": 3,
    "start_time": "2023-01-24T09:27:44.515Z"
   },
   {
    "duration": 14,
    "start_time": "2023-01-24T09:27:48.410Z"
   },
   {
    "duration": 9,
    "start_time": "2023-01-24T09:27:50.754Z"
   },
   {
    "duration": 6,
    "start_time": "2023-01-24T09:27:54.578Z"
   },
   {
    "duration": 5,
    "start_time": "2023-01-24T09:28:05.656Z"
   },
   {
    "duration": 13,
    "start_time": "2023-01-24T09:29:58.297Z"
   },
   {
    "duration": 8,
    "start_time": "2023-01-24T09:29:59.658Z"
   },
   {
    "duration": 11,
    "start_time": "2023-01-24T09:30:00.758Z"
   },
   {
    "duration": 1988,
    "start_time": "2023-01-24T09:30:28.538Z"
   },
   {
    "duration": 6,
    "start_time": "2023-01-24T09:30:37.647Z"
   },
   {
    "duration": 5,
    "start_time": "2023-01-24T09:30:45.735Z"
   },
   {
    "duration": 4,
    "start_time": "2023-01-24T09:35:44.631Z"
   },
   {
    "duration": 368,
    "start_time": "2023-01-24T09:35:44.814Z"
   },
   {
    "duration": 10,
    "start_time": "2023-01-24T09:35:45.190Z"
   },
   {
    "duration": 12,
    "start_time": "2023-01-24T09:35:45.375Z"
   },
   {
    "duration": 13,
    "start_time": "2023-01-24T09:35:45.566Z"
   },
   {
    "duration": 52,
    "start_time": "2023-01-24T09:35:45.752Z"
   },
   {
    "duration": 14,
    "start_time": "2023-01-24T09:35:46.331Z"
   },
   {
    "duration": 5,
    "start_time": "2023-01-24T09:35:46.528Z"
   },
   {
    "duration": 11,
    "start_time": "2023-01-24T09:35:46.733Z"
   },
   {
    "duration": 39,
    "start_time": "2023-01-24T09:35:46.919Z"
   },
   {
    "duration": 42,
    "start_time": "2023-01-24T09:35:47.122Z"
   },
   {
    "duration": 38,
    "start_time": "2023-01-24T09:35:47.324Z"
   },
   {
    "duration": 67,
    "start_time": "2023-01-24T09:35:47.502Z"
   },
   {
    "duration": 75,
    "start_time": "2023-01-24T09:35:47.698Z"
   },
   {
    "duration": 69,
    "start_time": "2023-01-24T09:35:48.100Z"
   },
   {
    "duration": 5,
    "start_time": "2023-01-24T09:35:48.481Z"
   },
   {
    "duration": 5,
    "start_time": "2023-01-24T09:35:48.671Z"
   },
   {
    "duration": 5,
    "start_time": "2023-01-24T09:35:48.901Z"
   },
   {
    "duration": 3,
    "start_time": "2023-01-24T09:35:49.722Z"
   },
   {
    "duration": 12,
    "start_time": "2023-01-24T09:35:50.297Z"
   },
   {
    "duration": 4,
    "start_time": "2023-01-24T09:35:51.000Z"
   },
   {
    "duration": 14,
    "start_time": "2023-01-24T09:35:55.252Z"
   },
   {
    "duration": 8,
    "start_time": "2023-01-24T09:35:56.717Z"
   },
   {
    "duration": 3,
    "start_time": "2023-01-24T09:36:05.498Z"
   },
   {
    "duration": 6,
    "start_time": "2023-01-24T09:36:12.489Z"
   },
   {
    "duration": 9,
    "start_time": "2023-01-24T09:36:17.728Z"
   },
   {
    "duration": 9,
    "start_time": "2023-01-24T09:36:40.505Z"
   },
   {
    "duration": 3,
    "start_time": "2023-01-24T09:36:45.947Z"
   },
   {
    "duration": 10,
    "start_time": "2023-01-24T09:37:02.215Z"
   },
   {
    "duration": 5,
    "start_time": "2023-01-24T09:37:05.998Z"
   },
   {
    "duration": 8,
    "start_time": "2023-01-24T09:40:31.000Z"
   },
   {
    "duration": 13,
    "start_time": "2023-01-24T09:40:32.600Z"
   },
   {
    "duration": 8,
    "start_time": "2023-01-24T09:40:35.468Z"
   },
   {
    "duration": 15,
    "start_time": "2023-01-24T09:40:36.561Z"
   },
   {
    "duration": 7,
    "start_time": "2023-01-24T09:40:38.110Z"
   },
   {
    "duration": 9,
    "start_time": "2023-01-24T09:40:39.265Z"
   },
   {
    "duration": 12,
    "start_time": "2023-01-24T09:40:53.647Z"
   },
   {
    "duration": 12,
    "start_time": "2023-01-24T09:41:17.251Z"
   },
   {
    "duration": 11,
    "start_time": "2023-01-24T09:44:14.722Z"
   },
   {
    "duration": 4,
    "start_time": "2023-01-24T09:44:16.259Z"
   },
   {
    "duration": 12,
    "start_time": "2023-01-24T09:44:18.595Z"
   },
   {
    "duration": 15,
    "start_time": "2023-01-24T09:44:22.261Z"
   },
   {
    "duration": 12,
    "start_time": "2023-01-24T09:50:00.022Z"
   },
   {
    "duration": 12,
    "start_time": "2023-01-24T09:50:10.405Z"
   },
   {
    "duration": 4,
    "start_time": "2023-01-24T09:50:11.295Z"
   },
   {
    "duration": 13,
    "start_time": "2023-01-24T09:50:13.605Z"
   },
   {
    "duration": 13,
    "start_time": "2023-01-24T09:50:38.336Z"
   },
   {
    "duration": 14,
    "start_time": "2023-01-24T09:51:38.510Z"
   },
   {
    "duration": 45,
    "start_time": "2023-01-24T09:53:23.016Z"
   },
   {
    "duration": 26,
    "start_time": "2023-01-24T09:53:27.246Z"
   },
   {
    "duration": 9,
    "start_time": "2023-01-24T09:53:28.889Z"
   },
   {
    "duration": 16,
    "start_time": "2023-01-24T09:53:30.428Z"
   },
   {
    "duration": 2,
    "start_time": "2023-01-24T10:05:09.580Z"
   },
   {
    "duration": 49,
    "start_time": "2023-01-24T10:06:26.551Z"
   },
   {
    "duration": 4,
    "start_time": "2023-01-24T10:06:29.615Z"
   },
   {
    "duration": 4,
    "start_time": "2023-01-24T10:14:12.340Z"
   },
   {
    "duration": 3,
    "start_time": "2023-01-24T10:16:48.301Z"
   },
   {
    "duration": 4,
    "start_time": "2023-01-24T10:17:02.808Z"
   },
   {
    "duration": 4,
    "start_time": "2023-01-24T10:23:33.357Z"
   },
   {
    "duration": 4,
    "start_time": "2023-01-24T10:23:53.788Z"
   },
   {
    "duration": 5,
    "start_time": "2023-01-24T10:24:09.381Z"
   },
   {
    "duration": 4,
    "start_time": "2023-01-24T10:24:19.387Z"
   },
   {
    "duration": 47,
    "start_time": "2023-01-24T10:26:59.875Z"
   },
   {
    "duration": 42,
    "start_time": "2023-01-24T10:27:23.104Z"
   },
   {
    "duration": 3,
    "start_time": "2023-01-24T10:28:35.701Z"
   },
   {
    "duration": 3,
    "start_time": "2023-01-24T10:28:41.265Z"
   },
   {
    "duration": 48,
    "start_time": "2023-01-24T10:41:45.163Z"
   },
   {
    "duration": 1346,
    "start_time": "2023-01-24T10:41:52.757Z"
   },
   {
    "duration": 390,
    "start_time": "2023-01-24T10:41:54.108Z"
   },
   {
    "duration": 16,
    "start_time": "2023-01-24T10:41:54.501Z"
   },
   {
    "duration": 17,
    "start_time": "2023-01-24T10:41:54.519Z"
   },
   {
    "duration": 26,
    "start_time": "2023-01-24T10:41:54.538Z"
   },
   {
    "duration": 48,
    "start_time": "2023-01-24T10:41:54.566Z"
   },
   {
    "duration": 11,
    "start_time": "2023-01-24T10:41:54.616Z"
   },
   {
    "duration": 33,
    "start_time": "2023-01-24T10:41:54.629Z"
   },
   {
    "duration": 27,
    "start_time": "2023-01-24T10:41:54.665Z"
   },
   {
    "duration": 39,
    "start_time": "2023-01-24T10:41:54.694Z"
   },
   {
    "duration": 37,
    "start_time": "2023-01-24T10:41:54.735Z"
   },
   {
    "duration": 52,
    "start_time": "2023-01-24T10:41:54.773Z"
   },
   {
    "duration": 65,
    "start_time": "2023-01-24T10:41:54.827Z"
   },
   {
    "duration": 71,
    "start_time": "2023-01-24T10:41:54.894Z"
   },
   {
    "duration": 82,
    "start_time": "2023-01-24T10:41:54.967Z"
   },
   {
    "duration": 5,
    "start_time": "2023-01-24T10:41:55.052Z"
   },
   {
    "duration": 19,
    "start_time": "2023-01-24T10:41:55.059Z"
   },
   {
    "duration": 39,
    "start_time": "2023-01-24T10:41:55.080Z"
   },
   {
    "duration": 30,
    "start_time": "2023-01-24T10:41:55.121Z"
   },
   {
    "duration": 23,
    "start_time": "2023-01-24T10:41:55.153Z"
   },
   {
    "duration": 24,
    "start_time": "2023-01-24T10:41:55.179Z"
   },
   {
    "duration": 39,
    "start_time": "2023-01-24T10:41:55.205Z"
   },
   {
    "duration": 23,
    "start_time": "2023-01-24T10:41:55.246Z"
   },
   {
    "duration": 21,
    "start_time": "2023-01-24T10:41:55.271Z"
   },
   {
    "duration": 117,
    "start_time": "2023-01-24T10:41:55.293Z"
   },
   {
    "duration": 120,
    "start_time": "2023-01-24T10:41:55.411Z"
   },
   {
    "duration": 177,
    "start_time": "2023-01-24T10:41:55.536Z"
   },
   {
    "duration": 23,
    "start_time": "2023-01-24T10:41:55.714Z"
   },
   {
    "duration": 45,
    "start_time": "2023-01-24T10:41:55.739Z"
   },
   {
    "duration": 32,
    "start_time": "2023-01-24T10:41:55.786Z"
   },
   {
    "duration": 88,
    "start_time": "2023-01-24T10:41:55.821Z"
   },
   {
    "duration": 98,
    "start_time": "2023-01-24T10:41:55.911Z"
   },
   {
    "duration": 196,
    "start_time": "2023-01-24T10:41:56.011Z"
   },
   {
    "duration": 15,
    "start_time": "2023-01-24T10:41:56.208Z"
   },
   {
    "duration": 47,
    "start_time": "2023-01-24T10:41:56.225Z"
   },
   {
    "duration": 26,
    "start_time": "2023-01-24T10:41:56.274Z"
   },
   {
    "duration": 108,
    "start_time": "2023-01-24T10:41:56.302Z"
   },
   {
    "duration": 121,
    "start_time": "2023-01-24T10:41:56.413Z"
   },
   {
    "duration": 179,
    "start_time": "2023-01-24T10:41:56.536Z"
   },
   {
    "duration": 41,
    "start_time": "2023-01-24T10:41:56.717Z"
   },
   {
    "duration": 24,
    "start_time": "2023-01-24T10:41:56.760Z"
   },
   {
    "duration": 37,
    "start_time": "2023-01-24T10:41:56.785Z"
   },
   {
    "duration": 39,
    "start_time": "2023-01-24T10:41:56.823Z"
   },
   {
    "duration": 43,
    "start_time": "2023-01-24T10:41:56.864Z"
   },
   {
    "duration": 24,
    "start_time": "2023-01-24T10:41:56.908Z"
   },
   {
    "duration": 9,
    "start_time": "2023-01-24T10:42:20.224Z"
   },
   {
    "duration": 9,
    "start_time": "2023-01-24T10:42:32.835Z"
   },
   {
    "duration": 9,
    "start_time": "2023-01-24T10:42:44.505Z"
   },
   {
    "duration": 119,
    "start_time": "2023-01-24T10:47:50.479Z"
   },
   {
    "duration": 10,
    "start_time": "2023-01-24T10:48:03.582Z"
   },
   {
    "duration": 9,
    "start_time": "2023-01-24T10:48:18.880Z"
   },
   {
    "duration": 9,
    "start_time": "2023-01-24T10:48:28.307Z"
   },
   {
    "duration": 11,
    "start_time": "2023-01-24T10:48:38.481Z"
   },
   {
    "duration": 6,
    "start_time": "2023-01-24T10:48:42.280Z"
   },
   {
    "duration": 4,
    "start_time": "2023-01-24T10:52:27.443Z"
   },
   {
    "duration": 6,
    "start_time": "2023-01-24T10:52:51.092Z"
   },
   {
    "duration": 5,
    "start_time": "2023-01-24T10:52:56.396Z"
   },
   {
    "duration": 7,
    "start_time": "2023-01-24T10:53:02.388Z"
   },
   {
    "duration": 5,
    "start_time": "2023-01-24T10:55:12.285Z"
   },
   {
    "duration": 4,
    "start_time": "2023-01-24T10:55:58.051Z"
   },
   {
    "duration": 6,
    "start_time": "2023-01-24T10:55:59.648Z"
   },
   {
    "duration": 49,
    "start_time": "2023-01-24T10:59:23.249Z"
   },
   {
    "duration": 16,
    "start_time": "2023-01-24T10:59:35.181Z"
   },
   {
    "duration": 15,
    "start_time": "2023-01-24T10:59:52.231Z"
   },
   {
    "duration": 12,
    "start_time": "2023-01-24T11:00:01.641Z"
   },
   {
    "duration": 8,
    "start_time": "2023-01-24T11:00:12.492Z"
   },
   {
    "duration": 6,
    "start_time": "2023-01-24T11:02:08.399Z"
   },
   {
    "duration": 6,
    "start_time": "2023-01-24T11:03:00.933Z"
   },
   {
    "duration": 4,
    "start_time": "2023-01-24T11:04:04.581Z"
   },
   {
    "duration": 3,
    "start_time": "2023-01-24T11:06:09.077Z"
   },
   {
    "duration": 4,
    "start_time": "2023-01-24T11:06:14.419Z"
   },
   {
    "duration": 3,
    "start_time": "2023-01-24T11:13:59.008Z"
   },
   {
    "duration": 5,
    "start_time": "2023-01-24T11:14:09.709Z"
   },
   {
    "duration": 5,
    "start_time": "2023-01-24T11:14:12.791Z"
   },
   {
    "duration": 5,
    "start_time": "2023-01-24T11:14:16.632Z"
   },
   {
    "duration": 5,
    "start_time": "2023-01-24T11:14:25.448Z"
   },
   {
    "duration": 4,
    "start_time": "2023-01-24T11:15:14.376Z"
   },
   {
    "duration": 3,
    "start_time": "2023-01-24T11:15:17.149Z"
   },
   {
    "duration": 6,
    "start_time": "2023-01-24T11:15:17.644Z"
   },
   {
    "duration": 6,
    "start_time": "2023-01-24T11:15:20.184Z"
   },
   {
    "duration": 6,
    "start_time": "2023-01-24T11:15:23.809Z"
   },
   {
    "duration": 6,
    "start_time": "2023-01-24T11:16:24.632Z"
   },
   {
    "duration": 4,
    "start_time": "2023-01-24T11:18:15.680Z"
   },
   {
    "duration": 7,
    "start_time": "2023-01-24T11:18:16.677Z"
   },
   {
    "duration": 5,
    "start_time": "2023-01-24T11:18:43.112Z"
   },
   {
    "duration": 5,
    "start_time": "2023-01-24T11:18:44.932Z"
   },
   {
    "duration": 5,
    "start_time": "2023-01-24T11:18:53.979Z"
   },
   {
    "duration": 48,
    "start_time": "2023-01-24T18:08:05.725Z"
   },
   {
    "duration": 1540,
    "start_time": "2023-01-24T18:08:09.629Z"
   },
   {
    "duration": 978,
    "start_time": "2023-01-24T18:08:11.171Z"
   },
   {
    "duration": 12,
    "start_time": "2023-01-24T18:08:12.151Z"
   },
   {
    "duration": 28,
    "start_time": "2023-01-24T18:08:12.165Z"
   },
   {
    "duration": 30,
    "start_time": "2023-01-24T18:08:12.195Z"
   },
   {
    "duration": 47,
    "start_time": "2023-01-24T18:08:12.226Z"
   },
   {
    "duration": 10,
    "start_time": "2023-01-24T18:08:12.274Z"
   },
   {
    "duration": 18,
    "start_time": "2023-01-24T18:08:12.285Z"
   },
   {
    "duration": 27,
    "start_time": "2023-01-24T18:08:12.305Z"
   },
   {
    "duration": 57,
    "start_time": "2023-01-24T18:08:12.334Z"
   },
   {
    "duration": 37,
    "start_time": "2023-01-24T18:08:12.392Z"
   },
   {
    "duration": 39,
    "start_time": "2023-01-24T18:08:12.430Z"
   },
   {
    "duration": 78,
    "start_time": "2023-01-24T18:08:12.470Z"
   },
   {
    "duration": 77,
    "start_time": "2023-01-24T18:08:12.550Z"
   },
   {
    "duration": 90,
    "start_time": "2023-01-24T18:08:12.629Z"
   },
   {
    "duration": 6,
    "start_time": "2023-01-24T18:08:12.726Z"
   },
   {
    "duration": 12,
    "start_time": "2023-01-24T18:08:12.733Z"
   },
   {
    "duration": 14,
    "start_time": "2023-01-24T18:08:12.747Z"
   },
   {
    "duration": 6,
    "start_time": "2023-01-24T18:08:12.762Z"
   },
   {
    "duration": 17,
    "start_time": "2023-01-24T18:08:12.770Z"
   },
   {
    "duration": 3,
    "start_time": "2023-01-24T18:08:12.789Z"
   },
   {
    "duration": 13,
    "start_time": "2023-01-24T18:08:12.794Z"
   },
   {
    "duration": 14,
    "start_time": "2023-01-24T18:08:12.809Z"
   },
   {
    "duration": 99,
    "start_time": "2023-01-24T18:08:12.828Z"
   },
   {
    "duration": 99,
    "start_time": "2023-01-24T18:08:12.928Z"
   },
   {
    "duration": 9,
    "start_time": "2023-01-24T18:08:13.032Z"
   },
   {
    "duration": 87,
    "start_time": "2023-01-24T18:08:13.043Z"
   },
   {
    "duration": 88,
    "start_time": "2023-01-24T18:08:13.131Z"
   },
   {
    "duration": 12,
    "start_time": "2023-01-24T18:08:13.223Z"
   },
   {
    "duration": 10,
    "start_time": "2023-01-24T18:08:13.236Z"
   },
   {
    "duration": 171,
    "start_time": "2023-01-24T18:08:13.248Z"
   },
   {
    "duration": 34,
    "start_time": "2023-01-24T18:08:13.420Z"
   },
   {
    "duration": 185,
    "start_time": "2023-01-24T18:08:13.456Z"
   },
   {
    "duration": 34,
    "start_time": "2023-01-24T18:08:13.642Z"
   },
   {
    "duration": 18,
    "start_time": "2023-01-24T18:08:13.677Z"
   },
   {
    "duration": 33,
    "start_time": "2023-01-24T18:08:13.696Z"
   },
   {
    "duration": 192,
    "start_time": "2023-01-24T18:08:13.731Z"
   },
   {
    "duration": 23,
    "start_time": "2023-01-24T18:08:13.928Z"
   },
   {
    "duration": 174,
    "start_time": "2023-01-24T18:08:13.953Z"
   },
   {
    "duration": 13,
    "start_time": "2023-01-24T18:08:14.129Z"
   },
   {
    "duration": 43,
    "start_time": "2023-01-24T18:08:14.145Z"
   },
   {
    "duration": 6,
    "start_time": "2023-01-24T18:08:14.189Z"
   },
   {
    "duration": 12,
    "start_time": "2023-01-24T18:08:14.196Z"
   },
   {
    "duration": 21,
    "start_time": "2023-01-24T18:08:14.209Z"
   },
   {
    "duration": 18,
    "start_time": "2023-01-24T18:08:14.232Z"
   },
   {
    "duration": 26,
    "start_time": "2023-01-24T18:08:14.252Z"
   },
   {
    "duration": 13,
    "start_time": "2023-01-24T18:08:14.280Z"
   },
   {
    "duration": 15,
    "start_time": "2023-01-24T18:08:14.295Z"
   },
   {
    "duration": 3,
    "start_time": "2023-01-24T18:18:31.074Z"
   },
   {
    "duration": 2,
    "start_time": "2023-01-24T18:18:49.687Z"
   },
   {
    "duration": 114,
    "start_time": "2023-01-24T18:25:55.756Z"
   },
   {
    "duration": 9,
    "start_time": "2023-01-24T18:26:11.387Z"
   },
   {
    "duration": 10,
    "start_time": "2023-01-24T18:26:18.014Z"
   },
   {
    "duration": 9,
    "start_time": "2023-01-24T18:26:53.264Z"
   },
   {
    "duration": 382,
    "start_time": "2023-01-24T18:27:00.066Z"
   },
   {
    "duration": 17,
    "start_time": "2023-01-24T18:27:06.126Z"
   },
   {
    "duration": 6,
    "start_time": "2023-01-24T18:27:29.956Z"
   },
   {
    "duration": 2,
    "start_time": "2023-01-24T18:27:39.276Z"
   },
   {
    "duration": 4,
    "start_time": "2023-01-24T18:27:48.373Z"
   },
   {
    "duration": 4,
    "start_time": "2023-01-24T18:46:59.068Z"
   },
   {
    "duration": 4,
    "start_time": "2023-01-24T18:47:22.484Z"
   },
   {
    "duration": 9,
    "start_time": "2023-01-24T18:49:26.816Z"
   },
   {
    "duration": 3,
    "start_time": "2023-01-24T18:49:52.823Z"
   },
   {
    "duration": 2,
    "start_time": "2023-01-24T18:50:01.057Z"
   },
   {
    "duration": 11,
    "start_time": "2023-01-24T18:50:01.957Z"
   },
   {
    "duration": 363,
    "start_time": "2023-01-24T18:51:25.932Z"
   },
   {
    "duration": 366,
    "start_time": "2023-01-24T18:52:47.964Z"
   },
   {
    "duration": 3,
    "start_time": "2023-01-24T18:52:59.565Z"
   },
   {
    "duration": 4,
    "start_time": "2023-01-24T18:53:18.431Z"
   },
   {
    "duration": 368,
    "start_time": "2023-01-24T18:53:24.828Z"
   },
   {
    "duration": 3,
    "start_time": "2023-01-24T18:53:26.102Z"
   },
   {
    "duration": 3,
    "start_time": "2023-01-24T18:53:27.339Z"
   },
   {
    "duration": 372,
    "start_time": "2023-01-24T18:53:50.688Z"
   },
   {
    "duration": 3,
    "start_time": "2023-01-24T18:54:03.643Z"
   },
   {
    "duration": 3,
    "start_time": "2023-01-24T18:54:12.495Z"
   },
   {
    "duration": 7,
    "start_time": "2023-01-24T18:56:07.122Z"
   },
   {
    "duration": 8,
    "start_time": "2023-01-24T18:56:15.636Z"
   },
   {
    "duration": 3,
    "start_time": "2023-01-24T19:01:19.898Z"
   },
   {
    "duration": 368,
    "start_time": "2023-01-24T19:01:20.717Z"
   },
   {
    "duration": 3,
    "start_time": "2023-01-24T19:01:21.650Z"
   },
   {
    "duration": 3,
    "start_time": "2023-01-24T19:01:23.337Z"
   },
   {
    "duration": 389,
    "start_time": "2023-01-24T19:01:24.288Z"
   },
   {
    "duration": 2,
    "start_time": "2023-01-24T19:01:26.540Z"
   },
   {
    "duration": 4,
    "start_time": "2023-01-24T19:01:27.259Z"
   },
   {
    "duration": 360,
    "start_time": "2023-01-24T19:01:28.005Z"
   },
   {
    "duration": 2,
    "start_time": "2023-01-24T19:01:29.156Z"
   },
   {
    "duration": 4,
    "start_time": "2023-01-24T19:01:30.066Z"
   },
   {
    "duration": 4,
    "start_time": "2023-01-24T19:01:31.288Z"
   },
   {
    "duration": 4,
    "start_time": "2023-01-24T19:01:40.261Z"
   },
   {
    "duration": 7,
    "start_time": "2023-01-24T19:01:44.789Z"
   },
   {
    "duration": 3,
    "start_time": "2023-01-24T19:01:52.311Z"
   },
   {
    "duration": 4,
    "start_time": "2023-01-24T19:02:56.809Z"
   },
   {
    "duration": 4,
    "start_time": "2023-01-24T19:03:07.094Z"
   },
   {
    "duration": 3,
    "start_time": "2023-01-24T19:03:13.883Z"
   },
   {
    "duration": 4,
    "start_time": "2023-01-24T19:03:33.869Z"
   },
   {
    "duration": 3,
    "start_time": "2023-01-24T19:03:40.512Z"
   },
   {
    "duration": 3,
    "start_time": "2023-01-24T19:03:46.110Z"
   },
   {
    "duration": 1613,
    "start_time": "2023-01-25T05:40:58.034Z"
   },
   {
    "duration": 1581,
    "start_time": "2023-01-25T05:40:59.649Z"
   },
   {
    "duration": 15,
    "start_time": "2023-01-25T05:41:01.232Z"
   },
   {
    "duration": 113,
    "start_time": "2023-01-25T05:41:01.249Z"
   },
   {
    "duration": 33,
    "start_time": "2023-01-25T05:41:01.364Z"
   },
   {
    "duration": 193,
    "start_time": "2023-01-25T05:41:01.398Z"
   },
   {
    "duration": 55,
    "start_time": "2023-01-25T05:41:01.593Z"
   },
   {
    "duration": 49,
    "start_time": "2023-01-25T05:41:01.650Z"
   },
   {
    "duration": 36,
    "start_time": "2023-01-25T05:41:01.701Z"
   },
   {
    "duration": 71,
    "start_time": "2023-01-25T05:41:01.740Z"
   },
   {
    "duration": 40,
    "start_time": "2023-01-25T05:41:01.813Z"
   },
   {
    "duration": 40,
    "start_time": "2023-01-25T05:41:01.855Z"
   },
   {
    "duration": 97,
    "start_time": "2023-01-25T05:41:01.897Z"
   },
   {
    "duration": 65,
    "start_time": "2023-01-25T05:41:01.996Z"
   },
   {
    "duration": 75,
    "start_time": "2023-01-25T05:41:02.062Z"
   },
   {
    "duration": 4,
    "start_time": "2023-01-25T05:41:02.138Z"
   },
   {
    "duration": 67,
    "start_time": "2023-01-25T05:41:02.144Z"
   },
   {
    "duration": 272,
    "start_time": "2023-01-25T05:41:02.212Z"
   },
   {
    "duration": 592,
    "start_time": "2023-01-25T05:41:02.486Z"
   },
   {
    "duration": 18,
    "start_time": "2023-01-25T05:41:03.079Z"
   },
   {
    "duration": 3,
    "start_time": "2023-01-25T05:41:03.099Z"
   },
   {
    "duration": 16,
    "start_time": "2023-01-25T05:41:03.103Z"
   },
   {
    "duration": 13,
    "start_time": "2023-01-25T05:41:03.121Z"
   },
   {
    "duration": 81,
    "start_time": "2023-01-25T05:41:03.136Z"
   },
   {
    "duration": 9,
    "start_time": "2023-01-25T05:41:03.291Z"
   },
   {
    "duration": 96,
    "start_time": "2023-01-25T05:41:03.303Z"
   },
   {
    "duration": 102,
    "start_time": "2023-01-25T05:41:03.401Z"
   },
   {
    "duration": 4,
    "start_time": "2023-01-25T05:41:03.592Z"
   },
   {
    "duration": 18,
    "start_time": "2023-01-25T05:41:03.597Z"
   },
   {
    "duration": 11,
    "start_time": "2023-01-25T05:41:03.616Z"
   },
   {
    "duration": 63,
    "start_time": "2023-01-25T05:41:03.629Z"
   },
   {
    "duration": 100,
    "start_time": "2023-01-25T05:41:03.694Z"
   },
   {
    "duration": 109,
    "start_time": "2023-01-25T05:41:03.796Z"
   },
   {
    "duration": 4,
    "start_time": "2023-01-25T05:41:03.907Z"
   },
   {
    "duration": 14,
    "start_time": "2023-01-25T05:41:03.913Z"
   },
   {
    "duration": 70,
    "start_time": "2023-01-25T05:41:03.929Z"
   },
   {
    "duration": 91,
    "start_time": "2023-01-25T05:41:04.001Z"
   },
   {
    "duration": 11,
    "start_time": "2023-01-25T05:41:04.094Z"
   },
   {
    "duration": 91,
    "start_time": "2023-01-25T05:41:04.107Z"
   },
   {
    "duration": 97,
    "start_time": "2023-01-25T05:41:04.200Z"
   },
   {
    "duration": 8,
    "start_time": "2023-01-25T05:41:04.298Z"
   },
   {
    "duration": 7,
    "start_time": "2023-01-25T05:41:04.308Z"
   },
   {
    "duration": 5,
    "start_time": "2023-01-25T05:41:04.316Z"
   },
   {
    "duration": 5,
    "start_time": "2023-01-25T05:41:04.323Z"
   },
   {
    "duration": 4,
    "start_time": "2023-01-25T05:41:04.330Z"
   },
   {
    "duration": 18,
    "start_time": "2023-01-25T05:41:04.335Z"
   },
   {
    "duration": 5,
    "start_time": "2023-01-25T05:41:04.354Z"
   },
   {
    "duration": 5,
    "start_time": "2023-01-25T05:41:04.361Z"
   },
   {
    "duration": 3,
    "start_time": "2023-01-25T05:41:04.392Z"
   },
   {
    "duration": 496,
    "start_time": "2023-01-25T05:41:04.397Z"
   },
   {
    "duration": 2,
    "start_time": "2023-01-25T05:41:04.895Z"
   },
   {
    "duration": 7,
    "start_time": "2023-01-25T05:41:04.899Z"
   },
   {
    "duration": 491,
    "start_time": "2023-01-25T05:41:04.908Z"
   },
   {
    "duration": 3,
    "start_time": "2023-01-25T05:41:05.401Z"
   },
   {
    "duration": 6,
    "start_time": "2023-01-25T05:41:05.406Z"
   },
   {
    "duration": 506,
    "start_time": "2023-01-25T05:41:05.414Z"
   },
   {
    "duration": 6,
    "start_time": "2023-01-25T05:41:05.925Z"
   },
   {
    "duration": 19,
    "start_time": "2023-01-25T05:41:05.934Z"
   },
   {
    "duration": 35,
    "start_time": "2023-01-25T05:41:05.955Z"
   },
   {
    "duration": 11,
    "start_time": "2023-01-25T05:41:05.992Z"
   },
   {
    "duration": 12,
    "start_time": "2023-01-25T05:41:06.005Z"
   },
   {
    "duration": 10,
    "start_time": "2023-01-25T05:41:06.020Z"
   },
   {
    "duration": 13,
    "start_time": "2023-01-25T05:41:06.032Z"
   },
   {
    "duration": 14,
    "start_time": "2023-01-25T05:41:06.047Z"
   },
   {
    "duration": 16,
    "start_time": "2023-01-25T05:41:06.063Z"
   },
   {
    "duration": 16,
    "start_time": "2023-01-25T05:41:06.081Z"
   },
   {
    "duration": 11,
    "start_time": "2023-01-25T05:41:06.099Z"
   },
   {
    "duration": 4,
    "start_time": "2023-01-25T05:43:16.891Z"
   },
   {
    "duration": 3,
    "start_time": "2023-01-25T05:44:52.651Z"
   },
   {
    "duration": 5,
    "start_time": "2023-01-25T05:45:41.930Z"
   },
   {
    "duration": 4,
    "start_time": "2023-01-25T05:45:49.933Z"
   },
   {
    "duration": 5,
    "start_time": "2023-01-25T05:45:55.982Z"
   },
   {
    "duration": 7,
    "start_time": "2023-01-25T05:49:35.014Z"
   },
   {
    "duration": 7,
    "start_time": "2023-01-25T05:49:46.764Z"
   },
   {
    "duration": 5,
    "start_time": "2023-01-25T05:49:54.724Z"
   },
   {
    "duration": 6,
    "start_time": "2023-01-25T05:50:37.053Z"
   },
   {
    "duration": 4,
    "start_time": "2023-01-25T05:50:40.626Z"
   },
   {
    "duration": 76,
    "start_time": "2023-01-25T05:52:14.480Z"
   },
   {
    "duration": 3,
    "start_time": "2023-01-25T05:52:36.277Z"
   },
   {
    "duration": 5,
    "start_time": "2023-01-25T05:52:41.648Z"
   },
   {
    "duration": 5,
    "start_time": "2023-01-25T05:52:48.566Z"
   },
   {
    "duration": 6,
    "start_time": "2023-01-25T05:52:49.369Z"
   },
   {
    "duration": 74,
    "start_time": "2023-01-25T05:53:31.769Z"
   },
   {
    "duration": 4,
    "start_time": "2023-01-25T05:59:55.175Z"
   },
   {
    "duration": 3,
    "start_time": "2023-01-25T06:00:02.103Z"
   },
   {
    "duration": 4,
    "start_time": "2023-01-25T06:00:13.908Z"
   },
   {
    "duration": 3,
    "start_time": "2023-01-25T06:02:22.863Z"
   },
   {
    "duration": 71,
    "start_time": "2023-01-25T06:04:43.685Z"
   },
   {
    "duration": 5,
    "start_time": "2023-01-25T06:04:53.598Z"
   },
   {
    "duration": 107,
    "start_time": "2023-01-25T06:04:59.991Z"
   },
   {
    "duration": 3,
    "start_time": "2023-01-25T06:05:16.222Z"
   },
   {
    "duration": 4,
    "start_time": "2023-01-25T06:05:23.219Z"
   },
   {
    "duration": 563,
    "start_time": "2023-01-25T06:06:15.803Z"
   },
   {
    "duration": 3,
    "start_time": "2023-01-25T06:06:17.521Z"
   },
   {
    "duration": 4,
    "start_time": "2023-01-25T06:06:46.940Z"
   },
   {
    "duration": 4,
    "start_time": "2023-01-25T06:08:01.850Z"
   },
   {
    "duration": 4,
    "start_time": "2023-01-25T06:08:44.290Z"
   },
   {
    "duration": 4,
    "start_time": "2023-01-25T06:09:05.741Z"
   },
   {
    "duration": 3,
    "start_time": "2023-01-25T06:09:13.505Z"
   },
   {
    "duration": 5,
    "start_time": "2023-01-25T06:10:24.531Z"
   },
   {
    "duration": 496,
    "start_time": "2023-01-25T06:10:31.270Z"
   },
   {
    "duration": 4,
    "start_time": "2023-01-25T06:10:33.206Z"
   },
   {
    "duration": 3,
    "start_time": "2023-01-25T06:10:34.614Z"
   },
   {
    "duration": 6,
    "start_time": "2023-01-25T06:10:36.184Z"
   },
   {
    "duration": 4,
    "start_time": "2023-01-25T06:10:46.726Z"
   },
   {
    "duration": 4,
    "start_time": "2023-01-25T06:11:36.157Z"
   },
   {
    "duration": 4,
    "start_time": "2023-01-25T06:12:15.000Z"
   },
   {
    "duration": 3,
    "start_time": "2023-01-25T06:12:15.673Z"
   },
   {
    "duration": 3,
    "start_time": "2023-01-25T06:12:17.835Z"
   },
   {
    "duration": 3,
    "start_time": "2023-01-25T06:12:19.312Z"
   },
   {
    "duration": 3,
    "start_time": "2023-01-25T06:21:44.948Z"
   },
   {
    "duration": 3,
    "start_time": "2023-01-25T06:21:46.686Z"
   },
   {
    "duration": 5,
    "start_time": "2023-01-25T06:22:51.838Z"
   },
   {
    "duration": 104,
    "start_time": "2023-01-25T06:24:22.462Z"
   },
   {
    "duration": 7,
    "start_time": "2023-01-25T06:24:34.337Z"
   },
   {
    "duration": 7,
    "start_time": "2023-01-25T06:24:43.525Z"
   },
   {
    "duration": 7,
    "start_time": "2023-01-25T06:25:31.036Z"
   },
   {
    "duration": 9,
    "start_time": "2023-01-25T06:25:45.056Z"
   },
   {
    "duration": 8,
    "start_time": "2023-01-25T06:26:10.069Z"
   },
   {
    "duration": 10,
    "start_time": "2023-01-25T06:26:47.158Z"
   },
   {
    "duration": 7,
    "start_time": "2023-01-25T06:26:57.545Z"
   },
   {
    "duration": 6,
    "start_time": "2023-01-25T06:27:16.653Z"
   },
   {
    "duration": 8,
    "start_time": "2023-01-25T06:31:20.047Z"
   },
   {
    "duration": 1416,
    "start_time": "2023-01-25T06:36:58.464Z"
   },
   {
    "duration": 392,
    "start_time": "2023-01-25T06:36:59.882Z"
   },
   {
    "duration": 16,
    "start_time": "2023-01-25T06:37:00.276Z"
   },
   {
    "duration": 44,
    "start_time": "2023-01-25T06:37:00.294Z"
   },
   {
    "duration": 29,
    "start_time": "2023-01-25T06:37:00.340Z"
   },
   {
    "duration": 93,
    "start_time": "2023-01-25T06:37:00.371Z"
   },
   {
    "duration": 12,
    "start_time": "2023-01-25T06:37:00.466Z"
   },
   {
    "duration": 48,
    "start_time": "2023-01-25T06:37:00.480Z"
   },
   {
    "duration": 28,
    "start_time": "2023-01-25T06:37:00.530Z"
   },
   {
    "duration": 57,
    "start_time": "2023-01-25T06:37:00.561Z"
   },
   {
    "duration": 45,
    "start_time": "2023-01-25T06:37:00.620Z"
   },
   {
    "duration": 61,
    "start_time": "2023-01-25T06:37:00.667Z"
   },
   {
    "duration": 82,
    "start_time": "2023-01-25T06:37:00.730Z"
   },
   {
    "duration": 59,
    "start_time": "2023-01-25T06:37:00.814Z"
   },
   {
    "duration": 84,
    "start_time": "2023-01-25T06:37:00.875Z"
   },
   {
    "duration": 5,
    "start_time": "2023-01-25T06:37:00.960Z"
   },
   {
    "duration": 39,
    "start_time": "2023-01-25T06:37:00.967Z"
   },
   {
    "duration": 18,
    "start_time": "2023-01-25T06:37:01.008Z"
   },
   {
    "duration": 51,
    "start_time": "2023-01-25T06:37:01.028Z"
   },
   {
    "duration": 72,
    "start_time": "2023-01-25T06:37:01.081Z"
   },
   {
    "duration": 31,
    "start_time": "2023-01-25T06:37:01.155Z"
   },
   {
    "duration": 57,
    "start_time": "2023-01-25T06:37:01.188Z"
   },
   {
    "duration": 60,
    "start_time": "2023-01-25T06:37:01.247Z"
   },
   {
    "duration": 58,
    "start_time": "2023-01-25T06:37:01.308Z"
   },
   {
    "duration": 157,
    "start_time": "2023-01-25T06:37:01.368Z"
   },
   {
    "duration": 76,
    "start_time": "2023-01-25T06:37:01.527Z"
   },
   {
    "duration": 194,
    "start_time": "2023-01-25T06:37:01.609Z"
   },
   {
    "duration": 23,
    "start_time": "2023-01-25T06:37:01.811Z"
   },
   {
    "duration": 43,
    "start_time": "2023-01-25T06:37:01.835Z"
   },
   {
    "duration": 85,
    "start_time": "2023-01-25T06:37:01.881Z"
   },
   {
    "duration": 146,
    "start_time": "2023-01-25T06:37:01.968Z"
   },
   {
    "duration": 21,
    "start_time": "2023-01-25T06:37:02.117Z"
   },
   {
    "duration": 192,
    "start_time": "2023-01-25T06:37:02.140Z"
   },
   {
    "duration": 16,
    "start_time": "2023-01-25T06:37:02.334Z"
   },
   {
    "duration": 19,
    "start_time": "2023-01-25T06:37:02.352Z"
   },
   {
    "duration": 26,
    "start_time": "2023-01-25T06:37:02.373Z"
   },
   {
    "duration": 100,
    "start_time": "2023-01-25T06:37:02.402Z"
   },
   {
    "duration": 89,
    "start_time": "2023-01-25T06:37:02.507Z"
   },
   {
    "duration": 115,
    "start_time": "2023-01-25T06:37:02.597Z"
   },
   {
    "duration": 21,
    "start_time": "2023-01-25T06:37:02.713Z"
   },
   {
    "duration": 21,
    "start_time": "2023-01-25T06:37:02.736Z"
   },
   {
    "duration": 18,
    "start_time": "2023-01-25T06:37:02.758Z"
   },
   {
    "duration": 8,
    "start_time": "2023-01-25T06:37:02.777Z"
   },
   {
    "duration": 5,
    "start_time": "2023-01-25T06:37:02.786Z"
   },
   {
    "duration": 32,
    "start_time": "2023-01-25T06:37:02.793Z"
   },
   {
    "duration": 25,
    "start_time": "2023-01-25T06:37:02.827Z"
   },
   {
    "duration": 12,
    "start_time": "2023-01-25T06:37:02.853Z"
   },
   {
    "duration": 19,
    "start_time": "2023-01-25T06:37:02.866Z"
   },
   {
    "duration": 27,
    "start_time": "2023-01-25T06:37:02.887Z"
   },
   {
    "duration": 566,
    "start_time": "2023-01-25T06:37:02.916Z"
   },
   {
    "duration": 3,
    "start_time": "2023-01-25T06:37:03.484Z"
   },
   {
    "duration": 30,
    "start_time": "2023-01-25T06:37:03.491Z"
   },
   {
    "duration": 15,
    "start_time": "2023-01-25T06:37:03.523Z"
   },
   {
    "duration": 16,
    "start_time": "2023-01-25T06:37:03.539Z"
   },
   {
    "duration": 9,
    "start_time": "2023-01-25T06:37:03.557Z"
   },
   {
    "duration": 9,
    "start_time": "2023-01-25T06:37:03.568Z"
   },
   {
    "duration": 557,
    "start_time": "2023-01-25T06:37:03.578Z"
   },
   {
    "duration": 3,
    "start_time": "2023-01-25T06:37:04.137Z"
   },
   {
    "duration": 13,
    "start_time": "2023-01-25T06:37:04.142Z"
   },
   {
    "duration": 10,
    "start_time": "2023-01-25T06:37:04.156Z"
   },
   {
    "duration": 43,
    "start_time": "2023-01-25T06:37:04.168Z"
   },
   {
    "duration": 7,
    "start_time": "2023-01-25T06:37:04.213Z"
   },
   {
    "duration": 18,
    "start_time": "2023-01-25T06:37:04.222Z"
   },
   {
    "duration": 620,
    "start_time": "2023-01-25T06:37:04.241Z"
   },
   {
    "duration": 3,
    "start_time": "2023-01-25T06:37:04.862Z"
   },
   {
    "duration": 13,
    "start_time": "2023-01-25T06:37:04.867Z"
   },
   {
    "duration": 49,
    "start_time": "2023-01-25T06:37:04.881Z"
   },
   {
    "duration": 87,
    "start_time": "2023-01-25T06:37:04.932Z"
   },
   {
    "duration": 26,
    "start_time": "2023-01-25T06:37:05.021Z"
   },
   {
    "duration": 24,
    "start_time": "2023-01-25T06:37:05.049Z"
   },
   {
    "duration": 75,
    "start_time": "2023-01-25T06:37:05.076Z"
   },
   {
    "duration": 2030,
    "start_time": "2023-01-25T07:10:31.912Z"
   },
   {
    "duration": 392,
    "start_time": "2023-01-25T07:10:33.945Z"
   },
   {
    "duration": 15,
    "start_time": "2023-01-25T07:10:34.338Z"
   },
   {
    "duration": 21,
    "start_time": "2023-01-25T07:10:34.355Z"
   },
   {
    "duration": 10,
    "start_time": "2023-01-25T07:10:34.385Z"
   },
   {
    "duration": 42,
    "start_time": "2023-01-25T07:10:34.397Z"
   },
   {
    "duration": 13,
    "start_time": "2023-01-25T07:10:34.441Z"
   },
   {
    "duration": 28,
    "start_time": "2023-01-25T07:10:34.456Z"
   },
   {
    "duration": 10,
    "start_time": "2023-01-25T07:10:34.486Z"
   },
   {
    "duration": 40,
    "start_time": "2023-01-25T07:10:34.499Z"
   },
   {
    "duration": 56,
    "start_time": "2023-01-25T07:10:34.541Z"
   },
   {
    "duration": 36,
    "start_time": "2023-01-25T07:10:34.599Z"
   },
   {
    "duration": 89,
    "start_time": "2023-01-25T07:10:34.637Z"
   },
   {
    "duration": 88,
    "start_time": "2023-01-25T07:10:34.728Z"
   },
   {
    "duration": 88,
    "start_time": "2023-01-25T07:10:34.817Z"
   },
   {
    "duration": 4,
    "start_time": "2023-01-25T07:10:34.907Z"
   },
   {
    "duration": 15,
    "start_time": "2023-01-25T07:10:34.913Z"
   },
   {
    "duration": 30,
    "start_time": "2023-01-25T07:10:34.929Z"
   },
   {
    "duration": 12,
    "start_time": "2023-01-25T07:10:34.961Z"
   },
   {
    "duration": 23,
    "start_time": "2023-01-25T07:10:34.975Z"
   },
   {
    "duration": 18,
    "start_time": "2023-01-25T07:10:35.000Z"
   },
   {
    "duration": 28,
    "start_time": "2023-01-25T07:10:35.020Z"
   },
   {
    "duration": 9,
    "start_time": "2023-01-25T07:10:35.050Z"
   },
   {
    "duration": 31,
    "start_time": "2023-01-25T07:10:35.060Z"
   },
   {
    "duration": 198,
    "start_time": "2023-01-25T07:10:35.094Z"
   },
   {
    "duration": 23,
    "start_time": "2023-01-25T07:10:35.295Z"
   },
   {
    "duration": 178,
    "start_time": "2023-01-25T07:10:35.320Z"
   },
   {
    "duration": 17,
    "start_time": "2023-01-25T07:10:35.505Z"
   },
   {
    "duration": 16,
    "start_time": "2023-01-25T07:10:35.524Z"
   },
   {
    "duration": 46,
    "start_time": "2023-01-25T07:10:35.542Z"
   },
   {
    "duration": 101,
    "start_time": "2023-01-25T07:10:35.592Z"
   },
   {
    "duration": 101,
    "start_time": "2023-01-25T07:10:35.697Z"
   },
   {
    "duration": 14,
    "start_time": "2023-01-25T07:10:35.885Z"
   },
   {
    "duration": 83,
    "start_time": "2023-01-25T07:10:35.902Z"
   },
   {
    "duration": 18,
    "start_time": "2023-01-25T07:10:35.987Z"
   },
   {
    "duration": 77,
    "start_time": "2023-01-25T07:10:36.008Z"
   },
   {
    "duration": 109,
    "start_time": "2023-01-25T07:10:36.088Z"
   },
   {
    "duration": 16,
    "start_time": "2023-01-25T07:10:36.199Z"
   },
   {
    "duration": 74,
    "start_time": "2023-01-25T07:10:36.218Z"
   },
   {
    "duration": 7,
    "start_time": "2023-01-25T07:10:36.385Z"
   },
   {
    "duration": 6,
    "start_time": "2023-01-25T07:10:36.394Z"
   },
   {
    "duration": 9,
    "start_time": "2023-01-25T07:10:36.402Z"
   },
   {
    "duration": 5,
    "start_time": "2023-01-25T07:10:36.413Z"
   },
   {
    "duration": 9,
    "start_time": "2023-01-25T07:10:36.420Z"
   },
   {
    "duration": 7,
    "start_time": "2023-01-25T07:10:36.430Z"
   },
   {
    "duration": 13,
    "start_time": "2023-01-25T07:10:36.439Z"
   },
   {
    "duration": 14,
    "start_time": "2023-01-25T07:10:36.453Z"
   },
   {
    "duration": 5,
    "start_time": "2023-01-25T07:10:36.485Z"
   },
   {
    "duration": 7,
    "start_time": "2023-01-25T07:10:36.492Z"
   },
   {
    "duration": 564,
    "start_time": "2023-01-25T07:10:36.500Z"
   },
   {
    "duration": 4,
    "start_time": "2023-01-25T07:10:37.066Z"
   },
   {
    "duration": 15,
    "start_time": "2023-01-25T07:10:37.071Z"
   },
   {
    "duration": 13,
    "start_time": "2023-01-25T07:10:37.088Z"
   },
   {
    "duration": 11,
    "start_time": "2023-01-25T07:10:37.102Z"
   },
   {
    "duration": 12,
    "start_time": "2023-01-25T07:10:37.116Z"
   },
   {
    "duration": 9,
    "start_time": "2023-01-25T07:10:37.130Z"
   },
   {
    "duration": 518,
    "start_time": "2023-01-25T07:10:37.141Z"
   },
   {
    "duration": 3,
    "start_time": "2023-01-25T07:10:37.661Z"
   },
   {
    "duration": 45,
    "start_time": "2023-01-25T07:10:37.666Z"
   },
   {
    "duration": 17,
    "start_time": "2023-01-25T07:10:37.712Z"
   },
   {
    "duration": 38,
    "start_time": "2023-01-25T07:10:37.731Z"
   },
   {
    "duration": 24,
    "start_time": "2023-01-25T07:10:37.771Z"
   },
   {
    "duration": 15,
    "start_time": "2023-01-25T07:10:37.797Z"
   },
   {
    "duration": 555,
    "start_time": "2023-01-25T07:10:37.814Z"
   },
   {
    "duration": 3,
    "start_time": "2023-01-25T07:10:38.371Z"
   },
   {
    "duration": 42,
    "start_time": "2023-01-25T07:10:38.376Z"
   },
   {
    "duration": 18,
    "start_time": "2023-01-25T07:10:38.420Z"
   },
   {
    "duration": 22,
    "start_time": "2023-01-25T07:10:38.440Z"
   },
   {
    "duration": 27,
    "start_time": "2023-01-25T07:10:38.463Z"
   },
   {
    "duration": 25,
    "start_time": "2023-01-25T07:10:38.492Z"
   },
   {
    "duration": 24,
    "start_time": "2023-01-25T07:10:38.519Z"
   },
   {
    "duration": 2232,
    "start_time": "2023-01-25T07:17:46.155Z"
   },
   {
    "duration": 413,
    "start_time": "2023-01-25T07:17:48.390Z"
   },
   {
    "duration": 15,
    "start_time": "2023-01-25T07:17:48.804Z"
   },
   {
    "duration": 10,
    "start_time": "2023-01-25T07:17:48.821Z"
   },
   {
    "duration": 14,
    "start_time": "2023-01-25T07:17:48.833Z"
   },
   {
    "duration": 63,
    "start_time": "2023-01-25T07:17:48.849Z"
   },
   {
    "duration": 15,
    "start_time": "2023-01-25T07:17:48.914Z"
   },
   {
    "duration": 13,
    "start_time": "2023-01-25T07:17:48.931Z"
   },
   {
    "duration": 9,
    "start_time": "2023-01-25T07:17:48.946Z"
   },
   {
    "duration": 32,
    "start_time": "2023-01-25T07:17:48.958Z"
   },
   {
    "duration": 40,
    "start_time": "2023-01-25T07:17:48.992Z"
   },
   {
    "duration": 63,
    "start_time": "2023-01-25T07:17:49.034Z"
   },
   {
    "duration": 40,
    "start_time": "2023-01-25T07:17:49.099Z"
   },
   {
    "duration": 86,
    "start_time": "2023-01-25T07:17:49.142Z"
   },
   {
    "duration": 78,
    "start_time": "2023-01-25T07:17:49.230Z"
   },
   {
    "duration": 94,
    "start_time": "2023-01-25T07:17:49.310Z"
   },
   {
    "duration": 6,
    "start_time": "2023-01-25T07:17:49.406Z"
   },
   {
    "duration": 8,
    "start_time": "2023-01-25T07:17:49.415Z"
   },
   {
    "duration": 14,
    "start_time": "2023-01-25T07:17:49.426Z"
   },
   {
    "duration": 6,
    "start_time": "2023-01-25T07:17:49.441Z"
   },
   {
    "duration": 19,
    "start_time": "2023-01-25T07:17:49.449Z"
   },
   {
    "duration": 16,
    "start_time": "2023-01-25T07:17:49.470Z"
   },
   {
    "duration": 19,
    "start_time": "2023-01-25T07:17:49.488Z"
   },
   {
    "duration": 10,
    "start_time": "2023-01-25T07:17:49.509Z"
   },
   {
    "duration": 77,
    "start_time": "2023-01-25T07:17:49.521Z"
   },
   {
    "duration": 89,
    "start_time": "2023-01-25T07:17:49.601Z"
   },
   {
    "duration": 102,
    "start_time": "2023-01-25T07:17:49.692Z"
   },
   {
    "duration": 107,
    "start_time": "2023-01-25T07:17:49.805Z"
   },
   {
    "duration": 8,
    "start_time": "2023-01-25T07:17:49.917Z"
   },
   {
    "duration": 27,
    "start_time": "2023-01-25T07:17:49.927Z"
   },
   {
    "duration": 28,
    "start_time": "2023-01-25T07:17:49.957Z"
   },
   {
    "duration": 104,
    "start_time": "2023-01-25T07:17:49.988Z"
   },
   {
    "duration": 93,
    "start_time": "2023-01-25T07:17:50.094Z"
   },
   {
    "duration": 99,
    "start_time": "2023-01-25T07:17:50.190Z"
   },
   {
    "duration": 4,
    "start_time": "2023-01-25T07:17:50.292Z"
   },
   {
    "duration": 22,
    "start_time": "2023-01-25T07:17:50.298Z"
   },
   {
    "duration": 16,
    "start_time": "2023-01-25T07:17:50.322Z"
   },
   {
    "duration": 93,
    "start_time": "2023-01-25T07:17:50.393Z"
   },
   {
    "duration": 15,
    "start_time": "2023-01-25T07:17:50.488Z"
   },
   {
    "duration": 184,
    "start_time": "2023-01-25T07:17:50.505Z"
   },
   {
    "duration": 7,
    "start_time": "2023-01-25T07:17:50.691Z"
   },
   {
    "duration": 14,
    "start_time": "2023-01-25T07:17:50.700Z"
   },
   {
    "duration": 11,
    "start_time": "2023-01-25T07:17:50.716Z"
   },
   {
    "duration": 7,
    "start_time": "2023-01-25T07:17:50.729Z"
   },
   {
    "duration": 10,
    "start_time": "2023-01-25T07:17:50.738Z"
   },
   {
    "duration": 6,
    "start_time": "2023-01-25T07:17:50.750Z"
   },
   {
    "duration": 22,
    "start_time": "2023-01-25T07:17:50.758Z"
   },
   {
    "duration": 14,
    "start_time": "2023-01-25T07:17:50.782Z"
   },
   {
    "duration": 22,
    "start_time": "2023-01-25T07:17:50.798Z"
   },
   {
    "duration": 15,
    "start_time": "2023-01-25T07:17:50.823Z"
   },
   {
    "duration": 571,
    "start_time": "2023-01-25T07:17:50.840Z"
   },
   {
    "duration": 3,
    "start_time": "2023-01-25T07:17:51.413Z"
   },
   {
    "duration": 11,
    "start_time": "2023-01-25T07:17:51.418Z"
   },
   {
    "duration": 11,
    "start_time": "2023-01-25T07:17:51.430Z"
   },
   {
    "duration": 10,
    "start_time": "2023-01-25T07:17:51.443Z"
   },
   {
    "duration": 15,
    "start_time": "2023-01-25T07:17:51.454Z"
   },
   {
    "duration": 16,
    "start_time": "2023-01-25T07:17:51.470Z"
   },
   {
    "duration": 576,
    "start_time": "2023-01-25T07:17:51.488Z"
   },
   {
    "duration": 4,
    "start_time": "2023-01-25T07:17:52.067Z"
   },
   {
    "duration": 22,
    "start_time": "2023-01-25T07:17:52.084Z"
   },
   {
    "duration": 12,
    "start_time": "2023-01-25T07:17:52.108Z"
   },
   {
    "duration": 20,
    "start_time": "2023-01-25T07:17:52.123Z"
   },
   {
    "duration": 8,
    "start_time": "2023-01-25T07:17:52.145Z"
   },
   {
    "duration": 16,
    "start_time": "2023-01-25T07:17:52.154Z"
   },
   {
    "duration": 590,
    "start_time": "2023-01-25T07:17:52.172Z"
   },
   {
    "duration": 3,
    "start_time": "2023-01-25T07:17:52.764Z"
   },
   {
    "duration": 41,
    "start_time": "2023-01-25T07:17:52.769Z"
   },
   {
    "duration": 26,
    "start_time": "2023-01-25T07:17:52.811Z"
   },
   {
    "duration": 22,
    "start_time": "2023-01-25T07:17:52.840Z"
   },
   {
    "duration": 22,
    "start_time": "2023-01-25T07:17:52.864Z"
   },
   {
    "duration": 26,
    "start_time": "2023-01-25T07:17:52.889Z"
   },
   {
    "duration": 63,
    "start_time": "2023-01-25T07:17:52.917Z"
   },
   {
    "duration": 11,
    "start_time": "2023-01-25T07:29:50.325Z"
   },
   {
    "duration": 8,
    "start_time": "2023-01-25T07:41:27.591Z"
   },
   {
    "duration": 8,
    "start_time": "2023-01-25T07:42:16.700Z"
   },
   {
    "duration": 7,
    "start_time": "2023-01-25T07:43:34.794Z"
   },
   {
    "duration": 44,
    "start_time": "2023-01-25T12:11:26.037Z"
   },
   {
    "duration": 1523,
    "start_time": "2023-01-25T12:11:32.024Z"
   },
   {
    "duration": 1525,
    "start_time": "2023-01-25T12:11:33.550Z"
   },
   {
    "duration": 13,
    "start_time": "2023-01-25T12:11:35.076Z"
   },
   {
    "duration": 20,
    "start_time": "2023-01-25T12:11:35.091Z"
   },
   {
    "duration": 19,
    "start_time": "2023-01-25T12:11:35.112Z"
   },
   {
    "duration": 35,
    "start_time": "2023-01-25T12:11:35.133Z"
   },
   {
    "duration": 12,
    "start_time": "2023-01-25T12:11:35.169Z"
   },
   {
    "duration": 23,
    "start_time": "2023-01-25T12:11:35.183Z"
   },
   {
    "duration": 21,
    "start_time": "2023-01-25T12:11:35.208Z"
   },
   {
    "duration": 29,
    "start_time": "2023-01-25T12:11:35.232Z"
   },
   {
    "duration": 35,
    "start_time": "2023-01-25T12:11:35.262Z"
   },
   {
    "duration": 34,
    "start_time": "2023-01-25T12:11:35.299Z"
   },
   {
    "duration": 36,
    "start_time": "2023-01-25T12:11:35.335Z"
   },
   {
    "duration": 74,
    "start_time": "2023-01-25T12:11:35.373Z"
   },
   {
    "duration": 58,
    "start_time": "2023-01-25T12:11:35.449Z"
   },
   {
    "duration": 88,
    "start_time": "2023-01-25T12:11:35.509Z"
   },
   {
    "duration": 5,
    "start_time": "2023-01-25T12:11:35.598Z"
   },
   {
    "duration": 31,
    "start_time": "2023-01-25T12:11:35.604Z"
   },
   {
    "duration": 14,
    "start_time": "2023-01-25T12:11:35.637Z"
   },
   {
    "duration": 7,
    "start_time": "2023-01-25T12:11:35.652Z"
   },
   {
    "duration": 17,
    "start_time": "2023-01-25T12:11:35.661Z"
   },
   {
    "duration": 13,
    "start_time": "2023-01-25T12:11:35.681Z"
   },
   {
    "duration": 31,
    "start_time": "2023-01-25T12:11:35.696Z"
   },
   {
    "duration": 21,
    "start_time": "2023-01-25T12:11:35.728Z"
   },
   {
    "duration": 194,
    "start_time": "2023-01-25T12:11:35.750Z"
   },
   {
    "duration": 16,
    "start_time": "2023-01-25T12:11:35.946Z"
   },
   {
    "duration": 80,
    "start_time": "2023-01-25T12:11:35.964Z"
   },
   {
    "duration": 105,
    "start_time": "2023-01-25T12:11:36.052Z"
   },
   {
    "duration": 6,
    "start_time": "2023-01-25T12:11:36.158Z"
   },
   {
    "duration": 21,
    "start_time": "2023-01-25T12:11:36.166Z"
   },
   {
    "duration": 14,
    "start_time": "2023-01-25T12:11:36.189Z"
   },
   {
    "duration": 168,
    "start_time": "2023-01-25T12:11:36.205Z"
   },
   {
    "duration": 42,
    "start_time": "2023-01-25T12:11:36.375Z"
   },
   {
    "duration": 115,
    "start_time": "2023-01-25T12:11:36.443Z"
   },
   {
    "duration": 15,
    "start_time": "2023-01-25T12:11:36.560Z"
   },
   {
    "duration": 32,
    "start_time": "2023-01-25T12:11:36.577Z"
   },
   {
    "duration": 19,
    "start_time": "2023-01-25T12:11:36.610Z"
   },
   {
    "duration": 112,
    "start_time": "2023-01-25T12:11:36.632Z"
   },
   {
    "duration": 100,
    "start_time": "2023-01-25T12:11:36.752Z"
   },
   {
    "duration": 6,
    "start_time": "2023-01-25T12:11:36.944Z"
   },
   {
    "duration": 10,
    "start_time": "2023-01-25T12:11:36.952Z"
   },
   {
    "duration": 81,
    "start_time": "2023-01-25T12:11:36.964Z"
   },
   {
    "duration": 10,
    "start_time": "2023-01-25T12:11:37.046Z"
   },
   {
    "duration": 5,
    "start_time": "2023-01-25T12:11:37.058Z"
   },
   {
    "duration": 5,
    "start_time": "2023-01-25T12:11:37.065Z"
   },
   {
    "duration": 5,
    "start_time": "2023-01-25T12:11:37.072Z"
   },
   {
    "duration": 10,
    "start_time": "2023-01-25T12:11:37.078Z"
   },
   {
    "duration": 7,
    "start_time": "2023-01-25T12:11:37.090Z"
   },
   {
    "duration": 6,
    "start_time": "2023-01-25T12:11:37.098Z"
   },
   {
    "duration": 4,
    "start_time": "2023-01-25T12:11:37.106Z"
   },
   {
    "duration": 534,
    "start_time": "2023-01-25T12:11:37.111Z"
   },
   {
    "duration": 3,
    "start_time": "2023-01-25T12:11:37.646Z"
   },
   {
    "duration": 7,
    "start_time": "2023-01-25T12:11:37.652Z"
   },
   {
    "duration": 6,
    "start_time": "2023-01-25T12:11:37.661Z"
   },
   {
    "duration": 7,
    "start_time": "2023-01-25T12:11:37.668Z"
   },
   {
    "duration": 8,
    "start_time": "2023-01-25T12:11:37.677Z"
   },
   {
    "duration": 9,
    "start_time": "2023-01-25T12:11:37.686Z"
   },
   {
    "duration": 461,
    "start_time": "2023-01-25T12:11:37.696Z"
   },
   {
    "duration": 3,
    "start_time": "2023-01-25T12:11:38.158Z"
   },
   {
    "duration": 9,
    "start_time": "2023-01-25T12:11:38.162Z"
   },
   {
    "duration": 11,
    "start_time": "2023-01-25T12:11:38.172Z"
   },
   {
    "duration": 9,
    "start_time": "2023-01-25T12:11:38.184Z"
   },
   {
    "duration": 6,
    "start_time": "2023-01-25T12:11:38.194Z"
   },
   {
    "duration": 9,
    "start_time": "2023-01-25T12:11:38.201Z"
   },
   {
    "duration": 435,
    "start_time": "2023-01-25T12:11:38.212Z"
   },
   {
    "duration": 3,
    "start_time": "2023-01-25T12:11:38.649Z"
   },
   {
    "duration": 17,
    "start_time": "2023-01-25T12:11:38.653Z"
   },
   {
    "duration": 7,
    "start_time": "2023-01-25T12:11:38.671Z"
   },
   {
    "duration": 5,
    "start_time": "2023-01-25T12:11:38.680Z"
   },
   {
    "duration": 7,
    "start_time": "2023-01-25T12:11:38.687Z"
   },
   {
    "duration": 12,
    "start_time": "2023-01-25T12:11:38.695Z"
   },
   {
    "duration": 18,
    "start_time": "2023-01-25T12:11:38.708Z"
   },
   {
    "duration": 49,
    "start_time": "2023-01-28T05:54:45.172Z"
   },
   {
    "duration": 1629,
    "start_time": "2023-01-28T05:54:50.319Z"
   },
   {
    "duration": 919,
    "start_time": "2023-01-28T05:54:51.950Z"
   },
   {
    "duration": 14,
    "start_time": "2023-01-28T05:54:52.871Z"
   },
   {
    "duration": 14,
    "start_time": "2023-01-28T05:54:52.887Z"
   },
   {
    "duration": 24,
    "start_time": "2023-01-28T05:54:52.903Z"
   },
   {
    "duration": 49,
    "start_time": "2023-01-28T05:54:53.925Z"
   },
   {
    "duration": 27,
    "start_time": "2023-01-28T05:54:56.275Z"
   },
   {
    "duration": 15,
    "start_time": "2023-01-28T05:55:00.594Z"
   },
   {
    "duration": 26,
    "start_time": "2023-01-28T05:55:42.788Z"
   },
   {
    "duration": 22,
    "start_time": "2023-01-28T05:56:41.421Z"
   },
   {
    "duration": 20,
    "start_time": "2023-01-28T06:00:59.622Z"
   },
   {
    "duration": 33,
    "start_time": "2023-01-28T06:01:10.655Z"
   },
   {
    "duration": 10,
    "start_time": "2023-01-28T06:01:17.497Z"
   },
   {
    "duration": 84,
    "start_time": "2023-01-28T06:01:58.143Z"
   },
   {
    "duration": 15,
    "start_time": "2023-01-28T06:02:04.807Z"
   },
   {
    "duration": 421,
    "start_time": "2023-01-28T06:02:12.377Z"
   },
   {
    "duration": 27,
    "start_time": "2023-01-28T06:02:20.425Z"
   },
   {
    "duration": 12,
    "start_time": "2023-01-28T06:03:25.530Z"
   },
   {
    "duration": 13,
    "start_time": "2023-01-28T06:03:32.852Z"
   },
   {
    "duration": 12,
    "start_time": "2023-01-28T06:03:37.862Z"
   },
   {
    "duration": 17,
    "start_time": "2023-01-28T06:03:44.262Z"
   },
   {
    "duration": 46,
    "start_time": "2023-01-28T06:03:58.258Z"
   },
   {
    "duration": 51,
    "start_time": "2023-01-28T06:06:21.151Z"
   },
   {
    "duration": 44,
    "start_time": "2023-01-28T06:06:24.761Z"
   },
   {
    "duration": 34,
    "start_time": "2023-01-28T06:06:31.653Z"
   },
   {
    "duration": 18,
    "start_time": "2023-01-28T06:06:39.446Z"
   },
   {
    "duration": 34,
    "start_time": "2023-01-28T06:11:34.340Z"
   },
   {
    "duration": 40,
    "start_time": "2023-01-28T06:12:49.671Z"
   },
   {
    "duration": 23,
    "start_time": "2023-01-28T06:12:54.116Z"
   },
   {
    "duration": 10,
    "start_time": "2023-01-28T06:13:10.081Z"
   },
   {
    "duration": 14,
    "start_time": "2023-01-28T06:13:21.561Z"
   },
   {
    "duration": 21,
    "start_time": "2023-01-28T06:14:07.094Z"
   },
   {
    "duration": 28,
    "start_time": "2023-01-28T06:14:23.511Z"
   },
   {
    "duration": 28,
    "start_time": "2023-01-28T06:14:54.498Z"
   },
   {
    "duration": 14,
    "start_time": "2023-01-28T06:15:06.426Z"
   },
   {
    "duration": 20,
    "start_time": "2023-01-28T06:15:58.197Z"
   },
   {
    "duration": 27,
    "start_time": "2023-01-28T06:16:10.596Z"
   },
   {
    "duration": 16,
    "start_time": "2023-01-28T06:16:23.180Z"
   },
   {
    "duration": 4,
    "start_time": "2023-01-28T06:18:40.162Z"
   },
   {
    "duration": 397,
    "start_time": "2023-01-28T06:18:40.381Z"
   },
   {
    "duration": 10,
    "start_time": "2023-01-28T06:18:40.933Z"
   },
   {
    "duration": 13,
    "start_time": "2023-01-28T06:18:41.823Z"
   },
   {
    "duration": 12,
    "start_time": "2023-01-28T06:18:42.090Z"
   },
   {
    "duration": 39,
    "start_time": "2023-01-28T06:18:42.423Z"
   },
   {
    "duration": 20,
    "start_time": "2023-01-28T06:18:43.396Z"
   },
   {
    "duration": 29,
    "start_time": "2023-01-28T06:18:43.731Z"
   },
   {
    "duration": 35,
    "start_time": "2023-01-28T06:18:44.491Z"
   },
   {
    "duration": 16,
    "start_time": "2023-01-28T06:18:44.795Z"
   },
   {
    "duration": 23,
    "start_time": "2023-01-28T06:18:45.395Z"
   },
   {
    "duration": 29,
    "start_time": "2023-01-28T06:18:45.740Z"
   },
   {
    "duration": 17,
    "start_time": "2023-01-28T06:18:46.068Z"
   },
   {
    "duration": 29,
    "start_time": "2023-01-28T06:18:46.713Z"
   },
   {
    "duration": 29,
    "start_time": "2023-01-28T06:18:47.001Z"
   },
   {
    "duration": 21,
    "start_time": "2023-01-28T06:18:47.390Z"
   },
   {
    "duration": 13,
    "start_time": "2023-01-28T06:18:48.227Z"
   },
   {
    "duration": 51,
    "start_time": "2023-01-28T06:18:49.038Z"
   },
   {
    "duration": 52,
    "start_time": "2023-01-28T06:18:49.623Z"
   },
   {
    "duration": 40,
    "start_time": "2023-01-28T06:18:50.582Z"
   },
   {
    "duration": 66,
    "start_time": "2023-01-28T06:18:51.630Z"
   },
   {
    "duration": 70,
    "start_time": "2023-01-28T06:18:52.854Z"
   },
   {
    "duration": 431,
    "start_time": "2023-01-28T06:20:44.259Z"
   },
   {
    "duration": 292,
    "start_time": "2023-01-28T06:20:51.738Z"
   },
   {
    "duration": 318,
    "start_time": "2023-01-28T06:21:45.284Z"
   },
   {
    "duration": 302,
    "start_time": "2023-01-28T06:22:50.934Z"
   },
   {
    "duration": 53,
    "start_time": "2023-01-28T06:25:35.468Z"
   },
   {
    "duration": 40,
    "start_time": "2023-01-28T06:25:39.587Z"
   },
   {
    "duration": 34,
    "start_time": "2023-01-28T06:25:47.708Z"
   },
   {
    "duration": 36,
    "start_time": "2023-01-28T06:25:53.340Z"
   },
   {
    "duration": 378,
    "start_time": "2023-01-28T06:29:39.137Z"
   },
   {
    "duration": 430,
    "start_time": "2023-01-28T06:30:02.542Z"
   },
   {
    "duration": 387,
    "start_time": "2023-01-28T06:30:23.420Z"
   },
   {
    "duration": 374,
    "start_time": "2023-01-28T06:31:07.604Z"
   },
   {
    "duration": 358,
    "start_time": "2023-01-28T06:31:28.305Z"
   },
   {
    "duration": 371,
    "start_time": "2023-01-28T06:32:09.441Z"
   },
   {
    "duration": 408,
    "start_time": "2023-01-28T06:32:33.197Z"
   },
   {
    "duration": 4,
    "start_time": "2023-01-28T06:39:13.632Z"
   },
   {
    "duration": 3,
    "start_time": "2023-01-28T06:39:13.776Z"
   },
   {
    "duration": 375,
    "start_time": "2023-01-28T06:39:14.110Z"
   },
   {
    "duration": 10,
    "start_time": "2023-01-28T06:39:14.493Z"
   },
   {
    "duration": 9,
    "start_time": "2023-01-28T06:39:14.701Z"
   },
   {
    "duration": 11,
    "start_time": "2023-01-28T06:39:14.947Z"
   },
   {
    "duration": 37,
    "start_time": "2023-01-28T06:39:15.165Z"
   },
   {
    "duration": 46,
    "start_time": "2023-01-28T06:39:15.632Z"
   },
   {
    "duration": 46,
    "start_time": "2023-01-28T06:39:15.871Z"
   },
   {
    "duration": 48,
    "start_time": "2023-01-28T06:39:16.093Z"
   },
   {
    "duration": 23,
    "start_time": "2023-01-28T06:39:16.541Z"
   },
   {
    "duration": 31,
    "start_time": "2023-01-28T06:39:16.735Z"
   },
   {
    "duration": 27,
    "start_time": "2023-01-28T06:39:17.181Z"
   },
   {
    "duration": 19,
    "start_time": "2023-01-28T06:39:17.433Z"
   },
   {
    "duration": 19,
    "start_time": "2023-01-28T06:39:17.904Z"
   },
   {
    "duration": 29,
    "start_time": "2023-01-28T06:39:18.118Z"
   },
   {
    "duration": 31,
    "start_time": "2023-01-28T06:39:18.348Z"
   },
   {
    "duration": 28,
    "start_time": "2023-01-28T06:39:18.837Z"
   },
   {
    "duration": 33,
    "start_time": "2023-01-28T06:39:19.047Z"
   },
   {
    "duration": 16,
    "start_time": "2023-01-28T06:39:19.285Z"
   },
   {
    "duration": 22,
    "start_time": "2023-01-28T06:39:19.844Z"
   },
   {
    "duration": 43,
    "start_time": "2023-01-28T06:39:20.348Z"
   },
   {
    "duration": 35,
    "start_time": "2023-01-28T06:39:20.580Z"
   },
   {
    "duration": 40,
    "start_time": "2023-01-28T06:39:20.844Z"
   },
   {
    "duration": 65,
    "start_time": "2023-01-28T06:39:21.282Z"
   },
   {
    "duration": 364,
    "start_time": "2023-01-28T06:39:21.511Z"
   },
   {
    "duration": 66,
    "start_time": "2023-01-28T06:39:21.877Z"
   },
   {
    "duration": 479,
    "start_time": "2023-01-28T06:39:22.299Z"
   },
   {
    "duration": 71,
    "start_time": "2023-01-28T06:39:23.345Z"
   },
   {
    "duration": 357,
    "start_time": "2023-01-28T06:39:23.851Z"
   },
   {
    "duration": 365,
    "start_time": "2023-01-28T06:39:25.800Z"
   },
   {
    "duration": 358,
    "start_time": "2023-01-28T06:39:26.675Z"
   },
   {
    "duration": 340,
    "start_time": "2023-01-28T06:39:27.953Z"
   },
   {
    "duration": 5,
    "start_time": "2023-01-28T06:39:31.507Z"
   },
   {
    "duration": 8,
    "start_time": "2023-01-28T06:39:32.785Z"
   },
   {
    "duration": 4,
    "start_time": "2023-01-28T06:39:35.179Z"
   },
   {
    "duration": 3,
    "start_time": "2023-01-28T06:40:22.845Z"
   },
   {
    "duration": 27,
    "start_time": "2023-01-28T06:41:24.346Z"
   },
   {
    "duration": 15,
    "start_time": "2023-01-28T06:47:02.570Z"
   },
   {
    "duration": 27,
    "start_time": "2023-01-28T06:47:09.566Z"
   },
   {
    "duration": 14,
    "start_time": "2023-01-28T06:47:17.645Z"
   },
   {
    "duration": 4,
    "start_time": "2023-01-28T06:47:36.049Z"
   },
   {
    "duration": 3,
    "start_time": "2023-01-28T07:22:19.035Z"
   },
   {
    "duration": 8,
    "start_time": "2023-01-28T07:24:42.123Z"
   },
   {
    "duration": 7,
    "start_time": "2023-01-28T07:26:18.728Z"
   },
   {
    "duration": 11,
    "start_time": "2023-01-28T07:26:30.385Z"
   },
   {
    "duration": 20,
    "start_time": "2023-01-28T07:27:06.643Z"
   },
   {
    "duration": 7,
    "start_time": "2023-01-28T07:27:23.439Z"
   },
   {
    "duration": 8,
    "start_time": "2023-01-28T07:27:31.085Z"
   },
   {
    "duration": 6,
    "start_time": "2023-01-28T07:28:17.073Z"
   },
   {
    "duration": 12,
    "start_time": "2023-01-28T07:31:19.474Z"
   },
   {
    "duration": 4,
    "start_time": "2023-01-28T07:31:20.779Z"
   },
   {
    "duration": 3,
    "start_time": "2023-01-28T07:31:33.580Z"
   },
   {
    "duration": 16,
    "start_time": "2023-01-28T07:31:37.484Z"
   },
   {
    "duration": 9,
    "start_time": "2023-01-28T07:32:15.833Z"
   },
   {
    "duration": 31,
    "start_time": "2023-01-28T07:32:34.351Z"
   },
   {
    "duration": 9,
    "start_time": "2023-01-28T07:32:39.671Z"
   },
   {
    "duration": 10,
    "start_time": "2023-01-28T07:32:52.384Z"
   },
   {
    "duration": 10,
    "start_time": "2023-01-28T07:32:59.323Z"
   },
   {
    "duration": 5,
    "start_time": "2023-01-28T07:33:03.101Z"
   },
   {
    "duration": 9,
    "start_time": "2023-01-28T07:33:11.202Z"
   },
   {
    "duration": 6,
    "start_time": "2023-01-28T07:33:27.340Z"
   },
   {
    "duration": 12,
    "start_time": "2023-01-28T07:37:07.436Z"
   },
   {
    "duration": 3,
    "start_time": "2023-01-28T07:37:08.938Z"
   },
   {
    "duration": 11,
    "start_time": "2023-01-28T07:38:12.538Z"
   },
   {
    "duration": 12,
    "start_time": "2023-01-28T07:38:17.789Z"
   },
   {
    "duration": 13,
    "start_time": "2023-01-28T07:38:25.155Z"
   },
   {
    "duration": 9,
    "start_time": "2023-01-28T07:38:31.692Z"
   },
   {
    "duration": 5,
    "start_time": "2023-01-28T07:38:50.378Z"
   },
   {
    "duration": 3,
    "start_time": "2023-01-28T07:43:49.478Z"
   },
   {
    "duration": 3,
    "start_time": "2023-01-28T07:44:44.988Z"
   },
   {
    "duration": 20,
    "start_time": "2023-01-28T07:45:10.491Z"
   },
   {
    "duration": 4,
    "start_time": "2023-01-28T07:48:11.803Z"
   },
   {
    "duration": 216,
    "start_time": "2023-01-28T07:48:18.342Z"
   },
   {
    "duration": 19,
    "start_time": "2023-01-28T07:48:29.447Z"
   },
   {
    "duration": 4,
    "start_time": "2023-01-28T07:48:41.879Z"
   },
   {
    "duration": 3,
    "start_time": "2023-01-28T07:48:42.222Z"
   },
   {
    "duration": 427,
    "start_time": "2023-01-28T07:48:42.835Z"
   },
   {
    "duration": 9,
    "start_time": "2023-01-28T07:48:43.743Z"
   },
   {
    "duration": 8,
    "start_time": "2023-01-28T07:48:44.231Z"
   },
   {
    "duration": 9,
    "start_time": "2023-01-28T07:48:44.743Z"
   },
   {
    "duration": 46,
    "start_time": "2023-01-28T07:48:45.230Z"
   },
   {
    "duration": 44,
    "start_time": "2023-01-28T07:48:46.179Z"
   },
   {
    "duration": 36,
    "start_time": "2023-01-28T07:48:46.682Z"
   },
   {
    "duration": 51,
    "start_time": "2023-01-28T07:48:46.931Z"
   },
   {
    "duration": 33,
    "start_time": "2023-01-28T07:48:47.452Z"
   },
   {
    "duration": 21,
    "start_time": "2023-01-28T07:48:47.706Z"
   },
   {
    "duration": 25,
    "start_time": "2023-01-28T07:48:48.274Z"
   },
   {
    "duration": 14,
    "start_time": "2023-01-28T07:48:48.536Z"
   },
   {
    "duration": 35,
    "start_time": "2023-01-28T07:48:49.043Z"
   },
   {
    "duration": 27,
    "start_time": "2023-01-28T07:48:49.281Z"
   },
   {
    "duration": 17,
    "start_time": "2023-01-28T07:48:49.546Z"
   },
   {
    "duration": 28,
    "start_time": "2023-01-28T07:48:50.035Z"
   },
   {
    "duration": 34,
    "start_time": "2023-01-28T07:48:50.268Z"
   },
   {
    "duration": 28,
    "start_time": "2023-01-28T07:48:50.549Z"
   },
   {
    "duration": 11,
    "start_time": "2023-01-28T07:48:51.068Z"
   },
   {
    "duration": 39,
    "start_time": "2023-01-28T07:48:51.562Z"
   },
   {
    "duration": 46,
    "start_time": "2023-01-28T07:48:51.835Z"
   },
   {
    "duration": 33,
    "start_time": "2023-01-28T07:48:52.078Z"
   },
   {
    "duration": 72,
    "start_time": "2023-01-28T07:48:52.560Z"
   },
   {
    "duration": 342,
    "start_time": "2023-01-28T07:48:52.808Z"
   },
   {
    "duration": 69,
    "start_time": "2023-01-28T07:48:53.152Z"
   },
   {
    "duration": 295,
    "start_time": "2023-01-28T07:48:53.380Z"
   },
   {
    "duration": 68,
    "start_time": "2023-01-28T07:48:53.882Z"
   },
   {
    "duration": 333,
    "start_time": "2023-01-28T07:48:54.134Z"
   },
   {
    "duration": 476,
    "start_time": "2023-01-28T07:48:54.882Z"
   },
   {
    "duration": 372,
    "start_time": "2023-01-28T07:48:55.412Z"
   },
   {
    "duration": 360,
    "start_time": "2023-01-28T07:48:55.983Z"
   },
   {
    "duration": 5,
    "start_time": "2023-01-28T07:48:56.906Z"
   },
   {
    "duration": 5,
    "start_time": "2023-01-28T07:48:57.239Z"
   },
   {
    "duration": 5,
    "start_time": "2023-01-28T07:48:57.635Z"
   },
   {
    "duration": 12,
    "start_time": "2023-01-28T07:48:59.398Z"
   },
   {
    "duration": 3,
    "start_time": "2023-01-28T07:48:59.990Z"
   },
   {
    "duration": 10,
    "start_time": "2023-01-28T07:49:00.735Z"
   },
   {
    "duration": 12,
    "start_time": "2023-01-28T07:49:01.751Z"
   },
   {
    "duration": 5,
    "start_time": "2023-01-28T07:49:03.132Z"
   },
   {
    "duration": 121,
    "start_time": "2023-01-28T07:49:07.635Z"
   },
   {
    "duration": 11,
    "start_time": "2023-01-28T07:49:12.678Z"
   },
   {
    "duration": 11,
    "start_time": "2023-01-28T07:49:17.531Z"
   },
   {
    "duration": 10,
    "start_time": "2023-01-28T07:50:07.506Z"
   },
   {
    "duration": 4,
    "start_time": "2023-01-28T07:50:38.502Z"
   },
   {
    "duration": 13,
    "start_time": "2023-01-28T07:50:39.945Z"
   },
   {
    "duration": 109,
    "start_time": "2023-01-28T07:50:43.863Z"
   },
   {
    "duration": 92,
    "start_time": "2023-01-28T07:53:14.367Z"
   },
   {
    "duration": 4,
    "start_time": "2023-01-28T07:53:29.928Z"
   },
   {
    "duration": 19,
    "start_time": "2023-01-28T07:53:31.027Z"
   },
   {
    "duration": 4,
    "start_time": "2023-01-28T07:53:34.090Z"
   },
   {
    "duration": 4,
    "start_time": "2023-01-28T07:53:53.753Z"
   },
   {
    "duration": 4,
    "start_time": "2023-01-28T07:53:54.826Z"
   },
   {
    "duration": 4,
    "start_time": "2023-01-28T07:53:57.045Z"
   },
   {
    "duration": 5,
    "start_time": "2023-01-28T07:54:00.432Z"
   },
   {
    "duration": 89,
    "start_time": "2023-01-28T07:54:01.668Z"
   },
   {
    "duration": 4,
    "start_time": "2023-01-28T07:54:03.030Z"
   },
   {
    "duration": 42,
    "start_time": "2023-01-28T07:54:27.121Z"
   },
   {
    "duration": 4,
    "start_time": "2023-01-28T07:57:24.251Z"
   },
   {
    "duration": 3,
    "start_time": "2023-01-28T07:57:29.201Z"
   },
   {
    "duration": 60,
    "start_time": "2023-01-28T07:57:34.093Z"
   },
   {
    "duration": 8,
    "start_time": "2023-01-28T07:58:29.601Z"
   },
   {
    "duration": 12,
    "start_time": "2023-01-28T07:58:34.786Z"
   },
   {
    "duration": 1398,
    "start_time": "2023-01-28T07:58:43.030Z"
   },
   {
    "duration": 3,
    "start_time": "2023-01-28T07:58:44.430Z"
   },
   {
    "duration": 385,
    "start_time": "2023-01-28T07:58:44.434Z"
   },
   {
    "duration": 12,
    "start_time": "2023-01-28T07:58:44.821Z"
   },
   {
    "duration": 28,
    "start_time": "2023-01-28T07:58:44.835Z"
   },
   {
    "duration": 14,
    "start_time": "2023-01-28T07:58:44.865Z"
   },
   {
    "duration": 50,
    "start_time": "2023-01-28T07:58:44.880Z"
   },
   {
    "duration": 44,
    "start_time": "2023-01-28T07:58:44.932Z"
   },
   {
    "duration": 43,
    "start_time": "2023-01-28T07:58:44.977Z"
   },
   {
    "duration": 71,
    "start_time": "2023-01-28T07:58:45.024Z"
   },
   {
    "duration": 15,
    "start_time": "2023-01-28T07:58:45.096Z"
   },
   {
    "duration": 46,
    "start_time": "2023-01-28T07:58:45.113Z"
   },
   {
    "duration": 46,
    "start_time": "2023-01-28T07:58:45.161Z"
   },
   {
    "duration": 14,
    "start_time": "2023-01-28T07:58:45.209Z"
   },
   {
    "duration": 22,
    "start_time": "2023-01-28T07:58:45.224Z"
   },
   {
    "duration": 59,
    "start_time": "2023-01-28T07:58:45.247Z"
   },
   {
    "duration": 26,
    "start_time": "2023-01-28T07:58:45.308Z"
   },
   {
    "duration": 33,
    "start_time": "2023-01-28T07:58:45.335Z"
   },
   {
    "duration": 46,
    "start_time": "2023-01-28T07:58:45.370Z"
   },
   {
    "duration": 14,
    "start_time": "2023-01-28T07:58:45.418Z"
   },
   {
    "duration": 18,
    "start_time": "2023-01-28T07:58:45.434Z"
   },
   {
    "duration": 74,
    "start_time": "2023-01-28T07:58:45.454Z"
   },
   {
    "duration": 61,
    "start_time": "2023-01-28T07:58:45.530Z"
   },
   {
    "duration": 34,
    "start_time": "2023-01-28T07:58:45.593Z"
   },
   {
    "duration": 87,
    "start_time": "2023-01-28T07:58:45.630Z"
   },
   {
    "duration": 364,
    "start_time": "2023-01-28T07:58:45.718Z"
   },
   {
    "duration": 61,
    "start_time": "2023-01-28T07:58:46.084Z"
   },
   {
    "duration": 336,
    "start_time": "2023-01-28T07:58:46.158Z"
   },
   {
    "duration": 77,
    "start_time": "2023-01-28T07:58:46.495Z"
   },
   {
    "duration": 319,
    "start_time": "2023-01-28T07:58:46.574Z"
   },
   {
    "duration": 337,
    "start_time": "2023-01-28T07:58:46.895Z"
   },
   {
    "duration": 535,
    "start_time": "2023-01-28T07:58:47.234Z"
   },
   {
    "duration": 356,
    "start_time": "2023-01-28T07:58:47.770Z"
   },
   {
    "duration": 6,
    "start_time": "2023-01-28T07:58:48.128Z"
   },
   {
    "duration": 21,
    "start_time": "2023-01-28T07:58:48.135Z"
   },
   {
    "duration": 27,
    "start_time": "2023-01-28T07:58:48.158Z"
   },
   {
    "duration": 23,
    "start_time": "2023-01-28T07:58:48.187Z"
   },
   {
    "duration": 6,
    "start_time": "2023-01-28T07:58:48.211Z"
   },
   {
    "duration": 19,
    "start_time": "2023-01-28T07:58:48.219Z"
   },
   {
    "duration": 14,
    "start_time": "2023-01-28T07:58:48.239Z"
   },
   {
    "duration": 19,
    "start_time": "2023-01-28T07:58:48.259Z"
   },
   {
    "duration": 76,
    "start_time": "2023-01-28T07:58:48.280Z"
   },
   {
    "duration": 243,
    "start_time": "2023-01-28T07:58:48.360Z"
   },
   {
    "duration": 0,
    "start_time": "2023-01-28T07:58:48.605Z"
   },
   {
    "duration": 0,
    "start_time": "2023-01-28T07:58:48.606Z"
   },
   {
    "duration": 0,
    "start_time": "2023-01-28T07:58:48.608Z"
   },
   {
    "duration": 0,
    "start_time": "2023-01-28T07:58:48.610Z"
   },
   {
    "duration": 0,
    "start_time": "2023-01-28T07:58:48.611Z"
   },
   {
    "duration": 0,
    "start_time": "2023-01-28T07:58:48.612Z"
   },
   {
    "duration": 1,
    "start_time": "2023-01-28T07:58:48.613Z"
   },
   {
    "duration": 0,
    "start_time": "2023-01-28T07:58:48.615Z"
   },
   {
    "duration": 0,
    "start_time": "2023-01-28T07:58:48.616Z"
   },
   {
    "duration": 0,
    "start_time": "2023-01-28T07:58:48.617Z"
   },
   {
    "duration": 0,
    "start_time": "2023-01-28T07:58:48.618Z"
   },
   {
    "duration": 0,
    "start_time": "2023-01-28T07:58:48.619Z"
   },
   {
    "duration": 0,
    "start_time": "2023-01-28T07:58:48.620Z"
   },
   {
    "duration": 0,
    "start_time": "2023-01-28T07:58:48.622Z"
   },
   {
    "duration": 0,
    "start_time": "2023-01-28T07:58:48.623Z"
   },
   {
    "duration": 0,
    "start_time": "2023-01-28T07:58:48.624Z"
   },
   {
    "duration": 0,
    "start_time": "2023-01-28T07:58:48.653Z"
   },
   {
    "duration": 0,
    "start_time": "2023-01-28T07:58:48.655Z"
   },
   {
    "duration": 0,
    "start_time": "2023-01-28T07:58:48.656Z"
   },
   {
    "duration": 0,
    "start_time": "2023-01-28T07:58:48.658Z"
   },
   {
    "duration": 0,
    "start_time": "2023-01-28T07:58:48.660Z"
   },
   {
    "duration": 0,
    "start_time": "2023-01-28T07:58:48.662Z"
   },
   {
    "duration": 0,
    "start_time": "2023-01-28T07:58:48.663Z"
   },
   {
    "duration": 0,
    "start_time": "2023-01-28T07:58:48.665Z"
   },
   {
    "duration": 0,
    "start_time": "2023-01-28T07:58:48.666Z"
   },
   {
    "duration": 0,
    "start_time": "2023-01-28T07:58:48.667Z"
   },
   {
    "duration": 0,
    "start_time": "2023-01-28T07:58:48.668Z"
   },
   {
    "duration": 0,
    "start_time": "2023-01-28T07:58:48.670Z"
   },
   {
    "duration": 0,
    "start_time": "2023-01-28T07:58:48.673Z"
   },
   {
    "duration": 0,
    "start_time": "2023-01-28T07:58:48.674Z"
   },
   {
    "duration": 0,
    "start_time": "2023-01-28T07:58:48.675Z"
   },
   {
    "duration": 0,
    "start_time": "2023-01-28T07:58:48.676Z"
   },
   {
    "duration": 0,
    "start_time": "2023-01-28T07:58:48.678Z"
   },
   {
    "duration": 0,
    "start_time": "2023-01-28T07:58:48.679Z"
   },
   {
    "duration": 0,
    "start_time": "2023-01-28T07:58:48.681Z"
   },
   {
    "duration": 0,
    "start_time": "2023-01-28T07:58:48.682Z"
   },
   {
    "duration": 0,
    "start_time": "2023-01-28T07:58:48.683Z"
   },
   {
    "duration": 0,
    "start_time": "2023-01-28T07:58:48.684Z"
   },
   {
    "duration": 0,
    "start_time": "2023-01-28T07:58:48.685Z"
   },
   {
    "duration": 0,
    "start_time": "2023-01-28T07:58:48.686Z"
   },
   {
    "duration": 0,
    "start_time": "2023-01-28T07:58:48.687Z"
   },
   {
    "duration": 0,
    "start_time": "2023-01-28T07:58:48.689Z"
   },
   {
    "duration": 0,
    "start_time": "2023-01-28T07:58:48.690Z"
   },
   {
    "duration": 0,
    "start_time": "2023-01-28T07:58:48.691Z"
   },
   {
    "duration": 1,
    "start_time": "2023-01-28T07:58:48.692Z"
   },
   {
    "duration": 0,
    "start_time": "2023-01-28T07:58:48.693Z"
   },
   {
    "duration": 11,
    "start_time": "2023-01-28T08:05:53.283Z"
   },
   {
    "duration": 6,
    "start_time": "2023-01-28T08:05:54.595Z"
   },
   {
    "duration": 11,
    "start_time": "2023-01-28T08:05:55.967Z"
   },
   {
    "duration": 13,
    "start_time": "2023-01-28T08:06:02.475Z"
   },
   {
    "duration": 4,
    "start_time": "2023-01-28T08:06:03.784Z"
   },
   {
    "duration": 11,
    "start_time": "2023-01-28T08:06:06.506Z"
   },
   {
    "duration": 12,
    "start_time": "2023-01-28T08:06:08.327Z"
   },
   {
    "duration": 8,
    "start_time": "2023-01-28T08:06:09.482Z"
   },
   {
    "duration": 5,
    "start_time": "2023-01-28T08:06:10.539Z"
   },
   {
    "duration": 14,
    "start_time": "2023-01-28T08:06:17.344Z"
   },
   {
    "duration": 3,
    "start_time": "2023-01-28T08:06:18.376Z"
   },
   {
    "duration": 13,
    "start_time": "2023-01-28T08:06:20.184Z"
   },
   {
    "duration": 13,
    "start_time": "2023-01-28T08:06:21.195Z"
   },
   {
    "duration": 8,
    "start_time": "2023-01-28T08:06:24.436Z"
   },
   {
    "duration": 5,
    "start_time": "2023-01-28T08:06:25.631Z"
   },
   {
    "duration": 3,
    "start_time": "2023-01-28T08:10:19.939Z"
   },
   {
    "duration": 4,
    "start_time": "2023-01-28T08:10:54.171Z"
   },
   {
    "duration": 3,
    "start_time": "2023-01-28T08:11:06.567Z"
   },
   {
    "duration": 3,
    "start_time": "2023-01-28T08:11:13.986Z"
   },
   {
    "duration": 4,
    "start_time": "2023-01-28T08:11:18.450Z"
   },
   {
    "duration": 4,
    "start_time": "2023-01-28T08:11:19.798Z"
   },
   {
    "duration": 4,
    "start_time": "2023-01-28T08:14:15.962Z"
   },
   {
    "duration": 5,
    "start_time": "2023-01-28T08:14:17.894Z"
   },
   {
    "duration": 6,
    "start_time": "2023-01-28T08:14:18.964Z"
   },
   {
    "duration": 5,
    "start_time": "2023-01-28T08:14:19.849Z"
   },
   {
    "duration": 3,
    "start_time": "2023-01-28T08:27:08.998Z"
   },
   {
    "duration": 3,
    "start_time": "2023-01-28T08:27:34.634Z"
   },
   {
    "duration": 58,
    "start_time": "2023-01-28T08:27:57.835Z"
   },
   {
    "duration": 4,
    "start_time": "2023-01-28T08:29:19.501Z"
   },
   {
    "duration": 15,
    "start_time": "2023-01-28T08:29:35.999Z"
   },
   {
    "duration": 4,
    "start_time": "2023-01-28T08:37:17.126Z"
   },
   {
    "duration": 16,
    "start_time": "2023-01-28T08:37:18.129Z"
   },
   {
    "duration": 3,
    "start_time": "2023-01-28T08:37:32.438Z"
   },
   {
    "duration": 17,
    "start_time": "2023-01-28T08:37:35.356Z"
   },
   {
    "duration": 3,
    "start_time": "2023-01-28T08:39:56.178Z"
   },
   {
    "duration": 4,
    "start_time": "2023-01-28T08:40:12.986Z"
   },
   {
    "duration": 3,
    "start_time": "2023-01-28T08:40:32.766Z"
   },
   {
    "duration": 4,
    "start_time": "2023-01-28T08:40:33.874Z"
   },
   {
    "duration": 14,
    "start_time": "2023-01-28T08:40:55.347Z"
   },
   {
    "duration": 3,
    "start_time": "2023-01-28T08:41:42.836Z"
   },
   {
    "duration": 13,
    "start_time": "2023-01-28T08:41:45.329Z"
   },
   {
    "duration": 3,
    "start_time": "2023-01-28T08:42:10.677Z"
   },
   {
    "duration": 4,
    "start_time": "2023-01-28T08:42:11.545Z"
   },
   {
    "duration": 15,
    "start_time": "2023-01-28T08:42:12.343Z"
   },
   {
    "duration": 4,
    "start_time": "2023-01-28T08:42:18.386Z"
   },
   {
    "duration": 3,
    "start_time": "2023-01-28T08:42:18.681Z"
   },
   {
    "duration": 411,
    "start_time": "2023-01-28T08:42:19.079Z"
   },
   {
    "duration": 9,
    "start_time": "2023-01-28T08:42:20.478Z"
   },
   {
    "duration": 10,
    "start_time": "2023-01-28T08:42:20.966Z"
   },
   {
    "duration": 13,
    "start_time": "2023-01-28T08:42:21.550Z"
   },
   {
    "duration": 40,
    "start_time": "2023-01-28T08:42:22.335Z"
   },
   {
    "duration": 44,
    "start_time": "2023-01-28T08:42:23.735Z"
   },
   {
    "duration": 40,
    "start_time": "2023-01-28T08:42:23.963Z"
   },
   {
    "duration": 45,
    "start_time": "2023-01-28T08:42:24.185Z"
   },
   {
    "duration": 19,
    "start_time": "2023-01-28T08:42:24.553Z"
   },
   {
    "duration": 20,
    "start_time": "2023-01-28T08:42:24.735Z"
   },
   {
    "duration": 29,
    "start_time": "2023-01-28T08:42:25.097Z"
   },
   {
    "duration": 14,
    "start_time": "2023-01-28T08:42:25.299Z"
   },
   {
    "duration": 26,
    "start_time": "2023-01-28T08:42:25.729Z"
   },
   {
    "duration": 26,
    "start_time": "2023-01-28T08:42:25.928Z"
   },
   {
    "duration": 15,
    "start_time": "2023-01-28T08:42:26.129Z"
   },
   {
    "duration": 18,
    "start_time": "2023-01-28T08:42:26.561Z"
   },
   {
    "duration": 27,
    "start_time": "2023-01-28T08:42:26.753Z"
   },
   {
    "duration": 13,
    "start_time": "2023-01-28T08:42:26.962Z"
   },
   {
    "duration": 11,
    "start_time": "2023-01-28T08:42:27.345Z"
   },
   {
    "duration": 35,
    "start_time": "2023-01-28T08:42:27.744Z"
   },
   {
    "duration": 31,
    "start_time": "2023-01-28T08:42:27.937Z"
   },
   {
    "duration": 36,
    "start_time": "2023-01-28T08:42:28.132Z"
   },
   {
    "duration": 74,
    "start_time": "2023-01-28T08:42:28.536Z"
   },
   {
    "duration": 327,
    "start_time": "2023-01-28T08:42:28.737Z"
   },
   {
    "duration": 61,
    "start_time": "2023-01-28T08:42:29.066Z"
   },
   {
    "duration": 383,
    "start_time": "2023-01-28T08:42:29.131Z"
   },
   {
    "duration": 71,
    "start_time": "2023-01-28T08:42:29.739Z"
   },
   {
    "duration": 331,
    "start_time": "2023-01-28T08:42:29.939Z"
   },
   {
    "duration": 316,
    "start_time": "2023-01-28T08:42:30.553Z"
   },
   {
    "duration": 453,
    "start_time": "2023-01-28T08:42:30.964Z"
   },
   {
    "duration": 359,
    "start_time": "2023-01-28T08:42:31.419Z"
   },
   {
    "duration": 6,
    "start_time": "2023-01-28T08:42:31.945Z"
   },
   {
    "duration": 4,
    "start_time": "2023-01-28T08:42:32.588Z"
   },
   {
    "duration": 23,
    "start_time": "2023-01-28T08:42:32.594Z"
   },
   {
    "duration": 10,
    "start_time": "2023-01-28T08:42:33.353Z"
   },
   {
    "duration": 4,
    "start_time": "2023-01-28T08:42:33.753Z"
   },
   {
    "duration": 13,
    "start_time": "2023-01-28T08:42:34.164Z"
   },
   {
    "duration": 8,
    "start_time": "2023-01-28T08:42:34.769Z"
   },
   {
    "duration": 16,
    "start_time": "2023-01-28T08:42:35.170Z"
   },
   {
    "duration": 7,
    "start_time": "2023-01-28T08:42:35.585Z"
   },
   {
    "duration": 4,
    "start_time": "2023-01-28T08:42:35.979Z"
   },
   {
    "duration": 15,
    "start_time": "2023-01-28T08:42:36.778Z"
   },
   {
    "duration": 3,
    "start_time": "2023-01-28T08:42:37.225Z"
   },
   {
    "duration": 10,
    "start_time": "2023-01-28T08:42:37.628Z"
   },
   {
    "duration": 17,
    "start_time": "2023-01-28T08:42:38.057Z"
   },
   {
    "duration": 6,
    "start_time": "2023-01-28T08:42:38.489Z"
   },
   {
    "duration": 6,
    "start_time": "2023-01-28T08:42:38.945Z"
   },
   {
    "duration": 12,
    "start_time": "2023-01-28T08:42:39.777Z"
   },
   {
    "duration": 4,
    "start_time": "2023-01-28T08:42:39.969Z"
   },
   {
    "duration": 10,
    "start_time": "2023-01-28T08:42:40.893Z"
   },
   {
    "duration": 19,
    "start_time": "2023-01-28T08:42:41.266Z"
   },
   {
    "duration": 9,
    "start_time": "2023-01-28T08:42:41.688Z"
   },
   {
    "duration": 5,
    "start_time": "2023-01-28T08:42:42.161Z"
   },
   {
    "duration": 4,
    "start_time": "2023-01-28T08:42:43.754Z"
   },
   {
    "duration": 5,
    "start_time": "2023-01-28T08:42:45.963Z"
   },
   {
    "duration": 4,
    "start_time": "2023-01-28T08:42:46.136Z"
   },
   {
    "duration": 4,
    "start_time": "2023-01-28T08:42:46.328Z"
   },
   {
    "duration": 4,
    "start_time": "2023-01-28T08:42:46.692Z"
   },
   {
    "duration": 3,
    "start_time": "2023-01-28T08:42:58.245Z"
   },
   {
    "duration": 4,
    "start_time": "2023-01-28T08:43:07.257Z"
   },
   {
    "duration": 5,
    "start_time": "2023-01-28T08:43:10.055Z"
   },
   {
    "duration": 18,
    "start_time": "2023-01-28T08:43:12.545Z"
   },
   {
    "duration": 4,
    "start_time": "2023-01-28T08:43:43.548Z"
   },
   {
    "duration": 1320,
    "start_time": "2023-01-28T08:43:44.454Z"
   },
   {
    "duration": 1509,
    "start_time": "2023-01-28T08:44:04.376Z"
   },
   {
    "duration": 3,
    "start_time": "2023-01-28T08:44:21.477Z"
   },
   {
    "duration": 3,
    "start_time": "2023-01-28T08:44:42.333Z"
   },
   {
    "duration": 5,
    "start_time": "2023-01-28T08:44:47.483Z"
   },
   {
    "duration": 4,
    "start_time": "2023-01-28T08:45:25.928Z"
   },
   {
    "duration": 1423,
    "start_time": "2023-01-28T08:45:33.188Z"
   },
   {
    "duration": 3,
    "start_time": "2023-01-28T08:45:37.980Z"
   },
   {
    "duration": 4,
    "start_time": "2023-01-28T08:45:39.328Z"
   },
   {
    "duration": 546,
    "start_time": "2023-01-28T08:46:08.270Z"
   },
   {
    "duration": 3,
    "start_time": "2023-01-28T08:46:13.037Z"
   },
   {
    "duration": 4,
    "start_time": "2023-01-28T08:46:14.629Z"
   },
   {
    "duration": 5,
    "start_time": "2023-01-28T08:46:50.394Z"
   },
   {
    "duration": 4,
    "start_time": "2023-01-28T08:46:51.832Z"
   },
   {
    "duration": 5,
    "start_time": "2023-01-28T08:46:54.628Z"
   },
   {
    "duration": 3,
    "start_time": "2023-01-28T08:46:55.695Z"
   },
   {
    "duration": 502,
    "start_time": "2023-01-28T08:47:05.243Z"
   },
   {
    "duration": 3,
    "start_time": "2023-01-28T08:47:06.364Z"
   },
   {
    "duration": 5,
    "start_time": "2023-01-28T08:47:07.444Z"
   },
   {
    "duration": 4,
    "start_time": "2023-01-28T08:47:08.697Z"
   },
   {
    "duration": 5,
    "start_time": "2023-01-28T08:47:09.536Z"
   },
   {
    "duration": 4,
    "start_time": "2023-01-28T08:47:13.835Z"
   },
   {
    "duration": 3,
    "start_time": "2023-01-28T08:47:14.539Z"
   },
   {
    "duration": 496,
    "start_time": "2023-01-28T08:47:16.785Z"
   },
   {
    "duration": 3,
    "start_time": "2023-01-28T08:47:18.175Z"
   },
   {
    "duration": 4,
    "start_time": "2023-01-28T08:47:19.666Z"
   },
   {
    "duration": 6,
    "start_time": "2023-01-28T08:47:21.496Z"
   },
   {
    "duration": 4,
    "start_time": "2023-01-28T08:47:22.344Z"
   },
   {
    "duration": 5,
    "start_time": "2023-01-28T08:47:24.568Z"
   },
   {
    "duration": 4,
    "start_time": "2023-01-28T08:47:25.457Z"
   },
   {
    "duration": 8,
    "start_time": "2023-01-28T08:47:27.886Z"
   },
   {
    "duration": 1491,
    "start_time": "2023-01-28T09:17:19.275Z"
   },
   {
    "duration": 3,
    "start_time": "2023-01-28T09:17:20.768Z"
   },
   {
    "duration": 403,
    "start_time": "2023-01-28T09:17:20.773Z"
   },
   {
    "duration": 14,
    "start_time": "2023-01-28T09:17:21.178Z"
   },
   {
    "duration": 10,
    "start_time": "2023-01-28T09:17:21.194Z"
   },
   {
    "duration": 17,
    "start_time": "2023-01-28T09:17:21.206Z"
   },
   {
    "duration": 63,
    "start_time": "2023-01-28T09:17:21.225Z"
   },
   {
    "duration": 47,
    "start_time": "2023-01-28T09:17:21.290Z"
   },
   {
    "duration": 56,
    "start_time": "2023-01-28T09:17:21.339Z"
   },
   {
    "duration": 66,
    "start_time": "2023-01-28T09:17:21.398Z"
   },
   {
    "duration": 21,
    "start_time": "2023-01-28T09:17:21.466Z"
   },
   {
    "duration": 42,
    "start_time": "2023-01-28T09:17:21.489Z"
   },
   {
    "duration": 44,
    "start_time": "2023-01-28T09:17:21.534Z"
   },
   {
    "duration": 18,
    "start_time": "2023-01-28T09:17:21.580Z"
   },
   {
    "duration": 24,
    "start_time": "2023-01-28T09:17:21.600Z"
   },
   {
    "duration": 52,
    "start_time": "2023-01-28T09:17:21.626Z"
   },
   {
    "duration": 14,
    "start_time": "2023-01-28T09:17:21.680Z"
   },
   {
    "duration": 33,
    "start_time": "2023-01-28T09:17:21.696Z"
   },
   {
    "duration": 48,
    "start_time": "2023-01-28T09:17:21.732Z"
   },
   {
    "duration": 16,
    "start_time": "2023-01-28T09:17:21.782Z"
   },
   {
    "duration": 12,
    "start_time": "2023-01-28T09:17:21.800Z"
   },
   {
    "duration": 59,
    "start_time": "2023-01-28T09:17:21.815Z"
   },
   {
    "duration": 37,
    "start_time": "2023-01-28T09:17:21.876Z"
   },
   {
    "duration": 58,
    "start_time": "2023-01-28T09:17:21.914Z"
   },
   {
    "duration": 65,
    "start_time": "2023-01-28T09:17:21.974Z"
   },
   {
    "duration": 327,
    "start_time": "2023-01-28T09:17:22.053Z"
   },
   {
    "duration": 79,
    "start_time": "2023-01-28T09:17:22.383Z"
   },
   {
    "duration": 326,
    "start_time": "2023-01-28T09:17:22.467Z"
   },
   {
    "duration": 79,
    "start_time": "2023-01-28T09:17:22.795Z"
   },
   {
    "duration": 319,
    "start_time": "2023-01-28T09:17:22.876Z"
   },
   {
    "duration": 337,
    "start_time": "2023-01-28T09:17:23.196Z"
   },
   {
    "duration": 435,
    "start_time": "2023-01-28T09:17:23.535Z"
   },
   {
    "duration": 340,
    "start_time": "2023-01-28T09:17:23.972Z"
   },
   {
    "duration": 6,
    "start_time": "2023-01-28T09:17:24.314Z"
   },
   {
    "duration": 16,
    "start_time": "2023-01-28T09:17:24.321Z"
   },
   {
    "duration": 16,
    "start_time": "2023-01-28T09:17:24.339Z"
   },
   {
    "duration": 31,
    "start_time": "2023-01-28T09:17:24.358Z"
   },
   {
    "duration": 8,
    "start_time": "2023-01-28T09:17:24.391Z"
   },
   {
    "duration": 21,
    "start_time": "2023-01-28T09:17:24.401Z"
   },
   {
    "duration": 10,
    "start_time": "2023-01-28T09:17:24.423Z"
   },
   {
    "duration": 128,
    "start_time": "2023-01-28T09:17:24.435Z"
   },
   {
    "duration": 94,
    "start_time": "2023-01-28T09:17:24.566Z"
   },
   {
    "duration": 19,
    "start_time": "2023-01-28T09:17:24.662Z"
   },
   {
    "duration": 24,
    "start_time": "2023-01-28T09:17:24.683Z"
   },
   {
    "duration": 6,
    "start_time": "2023-01-28T09:17:24.709Z"
   },
   {
    "duration": 41,
    "start_time": "2023-01-28T09:17:24.716Z"
   },
   {
    "duration": 28,
    "start_time": "2023-01-28T09:17:24.758Z"
   },
   {
    "duration": 9,
    "start_time": "2023-01-28T09:17:24.855Z"
   },
   {
    "duration": 96,
    "start_time": "2023-01-28T09:17:24.866Z"
   },
   {
    "duration": 19,
    "start_time": "2023-01-28T09:17:24.965Z"
   },
   {
    "duration": 15,
    "start_time": "2023-01-28T09:17:24.987Z"
   },
   {
    "duration": 25,
    "start_time": "2023-01-28T09:17:25.004Z"
   },
   {
    "duration": 30,
    "start_time": "2023-01-28T09:17:25.031Z"
   },
   {
    "duration": 102,
    "start_time": "2023-01-28T09:17:25.063Z"
   },
   {
    "duration": 11,
    "start_time": "2023-01-28T09:17:25.253Z"
   },
   {
    "duration": 17,
    "start_time": "2023-01-28T09:17:25.266Z"
   },
   {
    "duration": 6,
    "start_time": "2023-01-28T09:17:25.285Z"
   },
   {
    "duration": 9,
    "start_time": "2023-01-28T09:17:25.293Z"
   },
   {
    "duration": 6,
    "start_time": "2023-01-28T09:17:25.303Z"
   },
   {
    "duration": 12,
    "start_time": "2023-01-28T09:17:25.311Z"
   },
   {
    "duration": 16,
    "start_time": "2023-01-28T09:17:25.325Z"
   },
   {
    "duration": 13,
    "start_time": "2023-01-28T09:17:25.353Z"
   },
   {
    "duration": 18,
    "start_time": "2023-01-28T09:17:25.368Z"
   },
   {
    "duration": 5,
    "start_time": "2023-01-28T09:17:25.388Z"
   },
   {
    "duration": 7,
    "start_time": "2023-01-28T09:17:25.394Z"
   },
   {
    "duration": 10,
    "start_time": "2023-01-28T09:17:25.403Z"
   },
   {
    "duration": 16,
    "start_time": "2023-01-28T09:17:25.415Z"
   },
   {
    "duration": 1288,
    "start_time": "2023-01-28T09:17:25.433Z"
   },
   {
    "duration": 121,
    "start_time": "2023-01-28T09:17:26.722Z"
   },
   {
    "duration": 0,
    "start_time": "2023-01-28T09:17:26.846Z"
   },
   {
    "duration": 0,
    "start_time": "2023-01-28T09:17:26.847Z"
   },
   {
    "duration": 0,
    "start_time": "2023-01-28T09:17:26.853Z"
   },
   {
    "duration": 0,
    "start_time": "2023-01-28T09:17:26.854Z"
   },
   {
    "duration": 0,
    "start_time": "2023-01-28T09:17:26.856Z"
   },
   {
    "duration": 0,
    "start_time": "2023-01-28T09:17:26.857Z"
   },
   {
    "duration": 0,
    "start_time": "2023-01-28T09:17:26.858Z"
   },
   {
    "duration": 0,
    "start_time": "2023-01-28T09:17:26.860Z"
   },
   {
    "duration": 0,
    "start_time": "2023-01-28T09:17:26.861Z"
   },
   {
    "duration": 0,
    "start_time": "2023-01-28T09:17:26.862Z"
   },
   {
    "duration": 0,
    "start_time": "2023-01-28T09:17:26.865Z"
   },
   {
    "duration": 0,
    "start_time": "2023-01-28T09:17:26.866Z"
   },
   {
    "duration": 0,
    "start_time": "2023-01-28T09:17:26.868Z"
   },
   {
    "duration": 0,
    "start_time": "2023-01-28T09:17:26.870Z"
   },
   {
    "duration": 0,
    "start_time": "2023-01-28T09:17:26.871Z"
   },
   {
    "duration": 0,
    "start_time": "2023-01-28T09:17:26.873Z"
   },
   {
    "duration": 0,
    "start_time": "2023-01-28T09:17:26.875Z"
   },
   {
    "duration": 0,
    "start_time": "2023-01-28T09:17:26.876Z"
   },
   {
    "duration": 0,
    "start_time": "2023-01-28T09:17:26.877Z"
   },
   {
    "duration": 0,
    "start_time": "2023-01-28T09:17:26.878Z"
   },
   {
    "duration": 0,
    "start_time": "2023-01-28T09:17:26.880Z"
   },
   {
    "duration": 0,
    "start_time": "2023-01-28T09:17:26.883Z"
   },
   {
    "duration": 0,
    "start_time": "2023-01-28T09:17:26.884Z"
   },
   {
    "duration": 0,
    "start_time": "2023-01-28T09:17:26.885Z"
   },
   {
    "duration": 0,
    "start_time": "2023-01-28T09:17:26.886Z"
   },
   {
    "duration": 0,
    "start_time": "2023-01-28T09:17:26.888Z"
   },
   {
    "duration": 0,
    "start_time": "2023-01-28T09:17:26.889Z"
   },
   {
    "duration": 1527,
    "start_time": "2023-01-28T09:17:52.027Z"
   },
   {
    "duration": 4,
    "start_time": "2023-01-28T09:17:53.557Z"
   },
   {
    "duration": 483,
    "start_time": "2023-01-28T09:17:53.563Z"
   },
   {
    "duration": 17,
    "start_time": "2023-01-28T09:17:54.048Z"
   },
   {
    "duration": 16,
    "start_time": "2023-01-28T09:17:54.067Z"
   },
   {
    "duration": 66,
    "start_time": "2023-01-28T09:17:54.085Z"
   },
   {
    "duration": 128,
    "start_time": "2023-01-28T09:17:54.153Z"
   },
   {
    "duration": 67,
    "start_time": "2023-01-28T09:17:54.283Z"
   },
   {
    "duration": 149,
    "start_time": "2023-01-28T09:17:54.351Z"
   },
   {
    "duration": 82,
    "start_time": "2023-01-28T09:17:54.503Z"
   },
   {
    "duration": 75,
    "start_time": "2023-01-28T09:17:54.586Z"
   },
   {
    "duration": 70,
    "start_time": "2023-01-28T09:17:54.663Z"
   },
   {
    "duration": 78,
    "start_time": "2023-01-28T09:17:54.734Z"
   },
   {
    "duration": 21,
    "start_time": "2023-01-28T09:17:54.814Z"
   },
   {
    "duration": 42,
    "start_time": "2023-01-28T09:17:54.837Z"
   },
   {
    "duration": 87,
    "start_time": "2023-01-28T09:17:54.880Z"
   },
   {
    "duration": 42,
    "start_time": "2023-01-28T09:17:54.969Z"
   },
   {
    "duration": 111,
    "start_time": "2023-01-28T09:17:55.013Z"
   },
   {
    "duration": 74,
    "start_time": "2023-01-28T09:17:55.125Z"
   },
   {
    "duration": 34,
    "start_time": "2023-01-28T09:17:55.201Z"
   },
   {
    "duration": 27,
    "start_time": "2023-01-28T09:17:55.237Z"
   },
   {
    "duration": 73,
    "start_time": "2023-01-28T09:17:55.266Z"
   },
   {
    "duration": 45,
    "start_time": "2023-01-28T09:17:55.342Z"
   },
   {
    "duration": 36,
    "start_time": "2023-01-28T09:17:55.389Z"
   },
   {
    "duration": 87,
    "start_time": "2023-01-28T09:17:55.427Z"
   },
   {
    "duration": 376,
    "start_time": "2023-01-28T09:17:55.517Z"
   },
   {
    "duration": 67,
    "start_time": "2023-01-28T09:17:55.895Z"
   },
   {
    "duration": 342,
    "start_time": "2023-01-28T09:17:55.967Z"
   },
   {
    "duration": 75,
    "start_time": "2023-01-28T09:17:56.311Z"
   },
   {
    "duration": 340,
    "start_time": "2023-01-28T09:17:56.388Z"
   },
   {
    "duration": 342,
    "start_time": "2023-01-28T09:17:56.732Z"
   },
   {
    "duration": 532,
    "start_time": "2023-01-28T09:17:57.075Z"
   },
   {
    "duration": 379,
    "start_time": "2023-01-28T09:17:57.609Z"
   },
   {
    "duration": 6,
    "start_time": "2023-01-28T09:17:57.990Z"
   },
   {
    "duration": 11,
    "start_time": "2023-01-28T09:17:58.000Z"
   },
   {
    "duration": 11,
    "start_time": "2023-01-28T09:17:58.013Z"
   },
   {
    "duration": 15,
    "start_time": "2023-01-28T09:17:58.025Z"
   },
   {
    "duration": 7,
    "start_time": "2023-01-28T09:17:58.054Z"
   },
   {
    "duration": 21,
    "start_time": "2023-01-28T09:17:58.063Z"
   },
   {
    "duration": 9,
    "start_time": "2023-01-28T09:17:58.087Z"
   },
   {
    "duration": 18,
    "start_time": "2023-01-28T09:17:58.099Z"
   },
   {
    "duration": 50,
    "start_time": "2023-01-28T09:17:58.119Z"
   },
   {
    "duration": 91,
    "start_time": "2023-01-28T09:17:58.171Z"
   },
   {
    "duration": 16,
    "start_time": "2023-01-28T09:17:58.264Z"
   },
   {
    "duration": 4,
    "start_time": "2023-01-28T09:17:58.282Z"
   },
   {
    "duration": 15,
    "start_time": "2023-01-28T09:17:58.287Z"
   },
   {
    "duration": 65,
    "start_time": "2023-01-28T09:17:58.304Z"
   },
   {
    "duration": 89,
    "start_time": "2023-01-28T09:17:58.371Z"
   },
   {
    "duration": 8,
    "start_time": "2023-01-28T09:17:58.462Z"
   },
   {
    "duration": 15,
    "start_time": "2023-01-28T09:17:58.472Z"
   },
   {
    "duration": 4,
    "start_time": "2023-01-28T09:17:58.489Z"
   },
   {
    "duration": 72,
    "start_time": "2023-01-28T09:17:58.494Z"
   },
   {
    "duration": 16,
    "start_time": "2023-01-28T09:17:58.569Z"
   },
   {
    "duration": 172,
    "start_time": "2023-01-28T09:17:58.587Z"
   },
   {
    "duration": 23,
    "start_time": "2023-01-28T09:17:58.761Z"
   },
   {
    "duration": 26,
    "start_time": "2023-01-28T09:17:58.786Z"
   },
   {
    "duration": 33,
    "start_time": "2023-01-28T09:17:58.814Z"
   },
   {
    "duration": 42,
    "start_time": "2023-01-28T09:17:58.849Z"
   },
   {
    "duration": 12,
    "start_time": "2023-01-28T09:17:58.893Z"
   },
   {
    "duration": 27,
    "start_time": "2023-01-28T09:17:58.907Z"
   },
   {
    "duration": 36,
    "start_time": "2023-01-28T09:17:58.935Z"
   },
   {
    "duration": 25,
    "start_time": "2023-01-28T09:17:58.973Z"
   },
   {
    "duration": 38,
    "start_time": "2023-01-28T09:17:59.000Z"
   },
   {
    "duration": 27,
    "start_time": "2023-01-28T09:17:59.040Z"
   },
   {
    "duration": 41,
    "start_time": "2023-01-28T09:17:59.068Z"
   },
   {
    "duration": 19,
    "start_time": "2023-01-28T09:17:59.111Z"
   },
   {
    "duration": 33,
    "start_time": "2023-01-28T09:17:59.132Z"
   },
   {
    "duration": 1274,
    "start_time": "2023-01-28T09:17:59.167Z"
   },
   {
    "duration": 1235,
    "start_time": "2023-01-28T09:18:00.443Z"
   },
   {
    "duration": 5,
    "start_time": "2023-01-28T09:18:01.680Z"
   },
   {
    "duration": 48,
    "start_time": "2023-01-28T09:18:01.686Z"
   },
   {
    "duration": 99,
    "start_time": "2023-01-28T09:18:01.735Z"
   },
   {
    "duration": 51,
    "start_time": "2023-01-28T09:18:01.836Z"
   },
   {
    "duration": 650,
    "start_time": "2023-01-28T09:18:01.891Z"
   },
   {
    "duration": 10,
    "start_time": "2023-01-28T09:18:02.543Z"
   },
   {
    "duration": 29,
    "start_time": "2023-01-28T09:18:02.555Z"
   },
   {
    "duration": 27,
    "start_time": "2023-01-28T09:18:02.586Z"
   },
   {
    "duration": 45,
    "start_time": "2023-01-28T09:18:02.615Z"
   },
   {
    "duration": 23,
    "start_time": "2023-01-28T09:18:02.662Z"
   },
   {
    "duration": 17,
    "start_time": "2023-01-28T09:18:02.687Z"
   },
   {
    "duration": 39,
    "start_time": "2023-01-28T09:18:02.706Z"
   },
   {
    "duration": 589,
    "start_time": "2023-01-28T09:18:02.750Z"
   },
   {
    "duration": 3,
    "start_time": "2023-01-28T09:18:03.341Z"
   },
   {
    "duration": 52,
    "start_time": "2023-01-28T09:18:03.354Z"
   },
   {
    "duration": 33,
    "start_time": "2023-01-28T09:18:03.409Z"
   },
   {
    "duration": 31,
    "start_time": "2023-01-28T09:18:03.444Z"
   },
   {
    "duration": 58,
    "start_time": "2023-01-28T09:18:03.478Z"
   },
   {
    "duration": 25,
    "start_time": "2023-01-28T09:18:03.539Z"
   },
   {
    "duration": 644,
    "start_time": "2023-01-28T09:18:03.567Z"
   },
   {
    "duration": 3,
    "start_time": "2023-01-28T09:18:04.213Z"
   },
   {
    "duration": 55,
    "start_time": "2023-01-28T09:18:04.217Z"
   },
   {
    "duration": 25,
    "start_time": "2023-01-28T09:18:04.274Z"
   },
   {
    "duration": 28,
    "start_time": "2023-01-28T09:18:04.301Z"
   },
   {
    "duration": 31,
    "start_time": "2023-01-28T09:18:04.331Z"
   },
   {
    "duration": 30,
    "start_time": "2023-01-28T09:18:04.364Z"
   },
   {
    "duration": 44,
    "start_time": "2023-01-28T09:18:04.395Z"
   },
   {
    "duration": 5,
    "start_time": "2023-01-28T09:18:30.765Z"
   },
   {
    "duration": 8,
    "start_time": "2023-01-28T09:18:32.135Z"
   },
   {
    "duration": 6,
    "start_time": "2023-01-28T09:19:12.538Z"
   },
   {
    "duration": 1293,
    "start_time": "2023-01-28T09:19:13.592Z"
   },
   {
    "duration": 1377,
    "start_time": "2023-01-28T09:19:28.857Z"
   },
   {
    "duration": 5,
    "start_time": "2023-01-28T09:19:30.236Z"
   },
   {
    "duration": 7,
    "start_time": "2023-01-28T09:19:34.794Z"
   },
   {
    "duration": 3,
    "start_time": "2023-01-28T09:21:28.125Z"
   },
   {
    "duration": 768,
    "start_time": "2023-01-28T09:21:29.495Z"
   },
   {
    "duration": 4,
    "start_time": "2023-01-28T09:21:44.122Z"
   },
   {
    "duration": 6,
    "start_time": "2023-01-28T09:21:58.483Z"
   },
   {
    "duration": 518,
    "start_time": "2023-01-28T09:26:58.057Z"
   },
   {
    "duration": 3,
    "start_time": "2023-01-28T09:27:01.196Z"
   },
   {
    "duration": 491,
    "start_time": "2023-01-28T09:27:01.658Z"
   },
   {
    "duration": 16,
    "start_time": "2023-01-28T09:27:09.969Z"
   },
   {
    "duration": 3,
    "start_time": "2023-01-28T09:32:01.140Z"
   },
   {
    "duration": 3,
    "start_time": "2023-01-28T09:32:12.542Z"
   },
   {
    "duration": 504,
    "start_time": "2023-01-28T09:32:39.041Z"
   },
   {
    "duration": 15,
    "start_time": "2023-01-28T09:32:43.189Z"
   },
   {
    "duration": 107,
    "start_time": "2023-01-28T09:32:50.376Z"
   },
   {
    "duration": 6,
    "start_time": "2023-01-28T09:36:09.724Z"
   },
   {
    "duration": 523,
    "start_time": "2023-01-28T09:36:55.087Z"
   },
   {
    "duration": 523,
    "start_time": "2023-01-28T09:37:19.223Z"
   },
   {
    "duration": 540,
    "start_time": "2023-01-28T09:37:35.083Z"
   },
   {
    "duration": 496,
    "start_time": "2023-01-28T09:37:36.484Z"
   },
   {
    "duration": 501,
    "start_time": "2023-01-28T09:37:37.754Z"
   },
   {
    "duration": 526,
    "start_time": "2023-01-28T09:37:39.108Z"
   },
   {
    "duration": 531,
    "start_time": "2023-01-28T09:37:40.454Z"
   },
   {
    "duration": 512,
    "start_time": "2023-01-28T09:37:41.754Z"
   },
   {
    "duration": 543,
    "start_time": "2023-01-28T09:37:43.013Z"
   },
   {
    "duration": 497,
    "start_time": "2023-01-28T09:37:44.335Z"
   },
   {
    "duration": 539,
    "start_time": "2023-01-28T09:37:45.757Z"
   },
   {
    "duration": 554,
    "start_time": "2023-01-28T09:37:46.933Z"
   },
   {
    "duration": 543,
    "start_time": "2023-01-28T09:37:48.073Z"
   },
   {
    "duration": 631,
    "start_time": "2023-01-28T09:37:49.315Z"
   },
   {
    "duration": 487,
    "start_time": "2023-01-28T09:37:50.622Z"
   },
   {
    "duration": 533,
    "start_time": "2023-01-28T09:37:51.821Z"
   },
   {
    "duration": 536,
    "start_time": "2023-01-28T09:37:53.087Z"
   },
   {
    "duration": 495,
    "start_time": "2023-01-28T09:37:54.310Z"
   },
   {
    "duration": 563,
    "start_time": "2023-01-28T09:37:55.566Z"
   },
   {
    "duration": 490,
    "start_time": "2023-01-28T09:37:56.764Z"
   },
   {
    "duration": 503,
    "start_time": "2023-01-28T09:37:58.072Z"
   },
   {
    "duration": 526,
    "start_time": "2023-01-28T09:37:59.310Z"
   },
   {
    "duration": 504,
    "start_time": "2023-01-28T09:38:00.605Z"
   },
   {
    "duration": 510,
    "start_time": "2023-01-28T09:38:01.909Z"
   },
   {
    "duration": 9,
    "start_time": "2023-01-28T09:59:56.485Z"
   },
   {
    "duration": 11,
    "start_time": "2023-01-28T10:03:57.330Z"
   },
   {
    "duration": 9,
    "start_time": "2023-01-28T10:04:28.730Z"
   },
   {
    "duration": 10,
    "start_time": "2023-01-28T10:04:55.938Z"
   },
   {
    "duration": 10,
    "start_time": "2023-01-28T10:04:58.833Z"
   },
   {
    "duration": 5,
    "start_time": "2023-01-28T10:04:59.859Z"
   },
   {
    "duration": 9,
    "start_time": "2023-01-28T10:05:12.342Z"
   },
   {
    "duration": 5,
    "start_time": "2023-01-28T10:05:18.786Z"
   },
   {
    "duration": 5,
    "start_time": "2023-01-28T10:05:20.151Z"
   },
   {
    "duration": 9,
    "start_time": "2023-01-28T10:10:45.455Z"
   },
   {
    "duration": 9,
    "start_time": "2023-01-28T10:10:47.840Z"
   },
   {
    "duration": 4,
    "start_time": "2023-01-28T10:10:49.879Z"
   },
   {
    "duration": 4,
    "start_time": "2023-01-28T10:14:21.243Z"
   },
   {
    "duration": 6,
    "start_time": "2023-01-28T10:15:10.541Z"
   },
   {
    "duration": 6,
    "start_time": "2023-01-28T10:15:35.745Z"
   },
   {
    "duration": 4,
    "start_time": "2023-01-28T10:15:48.306Z"
   },
   {
    "duration": 7,
    "start_time": "2023-01-28T10:15:50.375Z"
   },
   {
    "duration": 5,
    "start_time": "2023-01-28T10:15:52.871Z"
   },
   {
    "duration": 8,
    "start_time": "2023-01-28T10:15:53.642Z"
   },
   {
    "duration": 8,
    "start_time": "2023-01-28T10:15:54.597Z"
   },
   {
    "duration": 7,
    "start_time": "2023-01-28T10:15:55.280Z"
   },
   {
    "duration": 7,
    "start_time": "2023-01-28T10:15:55.915Z"
   },
   {
    "duration": 8,
    "start_time": "2023-01-28T10:15:56.520Z"
   },
   {
    "duration": 8,
    "start_time": "2023-01-28T10:15:57.378Z"
   },
   {
    "duration": 10,
    "start_time": "2023-01-28T10:16:43.469Z"
   },
   {
    "duration": 5,
    "start_time": "2023-01-28T10:16:51.895Z"
   },
   {
    "duration": 5,
    "start_time": "2023-01-28T10:17:12.777Z"
   },
   {
    "duration": 5,
    "start_time": "2023-01-28T10:17:13.678Z"
   },
   {
    "duration": 3,
    "start_time": "2023-01-28T10:17:44.849Z"
   },
   {
    "duration": 9,
    "start_time": "2023-01-28T10:17:45.717Z"
   },
   {
    "duration": 3,
    "start_time": "2023-01-28T10:27:28.244Z"
   },
   {
    "duration": 4,
    "start_time": "2023-01-28T10:34:30.130Z"
   },
   {
    "duration": 948,
    "start_time": "2023-01-28T10:34:40.422Z"
   },
   {
    "duration": 4,
    "start_time": "2023-01-28T10:36:32.670Z"
   },
   {
    "duration": 15,
    "start_time": "2023-01-28T10:36:34.260Z"
   },
   {
    "duration": 4,
    "start_time": "2023-01-28T10:36:54.101Z"
   },
   {
    "duration": 1687,
    "start_time": "2023-01-28T10:36:56.136Z"
   },
   {
    "duration": 5,
    "start_time": "2023-01-28T10:37:06.266Z"
   },
   {
    "duration": 2007,
    "start_time": "2023-01-28T10:37:07.650Z"
   },
   {
    "duration": 5,
    "start_time": "2023-01-28T10:40:04.186Z"
   },
   {
    "duration": 1469,
    "start_time": "2023-01-28T10:55:37.274Z"
   },
   {
    "duration": 3,
    "start_time": "2023-01-28T10:55:38.745Z"
   },
   {
    "duration": 396,
    "start_time": "2023-01-28T10:55:38.749Z"
   },
   {
    "duration": 18,
    "start_time": "2023-01-28T10:55:39.147Z"
   },
   {
    "duration": 10,
    "start_time": "2023-01-28T10:55:39.167Z"
   },
   {
    "duration": 13,
    "start_time": "2023-01-28T10:55:39.178Z"
   },
   {
    "duration": 39,
    "start_time": "2023-01-28T10:55:39.192Z"
   },
   {
    "duration": 69,
    "start_time": "2023-01-28T10:55:39.254Z"
   },
   {
    "duration": 59,
    "start_time": "2023-01-28T10:55:39.324Z"
   },
   {
    "duration": 42,
    "start_time": "2023-01-28T10:55:39.386Z"
   },
   {
    "duration": 31,
    "start_time": "2023-01-28T10:55:39.430Z"
   },
   {
    "duration": 26,
    "start_time": "2023-01-28T10:55:39.463Z"
   },
   {
    "duration": 33,
    "start_time": "2023-01-28T10:55:39.490Z"
   },
   {
    "duration": 43,
    "start_time": "2023-01-28T10:55:39.525Z"
   },
   {
    "duration": 22,
    "start_time": "2023-01-28T10:55:39.570Z"
   },
   {
    "duration": 34,
    "start_time": "2023-01-28T10:55:39.594Z"
   },
   {
    "duration": 33,
    "start_time": "2023-01-28T10:55:39.630Z"
   },
   {
    "duration": 20,
    "start_time": "2023-01-28T10:55:39.665Z"
   },
   {
    "duration": 28,
    "start_time": "2023-01-28T10:55:39.687Z"
   },
   {
    "duration": 40,
    "start_time": "2023-01-28T10:55:39.717Z"
   },
   {
    "duration": 12,
    "start_time": "2023-01-28T10:55:39.760Z"
   },
   {
    "duration": 50,
    "start_time": "2023-01-28T10:55:39.774Z"
   },
   {
    "duration": 54,
    "start_time": "2023-01-28T10:55:39.826Z"
   },
   {
    "duration": 35,
    "start_time": "2023-01-28T10:55:39.882Z"
   },
   {
    "duration": 88,
    "start_time": "2023-01-28T10:55:39.919Z"
   },
   {
    "duration": 360,
    "start_time": "2023-01-28T10:55:40.008Z"
   },
   {
    "duration": 58,
    "start_time": "2023-01-28T10:55:40.370Z"
   },
   {
    "duration": 335,
    "start_time": "2023-01-28T10:55:40.432Z"
   },
   {
    "duration": 63,
    "start_time": "2023-01-28T10:55:40.769Z"
   },
   {
    "duration": 343,
    "start_time": "2023-01-28T10:55:40.853Z"
   },
   {
    "duration": 376,
    "start_time": "2023-01-28T10:55:41.197Z"
   },
   {
    "duration": 451,
    "start_time": "2023-01-28T10:55:41.575Z"
   },
   {
    "duration": 345,
    "start_time": "2023-01-28T10:55:42.028Z"
   },
   {
    "duration": 4,
    "start_time": "2023-01-28T10:55:42.375Z"
   },
   {
    "duration": 10,
    "start_time": "2023-01-28T10:55:42.381Z"
   },
   {
    "duration": 9,
    "start_time": "2023-01-28T10:55:42.392Z"
   },
   {
    "duration": 17,
    "start_time": "2023-01-28T10:55:42.402Z"
   },
   {
    "duration": 5,
    "start_time": "2023-01-28T10:55:42.420Z"
   },
   {
    "duration": 31,
    "start_time": "2023-01-28T10:55:42.426Z"
   },
   {
    "duration": 7,
    "start_time": "2023-01-28T10:55:42.459Z"
   },
   {
    "duration": 17,
    "start_time": "2023-01-28T10:55:42.468Z"
   },
   {
    "duration": 70,
    "start_time": "2023-01-28T10:55:42.487Z"
   },
   {
    "duration": 96,
    "start_time": "2023-01-28T10:55:42.560Z"
   },
   {
    "duration": 13,
    "start_time": "2023-01-28T10:55:42.658Z"
   },
   {
    "duration": 3,
    "start_time": "2023-01-28T10:55:42.673Z"
   },
   {
    "duration": 13,
    "start_time": "2023-01-28T10:55:42.678Z"
   },
   {
    "duration": 62,
    "start_time": "2023-01-28T10:55:42.693Z"
   },
   {
    "duration": 96,
    "start_time": "2023-01-28T10:55:42.759Z"
   },
   {
    "duration": 8,
    "start_time": "2023-01-28T10:55:42.857Z"
   },
   {
    "duration": 17,
    "start_time": "2023-01-28T10:55:42.867Z"
   },
   {
    "duration": 5,
    "start_time": "2023-01-28T10:55:42.886Z"
   },
   {
    "duration": 18,
    "start_time": "2023-01-28T10:55:42.893Z"
   },
   {
    "duration": 44,
    "start_time": "2023-01-28T10:55:42.913Z"
   },
   {
    "duration": 10,
    "start_time": "2023-01-28T10:55:42.960Z"
   },
   {
    "duration": 84,
    "start_time": "2023-01-28T10:55:42.973Z"
   },
   {
    "duration": 108,
    "start_time": "2023-01-28T10:55:43.059Z"
   },
   {
    "duration": 7,
    "start_time": "2023-01-28T10:55:43.169Z"
   },
   {
    "duration": 12,
    "start_time": "2023-01-28T10:55:43.178Z"
   },
   {
    "duration": 6,
    "start_time": "2023-01-28T10:55:43.192Z"
   },
   {
    "duration": 7,
    "start_time": "2023-01-28T10:55:43.200Z"
   },
   {
    "duration": 5,
    "start_time": "2023-01-28T10:55:43.209Z"
   },
   {
    "duration": 7,
    "start_time": "2023-01-28T10:55:43.216Z"
   },
   {
    "duration": 6,
    "start_time": "2023-01-28T10:55:43.225Z"
   },
   {
    "duration": 22,
    "start_time": "2023-01-28T10:55:43.232Z"
   },
   {
    "duration": 10,
    "start_time": "2023-01-28T10:55:43.256Z"
   },
   {
    "duration": 3,
    "start_time": "2023-01-28T10:55:43.268Z"
   },
   {
    "duration": 587,
    "start_time": "2023-01-28T10:55:43.273Z"
   },
   {
    "duration": 2,
    "start_time": "2023-01-28T10:55:43.862Z"
   },
   {
    "duration": 5,
    "start_time": "2023-01-28T10:55:43.866Z"
   },
   {
    "duration": 5,
    "start_time": "2023-01-28T10:55:43.873Z"
   },
   {
    "duration": 8,
    "start_time": "2023-01-28T10:55:43.880Z"
   },
   {
    "duration": 4,
    "start_time": "2023-01-28T10:55:43.890Z"
   },
   {
    "duration": 7,
    "start_time": "2023-01-28T10:55:43.896Z"
   },
   {
    "duration": 5,
    "start_time": "2023-01-28T10:55:43.904Z"
   },
   {
    "duration": 565,
    "start_time": "2023-01-28T10:55:43.910Z"
   },
   {
    "duration": 4,
    "start_time": "2023-01-28T10:55:44.476Z"
   },
   {
    "duration": 6,
    "start_time": "2023-01-28T10:55:44.481Z"
   },
   {
    "duration": 10,
    "start_time": "2023-01-28T10:55:44.489Z"
   },
   {
    "duration": 6,
    "start_time": "2023-01-28T10:55:44.501Z"
   },
   {
    "duration": 7,
    "start_time": "2023-01-28T10:55:44.509Z"
   },
   {
    "duration": 6,
    "start_time": "2023-01-28T10:55:44.518Z"
   },
   {
    "duration": 525,
    "start_time": "2023-01-28T10:55:44.553Z"
   },
   {
    "duration": 4,
    "start_time": "2023-01-28T10:55:45.080Z"
   },
   {
    "duration": 27,
    "start_time": "2023-01-28T10:55:45.085Z"
   },
   {
    "duration": 21,
    "start_time": "2023-01-28T10:55:45.114Z"
   },
   {
    "duration": 9,
    "start_time": "2023-01-28T10:55:45.137Z"
   },
   {
    "duration": 8,
    "start_time": "2023-01-28T10:55:45.148Z"
   },
   {
    "duration": 9,
    "start_time": "2023-01-28T10:55:45.158Z"
   },
   {
    "duration": 14,
    "start_time": "2023-01-28T10:55:45.169Z"
   },
   {
    "duration": 9,
    "start_time": "2023-01-28T10:55:45.185Z"
   },
   {
    "duration": 1386,
    "start_time": "2023-01-28T10:55:57.821Z"
   },
   {
    "duration": 3,
    "start_time": "2023-01-28T10:55:59.209Z"
   },
   {
    "duration": 370,
    "start_time": "2023-01-28T10:55:59.213Z"
   },
   {
    "duration": 15,
    "start_time": "2023-01-28T10:55:59.585Z"
   },
   {
    "duration": 15,
    "start_time": "2023-01-28T10:55:59.602Z"
   },
   {
    "duration": 10,
    "start_time": "2023-01-28T10:55:59.619Z"
   },
   {
    "duration": 59,
    "start_time": "2023-01-28T10:55:59.630Z"
   },
   {
    "duration": 46,
    "start_time": "2023-01-28T10:55:59.691Z"
   },
   {
    "duration": 57,
    "start_time": "2023-01-28T10:55:59.753Z"
   },
   {
    "duration": 70,
    "start_time": "2023-01-28T10:55:59.813Z"
   },
   {
    "duration": 24,
    "start_time": "2023-01-28T10:55:59.886Z"
   },
   {
    "duration": 45,
    "start_time": "2023-01-28T10:55:59.912Z"
   },
   {
    "duration": 39,
    "start_time": "2023-01-28T10:55:59.959Z"
   },
   {
    "duration": 24,
    "start_time": "2023-01-28T10:56:00.000Z"
   },
   {
    "duration": 49,
    "start_time": "2023-01-28T10:56:00.026Z"
   },
   {
    "duration": 68,
    "start_time": "2023-01-28T10:56:00.077Z"
   },
   {
    "duration": 13,
    "start_time": "2023-01-28T10:56:00.147Z"
   },
   {
    "duration": 47,
    "start_time": "2023-01-28T10:56:00.161Z"
   },
   {
    "duration": 49,
    "start_time": "2023-01-28T10:56:00.209Z"
   },
   {
    "duration": 23,
    "start_time": "2023-01-28T10:56:00.260Z"
   },
   {
    "duration": 11,
    "start_time": "2023-01-28T10:56:00.285Z"
   },
   {
    "duration": 64,
    "start_time": "2023-01-28T10:56:00.298Z"
   },
   {
    "duration": 36,
    "start_time": "2023-01-28T10:56:00.364Z"
   },
   {
    "duration": 32,
    "start_time": "2023-01-28T10:56:00.402Z"
   },
   {
    "duration": 75,
    "start_time": "2023-01-28T10:56:00.436Z"
   },
   {
    "duration": 369,
    "start_time": "2023-01-28T10:56:00.513Z"
   },
   {
    "duration": 72,
    "start_time": "2023-01-28T10:56:00.883Z"
   },
   {
    "duration": 336,
    "start_time": "2023-01-28T10:56:00.960Z"
   },
   {
    "duration": 75,
    "start_time": "2023-01-28T10:56:01.297Z"
   },
   {
    "duration": 321,
    "start_time": "2023-01-28T10:56:01.373Z"
   },
   {
    "duration": 327,
    "start_time": "2023-01-28T10:56:01.696Z"
   },
   {
    "duration": 438,
    "start_time": "2023-01-28T10:56:02.025Z"
   },
   {
    "duration": 353,
    "start_time": "2023-01-28T10:56:02.465Z"
   },
   {
    "duration": 5,
    "start_time": "2023-01-28T10:56:02.820Z"
   },
   {
    "duration": 7,
    "start_time": "2023-01-28T10:56:02.827Z"
   },
   {
    "duration": 20,
    "start_time": "2023-01-28T10:56:02.836Z"
   },
   {
    "duration": 15,
    "start_time": "2023-01-28T10:56:02.858Z"
   },
   {
    "duration": 4,
    "start_time": "2023-01-28T10:56:02.875Z"
   },
   {
    "duration": 21,
    "start_time": "2023-01-28T10:56:02.880Z"
   },
   {
    "duration": 7,
    "start_time": "2023-01-28T10:56:02.904Z"
   },
   {
    "duration": 145,
    "start_time": "2023-01-28T10:56:02.913Z"
   },
   {
    "duration": 7,
    "start_time": "2023-01-28T10:56:03.060Z"
   },
   {
    "duration": 10,
    "start_time": "2023-01-28T10:56:03.069Z"
   },
   {
    "duration": 14,
    "start_time": "2023-01-28T10:56:03.081Z"
   },
   {
    "duration": 4,
    "start_time": "2023-01-28T10:56:03.097Z"
   },
   {
    "duration": 60,
    "start_time": "2023-01-28T10:56:03.103Z"
   },
   {
    "duration": 18,
    "start_time": "2023-01-28T10:56:03.165Z"
   },
   {
    "duration": 74,
    "start_time": "2023-01-28T10:56:03.185Z"
   },
   {
    "duration": 101,
    "start_time": "2023-01-28T10:56:03.262Z"
   },
   {
    "duration": 13,
    "start_time": "2023-01-28T10:56:03.365Z"
   },
   {
    "duration": 3,
    "start_time": "2023-01-28T10:56:03.380Z"
   },
   {
    "duration": 21,
    "start_time": "2023-01-28T10:56:03.385Z"
   },
   {
    "duration": 13,
    "start_time": "2023-01-28T10:56:03.407Z"
   },
   {
    "duration": 98,
    "start_time": "2023-01-28T10:56:03.455Z"
   },
   {
    "duration": 6,
    "start_time": "2023-01-28T10:56:03.556Z"
   },
   {
    "duration": 7,
    "start_time": "2023-01-28T10:56:03.564Z"
   },
   {
    "duration": 11,
    "start_time": "2023-01-28T10:56:03.573Z"
   },
   {
    "duration": 6,
    "start_time": "2023-01-28T10:56:03.586Z"
   },
   {
    "duration": 6,
    "start_time": "2023-01-28T10:56:03.594Z"
   },
   {
    "duration": 9,
    "start_time": "2023-01-28T10:56:03.602Z"
   },
   {
    "duration": 6,
    "start_time": "2023-01-28T10:56:03.613Z"
   },
   {
    "duration": 14,
    "start_time": "2023-01-28T10:56:03.620Z"
   },
   {
    "duration": 4,
    "start_time": "2023-01-28T10:56:03.654Z"
   },
   {
    "duration": 13,
    "start_time": "2023-01-28T10:56:03.660Z"
   },
   {
    "duration": 26,
    "start_time": "2023-01-28T10:56:03.676Z"
   },
   {
    "duration": 22,
    "start_time": "2023-01-28T10:56:03.705Z"
   },
   {
    "duration": 611,
    "start_time": "2023-01-28T10:56:03.729Z"
   },
   {
    "duration": 3,
    "start_time": "2023-01-28T10:56:04.342Z"
   },
   {
    "duration": 12,
    "start_time": "2023-01-28T10:56:04.353Z"
   },
   {
    "duration": 9,
    "start_time": "2023-01-28T10:56:04.366Z"
   },
   {
    "duration": 19,
    "start_time": "2023-01-28T10:56:04.377Z"
   },
   {
    "duration": 10,
    "start_time": "2023-01-28T10:56:04.397Z"
   },
   {
    "duration": 13,
    "start_time": "2023-01-28T10:56:04.409Z"
   },
   {
    "duration": 11,
    "start_time": "2023-01-28T10:56:04.424Z"
   },
   {
    "duration": 491,
    "start_time": "2023-01-28T10:56:04.437Z"
   },
   {
    "duration": 3,
    "start_time": "2023-01-28T10:56:04.930Z"
   },
   {
    "duration": 7,
    "start_time": "2023-01-28T10:56:04.935Z"
   },
   {
    "duration": 6,
    "start_time": "2023-01-28T10:56:04.953Z"
   },
   {
    "duration": 6,
    "start_time": "2023-01-28T10:56:04.961Z"
   },
   {
    "duration": 10,
    "start_time": "2023-01-28T10:56:04.968Z"
   },
   {
    "duration": 18,
    "start_time": "2023-01-28T10:56:04.980Z"
   },
   {
    "duration": 515,
    "start_time": "2023-01-28T10:56:05.005Z"
   },
   {
    "duration": 3,
    "start_time": "2023-01-28T10:56:05.522Z"
   },
   {
    "duration": 13,
    "start_time": "2023-01-28T10:56:05.528Z"
   },
   {
    "duration": 12,
    "start_time": "2023-01-28T10:56:05.543Z"
   },
   {
    "duration": 6,
    "start_time": "2023-01-28T10:56:05.557Z"
   },
   {
    "duration": 10,
    "start_time": "2023-01-28T10:56:05.565Z"
   },
   {
    "duration": 8,
    "start_time": "2023-01-28T10:56:05.577Z"
   },
   {
    "duration": 9,
    "start_time": "2023-01-28T10:56:05.587Z"
   },
   {
    "duration": 6,
    "start_time": "2023-01-28T10:56:05.600Z"
   },
   {
    "duration": 1528,
    "start_time": "2023-01-28T10:56:10.593Z"
   },
   {
    "duration": 4,
    "start_time": "2023-01-28T10:56:12.123Z"
   },
   {
    "duration": 379,
    "start_time": "2023-01-28T10:56:12.129Z"
   },
   {
    "duration": 15,
    "start_time": "2023-01-28T10:56:12.510Z"
   },
   {
    "duration": 9,
    "start_time": "2023-01-28T10:56:12.528Z"
   },
   {
    "duration": 22,
    "start_time": "2023-01-28T10:56:12.539Z"
   },
   {
    "duration": 38,
    "start_time": "2023-01-28T10:56:12.562Z"
   },
   {
    "duration": 72,
    "start_time": "2023-01-28T10:56:12.602Z"
   },
   {
    "duration": 43,
    "start_time": "2023-01-28T10:56:12.676Z"
   },
   {
    "duration": 64,
    "start_time": "2023-01-28T10:56:12.722Z"
   },
   {
    "duration": 29,
    "start_time": "2023-01-28T10:56:12.788Z"
   },
   {
    "duration": 55,
    "start_time": "2023-01-28T10:56:12.819Z"
   },
   {
    "duration": 26,
    "start_time": "2023-01-28T10:56:12.876Z"
   },
   {
    "duration": 16,
    "start_time": "2023-01-28T10:56:12.905Z"
   },
   {
    "duration": 34,
    "start_time": "2023-01-28T10:56:12.922Z"
   },
   {
    "duration": 26,
    "start_time": "2023-01-28T10:56:12.958Z"
   },
   {
    "duration": 21,
    "start_time": "2023-01-28T10:56:12.986Z"
   },
   {
    "duration": 18,
    "start_time": "2023-01-28T10:56:13.009Z"
   },
   {
    "duration": 52,
    "start_time": "2023-01-28T10:56:13.028Z"
   },
   {
    "duration": 15,
    "start_time": "2023-01-28T10:56:13.082Z"
   },
   {
    "duration": 14,
    "start_time": "2023-01-28T10:56:13.099Z"
   },
   {
    "duration": 66,
    "start_time": "2023-01-28T10:56:13.115Z"
   },
   {
    "duration": 47,
    "start_time": "2023-01-28T10:56:13.183Z"
   },
   {
    "duration": 49,
    "start_time": "2023-01-28T10:56:13.232Z"
   },
   {
    "duration": 80,
    "start_time": "2023-01-28T10:56:13.282Z"
   },
   {
    "duration": 337,
    "start_time": "2023-01-28T10:56:13.364Z"
   },
   {
    "duration": 74,
    "start_time": "2023-01-28T10:56:13.702Z"
   },
   {
    "duration": 303,
    "start_time": "2023-01-28T10:56:13.780Z"
   },
   {
    "duration": 70,
    "start_time": "2023-01-28T10:56:14.085Z"
   },
   {
    "duration": 364,
    "start_time": "2023-01-28T10:56:14.157Z"
   },
   {
    "duration": 341,
    "start_time": "2023-01-28T10:56:14.523Z"
   },
   {
    "duration": 433,
    "start_time": "2023-01-28T10:56:14.866Z"
   },
   {
    "duration": 358,
    "start_time": "2023-01-28T10:56:15.301Z"
   },
   {
    "duration": 5,
    "start_time": "2023-01-28T10:56:15.661Z"
   },
   {
    "duration": 12,
    "start_time": "2023-01-28T10:56:15.668Z"
   },
   {
    "duration": 11,
    "start_time": "2023-01-28T10:56:15.682Z"
   },
   {
    "duration": 17,
    "start_time": "2023-01-28T10:56:15.695Z"
   },
   {
    "duration": 5,
    "start_time": "2023-01-28T10:56:15.714Z"
   },
   {
    "duration": 38,
    "start_time": "2023-01-28T10:56:15.720Z"
   },
   {
    "duration": 10,
    "start_time": "2023-01-28T10:56:15.760Z"
   },
   {
    "duration": 25,
    "start_time": "2023-01-28T10:56:15.773Z"
   },
   {
    "duration": 100,
    "start_time": "2023-01-28T10:56:15.854Z"
   },
   {
    "duration": 6,
    "start_time": "2023-01-28T10:56:15.957Z"
   },
   {
    "duration": 20,
    "start_time": "2023-01-28T10:56:15.965Z"
   },
   {
    "duration": 4,
    "start_time": "2023-01-28T10:56:15.987Z"
   },
   {
    "duration": 21,
    "start_time": "2023-01-28T10:56:15.993Z"
   },
   {
    "duration": 48,
    "start_time": "2023-01-28T10:56:16.015Z"
   },
   {
    "duration": 97,
    "start_time": "2023-01-28T10:56:16.066Z"
   },
   {
    "duration": 9,
    "start_time": "2023-01-28T10:56:16.165Z"
   },
   {
    "duration": 16,
    "start_time": "2023-01-28T10:56:16.176Z"
   },
   {
    "duration": 4,
    "start_time": "2023-01-28T10:56:16.254Z"
   },
   {
    "duration": 16,
    "start_time": "2023-01-28T10:56:16.259Z"
   },
   {
    "duration": 73,
    "start_time": "2023-01-28T10:56:16.281Z"
   },
   {
    "duration": 97,
    "start_time": "2023-01-28T10:56:16.358Z"
   },
   {
    "duration": 5,
    "start_time": "2023-01-28T10:56:16.457Z"
   },
   {
    "duration": 7,
    "start_time": "2023-01-28T10:56:16.463Z"
   },
   {
    "duration": 30,
    "start_time": "2023-01-28T10:56:16.472Z"
   },
   {
    "duration": 7,
    "start_time": "2023-01-28T10:56:16.505Z"
   },
   {
    "duration": 8,
    "start_time": "2023-01-28T10:56:16.514Z"
   },
   {
    "duration": 7,
    "start_time": "2023-01-28T10:56:16.525Z"
   },
   {
    "duration": 6,
    "start_time": "2023-01-28T10:56:16.534Z"
   },
   {
    "duration": 15,
    "start_time": "2023-01-28T10:56:16.542Z"
   },
   {
    "duration": 14,
    "start_time": "2023-01-28T10:56:16.559Z"
   },
   {
    "duration": 6,
    "start_time": "2023-01-28T10:56:16.575Z"
   },
   {
    "duration": 8,
    "start_time": "2023-01-28T10:56:16.583Z"
   },
   {
    "duration": 6,
    "start_time": "2023-01-28T10:56:16.593Z"
   },
   {
    "duration": 493,
    "start_time": "2023-01-28T10:56:16.601Z"
   },
   {
    "duration": 3,
    "start_time": "2023-01-28T10:56:17.096Z"
   },
   {
    "duration": 11,
    "start_time": "2023-01-28T10:56:17.101Z"
   },
   {
    "duration": 15,
    "start_time": "2023-01-28T10:56:17.113Z"
   },
   {
    "duration": 15,
    "start_time": "2023-01-28T10:56:17.130Z"
   },
   {
    "duration": 9,
    "start_time": "2023-01-28T10:56:17.146Z"
   },
   {
    "duration": 17,
    "start_time": "2023-01-28T10:56:17.156Z"
   },
   {
    "duration": 6,
    "start_time": "2023-01-28T10:56:17.175Z"
   },
   {
    "duration": 477,
    "start_time": "2023-01-28T10:56:17.183Z"
   },
   {
    "duration": 3,
    "start_time": "2023-01-28T10:56:17.662Z"
   },
   {
    "duration": 7,
    "start_time": "2023-01-28T10:56:17.667Z"
   },
   {
    "duration": 10,
    "start_time": "2023-01-28T10:56:17.675Z"
   },
   {
    "duration": 6,
    "start_time": "2023-01-28T10:56:17.687Z"
   },
   {
    "duration": 8,
    "start_time": "2023-01-28T10:56:17.694Z"
   },
   {
    "duration": 20,
    "start_time": "2023-01-28T10:56:17.711Z"
   },
   {
    "duration": 573,
    "start_time": "2023-01-28T10:56:17.739Z"
   },
   {
    "duration": 4,
    "start_time": "2023-01-28T10:56:18.313Z"
   },
   {
    "duration": 7,
    "start_time": "2023-01-28T10:56:18.319Z"
   },
   {
    "duration": 4,
    "start_time": "2023-01-28T10:56:18.328Z"
   },
   {
    "duration": 22,
    "start_time": "2023-01-28T10:56:18.333Z"
   },
   {
    "duration": 10,
    "start_time": "2023-01-28T10:56:18.357Z"
   },
   {
    "duration": 7,
    "start_time": "2023-01-28T10:56:18.369Z"
   },
   {
    "duration": 16,
    "start_time": "2023-01-28T10:56:18.378Z"
   },
   {
    "duration": 5,
    "start_time": "2023-01-28T10:56:18.395Z"
   },
   {
    "duration": 973,
    "start_time": "2023-01-28T10:59:54.758Z"
   },
   {
    "duration": 15,
    "start_time": "2023-01-28T11:00:00.460Z"
   },
   {
    "duration": 4,
    "start_time": "2023-01-28T11:02:46.381Z"
   },
   {
    "duration": 3,
    "start_time": "2023-01-28T11:05:05.929Z"
   },
   {
    "duration": 4195,
    "start_time": "2023-01-28T11:05:10.078Z"
   },
   {
    "duration": 1354,
    "start_time": "2023-01-28T11:05:45.826Z"
   },
   {
    "duration": 13,
    "start_time": "2023-01-28T11:05:48.261Z"
   },
   {
    "duration": 108,
    "start_time": "2023-01-28T11:06:07.081Z"
   },
   {
    "duration": 5,
    "start_time": "2023-01-28T11:06:19.366Z"
   },
   {
    "duration": 10,
    "start_time": "2023-01-28T11:07:12.927Z"
   },
   {
    "duration": 13,
    "start_time": "2023-01-28T11:07:20.023Z"
   },
   {
    "duration": 4,
    "start_time": "2023-01-28T11:22:39.631Z"
   },
   {
    "duration": 9,
    "start_time": "2023-01-28T11:22:40.559Z"
   },
   {
    "duration": 1442,
    "start_time": "2023-01-28T11:23:03.383Z"
   },
   {
    "duration": 7,
    "start_time": "2023-01-28T11:23:06.146Z"
   },
   {
    "duration": 9,
    "start_time": "2023-01-28T11:23:11.456Z"
   },
   {
    "duration": 5,
    "start_time": "2023-01-28T11:23:12.148Z"
   },
   {
    "duration": 5,
    "start_time": "2023-01-28T11:23:12.853Z"
   },
   {
    "duration": 12,
    "start_time": "2023-01-28T11:23:14.244Z"
   },
   {
    "duration": 4,
    "start_time": "2023-01-28T11:23:15.063Z"
   },
   {
    "duration": 51,
    "start_time": "2023-01-28T11:24:29.820Z"
   },
   {
    "duration": 56,
    "start_time": "2023-01-28T11:24:48.171Z"
   },
   {
    "duration": 4,
    "start_time": "2023-01-28T11:25:04.451Z"
   },
   {
    "duration": 45,
    "start_time": "2023-01-28T11:25:05.750Z"
   },
   {
    "duration": 5,
    "start_time": "2023-01-28T11:25:12.515Z"
   },
   {
    "duration": 6,
    "start_time": "2023-01-28T11:25:24.136Z"
   },
   {
    "duration": 1822,
    "start_time": "2023-01-28T11:25:50.651Z"
   },
   {
    "duration": 21,
    "start_time": "2023-01-28T11:26:01.578Z"
   },
   {
    "duration": 15,
    "start_time": "2023-01-28T11:26:18.953Z"
   },
   {
    "duration": 8,
    "start_time": "2023-01-28T11:26:23.074Z"
   },
   {
    "duration": 10,
    "start_time": "2023-01-28T11:26:23.860Z"
   },
   {
    "duration": 8,
    "start_time": "2023-01-28T11:28:24.508Z"
   },
   {
    "duration": 11,
    "start_time": "2023-01-28T11:39:58.615Z"
   },
   {
    "duration": 6,
    "start_time": "2023-01-28T11:40:22.111Z"
   },
   {
    "duration": 11,
    "start_time": "2023-01-28T11:42:10.627Z"
   },
   {
    "duration": 10,
    "start_time": "2023-01-28T11:42:31.571Z"
   },
   {
    "duration": 13,
    "start_time": "2023-01-28T11:42:32.663Z"
   },
   {
    "duration": 9,
    "start_time": "2023-01-28T11:42:33.124Z"
   },
   {
    "duration": 5,
    "start_time": "2023-01-28T11:42:48.514Z"
   },
   {
    "duration": 1322,
    "start_time": "2023-01-28T11:42:52.111Z"
   },
   {
    "duration": 1355,
    "start_time": "2023-01-28T11:43:13.482Z"
   },
   {
    "duration": 1439,
    "start_time": "2023-01-28T11:43:24.169Z"
   },
   {
    "duration": 1415,
    "start_time": "2023-01-28T11:45:21.154Z"
   },
   {
    "duration": 3,
    "start_time": "2023-01-28T11:45:22.571Z"
   },
   {
    "duration": 394,
    "start_time": "2023-01-28T11:45:22.575Z"
   },
   {
    "duration": 12,
    "start_time": "2023-01-28T11:45:22.971Z"
   },
   {
    "duration": 8,
    "start_time": "2023-01-28T11:45:22.985Z"
   },
   {
    "duration": 20,
    "start_time": "2023-01-28T11:45:22.995Z"
   },
   {
    "duration": 69,
    "start_time": "2023-01-28T11:45:23.017Z"
   },
   {
    "duration": 46,
    "start_time": "2023-01-28T11:45:23.088Z"
   },
   {
    "duration": 75,
    "start_time": "2023-01-28T11:45:23.136Z"
   },
   {
    "duration": 60,
    "start_time": "2023-01-28T11:45:23.214Z"
   },
   {
    "duration": 17,
    "start_time": "2023-01-28T11:45:23.276Z"
   },
   {
    "duration": 22,
    "start_time": "2023-01-28T11:45:23.294Z"
   },
   {
    "duration": 49,
    "start_time": "2023-01-28T11:45:23.318Z"
   },
   {
    "duration": 15,
    "start_time": "2023-01-28T11:45:23.369Z"
   },
   {
    "duration": 18,
    "start_time": "2023-01-28T11:45:23.386Z"
   },
   {
    "duration": 33,
    "start_time": "2023-01-28T11:45:23.405Z"
   },
   {
    "duration": 20,
    "start_time": "2023-01-28T11:45:23.460Z"
   },
   {
    "duration": 25,
    "start_time": "2023-01-28T11:45:23.482Z"
   },
   {
    "duration": 45,
    "start_time": "2023-01-28T11:45:23.509Z"
   },
   {
    "duration": 18,
    "start_time": "2023-01-28T11:45:23.561Z"
   },
   {
    "duration": 12,
    "start_time": "2023-01-28T11:45:23.581Z"
   },
   {
    "duration": 40,
    "start_time": "2023-01-28T11:45:23.594Z"
   },
   {
    "duration": 46,
    "start_time": "2023-01-28T11:45:23.636Z"
   },
   {
    "duration": 34,
    "start_time": "2023-01-28T11:45:23.684Z"
   },
   {
    "duration": 88,
    "start_time": "2023-01-28T11:45:23.719Z"
   },
   {
    "duration": 364,
    "start_time": "2023-01-28T11:45:23.809Z"
   },
   {
    "duration": 60,
    "start_time": "2023-01-28T11:45:24.174Z"
   },
   {
    "duration": 345,
    "start_time": "2023-01-28T11:45:24.238Z"
   },
   {
    "duration": 85,
    "start_time": "2023-01-28T11:45:24.585Z"
   },
   {
    "duration": 315,
    "start_time": "2023-01-28T11:45:24.672Z"
   },
   {
    "duration": 373,
    "start_time": "2023-01-28T11:45:24.989Z"
   },
   {
    "duration": 446,
    "start_time": "2023-01-28T11:45:25.364Z"
   },
   {
    "duration": 361,
    "start_time": "2023-01-28T11:45:25.812Z"
   },
   {
    "duration": 5,
    "start_time": "2023-01-28T11:45:26.175Z"
   },
   {
    "duration": 6,
    "start_time": "2023-01-28T11:45:26.181Z"
   },
   {
    "duration": 12,
    "start_time": "2023-01-28T11:45:26.189Z"
   },
   {
    "duration": 20,
    "start_time": "2023-01-28T11:45:26.202Z"
   },
   {
    "duration": 3,
    "start_time": "2023-01-28T11:45:26.224Z"
   },
   {
    "duration": 15,
    "start_time": "2023-01-28T11:45:26.229Z"
   },
   {
    "duration": 23,
    "start_time": "2023-01-28T11:45:26.246Z"
   },
   {
    "duration": 29,
    "start_time": "2023-01-28T11:45:26.271Z"
   },
   {
    "duration": 110,
    "start_time": "2023-01-28T11:45:26.353Z"
   },
   {
    "duration": 15,
    "start_time": "2023-01-28T11:45:26.465Z"
   },
   {
    "duration": 16,
    "start_time": "2023-01-28T11:45:26.482Z"
   },
   {
    "duration": 3,
    "start_time": "2023-01-28T11:45:26.500Z"
   },
   {
    "duration": 13,
    "start_time": "2023-01-28T11:45:26.506Z"
   },
   {
    "duration": 138,
    "start_time": "2023-01-28T11:45:26.520Z"
   },
   {
    "duration": 13,
    "start_time": "2023-01-28T11:45:26.660Z"
   },
   {
    "duration": 18,
    "start_time": "2023-01-28T11:45:26.676Z"
   },
   {
    "duration": 20,
    "start_time": "2023-01-28T11:45:26.753Z"
   },
   {
    "duration": 14,
    "start_time": "2023-01-28T11:45:26.774Z"
   },
   {
    "duration": 17,
    "start_time": "2023-01-28T11:45:26.790Z"
   },
   {
    "duration": 49,
    "start_time": "2023-01-28T11:45:26.809Z"
   },
   {
    "duration": 104,
    "start_time": "2023-01-28T11:45:26.860Z"
   },
   {
    "duration": 20,
    "start_time": "2023-01-28T11:45:26.968Z"
   },
   {
    "duration": 6,
    "start_time": "2023-01-28T11:45:26.990Z"
   },
   {
    "duration": 13,
    "start_time": "2023-01-28T11:45:26.998Z"
   },
   {
    "duration": 43,
    "start_time": "2023-01-28T11:45:27.012Z"
   },
   {
    "duration": 7,
    "start_time": "2023-01-28T11:45:27.065Z"
   },
   {
    "duration": 8,
    "start_time": "2023-01-28T11:45:27.075Z"
   },
   {
    "duration": 9,
    "start_time": "2023-01-28T11:45:27.085Z"
   },
   {
    "duration": 8,
    "start_time": "2023-01-28T11:45:27.096Z"
   },
   {
    "duration": 6,
    "start_time": "2023-01-28T11:45:27.106Z"
   },
   {
    "duration": 5,
    "start_time": "2023-01-28T11:45:27.113Z"
   },
   {
    "duration": 5,
    "start_time": "2023-01-28T11:45:27.120Z"
   },
   {
    "duration": 679,
    "start_time": "2023-01-28T11:45:27.126Z"
   },
   {
    "duration": 3,
    "start_time": "2023-01-28T11:45:27.807Z"
   },
   {
    "duration": 8,
    "start_time": "2023-01-28T11:45:27.811Z"
   },
   {
    "duration": 6,
    "start_time": "2023-01-28T11:45:27.820Z"
   },
   {
    "duration": 7,
    "start_time": "2023-01-28T11:45:27.827Z"
   },
   {
    "duration": 27,
    "start_time": "2023-01-28T11:45:27.836Z"
   },
   {
    "duration": 5,
    "start_time": "2023-01-28T11:45:27.865Z"
   },
   {
    "duration": 4,
    "start_time": "2023-01-28T11:45:27.872Z"
   },
   {
    "duration": 522,
    "start_time": "2023-01-28T11:45:27.878Z"
   },
   {
    "duration": 3,
    "start_time": "2023-01-28T11:45:28.401Z"
   },
   {
    "duration": 6,
    "start_time": "2023-01-28T11:45:28.406Z"
   },
   {
    "duration": 37,
    "start_time": "2023-01-28T11:45:28.414Z"
   },
   {
    "duration": 39,
    "start_time": "2023-01-28T11:45:28.452Z"
   },
   {
    "duration": 10,
    "start_time": "2023-01-28T11:45:28.493Z"
   },
   {
    "duration": 19,
    "start_time": "2023-01-28T11:45:28.505Z"
   },
   {
    "duration": 515,
    "start_time": "2023-01-28T11:45:28.526Z"
   },
   {
    "duration": 10,
    "start_time": "2023-01-28T11:45:29.055Z"
   },
   {
    "duration": 11,
    "start_time": "2023-01-28T11:45:29.070Z"
   },
   {
    "duration": 7,
    "start_time": "2023-01-28T11:45:29.083Z"
   },
   {
    "duration": 18,
    "start_time": "2023-01-28T11:45:29.091Z"
   },
   {
    "duration": 28,
    "start_time": "2023-01-28T11:45:29.111Z"
   },
   {
    "duration": 15,
    "start_time": "2023-01-28T11:45:29.142Z"
   },
   {
    "duration": 34,
    "start_time": "2023-01-28T11:45:29.159Z"
   },
   {
    "duration": 9,
    "start_time": "2023-01-28T11:45:29.195Z"
   },
   {
    "duration": 15,
    "start_time": "2023-01-28T11:45:29.206Z"
   },
   {
    "duration": 4,
    "start_time": "2023-01-28T11:45:29.224Z"
   },
   {
    "duration": 1479,
    "start_time": "2023-01-28T11:45:29.230Z"
   },
   {
    "duration": 1460,
    "start_time": "2023-01-28T11:45:30.710Z"
   },
   {
    "duration": 1402,
    "start_time": "2023-01-28T11:45:32.173Z"
   },
   {
    "duration": 1515,
    "start_time": "2023-01-28T11:48:21.173Z"
   },
   {
    "duration": 3,
    "start_time": "2023-01-28T11:48:22.690Z"
   },
   {
    "duration": 428,
    "start_time": "2023-01-28T11:48:22.694Z"
   },
   {
    "duration": 13,
    "start_time": "2023-01-28T11:48:23.124Z"
   },
   {
    "duration": 31,
    "start_time": "2023-01-28T11:48:23.139Z"
   },
   {
    "duration": 11,
    "start_time": "2023-01-28T11:48:23.172Z"
   },
   {
    "duration": 40,
    "start_time": "2023-01-28T11:48:23.185Z"
   },
   {
    "duration": 60,
    "start_time": "2023-01-28T11:48:23.227Z"
   },
   {
    "duration": 43,
    "start_time": "2023-01-28T11:48:23.288Z"
   },
   {
    "duration": 64,
    "start_time": "2023-01-28T11:48:23.333Z"
   },
   {
    "duration": 18,
    "start_time": "2023-01-28T11:48:23.399Z"
   },
   {
    "duration": 39,
    "start_time": "2023-01-28T11:48:23.419Z"
   },
   {
    "duration": 34,
    "start_time": "2023-01-28T11:48:23.460Z"
   },
   {
    "duration": 18,
    "start_time": "2023-01-28T11:48:23.496Z"
   },
   {
    "duration": 42,
    "start_time": "2023-01-28T11:48:23.516Z"
   },
   {
    "duration": 57,
    "start_time": "2023-01-28T11:48:23.563Z"
   },
   {
    "duration": 17,
    "start_time": "2023-01-28T11:48:23.622Z"
   },
   {
    "duration": 30,
    "start_time": "2023-01-28T11:48:23.641Z"
   },
   {
    "duration": 38,
    "start_time": "2023-01-28T11:48:23.672Z"
   },
   {
    "duration": 14,
    "start_time": "2023-01-28T11:48:23.712Z"
   },
   {
    "duration": 13,
    "start_time": "2023-01-28T11:48:23.727Z"
   },
   {
    "duration": 59,
    "start_time": "2023-01-28T11:48:23.752Z"
   },
   {
    "duration": 33,
    "start_time": "2023-01-28T11:48:23.812Z"
   },
   {
    "duration": 39,
    "start_time": "2023-01-28T11:48:23.847Z"
   },
   {
    "duration": 76,
    "start_time": "2023-01-28T11:48:23.888Z"
   },
   {
    "duration": 331,
    "start_time": "2023-01-28T11:48:23.965Z"
   },
   {
    "duration": 72,
    "start_time": "2023-01-28T11:48:24.298Z"
   },
   {
    "duration": 317,
    "start_time": "2023-01-28T11:48:24.375Z"
   },
   {
    "duration": 76,
    "start_time": "2023-01-28T11:48:24.694Z"
   },
   {
    "duration": 315,
    "start_time": "2023-01-28T11:48:24.771Z"
   },
   {
    "duration": 336,
    "start_time": "2023-01-28T11:48:25.088Z"
   },
   {
    "duration": 446,
    "start_time": "2023-01-28T11:48:25.426Z"
   },
   {
    "duration": 367,
    "start_time": "2023-01-28T11:48:25.874Z"
   },
   {
    "duration": 24,
    "start_time": "2023-01-28T11:48:26.243Z"
   },
   {
    "duration": 39,
    "start_time": "2023-01-28T11:48:26.269Z"
   },
   {
    "duration": 12,
    "start_time": "2023-01-28T11:48:26.309Z"
   },
   {
    "duration": 36,
    "start_time": "2023-01-28T11:48:26.323Z"
   },
   {
    "duration": 10,
    "start_time": "2023-01-28T11:48:26.362Z"
   },
   {
    "duration": 24,
    "start_time": "2023-01-28T11:48:26.374Z"
   },
   {
    "duration": 21,
    "start_time": "2023-01-28T11:48:26.400Z"
   },
   {
    "duration": 23,
    "start_time": "2023-01-28T11:48:26.423Z"
   },
   {
    "duration": 134,
    "start_time": "2023-01-28T11:48:26.456Z"
   },
   {
    "duration": 20,
    "start_time": "2023-01-28T11:48:26.592Z"
   },
   {
    "duration": 23,
    "start_time": "2023-01-28T11:48:26.614Z"
   },
   {
    "duration": 53,
    "start_time": "2023-01-28T11:48:26.639Z"
   },
   {
    "duration": 31,
    "start_time": "2023-01-28T11:48:26.693Z"
   },
   {
    "duration": 130,
    "start_time": "2023-01-28T11:48:26.726Z"
   },
   {
    "duration": 116,
    "start_time": "2023-01-28T11:48:26.859Z"
   },
   {
    "duration": 8,
    "start_time": "2023-01-28T11:48:26.977Z"
   },
   {
    "duration": 17,
    "start_time": "2023-01-28T11:48:26.986Z"
   },
   {
    "duration": 3,
    "start_time": "2023-01-28T11:48:27.005Z"
   },
   {
    "duration": 49,
    "start_time": "2023-01-28T11:48:27.010Z"
   },
   {
    "duration": 22,
    "start_time": "2023-01-28T11:48:27.061Z"
   },
   {
    "duration": 78,
    "start_time": "2023-01-28T11:48:27.085Z"
   },
   {
    "duration": 98,
    "start_time": "2023-01-28T11:48:27.166Z"
   },
   {
    "duration": 7,
    "start_time": "2023-01-28T11:48:27.268Z"
   },
   {
    "duration": 10,
    "start_time": "2023-01-28T11:48:27.277Z"
   },
   {
    "duration": 8,
    "start_time": "2023-01-28T11:48:27.288Z"
   },
   {
    "duration": 7,
    "start_time": "2023-01-28T11:48:27.298Z"
   },
   {
    "duration": 10,
    "start_time": "2023-01-28T11:48:27.307Z"
   },
   {
    "duration": 9,
    "start_time": "2023-01-28T11:48:27.319Z"
   },
   {
    "duration": 8,
    "start_time": "2023-01-28T11:48:27.330Z"
   },
   {
    "duration": 23,
    "start_time": "2023-01-28T11:48:27.340Z"
   },
   {
    "duration": 26,
    "start_time": "2023-01-28T11:48:27.367Z"
   },
   {
    "duration": 9,
    "start_time": "2023-01-28T11:48:27.395Z"
   },
   {
    "duration": 607,
    "start_time": "2023-01-28T11:48:27.407Z"
   },
   {
    "duration": 3,
    "start_time": "2023-01-28T11:48:28.015Z"
   },
   {
    "duration": 11,
    "start_time": "2023-01-28T11:48:28.020Z"
   },
   {
    "duration": 21,
    "start_time": "2023-01-28T11:48:28.032Z"
   },
   {
    "duration": 20,
    "start_time": "2023-01-28T11:48:28.057Z"
   },
   {
    "duration": 14,
    "start_time": "2023-01-28T11:48:28.079Z"
   },
   {
    "duration": 25,
    "start_time": "2023-01-28T11:48:28.094Z"
   },
   {
    "duration": 15,
    "start_time": "2023-01-28T11:48:28.121Z"
   },
   {
    "duration": 521,
    "start_time": "2023-01-28T11:48:28.137Z"
   },
   {
    "duration": 4,
    "start_time": "2023-01-28T11:48:28.667Z"
   },
   {
    "duration": 21,
    "start_time": "2023-01-28T11:48:28.672Z"
   },
   {
    "duration": 16,
    "start_time": "2023-01-28T11:48:28.695Z"
   },
   {
    "duration": 13,
    "start_time": "2023-01-28T11:48:28.713Z"
   },
   {
    "duration": 20,
    "start_time": "2023-01-28T11:48:28.728Z"
   },
   {
    "duration": 28,
    "start_time": "2023-01-28T11:48:28.749Z"
   },
   {
    "duration": 518,
    "start_time": "2023-01-28T11:48:28.779Z"
   },
   {
    "duration": 3,
    "start_time": "2023-01-28T11:48:29.302Z"
   },
   {
    "duration": 17,
    "start_time": "2023-01-28T11:48:29.307Z"
   },
   {
    "duration": 13,
    "start_time": "2023-01-28T11:48:29.326Z"
   },
   {
    "duration": 28,
    "start_time": "2023-01-28T11:48:29.341Z"
   },
   {
    "duration": 15,
    "start_time": "2023-01-28T11:48:29.371Z"
   },
   {
    "duration": 9,
    "start_time": "2023-01-28T11:48:29.388Z"
   },
   {
    "duration": 8,
    "start_time": "2023-01-28T11:48:29.399Z"
   },
   {
    "duration": 8,
    "start_time": "2023-01-28T11:48:29.408Z"
   },
   {
    "duration": 11,
    "start_time": "2023-01-28T11:48:29.418Z"
   },
   {
    "duration": 11,
    "start_time": "2023-01-28T11:48:29.431Z"
   },
   {
    "duration": 1404,
    "start_time": "2023-01-28T11:48:29.444Z"
   },
   {
    "duration": 1523,
    "start_time": "2023-01-28T11:48:30.850Z"
   },
   {
    "duration": 1528,
    "start_time": "2023-01-28T11:48:32.375Z"
   },
   {
    "duration": 1492,
    "start_time": "2023-01-28T11:48:40.109Z"
   },
   {
    "duration": 4,
    "start_time": "2023-01-28T11:48:41.603Z"
   },
   {
    "duration": 459,
    "start_time": "2023-01-28T11:48:41.609Z"
   },
   {
    "duration": 15,
    "start_time": "2023-01-28T11:48:42.071Z"
   },
   {
    "duration": 33,
    "start_time": "2023-01-28T11:48:42.089Z"
   },
   {
    "duration": 25,
    "start_time": "2023-01-28T11:48:42.124Z"
   },
   {
    "duration": 83,
    "start_time": "2023-01-28T11:48:42.152Z"
   },
   {
    "duration": 61,
    "start_time": "2023-01-28T11:48:42.237Z"
   },
   {
    "duration": 63,
    "start_time": "2023-01-28T11:48:42.300Z"
   },
   {
    "duration": 56,
    "start_time": "2023-01-28T11:48:42.365Z"
   },
   {
    "duration": 34,
    "start_time": "2023-01-28T11:48:42.422Z"
   },
   {
    "duration": 42,
    "start_time": "2023-01-28T11:48:42.457Z"
   },
   {
    "duration": 58,
    "start_time": "2023-01-28T11:48:42.502Z"
   },
   {
    "duration": 18,
    "start_time": "2023-01-28T11:48:42.564Z"
   },
   {
    "duration": 56,
    "start_time": "2023-01-28T11:48:42.583Z"
   },
   {
    "duration": 109,
    "start_time": "2023-01-28T11:48:42.640Z"
   },
   {
    "duration": 36,
    "start_time": "2023-01-28T11:48:42.750Z"
   },
   {
    "duration": 39,
    "start_time": "2023-01-28T11:48:42.787Z"
   },
   {
    "duration": 51,
    "start_time": "2023-01-28T11:48:42.828Z"
   },
   {
    "duration": 32,
    "start_time": "2023-01-28T11:48:42.881Z"
   },
   {
    "duration": 36,
    "start_time": "2023-01-28T11:48:42.914Z"
   },
   {
    "duration": 83,
    "start_time": "2023-01-28T11:48:42.952Z"
   },
   {
    "duration": 36,
    "start_time": "2023-01-28T11:48:43.037Z"
   },
   {
    "duration": 53,
    "start_time": "2023-01-28T11:48:43.075Z"
   },
   {
    "duration": 84,
    "start_time": "2023-01-28T11:48:43.130Z"
   },
   {
    "duration": 475,
    "start_time": "2023-01-28T11:48:43.216Z"
   },
   {
    "duration": 79,
    "start_time": "2023-01-28T11:48:43.693Z"
   },
   {
    "duration": 319,
    "start_time": "2023-01-28T11:48:43.774Z"
   },
   {
    "duration": 79,
    "start_time": "2023-01-28T11:48:44.094Z"
   },
   {
    "duration": 315,
    "start_time": "2023-01-28T11:48:44.175Z"
   },
   {
    "duration": 352,
    "start_time": "2023-01-28T11:48:44.491Z"
   },
   {
    "duration": 442,
    "start_time": "2023-01-28T11:48:44.854Z"
   },
   {
    "duration": 338,
    "start_time": "2023-01-28T11:48:45.298Z"
   },
   {
    "duration": 7,
    "start_time": "2023-01-28T11:48:45.638Z"
   },
   {
    "duration": 35,
    "start_time": "2023-01-28T11:48:45.653Z"
   },
   {
    "duration": 56,
    "start_time": "2023-01-28T11:48:45.690Z"
   },
   {
    "duration": 54,
    "start_time": "2023-01-28T11:48:45.747Z"
   },
   {
    "duration": 32,
    "start_time": "2023-01-28T11:48:45.803Z"
   },
   {
    "duration": 44,
    "start_time": "2023-01-28T11:48:45.837Z"
   },
   {
    "duration": 8,
    "start_time": "2023-01-28T11:48:45.883Z"
   },
   {
    "duration": 34,
    "start_time": "2023-01-28T11:48:45.896Z"
   },
   {
    "duration": 133,
    "start_time": "2023-01-28T11:48:45.931Z"
   },
   {
    "duration": 20,
    "start_time": "2023-01-28T11:48:46.067Z"
   },
   {
    "duration": 34,
    "start_time": "2023-01-28T11:48:46.090Z"
   },
   {
    "duration": 26,
    "start_time": "2023-01-28T11:48:46.125Z"
   },
   {
    "duration": 58,
    "start_time": "2023-01-28T11:48:46.155Z"
   },
   {
    "duration": 33,
    "start_time": "2023-01-28T11:48:46.215Z"
   },
   {
    "duration": 133,
    "start_time": "2023-01-28T11:48:46.257Z"
   },
   {
    "duration": 65,
    "start_time": "2023-01-28T11:48:46.392Z"
   },
   {
    "duration": 65,
    "start_time": "2023-01-28T11:48:46.460Z"
   },
   {
    "duration": 16,
    "start_time": "2023-01-28T11:48:46.527Z"
   },
   {
    "duration": 54,
    "start_time": "2023-01-28T11:48:46.545Z"
   },
   {
    "duration": 37,
    "start_time": "2023-01-28T11:48:46.601Z"
   },
   {
    "duration": 128,
    "start_time": "2023-01-28T11:48:46.657Z"
   },
   {
    "duration": 25,
    "start_time": "2023-01-28T11:48:46.787Z"
   },
   {
    "duration": 38,
    "start_time": "2023-01-28T11:48:46.814Z"
   },
   {
    "duration": 35,
    "start_time": "2023-01-28T11:48:46.860Z"
   },
   {
    "duration": 11,
    "start_time": "2023-01-28T11:48:46.897Z"
   },
   {
    "duration": 40,
    "start_time": "2023-01-28T11:48:46.910Z"
   },
   {
    "duration": 59,
    "start_time": "2023-01-28T11:48:46.952Z"
   },
   {
    "duration": 22,
    "start_time": "2023-01-28T11:48:47.012Z"
   },
   {
    "duration": 59,
    "start_time": "2023-01-28T11:48:47.036Z"
   },
   {
    "duration": 30,
    "start_time": "2023-01-28T11:48:47.097Z"
   },
   {
    "duration": 36,
    "start_time": "2023-01-28T11:48:47.129Z"
   },
   {
    "duration": 20,
    "start_time": "2023-01-28T11:48:47.167Z"
   },
   {
    "duration": 638,
    "start_time": "2023-01-28T11:48:47.188Z"
   },
   {
    "duration": 4,
    "start_time": "2023-01-28T11:48:47.828Z"
   },
   {
    "duration": 32,
    "start_time": "2023-01-28T11:48:47.834Z"
   },
   {
    "duration": 29,
    "start_time": "2023-01-28T11:48:47.872Z"
   },
   {
    "duration": 44,
    "start_time": "2023-01-28T11:48:47.903Z"
   },
   {
    "duration": 42,
    "start_time": "2023-01-28T11:48:47.949Z"
   },
   {
    "duration": 12,
    "start_time": "2023-01-28T11:48:47.992Z"
   },
   {
    "duration": 32,
    "start_time": "2023-01-28T11:48:48.005Z"
   },
   {
    "duration": 485,
    "start_time": "2023-01-28T11:48:48.039Z"
   },
   {
    "duration": 3,
    "start_time": "2023-01-28T11:48:48.526Z"
   },
   {
    "duration": 47,
    "start_time": "2023-01-28T11:48:48.531Z"
   },
   {
    "duration": 34,
    "start_time": "2023-01-28T11:48:48.580Z"
   },
   {
    "duration": 18,
    "start_time": "2023-01-28T11:48:48.616Z"
   },
   {
    "duration": 48,
    "start_time": "2023-01-28T11:48:48.635Z"
   },
   {
    "duration": 47,
    "start_time": "2023-01-28T11:48:48.684Z"
   },
   {
    "duration": 537,
    "start_time": "2023-01-28T11:48:48.733Z"
   },
   {
    "duration": 4,
    "start_time": "2023-01-28T11:48:49.272Z"
   },
   {
    "duration": 46,
    "start_time": "2023-01-28T11:48:49.278Z"
   },
   {
    "duration": 18,
    "start_time": "2023-01-28T11:48:49.326Z"
   },
   {
    "duration": 47,
    "start_time": "2023-01-28T11:48:49.346Z"
   },
   {
    "duration": 23,
    "start_time": "2023-01-28T11:48:49.394Z"
   },
   {
    "duration": 11,
    "start_time": "2023-01-28T11:48:49.418Z"
   },
   {
    "duration": 46,
    "start_time": "2023-01-28T11:48:49.430Z"
   },
   {
    "duration": 43,
    "start_time": "2023-01-28T11:48:49.477Z"
   },
   {
    "duration": 61,
    "start_time": "2023-01-28T11:48:49.523Z"
   },
   {
    "duration": 8,
    "start_time": "2023-01-28T11:48:49.586Z"
   },
   {
    "duration": 1399,
    "start_time": "2023-01-28T11:48:49.596Z"
   },
   {
    "duration": 1381,
    "start_time": "2023-01-28T11:48:50.997Z"
   },
   {
    "duration": 1444,
    "start_time": "2023-01-28T11:48:52.380Z"
   },
   {
    "duration": 1421,
    "start_time": "2023-01-28T11:53:50.011Z"
   },
   {
    "duration": 1396,
    "start_time": "2023-01-28T11:53:53.141Z"
   },
   {
    "duration": 589,
    "start_time": "2023-01-28T11:54:05.091Z"
   },
   {
    "duration": 3,
    "start_time": "2023-01-28T11:54:06.471Z"
   },
   {
    "duration": 5,
    "start_time": "2023-01-28T11:54:09.526Z"
   },
   {
    "duration": 4,
    "start_time": "2023-01-28T11:54:12.023Z"
   },
   {
    "duration": 3,
    "start_time": "2023-01-28T11:54:13.817Z"
   },
   {
    "duration": 3,
    "start_time": "2023-01-28T11:54:16.843Z"
   },
   {
    "duration": 3,
    "start_time": "2023-01-28T11:54:18.588Z"
   },
   {
    "duration": 1497,
    "start_time": "2023-01-28T11:57:10.251Z"
   },
   {
    "duration": 15,
    "start_time": "2023-01-28T11:57:11.750Z"
   },
   {
    "duration": 429,
    "start_time": "2023-01-28T11:57:11.768Z"
   },
   {
    "duration": 12,
    "start_time": "2023-01-28T11:57:12.199Z"
   },
   {
    "duration": 11,
    "start_time": "2023-01-28T11:57:12.212Z"
   },
   {
    "duration": 11,
    "start_time": "2023-01-28T11:57:12.224Z"
   },
   {
    "duration": 58,
    "start_time": "2023-01-28T11:57:12.236Z"
   },
   {
    "duration": 45,
    "start_time": "2023-01-28T11:57:12.295Z"
   },
   {
    "duration": 57,
    "start_time": "2023-01-28T11:57:12.342Z"
   },
   {
    "duration": 62,
    "start_time": "2023-01-28T11:57:12.402Z"
   },
   {
    "duration": 21,
    "start_time": "2023-01-28T11:57:12.466Z"
   },
   {
    "duration": 24,
    "start_time": "2023-01-28T11:57:12.488Z"
   },
   {
    "duration": 48,
    "start_time": "2023-01-28T11:57:12.514Z"
   },
   {
    "duration": 18,
    "start_time": "2023-01-28T11:57:12.564Z"
   },
   {
    "duration": 19,
    "start_time": "2023-01-28T11:57:12.584Z"
   },
   {
    "duration": 31,
    "start_time": "2023-01-28T11:57:12.604Z"
   },
   {
    "duration": 36,
    "start_time": "2023-01-28T11:57:12.637Z"
   },
   {
    "duration": 16,
    "start_time": "2023-01-28T11:57:12.675Z"
   },
   {
    "duration": 27,
    "start_time": "2023-01-28T11:57:12.694Z"
   },
   {
    "duration": 39,
    "start_time": "2023-01-28T11:57:12.722Z"
   },
   {
    "duration": 13,
    "start_time": "2023-01-28T11:57:12.763Z"
   },
   {
    "duration": 40,
    "start_time": "2023-01-28T11:57:12.777Z"
   },
   {
    "duration": 49,
    "start_time": "2023-01-28T11:57:12.818Z"
   },
   {
    "duration": 32,
    "start_time": "2023-01-28T11:57:12.869Z"
   },
   {
    "duration": 87,
    "start_time": "2023-01-28T11:57:12.903Z"
   },
   {
    "duration": 307,
    "start_time": "2023-01-28T11:57:12.991Z"
   },
   {
    "duration": 76,
    "start_time": "2023-01-28T11:57:13.300Z"
   },
   {
    "duration": 332,
    "start_time": "2023-01-28T11:57:13.380Z"
   },
   {
    "duration": 79,
    "start_time": "2023-01-28T11:57:13.714Z"
   },
   {
    "duration": 300,
    "start_time": "2023-01-28T11:57:13.795Z"
   },
   {
    "duration": 368,
    "start_time": "2023-01-28T11:57:14.097Z"
   },
   {
    "duration": 461,
    "start_time": "2023-01-28T11:57:14.467Z"
   },
   {
    "duration": 404,
    "start_time": "2023-01-28T11:57:14.932Z"
   },
   {
    "duration": 5,
    "start_time": "2023-01-28T11:57:15.338Z"
   },
   {
    "duration": 26,
    "start_time": "2023-01-28T11:57:15.345Z"
   },
   {
    "duration": 13,
    "start_time": "2023-01-28T11:57:15.373Z"
   },
   {
    "duration": 19,
    "start_time": "2023-01-28T11:57:15.388Z"
   },
   {
    "duration": 14,
    "start_time": "2023-01-28T11:57:15.409Z"
   },
   {
    "duration": 16,
    "start_time": "2023-01-28T11:57:15.426Z"
   },
   {
    "duration": 17,
    "start_time": "2023-01-28T11:57:15.444Z"
   },
   {
    "duration": 106,
    "start_time": "2023-01-28T11:57:15.463Z"
   },
   {
    "duration": 93,
    "start_time": "2023-01-28T11:57:15.572Z"
   },
   {
    "duration": 8,
    "start_time": "2023-01-28T11:57:15.667Z"
   },
   {
    "duration": 28,
    "start_time": "2023-01-28T11:57:15.676Z"
   },
   {
    "duration": 3,
    "start_time": "2023-01-28T11:57:15.706Z"
   },
   {
    "duration": 13,
    "start_time": "2023-01-28T11:57:15.711Z"
   },
   {
    "duration": 43,
    "start_time": "2023-01-28T11:57:15.726Z"
   },
   {
    "duration": 98,
    "start_time": "2023-01-28T11:57:15.772Z"
   },
   {
    "duration": 7,
    "start_time": "2023-01-28T11:57:15.872Z"
   },
   {
    "duration": 12,
    "start_time": "2023-01-28T11:57:15.880Z"
   },
   {
    "duration": 4,
    "start_time": "2023-01-28T11:57:15.893Z"
   },
   {
    "duration": 66,
    "start_time": "2023-01-28T11:57:15.899Z"
   },
   {
    "duration": 12,
    "start_time": "2023-01-28T11:57:15.968Z"
   },
   {
    "duration": 88,
    "start_time": "2023-01-28T11:57:15.982Z"
   },
   {
    "duration": 100,
    "start_time": "2023-01-28T11:57:16.072Z"
   },
   {
    "duration": 5,
    "start_time": "2023-01-28T11:57:16.174Z"
   },
   {
    "duration": 19,
    "start_time": "2023-01-28T11:57:16.180Z"
   },
   {
    "duration": 10,
    "start_time": "2023-01-28T11:57:16.201Z"
   },
   {
    "duration": 7,
    "start_time": "2023-01-28T11:57:16.213Z"
   },
   {
    "duration": 5,
    "start_time": "2023-01-28T11:57:16.222Z"
   },
   {
    "duration": 4,
    "start_time": "2023-01-28T11:57:16.228Z"
   },
   {
    "duration": 8,
    "start_time": "2023-01-28T11:57:16.234Z"
   },
   {
    "duration": 7,
    "start_time": "2023-01-28T11:57:16.243Z"
   },
   {
    "duration": 26,
    "start_time": "2023-01-28T11:57:16.253Z"
   },
   {
    "duration": 20,
    "start_time": "2023-01-28T11:57:16.281Z"
   },
   {
    "duration": 546,
    "start_time": "2023-01-28T11:57:16.302Z"
   },
   {
    "duration": 14,
    "start_time": "2023-01-28T11:57:16.850Z"
   },
   {
    "duration": 10,
    "start_time": "2023-01-28T11:57:16.866Z"
   },
   {
    "duration": 7,
    "start_time": "2023-01-28T11:57:16.878Z"
   },
   {
    "duration": 5,
    "start_time": "2023-01-28T11:57:16.887Z"
   },
   {
    "duration": 8,
    "start_time": "2023-01-28T11:57:16.894Z"
   },
   {
    "duration": 4,
    "start_time": "2023-01-28T11:57:16.904Z"
   },
   {
    "duration": 559,
    "start_time": "2023-01-28T11:57:16.910Z"
   },
   {
    "duration": 7,
    "start_time": "2023-01-28T11:57:17.471Z"
   },
   {
    "duration": 17,
    "start_time": "2023-01-28T11:57:17.481Z"
   },
   {
    "duration": 18,
    "start_time": "2023-01-28T11:57:17.500Z"
   },
   {
    "duration": 37,
    "start_time": "2023-01-28T11:57:17.519Z"
   },
   {
    "duration": 20,
    "start_time": "2023-01-28T11:57:17.566Z"
   },
   {
    "duration": 19,
    "start_time": "2023-01-28T11:57:17.587Z"
   },
   {
    "duration": 567,
    "start_time": "2023-01-28T11:57:17.607Z"
   },
   {
    "duration": 4,
    "start_time": "2023-01-28T11:57:18.176Z"
   },
   {
    "duration": 4,
    "start_time": "2023-01-28T11:57:18.185Z"
   },
   {
    "duration": 12,
    "start_time": "2023-01-28T11:57:18.190Z"
   },
   {
    "duration": 7,
    "start_time": "2023-01-28T11:57:18.203Z"
   },
   {
    "duration": 7,
    "start_time": "2023-01-28T11:57:18.211Z"
   },
   {
    "duration": 5,
    "start_time": "2023-01-28T11:57:18.220Z"
   },
   {
    "duration": 9,
    "start_time": "2023-01-28T11:57:18.227Z"
   },
   {
    "duration": 9,
    "start_time": "2023-01-28T11:57:18.237Z"
   },
   {
    "duration": 10,
    "start_time": "2023-01-28T11:57:18.258Z"
   },
   {
    "duration": 1495,
    "start_time": "2023-01-28T11:57:18.270Z"
   },
   {
    "duration": 1382,
    "start_time": "2023-01-28T11:57:19.769Z"
   },
   {
    "duration": 1428,
    "start_time": "2023-01-28T11:57:21.158Z"
   },
   {
    "duration": 5,
    "start_time": "2023-01-28T12:01:40.876Z"
   },
   {
    "duration": 1503,
    "start_time": "2023-01-28T12:01:46.279Z"
   },
   {
    "duration": 1465,
    "start_time": "2023-01-28T12:01:53.614Z"
   },
   {
    "duration": 1392,
    "start_time": "2023-01-28T12:01:59.667Z"
   },
   {
    "duration": 1405,
    "start_time": "2023-01-28T12:02:32.500Z"
   },
   {
    "duration": 3,
    "start_time": "2023-01-28T12:02:33.907Z"
   },
   {
    "duration": 404,
    "start_time": "2023-01-28T12:02:33.911Z"
   },
   {
    "duration": 12,
    "start_time": "2023-01-28T12:02:34.317Z"
   },
   {
    "duration": 13,
    "start_time": "2023-01-28T12:02:34.331Z"
   },
   {
    "duration": 24,
    "start_time": "2023-01-28T12:02:34.346Z"
   },
   {
    "duration": 38,
    "start_time": "2023-01-28T12:02:34.372Z"
   },
   {
    "duration": 51,
    "start_time": "2023-01-28T12:02:34.411Z"
   },
   {
    "duration": 42,
    "start_time": "2023-01-28T12:02:34.464Z"
   },
   {
    "duration": 65,
    "start_time": "2023-01-28T12:02:34.509Z"
   },
   {
    "duration": 17,
    "start_time": "2023-01-28T12:02:34.575Z"
   },
   {
    "duration": 31,
    "start_time": "2023-01-28T12:02:34.594Z"
   },
   {
    "duration": 42,
    "start_time": "2023-01-28T12:02:34.626Z"
   },
   {
    "duration": 14,
    "start_time": "2023-01-28T12:02:34.670Z"
   },
   {
    "duration": 17,
    "start_time": "2023-01-28T12:02:34.686Z"
   },
   {
    "duration": 31,
    "start_time": "2023-01-28T12:02:34.705Z"
   },
   {
    "duration": 36,
    "start_time": "2023-01-28T12:02:34.738Z"
   },
   {
    "duration": 21,
    "start_time": "2023-01-28T12:02:34.776Z"
   },
   {
    "duration": 39,
    "start_time": "2023-01-28T12:02:34.799Z"
   },
   {
    "duration": 32,
    "start_time": "2023-01-28T12:02:34.840Z"
   },
   {
    "duration": 22,
    "start_time": "2023-01-28T12:02:34.874Z"
   },
   {
    "duration": 69,
    "start_time": "2023-01-28T12:02:34.898Z"
   },
   {
    "duration": 37,
    "start_time": "2023-01-28T12:02:34.969Z"
   },
   {
    "duration": 49,
    "start_time": "2023-01-28T12:02:35.007Z"
   },
   {
    "duration": 69,
    "start_time": "2023-01-28T12:02:35.066Z"
   },
   {
    "duration": 359,
    "start_time": "2023-01-28T12:02:35.136Z"
   },
   {
    "duration": 81,
    "start_time": "2023-01-28T12:02:35.498Z"
   },
   {
    "duration": 334,
    "start_time": "2023-01-28T12:02:35.583Z"
   },
   {
    "duration": 83,
    "start_time": "2023-01-28T12:02:35.919Z"
   },
   {
    "duration": 402,
    "start_time": "2023-01-28T12:02:36.004Z"
   },
   {
    "duration": 393,
    "start_time": "2023-01-28T12:02:36.408Z"
   },
   {
    "duration": 472,
    "start_time": "2023-01-28T12:02:36.802Z"
   },
   {
    "duration": 431,
    "start_time": "2023-01-28T12:02:37.276Z"
   },
   {
    "duration": 4,
    "start_time": "2023-01-28T12:02:37.709Z"
   },
   {
    "duration": 31,
    "start_time": "2023-01-28T12:02:37.714Z"
   },
   {
    "duration": 43,
    "start_time": "2023-01-28T12:02:37.746Z"
   },
   {
    "duration": 37,
    "start_time": "2023-01-28T12:02:37.791Z"
   },
   {
    "duration": 4,
    "start_time": "2023-01-28T12:02:37.830Z"
   },
   {
    "duration": 40,
    "start_time": "2023-01-28T12:02:37.835Z"
   },
   {
    "duration": 10,
    "start_time": "2023-01-28T12:02:37.877Z"
   },
   {
    "duration": 26,
    "start_time": "2023-01-28T12:02:37.888Z"
   },
   {
    "duration": 149,
    "start_time": "2023-01-28T12:02:37.916Z"
   },
   {
    "duration": 37,
    "start_time": "2023-01-28T12:02:38.067Z"
   },
   {
    "duration": 38,
    "start_time": "2023-01-28T12:02:38.106Z"
   },
   {
    "duration": 26,
    "start_time": "2023-01-28T12:02:38.146Z"
   },
   {
    "duration": 32,
    "start_time": "2023-01-28T12:02:38.174Z"
   },
   {
    "duration": 26,
    "start_time": "2023-01-28T12:02:38.208Z"
   },
   {
    "duration": 141,
    "start_time": "2023-01-28T12:02:38.236Z"
   },
   {
    "duration": 46,
    "start_time": "2023-01-28T12:02:38.379Z"
   },
   {
    "duration": 21,
    "start_time": "2023-01-28T12:02:38.427Z"
   },
   {
    "duration": 34,
    "start_time": "2023-01-28T12:02:38.450Z"
   },
   {
    "duration": 25,
    "start_time": "2023-01-28T12:02:38.486Z"
   },
   {
    "duration": 19,
    "start_time": "2023-01-28T12:02:38.513Z"
   },
   {
    "duration": 143,
    "start_time": "2023-01-28T12:02:38.534Z"
   },
   {
    "duration": 24,
    "start_time": "2023-01-28T12:02:38.679Z"
   },
   {
    "duration": 25,
    "start_time": "2023-01-28T12:02:38.706Z"
   },
   {
    "duration": 43,
    "start_time": "2023-01-28T12:02:38.733Z"
   },
   {
    "duration": 44,
    "start_time": "2023-01-28T12:02:38.778Z"
   },
   {
    "duration": 25,
    "start_time": "2023-01-28T12:02:38.824Z"
   },
   {
    "duration": 21,
    "start_time": "2023-01-28T12:02:38.851Z"
   },
   {
    "duration": 21,
    "start_time": "2023-01-28T12:02:38.874Z"
   },
   {
    "duration": 31,
    "start_time": "2023-01-28T12:02:38.897Z"
   },
   {
    "duration": 30,
    "start_time": "2023-01-28T12:02:38.930Z"
   },
   {
    "duration": 31,
    "start_time": "2023-01-28T12:02:38.962Z"
   },
   {
    "duration": 20,
    "start_time": "2023-01-28T12:02:38.995Z"
   },
   {
    "duration": 599,
    "start_time": "2023-01-28T12:02:39.017Z"
   },
   {
    "duration": 4,
    "start_time": "2023-01-28T12:02:39.617Z"
   },
   {
    "duration": 21,
    "start_time": "2023-01-28T12:02:39.623Z"
   },
   {
    "duration": 63,
    "start_time": "2023-01-28T12:02:39.646Z"
   },
   {
    "duration": 29,
    "start_time": "2023-01-28T12:02:39.711Z"
   },
   {
    "duration": 36,
    "start_time": "2023-01-28T12:02:39.741Z"
   },
   {
    "duration": 17,
    "start_time": "2023-01-28T12:02:39.778Z"
   },
   {
    "duration": 535,
    "start_time": "2023-01-28T12:02:39.797Z"
   },
   {
    "duration": 3,
    "start_time": "2023-01-28T12:02:40.334Z"
   },
   {
    "duration": 25,
    "start_time": "2023-01-28T12:02:40.338Z"
   },
   {
    "duration": 18,
    "start_time": "2023-01-28T12:02:40.365Z"
   },
   {
    "duration": 15,
    "start_time": "2023-01-28T12:02:40.385Z"
   },
   {
    "duration": 33,
    "start_time": "2023-01-28T12:02:40.401Z"
   },
   {
    "duration": 34,
    "start_time": "2023-01-28T12:02:40.436Z"
   },
   {
    "duration": 537,
    "start_time": "2023-01-28T12:02:40.472Z"
   },
   {
    "duration": 3,
    "start_time": "2023-01-28T12:02:41.011Z"
   },
   {
    "duration": 5,
    "start_time": "2023-01-28T12:02:41.019Z"
   },
   {
    "duration": 12,
    "start_time": "2023-01-28T12:02:41.026Z"
   },
   {
    "duration": 18,
    "start_time": "2023-01-28T12:02:41.040Z"
   },
   {
    "duration": 13,
    "start_time": "2023-01-28T12:02:41.062Z"
   },
   {
    "duration": 7,
    "start_time": "2023-01-28T12:02:41.077Z"
   },
   {
    "duration": 9,
    "start_time": "2023-01-28T12:02:41.086Z"
   },
   {
    "duration": 8,
    "start_time": "2023-01-28T12:02:41.098Z"
   },
   {
    "duration": 7,
    "start_time": "2023-01-28T12:02:41.107Z"
   },
   {
    "duration": 1474,
    "start_time": "2023-01-28T12:02:41.116Z"
   },
   {
    "duration": 1415,
    "start_time": "2023-01-28T12:02:42.592Z"
   },
   {
    "duration": 1386,
    "start_time": "2023-01-28T12:02:44.008Z"
   },
   {
    "duration": 2059,
    "start_time": "2023-01-29T08:16:58.118Z"
   },
   {
    "duration": 4,
    "start_time": "2023-01-29T08:17:00.180Z"
   },
   {
    "duration": 1128,
    "start_time": "2023-01-29T08:17:00.186Z"
   },
   {
    "duration": 18,
    "start_time": "2023-01-29T08:17:01.317Z"
   },
   {
    "duration": 22,
    "start_time": "2023-01-29T08:17:01.337Z"
   },
   {
    "duration": 38,
    "start_time": "2023-01-29T08:17:01.360Z"
   },
   {
    "duration": 73,
    "start_time": "2023-01-29T08:17:01.400Z"
   },
   {
    "duration": 72,
    "start_time": "2023-01-29T08:17:01.475Z"
   },
   {
    "duration": 98,
    "start_time": "2023-01-29T08:17:01.554Z"
   },
   {
    "duration": 71,
    "start_time": "2023-01-29T08:17:01.656Z"
   },
   {
    "duration": 34,
    "start_time": "2023-01-29T08:17:01.729Z"
   },
   {
    "duration": 69,
    "start_time": "2023-01-29T08:17:01.765Z"
   },
   {
    "duration": 98,
    "start_time": "2023-01-29T08:17:01.836Z"
   },
   {
    "duration": 57,
    "start_time": "2023-01-29T08:17:01.937Z"
   },
   {
    "duration": 80,
    "start_time": "2023-01-29T08:17:01.996Z"
   },
   {
    "duration": 89,
    "start_time": "2023-01-29T08:17:02.078Z"
   },
   {
    "duration": 31,
    "start_time": "2023-01-29T08:17:02.170Z"
   },
   {
    "duration": 41,
    "start_time": "2023-01-29T08:17:02.203Z"
   },
   {
    "duration": 84,
    "start_time": "2023-01-29T08:17:02.246Z"
   },
   {
    "duration": 21,
    "start_time": "2023-01-29T08:17:02.332Z"
   },
   {
    "duration": 39,
    "start_time": "2023-01-29T08:17:02.357Z"
   },
   {
    "duration": 95,
    "start_time": "2023-01-29T08:17:02.399Z"
   },
   {
    "duration": 75,
    "start_time": "2023-01-29T08:17:02.497Z"
   },
   {
    "duration": 37,
    "start_time": "2023-01-29T08:17:02.574Z"
   },
   {
    "duration": 86,
    "start_time": "2023-01-29T08:17:02.613Z"
   },
   {
    "duration": 417,
    "start_time": "2023-01-29T08:17:02.700Z"
   },
   {
    "duration": 74,
    "start_time": "2023-01-29T08:17:03.118Z"
   },
   {
    "duration": 422,
    "start_time": "2023-01-29T08:17:03.197Z"
   },
   {
    "duration": 93,
    "start_time": "2023-01-29T08:17:03.621Z"
   },
   {
    "duration": 394,
    "start_time": "2023-01-29T08:17:03.716Z"
   },
   {
    "duration": 394,
    "start_time": "2023-01-29T08:17:04.112Z"
   },
   {
    "duration": 427,
    "start_time": "2023-01-29T08:17:04.508Z"
   },
   {
    "duration": 370,
    "start_time": "2023-01-29T08:17:04.937Z"
   },
   {
    "duration": 5,
    "start_time": "2023-01-29T08:17:05.309Z"
   },
   {
    "duration": 12,
    "start_time": "2023-01-29T08:17:05.316Z"
   },
   {
    "duration": 23,
    "start_time": "2023-01-29T08:17:05.330Z"
   },
   {
    "duration": 22,
    "start_time": "2023-01-29T08:17:05.355Z"
   },
   {
    "duration": 8,
    "start_time": "2023-01-29T08:17:05.379Z"
   },
   {
    "duration": 13,
    "start_time": "2023-01-29T08:17:05.389Z"
   },
   {
    "duration": 8,
    "start_time": "2023-01-29T08:17:05.404Z"
   },
   {
    "duration": 147,
    "start_time": "2023-01-29T08:17:05.413Z"
   },
   {
    "duration": 91,
    "start_time": "2023-01-29T08:17:05.563Z"
   },
   {
    "duration": 96,
    "start_time": "2023-01-29T08:17:05.657Z"
   },
   {
    "duration": 15,
    "start_time": "2023-01-29T08:17:05.755Z"
   },
   {
    "duration": 5,
    "start_time": "2023-01-29T08:17:05.772Z"
   },
   {
    "duration": 22,
    "start_time": "2023-01-29T08:17:05.779Z"
   },
   {
    "duration": 63,
    "start_time": "2023-01-29T08:17:05.803Z"
   },
   {
    "duration": 192,
    "start_time": "2023-01-29T08:17:05.869Z"
   },
   {
    "duration": 11,
    "start_time": "2023-01-29T08:17:06.062Z"
   },
   {
    "duration": 16,
    "start_time": "2023-01-29T08:17:06.075Z"
   },
   {
    "duration": 4,
    "start_time": "2023-01-29T08:17:06.093Z"
   },
   {
    "duration": 22,
    "start_time": "2023-01-29T08:17:06.099Z"
   },
   {
    "duration": 31,
    "start_time": "2023-01-29T08:17:06.123Z"
   },
   {
    "duration": 106,
    "start_time": "2023-01-29T08:17:06.156Z"
   },
   {
    "duration": 31,
    "start_time": "2023-01-29T08:17:06.264Z"
   },
   {
    "duration": 10,
    "start_time": "2023-01-29T08:17:06.298Z"
   },
   {
    "duration": 8,
    "start_time": "2023-01-29T08:17:06.310Z"
   },
   {
    "duration": 4,
    "start_time": "2023-01-29T08:17:06.355Z"
   },
   {
    "duration": 14,
    "start_time": "2023-01-29T08:17:06.361Z"
   },
   {
    "duration": 7,
    "start_time": "2023-01-29T08:17:06.377Z"
   },
   {
    "duration": 5,
    "start_time": "2023-01-29T08:17:06.386Z"
   },
   {
    "duration": 8,
    "start_time": "2023-01-29T08:17:06.393Z"
   },
   {
    "duration": 15,
    "start_time": "2023-01-29T08:17:06.402Z"
   },
   {
    "duration": 5,
    "start_time": "2023-01-29T08:17:06.419Z"
   },
   {
    "duration": 8,
    "start_time": "2023-01-29T08:17:06.425Z"
   },
   {
    "duration": 530,
    "start_time": "2023-01-29T08:17:06.435Z"
   },
   {
    "duration": 3,
    "start_time": "2023-01-29T08:17:06.967Z"
   },
   {
    "duration": 17,
    "start_time": "2023-01-29T08:17:06.972Z"
   },
   {
    "duration": 8,
    "start_time": "2023-01-29T08:17:06.991Z"
   },
   {
    "duration": 7,
    "start_time": "2023-01-29T08:17:07.000Z"
   },
   {
    "duration": 6,
    "start_time": "2023-01-29T08:17:07.009Z"
   },
   {
    "duration": 5,
    "start_time": "2023-01-29T08:17:07.017Z"
   },
   {
    "duration": 574,
    "start_time": "2023-01-29T08:17:07.024Z"
   },
   {
    "duration": 4,
    "start_time": "2023-01-29T08:17:07.601Z"
   },
   {
    "duration": 30,
    "start_time": "2023-01-29T08:17:07.606Z"
   },
   {
    "duration": 23,
    "start_time": "2023-01-29T08:17:07.638Z"
   },
   {
    "duration": 21,
    "start_time": "2023-01-29T08:17:07.663Z"
   },
   {
    "duration": 72,
    "start_time": "2023-01-29T08:17:07.686Z"
   },
   {
    "duration": 39,
    "start_time": "2023-01-29T08:17:07.760Z"
   },
   {
    "duration": 691,
    "start_time": "2023-01-29T08:17:07.801Z"
   },
   {
    "duration": 4,
    "start_time": "2023-01-29T08:17:08.494Z"
   },
   {
    "duration": 13,
    "start_time": "2023-01-29T08:17:08.505Z"
   },
   {
    "duration": 19,
    "start_time": "2023-01-29T08:17:08.520Z"
   },
   {
    "duration": 15,
    "start_time": "2023-01-29T08:17:08.541Z"
   },
   {
    "duration": 24,
    "start_time": "2023-01-29T08:17:08.558Z"
   },
   {
    "duration": 18,
    "start_time": "2023-01-29T08:17:08.584Z"
   },
   {
    "duration": 17,
    "start_time": "2023-01-29T08:17:08.604Z"
   },
   {
    "duration": 15,
    "start_time": "2023-01-29T08:17:08.623Z"
   },
   {
    "duration": 13,
    "start_time": "2023-01-29T08:17:08.641Z"
   },
   {
    "duration": 1637,
    "start_time": "2023-01-29T08:17:08.656Z"
   },
   {
    "duration": 1551,
    "start_time": "2023-01-29T08:17:10.295Z"
   },
   {
    "duration": 1676,
    "start_time": "2023-01-29T08:17:11.855Z"
   },
   {
    "duration": 4,
    "start_time": "2023-01-29T08:22:04.172Z"
   },
   {
    "duration": 5,
    "start_time": "2023-01-29T08:22:05.988Z"
   },
   {
    "duration": 143,
    "start_time": "2023-01-29T08:22:07.331Z"
   },
   {
    "duration": 6,
    "start_time": "2023-01-29T08:22:28.305Z"
   },
   {
    "duration": 1320,
    "start_time": "2023-01-29T08:22:29.463Z"
   },
   {
    "duration": 1316,
    "start_time": "2023-01-29T08:22:32.824Z"
   },
   {
    "duration": 1326,
    "start_time": "2023-01-29T08:22:34.998Z"
   },
   {
    "duration": 1351,
    "start_time": "2023-01-29T08:22:36.869Z"
   },
   {
    "duration": 1272,
    "start_time": "2023-01-29T08:22:39.483Z"
   },
   {
    "duration": 1466,
    "start_time": "2023-01-29T08:22:42.537Z"
   },
   {
    "duration": 1325,
    "start_time": "2023-01-29T08:22:48.515Z"
   },
   {
    "duration": 3,
    "start_time": "2023-01-29T08:22:49.843Z"
   },
   {
    "duration": 380,
    "start_time": "2023-01-29T08:22:49.847Z"
   },
   {
    "duration": 12,
    "start_time": "2023-01-29T08:22:50.229Z"
   },
   {
    "duration": 17,
    "start_time": "2023-01-29T08:22:50.242Z"
   },
   {
    "duration": 20,
    "start_time": "2023-01-29T08:22:50.261Z"
   },
   {
    "duration": 47,
    "start_time": "2023-01-29T08:22:50.283Z"
   },
   {
    "duration": 45,
    "start_time": "2023-01-29T08:22:50.332Z"
   },
   {
    "duration": 39,
    "start_time": "2023-01-29T08:22:50.379Z"
   },
   {
    "duration": 58,
    "start_time": "2023-01-29T08:22:50.421Z"
   },
   {
    "duration": 17,
    "start_time": "2023-01-29T08:22:50.481Z"
   },
   {
    "duration": 23,
    "start_time": "2023-01-29T08:22:50.499Z"
   },
   {
    "duration": 45,
    "start_time": "2023-01-29T08:22:50.523Z"
   },
   {
    "duration": 13,
    "start_time": "2023-01-29T08:22:50.570Z"
   },
   {
    "duration": 20,
    "start_time": "2023-01-29T08:22:50.585Z"
   },
   {
    "duration": 30,
    "start_time": "2023-01-29T08:22:50.606Z"
   },
   {
    "duration": 25,
    "start_time": "2023-01-29T08:22:50.638Z"
   },
   {
    "duration": 18,
    "start_time": "2023-01-29T08:22:50.664Z"
   },
   {
    "duration": 27,
    "start_time": "2023-01-29T08:22:50.683Z"
   },
   {
    "duration": 13,
    "start_time": "2023-01-29T08:22:50.711Z"
   },
   {
    "duration": 31,
    "start_time": "2023-01-29T08:22:50.726Z"
   },
   {
    "duration": 42,
    "start_time": "2023-01-29T08:22:50.758Z"
   },
   {
    "duration": 34,
    "start_time": "2023-01-29T08:22:50.801Z"
   },
   {
    "duration": 41,
    "start_time": "2023-01-29T08:22:50.837Z"
   },
   {
    "duration": 79,
    "start_time": "2023-01-29T08:22:50.880Z"
   },
   {
    "duration": 314,
    "start_time": "2023-01-29T08:22:50.960Z"
   },
   {
    "duration": 57,
    "start_time": "2023-01-29T08:22:51.275Z"
   },
   {
    "duration": 334,
    "start_time": "2023-01-29T08:22:51.336Z"
   },
   {
    "duration": 62,
    "start_time": "2023-01-29T08:22:51.672Z"
   },
   {
    "duration": 327,
    "start_time": "2023-01-29T08:22:51.736Z"
   },
   {
    "duration": 332,
    "start_time": "2023-01-29T08:22:52.064Z"
   },
   {
    "duration": 400,
    "start_time": "2023-01-29T08:22:52.398Z"
   },
   {
    "duration": 317,
    "start_time": "2023-01-29T08:22:52.799Z"
   },
   {
    "duration": 4,
    "start_time": "2023-01-29T08:22:53.118Z"
   },
   {
    "duration": 40,
    "start_time": "2023-01-29T08:22:53.123Z"
   },
   {
    "duration": 34,
    "start_time": "2023-01-29T08:22:53.165Z"
   },
   {
    "duration": 34,
    "start_time": "2023-01-29T08:22:53.201Z"
   },
   {
    "duration": 22,
    "start_time": "2023-01-29T08:22:53.237Z"
   },
   {
    "duration": 44,
    "start_time": "2023-01-29T08:22:53.261Z"
   },
   {
    "duration": 45,
    "start_time": "2023-01-29T08:22:53.307Z"
   },
   {
    "duration": 47,
    "start_time": "2023-01-29T08:22:53.354Z"
   },
   {
    "duration": 118,
    "start_time": "2023-01-29T08:22:53.455Z"
   },
   {
    "duration": 11,
    "start_time": "2023-01-29T08:22:53.575Z"
   },
   {
    "duration": 30,
    "start_time": "2023-01-29T08:22:53.588Z"
   },
   {
    "duration": 15,
    "start_time": "2023-01-29T08:22:53.620Z"
   },
   {
    "duration": 33,
    "start_time": "2023-01-29T08:22:53.637Z"
   },
   {
    "duration": 23,
    "start_time": "2023-01-29T08:22:53.672Z"
   },
   {
    "duration": 155,
    "start_time": "2023-01-29T08:22:53.698Z"
   },
   {
    "duration": 5,
    "start_time": "2023-01-29T08:22:53.855Z"
   },
   {
    "duration": 18,
    "start_time": "2023-01-29T08:22:53.862Z"
   },
   {
    "duration": 35,
    "start_time": "2023-01-29T08:22:53.882Z"
   },
   {
    "duration": 30,
    "start_time": "2023-01-29T08:22:53.918Z"
   },
   {
    "duration": 43,
    "start_time": "2023-01-29T08:22:53.950Z"
   },
   {
    "duration": 66,
    "start_time": "2023-01-29T08:22:53.996Z"
   },
   {
    "duration": 126,
    "start_time": "2023-01-29T08:22:54.064Z"
   },
   {
    "duration": 28,
    "start_time": "2023-01-29T08:22:54.193Z"
   },
   {
    "duration": 28,
    "start_time": "2023-01-29T08:22:54.223Z"
   },
   {
    "duration": 42,
    "start_time": "2023-01-29T08:22:54.253Z"
   },
   {
    "duration": 30,
    "start_time": "2023-01-29T08:22:54.296Z"
   },
   {
    "duration": 29,
    "start_time": "2023-01-29T08:22:54.327Z"
   },
   {
    "duration": 36,
    "start_time": "2023-01-29T08:22:54.358Z"
   },
   {
    "duration": 36,
    "start_time": "2023-01-29T08:22:54.395Z"
   },
   {
    "duration": 7,
    "start_time": "2023-01-29T08:22:54.433Z"
   },
   {
    "duration": 32,
    "start_time": "2023-01-29T08:22:54.441Z"
   },
   {
    "duration": 11,
    "start_time": "2023-01-29T08:22:54.474Z"
   },
   {
    "duration": 516,
    "start_time": "2023-01-29T08:22:54.486Z"
   },
   {
    "duration": 3,
    "start_time": "2023-01-29T08:22:55.005Z"
   },
   {
    "duration": 21,
    "start_time": "2023-01-29T08:22:55.010Z"
   },
   {
    "duration": 23,
    "start_time": "2023-01-29T08:22:55.034Z"
   },
   {
    "duration": 10,
    "start_time": "2023-01-29T08:22:55.059Z"
   },
   {
    "duration": 22,
    "start_time": "2023-01-29T08:22:55.071Z"
   },
   {
    "duration": 6,
    "start_time": "2023-01-29T08:22:55.094Z"
   },
   {
    "duration": 522,
    "start_time": "2023-01-29T08:22:55.102Z"
   },
   {
    "duration": 3,
    "start_time": "2023-01-29T08:22:55.626Z"
   },
   {
    "duration": 8,
    "start_time": "2023-01-29T08:22:55.630Z"
   },
   {
    "duration": 16,
    "start_time": "2023-01-29T08:22:55.639Z"
   },
   {
    "duration": 6,
    "start_time": "2023-01-29T08:22:55.657Z"
   },
   {
    "duration": 8,
    "start_time": "2023-01-29T08:22:55.665Z"
   },
   {
    "duration": 9,
    "start_time": "2023-01-29T08:22:55.674Z"
   },
   {
    "duration": 519,
    "start_time": "2023-01-29T08:22:55.685Z"
   },
   {
    "duration": 3,
    "start_time": "2023-01-29T08:22:56.206Z"
   },
   {
    "duration": 6,
    "start_time": "2023-01-29T08:22:56.214Z"
   },
   {
    "duration": 14,
    "start_time": "2023-01-29T08:22:56.222Z"
   },
   {
    "duration": 17,
    "start_time": "2023-01-29T08:22:56.237Z"
   },
   {
    "duration": 4,
    "start_time": "2023-01-29T08:22:56.256Z"
   },
   {
    "duration": 12,
    "start_time": "2023-01-29T08:22:56.262Z"
   },
   {
    "duration": 16,
    "start_time": "2023-01-29T08:22:56.276Z"
   },
   {
    "duration": 11,
    "start_time": "2023-01-29T08:22:56.294Z"
   },
   {
    "duration": 8,
    "start_time": "2023-01-29T08:22:56.307Z"
   },
   {
    "duration": 1494,
    "start_time": "2023-01-29T08:22:56.318Z"
   },
   {
    "duration": 1354,
    "start_time": "2023-01-29T08:22:57.814Z"
   },
   {
    "duration": 1352,
    "start_time": "2023-01-29T08:22:59.170Z"
   },
   {
    "duration": 9,
    "start_time": "2023-01-29T08:27:01.111Z"
   },
   {
    "duration": 9,
    "start_time": "2023-01-29T08:27:09.292Z"
   },
   {
    "duration": 9,
    "start_time": "2023-01-29T08:27:37.985Z"
   },
   {
    "duration": 11,
    "start_time": "2023-01-29T08:28:05.220Z"
   },
   {
    "duration": 10,
    "start_time": "2023-01-29T08:28:05.874Z"
   },
   {
    "duration": 3,
    "start_time": "2023-01-29T08:28:07.154Z"
   },
   {
    "duration": 10,
    "start_time": "2023-01-29T08:28:08.229Z"
   },
   {
    "duration": 9,
    "start_time": "2023-01-29T08:28:09.077Z"
   },
   {
    "duration": 103,
    "start_time": "2023-01-29T08:28:10.247Z"
   },
   {
    "duration": 3,
    "start_time": "2023-01-29T08:33:09.073Z"
   },
   {
    "duration": 12,
    "start_time": "2023-01-29T08:36:01.057Z"
   },
   {
    "duration": 51,
    "start_time": "2023-01-29T08:38:11.728Z"
   },
   {
    "duration": 52,
    "start_time": "2023-01-29T08:41:57.457Z"
   },
   {
    "duration": 3,
    "start_time": "2023-01-29T08:42:06.083Z"
   },
   {
    "duration": 12,
    "start_time": "2023-01-29T08:42:30.229Z"
   },
   {
    "duration": 14,
    "start_time": "2023-01-29T08:42:57.198Z"
   },
   {
    "duration": 15,
    "start_time": "2023-01-29T08:42:58.961Z"
   },
   {
    "duration": 4,
    "start_time": "2023-01-29T08:57:27.544Z"
   },
   {
    "duration": 3,
    "start_time": "2023-01-29T08:57:29.892Z"
   },
   {
    "duration": 12,
    "start_time": "2023-01-29T08:57:31.161Z"
   },
   {
    "duration": 12,
    "start_time": "2023-01-29T08:57:32.478Z"
   },
   {
    "duration": 12,
    "start_time": "2023-01-29T08:57:33.695Z"
   },
   {
    "duration": 1316,
    "start_time": "2023-01-29T08:57:38.597Z"
   },
   {
    "duration": 3,
    "start_time": "2023-01-29T08:57:39.914Z"
   },
   {
    "duration": 355,
    "start_time": "2023-01-29T08:57:39.919Z"
   },
   {
    "duration": 13,
    "start_time": "2023-01-29T08:57:40.276Z"
   },
   {
    "duration": 8,
    "start_time": "2023-01-29T08:57:40.290Z"
   },
   {
    "duration": 16,
    "start_time": "2023-01-29T08:57:40.300Z"
   },
   {
    "duration": 46,
    "start_time": "2023-01-29T08:57:40.318Z"
   },
   {
    "duration": 41,
    "start_time": "2023-01-29T08:57:40.366Z"
   },
   {
    "duration": 55,
    "start_time": "2023-01-29T08:57:40.409Z"
   },
   {
    "duration": 42,
    "start_time": "2023-01-29T08:57:40.467Z"
   },
   {
    "duration": 17,
    "start_time": "2023-01-29T08:57:40.511Z"
   },
   {
    "duration": 38,
    "start_time": "2023-01-29T08:57:40.529Z"
   },
   {
    "duration": 24,
    "start_time": "2023-01-29T08:57:40.569Z"
   },
   {
    "duration": 14,
    "start_time": "2023-01-29T08:57:40.594Z"
   },
   {
    "duration": 16,
    "start_time": "2023-01-29T08:57:40.609Z"
   },
   {
    "duration": 57,
    "start_time": "2023-01-29T08:57:40.627Z"
   },
   {
    "duration": 13,
    "start_time": "2023-01-29T08:57:40.685Z"
   },
   {
    "duration": 17,
    "start_time": "2023-01-29T08:57:40.700Z"
   },
   {
    "duration": 37,
    "start_time": "2023-01-29T08:57:40.718Z"
   },
   {
    "duration": 13,
    "start_time": "2023-01-29T08:57:40.757Z"
   },
   {
    "duration": 10,
    "start_time": "2023-01-29T08:57:40.771Z"
   },
   {
    "duration": 41,
    "start_time": "2023-01-29T08:57:40.782Z"
   },
   {
    "duration": 49,
    "start_time": "2023-01-29T08:57:40.824Z"
   },
   {
    "duration": 33,
    "start_time": "2023-01-29T08:57:40.874Z"
   },
   {
    "duration": 73,
    "start_time": "2023-01-29T08:57:40.908Z"
   },
   {
    "duration": 322,
    "start_time": "2023-01-29T08:57:40.983Z"
   },
   {
    "duration": 58,
    "start_time": "2023-01-29T08:57:41.307Z"
   },
   {
    "duration": 323,
    "start_time": "2023-01-29T08:57:41.369Z"
   },
   {
    "duration": 69,
    "start_time": "2023-01-29T08:57:41.693Z"
   },
   {
    "duration": 331,
    "start_time": "2023-01-29T08:57:41.764Z"
   },
   {
    "duration": 328,
    "start_time": "2023-01-29T08:57:42.097Z"
   },
   {
    "duration": 402,
    "start_time": "2023-01-29T08:57:42.427Z"
   },
   {
    "duration": 309,
    "start_time": "2023-01-29T08:57:42.831Z"
   },
   {
    "duration": 13,
    "start_time": "2023-01-29T08:57:43.141Z"
   },
   {
    "duration": 16,
    "start_time": "2023-01-29T08:57:43.155Z"
   },
   {
    "duration": 14,
    "start_time": "2023-01-29T08:57:43.173Z"
   },
   {
    "duration": 15,
    "start_time": "2023-01-29T08:57:43.188Z"
   },
   {
    "duration": 3,
    "start_time": "2023-01-29T08:57:43.205Z"
   },
   {
    "duration": 18,
    "start_time": "2023-01-29T08:57:43.210Z"
   },
   {
    "duration": 7,
    "start_time": "2023-01-29T08:57:43.229Z"
   },
   {
    "duration": 19,
    "start_time": "2023-01-29T08:57:43.238Z"
   },
   {
    "duration": 194,
    "start_time": "2023-01-29T08:57:43.259Z"
   },
   {
    "duration": 7,
    "start_time": "2023-01-29T08:57:43.455Z"
   },
   {
    "duration": 18,
    "start_time": "2023-01-29T08:57:43.464Z"
   },
   {
    "duration": 23,
    "start_time": "2023-01-29T08:57:43.484Z"
   },
   {
    "duration": 25,
    "start_time": "2023-01-29T08:57:43.509Z"
   },
   {
    "duration": 20,
    "start_time": "2023-01-29T08:57:43.536Z"
   },
   {
    "duration": 107,
    "start_time": "2023-01-29T08:57:43.558Z"
   },
   {
    "duration": 88,
    "start_time": "2023-01-29T08:57:43.668Z"
   },
   {
    "duration": 15,
    "start_time": "2023-01-29T08:57:43.758Z"
   },
   {
    "duration": 18,
    "start_time": "2023-01-29T08:57:43.775Z"
   },
   {
    "duration": 27,
    "start_time": "2023-01-29T08:57:43.795Z"
   },
   {
    "duration": 30,
    "start_time": "2023-01-29T08:57:43.824Z"
   },
   {
    "duration": 106,
    "start_time": "2023-01-29T08:57:43.855Z"
   },
   {
    "duration": 23,
    "start_time": "2023-01-29T08:57:43.964Z"
   },
   {
    "duration": 4,
    "start_time": "2023-01-29T08:57:44.053Z"
   },
   {
    "duration": 24,
    "start_time": "2023-01-29T08:57:44.059Z"
   },
   {
    "duration": 18,
    "start_time": "2023-01-29T08:57:44.085Z"
   },
   {
    "duration": 25,
    "start_time": "2023-01-29T08:57:44.105Z"
   },
   {
    "duration": 10,
    "start_time": "2023-01-29T08:57:44.132Z"
   },
   {
    "duration": 22,
    "start_time": "2023-01-29T08:57:44.143Z"
   },
   {
    "duration": 16,
    "start_time": "2023-01-29T08:57:44.167Z"
   },
   {
    "duration": 33,
    "start_time": "2023-01-29T08:57:44.184Z"
   },
   {
    "duration": 26,
    "start_time": "2023-01-29T08:57:44.219Z"
   },
   {
    "duration": 10,
    "start_time": "2023-01-29T08:57:44.247Z"
   },
   {
    "duration": 5,
    "start_time": "2023-01-29T08:57:44.259Z"
   },
   {
    "duration": 484,
    "start_time": "2023-01-29T08:57:44.266Z"
   },
   {
    "duration": 3,
    "start_time": "2023-01-29T08:57:44.754Z"
   },
   {
    "duration": 24,
    "start_time": "2023-01-29T08:57:44.758Z"
   },
   {
    "duration": 22,
    "start_time": "2023-01-29T08:57:44.784Z"
   },
   {
    "duration": 5,
    "start_time": "2023-01-29T08:57:44.809Z"
   },
   {
    "duration": 27,
    "start_time": "2023-01-29T08:57:44.817Z"
   },
   {
    "duration": 17,
    "start_time": "2023-01-29T08:57:44.847Z"
   },
   {
    "duration": 507,
    "start_time": "2023-01-29T08:57:44.866Z"
   },
   {
    "duration": 3,
    "start_time": "2023-01-29T08:57:45.374Z"
   },
   {
    "duration": 23,
    "start_time": "2023-01-29T08:57:45.379Z"
   },
   {
    "duration": 26,
    "start_time": "2023-01-29T08:57:45.403Z"
   },
   {
    "duration": 17,
    "start_time": "2023-01-29T08:57:45.431Z"
   },
   {
    "duration": 6,
    "start_time": "2023-01-29T08:57:45.450Z"
   },
   {
    "duration": 5,
    "start_time": "2023-01-29T08:57:45.457Z"
   },
   {
    "duration": 506,
    "start_time": "2023-01-29T08:57:45.463Z"
   },
   {
    "duration": 3,
    "start_time": "2023-01-29T08:57:45.974Z"
   },
   {
    "duration": 6,
    "start_time": "2023-01-29T08:57:45.979Z"
   },
   {
    "duration": 7,
    "start_time": "2023-01-29T08:57:45.987Z"
   },
   {
    "duration": 7,
    "start_time": "2023-01-29T08:57:45.996Z"
   },
   {
    "duration": 6,
    "start_time": "2023-01-29T08:57:46.005Z"
   },
   {
    "duration": 4,
    "start_time": "2023-01-29T08:57:46.013Z"
   },
   {
    "duration": 40,
    "start_time": "2023-01-29T08:57:46.019Z"
   },
   {
    "duration": 6,
    "start_time": "2023-01-29T08:57:46.060Z"
   },
   {
    "duration": 150,
    "start_time": "2023-01-29T08:57:46.068Z"
   },
   {
    "duration": 0,
    "start_time": "2023-01-29T08:57:46.220Z"
   },
   {
    "duration": 0,
    "start_time": "2023-01-29T08:57:46.221Z"
   },
   {
    "duration": 10,
    "start_time": "2023-01-29T08:58:20.204Z"
   },
   {
    "duration": 10,
    "start_time": "2023-01-29T08:59:04.114Z"
   },
   {
    "duration": 10,
    "start_time": "2023-01-29T08:59:09.885Z"
   },
   {
    "duration": 9,
    "start_time": "2023-01-29T08:59:16.450Z"
   },
   {
    "duration": 10,
    "start_time": "2023-01-29T08:59:19.028Z"
   },
   {
    "duration": 15,
    "start_time": "2023-01-29T08:59:29.970Z"
   },
   {
    "duration": 4,
    "start_time": "2023-01-29T08:59:33.627Z"
   },
   {
    "duration": 3,
    "start_time": "2023-01-29T08:59:35.466Z"
   },
   {
    "duration": 13,
    "start_time": "2023-01-29T08:59:36.126Z"
   },
   {
    "duration": 11,
    "start_time": "2023-01-29T08:59:38.146Z"
   },
   {
    "duration": 9,
    "start_time": "2023-01-29T09:01:37.686Z"
   },
   {
    "duration": 12,
    "start_time": "2023-01-29T09:01:40.836Z"
   },
   {
    "duration": 11,
    "start_time": "2023-01-29T09:10:44.855Z"
   },
   {
    "duration": 3,
    "start_time": "2023-01-29T09:18:39.990Z"
   },
   {
    "duration": 3,
    "start_time": "2023-01-29T09:19:13.490Z"
   },
   {
    "duration": 3,
    "start_time": "2023-01-29T09:19:15.123Z"
   },
   {
    "duration": 9,
    "start_time": "2023-01-29T09:19:21.434Z"
   },
   {
    "duration": 9,
    "start_time": "2023-01-29T09:19:37.805Z"
   },
   {
    "duration": 4,
    "start_time": "2023-01-29T09:21:08.530Z"
   },
   {
    "duration": 4,
    "start_time": "2023-01-29T09:21:09.340Z"
   },
   {
    "duration": 10,
    "start_time": "2023-01-29T09:21:10.291Z"
   },
   {
    "duration": 5,
    "start_time": "2023-01-29T09:26:12.232Z"
   },
   {
    "duration": 5,
    "start_time": "2023-01-29T09:26:18.757Z"
   },
   {
    "duration": 1428,
    "start_time": "2023-01-29T09:26:20.055Z"
   },
   {
    "duration": 1304,
    "start_time": "2023-01-29T09:26:24.430Z"
   },
   {
    "duration": 1429,
    "start_time": "2023-01-29T09:26:27.729Z"
   },
   {
    "duration": 5,
    "start_time": "2023-01-29T09:27:00.790Z"
   },
   {
    "duration": 1344,
    "start_time": "2023-01-29T09:27:01.864Z"
   },
   {
    "duration": 1344,
    "start_time": "2023-01-29T09:27:04.280Z"
   },
   {
    "duration": 1477,
    "start_time": "2023-01-29T09:27:09.399Z"
   },
   {
    "duration": 9,
    "start_time": "2023-01-29T09:28:12.293Z"
   },
   {
    "duration": 4,
    "start_time": "2023-01-29T12:04:40.219Z"
   },
   {
    "duration": 1433,
    "start_time": "2023-01-29T12:04:42.463Z"
   },
   {
    "duration": 1380,
    "start_time": "2023-01-29T12:04:45.404Z"
   },
   {
    "duration": 1406,
    "start_time": "2023-01-29T12:04:48.368Z"
   },
   {
    "duration": 3,
    "start_time": "2023-01-29T12:05:29.331Z"
   },
   {
    "duration": 4,
    "start_time": "2023-01-29T12:06:10.095Z"
   },
   {
    "duration": 11,
    "start_time": "2023-01-29T12:06:12.658Z"
   },
   {
    "duration": 3,
    "start_time": "2023-01-29T12:10:52.875Z"
   },
   {
    "duration": 4,
    "start_time": "2023-01-29T12:10:56.531Z"
   },
   {
    "duration": 7,
    "start_time": "2023-01-29T12:10:58.587Z"
   },
   {
    "duration": 7,
    "start_time": "2023-01-29T12:11:08.065Z"
   },
   {
    "duration": 6,
    "start_time": "2023-01-29T12:11:09.131Z"
   },
   {
    "duration": 7,
    "start_time": "2023-01-29T12:11:10.174Z"
   },
   {
    "duration": 4,
    "start_time": "2023-01-29T12:12:20.166Z"
   },
   {
    "duration": 1746,
    "start_time": "2023-01-29T12:12:20.791Z"
   },
   {
    "duration": 1690,
    "start_time": "2023-01-29T12:12:24.076Z"
   },
   {
    "duration": 1747,
    "start_time": "2023-01-29T12:12:26.947Z"
   },
   {
    "duration": 4,
    "start_time": "2023-01-29T12:12:39.583Z"
   },
   {
    "duration": 2004,
    "start_time": "2023-01-29T12:12:42.050Z"
   },
   {
    "duration": 1706,
    "start_time": "2023-01-29T12:12:45.034Z"
   },
   {
    "duration": 1702,
    "start_time": "2023-01-29T12:12:47.861Z"
   },
   {
    "duration": 3,
    "start_time": "2023-01-29T12:14:27.089Z"
   },
   {
    "duration": 10,
    "start_time": "2023-01-29T12:14:54.121Z"
   },
   {
    "duration": 4,
    "start_time": "2023-01-29T12:15:53.968Z"
   },
   {
    "duration": 5,
    "start_time": "2023-01-29T12:16:15.728Z"
   },
   {
    "duration": 12,
    "start_time": "2023-01-29T12:16:16.663Z"
   },
   {
    "duration": 10,
    "start_time": "2023-01-29T12:16:17.926Z"
   },
   {
    "duration": 4,
    "start_time": "2023-01-29T12:17:04.451Z"
   },
   {
    "duration": 14,
    "start_time": "2023-01-29T12:17:05.648Z"
   },
   {
    "duration": 13,
    "start_time": "2023-01-29T12:17:06.778Z"
   },
   {
    "duration": 13,
    "start_time": "2023-01-29T12:17:07.727Z"
   },
   {
    "duration": 6,
    "start_time": "2023-01-29T12:20:35.021Z"
   },
   {
    "duration": 3,
    "start_time": "2023-01-29T12:20:38.128Z"
   },
   {
    "duration": 5,
    "start_time": "2023-01-29T12:20:39.135Z"
   },
   {
    "duration": 1374,
    "start_time": "2023-01-29T12:20:40.165Z"
   },
   {
    "duration": 1556,
    "start_time": "2023-01-29T12:20:43.246Z"
   },
   {
    "duration": 1551,
    "start_time": "2023-01-29T12:20:46.741Z"
   },
   {
    "duration": 1521,
    "start_time": "2023-01-29T12:21:03.150Z"
   },
   {
    "duration": 3,
    "start_time": "2023-01-29T12:21:04.674Z"
   },
   {
    "duration": 450,
    "start_time": "2023-01-29T12:21:04.679Z"
   },
   {
    "duration": 16,
    "start_time": "2023-01-29T12:21:05.131Z"
   },
   {
    "duration": 15,
    "start_time": "2023-01-29T12:21:05.148Z"
   },
   {
    "duration": 16,
    "start_time": "2023-01-29T12:21:05.165Z"
   },
   {
    "duration": 76,
    "start_time": "2023-01-29T12:21:05.183Z"
   },
   {
    "duration": 74,
    "start_time": "2023-01-29T12:21:05.261Z"
   },
   {
    "duration": 52,
    "start_time": "2023-01-29T12:21:05.352Z"
   },
   {
    "duration": 69,
    "start_time": "2023-01-29T12:21:05.407Z"
   },
   {
    "duration": 24,
    "start_time": "2023-01-29T12:21:05.478Z"
   },
   {
    "duration": 30,
    "start_time": "2023-01-29T12:21:05.504Z"
   },
   {
    "duration": 46,
    "start_time": "2023-01-29T12:21:05.536Z"
   },
   {
    "duration": 19,
    "start_time": "2023-01-29T12:21:05.583Z"
   },
   {
    "duration": 30,
    "start_time": "2023-01-29T12:21:05.605Z"
   },
   {
    "duration": 39,
    "start_time": "2023-01-29T12:21:05.652Z"
   },
   {
    "duration": 22,
    "start_time": "2023-01-29T12:21:05.693Z"
   },
   {
    "duration": 36,
    "start_time": "2023-01-29T12:21:05.717Z"
   },
   {
    "duration": 47,
    "start_time": "2023-01-29T12:21:05.756Z"
   },
   {
    "duration": 26,
    "start_time": "2023-01-29T12:21:05.805Z"
   },
   {
    "duration": 27,
    "start_time": "2023-01-29T12:21:05.834Z"
   },
   {
    "duration": 47,
    "start_time": "2023-01-29T12:21:05.864Z"
   },
   {
    "duration": 56,
    "start_time": "2023-01-29T12:21:05.913Z"
   },
   {
    "duration": 39,
    "start_time": "2023-01-29T12:21:05.971Z"
   },
   {
    "duration": 95,
    "start_time": "2023-01-29T12:21:06.013Z"
   },
   {
    "duration": 383,
    "start_time": "2023-01-29T12:21:06.110Z"
   },
   {
    "duration": 78,
    "start_time": "2023-01-29T12:21:06.496Z"
   },
   {
    "duration": 318,
    "start_time": "2023-01-29T12:21:06.578Z"
   },
   {
    "duration": 76,
    "start_time": "2023-01-29T12:21:06.897Z"
   },
   {
    "duration": 426,
    "start_time": "2023-01-29T12:21:06.975Z"
   },
   {
    "duration": 1107,
    "start_time": "2023-01-29T12:21:07.455Z"
   },
   {
    "duration": 1004,
    "start_time": "2023-01-29T12:21:08.564Z"
   },
   {
    "duration": 402,
    "start_time": "2023-01-29T12:21:09.571Z"
   },
   {
    "duration": 5,
    "start_time": "2023-01-29T12:21:09.975Z"
   },
   {
    "duration": 12,
    "start_time": "2023-01-29T12:21:09.982Z"
   },
   {
    "duration": 9,
    "start_time": "2023-01-29T12:21:09.996Z"
   },
   {
    "duration": 16,
    "start_time": "2023-01-29T12:21:10.008Z"
   },
   {
    "duration": 26,
    "start_time": "2023-01-29T12:21:10.027Z"
   },
   {
    "duration": 11,
    "start_time": "2023-01-29T12:21:10.055Z"
   },
   {
    "duration": 9,
    "start_time": "2023-01-29T12:21:10.068Z"
   },
   {
    "duration": 19,
    "start_time": "2023-01-29T12:21:10.079Z"
   },
   {
    "duration": 156,
    "start_time": "2023-01-29T12:21:10.100Z"
   },
   {
    "duration": 13,
    "start_time": "2023-01-29T12:21:10.258Z"
   },
   {
    "duration": 14,
    "start_time": "2023-01-29T12:21:10.273Z"
   },
   {
    "duration": 4,
    "start_time": "2023-01-29T12:21:10.288Z"
   },
   {
    "duration": 16,
    "start_time": "2023-01-29T12:21:10.294Z"
   },
   {
    "duration": 41,
    "start_time": "2023-01-29T12:21:10.312Z"
   },
   {
    "duration": 99,
    "start_time": "2023-01-29T12:21:10.356Z"
   },
   {
    "duration": 12,
    "start_time": "2023-01-29T12:21:10.459Z"
   },
   {
    "duration": 17,
    "start_time": "2023-01-29T12:21:10.473Z"
   },
   {
    "duration": 4,
    "start_time": "2023-01-29T12:21:10.492Z"
   },
   {
    "duration": 26,
    "start_time": "2023-01-29T12:21:10.497Z"
   },
   {
    "duration": 33,
    "start_time": "2023-01-29T12:21:10.525Z"
   },
   {
    "duration": 9,
    "start_time": "2023-01-29T12:21:10.561Z"
   },
   {
    "duration": 86,
    "start_time": "2023-01-29T12:21:10.572Z"
   },
   {
    "duration": 100,
    "start_time": "2023-01-29T12:21:10.661Z"
   },
   {
    "duration": 7,
    "start_time": "2023-01-29T12:21:10.763Z"
   },
   {
    "duration": 7,
    "start_time": "2023-01-29T12:21:10.772Z"
   },
   {
    "duration": 7,
    "start_time": "2023-01-29T12:21:10.781Z"
   },
   {
    "duration": 8,
    "start_time": "2023-01-29T12:21:10.790Z"
   },
   {
    "duration": 6,
    "start_time": "2023-01-29T12:21:10.800Z"
   },
   {
    "duration": 13,
    "start_time": "2023-01-29T12:21:10.807Z"
   },
   {
    "duration": 17,
    "start_time": "2023-01-29T12:21:10.822Z"
   },
   {
    "duration": 13,
    "start_time": "2023-01-29T12:21:10.853Z"
   },
   {
    "duration": 17,
    "start_time": "2023-01-29T12:21:10.868Z"
   },
   {
    "duration": 3,
    "start_time": "2023-01-29T12:21:10.887Z"
   },
   {
    "duration": 13,
    "start_time": "2023-01-29T12:21:10.892Z"
   },
   {
    "duration": 1446,
    "start_time": "2023-01-29T12:21:10.907Z"
   },
   {
    "duration": 1425,
    "start_time": "2023-01-29T12:21:12.355Z"
   },
   {
    "duration": 1383,
    "start_time": "2023-01-29T12:21:13.783Z"
   },
   {
    "duration": 130,
    "start_time": "2023-01-29T12:21:15.168Z"
   },
   {
    "duration": 0,
    "start_time": "2023-01-29T12:21:15.300Z"
   },
   {
    "duration": 0,
    "start_time": "2023-01-29T12:21:15.302Z"
   },
   {
    "duration": 0,
    "start_time": "2023-01-29T12:21:15.303Z"
   },
   {
    "duration": 0,
    "start_time": "2023-01-29T12:21:15.305Z"
   },
   {
    "duration": 0,
    "start_time": "2023-01-29T12:21:15.307Z"
   },
   {
    "duration": 0,
    "start_time": "2023-01-29T12:21:15.308Z"
   },
   {
    "duration": 0,
    "start_time": "2023-01-29T12:21:15.309Z"
   },
   {
    "duration": 1,
    "start_time": "2023-01-29T12:21:15.310Z"
   },
   {
    "duration": 0,
    "start_time": "2023-01-29T12:21:15.312Z"
   },
   {
    "duration": 0,
    "start_time": "2023-01-29T12:21:15.314Z"
   },
   {
    "duration": 0,
    "start_time": "2023-01-29T12:21:15.316Z"
   },
   {
    "duration": 0,
    "start_time": "2023-01-29T12:21:15.317Z"
   },
   {
    "duration": 0,
    "start_time": "2023-01-29T12:21:15.319Z"
   },
   {
    "duration": 0,
    "start_time": "2023-01-29T12:21:15.320Z"
   },
   {
    "duration": 0,
    "start_time": "2023-01-29T12:21:15.354Z"
   },
   {
    "duration": 0,
    "start_time": "2023-01-29T12:21:15.356Z"
   },
   {
    "duration": 0,
    "start_time": "2023-01-29T12:21:15.358Z"
   },
   {
    "duration": 1,
    "start_time": "2023-01-29T12:21:15.360Z"
   },
   {
    "duration": 0,
    "start_time": "2023-01-29T12:21:15.362Z"
   },
   {
    "duration": 1,
    "start_time": "2023-01-29T12:21:15.365Z"
   },
   {
    "duration": 9,
    "start_time": "2023-01-29T12:23:45.308Z"
   },
   {
    "duration": 10,
    "start_time": "2023-01-29T12:23:48.834Z"
   },
   {
    "duration": 10,
    "start_time": "2023-01-29T12:24:39.222Z"
   },
   {
    "duration": 6,
    "start_time": "2023-01-29T12:25:06.528Z"
   },
   {
    "duration": 7,
    "start_time": "2023-01-29T12:25:36.794Z"
   },
   {
    "duration": 8,
    "start_time": "2023-01-29T12:25:51.364Z"
   },
   {
    "duration": 8,
    "start_time": "2023-01-29T12:25:59.779Z"
   },
   {
    "duration": 8,
    "start_time": "2023-01-29T12:26:09.265Z"
   },
   {
    "duration": 7,
    "start_time": "2023-01-29T12:28:13.293Z"
   },
   {
    "duration": 8,
    "start_time": "2023-01-29T12:28:54.334Z"
   },
   {
    "duration": 4,
    "start_time": "2023-01-29T12:34:55.573Z"
   },
   {
    "duration": 3,
    "start_time": "2023-01-29T12:34:56.993Z"
   },
   {
    "duration": 4,
    "start_time": "2023-01-29T12:35:02.375Z"
   },
   {
    "duration": 4,
    "start_time": "2023-01-29T12:35:04.181Z"
   },
   {
    "duration": 16,
    "start_time": "2023-01-29T12:35:05.422Z"
   },
   {
    "duration": 14,
    "start_time": "2023-01-29T12:35:07.567Z"
   },
   {
    "duration": 13,
    "start_time": "2023-01-29T12:35:09.284Z"
   },
   {
    "duration": 14,
    "start_time": "2023-01-29T12:35:10.469Z"
   },
   {
    "duration": 4,
    "start_time": "2023-01-29T12:35:26.967Z"
   },
   {
    "duration": 4,
    "start_time": "2023-01-29T12:36:30.169Z"
   },
   {
    "duration": 1353,
    "start_time": "2023-01-29T12:36:31.864Z"
   },
   {
    "duration": 1406,
    "start_time": "2023-01-29T12:36:39.439Z"
   },
   {
    "duration": 1404,
    "start_time": "2023-01-29T12:36:56.650Z"
   },
   {
    "duration": 1364,
    "start_time": "2023-01-29T12:38:12.135Z"
   },
   {
    "duration": 4549,
    "start_time": "2023-01-29T12:39:02.743Z"
   },
   {
    "duration": 4211,
    "start_time": "2023-01-29T12:39:12.330Z"
   },
   {
    "duration": 4248,
    "start_time": "2023-01-29T12:39:37.127Z"
   },
   {
    "duration": 4211,
    "start_time": "2023-01-29T12:39:48.416Z"
   },
   {
    "duration": 4407,
    "start_time": "2023-01-29T12:39:54.870Z"
   },
   {
    "duration": 4376,
    "start_time": "2023-01-29T12:40:00.379Z"
   },
   {
    "duration": 4321,
    "start_time": "2023-01-29T12:40:06.945Z"
   },
   {
    "duration": 4180,
    "start_time": "2023-01-29T12:40:12.328Z"
   },
   {
    "duration": 4610,
    "start_time": "2023-01-29T12:40:40.332Z"
   },
   {
    "duration": 4254,
    "start_time": "2023-01-29T12:40:46.934Z"
   },
   {
    "duration": 4082,
    "start_time": "2023-01-29T12:40:52.334Z"
   },
   {
    "duration": 1343,
    "start_time": "2023-01-29T12:41:01.331Z"
   },
   {
    "duration": 1368,
    "start_time": "2023-01-29T12:41:03.283Z"
   },
   {
    "duration": 7,
    "start_time": "2023-01-29T12:41:51.688Z"
   },
   {
    "duration": 21,
    "start_time": "2023-01-29T12:41:53.036Z"
   },
   {
    "duration": 728,
    "start_time": "2023-01-29T12:42:32.332Z"
   },
   {
    "duration": 12,
    "start_time": "2023-01-29T12:42:39.853Z"
   },
   {
    "duration": 8,
    "start_time": "2023-01-29T12:42:43.528Z"
   },
   {
    "duration": 1406,
    "start_time": "2023-01-29T12:42:45.286Z"
   },
   {
    "duration": 1347,
    "start_time": "2023-01-29T12:43:02.812Z"
   },
   {
    "duration": 1396,
    "start_time": "2023-01-29T12:43:16.424Z"
   },
   {
    "duration": 1355,
    "start_time": "2023-01-29T12:50:47.462Z"
   },
   {
    "duration": 3,
    "start_time": "2023-01-29T12:50:48.819Z"
   },
   {
    "duration": 376,
    "start_time": "2023-01-29T12:50:48.824Z"
   },
   {
    "duration": 15,
    "start_time": "2023-01-29T12:50:49.203Z"
   },
   {
    "duration": 22,
    "start_time": "2023-01-29T12:50:49.220Z"
   },
   {
    "duration": 18,
    "start_time": "2023-01-29T12:50:49.244Z"
   },
   {
    "duration": 38,
    "start_time": "2023-01-29T12:50:49.264Z"
   },
   {
    "duration": 57,
    "start_time": "2023-01-29T12:50:49.304Z"
   },
   {
    "duration": 46,
    "start_time": "2023-01-29T12:50:49.362Z"
   },
   {
    "duration": 70,
    "start_time": "2023-01-29T12:50:49.412Z"
   },
   {
    "duration": 19,
    "start_time": "2023-01-29T12:50:49.483Z"
   },
   {
    "duration": 32,
    "start_time": "2023-01-29T12:50:49.504Z"
   },
   {
    "duration": 46,
    "start_time": "2023-01-29T12:50:49.538Z"
   },
   {
    "duration": 20,
    "start_time": "2023-01-29T12:50:49.585Z"
   },
   {
    "duration": 25,
    "start_time": "2023-01-29T12:50:49.607Z"
   },
   {
    "duration": 28,
    "start_time": "2023-01-29T12:50:49.654Z"
   },
   {
    "duration": 15,
    "start_time": "2023-01-29T12:50:49.683Z"
   },
   {
    "duration": 22,
    "start_time": "2023-01-29T12:50:49.700Z"
   },
   {
    "duration": 56,
    "start_time": "2023-01-29T12:50:49.723Z"
   },
   {
    "duration": 18,
    "start_time": "2023-01-29T12:50:49.782Z"
   },
   {
    "duration": 14,
    "start_time": "2023-01-29T12:50:49.801Z"
   },
   {
    "duration": 57,
    "start_time": "2023-01-29T12:50:49.816Z"
   },
   {
    "duration": 36,
    "start_time": "2023-01-29T12:50:49.874Z"
   },
   {
    "duration": 50,
    "start_time": "2023-01-29T12:50:49.911Z"
   },
   {
    "duration": 63,
    "start_time": "2023-01-29T12:50:49.962Z"
   },
   {
    "duration": 340,
    "start_time": "2023-01-29T12:50:50.026Z"
   },
   {
    "duration": 64,
    "start_time": "2023-01-29T12:50:50.368Z"
   },
   {
    "duration": 356,
    "start_time": "2023-01-29T12:50:50.436Z"
   },
   {
    "duration": 73,
    "start_time": "2023-01-29T12:50:50.794Z"
   },
   {
    "duration": 314,
    "start_time": "2023-01-29T12:50:50.869Z"
   },
   {
    "duration": 340,
    "start_time": "2023-01-29T12:50:51.185Z"
   },
   {
    "duration": 402,
    "start_time": "2023-01-29T12:50:51.527Z"
   },
   {
    "duration": 333,
    "start_time": "2023-01-29T12:50:51.930Z"
   },
   {
    "duration": 5,
    "start_time": "2023-01-29T12:50:52.265Z"
   },
   {
    "duration": 32,
    "start_time": "2023-01-29T12:50:52.272Z"
   },
   {
    "duration": 17,
    "start_time": "2023-01-29T12:50:52.305Z"
   },
   {
    "duration": 24,
    "start_time": "2023-01-29T12:50:52.323Z"
   },
   {
    "duration": 3,
    "start_time": "2023-01-29T12:50:52.348Z"
   },
   {
    "duration": 21,
    "start_time": "2023-01-29T12:50:52.353Z"
   },
   {
    "duration": 18,
    "start_time": "2023-01-29T12:50:52.376Z"
   },
   {
    "duration": 25,
    "start_time": "2023-01-29T12:50:52.396Z"
   },
   {
    "duration": 8,
    "start_time": "2023-01-29T12:50:52.457Z"
   },
   {
    "duration": 20,
    "start_time": "2023-01-29T12:50:52.553Z"
   },
   {
    "duration": 15,
    "start_time": "2023-01-29T12:50:52.574Z"
   },
   {
    "duration": 15,
    "start_time": "2023-01-29T12:50:52.591Z"
   },
   {
    "duration": 35,
    "start_time": "2023-01-29T12:50:52.607Z"
   },
   {
    "duration": 49,
    "start_time": "2023-01-29T12:50:52.644Z"
   },
   {
    "duration": 162,
    "start_time": "2023-01-29T12:50:52.695Z"
   },
   {
    "duration": 18,
    "start_time": "2023-01-29T12:50:52.859Z"
   },
   {
    "duration": 15,
    "start_time": "2023-01-29T12:50:52.880Z"
   },
   {
    "duration": 7,
    "start_time": "2023-01-29T12:50:52.897Z"
   },
   {
    "duration": 22,
    "start_time": "2023-01-29T12:50:52.907Z"
   },
   {
    "duration": 40,
    "start_time": "2023-01-29T12:50:52.931Z"
   },
   {
    "duration": 84,
    "start_time": "2023-01-29T12:50:52.974Z"
   },
   {
    "duration": 96,
    "start_time": "2023-01-29T12:50:53.060Z"
   },
   {
    "duration": 8,
    "start_time": "2023-01-29T12:50:53.157Z"
   },
   {
    "duration": 9,
    "start_time": "2023-01-29T12:50:53.166Z"
   },
   {
    "duration": 7,
    "start_time": "2023-01-29T12:50:53.176Z"
   },
   {
    "duration": 7,
    "start_time": "2023-01-29T12:50:53.185Z"
   },
   {
    "duration": 10,
    "start_time": "2023-01-29T12:50:53.194Z"
   },
   {
    "duration": 28,
    "start_time": "2023-01-29T12:50:53.206Z"
   },
   {
    "duration": 10,
    "start_time": "2023-01-29T12:50:53.236Z"
   },
   {
    "duration": 14,
    "start_time": "2023-01-29T12:50:53.248Z"
   },
   {
    "duration": 13,
    "start_time": "2023-01-29T12:50:53.264Z"
   },
   {
    "duration": 11,
    "start_time": "2023-01-29T12:50:53.279Z"
   },
   {
    "duration": 18,
    "start_time": "2023-01-29T12:50:53.292Z"
   },
   {
    "duration": 9,
    "start_time": "2023-01-29T12:50:53.312Z"
   },
   {
    "duration": 1306,
    "start_time": "2023-01-29T12:50:53.323Z"
   },
   {
    "duration": 1361,
    "start_time": "2023-01-29T12:50:54.631Z"
   },
   {
    "duration": 1309,
    "start_time": "2023-01-29T12:50:55.994Z"
   },
   {
    "duration": 1374,
    "start_time": "2023-01-29T12:51:02.353Z"
   },
   {
    "duration": 2,
    "start_time": "2023-01-29T12:51:03.729Z"
   },
   {
    "duration": 378,
    "start_time": "2023-01-29T12:51:03.733Z"
   },
   {
    "duration": 12,
    "start_time": "2023-01-29T12:51:04.113Z"
   },
   {
    "duration": 9,
    "start_time": "2023-01-29T12:51:04.126Z"
   },
   {
    "duration": 24,
    "start_time": "2023-01-29T12:51:04.136Z"
   },
   {
    "duration": 42,
    "start_time": "2023-01-29T12:51:04.161Z"
   },
   {
    "duration": 57,
    "start_time": "2023-01-29T12:51:04.205Z"
   },
   {
    "duration": 42,
    "start_time": "2023-01-29T12:51:04.264Z"
   },
   {
    "duration": 62,
    "start_time": "2023-01-29T12:51:04.309Z"
   },
   {
    "duration": 17,
    "start_time": "2023-01-29T12:51:04.373Z"
   },
   {
    "duration": 19,
    "start_time": "2023-01-29T12:51:04.391Z"
   },
   {
    "duration": 42,
    "start_time": "2023-01-29T12:51:04.412Z"
   },
   {
    "duration": 15,
    "start_time": "2023-01-29T12:51:04.456Z"
   },
   {
    "duration": 17,
    "start_time": "2023-01-29T12:51:04.472Z"
   },
   {
    "duration": 30,
    "start_time": "2023-01-29T12:51:04.490Z"
   },
   {
    "duration": 34,
    "start_time": "2023-01-29T12:51:04.522Z"
   },
   {
    "duration": 18,
    "start_time": "2023-01-29T12:51:04.558Z"
   },
   {
    "duration": 26,
    "start_time": "2023-01-29T12:51:04.578Z"
   },
   {
    "duration": 14,
    "start_time": "2023-01-29T12:51:04.606Z"
   },
   {
    "duration": 32,
    "start_time": "2023-01-29T12:51:04.621Z"
   },
   {
    "duration": 36,
    "start_time": "2023-01-29T12:51:04.655Z"
   },
   {
    "duration": 32,
    "start_time": "2023-01-29T12:51:04.692Z"
   },
   {
    "duration": 51,
    "start_time": "2023-01-29T12:51:04.726Z"
   },
   {
    "duration": 75,
    "start_time": "2023-01-29T12:51:04.779Z"
   },
   {
    "duration": 313,
    "start_time": "2023-01-29T12:51:04.856Z"
   },
   {
    "duration": 60,
    "start_time": "2023-01-29T12:51:05.171Z"
   },
   {
    "duration": 328,
    "start_time": "2023-01-29T12:51:05.235Z"
   },
   {
    "duration": 63,
    "start_time": "2023-01-29T12:51:05.565Z"
   },
   {
    "duration": 336,
    "start_time": "2023-01-29T12:51:05.630Z"
   },
   {
    "duration": 345,
    "start_time": "2023-01-29T12:51:05.967Z"
   },
   {
    "duration": 430,
    "start_time": "2023-01-29T12:51:06.314Z"
   },
   {
    "duration": 341,
    "start_time": "2023-01-29T12:51:06.753Z"
   },
   {
    "duration": 5,
    "start_time": "2023-01-29T12:51:07.096Z"
   },
   {
    "duration": 39,
    "start_time": "2023-01-29T12:51:07.103Z"
   },
   {
    "duration": 62,
    "start_time": "2023-01-29T12:51:07.144Z"
   },
   {
    "duration": 45,
    "start_time": "2023-01-29T12:51:07.208Z"
   },
   {
    "duration": 14,
    "start_time": "2023-01-29T12:51:07.254Z"
   },
   {
    "duration": 67,
    "start_time": "2023-01-29T12:51:07.270Z"
   },
   {
    "duration": 72,
    "start_time": "2023-01-29T12:51:07.339Z"
   },
   {
    "duration": 97,
    "start_time": "2023-01-29T12:51:07.414Z"
   },
   {
    "duration": 161,
    "start_time": "2023-01-29T12:51:07.513Z"
   },
   {
    "duration": 43,
    "start_time": "2023-01-29T12:51:07.677Z"
   },
   {
    "duration": 61,
    "start_time": "2023-01-29T12:51:07.722Z"
   },
   {
    "duration": 35,
    "start_time": "2023-01-29T12:51:07.784Z"
   },
   {
    "duration": 31,
    "start_time": "2023-01-29T12:51:07.821Z"
   },
   {
    "duration": 27,
    "start_time": "2023-01-29T12:51:07.854Z"
   },
   {
    "duration": 175,
    "start_time": "2023-01-29T12:51:07.883Z"
   },
   {
    "duration": 85,
    "start_time": "2023-01-29T12:51:08.060Z"
   },
   {
    "duration": 66,
    "start_time": "2023-01-29T12:51:08.147Z"
   },
   {
    "duration": 75,
    "start_time": "2023-01-29T12:51:08.214Z"
   },
   {
    "duration": 60,
    "start_time": "2023-01-29T12:51:08.291Z"
   },
   {
    "duration": 47,
    "start_time": "2023-01-29T12:51:08.353Z"
   },
   {
    "duration": 179,
    "start_time": "2023-01-29T12:51:08.403Z"
   },
   {
    "duration": 38,
    "start_time": "2023-01-29T12:51:08.583Z"
   },
   {
    "duration": 36,
    "start_time": "2023-01-29T12:51:08.623Z"
   },
   {
    "duration": 66,
    "start_time": "2023-01-29T12:51:08.661Z"
   },
   {
    "duration": 44,
    "start_time": "2023-01-29T12:51:08.729Z"
   },
   {
    "duration": 27,
    "start_time": "2023-01-29T12:51:08.774Z"
   },
   {
    "duration": 20,
    "start_time": "2023-01-29T12:51:08.802Z"
   },
   {
    "duration": 40,
    "start_time": "2023-01-29T12:51:08.823Z"
   },
   {
    "duration": 55,
    "start_time": "2023-01-29T12:51:08.865Z"
   },
   {
    "duration": 76,
    "start_time": "2023-01-29T12:51:08.922Z"
   },
   {
    "duration": 25,
    "start_time": "2023-01-29T12:51:09.000Z"
   },
   {
    "duration": 52,
    "start_time": "2023-01-29T12:51:09.026Z"
   },
   {
    "duration": 32,
    "start_time": "2023-01-29T12:51:09.080Z"
   },
   {
    "duration": 50,
    "start_time": "2023-01-29T12:51:09.114Z"
   },
   {
    "duration": 1329,
    "start_time": "2023-01-29T12:51:09.166Z"
   },
   {
    "duration": 1315,
    "start_time": "2023-01-29T12:51:10.497Z"
   },
   {
    "duration": 1302,
    "start_time": "2023-01-29T12:51:11.814Z"
   },
   {
    "duration": 1385,
    "start_time": "2023-02-19T09:05:22.596Z"
   },
   {
    "duration": 3,
    "start_time": "2023-02-19T09:05:23.983Z"
   },
   {
    "duration": 861,
    "start_time": "2023-02-19T09:05:23.988Z"
   },
   {
    "duration": 16,
    "start_time": "2023-02-19T09:05:24.851Z"
   },
   {
    "duration": 10,
    "start_time": "2023-02-19T09:05:24.870Z"
   },
   {
    "duration": 22,
    "start_time": "2023-02-19T09:05:24.882Z"
   },
   {
    "duration": 39,
    "start_time": "2023-02-19T09:05:24.905Z"
   },
   {
    "duration": 58,
    "start_time": "2023-02-19T09:05:24.945Z"
   },
   {
    "duration": 43,
    "start_time": "2023-02-19T09:05:25.004Z"
   },
   {
    "duration": 67,
    "start_time": "2023-02-19T09:05:25.048Z"
   },
   {
    "duration": 19,
    "start_time": "2023-02-19T09:05:25.117Z"
   },
   {
    "duration": 27,
    "start_time": "2023-02-19T09:05:25.138Z"
   },
   {
    "duration": 42,
    "start_time": "2023-02-19T09:05:25.167Z"
   },
   {
    "duration": 14,
    "start_time": "2023-02-19T09:05:25.213Z"
   },
   {
    "duration": 21,
    "start_time": "2023-02-19T09:05:25.228Z"
   },
   {
    "duration": 37,
    "start_time": "2023-02-19T09:05:25.250Z"
   },
   {
    "duration": 13,
    "start_time": "2023-02-19T09:05:25.299Z"
   },
   {
    "duration": 21,
    "start_time": "2023-02-19T09:05:25.314Z"
   },
   {
    "duration": 31,
    "start_time": "2023-02-19T09:05:25.337Z"
   },
   {
    "duration": 33,
    "start_time": "2023-02-19T09:05:25.370Z"
   },
   {
    "duration": 14,
    "start_time": "2023-02-19T09:05:25.405Z"
   },
   {
    "duration": 43,
    "start_time": "2023-02-19T09:05:25.420Z"
   },
   {
    "duration": 46,
    "start_time": "2023-02-19T09:05:25.465Z"
   },
   {
    "duration": 47,
    "start_time": "2023-02-19T09:05:25.513Z"
   },
   {
    "duration": 84,
    "start_time": "2023-02-19T09:05:25.562Z"
   },
   {
    "duration": 381,
    "start_time": "2023-02-19T09:05:25.648Z"
   },
   {
    "duration": 69,
    "start_time": "2023-02-19T09:05:26.031Z"
   },
   {
    "duration": 331,
    "start_time": "2023-02-19T09:05:26.101Z"
   },
   {
    "duration": 72,
    "start_time": "2023-02-19T09:05:26.433Z"
   },
   {
    "duration": 331,
    "start_time": "2023-02-19T09:05:26.507Z"
   },
   {
    "duration": 404,
    "start_time": "2023-02-19T09:05:26.839Z"
   },
   {
    "duration": 443,
    "start_time": "2023-02-19T09:05:27.245Z"
   },
   {
    "duration": 358,
    "start_time": "2023-02-19T09:05:27.690Z"
   },
   {
    "duration": 6,
    "start_time": "2023-02-19T09:05:28.050Z"
   },
   {
    "duration": 20,
    "start_time": "2023-02-19T09:05:28.058Z"
   },
   {
    "duration": 10,
    "start_time": "2023-02-19T09:05:28.079Z"
   },
   {
    "duration": 26,
    "start_time": "2023-02-19T09:05:28.091Z"
   },
   {
    "duration": 6,
    "start_time": "2023-02-19T09:05:28.119Z"
   },
   {
    "duration": 23,
    "start_time": "2023-02-19T09:05:28.127Z"
   },
   {
    "duration": 9,
    "start_time": "2023-02-19T09:05:28.153Z"
   },
   {
    "duration": 14,
    "start_time": "2023-02-19T09:05:28.167Z"
   },
   {
    "duration": 95,
    "start_time": "2023-02-19T09:05:28.208Z"
   },
   {
    "duration": 8,
    "start_time": "2023-02-19T09:05:28.305Z"
   },
   {
    "duration": 15,
    "start_time": "2023-02-19T09:05:28.315Z"
   },
   {
    "duration": 7,
    "start_time": "2023-02-19T09:05:28.332Z"
   },
   {
    "duration": 68,
    "start_time": "2023-02-19T09:05:28.340Z"
   },
   {
    "duration": 90,
    "start_time": "2023-02-19T09:05:28.409Z"
   },
   {
    "duration": 11,
    "start_time": "2023-02-19T09:05:28.501Z"
   },
   {
    "duration": 10,
    "start_time": "2023-02-19T09:05:28.599Z"
   },
   {
    "duration": 16,
    "start_time": "2023-02-19T09:05:28.611Z"
   },
   {
    "duration": 7,
    "start_time": "2023-02-19T09:05:28.629Z"
   },
   {
    "duration": 19,
    "start_time": "2023-02-19T09:05:28.638Z"
   },
   {
    "duration": 47,
    "start_time": "2023-02-19T09:05:28.660Z"
   },
   {
    "duration": 110,
    "start_time": "2023-02-19T09:05:28.710Z"
   },
   {
    "duration": 11,
    "start_time": "2023-02-19T09:05:28.823Z"
   },
   {
    "duration": 66,
    "start_time": "2023-02-19T09:05:28.836Z"
   },
   {
    "duration": 7,
    "start_time": "2023-02-19T09:05:28.904Z"
   },
   {
    "duration": 8,
    "start_time": "2023-02-19T09:05:28.913Z"
   },
   {
    "duration": 9,
    "start_time": "2023-02-19T09:05:28.923Z"
   },
   {
    "duration": 7,
    "start_time": "2023-02-19T09:05:28.935Z"
   },
   {
    "duration": 13,
    "start_time": "2023-02-19T09:05:28.945Z"
   },
   {
    "duration": 6,
    "start_time": "2023-02-19T09:05:28.960Z"
   },
   {
    "duration": 48,
    "start_time": "2023-02-19T09:05:28.967Z"
   },
   {
    "duration": 12,
    "start_time": "2023-02-19T09:05:29.016Z"
   },
   {
    "duration": 13,
    "start_time": "2023-02-19T09:05:29.030Z"
   },
   {
    "duration": 6,
    "start_time": "2023-02-19T09:05:29.044Z"
   },
   {
    "duration": 9,
    "start_time": "2023-02-19T09:05:29.051Z"
   },
   {
    "duration": 1475,
    "start_time": "2023-02-19T09:05:29.061Z"
   },
   {
    "duration": 1417,
    "start_time": "2023-02-19T09:05:30.538Z"
   },
   {
    "duration": 1413,
    "start_time": "2023-02-19T09:05:31.956Z"
   }
  ],
  "kernelspec": {
   "display_name": "Python 3 (ipykernel)",
   "language": "python",
   "name": "python3"
  },
  "language_info": {
   "codemirror_mode": {
    "name": "ipython",
    "version": 3
   },
   "file_extension": ".py",
   "mimetype": "text/x-python",
   "name": "python",
   "nbconvert_exporter": "python",
   "pygments_lexer": "ipython3",
   "version": "3.9.5"
  },
  "toc": {
   "base_numbering": 1,
   "nav_menu": {},
   "number_sections": true,
   "sideBar": true,
   "skip_h1_title": true,
   "title_cell": "Table of Contents",
   "title_sidebar": "Contents",
   "toc_cell": false,
   "toc_position": {},
   "toc_section_display": true,
   "toc_window_display": true
  }
 },
 "nbformat": 4,
 "nbformat_minor": 2
}
