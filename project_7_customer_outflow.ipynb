{
 "cells": [
  {
   "cell_type": "markdown",
   "metadata": {},
   "source": [
    "# Отток клиентов"
   ]
  },
  {
   "cell_type": "markdown",
   "metadata": {},
   "source": [
    "Из «Бета-Банка» стали уходить клиенты. Каждый месяц. Немного, но заметно. Банковские маркетологи посчитали: сохранять текущих клиентов дешевле, чем привлекать новых.\n",
    "\n",
    "Нужно спрогнозировать, уйдёт клиент из банка в ближайшее время или нет. Вам предоставлены исторические данные о поведении клиентов и расторжении договоров с банком. \n",
    "\n",
    "Постройте модель с предельно большим значением *F1*-меры. Чтобы сделать проект успешно, нужно довести метрику до 0.59. Проверим *F1*-меру на тестовой выборке.\n",
    "\n",
    "Дополнительно будем измерять *AUC-ROC* и сравнивать её значение с *F1*-мерой.\n",
    "\n",
    "Источник данных: [https://www.kaggle.com/barelydedicated/bank-customer-churn-modeling](https://www.kaggle.com/barelydedicated/bank-customer-churn-modeling)"
   ]
  },
  {
   "cell_type": "markdown",
   "metadata": {
    "toc": true
   },
   "source": [
    "<h1>Содержание<span class=\"tocSkip\"></span></h1>\n",
    "<div class=\"toc\"><ul class=\"toc-item\"><li><span><a href=\"#Подготовка-данных\" data-toc-modified-id=\"Подготовка-данных-1\"><span class=\"toc-item-num\">1&nbsp;&nbsp;</span>Подготовка данных</a></span></li><li><span><a href=\"#Исследование-задачи\" data-toc-modified-id=\"Исследование-задачи-2\"><span class=\"toc-item-num\">2&nbsp;&nbsp;</span>Исследование задачи</a></span><ul class=\"toc-item\"><li><span><a href=\"#Модель-решающее-дерево\" data-toc-modified-id=\"Модель-решающее-дерево-2.1\"><span class=\"toc-item-num\">2.1&nbsp;&nbsp;</span>Модель решающее дерево</a></span></li><li><span><a href=\"#Модель-случайный-лес\" data-toc-modified-id=\"Модель-случайный-лес-2.2\"><span class=\"toc-item-num\">2.2&nbsp;&nbsp;</span>Модель случайный лес</a></span></li><li><span><a href=\"#Модель-логистической-регрессии\" data-toc-modified-id=\"Модель-логистической-регрессии-2.3\"><span class=\"toc-item-num\">2.3&nbsp;&nbsp;</span>Модель логистической регрессии</a></span></li></ul></li><li><span><a href=\"#Борьба-с-дисбалансом\" data-toc-modified-id=\"Борьба-с-дисбалансом-3\"><span class=\"toc-item-num\">3&nbsp;&nbsp;</span>Борьба с дисбалансом</a></span><ul class=\"toc-item\"><li><span><a href=\"#Решающее-дерево\" data-toc-modified-id=\"Решающее-дерево-3.1\"><span class=\"toc-item-num\">3.1&nbsp;&nbsp;</span>Решающее дерево</a></span><ul class=\"toc-item\"><li><span><a href=\"#Взвешивание-классов\" data-toc-modified-id=\"Взвешивание-классов-3.1.1\"><span class=\"toc-item-num\">3.1.1&nbsp;&nbsp;</span>Взвешивание классов</a></span></li><li><span><a href=\"#Увеличение-выборки\" data-toc-modified-id=\"Увеличение-выборки-3.1.2\"><span class=\"toc-item-num\">3.1.2&nbsp;&nbsp;</span>Увеличение выборки</a></span></li><li><span><a href=\"#Уменьшение-выборки\" data-toc-modified-id=\"Уменьшение-выборки-3.1.3\"><span class=\"toc-item-num\">3.1.3&nbsp;&nbsp;</span>Уменьшение выборки</a></span></li></ul></li><li><span><a href=\"#Случайный-лес\" data-toc-modified-id=\"Случайный-лес-3.2\"><span class=\"toc-item-num\">3.2&nbsp;&nbsp;</span>Случайный лес</a></span><ul class=\"toc-item\"><li><span><a href=\"#Взвешивание-классов\" data-toc-modified-id=\"Взвешивание-классов-3.2.1\"><span class=\"toc-item-num\">3.2.1&nbsp;&nbsp;</span>Взвешивание классов</a></span></li><li><span><a href=\"#Увеличение-выборки\" data-toc-modified-id=\"Увеличение-выборки-3.2.2\"><span class=\"toc-item-num\">3.2.2&nbsp;&nbsp;</span>Увеличение выборки</a></span></li><li><span><a href=\"#Уменьшение-выборки\" data-toc-modified-id=\"Уменьшение-выборки-3.2.3\"><span class=\"toc-item-num\">3.2.3&nbsp;&nbsp;</span>Уменьшение выборки</a></span></li></ul></li><li><span><a href=\"#Логистическая-регрессия\" data-toc-modified-id=\"Логистическая-регрессия-3.3\"><span class=\"toc-item-num\">3.3&nbsp;&nbsp;</span>Логистическая регрессия</a></span><ul class=\"toc-item\"><li><span><a href=\"#Взвешивание-классов\" data-toc-modified-id=\"Взвешивание-классов-3.3.1\"><span class=\"toc-item-num\">3.3.1&nbsp;&nbsp;</span>Взвешивание классов</a></span></li><li><span><a href=\"#Увеличение-выборки\" data-toc-modified-id=\"Увеличение-выборки-3.3.2\"><span class=\"toc-item-num\">3.3.2&nbsp;&nbsp;</span>Увеличение выборки</a></span></li><li><span><a href=\"#Уменьшение-выборки\" data-toc-modified-id=\"Уменьшение-выборки-3.3.3\"><span class=\"toc-item-num\">3.3.3&nbsp;&nbsp;</span>Уменьшение выборки</a></span></li></ul></li></ul></li><li><span><a href=\"#Вывод\" data-toc-modified-id=\"Вывод-4\"><span class=\"toc-item-num\">4&nbsp;&nbsp;</span>Вывод</a></span></li></ul></div>"
   ]
  },
  {
   "cell_type": "markdown",
   "metadata": {},
   "source": [
    "## Подготовка данных"
   ]
  },
  {
   "cell_type": "code",
   "execution_count": 1,
   "metadata": {},
   "outputs": [],
   "source": [
    "import pandas as pd\n",
    "import matplotlib.pyplot as plt \n",
    "from sklearn.tree import DecisionTreeClassifier\n",
    "from sklearn.linear_model import LogisticRegression\n",
    "from sklearn.ensemble import RandomForestClassifier\n",
    "from sklearn.metrics import f1_score\n",
    "from sklearn.preprocessing import StandardScaler \n",
    "from sklearn.model_selection import train_test_split\n",
    "from sklearn.utils import shuffle\n",
    "import numpy as np\n",
    "from sklearn.metrics import precision_score, recall_score\n",
    "from sklearn.metrics import roc_auc_score\n",
    "from sklearn.metrics import confusion_matrix\n",
    "from sklearn.preprocessing import OneHotEncoder"
   ]
  },
  {
   "cell_type": "code",
   "execution_count": 2,
   "metadata": {},
   "outputs": [],
   "source": [
    "pd.options.mode.chained_assignment = None"
   ]
  },
  {
   "cell_type": "markdown",
   "metadata": {},
   "source": [
    "Объявление константной переменной."
   ]
  },
  {
   "cell_type": "code",
   "execution_count": 3,
   "metadata": {},
   "outputs": [],
   "source": [
    "RANDOM_STATE = 12345"
   ]
  },
  {
   "cell_type": "code",
   "execution_count": 4,
   "metadata": {},
   "outputs": [],
   "source": [
    "try:\n",
    "    data = pd.read_csv('/datasets/Churn.csv')\n",
    "except:\n",
    "    data = pd.read_csv('https://code.s3.yandex.net/Churn.csv')"
   ]
  },
  {
   "cell_type": "markdown",
   "metadata": {},
   "source": [
    "Посмотрим на данные, которые хранятся в файле."
   ]
  },
  {
   "cell_type": "code",
   "execution_count": 5,
   "metadata": {},
   "outputs": [
    {
     "data": {
      "text/plain": [
       "(10000, 14)"
      ]
     },
     "execution_count": 5,
     "metadata": {},
     "output_type": "execute_result"
    }
   ],
   "source": [
    "data.shape"
   ]
  },
  {
   "cell_type": "code",
   "execution_count": 6,
   "metadata": {},
   "outputs": [
    {
     "data": {
      "text/html": [
       "<div>\n",
       "<style scoped>\n",
       "    .dataframe tbody tr th:only-of-type {\n",
       "        vertical-align: middle;\n",
       "    }\n",
       "\n",
       "    .dataframe tbody tr th {\n",
       "        vertical-align: top;\n",
       "    }\n",
       "\n",
       "    .dataframe thead th {\n",
       "        text-align: right;\n",
       "    }\n",
       "</style>\n",
       "<table border=\"1\" class=\"dataframe\">\n",
       "  <thead>\n",
       "    <tr style=\"text-align: right;\">\n",
       "      <th></th>\n",
       "      <th>RowNumber</th>\n",
       "      <th>CustomerId</th>\n",
       "      <th>Surname</th>\n",
       "      <th>CreditScore</th>\n",
       "      <th>Geography</th>\n",
       "      <th>Gender</th>\n",
       "      <th>Age</th>\n",
       "      <th>Tenure</th>\n",
       "      <th>Balance</th>\n",
       "      <th>NumOfProducts</th>\n",
       "      <th>HasCrCard</th>\n",
       "      <th>IsActiveMember</th>\n",
       "      <th>EstimatedSalary</th>\n",
       "      <th>Exited</th>\n",
       "    </tr>\n",
       "  </thead>\n",
       "  <tbody>\n",
       "    <tr>\n",
       "      <th>0</th>\n",
       "      <td>1</td>\n",
       "      <td>15634602</td>\n",
       "      <td>Hargrave</td>\n",
       "      <td>619</td>\n",
       "      <td>France</td>\n",
       "      <td>Female</td>\n",
       "      <td>42</td>\n",
       "      <td>2.0</td>\n",
       "      <td>0.00</td>\n",
       "      <td>1</td>\n",
       "      <td>1</td>\n",
       "      <td>1</td>\n",
       "      <td>101348.88</td>\n",
       "      <td>1</td>\n",
       "    </tr>\n",
       "    <tr>\n",
       "      <th>1</th>\n",
       "      <td>2</td>\n",
       "      <td>15647311</td>\n",
       "      <td>Hill</td>\n",
       "      <td>608</td>\n",
       "      <td>Spain</td>\n",
       "      <td>Female</td>\n",
       "      <td>41</td>\n",
       "      <td>1.0</td>\n",
       "      <td>83807.86</td>\n",
       "      <td>1</td>\n",
       "      <td>0</td>\n",
       "      <td>1</td>\n",
       "      <td>112542.58</td>\n",
       "      <td>0</td>\n",
       "    </tr>\n",
       "    <tr>\n",
       "      <th>2</th>\n",
       "      <td>3</td>\n",
       "      <td>15619304</td>\n",
       "      <td>Onio</td>\n",
       "      <td>502</td>\n",
       "      <td>France</td>\n",
       "      <td>Female</td>\n",
       "      <td>42</td>\n",
       "      <td>8.0</td>\n",
       "      <td>159660.80</td>\n",
       "      <td>3</td>\n",
       "      <td>1</td>\n",
       "      <td>0</td>\n",
       "      <td>113931.57</td>\n",
       "      <td>1</td>\n",
       "    </tr>\n",
       "    <tr>\n",
       "      <th>3</th>\n",
       "      <td>4</td>\n",
       "      <td>15701354</td>\n",
       "      <td>Boni</td>\n",
       "      <td>699</td>\n",
       "      <td>France</td>\n",
       "      <td>Female</td>\n",
       "      <td>39</td>\n",
       "      <td>1.0</td>\n",
       "      <td>0.00</td>\n",
       "      <td>2</td>\n",
       "      <td>0</td>\n",
       "      <td>0</td>\n",
       "      <td>93826.63</td>\n",
       "      <td>0</td>\n",
       "    </tr>\n",
       "    <tr>\n",
       "      <th>4</th>\n",
       "      <td>5</td>\n",
       "      <td>15737888</td>\n",
       "      <td>Mitchell</td>\n",
       "      <td>850</td>\n",
       "      <td>Spain</td>\n",
       "      <td>Female</td>\n",
       "      <td>43</td>\n",
       "      <td>2.0</td>\n",
       "      <td>125510.82</td>\n",
       "      <td>1</td>\n",
       "      <td>1</td>\n",
       "      <td>1</td>\n",
       "      <td>79084.10</td>\n",
       "      <td>0</td>\n",
       "    </tr>\n",
       "  </tbody>\n",
       "</table>\n",
       "</div>"
      ],
      "text/plain": [
       "   RowNumber  CustomerId   Surname  CreditScore Geography  Gender  Age  \\\n",
       "0          1    15634602  Hargrave          619    France  Female   42   \n",
       "1          2    15647311      Hill          608     Spain  Female   41   \n",
       "2          3    15619304      Onio          502    France  Female   42   \n",
       "3          4    15701354      Boni          699    France  Female   39   \n",
       "4          5    15737888  Mitchell          850     Spain  Female   43   \n",
       "\n",
       "   Tenure    Balance  NumOfProducts  HasCrCard  IsActiveMember  \\\n",
       "0     2.0       0.00              1          1               1   \n",
       "1     1.0   83807.86              1          0               1   \n",
       "2     8.0  159660.80              3          1               0   \n",
       "3     1.0       0.00              2          0               0   \n",
       "4     2.0  125510.82              1          1               1   \n",
       "\n",
       "   EstimatedSalary  Exited  \n",
       "0        101348.88       1  \n",
       "1        112542.58       0  \n",
       "2        113931.57       1  \n",
       "3         93826.63       0  \n",
       "4         79084.10       0  "
      ]
     },
     "execution_count": 6,
     "metadata": {},
     "output_type": "execute_result"
    }
   ],
   "source": [
    "data.head()"
   ]
  },
  {
   "cell_type": "code",
   "execution_count": 7,
   "metadata": {},
   "outputs": [
    {
     "data": {
      "text/plain": [
       "RowNumber            int64\n",
       "CustomerId           int64\n",
       "Surname             object\n",
       "CreditScore          int64\n",
       "Geography           object\n",
       "Gender              object\n",
       "Age                  int64\n",
       "Tenure             float64\n",
       "Balance            float64\n",
       "NumOfProducts        int64\n",
       "HasCrCard            int64\n",
       "IsActiveMember       int64\n",
       "EstimatedSalary    float64\n",
       "Exited               int64\n",
       "dtype: object"
      ]
     },
     "execution_count": 7,
     "metadata": {},
     "output_type": "execute_result"
    }
   ],
   "source": [
    "data.dtypes"
   ]
  },
  {
   "cell_type": "markdown",
   "metadata": {},
   "source": [
    "После просмотра данных в файле можно увидеть, что некоторые столбцы можно удалить, а некоторые привести к числовым значениям.\n",
    "\n",
    "Фамилии и уникальные идентификаторы лучше исключить.Уникальные идентификаторы лучше всегда исключать, так как есть вероятность переобучения модели на них. Номер строки тоже можно отнести к таким идентификаторам. Остальные категориальные столбцы преобразуем с помощью прямого кодирования."
   ]
  },
  {
   "cell_type": "code",
   "execution_count": 8,
   "metadata": {},
   "outputs": [],
   "source": [
    "data = data.drop(['Surname', 'CustomerId', 'RowNumber'] , axis=1)"
   ]
  },
  {
   "cell_type": "code",
   "execution_count": 9,
   "metadata": {},
   "outputs": [
    {
     "name": "stdout",
     "output_type": "stream",
     "text": [
      "<class 'pandas.core.frame.DataFrame'>\n",
      "RangeIndex: 10000 entries, 0 to 9999\n",
      "Data columns (total 11 columns):\n",
      " #   Column           Non-Null Count  Dtype  \n",
      "---  ------           --------------  -----  \n",
      " 0   CreditScore      10000 non-null  int64  \n",
      " 1   Geography        10000 non-null  object \n",
      " 2   Gender           10000 non-null  object \n",
      " 3   Age              10000 non-null  int64  \n",
      " 4   Tenure           9091 non-null   float64\n",
      " 5   Balance          10000 non-null  float64\n",
      " 6   NumOfProducts    10000 non-null  int64  \n",
      " 7   HasCrCard        10000 non-null  int64  \n",
      " 8   IsActiveMember   10000 non-null  int64  \n",
      " 9   EstimatedSalary  10000 non-null  float64\n",
      " 10  Exited           10000 non-null  int64  \n",
      "dtypes: float64(3), int64(6), object(2)\n",
      "memory usage: 859.5+ KB\n"
     ]
    }
   ],
   "source": [
    "data.info()"
   ]
  },
  {
   "cell_type": "markdown",
   "metadata": {},
   "source": [
    "В столбце `Tenure` есть пропущенные значения. Для корректного анализа их необходимо заполнить. Данный показатель указывает на то, сколько лет человек является клиентом банка. Скорее всего пропущенные значения указывают на то, что человек является новым клиентом банка, который еще не пробыл в нём определенное количество времени. Количество пользователей банка у которых стаж меньше года всего 382, по сравнению с прошлыми годами это очень мало, учитывая, что с каждым годом прибавляется количество пользователей. Но, так как таких пропусков менее 10%, то, чтобы не удалять строки с одной стороны, а с другой стороны не внести ложные зависимости в данные, лучше всего такие пропуски заполнить случайными значениями, сэмплированными из распределения значений признака `Tenure`.\n",
    "\n",
    "Убедимся, что характеристики распределения(mean, std, median) до и после заполнения отличаются некритично."
   ]
  },
  {
   "cell_type": "code",
   "execution_count": 10,
   "metadata": {},
   "outputs": [
    {
     "data": {
      "text/plain": [
       "count    9091.000000\n",
       "mean        4.997690\n",
       "std         2.894723\n",
       "min         0.000000\n",
       "25%         2.000000\n",
       "50%         5.000000\n",
       "75%         7.000000\n",
       "max        10.000000\n",
       "Name: Tenure, dtype: float64"
      ]
     },
     "execution_count": 10,
     "metadata": {},
     "output_type": "execute_result"
    }
   ],
   "source": [
    "data['Tenure'].describe()"
   ]
  },
  {
   "cell_type": "code",
   "execution_count": 11,
   "metadata": {},
   "outputs": [],
   "source": [
    "# для отбора записей с пропусками в Tenure\n",
    "mask = data['Tenure'].isna()\n",
    "\n",
    "# сколько пропущенных значений всего нужно заполнить\n",
    "n_samples = mask.sum()\n",
    "\n",
    "# сэмплируем случайные значения, используем values, чтобы корректно записать значения в пропущенные ячейки (игнорируя индекс)\n",
    "random_samples = data.loc[~mask, 'Tenure']\\\n",
    ".sample(n_samples, replace=True, random_state=RANDOM_STATE).values\n",
    "\n",
    "# заполняем случайными значениями пропуски\n",
    "data.loc[mask, 'Tenure'] = random_samples"
   ]
  },
  {
   "cell_type": "code",
   "execution_count": 12,
   "metadata": {},
   "outputs": [
    {
     "data": {
      "text/plain": [
       "count    10000.000000\n",
       "mean         5.006500\n",
       "std          2.891106\n",
       "min          0.000000\n",
       "25%          3.000000\n",
       "50%          5.000000\n",
       "75%          7.000000\n",
       "max         10.000000\n",
       "Name: Tenure, dtype: float64"
      ]
     },
     "execution_count": 12,
     "metadata": {},
     "output_type": "execute_result"
    }
   ],
   "source": [
    "data['Tenure'].describe()"
   ]
  },
  {
   "cell_type": "markdown",
   "metadata": {},
   "source": [
    "После проверки характеристик распределения можно сделать вывод, что характеристики медианы, среднего и стандарного отклонения изменились незначительно."
   ]
  },
  {
   "cell_type": "code",
   "execution_count": 13,
   "metadata": {},
   "outputs": [
    {
     "data": {
      "text/html": [
       "<div>\n",
       "<style scoped>\n",
       "    .dataframe tbody tr th:only-of-type {\n",
       "        vertical-align: middle;\n",
       "    }\n",
       "\n",
       "    .dataframe tbody tr th {\n",
       "        vertical-align: top;\n",
       "    }\n",
       "\n",
       "    .dataframe thead th {\n",
       "        text-align: right;\n",
       "    }\n",
       "</style>\n",
       "<table border=\"1\" class=\"dataframe\">\n",
       "  <thead>\n",
       "    <tr style=\"text-align: right;\">\n",
       "      <th></th>\n",
       "      <th>CreditScore</th>\n",
       "      <th>Geography</th>\n",
       "      <th>Gender</th>\n",
       "      <th>Age</th>\n",
       "      <th>Tenure</th>\n",
       "      <th>Balance</th>\n",
       "      <th>NumOfProducts</th>\n",
       "      <th>HasCrCard</th>\n",
       "      <th>IsActiveMember</th>\n",
       "      <th>EstimatedSalary</th>\n",
       "      <th>Exited</th>\n",
       "    </tr>\n",
       "  </thead>\n",
       "  <tbody>\n",
       "    <tr>\n",
       "      <th>0</th>\n",
       "      <td>619</td>\n",
       "      <td>France</td>\n",
       "      <td>Female</td>\n",
       "      <td>42</td>\n",
       "      <td>2.0</td>\n",
       "      <td>0.00</td>\n",
       "      <td>1</td>\n",
       "      <td>1</td>\n",
       "      <td>1</td>\n",
       "      <td>101348.88</td>\n",
       "      <td>1</td>\n",
       "    </tr>\n",
       "    <tr>\n",
       "      <th>1</th>\n",
       "      <td>608</td>\n",
       "      <td>Spain</td>\n",
       "      <td>Female</td>\n",
       "      <td>41</td>\n",
       "      <td>1.0</td>\n",
       "      <td>83807.86</td>\n",
       "      <td>1</td>\n",
       "      <td>0</td>\n",
       "      <td>1</td>\n",
       "      <td>112542.58</td>\n",
       "      <td>0</td>\n",
       "    </tr>\n",
       "    <tr>\n",
       "      <th>2</th>\n",
       "      <td>502</td>\n",
       "      <td>France</td>\n",
       "      <td>Female</td>\n",
       "      <td>42</td>\n",
       "      <td>8.0</td>\n",
       "      <td>159660.80</td>\n",
       "      <td>3</td>\n",
       "      <td>1</td>\n",
       "      <td>0</td>\n",
       "      <td>113931.57</td>\n",
       "      <td>1</td>\n",
       "    </tr>\n",
       "    <tr>\n",
       "      <th>3</th>\n",
       "      <td>699</td>\n",
       "      <td>France</td>\n",
       "      <td>Female</td>\n",
       "      <td>39</td>\n",
       "      <td>1.0</td>\n",
       "      <td>0.00</td>\n",
       "      <td>2</td>\n",
       "      <td>0</td>\n",
       "      <td>0</td>\n",
       "      <td>93826.63</td>\n",
       "      <td>0</td>\n",
       "    </tr>\n",
       "    <tr>\n",
       "      <th>4</th>\n",
       "      <td>850</td>\n",
       "      <td>Spain</td>\n",
       "      <td>Female</td>\n",
       "      <td>43</td>\n",
       "      <td>2.0</td>\n",
       "      <td>125510.82</td>\n",
       "      <td>1</td>\n",
       "      <td>1</td>\n",
       "      <td>1</td>\n",
       "      <td>79084.10</td>\n",
       "      <td>0</td>\n",
       "    </tr>\n",
       "  </tbody>\n",
       "</table>\n",
       "</div>"
      ],
      "text/plain": [
       "   CreditScore Geography  Gender  Age  Tenure    Balance  NumOfProducts  \\\n",
       "0          619    France  Female   42     2.0       0.00              1   \n",
       "1          608     Spain  Female   41     1.0   83807.86              1   \n",
       "2          502    France  Female   42     8.0  159660.80              3   \n",
       "3          699    France  Female   39     1.0       0.00              2   \n",
       "4          850     Spain  Female   43     2.0  125510.82              1   \n",
       "\n",
       "   HasCrCard  IsActiveMember  EstimatedSalary  Exited  \n",
       "0          1               1        101348.88       1  \n",
       "1          0               1        112542.58       0  \n",
       "2          1               0        113931.57       1  \n",
       "3          0               0         93826.63       0  \n",
       "4          1               1         79084.10       0  "
      ]
     },
     "execution_count": 13,
     "metadata": {},
     "output_type": "execute_result"
    }
   ],
   "source": [
    "data.head()"
   ]
  },
  {
   "cell_type": "markdown",
   "metadata": {},
   "source": [
    "Примени OneHotEncoder для нашего датасета. Для начала определим, какие столбцы будем считать категориальными."
   ]
  },
  {
   "cell_type": "code",
   "execution_count": 14,
   "metadata": {},
   "outputs": [],
   "source": [
    "# определяем, какие столбцы считаем категориальными\n",
    "categorical_feature_names = ['Geography', 'Gender', 'NumOfProducts']"
   ]
  },
  {
   "cell_type": "code",
   "execution_count": 15,
   "metadata": {},
   "outputs": [],
   "source": [
    "# определяем OHE кодирование\n",
    "ohe = OneHotEncoder(sparse=False, handle_unknown='ignore')"
   ]
  },
  {
   "cell_type": "markdown",
   "metadata": {},
   "source": [
    "Сначала разделим исходный датасет на тестовую выборку и исходные данные. Тестовая выборка будет составлят 20%. Так как в целевом признаке есть дисбаланс, выборки лучше стратифицировать с помощью параметра `stratify` в `train_test_split`. "
   ]
  },
  {
   "cell_type": "code",
   "execution_count": 16,
   "metadata": {},
   "outputs": [],
   "source": [
    "source_df, test_df = train_test_split(data, test_size=0.2, shuffle=True,\n",
    "                                      random_state=RANDOM_STATE, stratify=data[\"Exited\"])"
   ]
  },
  {
   "cell_type": "markdown",
   "metadata": {},
   "source": [
    "Далее разделим исходные данные на обучающую выборку и валидационную. Валидационная будет составлять 25% от исходных данных. Таким образом исходный датасет мы разделили по соотношению 3:1:1."
   ]
  },
  {
   "cell_type": "code",
   "execution_count": 17,
   "metadata": {},
   "outputs": [],
   "source": [
    "train_df, valid_df = train_test_split(source_df, test_size=0.25, shuffle=True,\n",
    "                                      random_state=RANDOM_STATE, stratify=source_df[\"Exited\"])"
   ]
  },
  {
   "cell_type": "markdown",
   "metadata": {},
   "source": [
    "Проверим выборки на размеры."
   ]
  },
  {
   "cell_type": "code",
   "execution_count": 18,
   "metadata": {},
   "outputs": [
    {
     "data": {
      "text/plain": [
       "(6000, 11)"
      ]
     },
     "execution_count": 18,
     "metadata": {},
     "output_type": "execute_result"
    }
   ],
   "source": [
    "train_df.shape"
   ]
  },
  {
   "cell_type": "code",
   "execution_count": 19,
   "metadata": {},
   "outputs": [
    {
     "data": {
      "text/plain": [
       "(2000, 11)"
      ]
     },
     "execution_count": 19,
     "metadata": {},
     "output_type": "execute_result"
    }
   ],
   "source": [
    "valid_df.shape"
   ]
  },
  {
   "cell_type": "code",
   "execution_count": 20,
   "metadata": {},
   "outputs": [
    {
     "data": {
      "text/plain": [
       "(2000, 11)"
      ]
     },
     "execution_count": 20,
     "metadata": {},
     "output_type": "execute_result"
    }
   ],
   "source": [
    "test_df.shape"
   ]
  },
  {
   "cell_type": "markdown",
   "metadata": {},
   "source": [
    "Определим `target` и `features` на тренировочной, валидационной и тестовой выборках."
   ]
  },
  {
   "cell_type": "code",
   "execution_count": 21,
   "metadata": {},
   "outputs": [],
   "source": [
    "# определяем таргет и признаки на тренировочной части\n",
    "target_train = train_df['Exited']\n",
    "train_features_df = train_df.drop('Exited', axis=1)"
   ]
  },
  {
   "cell_type": "code",
   "execution_count": 22,
   "metadata": {},
   "outputs": [],
   "source": [
    "# определяем таргет и признаки на валидационной части\n",
    "target_valid = valid_df['Exited']\n",
    "valid_features_df = valid_df.drop('Exited', axis=1)"
   ]
  },
  {
   "cell_type": "code",
   "execution_count": 23,
   "metadata": {},
   "outputs": [],
   "source": [
    "# определяем таргет и признаки на тестовой части\n",
    "target_test = test_df['Exited']\n",
    "test_features_df = test_df.drop('Exited', axis=1)"
   ]
  },
  {
   "cell_type": "markdown",
   "metadata": {},
   "source": [
    "Применяем OHE на наши данные."
   ]
  },
  {
   "cell_type": "code",
   "execution_count": 24,
   "metadata": {},
   "outputs": [],
   "source": [
    "# выводим параметры OHE-преобразования на тренировочной части, одновременно выполняем преобразование\n",
    "ohe_train_vals = ohe.fit_transform(train_features_df[categorical_feature_names].values)\n",
    "\n",
    "# применяем OHE (с параметрами, выведенными на тренировочной части) на валидационной части \n",
    "ohe_valid_vals = ohe.transform(valid_features_df[categorical_feature_names].values)\n",
    "\n",
    "# применяем OHE (с параметрами, выведенными на тренировочной части) на тестовой части \n",
    "ohe_test_vals = ohe.transform(test_features_df[categorical_feature_names].values)"
   ]
  },
  {
   "cell_type": "code",
   "execution_count": 25,
   "metadata": {},
   "outputs": [],
   "source": [
    "# оборачиваем в датафреймы для удобства \n",
    "ohe_train_df = pd.DataFrame(ohe_train_vals, index=train_features_df.index,\n",
    "                            columns=ohe.get_feature_names())\n",
    "ohe_valid_df = pd.DataFrame(ohe_valid_vals, index=valid_features_df.index,\n",
    "                            columns=ohe.get_feature_names())\n",
    "ohe_test_df = pd.DataFrame(ohe_test_vals, index=test_features_df.index,\n",
    "                           columns=ohe.get_feature_names())"
   ]
  },
  {
   "cell_type": "code",
   "execution_count": 26,
   "metadata": {},
   "outputs": [],
   "source": [
    "# удаляем исходные категориальные столбцы и добавляем новые из OHE\n",
    "train_features_df = train_features_df.drop(categorical_feature_names, axis=1)\n",
    "features_train = train_features_df.join(ohe_train_df) \n",
    "\n",
    "# удаляем исходные категориальные столбцы и добавляем новые из OHE\n",
    "valid_features_df = valid_features_df.drop(categorical_feature_names, axis=1)\n",
    "features_valid = valid_features_df.join(ohe_valid_df)\n",
    "\n",
    "# удаляем исходные категориальные столбцы и добавляем новые из OHE\n",
    "test_features_df = test_features_df.drop(categorical_feature_names, axis=1)\n",
    "features_test = test_features_df.join(ohe_test_df) "
   ]
  },
  {
   "cell_type": "markdown",
   "metadata": {},
   "source": [
    "Проверяем размерность полученных выборок."
   ]
  },
  {
   "cell_type": "code",
   "execution_count": 27,
   "metadata": {},
   "outputs": [
    {
     "name": "stdout",
     "output_type": "stream",
     "text": [
      "Тренировочная выборка: (6000, 16).\n",
      "Валидационная выборка: (2000, 16).\n",
      "Тестовая выборка: (2000, 16).\n"
     ]
    }
   ],
   "source": [
    "print(f'Тренировочная выборка: {features_train.shape}.')\n",
    "print(f'Валидационная выборка: {features_valid.shape}.')\n",
    "print(f'Тестовая выборка: {features_test.shape}.')"
   ]
  },
  {
   "cell_type": "markdown",
   "metadata": {},
   "source": [
    "Для логистической регрессии проведем масштабирование данных."
   ]
  },
  {
   "cell_type": "code",
   "execution_count": 28,
   "metadata": {},
   "outputs": [],
   "source": [
    "scaler = StandardScaler()"
   ]
  },
  {
   "cell_type": "code",
   "execution_count": 29,
   "metadata": {},
   "outputs": [],
   "source": [
    "features_train_scaled = scaler.fit_transform(features_train) \n",
    "features_valid_scaled = scaler.transform(features_valid)\n",
    "features_test_scaled = scaler.transform(features_test)"
   ]
  },
  {
   "cell_type": "markdown",
   "metadata": {},
   "source": [
    "## Исследование задачи"
   ]
  },
  {
   "cell_type": "markdown",
   "metadata": {},
   "source": [
    "Проведем исследование данных на баланс классов."
   ]
  },
  {
   "cell_type": "code",
   "execution_count": 30,
   "metadata": {},
   "outputs": [
    {
     "data": {
      "text/plain": [
       "0    7963\n",
       "1    2037\n",
       "Name: Exited, dtype: int64"
      ]
     },
     "execution_count": 30,
     "metadata": {},
     "output_type": "execute_result"
    }
   ],
   "source": [
    "data['Exited'].value_counts()"
   ]
  },
  {
   "cell_type": "code",
   "execution_count": 31,
   "metadata": {},
   "outputs": [
    {
     "data": {
      "image/png": "[encoded data removed]",
      "text/plain": [
       "<Figure size 1080x576 with 1 Axes>"
      ]
     },
     "metadata": {},
     "output_type": "display_data"
    }
   ],
   "source": [
    "data['Exited'].value_counts().plot.pie(subplots=True, figsize=(15,8), autopct='%1.0f%%', legend=False)\n",
    "plt.title('Распределение классов в целевом показателе');"
   ]
  },
  {
   "cell_type": "code",
   "execution_count": 32,
   "metadata": {},
   "outputs": [],
   "source": [
    "A = (data['Exited'] == 0).sum()/(data['Exited'] == 1).sum()"
   ]
  },
  {
   "cell_type": "code",
   "execution_count": 33,
   "metadata": {},
   "outputs": [],
   "source": [
    "B = 1 / A"
   ]
  },
  {
   "cell_type": "markdown",
   "metadata": {},
   "source": [
    "При просмотре данных целевого показателя, можно заметить, что значения `0` встречаются в 4 раза чаще, чем значения `1`. Из этого можно сделать вывод, что в данных есть дисбаланс. Обучим модели и посмотрим на результаты метрик при дисбалансе данных. \n",
    "\n",
    "Для дальнейших действий нам понадобятся параметры `A` - repeat и `B` - fraction."
   ]
  },
  {
   "cell_type": "markdown",
   "metadata": {},
   "source": [
    "Для более удобного просмотра данных в конце проекта создадим таблицу. Данные из каждой модели будем записывать в словать `dict`."
   ]
  },
  {
   "cell_type": "code",
   "execution_count": 34,
   "metadata": {},
   "outputs": [],
   "source": [
    "dict = {}"
   ]
  },
  {
   "cell_type": "markdown",
   "metadata": {},
   "source": [
    "### Модель решающее дерево"
   ]
  },
  {
   "cell_type": "markdown",
   "metadata": {},
   "source": [
    "Первая модель, которую мы будем исследовать, это решающее дерево. Обучим модель без учёта дисбаланса, посмотрим на матрицу ошибок, на метрику `F1`, а также на метрику `AUC-ROC`.\n",
    "\n",
    "Во-первых, подберем параметры максимальной глубины решающего дерева."
   ]
  },
  {
   "cell_type": "code",
   "execution_count": 35,
   "metadata": {},
   "outputs": [
    {
     "data": {
      "text/plain": [
       "DecisionTreeClassifier(max_depth=9, random_state=12345)"
      ]
     },
     "execution_count": 35,
     "metadata": {},
     "output_type": "execute_result"
    }
   ],
   "source": [
    "best_model = None\n",
    "best_result = 0\n",
    "for depth in range (1, 16, 1):\n",
    "    model = DecisionTreeClassifier(random_state=RANDOM_STATE, max_depth = depth)\n",
    "    model.fit(features_train, target_train) \n",
    "    predicted_valid = model.predict(features_valid) \n",
    "    result = f1_score(target_valid, predicted_valid)\n",
    "    if result > best_result:\n",
    "        best_model = model\n",
    "        best_result = result\n",
    "        \n",
    "best_model"
   ]
  },
  {
   "cell_type": "markdown",
   "metadata": {},
   "source": [
    "Во-вторых обучим модель с наилучшими подобранными гиперпараметрами."
   ]
  },
  {
   "cell_type": "code",
   "execution_count": 36,
   "metadata": {},
   "outputs": [
    {
     "name": "stdout",
     "output_type": "stream",
     "text": [
      "F1: 0.5754985754985754\n",
      "AUC-ROC: 0.7916329272261475\n",
      "Confusion matrix:\n",
      "[[1500   93]\n",
      " [ 205  202]]\n"
     ]
    }
   ],
   "source": [
    "model = DecisionTreeClassifier(random_state=RANDOM_STATE, max_depth = 9)\n",
    "model.fit(features_train, target_train) \n",
    "predicted_valid = model.predict(features_valid) \n",
    "\n",
    "print('F1:', f1_score(target_valid, predicted_valid))\n",
    "\n",
    "probabilities_valid = model.predict_proba(features_valid)\n",
    "probabilities_one_valid = probabilities_valid[:, 1]\n",
    "auc_roc = roc_auc_score(target_valid, probabilities_one_valid)\n",
    "print('AUC-ROC:', auc_roc)\n",
    "\n",
    "print('Confusion matrix:')\n",
    "print(confusion_matrix(target_valid, predicted_valid))\n",
    "\n",
    "dict['DTC db'] = [f1_score(target_valid, predicted_valid), auc_roc]"
   ]
  },
  {
   "cell_type": "markdown",
   "metadata": {},
   "source": [
    "После подбора гиперпараметров и обучения модели, из данного анализа можно сделать вывод:\n",
    "- модель решающего дерева после обучения имеет метрику `F1` равную всего лишь `0.57`;\n",
    "- `AUC-ROC` равна `0.79`;\n",
    "- матрица ошибок показывает нам, что модель имеет дисбаланс классов. Истино отрицательных ответов в несколько раз больше чем остальных. Ложноотрицательных ответов также в 2 раза больше, чем ложноположительных."
   ]
  },
  {
   "cell_type": "markdown",
   "metadata": {},
   "source": [
    "### Модель случайный лес"
   ]
  },
  {
   "cell_type": "markdown",
   "metadata": {},
   "source": [
    "Вторая модель, которую мы будем исследовать, это случайный лес. Мы также обучим модель без учёта дисбаланса классов, посмотрим на матрицу ошибок, на метрику `F1`, а также на метрику `AUC-ROC` .\n",
    "\n",
    "Во-первых, также подберем наилучшие гиперпараметры для модели случайного леса."
   ]
  },
  {
   "cell_type": "code",
   "execution_count": 37,
   "metadata": {},
   "outputs": [
    {
     "data": {
      "text/plain": [
       "RandomForestClassifier(max_depth=19, n_estimators=50, random_state=12345)"
      ]
     },
     "execution_count": 37,
     "metadata": {},
     "output_type": "execute_result"
    }
   ],
   "source": [
    "best_model = None\n",
    "best_result = 0\n",
    "best_est = 0\n",
    "best_depth = 0\n",
    "for est in range(10, 60, 10):\n",
    "    for depth in range (1, 20, 1):\n",
    "        model = RandomForestClassifier(random_state=RANDOM_STATE, n_estimators=est, max_depth=depth)\n",
    "        model.fit(features_train, target_train) \n",
    "        predictions_valid = model.predict(features_valid)\n",
    "        result = f1_score(target_valid, predictions_valid)\n",
    "        if result > best_result:\n",
    "            best_model = model\n",
    "            best_result = result\n",
    "            best_est = est\n",
    "            best_depth = depth\n",
    "\n",
    "best_model"
   ]
  },
  {
   "cell_type": "markdown",
   "metadata": {},
   "source": [
    "Во-вторых, обучим модель с наилучшими гиперпараметрами и посмотрим на результаты метрик."
   ]
  },
  {
   "cell_type": "code",
   "execution_count": 38,
   "metadata": {},
   "outputs": [
    {
     "name": "stdout",
     "output_type": "stream",
     "text": [
      "F1: 0.5864661654135339\n",
      "AUC-ROC: 0.8496855869737225\n",
      "Confusion matrix:\n",
      "[[1530   63]\n",
      " [ 212  195]]\n"
     ]
    }
   ],
   "source": [
    "model = RandomForestClassifier(random_state=RANDOM_STATE, n_estimators=50, max_depth=19)\n",
    "model.fit(features_train, target_train) \n",
    "predicted_valid = model.predict(features_valid)\n",
    "\n",
    "print('F1:', f1_score(target_valid, predicted_valid))\n",
    "\n",
    "probabilities_valid = model.predict_proba(features_valid)\n",
    "probabilities_one_valid = probabilities_valid[:, 1]\n",
    "auc_roc = roc_auc_score(target_valid, probabilities_one_valid)\n",
    "print('AUC-ROC:', auc_roc)\n",
    "\n",
    "print('Confusion matrix:')\n",
    "print(confusion_matrix(target_valid, predicted_valid))\n",
    "\n",
    "dict['RFC db'] = [f1_score(target_valid, predicted_valid), auc_roc]"
   ]
  },
  {
   "cell_type": "markdown",
   "metadata": {},
   "source": [
    "Из данного анализа можно сделать вывод, что:\n",
    "\n",
    "- модель случайного леса после обучения имеет метрику `F1` чуть выше, чем модель решающего дерева `0.586`;\n",
    "- `AUC-ROC` равна `0.85`, что лучше, чем в моделе решающего дерева;\n",
    "- матрица ошибок также показывает нам, что истино отрицательных ответов в несколько раз больше чем истинно положительных. Ложноотрицательных ответов в 3 раза больше чем ложноположительных."
   ]
  },
  {
   "cell_type": "markdown",
   "metadata": {},
   "source": [
    "### Модель логистической регрессии"
   ]
  },
  {
   "cell_type": "markdown",
   "metadata": {},
   "source": [
    "Третья модель, которую мы будем исследовать, это случайный лес. Мы также обучим модель, посмотрим на матрицу ошибок, на метрику `F1`, а также на метрику `AUC-ROC`."
   ]
  },
  {
   "cell_type": "code",
   "execution_count": 39,
   "metadata": {},
   "outputs": [
    {
     "name": "stdout",
     "output_type": "stream",
     "text": [
      "F1: 0.47419354838709676\n",
      "AUC-ROC: 0.8464566261176429\n",
      "Confusion matrix:\n",
      "[[1527   66]\n",
      " [ 260  147]]\n"
     ]
    }
   ],
   "source": [
    "model = LogisticRegression(random_state=RANDOM_STATE, solver='liblinear', max_iter=1000)\n",
    "model.fit(features_train_scaled , target_train)\n",
    "predicted_valid = model.predict(features_valid_scaled)\n",
    "\n",
    "print(\"F1:\", f1_score(target_valid, predicted_valid))\n",
    "\n",
    "probabilities_valid = model.predict_proba(features_valid_scaled)\n",
    "probabilities_one_valid = probabilities_valid[:, 1]\n",
    "auc_roc = roc_auc_score(target_valid, probabilities_one_valid)\n",
    "print('AUC-ROC:', auc_roc)\n",
    "\n",
    "print('Confusion matrix:')\n",
    "print(confusion_matrix(target_valid, predicted_valid))\n",
    "\n",
    "dict['LG db'] = [f1_score(target_valid, predicted_valid), auc_roc]"
   ]
  },
  {
   "cell_type": "markdown",
   "metadata": {},
   "source": [
    "Из данного анализа можно сделать вывод, что:\n",
    "- модель логистической регрессии после обучения имеет самую худшую метрику `F1` равную `0.47`;\n",
    "- `AUC-ROC` равна `0.84`;\n",
    "- матрица ошибок также показывает нам, что баланса классов нет. Истино отрицательных ответов в несколько раз больше чем остальных. Ложноотрицательные ответы также в несколько раз больше, чем оставшиеся."
   ]
  },
  {
   "cell_type": "markdown",
   "metadata": {},
   "source": [
    "## Борьба с дисбалансом"
   ]
  },
  {
   "cell_type": "markdown",
   "metadata": {},
   "source": [
    "Для улучшения качества модели необходимо улучшить баланс классов. Для начала воспользуемся аргументом `class_weight`. Сравним результаты моделей.\n",
    "\n",
    "Начнем с моделей решающего дерева."
   ]
  },
  {
   "cell_type": "markdown",
   "metadata": {},
   "source": [
    "### Решающее дерево"
   ]
  },
  {
   "cell_type": "markdown",
   "metadata": {},
   "source": [
    "#### Взвешивание классов"
   ]
  },
  {
   "cell_type": "markdown",
   "metadata": {},
   "source": [
    "Для начала подберем лучшие параметры для модели, которая будет использовать для баланса метод взвешивания классов. Придадим объектам редкого класса больший вес."
   ]
  },
  {
   "cell_type": "code",
   "execution_count": 40,
   "metadata": {},
   "outputs": [
    {
     "data": {
      "text/plain": [
       "DecisionTreeClassifier(class_weight='balanced', max_depth=3, random_state=12345)"
      ]
     },
     "execution_count": 40,
     "metadata": {},
     "output_type": "execute_result"
    }
   ],
   "source": [
    "best_model = None\n",
    "best_result = 0\n",
    "for depth in range (1, 20, 1):\n",
    "    model = DecisionTreeClassifier(random_state=RANDOM_STATE, max_depth = depth, class_weight='balanced')\n",
    "    model.fit(features_train, target_train) \n",
    "    predicted_valid = model.predict(features_valid) \n",
    "    result = f1_score(target_valid, predicted_valid)\n",
    "    if result > best_result:\n",
    "        best_model = model\n",
    "        best_result = result\n",
    "        \n",
    "best_model"
   ]
  },
  {
   "cell_type": "markdown",
   "metadata": {},
   "source": [
    "Видим, что глубина решающего дерева при балансе классов методом вщвешивания равна 3. Обучим модель с наилучшими гиперпараметрами и посмотрим на результаты метрик."
   ]
  },
  {
   "cell_type": "code",
   "execution_count": 41,
   "metadata": {},
   "outputs": [
    {
     "name": "stdout",
     "output_type": "stream",
     "text": [
      "F1: 0.5659287776708374\n",
      "AUC-ROC: 0.8163942062247147\n",
      "Confusion matrix:\n",
      "[[1255  338]\n",
      " [ 113  294]]\n"
     ]
    }
   ],
   "source": [
    "model = DecisionTreeClassifier(random_state=RANDOM_STATE, max_depth = 3, class_weight='balanced')\n",
    "model.fit(features_train, target_train) \n",
    "predicted_valid = model.predict(features_valid) \n",
    "\n",
    "print('F1:', f1_score(target_valid, predicted_valid))\n",
    "\n",
    "probabilities_valid = model.predict_proba(features_valid)\n",
    "probabilities_one_valid = probabilities_valid[:, 1]\n",
    "auc_roc = roc_auc_score(target_valid, probabilities_one_valid)\n",
    "print('AUC-ROC:', auc_roc)\n",
    "\n",
    "print('Confusion matrix:')\n",
    "print(confusion_matrix(target_valid, predicted_valid))\n",
    "\n",
    "dict['DTC b_1'] = [f1_score(target_valid, predicted_valid), auc_roc]"
   ]
  },
  {
   "cell_type": "markdown",
   "metadata": {},
   "source": [
    "После обучения можно сделать вывод:\n",
    "- модель решающего дерева после обучения имеет метрику `F1` незначительно, но меньше, чем без взвешивания классов и равную 0.566;\n",
    "- `AUC-ROC` равна `0.81`, немного увеличилось;\n",
    "- матрица ошибок немного изменилась. Истино отрицательных ответов стало меньше, прибавилось истинно полоэительных ответов, но ложноположительных также прибавилось в несколько раз, ложно отрицательных ответов стало меньше."
   ]
  },
  {
   "cell_type": "markdown",
   "metadata": {},
   "source": [
    "#### Увеличение выборки"
   ]
  },
  {
   "cell_type": "markdown",
   "metadata": {},
   "source": [
    "Следующим методом балансирования классов будет увеличение выборки."
   ]
  },
  {
   "cell_type": "markdown",
   "metadata": {},
   "source": [
    "Следует написать функцию для увеличения выборки."
   ]
  },
  {
   "cell_type": "code",
   "execution_count": 42,
   "metadata": {},
   "outputs": [],
   "source": [
    "def upsample(features, target, repeat):\n",
    "    features_zeros = features[target == 0]\n",
    "    features_ones = features[target == 1]\n",
    "    target_zeros = target[target == 0]\n",
    "    target_ones = target[target == 1]\n",
    "\n",
    "    features_upsampled = pd.concat([features_zeros] + [features_ones] * repeat)\n",
    "    target_upsampled = pd.concat([target_zeros] + [target_ones] * repeat)\n",
    "    \n",
    "    features_upsampled, target_upsampled = shuffle(features_upsampled, target_upsampled, random_state=12345)\n",
    "    \n",
    "    return features_upsampled, target_upsampled"
   ]
  },
  {
   "cell_type": "markdown",
   "metadata": {},
   "source": [
    "Получим сбалансированные данные."
   ]
  },
  {
   "cell_type": "code",
   "execution_count": 43,
   "metadata": {},
   "outputs": [],
   "source": [
    "features_upsampled, target_upsampled = upsample(features_train, target_train, round(A))"
   ]
  },
  {
   "cell_type": "markdown",
   "metadata": {},
   "source": [
    "Найдем лучшие гиперпараметры."
   ]
  },
  {
   "cell_type": "code",
   "execution_count": 44,
   "metadata": {},
   "outputs": [
    {
     "data": {
      "text/plain": [
       "DecisionTreeClassifier(max_depth=3, random_state=12345)"
      ]
     },
     "execution_count": 44,
     "metadata": {},
     "output_type": "execute_result"
    }
   ],
   "source": [
    "best_model = None\n",
    "best_result = 0\n",
    "for depth in range (1, 20, 1):\n",
    "    model = DecisionTreeClassifier(random_state=RANDOM_STATE, max_depth = depth)\n",
    "    model.fit(features_upsampled, target_upsampled) \n",
    "    predicted_valid = model.predict(features_valid) \n",
    "    result = f1_score(target_valid, predicted_valid)\n",
    "    if result > best_result:\n",
    "        best_model = model\n",
    "        best_result = result\n",
    "        \n",
    "best_model"
   ]
  },
  {
   "cell_type": "markdown",
   "metadata": {},
   "source": [
    "Обучаем модель с подходящими гиперпараметрами и смотрим, какие показатели будут у метрик."
   ]
  },
  {
   "cell_type": "code",
   "execution_count": 45,
   "metadata": {},
   "outputs": [
    {
     "name": "stdout",
     "output_type": "stream",
     "text": [
      "F1: 0.5659287776708374\n",
      "AUC-ROC: 0.8163942062247147\n",
      "Confusion matrix:\n",
      "[[1255  338]\n",
      " [ 113  294]]\n"
     ]
    }
   ],
   "source": [
    "model = DecisionTreeClassifier(random_state=RANDOM_STATE, max_depth = 3)\n",
    "model.fit(features_upsampled, target_upsampled) \n",
    "predicted_valid = model.predict(features_valid) \n",
    "\n",
    "print('F1:', f1_score(target_valid, predicted_valid))\n",
    "\n",
    "probabilities_valid = model.predict_proba(features_valid)\n",
    "probabilities_one_valid = probabilities_valid[:, 1]\n",
    "auc_roc = roc_auc_score(target_valid, probabilities_one_valid)\n",
    "print('AUC-ROC:', auc_roc)\n",
    "\n",
    "print('Confusion matrix:')\n",
    "print(confusion_matrix(target_valid, predicted_valid))\n",
    "\n",
    "dict['DTC b_2'] = [f1_score(target_valid, predicted_valid), auc_roc]"
   ]
  },
  {
   "cell_type": "markdown",
   "metadata": {},
   "source": [
    "После увеличения выборки, данные также улучшились:\n",
    "- модель решающего дерева после обучения имеет метрику `F1` равную `0.56`;\n",
    "- `AUC-ROC` равна `0.81`.\n",
    "- как и в предыдущем методе матрица ошибок имеет такое же распределение."
   ]
  },
  {
   "cell_type": "markdown",
   "metadata": {},
   "source": [
    "#### Уменьшение выборки"
   ]
  },
  {
   "cell_type": "markdown",
   "metadata": {},
   "source": [
    "Слудющий метод баланса классов уменьшение выборки. Напишем функцию для уменьшения выборки."
   ]
  },
  {
   "cell_type": "code",
   "execution_count": 46,
   "metadata": {},
   "outputs": [],
   "source": [
    "def downsample(features, target, fraction):\n",
    "    features_zeros = features[target == 0]\n",
    "    features_ones = features[target == 1]\n",
    "    target_zeros = target[target == 0]\n",
    "    target_ones = target[target == 1]\n",
    "\n",
    "    features_downsampled = pd.concat(\n",
    "        [features_zeros.sample(frac=fraction, random_state=RANDOM_STATE)] + [features_ones])\n",
    "    target_downsampled = pd.concat(\n",
    "        [target_zeros.sample(frac=fraction, random_state=RANDOM_STATE)] + [target_ones])\n",
    "    \n",
    "    features_downsampled, target_downsampled = shuffle(\n",
    "        features_downsampled, target_downsampled, random_state=RANDOM_STATE)\n",
    "    \n",
    "    return features_downsampled, target_downsampled"
   ]
  },
  {
   "cell_type": "markdown",
   "metadata": {},
   "source": [
    "Найдем значения уменьшенной выборки с параметром `frac` равным `B`."
   ]
  },
  {
   "cell_type": "code",
   "execution_count": 47,
   "metadata": {},
   "outputs": [],
   "source": [
    "features_downsampled, target_downsampled = downsample(features_train, target_train, B)"
   ]
  },
  {
   "cell_type": "markdown",
   "metadata": {},
   "source": [
    "Найдем наилучшие гиперпарамтеры для модели решающего дерева."
   ]
  },
  {
   "cell_type": "code",
   "execution_count": 48,
   "metadata": {},
   "outputs": [
    {
     "data": {
      "text/plain": [
       "DecisionTreeClassifier(max_depth=6, random_state=12345)"
      ]
     },
     "execution_count": 48,
     "metadata": {},
     "output_type": "execute_result"
    }
   ],
   "source": [
    "best_model = None\n",
    "best_result = 0\n",
    "for depth in range (1, 20, 1):\n",
    "    model = DecisionTreeClassifier(random_state=RANDOM_STATE, max_depth = depth)\n",
    "    model.fit(features_downsampled, target_downsampled) \n",
    "    predicted_valid = model.predict(features_valid) \n",
    "    result = f1_score(target_valid, predicted_valid)\n",
    "    if result > best_result:\n",
    "        best_model = model\n",
    "        best_result = result\n",
    "        \n",
    "best_model"
   ]
  },
  {
   "cell_type": "code",
   "execution_count": 49,
   "metadata": {},
   "outputs": [
    {
     "name": "stdout",
     "output_type": "stream",
     "text": [
      "F1: 0.5943304007820137\n",
      "AUC-ROC: 0.8375725494369562\n",
      "Confusion matrix:\n",
      "[[1281  312]\n",
      " [ 103  304]]\n"
     ]
    }
   ],
   "source": [
    "model = DecisionTreeClassifier(random_state=RANDOM_STATE, max_depth = 6)\n",
    "model.fit(features_downsampled, target_downsampled)\n",
    "predicted_valid = model.predict(features_valid) \n",
    "\n",
    "print('F1:', f1_score(target_valid, predicted_valid))\n",
    "\n",
    "probabilities_valid = model.predict_proba(features_valid)\n",
    "probabilities_one_valid = probabilities_valid[:, 1]\n",
    "auc_roc = roc_auc_score(target_valid, probabilities_one_valid)\n",
    "print('AUC-ROC:', auc_roc)\n",
    "\n",
    "print('Confusion matrix:')\n",
    "print(confusion_matrix(target_valid, predicted_valid))\n",
    "\n",
    "dict['DTC b_3'] = [f1_score(target_valid, predicted_valid), auc_roc]"
   ]
  },
  {
   "cell_type": "markdown",
   "metadata": {},
   "source": [
    "После уменьшения выборки можно сделать вывод, что:\n",
    "- метрика `F1` увеличилась до `0,59`;\n",
    "- метрика `AUC-ROC` также улучшилась до `0,83`;\n",
    "- матрица ошибок имеет такое же распределение, как и раньше.\n",
    "\n",
    "Данная модель с применением метода уменьшения выборки показала лучший результат среди предыдущих методов."
   ]
  },
  {
   "cell_type": "markdown",
   "metadata": {},
   "source": [
    "### Случайный лес"
   ]
  },
  {
   "cell_type": "markdown",
   "metadata": {},
   "source": [
    "#### Взвешивание классов"
   ]
  },
  {
   "cell_type": "markdown",
   "metadata": {},
   "source": [
    "Первый метод, который мы применим к модели случайного леса будет взвешивание классов. Для начала подберем лучшие параметры для модели, в которой будем использовать метод взвешивания классов. Придадим объектам редкого класса больший вес."
   ]
  },
  {
   "cell_type": "code",
   "execution_count": 50,
   "metadata": {},
   "outputs": [
    {
     "data": {
      "text/plain": [
       "RandomForestClassifier(class_weight='balanced', max_depth=10, n_estimators=50,\n",
       "                       random_state=12345)"
      ]
     },
     "execution_count": 50,
     "metadata": {},
     "output_type": "execute_result"
    }
   ],
   "source": [
    "best_model = None\n",
    "best_result = 0\n",
    "best_est = 0\n",
    "best_depth = 0\n",
    "for est in range(10, 70, 10):\n",
    "    for depth in range (1, 11, 1):\n",
    "        model = RandomForestClassifier(random_state=RANDOM_STATE, n_estimators=est, max_depth=depth,\n",
    "                                       class_weight='balanced')\n",
    "        model.fit(features_train, target_train) \n",
    "        predictions_valid = model.predict(features_valid)\n",
    "        result = f1_score(target_valid, predictions_valid)\n",
    "        if result > best_result:\n",
    "            best_model = model\n",
    "            best_result = result\n",
    "            best_est = est\n",
    "            best_depth = depth\n",
    "\n",
    "best_model"
   ]
  },
  {
   "cell_type": "markdown",
   "metadata": {},
   "source": [
    "После найденых наилучших гиперпараметров, обучим модель. Посмотрим на результаты метрик."
   ]
  },
  {
   "cell_type": "code",
   "execution_count": 51,
   "metadata": {},
   "outputs": [
    {
     "name": "stdout",
     "output_type": "stream",
     "text": [
      "F1: 0.6380510440835268\n",
      "AUC-ROC: 0.8638962537267623\n",
      "Confusion matrix:\n",
      "[[1413  180]\n",
      " [ 132  275]]\n"
     ]
    }
   ],
   "source": [
    "model = RandomForestClassifier(random_state=RANDOM_STATE, n_estimators=50, max_depth=10, class_weight='balanced')\n",
    "model.fit(features_train, target_train) \n",
    "predicted_valid = model.predict(features_valid)\n",
    "\n",
    "print('F1:', f1_score(target_valid, predicted_valid))\n",
    "\n",
    "probabilities_valid = model.predict_proba(features_valid)\n",
    "probabilities_one_valid = probabilities_valid[:, 1]\n",
    "auc_roc = roc_auc_score(target_valid, probabilities_one_valid)\n",
    "print('AUC-ROC:', auc_roc)\n",
    "\n",
    "print('Confusion matrix:')\n",
    "print(confusion_matrix(target_valid, predicted_valid))\n",
    "\n",
    "dict['RFC b_1'] = [f1_score(target_valid, predicted_valid), auc_roc]"
   ]
  },
  {
   "cell_type": "markdown",
   "metadata": {},
   "source": [
    "После увеличение веса одного класса модель улучшила свои метрики. Можно сделать вывод, что:\n",
    "- метрика F1 увеличилась и стала 0,638;\n",
    "- метрика AUC-ROC также увеличилась до 0,863;\n",
    "- матрица ошибок изменилась, но не значительно. Истинно отрицательных показателей стало меньше, соответсвенно прибавилось истинно положительных ответов, а также ложноположительных."
   ]
  },
  {
   "cell_type": "markdown",
   "metadata": {},
   "source": [
    "#### Увеличение выборки"
   ]
  },
  {
   "cell_type": "markdown",
   "metadata": {},
   "source": [
    "Второй метод для модели случайного леса будет увеличение выборки. Найдем лучшие гиперпараметры с данными, в которых увеличена выборка."
   ]
  },
  {
   "cell_type": "code",
   "execution_count": 52,
   "metadata": {},
   "outputs": [],
   "source": [
    "features_upsampled, target_upsampled = upsample(features_train, target_train, round(A))"
   ]
  },
  {
   "cell_type": "code",
   "execution_count": 53,
   "metadata": {},
   "outputs": [
    {
     "data": {
      "text/plain": [
       "RandomForestClassifier(max_depth=11, n_estimators=120, random_state=12345)"
      ]
     },
     "execution_count": 53,
     "metadata": {},
     "output_type": "execute_result"
    }
   ],
   "source": [
    "best_model = None\n",
    "best_result = 0\n",
    "best_est = 0\n",
    "best_depth = 0\n",
    "for est in range(10, 130, 10):\n",
    "    for depth in range (1, 12, 1):\n",
    "        model = RandomForestClassifier(random_state=RANDOM_STATE, n_estimators=est, max_depth=depth)\n",
    "        model.fit(features_upsampled, target_upsampled) \n",
    "        predictions_valid = model.predict(features_valid)\n",
    "        result = f1_score(target_valid, predictions_valid)\n",
    "        if result > best_result:\n",
    "            best_model = model\n",
    "            best_result = result\n",
    "            best_est = est\n",
    "            best_depth = depth\n",
    "\n",
    "best_model"
   ]
  },
  {
   "cell_type": "markdown",
   "metadata": {},
   "source": [
    "Обучим модель с данными гиперпараметрами и посмотрим на метрики."
   ]
  },
  {
   "cell_type": "code",
   "execution_count": 54,
   "metadata": {},
   "outputs": [
    {
     "name": "stdout",
     "output_type": "stream",
     "text": [
      "F1: 0.6312292358803987\n",
      "AUC-ROC: 0.8628551509907442\n",
      "Confusion matrix:\n",
      "[[1382  211]\n",
      " [ 122  285]]\n"
     ]
    }
   ],
   "source": [
    "model = RandomForestClassifier(random_state=RANDOM_STATE, n_estimators=120, max_depth=11)\n",
    "model.fit(features_upsampled, target_upsampled) \n",
    "predicted_valid = model.predict(features_valid)\n",
    "\n",
    "print('F1:', f1_score(target_valid, predicted_valid))\n",
    "\n",
    "probabilities_valid = model.predict_proba(features_valid)\n",
    "probabilities_one_valid = probabilities_valid[:, 1]\n",
    "auc_roc = roc_auc_score(target_valid, probabilities_one_valid)\n",
    "print('AUC-ROC:', auc_roc)\n",
    "\n",
    "print('Confusion matrix:')\n",
    "print(confusion_matrix(target_valid, predicted_valid))\n",
    "\n",
    "dict['RFC b_2'] = [f1_score(target_valid, predicted_valid), auc_roc]"
   ]
  },
  {
   "cell_type": "markdown",
   "metadata": {},
   "source": [
    "После увеличение выборки можно сделать вывод, что:\n",
    "- метрика `F1` увеличилась до 0.631, но стала меньше чем при методе всзвешивания классов;\n",
    "- метрика `AUC-ROC` 0.862 повела себя также, как и `F1`;\n",
    "- матрица ошибок имеет такое же распределение, как и при методе взвешивания классов."
   ]
  },
  {
   "cell_type": "markdown",
   "metadata": {},
   "source": [
    "#### Уменьшение выборки"
   ]
  },
  {
   "cell_type": "markdown",
   "metadata": {},
   "source": [
    "Следующий метод, который мы применим к модели случайного леса будет уменьшение выборки. Подберем гиперпараметры для уменьшенной выборки."
   ]
  },
  {
   "cell_type": "code",
   "execution_count": 55,
   "metadata": {},
   "outputs": [],
   "source": [
    "features_downsampled, target_downsampled = downsample(features_train, target_train, B)"
   ]
  },
  {
   "cell_type": "code",
   "execution_count": 56,
   "metadata": {},
   "outputs": [
    {
     "name": "stdout",
     "output_type": "stream",
     "text": [
      "RandomForestClassifier(max_depth=8, random_state=12345)\n",
      "n_estimators = 100\n"
     ]
    }
   ],
   "source": [
    "best_model = None\n",
    "best_result = 0\n",
    "best_est = 0\n",
    "best_depth = 0\n",
    "for est in range(10, 110, 10):\n",
    "    for depth in range (1, 9, 1):\n",
    "        model = RandomForestClassifier(random_state=RANDOM_STATE, n_estimators=est, max_depth=depth)\n",
    "        model.fit(features_downsampled, target_downsampled) \n",
    "        predictions_valid = model.predict(features_valid)\n",
    "        result = f1_score(target_valid, predictions_valid)\n",
    "        if result > best_result:\n",
    "            best_model = model\n",
    "            best_result = result\n",
    "            best_est = est\n",
    "            best_depth = depth\n",
    "            \n",
    "print(best_model)\n",
    "print('n_estimators =', best_est)"
   ]
  },
  {
   "cell_type": "markdown",
   "metadata": {},
   "source": [
    "Обучим модель на этих гиперпараметрах и посмотрим на метрики."
   ]
  },
  {
   "cell_type": "code",
   "execution_count": 57,
   "metadata": {},
   "outputs": [
    {
     "name": "stdout",
     "output_type": "stream",
     "text": [
      "F1: 0.6223506743737958\n",
      "AUC-ROC: 0.8731196527806697\n",
      "Confusion matrix:\n",
      "[[1285  308]\n",
      " [  84  323]]\n"
     ]
    }
   ],
   "source": [
    "model = RandomForestClassifier(random_state=RANDOM_STATE, n_estimators=100, max_depth=8)\n",
    "model.fit(features_downsampled, target_downsampled) \n",
    "predicted_valid = model.predict(features_valid)\n",
    "\n",
    "print('F1:', f1_score(target_valid, predicted_valid))\n",
    "\n",
    "probabilities_valid = model.predict_proba(features_valid)\n",
    "probabilities_one_valid = probabilities_valid[:, 1]\n",
    "auc_roc = roc_auc_score(target_valid, probabilities_one_valid)\n",
    "print('AUC-ROC:', auc_roc)\n",
    "\n",
    "print('Confusion matrix:')\n",
    "print(confusion_matrix(target_valid, predicted_valid))\n",
    "\n",
    "dict['RFC b_3'] = [f1_score(target_valid, predicted_valid), auc_roc]"
   ]
  },
  {
   "cell_type": "markdown",
   "metadata": {},
   "source": [
    "При обучении модели с данными уменьшенной выборки:\n",
    "- модель показывает метрику `F1` хуже, чем в случае с увеличенной выборкой и чем при параметре `class_weight`, но относительно модели, где не учитывается дисбаланс классов она выглядит лучше и показывает `0,622`;\n",
    "- метрика `AUC_ROC` относительно всех предыдущих моеделей показала лучший результат и увеличилась до `0,87`;\n",
    "- матрица ошибок немного изменилась, истинно отрицательных ответов стало меньше, истинно положительных ответов стало больше, как и ложноположительных. Ложноотрицательных ответов стало в несколько раз меньше, чем ложноположительных."
   ]
  },
  {
   "cell_type": "markdown",
   "metadata": {},
   "source": [
    "### Логистическая регрессия"
   ]
  },
  {
   "cell_type": "markdown",
   "metadata": {},
   "source": [
    "#### Взвешивание классов"
   ]
  },
  {
   "cell_type": "markdown",
   "metadata": {},
   "source": [
    "Перейдем к моделе логистической регрессии. Первым делом проверим модель логистической регрессии с параметром `class_weight`, используя метод взвешивания классов."
   ]
  },
  {
   "cell_type": "code",
   "execution_count": 58,
   "metadata": {},
   "outputs": [
    {
     "name": "stdout",
     "output_type": "stream",
     "text": [
      "F1: 0.578853046594982\n",
      "AUC-ROC: 0.8487701877532384\n",
      "Confusion matrix:\n",
      "[[1207  386]\n",
      " [  84  323]]\n"
     ]
    }
   ],
   "source": [
    "model = LogisticRegression(random_state=RANDOM_STATE, solver='liblinear',\n",
    "                           max_iter=1000, class_weight='balanced')\n",
    "model.fit(features_train_scaled , target_train)\n",
    "predicted_valid = model.predict(features_valid_scaled)\n",
    "\n",
    "print(\"F1:\", f1_score(target_valid, predicted_valid))\n",
    "\n",
    "probabilities_valid = model.predict_proba(features_valid_scaled)\n",
    "probabilities_one_valid = probabilities_valid[:, 1]\n",
    "auc_roc = roc_auc_score(target_valid, probabilities_one_valid)\n",
    "print('AUC-ROC:', auc_roc)\n",
    "\n",
    "print('Confusion matrix:')\n",
    "print(confusion_matrix(target_valid, predicted_valid))\n",
    "\n",
    "dict['LG b_1'] = [f1_score(target_valid, predicted_valid), auc_roc]"
   ]
  },
  {
   "cell_type": "markdown",
   "metadata": {},
   "source": [
    "Из данного анализа можно сделать вывод, что:\n",
    "- модель логистической регрессии после обучения имеет по-прежнему самую худшую метрику `F1`, равную `0.578`, хотя она значительно увеличилась по сравнению с моделью, которая не учитывает дисбаланс классов;\n",
    "- `AUC-ROC` равна `0.84`;\n",
    "- матрица ошибок изсенилась, количество истинно отрицательных ответов уменьшилось, как и ложноотрицательных, а вот истинно положительных и ложноположительных ответов прибавилось."
   ]
  },
  {
   "cell_type": "markdown",
   "metadata": {},
   "source": [
    "#### Увеличение выборки"
   ]
  },
  {
   "cell_type": "markdown",
   "metadata": {},
   "source": [
    "Применим метод увеличения выборки для логистической регрессии. Обучим модель с данными, в которых увеличена выборка. Получим сбалансированные масштабированные данные."
   ]
  },
  {
   "cell_type": "code",
   "execution_count": 59,
   "metadata": {},
   "outputs": [],
   "source": [
    "features_train_scaled = pd.DataFrame(scaler.transform(features_train), index=features_train.index) "
   ]
  },
  {
   "cell_type": "code",
   "execution_count": 60,
   "metadata": {},
   "outputs": [],
   "source": [
    "features_upsampled, target_upsampled = upsample(features_train_scaled, target_train, round(A))"
   ]
  },
  {
   "cell_type": "code",
   "execution_count": 61,
   "metadata": {},
   "outputs": [
    {
     "name": "stdout",
     "output_type": "stream",
     "text": [
      "F1: 0.5752448797862868\n",
      "AUC-ROC: 0.8488118318626794\n",
      "Confusion matrix:\n",
      "[[1200  393]\n",
      " [  84  323]]\n"
     ]
    }
   ],
   "source": [
    "model = LogisticRegression(random_state=RANDOM_STATE, solver='liblinear', max_iter=1000)\n",
    "model.fit(features_upsampled, target_upsampled) \n",
    "predicted_valid = model.predict(features_valid_scaled)\n",
    "\n",
    "print(\"F1:\", f1_score(target_valid, predicted_valid))\n",
    "\n",
    "probabilities_valid = model.predict_proba(features_valid_scaled)\n",
    "probabilities_one_valid = probabilities_valid[:, 1]\n",
    "auc_roc = roc_auc_score(target_valid, probabilities_one_valid)\n",
    "print('AUC-ROC:', auc_roc)\n",
    "\n",
    "print('Confusion matrix:')\n",
    "print(confusion_matrix(target_valid, predicted_valid))\n",
    "\n",
    "dict['LG b_2'] = [f1_score(target_valid, predicted_valid), auc_roc]"
   ]
  },
  {
   "cell_type": "markdown",
   "metadata": {},
   "source": [
    "После анализа можно сделать вывод, что:\n",
    "- метрика `F1` уменьшилась по сравнению с моделью, в которой используется метод взвешивания классов, но незначительно, `0.575`;\n",
    "- метрика `AUC-ROC` практически не изменилась;\n",
    "-матрица ошибок представляет из себя такое же распределение, как и в предыдущей моделе."
   ]
  },
  {
   "cell_type": "markdown",
   "metadata": {},
   "source": [
    "#### Уменьшение выборки"
   ]
  },
  {
   "cell_type": "markdown",
   "metadata": {},
   "source": [
    "Следующим методом, который мы применим к моделе логистической регрессии будет уменьшение выборки. Получим уменьшенную выборку для масштабированных данных."
   ]
  },
  {
   "cell_type": "code",
   "execution_count": 62,
   "metadata": {},
   "outputs": [],
   "source": [
    "features_downsampled, target_downsampled = downsample(features_train_scaled, target_train, B)"
   ]
  },
  {
   "cell_type": "code",
   "execution_count": 63,
   "metadata": {},
   "outputs": [
    {
     "name": "stdout",
     "output_type": "stream",
     "text": [
      "F1: 0.5797101449275361\n",
      "AUC-ROC: 0.8485141535988994\n",
      "Confusion matrix:\n",
      "[[1216  377]\n",
      " [  87  320]]\n"
     ]
    }
   ],
   "source": [
    "model = LogisticRegression(random_state=RANDOM_STATE, solver='liblinear', max_iter=1000)\n",
    "model.fit(features_downsampled, target_downsampled) \n",
    "predicted_valid = model.predict(features_valid_scaled)\n",
    "\n",
    "print(\"F1:\", f1_score(target_valid, predicted_valid))\n",
    "\n",
    "probabilities_valid = model.predict_proba(features_valid_scaled)\n",
    "probabilities_one_valid = probabilities_valid[:, 1]\n",
    "auc_roc = roc_auc_score(target_valid, probabilities_one_valid)\n",
    "print('AUC-ROC:', auc_roc)\n",
    "\n",
    "\n",
    "print('Confusion matrix:')\n",
    "print(confusion_matrix(target_valid, predicted_valid))\n",
    "\n",
    "dict['LG b_3'] = [f1_score(target_valid, predicted_valid), auc_roc]"
   ]
  },
  {
   "cell_type": "markdown",
   "metadata": {},
   "source": [
    "В моделе линейной регрессии с использованием метода уменьшения выборки, можно сделать выводы, что:\n",
    "- уменьшение выборки улучшило `F1`, но незначительно, `до 0.579`;\n",
    "- `AUC-ROC` незначительно уменьшилось до `0.8485`;\n",
    "- матрица ошибок имеет распределение такое же, как и в преыдущих моделях."
   ]
  },
  {
   "cell_type": "markdown",
   "metadata": {},
   "source": [
    "Для удобного сравнения показателей, которые были выявлены выше, создадим таблицу, где поочереди идут показатели разных моделей."
   ]
  },
  {
   "cell_type": "code",
   "execution_count": 64,
   "metadata": {},
   "outputs": [
    {
     "data": {
      "text/html": [
       "<div>\n",
       "<style scoped>\n",
       "    .dataframe tbody tr th:only-of-type {\n",
       "        vertical-align: middle;\n",
       "    }\n",
       "\n",
       "    .dataframe tbody tr th {\n",
       "        vertical-align: top;\n",
       "    }\n",
       "\n",
       "    .dataframe thead th {\n",
       "        text-align: right;\n",
       "    }\n",
       "</style>\n",
       "<table border=\"1\" class=\"dataframe\">\n",
       "  <thead>\n",
       "    <tr style=\"text-align: right;\">\n",
       "      <th></th>\n",
       "      <th>DTC db</th>\n",
       "      <th>RFC db</th>\n",
       "      <th>LG db</th>\n",
       "      <th>DTC b_1</th>\n",
       "      <th>DTC b_2</th>\n",
       "      <th>DTC b_3</th>\n",
       "      <th>RFC b_1</th>\n",
       "      <th>RFC b_2</th>\n",
       "      <th>RFC b_3</th>\n",
       "      <th>LG b_1</th>\n",
       "      <th>LG b_2</th>\n",
       "      <th>LG b_3</th>\n",
       "    </tr>\n",
       "  </thead>\n",
       "  <tbody>\n",
       "    <tr>\n",
       "      <th>F1</th>\n",
       "      <td>0.575499</td>\n",
       "      <td>0.586466</td>\n",
       "      <td>0.474194</td>\n",
       "      <td>0.565929</td>\n",
       "      <td>0.565929</td>\n",
       "      <td>0.594330</td>\n",
       "      <td>0.638051</td>\n",
       "      <td>0.631229</td>\n",
       "      <td>0.622351</td>\n",
       "      <td>0.578853</td>\n",
       "      <td>0.575245</td>\n",
       "      <td>0.579710</td>\n",
       "    </tr>\n",
       "    <tr>\n",
       "      <th>AUC-ROC</th>\n",
       "      <td>0.791633</td>\n",
       "      <td>0.849686</td>\n",
       "      <td>0.846457</td>\n",
       "      <td>0.816394</td>\n",
       "      <td>0.816394</td>\n",
       "      <td>0.837573</td>\n",
       "      <td>0.863896</td>\n",
       "      <td>0.862855</td>\n",
       "      <td>0.873120</td>\n",
       "      <td>0.848770</td>\n",
       "      <td>0.848812</td>\n",
       "      <td>0.848514</td>\n",
       "    </tr>\n",
       "  </tbody>\n",
       "</table>\n",
       "</div>"
      ],
      "text/plain": [
       "           DTC db    RFC db     LG db   DTC b_1   DTC b_2   DTC b_3   RFC b_1  \\\n",
       "F1       0.575499  0.586466  0.474194  0.565929  0.565929  0.594330  0.638051   \n",
       "AUC-ROC  0.791633  0.849686  0.846457  0.816394  0.816394  0.837573  0.863896   \n",
       "\n",
       "          RFC b_2   RFC b_3    LG b_1    LG b_2    LG b_3  \n",
       "F1       0.631229  0.622351  0.578853  0.575245  0.579710  \n",
       "AUC-ROC  0.862855  0.873120  0.848770  0.848812  0.848514  "
      ]
     },
     "execution_count": 64,
     "metadata": {},
     "output_type": "execute_result"
    }
   ],
   "source": [
    "pd.DataFrame(dict, index=['F1','AUC-ROC'])"
   ]
  },
  {
   "cell_type": "markdown",
   "metadata": {},
   "source": [
    "Можно заметить, что лучшие показатели на метрике `F1` показала модель случайного леса, также как и лучшие показатели на метрике `AUC_ROC`. Лучше всего показали себя модели в которых использовался метод взвешивания классов и увеличение выборки. Также стоит отметить, что метрика `AUC-ROC` оказалась лучше у модели случайного леса, в которой использовался метод уменьшения выборки."
   ]
  },
  {
   "cell_type": "markdown",
   "metadata": {},
   "source": [
    "# Тестирование модели"
   ]
  },
  {
   "cell_type": "markdown",
   "metadata": {},
   "source": [
    "Для тестирования была выбрана модель, которая лучше всего показала себя на валидационной выборке, показав метрику `F1` равную `0,638`. Модель случайного леса, обученная на данных с использованием метода взвешивания классов."
   ]
  },
  {
   "cell_type": "code",
   "execution_count": 65,
   "metadata": {},
   "outputs": [
    {
     "name": "stdout",
     "output_type": "stream",
     "text": [
      "F1: 0.6258823529411764\n",
      "AUC-ROC: 0.8568784500987889\n"
     ]
    }
   ],
   "source": [
    "model = RandomForestClassifier(random_state=12345, n_estimators=50, max_depth=10, class_weight='balanced')\n",
    "model.fit(features_train, target_train) \n",
    "predicted_valid = model.predict(features_test)\n",
    "\n",
    "print('F1:', f1_score(target_test, predicted_valid))\n",
    "\n",
    "probabilities_valid = model.predict_proba(features_test)\n",
    "probabilities_one_valid = probabilities_valid[:, 1]\n",
    "auc_roc = roc_auc_score(target_test, probabilities_one_valid)\n",
    "print('AUC-ROC:', auc_roc)"
   ]
  },
  {
   "cell_type": "markdown",
   "metadata": {},
   "source": [
    "После проведения тестирования на тестовой выборке можно сделать вывод, что:\n",
    "- метрика `F1` показалa результат `0.625`;\n",
    "- метрика `AUC-ROC` получила результат равный `0.856`."
   ]
  },
  {
   "cell_type": "markdown",
   "metadata": {},
   "source": [
    "## Вывод"
   ]
  },
  {
   "cell_type": "markdown",
   "metadata": {},
   "source": [
    "Проанализировав данные, можно сделать несколько выводов. Например после применения параметра `class_weight`:\n",
    "- все модели улучшили метрику `F1`, кроме модели решающего дерева, где данная метрика снизилась но незначительно;\n",
    "- также как и все модели улучшили метрику `AUC-ROC`.\n",
    "\n",
    "После применения увеличения выборки, можно сделать вывод, что:\n",
    "- модель решающего дерева показала результат такой же как и при использовании метода `class_weight` относительно метрик `F1` и `AUC-ROC`;\n",
    "- все остальные модели улучшили метрику `F1`, по сравнению с моделями, у которых не было баланса классов;\n",
    "- модель логистической регрессии показала метрику `F1` незначительно хуже, чем при использовании метода взвешивания классов, но метрика `AUC-ROC` незначительно увеличилась;\n",
    "- в моделе случайного леса метрика `F1` и метрика `AUC-ROC` по сравнению с методом взвешивания классов незначительно уменьшились.\n",
    "\n",
    "После применения уменьшения выборки, можно сделать следующие выводы:\n",
    "\n",
    "- модель решающего дерева улучшила все свои метрики и показала лучший результат при использовании метода уменьшения выборки;\n",
    "- модель случайного дерева показала метрику `F1` меньше, чем при двух другимх методах, но зато улучшила метрику `AUC-ROC`;\n",
    "- модель логистической регрессии улучишла метрику `F1`, но `AUC-ROC` снизилась, но совсем незначительно.\n",
    "\n",
    "Можно сделать вывод, что большинство моделей показали лучшую метрику `F1` при применении метода уменьшения выборки. Но все-таки лучшая модель была выбрана, исходя из максимального значения `F1` на валидационной выборке. Это модель случайного леса с использованием метода взвешивания классов, имеющая гиперпараметры `max_depth = 10` и `n_estimators = 50`."
   ]
  }
 ],
 "metadata": {
  "ExecuteTimeLog": [
   {
    "duration": 74,
    "start_time": "2023-01-14T12:18:59.775Z"
   },
   {
    "duration": 431,
    "start_time": "2023-01-14T12:19:02.255Z"
   },
   {
    "duration": 79,
    "start_time": "2023-01-14T12:19:04.456Z"
   },
   {
    "duration": 8,
    "start_time": "2023-01-14T12:19:11.357Z"
   },
   {
    "duration": 16,
    "start_time": "2023-01-14T12:19:16.769Z"
   },
   {
    "duration": 14,
    "start_time": "2023-01-14T12:19:27.258Z"
   },
   {
    "duration": 6,
    "start_time": "2023-01-14T12:19:49.621Z"
   },
   {
    "duration": 5,
    "start_time": "2023-01-14T12:28:53.286Z"
   },
   {
    "duration": 7,
    "start_time": "2023-01-14T12:29:03.598Z"
   },
   {
    "duration": 5,
    "start_time": "2023-01-14T12:29:24.584Z"
   },
   {
    "duration": 7,
    "start_time": "2023-01-14T12:29:40.580Z"
   },
   {
    "duration": 7,
    "start_time": "2023-01-14T12:32:24.049Z"
   },
   {
    "duration": 3,
    "start_time": "2023-01-14T12:38:57.631Z"
   },
   {
    "duration": 5,
    "start_time": "2023-01-14T12:39:03.973Z"
   },
   {
    "duration": 709,
    "start_time": "2023-01-14T12:50:36.427Z"
   },
   {
    "duration": 5,
    "start_time": "2023-01-14T12:55:36.206Z"
   },
   {
    "duration": 3,
    "start_time": "2023-01-14T12:58:51.855Z"
   },
   {
    "duration": 7,
    "start_time": "2023-01-14T13:03:40.635Z"
   },
   {
    "duration": 58,
    "start_time": "2023-01-14T13:03:49.237Z"
   },
   {
    "duration": 4,
    "start_time": "2023-01-14T13:03:52.690Z"
   },
   {
    "duration": 7,
    "start_time": "2023-01-14T13:04:03.279Z"
   },
   {
    "duration": 10,
    "start_time": "2023-01-14T13:04:07.707Z"
   },
   {
    "duration": 7,
    "start_time": "2023-01-14T13:04:19.279Z"
   },
   {
    "duration": 68,
    "start_time": "2023-01-14T13:12:40.075Z"
   },
   {
    "duration": 63,
    "start_time": "2023-01-14T13:13:13.041Z"
   },
   {
    "duration": 5,
    "start_time": "2023-01-14T13:13:17.986Z"
   },
   {
    "duration": 11,
    "start_time": "2023-01-14T13:15:04.405Z"
   },
   {
    "duration": 9,
    "start_time": "2023-01-14T13:15:13.364Z"
   },
   {
    "duration": 4,
    "start_time": "2023-01-14T13:15:18.851Z"
   },
   {
    "duration": 15,
    "start_time": "2023-01-14T13:15:26.506Z"
   },
   {
    "duration": 3,
    "start_time": "2023-01-14T13:16:00.240Z"
   },
   {
    "duration": 42,
    "start_time": "2023-01-14T13:16:02.156Z"
   },
   {
    "duration": 5,
    "start_time": "2023-01-14T13:16:02.766Z"
   },
   {
    "duration": 18,
    "start_time": "2023-01-14T13:16:03.072Z"
   },
   {
    "duration": 17,
    "start_time": "2023-01-14T13:16:03.636Z"
   },
   {
    "duration": 209,
    "start_time": "2023-01-14T13:16:05.788Z"
   },
   {
    "duration": 148,
    "start_time": "2023-01-14T13:16:06.536Z"
   },
   {
    "duration": 4,
    "start_time": "2023-01-14T13:16:18.604Z"
   },
   {
    "duration": 5,
    "start_time": "2023-01-14T13:16:51.600Z"
   },
   {
    "duration": 16,
    "start_time": "2023-01-14T13:16:54.073Z"
   },
   {
    "duration": 5,
    "start_time": "2023-01-14T13:16:55.069Z"
   },
   {
    "duration": 10,
    "start_time": "2023-01-14T13:17:08.465Z"
   },
   {
    "duration": 7,
    "start_time": "2023-01-14T13:17:19.856Z"
   },
   {
    "duration": 6,
    "start_time": "2023-01-14T14:17:25.434Z"
   },
   {
    "duration": 3,
    "start_time": "2023-01-14T14:17:31.926Z"
   },
   {
    "duration": 43,
    "start_time": "2023-01-14T14:17:32.217Z"
   },
   {
    "duration": 5,
    "start_time": "2023-01-14T14:17:32.413Z"
   },
   {
    "duration": 13,
    "start_time": "2023-01-14T14:17:32.614Z"
   },
   {
    "duration": 5,
    "start_time": "2023-01-14T14:17:32.799Z"
   },
   {
    "duration": 4,
    "start_time": "2023-01-14T14:17:33.242Z"
   },
   {
    "duration": 9,
    "start_time": "2023-01-14T14:17:33.479Z"
   },
   {
    "duration": 3,
    "start_time": "2023-01-14T14:17:33.851Z"
   },
   {
    "duration": 13,
    "start_time": "2023-01-14T14:17:34.094Z"
   },
   {
    "duration": 6,
    "start_time": "2023-01-14T14:17:34.618Z"
   },
   {
    "duration": 7,
    "start_time": "2023-01-14T14:17:39.738Z"
   },
   {
    "duration": 56,
    "start_time": "2023-01-14T14:19:13.939Z"
   },
   {
    "duration": 14,
    "start_time": "2023-01-14T14:19:24.868Z"
   },
   {
    "duration": 3,
    "start_time": "2023-01-14T14:19:37.135Z"
   },
   {
    "duration": 44,
    "start_time": "2023-01-14T14:19:37.291Z"
   },
   {
    "duration": 4,
    "start_time": "2023-01-14T14:19:37.465Z"
   },
   {
    "duration": 14,
    "start_time": "2023-01-14T14:19:37.629Z"
   },
   {
    "duration": 5,
    "start_time": "2023-01-14T14:19:37.828Z"
   },
   {
    "duration": 5,
    "start_time": "2023-01-14T14:19:39.192Z"
   },
   {
    "duration": 12,
    "start_time": "2023-01-14T14:19:46.750Z"
   },
   {
    "duration": 4,
    "start_time": "2023-01-14T14:19:47.259Z"
   },
   {
    "duration": 2,
    "start_time": "2023-01-14T14:31:32.191Z"
   },
   {
    "duration": 37,
    "start_time": "2023-01-14T14:31:32.488Z"
   },
   {
    "duration": 4,
    "start_time": "2023-01-14T14:31:32.751Z"
   },
   {
    "duration": 12,
    "start_time": "2023-01-14T14:31:32.995Z"
   },
   {
    "duration": 6,
    "start_time": "2023-01-14T14:31:33.376Z"
   },
   {
    "duration": 4,
    "start_time": "2023-01-14T14:31:34.129Z"
   },
   {
    "duration": 10,
    "start_time": "2023-01-14T14:31:34.508Z"
   },
   {
    "duration": 4,
    "start_time": "2023-01-14T14:31:34.793Z"
   },
   {
    "duration": 12,
    "start_time": "2023-01-14T14:31:35.094Z"
   },
   {
    "duration": 7,
    "start_time": "2023-01-14T14:31:36.082Z"
   },
   {
    "duration": 4,
    "start_time": "2023-01-14T14:31:37.504Z"
   },
   {
    "duration": 15,
    "start_time": "2023-01-14T14:31:51.530Z"
   },
   {
    "duration": 3,
    "start_time": "2023-01-14T14:35:20.891Z"
   },
   {
    "duration": 13,
    "start_time": "2023-01-14T14:35:29.881Z"
   },
   {
    "duration": 16,
    "start_time": "2023-01-14T14:36:04.126Z"
   },
   {
    "duration": 4,
    "start_time": "2023-01-14T14:36:04.872Z"
   },
   {
    "duration": 8,
    "start_time": "2023-01-14T14:36:05.883Z"
   },
   {
    "duration": 10,
    "start_time": "2023-01-14T14:36:22.798Z"
   },
   {
    "duration": 4,
    "start_time": "2023-01-14T14:37:06.742Z"
   },
   {
    "duration": 26,
    "start_time": "2023-01-14T14:37:07.930Z"
   },
   {
    "duration": 8,
    "start_time": "2023-01-14T14:37:13.467Z"
   },
   {
    "duration": 25,
    "start_time": "2023-01-14T14:37:54.144Z"
   },
   {
    "duration": 3,
    "start_time": "2023-01-14T14:37:56.502Z"
   },
   {
    "duration": 10,
    "start_time": "2023-01-14T14:37:57.268Z"
   },
   {
    "duration": 8,
    "start_time": "2023-01-14T14:38:00.173Z"
   },
   {
    "duration": 44,
    "start_time": "2023-01-14T14:38:37.732Z"
   },
   {
    "duration": 5,
    "start_time": "2023-01-14T14:38:45.674Z"
   },
   {
    "duration": 9,
    "start_time": "2023-01-14T14:40:23.532Z"
   },
   {
    "duration": 3,
    "start_time": "2023-01-14T14:40:24.304Z"
   },
   {
    "duration": 9,
    "start_time": "2023-01-14T14:41:19.903Z"
   },
   {
    "duration": 5,
    "start_time": "2023-01-14T14:41:20.613Z"
   },
   {
    "duration": 5,
    "start_time": "2023-01-14T14:42:09.844Z"
   },
   {
    "duration": 7,
    "start_time": "2023-01-14T14:42:11.215Z"
   },
   {
    "duration": 6,
    "start_time": "2023-01-14T14:42:12.191Z"
   },
   {
    "duration": 3,
    "start_time": "2023-01-14T14:42:13.297Z"
   },
   {
    "duration": 398,
    "start_time": "2023-01-15T10:47:50.870Z"
   },
   {
    "duration": 84,
    "start_time": "2023-01-15T10:47:51.270Z"
   },
   {
    "duration": 9,
    "start_time": "2023-01-15T10:47:51.355Z"
   },
   {
    "duration": 22,
    "start_time": "2023-01-15T10:47:51.538Z"
   },
   {
    "duration": 4,
    "start_time": "2023-01-15T10:47:51.897Z"
   },
   {
    "duration": 5,
    "start_time": "2023-01-15T10:47:53.184Z"
   },
   {
    "duration": 11,
    "start_time": "2023-01-15T10:47:53.770Z"
   },
   {
    "duration": 4,
    "start_time": "2023-01-15T10:47:54.504Z"
   },
   {
    "duration": 11,
    "start_time": "2023-01-15T10:47:58.148Z"
   },
   {
    "duration": 5,
    "start_time": "2023-01-15T10:48:01.881Z"
   },
   {
    "duration": 67,
    "start_time": "2023-01-15T10:48:11.370Z"
   },
   {
    "duration": 13,
    "start_time": "2023-01-15T10:48:18.242Z"
   },
   {
    "duration": 7,
    "start_time": "2023-01-15T10:53:30.720Z"
   },
   {
    "duration": 664,
    "start_time": "2023-01-15T10:53:41.795Z"
   },
   {
    "duration": 5,
    "start_time": "2023-01-15T10:53:42.495Z"
   },
   {
    "duration": 7,
    "start_time": "2023-01-15T10:53:43.672Z"
   },
   {
    "duration": 5,
    "start_time": "2023-01-15T10:53:44.883Z"
   },
   {
    "duration": 4,
    "start_time": "2023-01-15T10:53:45.626Z"
   },
   {
    "duration": 3,
    "start_time": "2023-01-15T10:53:46.442Z"
   },
   {
    "duration": 9,
    "start_time": "2023-01-15T10:53:47.017Z"
   },
   {
    "duration": 8,
    "start_time": "2023-01-15T10:53:47.842Z"
   },
   {
    "duration": 4,
    "start_time": "2023-01-15T10:54:03.390Z"
   },
   {
    "duration": 2,
    "start_time": "2023-01-15T12:21:03.864Z"
   },
   {
    "duration": 62,
    "start_time": "2023-01-15T12:21:04.435Z"
   },
   {
    "duration": 5,
    "start_time": "2023-01-15T12:21:04.988Z"
   },
   {
    "duration": 14,
    "start_time": "2023-01-15T12:21:05.934Z"
   },
   {
    "duration": 7,
    "start_time": "2023-01-15T12:21:06.524Z"
   },
   {
    "duration": 4,
    "start_time": "2023-01-15T12:21:07.780Z"
   },
   {
    "duration": 11,
    "start_time": "2023-01-15T12:21:08.421Z"
   },
   {
    "duration": 4,
    "start_time": "2023-01-15T12:21:09.444Z"
   },
   {
    "duration": 11,
    "start_time": "2023-01-15T12:21:10.589Z"
   },
   {
    "duration": 7,
    "start_time": "2023-01-15T12:21:12.404Z"
   },
   {
    "duration": 3,
    "start_time": "2023-01-15T12:21:13.748Z"
   },
   {
    "duration": 6,
    "start_time": "2023-01-15T12:21:14.325Z"
   },
   {
    "duration": 6,
    "start_time": "2023-01-15T12:21:16.237Z"
   },
   {
    "duration": 5,
    "start_time": "2023-01-15T12:21:17.637Z"
   },
   {
    "duration": 3,
    "start_time": "2023-01-15T12:21:18.198Z"
   },
   {
    "duration": 3,
    "start_time": "2023-01-15T12:21:19.190Z"
   },
   {
    "duration": 8,
    "start_time": "2023-01-15T12:21:25.909Z"
   },
   {
    "duration": 10,
    "start_time": "2023-01-15T12:21:26.708Z"
   },
   {
    "duration": 3,
    "start_time": "2023-01-15T12:21:31.076Z"
   },
   {
    "duration": 38,
    "start_time": "2023-01-15T12:21:31.837Z"
   },
   {
    "duration": 36,
    "start_time": "2023-01-15T12:21:33.020Z"
   },
   {
    "duration": 7,
    "start_time": "2023-01-15T12:21:34.268Z"
   },
   {
    "duration": 3,
    "start_time": "2023-01-15T12:25:19.862Z"
   },
   {
    "duration": 7,
    "start_time": "2023-01-15T12:25:21.279Z"
   },
   {
    "duration": 48,
    "start_time": "2023-01-15T12:31:46.230Z"
   },
   {
    "duration": 3,
    "start_time": "2023-01-15T12:32:07.444Z"
   },
   {
    "duration": 43,
    "start_time": "2023-01-15T12:32:08.260Z"
   },
   {
    "duration": 33,
    "start_time": "2023-01-15T13:18:48.919Z"
   },
   {
    "duration": 3,
    "start_time": "2023-01-15T13:19:13.368Z"
   },
   {
    "duration": 95,
    "start_time": "2023-01-15T13:19:14.291Z"
   },
   {
    "duration": 16,
    "start_time": "2023-01-15T13:20:03.822Z"
   },
   {
    "duration": 16,
    "start_time": "2023-01-15T13:20:14.206Z"
   },
   {
    "duration": 343,
    "start_time": "2023-01-15T13:20:23.628Z"
   },
   {
    "duration": 43,
    "start_time": "2023-01-15T13:20:23.977Z"
   },
   {
    "duration": 8,
    "start_time": "2023-01-15T13:20:24.021Z"
   },
   {
    "duration": 16,
    "start_time": "2023-01-15T13:20:24.030Z"
   },
   {
    "duration": 4,
    "start_time": "2023-01-15T13:20:24.048Z"
   },
   {
    "duration": 10,
    "start_time": "2023-01-15T13:20:24.053Z"
   },
   {
    "duration": 18,
    "start_time": "2023-01-15T13:20:24.064Z"
   },
   {
    "duration": 6,
    "start_time": "2023-01-15T13:20:24.083Z"
   },
   {
    "duration": 18,
    "start_time": "2023-01-15T13:20:24.090Z"
   },
   {
    "duration": 8,
    "start_time": "2023-01-15T13:20:24.110Z"
   },
   {
    "duration": 587,
    "start_time": "2023-01-15T13:20:24.119Z"
   },
   {
    "duration": 5,
    "start_time": "2023-01-15T13:20:24.708Z"
   },
   {
    "duration": 5,
    "start_time": "2023-01-15T13:20:24.714Z"
   },
   {
    "duration": 6,
    "start_time": "2023-01-15T13:20:24.721Z"
   },
   {
    "duration": 6,
    "start_time": "2023-01-15T13:20:24.729Z"
   },
   {
    "duration": 5,
    "start_time": "2023-01-15T13:20:24.737Z"
   },
   {
    "duration": 20,
    "start_time": "2023-01-15T13:20:24.744Z"
   },
   {
    "duration": 18,
    "start_time": "2023-01-15T13:20:24.766Z"
   },
   {
    "duration": 3,
    "start_time": "2023-01-15T13:20:24.786Z"
   },
   {
    "duration": 44,
    "start_time": "2023-01-15T13:20:24.791Z"
   },
   {
    "duration": 55,
    "start_time": "2023-01-15T13:20:24.837Z"
   },
   {
    "duration": 7,
    "start_time": "2023-01-15T13:20:24.894Z"
   },
   {
    "duration": 2,
    "start_time": "2023-01-15T13:20:24.904Z"
   },
   {
    "duration": 11,
    "start_time": "2023-01-15T13:20:24.908Z"
   },
   {
    "duration": 3,
    "start_time": "2023-01-15T13:20:24.921Z"
   },
   {
    "duration": 62,
    "start_time": "2023-01-15T13:20:24.926Z"
   },
   {
    "duration": 85,
    "start_time": "2023-01-15T13:20:24.992Z"
   },
   {
    "duration": 223,
    "start_time": "2023-01-15T13:20:25.079Z"
   },
   {
    "duration": 27,
    "start_time": "2023-01-15T13:21:33.307Z"
   },
   {
    "duration": 152,
    "start_time": "2023-01-15T13:21:57.225Z"
   },
   {
    "duration": 18,
    "start_time": "2023-01-15T13:38:42.781Z"
   },
   {
    "duration": 16,
    "start_time": "2023-01-15T13:38:48.596Z"
   },
   {
    "duration": 109,
    "start_time": "2023-01-15T13:38:56.569Z"
   },
   {
    "duration": 47,
    "start_time": "2023-01-15T14:18:20.634Z"
   },
   {
    "duration": 2,
    "start_time": "2023-01-15T14:18:32.994Z"
   },
   {
    "duration": 32,
    "start_time": "2023-01-15T14:18:34.436Z"
   },
   {
    "duration": 180,
    "start_time": "2023-01-15T14:22:03.897Z"
   },
   {
    "duration": 3,
    "start_time": "2023-01-15T14:22:21.565Z"
   },
   {
    "duration": 83,
    "start_time": "2023-01-15T14:22:22.193Z"
   },
   {
    "duration": 4,
    "start_time": "2023-01-15T14:22:33.454Z"
   },
   {
    "duration": 2,
    "start_time": "2023-01-15T14:22:36.411Z"
   },
   {
    "duration": 233,
    "start_time": "2023-01-15T14:22:37.177Z"
   },
   {
    "duration": 224,
    "start_time": "2023-01-15T14:23:50.993Z"
   },
   {
    "duration": 10,
    "start_time": "2023-01-15T14:29:28.878Z"
   },
   {
    "duration": 677,
    "start_time": "2023-01-15T14:29:45.743Z"
   },
   {
    "duration": 150,
    "start_time": "2023-01-15T14:31:24.112Z"
   },
   {
    "duration": 4,
    "start_time": "2023-01-15T14:31:41.680Z"
   },
   {
    "duration": 4,
    "start_time": "2023-01-15T14:31:53.863Z"
   },
   {
    "duration": 13132,
    "start_time": "2023-01-15T14:32:58.424Z"
   },
   {
    "duration": 12038,
    "start_time": "2023-01-15T14:33:51.338Z"
   },
   {
    "duration": 5,
    "start_time": "2023-01-15T14:34:08.397Z"
   },
   {
    "duration": 51,
    "start_time": "2023-01-15T17:13:54.494Z"
   },
   {
    "duration": 1115,
    "start_time": "2023-01-15T17:14:03.190Z"
   },
   {
    "duration": 78,
    "start_time": "2023-01-15T17:14:04.307Z"
   },
   {
    "duration": 9,
    "start_time": "2023-01-15T17:14:04.387Z"
   },
   {
    "duration": 16,
    "start_time": "2023-01-15T17:14:05.014Z"
   },
   {
    "duration": 7,
    "start_time": "2023-01-15T17:14:05.596Z"
   },
   {
    "duration": 5,
    "start_time": "2023-01-15T17:14:06.605Z"
   },
   {
    "duration": 12,
    "start_time": "2023-01-15T17:14:06.821Z"
   },
   {
    "duration": 4,
    "start_time": "2023-01-15T17:14:07.018Z"
   },
   {
    "duration": 12,
    "start_time": "2023-01-15T17:14:07.199Z"
   },
   {
    "duration": 7,
    "start_time": "2023-01-15T17:14:07.850Z"
   },
   {
    "duration": 3,
    "start_time": "2023-01-15T17:14:11.066Z"
   },
   {
    "duration": 8,
    "start_time": "2023-01-15T17:14:21.267Z"
   },
   {
    "duration": 8,
    "start_time": "2023-01-15T17:14:23.050Z"
   },
   {
    "duration": 5,
    "start_time": "2023-01-15T17:14:23.977Z"
   },
   {
    "duration": 4,
    "start_time": "2023-01-15T17:14:24.362Z"
   },
   {
    "duration": 9,
    "start_time": "2023-01-15T17:14:25.027Z"
   },
   {
    "duration": 10,
    "start_time": "2023-01-15T17:14:25.977Z"
   },
   {
    "duration": 33,
    "start_time": "2023-01-15T17:14:27.017Z"
   },
   {
    "duration": 5,
    "start_time": "2023-01-15T17:14:27.650Z"
   },
   {
    "duration": 107,
    "start_time": "2023-01-15T17:14:30.770Z"
   },
   {
    "duration": 40,
    "start_time": "2023-01-15T17:14:46.755Z"
   },
   {
    "duration": 77,
    "start_time": "2023-01-15T17:15:42.407Z"
   },
   {
    "duration": 711,
    "start_time": "2023-01-15T17:15:46.233Z"
   },
   {
    "duration": 35,
    "start_time": "2023-01-15T17:15:49.796Z"
   },
   {
    "duration": 36,
    "start_time": "2023-01-15T17:15:52.427Z"
   },
   {
    "duration": 707,
    "start_time": "2023-01-15T17:15:53.036Z"
   },
   {
    "duration": 133,
    "start_time": "2023-01-15T17:15:53.746Z"
   },
   {
    "duration": 41,
    "start_time": "2023-01-15T17:17:25.406Z"
   },
   {
    "duration": 749,
    "start_time": "2023-01-15T17:17:33.383Z"
   },
   {
    "duration": 42,
    "start_time": "2023-01-15T17:17:38.456Z"
   },
   {
    "duration": 5,
    "start_time": "2023-01-15T17:37:06.407Z"
   },
   {
    "duration": 5,
    "start_time": "2023-01-15T17:37:23.433Z"
   },
   {
    "duration": 318,
    "start_time": "2023-01-15T17:37:35.264Z"
   },
   {
    "duration": 3104,
    "start_time": "2023-01-15T17:37:53.431Z"
   },
   {
    "duration": 38,
    "start_time": "2023-01-15T17:38:12.810Z"
   },
   {
    "duration": 176,
    "start_time": "2023-01-15T17:39:33.637Z"
   },
   {
    "duration": 3003,
    "start_time": "2023-01-15T17:40:05.994Z"
   },
   {
    "duration": 3055,
    "start_time": "2023-01-15T17:40:27.211Z"
   },
   {
    "duration": 3019,
    "start_time": "2023-01-15T17:40:34.410Z"
   },
   {
    "duration": 3011,
    "start_time": "2023-01-15T17:40:39.698Z"
   },
   {
    "duration": 313,
    "start_time": "2023-01-15T17:40:51.918Z"
   },
   {
    "duration": 346,
    "start_time": "2023-01-15T17:41:10.891Z"
   },
   {
    "duration": 300,
    "start_time": "2023-01-15T17:41:24.236Z"
   },
   {
    "duration": 313,
    "start_time": "2023-01-15T17:41:29.881Z"
   },
   {
    "duration": 317,
    "start_time": "2023-01-15T17:41:34.311Z"
   },
   {
    "duration": 71,
    "start_time": "2023-01-15T17:42:40.222Z"
   },
   {
    "duration": 12448,
    "start_time": "2023-01-15T17:42:59.709Z"
   },
   {
    "duration": 142280,
    "start_time": "2023-01-15T17:43:31.880Z"
   },
   {
    "duration": 335,
    "start_time": "2023-01-15T17:47:56.245Z"
   },
   {
    "duration": 143840,
    "start_time": "2023-01-15T17:48:00.446Z"
   },
   {
    "duration": 26,
    "start_time": "2023-01-15T17:50:58.345Z"
   },
   {
    "duration": 20,
    "start_time": "2023-01-15T17:51:07.762Z"
   },
   {
    "duration": 324,
    "start_time": "2023-01-15T17:51:49.368Z"
   },
   {
    "duration": 46,
    "start_time": "2023-01-15T18:05:51.683Z"
   },
   {
    "duration": 5,
    "start_time": "2023-01-15T18:05:57.348Z"
   },
   {
    "duration": 50,
    "start_time": "2023-01-15T18:06:02.347Z"
   },
   {
    "duration": 6,
    "start_time": "2023-01-15T18:06:14.259Z"
   },
   {
    "duration": 47,
    "start_time": "2023-01-15T18:06:14.690Z"
   },
   {
    "duration": 5,
    "start_time": "2023-01-15T18:06:15.088Z"
   },
   {
    "duration": 22,
    "start_time": "2023-01-15T18:06:15.648Z"
   },
   {
    "duration": 6,
    "start_time": "2023-01-15T18:06:16.121Z"
   },
   {
    "duration": 5,
    "start_time": "2023-01-15T18:06:17.073Z"
   },
   {
    "duration": 14,
    "start_time": "2023-01-15T18:06:17.488Z"
   },
   {
    "duration": 5,
    "start_time": "2023-01-15T18:06:17.865Z"
   },
   {
    "duration": 18,
    "start_time": "2023-01-15T18:06:18.234Z"
   },
   {
    "duration": 8,
    "start_time": "2023-01-15T18:06:18.777Z"
   },
   {
    "duration": 6,
    "start_time": "2023-01-15T18:06:19.193Z"
   },
   {
    "duration": 6,
    "start_time": "2023-01-15T18:06:19.653Z"
   },
   {
    "duration": 7,
    "start_time": "2023-01-15T18:06:20.385Z"
   },
   {
    "duration": 4,
    "start_time": "2023-01-15T18:06:20.588Z"
   },
   {
    "duration": 8,
    "start_time": "2023-01-15T18:06:20.812Z"
   },
   {
    "duration": 11,
    "start_time": "2023-01-15T18:06:21.248Z"
   },
   {
    "duration": 81,
    "start_time": "2023-01-15T18:06:23.914Z"
   },
   {
    "duration": 42,
    "start_time": "2023-01-15T18:06:39.062Z"
   },
   {
    "duration": 5,
    "start_time": "2023-01-15T18:06:50.291Z"
   },
   {
    "duration": 54,
    "start_time": "2023-01-15T18:06:57.320Z"
   },
   {
    "duration": 55,
    "start_time": "2023-01-15T18:07:08.349Z"
   },
   {
    "duration": 314,
    "start_time": "2023-01-15T18:08:07.401Z"
   },
   {
    "duration": 319,
    "start_time": "2023-01-15T18:11:41.101Z"
   },
   {
    "duration": 339,
    "start_time": "2023-01-15T18:13:02.228Z"
   },
   {
    "duration": 142437,
    "start_time": "2023-01-15T18:13:20.756Z"
   },
   {
    "duration": 105,
    "start_time": "2023-01-15T18:16:12.385Z"
   },
   {
    "duration": 783,
    "start_time": "2023-01-15T18:22:56.945Z"
   },
   {
    "duration": 143,
    "start_time": "2023-01-15T18:23:11.247Z"
   },
   {
    "duration": 229,
    "start_time": "2023-01-15T18:24:58.649Z"
   },
   {
    "duration": 957,
    "start_time": "2023-01-15T18:30:22.491Z"
   },
   {
    "duration": 225,
    "start_time": "2023-01-15T18:35:54.269Z"
   },
   {
    "duration": 3124,
    "start_time": "2023-01-15T18:39:51.271Z"
   },
   {
    "duration": 345,
    "start_time": "2023-01-15T18:40:01.970Z"
   },
   {
    "duration": 1108,
    "start_time": "2023-01-16T06:25:49.000Z"
   },
   {
    "duration": 77,
    "start_time": "2023-01-16T06:25:50.110Z"
   },
   {
    "duration": 9,
    "start_time": "2023-01-16T06:25:50.804Z"
   },
   {
    "duration": 17,
    "start_time": "2023-01-16T06:25:51.519Z"
   },
   {
    "duration": 6,
    "start_time": "2023-01-16T06:25:53.404Z"
   },
   {
    "duration": 6,
    "start_time": "2023-01-16T06:25:58.230Z"
   },
   {
    "duration": 4,
    "start_time": "2023-01-16T06:26:02.295Z"
   },
   {
    "duration": 120,
    "start_time": "2023-01-16T06:41:34.174Z"
   },
   {
    "duration": 4,
    "start_time": "2023-01-16T06:41:39.620Z"
   },
   {
    "duration": 38,
    "start_time": "2023-01-16T06:41:39.935Z"
   },
   {
    "duration": 3,
    "start_time": "2023-01-16T06:41:40.157Z"
   },
   {
    "duration": 14,
    "start_time": "2023-01-16T06:41:40.410Z"
   },
   {
    "duration": 5,
    "start_time": "2023-01-16T06:41:40.624Z"
   },
   {
    "duration": 4,
    "start_time": "2023-01-16T06:41:41.057Z"
   },
   {
    "duration": 11,
    "start_time": "2023-01-16T06:41:41.254Z"
   },
   {
    "duration": 4,
    "start_time": "2023-01-16T06:41:41.496Z"
   },
   {
    "duration": 13,
    "start_time": "2023-01-16T06:41:41.688Z"
   },
   {
    "duration": 7,
    "start_time": "2023-01-16T06:41:42.154Z"
   },
   {
    "duration": 6,
    "start_time": "2023-01-16T06:41:42.641Z"
   },
   {
    "duration": 6,
    "start_time": "2023-01-16T06:41:43.097Z"
   },
   {
    "duration": 6,
    "start_time": "2023-01-16T06:41:43.602Z"
   },
   {
    "duration": 4,
    "start_time": "2023-01-16T06:41:43.816Z"
   },
   {
    "duration": 8,
    "start_time": "2023-01-16T06:41:44.291Z"
   },
   {
    "duration": 11,
    "start_time": "2023-01-16T06:41:44.590Z"
   },
   {
    "duration": 43,
    "start_time": "2023-01-16T06:41:46.522Z"
   },
   {
    "duration": 740,
    "start_time": "2023-01-16T06:41:48.513Z"
   },
   {
    "duration": 34,
    "start_time": "2023-01-16T06:41:51.843Z"
   },
   {
    "duration": 314,
    "start_time": "2023-01-16T06:41:54.376Z"
   },
   {
    "duration": 30,
    "start_time": "2023-01-16T06:41:59.393Z"
   },
   {
    "duration": 307,
    "start_time": "2023-01-16T06:42:25.621Z"
   },
   {
    "duration": 32,
    "start_time": "2023-01-16T06:43:07.173Z"
   },
   {
    "duration": 304,
    "start_time": "2023-01-16T06:43:27.502Z"
   },
   {
    "duration": 136184,
    "start_time": "2023-01-16T06:44:58.775Z"
   },
   {
    "duration": 251,
    "start_time": "2023-01-16T06:49:33.231Z"
   },
   {
    "duration": 322,
    "start_time": "2023-01-16T07:04:53.210Z"
   },
   {
    "duration": 33,
    "start_time": "2023-01-16T07:07:22.077Z"
   },
   {
    "duration": 327,
    "start_time": "2023-01-16T07:09:22.474Z"
   },
   {
    "duration": 138440,
    "start_time": "2023-01-16T07:10:34.515Z"
   },
   {
    "duration": 5,
    "start_time": "2023-01-16T07:13:56.301Z"
   },
   {
    "duration": 248,
    "start_time": "2023-01-16T07:35:33.072Z"
   },
   {
    "duration": 142524,
    "start_time": "2023-01-16T07:35:55.135Z"
   },
   {
    "duration": 247,
    "start_time": "2023-01-16T07:42:38.939Z"
   },
   {
    "duration": 270,
    "start_time": "2023-01-16T07:44:35.376Z"
   },
   {
    "duration": 37,
    "start_time": "2023-01-16T08:01:11.641Z"
   },
   {
    "duration": 84,
    "start_time": "2023-01-16T08:03:43.994Z"
   },
   {
    "duration": 137910,
    "start_time": "2023-01-16T08:08:08.269Z"
   },
   {
    "duration": 341,
    "start_time": "2023-01-16T08:13:10.731Z"
   },
   {
    "duration": 334,
    "start_time": "2023-01-16T08:13:24.865Z"
   },
   {
    "duration": 34,
    "start_time": "2023-01-16T08:14:54.822Z"
   },
   {
    "duration": 44,
    "start_time": "2023-01-16T08:15:06.247Z"
   },
   {
    "duration": 30,
    "start_time": "2023-01-16T08:15:12.652Z"
   },
   {
    "duration": 503,
    "start_time": "2023-01-16T08:36:50.900Z"
   },
   {
    "duration": 82,
    "start_time": "2023-01-16T08:44:03.903Z"
   },
   {
    "duration": 4,
    "start_time": "2023-01-16T08:55:50.119Z"
   },
   {
    "duration": 12,
    "start_time": "2023-01-16T08:58:56.575Z"
   },
   {
    "duration": 12,
    "start_time": "2023-01-16T08:58:59.461Z"
   },
   {
    "duration": 442,
    "start_time": "2023-01-16T08:59:00.687Z"
   },
   {
    "duration": 392,
    "start_time": "2023-01-16T08:59:09.586Z"
   },
   {
    "duration": 455,
    "start_time": "2023-01-16T08:59:26.117Z"
   },
   {
    "duration": 37,
    "start_time": "2023-01-16T08:59:48.568Z"
   },
   {
    "duration": 36,
    "start_time": "2023-01-16T09:00:15.376Z"
   },
   {
    "duration": 14,
    "start_time": "2023-01-16T09:04:21.198Z"
   },
   {
    "duration": 570,
    "start_time": "2023-01-16T09:04:27.338Z"
   },
   {
    "duration": 42,
    "start_time": "2023-01-16T09:04:32.620Z"
   },
   {
    "duration": 12,
    "start_time": "2023-01-16T09:04:38.772Z"
   },
   {
    "duration": 435,
    "start_time": "2023-01-16T09:04:42.947Z"
   },
   {
    "duration": 36,
    "start_time": "2023-01-16T09:04:44.459Z"
   },
   {
    "duration": 12,
    "start_time": "2023-01-16T09:04:50.452Z"
   },
   {
    "duration": 448,
    "start_time": "2023-01-16T09:04:51.669Z"
   },
   {
    "duration": 35,
    "start_time": "2023-01-16T09:04:55.459Z"
   },
   {
    "duration": 37,
    "start_time": "2023-01-16T09:09:05.009Z"
   },
   {
    "duration": 37,
    "start_time": "2023-01-16T09:09:20.113Z"
   },
   {
    "duration": 38,
    "start_time": "2023-01-16T09:09:26.831Z"
   },
   {
    "duration": 997,
    "start_time": "2023-01-16T09:33:21.657Z"
   },
   {
    "duration": 81,
    "start_time": "2023-01-16T09:33:22.656Z"
   },
   {
    "duration": 8,
    "start_time": "2023-01-16T09:33:22.741Z"
   },
   {
    "duration": 13,
    "start_time": "2023-01-16T09:33:22.935Z"
   },
   {
    "duration": 5,
    "start_time": "2023-01-16T09:33:23.141Z"
   },
   {
    "duration": 4,
    "start_time": "2023-01-16T09:33:23.902Z"
   },
   {
    "duration": 10,
    "start_time": "2023-01-16T09:33:24.420Z"
   },
   {
    "duration": 10,
    "start_time": "2023-01-16T09:33:24.737Z"
   },
   {
    "duration": 13,
    "start_time": "2023-01-16T09:33:25.070Z"
   },
   {
    "duration": 6,
    "start_time": "2023-01-16T09:33:26.045Z"
   },
   {
    "duration": 5,
    "start_time": "2023-01-16T09:33:27.053Z"
   },
   {
    "duration": 5,
    "start_time": "2023-01-16T09:33:28.647Z"
   },
   {
    "duration": 6,
    "start_time": "2023-01-16T09:33:30.005Z"
   },
   {
    "duration": 4,
    "start_time": "2023-01-16T09:33:30.538Z"
   },
   {
    "duration": 7,
    "start_time": "2023-01-16T09:33:32.034Z"
   },
   {
    "duration": 9,
    "start_time": "2023-01-16T09:33:32.653Z"
   },
   {
    "duration": 5,
    "start_time": "2023-01-16T09:33:34.014Z"
   },
   {
    "duration": 287,
    "start_time": "2023-01-16T09:33:35.807Z"
   },
   {
    "duration": 27,
    "start_time": "2023-01-16T09:33:38.550Z"
   },
   {
    "duration": 123768,
    "start_time": "2023-01-16T09:33:46.336Z"
   },
   {
    "duration": 233,
    "start_time": "2023-01-16T09:35:50.106Z"
   },
   {
    "duration": 261,
    "start_time": "2023-01-16T09:35:50.341Z"
   },
   {
    "duration": 393,
    "start_time": "2023-01-16T09:35:50.605Z"
   },
   {
    "duration": 29,
    "start_time": "2023-01-16T09:35:50.999Z"
   },
   {
    "duration": 57,
    "start_time": "2023-01-16T09:35:51.029Z"
   },
   {
    "duration": 0,
    "start_time": "2023-01-16T09:35:51.087Z"
   },
   {
    "duration": 0,
    "start_time": "2023-01-16T09:35:51.089Z"
   },
   {
    "duration": 0,
    "start_time": "2023-01-16T09:35:51.090Z"
   },
   {
    "duration": 0,
    "start_time": "2023-01-16T09:35:51.091Z"
   },
   {
    "duration": 32,
    "start_time": "2023-01-16T09:36:09.490Z"
   },
   {
    "duration": 3,
    "start_time": "2023-01-16T09:36:11.379Z"
   },
   {
    "duration": 14,
    "start_time": "2023-01-16T09:36:12.770Z"
   },
   {
    "duration": 375,
    "start_time": "2023-01-16T09:36:14.131Z"
   },
   {
    "duration": 32,
    "start_time": "2023-01-16T09:36:18.241Z"
   },
   {
    "duration": 173844,
    "start_time": "2023-01-16T09:42:24.779Z"
   },
   {
    "duration": 892,
    "start_time": "2023-01-16T09:46:03.961Z"
   },
   {
    "duration": 835,
    "start_time": "2023-01-16T09:46:34.037Z"
   },
   {
    "duration": 172892,
    "start_time": "2023-01-16T09:46:48.038Z"
   },
   {
    "duration": 102,
    "start_time": "2023-01-16T09:50:14.412Z"
   },
   {
    "duration": 15,
    "start_time": "2023-01-16T09:50:37.682Z"
   },
   {
    "duration": 13,
    "start_time": "2023-01-16T09:50:50.569Z"
   },
   {
    "duration": 12,
    "start_time": "2023-01-16T09:50:55.098Z"
   },
   {
    "duration": 124,
    "start_time": "2023-01-16T09:50:56.377Z"
   },
   {
    "duration": 112,
    "start_time": "2023-01-16T09:51:06.286Z"
   },
   {
    "duration": 70,
    "start_time": "2023-01-16T09:51:11.936Z"
   },
   {
    "duration": 51,
    "start_time": "2023-01-16T09:51:17.454Z"
   },
   {
    "duration": 1588,
    "start_time": "2023-01-16T09:51:29.689Z"
   },
   {
    "duration": 571,
    "start_time": "2023-01-16T09:53:52.062Z"
   },
   {
    "duration": 1499,
    "start_time": "2023-01-16T09:53:57.083Z"
   },
   {
    "duration": 4,
    "start_time": "2023-01-16T09:56:39.299Z"
   },
   {
    "duration": 31,
    "start_time": "2023-01-16T09:57:08.966Z"
   },
   {
    "duration": 1433,
    "start_time": "2023-01-16T09:57:38.572Z"
   },
   {
    "duration": 1521,
    "start_time": "2023-01-16T09:57:43.146Z"
   },
   {
    "duration": 110,
    "start_time": "2023-01-16T09:57:56.391Z"
   },
   {
    "duration": 13,
    "start_time": "2023-01-16T09:59:19.290Z"
   },
   {
    "duration": 13,
    "start_time": "2023-01-16T09:59:29.049Z"
   },
   {
    "duration": 2,
    "start_time": "2023-01-16T10:01:27.206Z"
   },
   {
    "duration": 14,
    "start_time": "2023-01-16T10:01:28.902Z"
   },
   {
    "duration": 5,
    "start_time": "2023-01-16T10:08:05.420Z"
   },
   {
    "duration": 8,
    "start_time": "2023-01-16T10:08:11.127Z"
   },
   {
    "duration": 87,
    "start_time": "2023-01-16T10:08:17.011Z"
   },
   {
    "duration": 98,
    "start_time": "2023-01-16T10:09:32.001Z"
   },
   {
    "duration": 4,
    "start_time": "2023-01-16T10:17:26.172Z"
   },
   {
    "duration": 11,
    "start_time": "2023-01-16T10:18:05.673Z"
   },
   {
    "duration": 136,
    "start_time": "2023-01-16T10:19:35.062Z"
   },
   {
    "duration": 17,
    "start_time": "2023-01-16T10:19:55.277Z"
   },
   {
    "duration": 9,
    "start_time": "2023-01-16T10:21:13.475Z"
   },
   {
    "duration": 154,
    "start_time": "2023-01-16T10:21:15.096Z"
   },
   {
    "duration": 20,
    "start_time": "2023-01-16T10:21:22.097Z"
   },
   {
    "duration": 330,
    "start_time": "2023-01-16T10:29:43.648Z"
   },
   {
    "duration": 155,
    "start_time": "2023-01-16T10:29:50.812Z"
   },
   {
    "duration": 22,
    "start_time": "2023-01-16T10:29:52.447Z"
   },
   {
    "duration": 4,
    "start_time": "2023-01-16T10:31:14.874Z"
   },
   {
    "duration": 74669,
    "start_time": "2023-01-16T10:36:18.306Z"
   },
   {
    "duration": 428,
    "start_time": "2023-01-16T10:38:00.295Z"
   },
   {
    "duration": 409,
    "start_time": "2023-01-16T10:45:57.818Z"
   },
   {
    "duration": 189,
    "start_time": "2023-01-16T10:46:09.410Z"
   },
   {
    "duration": 3,
    "start_time": "2023-01-16T10:46:16.938Z"
   },
   {
    "duration": 6,
    "start_time": "2023-01-16T10:46:18.649Z"
   },
   {
    "duration": 8,
    "start_time": "2023-01-16T10:46:19.345Z"
   },
   {
    "duration": 37,
    "start_time": "2023-01-16T10:46:20.762Z"
   },
   {
    "duration": 8,
    "start_time": "2023-01-16T10:47:26.638Z"
   },
   {
    "duration": 57,
    "start_time": "2023-01-16T10:48:17.341Z"
   },
   {
    "duration": 8,
    "start_time": "2023-01-16T10:52:16.588Z"
   },
   {
    "duration": 8,
    "start_time": "2023-01-16T10:52:21.172Z"
   },
   {
    "duration": 39,
    "start_time": "2023-01-16T10:52:22.266Z"
   },
   {
    "duration": 8,
    "start_time": "2023-01-16T10:52:29.222Z"
   },
   {
    "duration": 44,
    "start_time": "2023-01-16T10:52:31.754Z"
   },
   {
    "duration": 8,
    "start_time": "2023-01-16T10:52:35.996Z"
   },
   {
    "duration": 50,
    "start_time": "2023-01-16T10:52:37.447Z"
   },
   {
    "duration": 8,
    "start_time": "2023-01-16T10:52:42.379Z"
   },
   {
    "duration": 62,
    "start_time": "2023-01-16T10:52:43.737Z"
   },
   {
    "duration": 8,
    "start_time": "2023-01-16T10:52:48.711Z"
   },
   {
    "duration": 40,
    "start_time": "2023-01-16T10:52:50.158Z"
   },
   {
    "duration": 8,
    "start_time": "2023-01-16T10:52:54.478Z"
   },
   {
    "duration": 22,
    "start_time": "2023-01-16T10:52:55.376Z"
   },
   {
    "duration": 7,
    "start_time": "2023-01-16T10:53:00.378Z"
   },
   {
    "duration": 60,
    "start_time": "2023-01-16T10:53:01.938Z"
   },
   {
    "duration": 8,
    "start_time": "2023-01-16T10:53:06.981Z"
   },
   {
    "duration": 36,
    "start_time": "2023-01-16T10:53:08.262Z"
   },
   {
    "duration": 6,
    "start_time": "2023-01-16T10:54:01.761Z"
   },
   {
    "duration": 256,
    "start_time": "2023-01-16T10:54:06.118Z"
   },
   {
    "duration": 5,
    "start_time": "2023-01-16T10:54:21.145Z"
   },
   {
    "duration": 41,
    "start_time": "2023-01-16T10:54:29.541Z"
   },
   {
    "duration": 9,
    "start_time": "2023-01-16T10:54:34.752Z"
   },
   {
    "duration": 9,
    "start_time": "2023-01-16T10:54:40.325Z"
   },
   {
    "duration": 3,
    "start_time": "2023-01-16T10:54:54.601Z"
   },
   {
    "duration": 4,
    "start_time": "2023-01-16T10:55:19.996Z"
   },
   {
    "duration": 9,
    "start_time": "2023-01-16T10:55:38.114Z"
   },
   {
    "duration": 152,
    "start_time": "2023-01-16T10:55:44.298Z"
   },
   {
    "duration": 20,
    "start_time": "2023-01-16T10:55:55.175Z"
   },
   {
    "duration": 10,
    "start_time": "2023-01-16T10:56:25.972Z"
   },
   {
    "duration": 173,
    "start_time": "2023-01-16T10:56:27.971Z"
   },
   {
    "duration": 21,
    "start_time": "2023-01-16T10:56:29.582Z"
   },
   {
    "duration": 9,
    "start_time": "2023-01-16T10:56:37.482Z"
   },
   {
    "duration": 146,
    "start_time": "2023-01-16T10:56:38.678Z"
   },
   {
    "duration": 23,
    "start_time": "2023-01-16T10:56:40.076Z"
   },
   {
    "duration": 9,
    "start_time": "2023-01-16T10:56:45.981Z"
   },
   {
    "duration": 167,
    "start_time": "2023-01-16T10:56:48.192Z"
   },
   {
    "duration": 24,
    "start_time": "2023-01-16T10:56:50.005Z"
   },
   {
    "duration": 9,
    "start_time": "2023-01-16T10:56:58.597Z"
   },
   {
    "duration": 196,
    "start_time": "2023-01-16T10:56:59.942Z"
   },
   {
    "duration": 21,
    "start_time": "2023-01-16T10:57:01.207Z"
   },
   {
    "duration": 11,
    "start_time": "2023-01-16T10:57:09.810Z"
   },
   {
    "duration": 197,
    "start_time": "2023-01-16T10:57:10.849Z"
   },
   {
    "duration": 24,
    "start_time": "2023-01-16T10:57:12.308Z"
   },
   {
    "duration": 10,
    "start_time": "2023-01-16T10:57:20.371Z"
   },
   {
    "duration": 149,
    "start_time": "2023-01-16T10:57:21.473Z"
   },
   {
    "duration": 20,
    "start_time": "2023-01-16T10:57:23.382Z"
   },
   {
    "duration": 8,
    "start_time": "2023-01-16T10:57:31.768Z"
   },
   {
    "duration": 161,
    "start_time": "2023-01-16T10:57:33.791Z"
   },
   {
    "duration": 23,
    "start_time": "2023-01-16T10:57:35.824Z"
   },
   {
    "duration": 14,
    "start_time": "2023-01-16T10:58:14.290Z"
   },
   {
    "duration": 20,
    "start_time": "2023-01-16T10:58:16.800Z"
   },
   {
    "duration": 7,
    "start_time": "2023-01-16T10:58:22.577Z"
   },
   {
    "duration": 10,
    "start_time": "2023-01-16T10:58:27.080Z"
   },
   {
    "duration": 377,
    "start_time": "2023-01-16T10:58:28.711Z"
   },
   {
    "duration": 34,
    "start_time": "2023-01-16T10:58:32.781Z"
   },
   {
    "duration": 12,
    "start_time": "2023-01-16T10:58:41.069Z"
   },
   {
    "duration": 387,
    "start_time": "2023-01-16T10:58:42.271Z"
   },
   {
    "duration": 33,
    "start_time": "2023-01-16T10:58:44.230Z"
   },
   {
    "duration": 10,
    "start_time": "2023-01-16T10:58:50.246Z"
   },
   {
    "duration": 334,
    "start_time": "2023-01-16T10:58:51.391Z"
   },
   {
    "duration": 30,
    "start_time": "2023-01-16T10:58:53.250Z"
   },
   {
    "duration": 8,
    "start_time": "2023-01-16T10:59:21.977Z"
   },
   {
    "duration": 326,
    "start_time": "2023-01-16T10:59:23.082Z"
   },
   {
    "duration": 28,
    "start_time": "2023-01-16T10:59:24.833Z"
   },
   {
    "duration": 9,
    "start_time": "2023-01-16T10:59:32.126Z"
   },
   {
    "duration": 351,
    "start_time": "2023-01-16T10:59:33.455Z"
   },
   {
    "duration": 33,
    "start_time": "2023-01-16T10:59:34.857Z"
   },
   {
    "duration": 10,
    "start_time": "2023-01-16T11:01:03.741Z"
   },
   {
    "duration": 164117,
    "start_time": "2023-01-16T11:01:05.812Z"
   },
   {
    "duration": 382,
    "start_time": "2023-01-16T11:07:28.406Z"
   },
   {
    "duration": 11,
    "start_time": "2023-01-16T11:07:56.756Z"
   },
   {
    "duration": 181982,
    "start_time": "2023-01-16T11:07:59.115Z"
   },
   {
    "duration": 1453,
    "start_time": "2023-01-16T11:12:05.519Z"
   },
   {
    "duration": 14,
    "start_time": "2023-01-16T11:12:15.695Z"
   },
   {
    "duration": 142960,
    "start_time": "2023-01-16T11:12:18.654Z"
   },
   {
    "duration": 548,
    "start_time": "2023-01-16T11:15:54.660Z"
   },
   {
    "duration": 10,
    "start_time": "2023-01-16T11:16:09.343Z"
   },
   {
    "duration": 194501,
    "start_time": "2023-01-16T11:16:10.237Z"
   },
   {
    "duration": 1689,
    "start_time": "2023-01-16T11:23:33.777Z"
   },
   {
    "duration": 12,
    "start_time": "2023-01-16T11:23:44.970Z"
   },
   {
    "duration": 162787,
    "start_time": "2023-01-16T11:23:46.094Z"
   },
   {
    "duration": 363,
    "start_time": "2023-01-16T11:26:42.714Z"
   },
   {
    "duration": 374,
    "start_time": "2023-01-16T11:27:20.925Z"
   },
   {
    "duration": 294,
    "start_time": "2023-01-16T11:27:26.418Z"
   },
   {
    "duration": 370,
    "start_time": "2023-01-16T11:27:33.956Z"
   },
   {
    "duration": 169656,
    "start_time": "2023-01-16T11:27:46.713Z"
   },
   {
    "duration": 13,
    "start_time": "2023-01-16T11:31:37.771Z"
   },
   {
    "duration": 197084,
    "start_time": "2023-01-16T11:31:39.256Z"
   },
   {
    "duration": 411,
    "start_time": "2023-01-16T11:34:56.341Z"
   },
   {
    "duration": 1482,
    "start_time": "2023-01-16T11:38:04.711Z"
   },
   {
    "duration": 10,
    "start_time": "2023-01-16T11:38:20.371Z"
   },
   {
    "duration": 164289,
    "start_time": "2023-01-16T11:38:23.192Z"
   },
   {
    "duration": 371,
    "start_time": "2023-01-16T11:46:17.296Z"
   },
   {
    "duration": 10,
    "start_time": "2023-01-16T11:46:28.601Z"
   },
   {
    "duration": 80721,
    "start_time": "2023-01-16T11:46:37.054Z"
   },
   {
    "duration": 381,
    "start_time": "2023-01-16T11:48:50.163Z"
   },
   {
    "duration": 8,
    "start_time": "2023-01-16T11:49:25.970Z"
   },
   {
    "duration": 82027,
    "start_time": "2023-01-16T11:49:28.247Z"
   },
   {
    "duration": 52,
    "start_time": "2023-01-16T11:52:22.657Z"
   },
   {
    "duration": 14,
    "start_time": "2023-01-16T11:52:34.744Z"
   },
   {
    "duration": 78283,
    "start_time": "2023-01-16T11:52:35.914Z"
   },
   {
    "duration": 110,
    "start_time": "2023-01-16T11:54:41.160Z"
   },
   {
    "duration": 10,
    "start_time": "2023-01-16T11:54:47.708Z"
   },
   {
    "duration": 83483,
    "start_time": "2023-01-16T11:54:48.388Z"
   },
   {
    "duration": 254,
    "start_time": "2023-01-16T11:59:03.051Z"
   },
   {
    "duration": 11,
    "start_time": "2023-01-16T11:59:19.936Z"
   },
   {
    "duration": 86754,
    "start_time": "2023-01-16T11:59:20.837Z"
   },
   {
    "duration": 263,
    "start_time": "2023-01-16T12:00:47.593Z"
   },
   {
    "duration": 51,
    "start_time": "2023-01-16T12:01:16.522Z"
   },
   {
    "duration": 11,
    "start_time": "2023-01-16T12:01:31.762Z"
   },
   {
    "duration": 89810,
    "start_time": "2023-01-16T12:01:33.525Z"
   },
   {
    "duration": 238,
    "start_time": "2023-01-16T12:03:14.673Z"
   },
   {
    "duration": 9,
    "start_time": "2023-01-16T12:03:27.108Z"
   },
   {
    "duration": 91226,
    "start_time": "2023-01-16T12:03:28.647Z"
   },
   {
    "duration": 482,
    "start_time": "2023-01-16T12:06:11.917Z"
   },
   {
    "duration": 10,
    "start_time": "2023-01-16T12:06:37.792Z"
   },
   {
    "duration": 106243,
    "start_time": "2023-01-16T12:06:39.376Z"
   },
   {
    "duration": 69,
    "start_time": "2023-01-16T12:08:29.443Z"
   },
   {
    "duration": 13,
    "start_time": "2023-01-16T12:08:34.897Z"
   },
   {
    "duration": 102061,
    "start_time": "2023-01-16T12:08:36.549Z"
   },
   {
    "duration": 102596,
    "start_time": "2023-01-16T12:10:29.190Z"
   },
   {
    "duration": 80,
    "start_time": "2023-01-16T12:12:11.787Z"
   },
   {
    "duration": 9,
    "start_time": "2023-01-16T12:12:22.902Z"
   },
   {
    "duration": 88554,
    "start_time": "2023-01-16T12:12:25.157Z"
   },
   {
    "duration": 793,
    "start_time": "2023-01-16T12:14:03.561Z"
   },
   {
    "duration": 10,
    "start_time": "2023-01-16T12:14:17.045Z"
   },
   {
    "duration": 97330,
    "start_time": "2023-01-16T12:14:18.196Z"
   },
   {
    "duration": 465,
    "start_time": "2023-01-16T12:16:02.627Z"
   },
   {
    "duration": 8,
    "start_time": "2023-01-16T12:17:41.102Z"
   },
   {
    "duration": 80,
    "start_time": "2023-01-16T12:17:54.819Z"
   },
   {
    "duration": 3,
    "start_time": "2023-01-16T12:17:57.059Z"
   },
   {
    "duration": 5,
    "start_time": "2023-01-16T12:17:57.694Z"
   },
   {
    "duration": 8,
    "start_time": "2023-01-16T12:17:58.575Z"
   },
   {
    "duration": 31,
    "start_time": "2023-01-16T12:18:00.568Z"
   },
   {
    "duration": 8,
    "start_time": "2023-01-16T12:18:10.036Z"
   },
   {
    "duration": 109,
    "start_time": "2023-01-16T12:18:11.299Z"
   },
   {
    "duration": 8,
    "start_time": "2023-01-16T12:18:15.712Z"
   },
   {
    "duration": 63,
    "start_time": "2023-01-16T12:18:17.435Z"
   },
   {
    "duration": 7,
    "start_time": "2023-01-16T12:18:28.097Z"
   },
   {
    "duration": 87,
    "start_time": "2023-01-16T12:18:31.216Z"
   },
   {
    "duration": 7,
    "start_time": "2023-01-16T12:18:43.353Z"
   },
   {
    "duration": 28,
    "start_time": "2023-01-16T12:18:45.776Z"
   },
   {
    "duration": 7,
    "start_time": "2023-01-16T12:18:57.598Z"
   },
   {
    "duration": 76,
    "start_time": "2023-01-16T12:18:58.623Z"
   },
   {
    "duration": 9,
    "start_time": "2023-01-16T12:19:03.364Z"
   },
   {
    "duration": 70,
    "start_time": "2023-01-16T12:19:04.731Z"
   },
   {
    "duration": 7,
    "start_time": "2023-01-16T12:19:10.694Z"
   },
   {
    "duration": 32,
    "start_time": "2023-01-16T12:19:12.059Z"
   },
   {
    "duration": 8,
    "start_time": "2023-01-16T12:19:17.580Z"
   },
   {
    "duration": 107,
    "start_time": "2023-01-16T12:19:18.494Z"
   },
   {
    "duration": 9,
    "start_time": "2023-01-16T12:19:22.404Z"
   },
   {
    "duration": 110,
    "start_time": "2023-01-16T12:19:25.093Z"
   },
   {
    "duration": 8,
    "start_time": "2023-01-16T12:19:29.123Z"
   },
   {
    "duration": 33,
    "start_time": "2023-01-16T12:19:31.064Z"
   },
   {
    "duration": 8,
    "start_time": "2023-01-16T12:19:36.248Z"
   },
   {
    "duration": 47,
    "start_time": "2023-01-16T12:19:38.051Z"
   },
   {
    "duration": 8,
    "start_time": "2023-01-16T12:20:36.616Z"
   },
   {
    "duration": 104,
    "start_time": "2023-01-16T12:20:38.095Z"
   },
   {
    "duration": 7,
    "start_time": "2023-01-16T12:20:46.567Z"
   },
   {
    "duration": 69,
    "start_time": "2023-01-16T12:20:47.629Z"
   },
   {
    "duration": 8,
    "start_time": "2023-01-16T12:20:56.637Z"
   },
   {
    "duration": 83,
    "start_time": "2023-01-16T12:20:57.415Z"
   },
   {
    "duration": 8,
    "start_time": "2023-01-16T12:21:09.195Z"
   },
   {
    "duration": 82,
    "start_time": "2023-01-16T12:21:10.316Z"
   },
   {
    "duration": 7,
    "start_time": "2023-01-16T12:21:16.040Z"
   },
   {
    "duration": 91,
    "start_time": "2023-01-16T12:21:16.907Z"
   },
   {
    "duration": 7,
    "start_time": "2023-01-16T12:21:21.173Z"
   },
   {
    "duration": 36,
    "start_time": "2023-01-16T12:21:22.261Z"
   },
   {
    "duration": 9,
    "start_time": "2023-01-16T12:21:29.759Z"
   },
   {
    "duration": 20,
    "start_time": "2023-01-16T12:21:30.785Z"
   },
   {
    "duration": 8,
    "start_time": "2023-01-16T12:21:37.535Z"
   },
   {
    "duration": 21,
    "start_time": "2023-01-16T12:21:38.577Z"
   },
   {
    "duration": 8,
    "start_time": "2023-01-16T12:21:43.001Z"
   },
   {
    "duration": 20,
    "start_time": "2023-01-16T12:21:44.228Z"
   },
   {
    "duration": 9,
    "start_time": "2023-01-16T12:21:51.237Z"
   },
   {
    "duration": 56,
    "start_time": "2023-01-16T12:21:56.342Z"
   },
   {
    "duration": 10,
    "start_time": "2023-01-16T12:22:08.997Z"
   },
   {
    "duration": 45,
    "start_time": "2023-01-16T12:22:10.063Z"
   },
   {
    "duration": 12,
    "start_time": "2023-01-16T12:22:24.748Z"
   },
   {
    "duration": 66,
    "start_time": "2023-01-16T12:22:25.939Z"
   },
   {
    "duration": 10,
    "start_time": "2023-01-16T12:22:48.613Z"
   },
   {
    "duration": 106,
    "start_time": "2023-01-16T12:22:49.601Z"
   },
   {
    "duration": 8,
    "start_time": "2023-01-16T12:22:56.998Z"
   },
   {
    "duration": 61,
    "start_time": "2023-01-16T12:22:58.439Z"
   },
   {
    "duration": 8,
    "start_time": "2023-01-16T12:23:01.817Z"
   },
   {
    "duration": 31,
    "start_time": "2023-01-16T12:23:02.667Z"
   },
   {
    "duration": 11,
    "start_time": "2023-01-16T12:23:09.115Z"
   },
   {
    "duration": 92,
    "start_time": "2023-01-16T12:23:09.819Z"
   },
   {
    "duration": 10,
    "start_time": "2023-01-16T12:23:14.335Z"
   },
   {
    "duration": 26,
    "start_time": "2023-01-16T12:23:15.131Z"
   },
   {
    "duration": 10,
    "start_time": "2023-01-16T12:23:19.228Z"
   },
   {
    "duration": 27,
    "start_time": "2023-01-16T12:23:19.934Z"
   },
   {
    "duration": 8,
    "start_time": "2023-01-16T12:23:32.673Z"
   },
   {
    "duration": 44,
    "start_time": "2023-01-16T12:23:34.656Z"
   },
   {
    "duration": 8,
    "start_time": "2023-01-16T12:23:41.036Z"
   },
   {
    "duration": 20,
    "start_time": "2023-01-16T12:23:41.673Z"
   },
   {
    "duration": 9,
    "start_time": "2023-01-16T12:23:45.579Z"
   },
   {
    "duration": 63,
    "start_time": "2023-01-16T12:23:46.238Z"
   },
   {
    "duration": 8,
    "start_time": "2023-01-16T12:23:50.198Z"
   },
   {
    "duration": 72,
    "start_time": "2023-01-16T12:23:50.926Z"
   },
   {
    "duration": 9,
    "start_time": "2023-01-16T12:23:56.092Z"
   },
   {
    "duration": 23,
    "start_time": "2023-01-16T12:23:57.915Z"
   },
   {
    "duration": 10,
    "start_time": "2023-01-16T12:27:26.325Z"
   },
   {
    "duration": 378,
    "start_time": "2023-01-16T12:28:42.119Z"
   },
   {
    "duration": 275,
    "start_time": "2023-01-16T12:30:46.486Z"
   },
   {
    "duration": 319,
    "start_time": "2023-01-16T12:30:53.691Z"
   },
   {
    "duration": 1043,
    "start_time": "2023-01-16T12:32:27.623Z"
   },
   {
    "duration": 51,
    "start_time": "2023-01-16T12:32:28.669Z"
   },
   {
    "duration": 8,
    "start_time": "2023-01-16T12:32:28.722Z"
   },
   {
    "duration": 23,
    "start_time": "2023-01-16T12:32:28.732Z"
   },
   {
    "duration": 4,
    "start_time": "2023-01-16T12:32:28.757Z"
   },
   {
    "duration": 7,
    "start_time": "2023-01-16T12:32:28.763Z"
   },
   {
    "duration": 35,
    "start_time": "2023-01-16T12:32:28.772Z"
   },
   {
    "duration": 5,
    "start_time": "2023-01-16T12:32:28.809Z"
   },
   {
    "duration": 17,
    "start_time": "2023-01-16T12:32:28.816Z"
   },
   {
    "duration": 7,
    "start_time": "2023-01-16T12:32:28.836Z"
   },
   {
    "duration": 23,
    "start_time": "2023-01-16T12:32:28.845Z"
   },
   {
    "duration": 6,
    "start_time": "2023-01-16T12:32:28.870Z"
   },
   {
    "duration": 7,
    "start_time": "2023-01-16T12:32:28.896Z"
   },
   {
    "duration": 4,
    "start_time": "2023-01-16T12:32:28.905Z"
   },
   {
    "duration": 14,
    "start_time": "2023-01-16T12:32:28.911Z"
   },
   {
    "duration": 12,
    "start_time": "2023-01-16T12:32:28.927Z"
   },
   {
    "duration": 5,
    "start_time": "2023-01-16T12:32:28.941Z"
   },
   {
    "duration": 7,
    "start_time": "2023-01-16T12:32:28.948Z"
   },
   {
    "duration": 18,
    "start_time": "2023-01-16T12:32:28.957Z"
   },
   {
    "duration": 292,
    "start_time": "2023-01-16T12:32:28.997Z"
   },
   {
    "duration": 31,
    "start_time": "2023-01-16T12:32:29.291Z"
   },
   {
    "duration": 130201,
    "start_time": "2023-01-16T12:32:29.324Z"
   },
   {
    "duration": 261,
    "start_time": "2023-01-16T12:34:39.528Z"
   },
   {
    "duration": 28,
    "start_time": "2023-01-16T12:34:39.791Z"
   },
   {
    "duration": 542,
    "start_time": "2023-01-16T12:34:39.821Z"
   },
   {
    "duration": 48,
    "start_time": "2023-01-16T12:34:40.365Z"
   },
   {
    "duration": 4,
    "start_time": "2023-01-16T12:34:40.415Z"
   },
   {
    "duration": 30,
    "start_time": "2023-01-16T12:34:40.424Z"
   },
   {
    "duration": 392,
    "start_time": "2023-01-16T12:34:40.456Z"
   },
   {
    "duration": 33,
    "start_time": "2023-01-16T12:34:40.850Z"
   },
   {
    "duration": 4,
    "start_time": "2023-01-16T12:34:40.897Z"
   },
   {
    "duration": 18,
    "start_time": "2023-01-16T12:34:40.903Z"
   },
   {
    "duration": 177,
    "start_time": "2023-01-16T12:34:40.923Z"
   },
   {
    "duration": 31,
    "start_time": "2023-01-16T12:34:41.103Z"
   },
   {
    "duration": 129238,
    "start_time": "2023-01-16T12:34:41.137Z"
   },
   {
    "duration": 428,
    "start_time": "2023-01-16T12:36:50.377Z"
   },
   {
    "duration": 9,
    "start_time": "2023-01-16T12:36:50.806Z"
   },
   {
    "duration": 164764,
    "start_time": "2023-01-16T12:36:50.817Z"
   },
   {
    "duration": 387,
    "start_time": "2023-01-16T12:39:35.582Z"
   },
   {
    "duration": 8,
    "start_time": "2023-01-16T12:39:35.971Z"
   },
   {
    "duration": 95019,
    "start_time": "2023-01-16T12:39:35.981Z"
   },
   {
    "duration": 475,
    "start_time": "2023-01-16T12:41:11.007Z"
   },
   {
    "duration": 40,
    "start_time": "2023-01-16T12:41:11.484Z"
   },
   {
    "duration": 115,
    "start_time": "2023-01-16T12:41:11.601Z"
   },
   {
    "duration": 14,
    "start_time": "2023-01-16T12:41:11.717Z"
   },
   {
    "duration": 13,
    "start_time": "2023-01-16T12:41:11.733Z"
   },
   {
    "duration": 62,
    "start_time": "2023-01-16T12:41:11.747Z"
   },
   {
    "duration": 94,
    "start_time": "2023-01-16T12:41:11.811Z"
   },
   {
    "duration": 49,
    "start_time": "2023-01-16T12:41:11.907Z"
   },
   {
    "duration": 377,
    "start_time": "2023-01-16T12:41:11.998Z"
   },
   {
    "duration": 0,
    "start_time": "2023-01-16T12:41:12.376Z"
   },
   {
    "duration": 0,
    "start_time": "2023-01-16T12:41:12.377Z"
   },
   {
    "duration": 270,
    "start_time": "2023-01-16T12:42:44.463Z"
   },
   {
    "duration": 9,
    "start_time": "2023-01-16T12:43:21.280Z"
   },
   {
    "duration": 371,
    "start_time": "2023-01-16T12:43:22.179Z"
   },
   {
    "duration": 288,
    "start_time": "2023-01-16T12:44:40.917Z"
   },
   {
    "duration": 332,
    "start_time": "2023-01-16T12:44:56.109Z"
   },
   {
    "duration": 373,
    "start_time": "2023-01-16T12:45:07.978Z"
   },
   {
    "duration": 437,
    "start_time": "2023-01-16T12:46:34.941Z"
   },
   {
    "duration": 8,
    "start_time": "2023-01-16T12:47:00.134Z"
   },
   {
    "duration": 393,
    "start_time": "2023-01-16T12:47:07.735Z"
   },
   {
    "duration": 452,
    "start_time": "2023-01-16T12:48:34.760Z"
   },
   {
    "duration": 11,
    "start_time": "2023-01-16T12:49:45.937Z"
   },
   {
    "duration": 9,
    "start_time": "2023-01-16T12:52:32.216Z"
   },
   {
    "duration": 94314,
    "start_time": "2023-01-16T12:52:32.227Z"
   },
   {
    "duration": 162429,
    "start_time": "2023-01-16T12:54:06.543Z"
   },
   {
    "duration": 380,
    "start_time": "2023-01-16T12:56:48.974Z"
   },
   {
    "duration": 460,
    "start_time": "2023-01-16T12:56:49.356Z"
   },
   {
    "duration": 208,
    "start_time": "2023-01-16T12:58:29.144Z"
   },
   {
    "duration": 89,
    "start_time": "2023-01-16T13:00:00.426Z"
   },
   {
    "duration": 9,
    "start_time": "2023-01-16T13:00:54.386Z"
   },
   {
    "duration": 160529,
    "start_time": "2023-01-16T13:00:54.882Z"
   },
   {
    "duration": 349,
    "start_time": "2023-01-16T13:06:41.370Z"
   },
   {
    "duration": 83,
    "start_time": "2023-01-16T13:06:42.866Z"
   },
   {
    "duration": 120,
    "start_time": "2023-01-16T13:09:04.078Z"
   },
   {
    "duration": 10,
    "start_time": "2023-01-16T13:09:08.370Z"
   },
   {
    "duration": 104,
    "start_time": "2023-01-16T13:09:09.495Z"
   },
   {
    "duration": 9,
    "start_time": "2023-01-16T13:09:15.964Z"
   },
   {
    "duration": 29,
    "start_time": "2023-01-16T13:09:16.775Z"
   },
   {
    "duration": 49,
    "start_time": "2023-01-17T11:17:21.847Z"
   },
   {
    "duration": 1369,
    "start_time": "2023-01-17T11:17:25.509Z"
   },
   {
    "duration": 167,
    "start_time": "2023-01-17T11:17:26.880Z"
   },
   {
    "duration": 9,
    "start_time": "2023-01-17T11:17:27.049Z"
   },
   {
    "duration": 18,
    "start_time": "2023-01-17T11:17:27.062Z"
   },
   {
    "duration": 5,
    "start_time": "2023-01-17T11:17:27.814Z"
   },
   {
    "duration": 5,
    "start_time": "2023-01-17T11:17:32.742Z"
   },
   {
    "duration": 20,
    "start_time": "2023-01-17T11:17:33.183Z"
   },
   {
    "duration": 69,
    "start_time": "2023-01-17T11:34:06.801Z"
   },
   {
    "duration": 5,
    "start_time": "2023-01-17T11:34:13.123Z"
   },
   {
    "duration": 40,
    "start_time": "2023-01-17T11:34:13.427Z"
   },
   {
    "duration": 5,
    "start_time": "2023-01-17T11:34:13.596Z"
   },
   {
    "duration": 14,
    "start_time": "2023-01-17T11:34:13.715Z"
   },
   {
    "duration": 6,
    "start_time": "2023-01-17T11:34:13.900Z"
   },
   {
    "duration": 4,
    "start_time": "2023-01-17T11:34:14.228Z"
   },
   {
    "duration": 20,
    "start_time": "2023-01-17T11:34:14.394Z"
   },
   {
    "duration": 14,
    "start_time": "2023-01-17T11:34:14.731Z"
   },
   {
    "duration": 5,
    "start_time": "2023-01-17T11:34:15.246Z"
   },
   {
    "duration": 14,
    "start_time": "2023-01-17T11:34:15.454Z"
   },
   {
    "duration": 10,
    "start_time": "2023-01-17T11:34:15.930Z"
   },
   {
    "duration": 6,
    "start_time": "2023-01-17T11:34:16.040Z"
   },
   {
    "duration": 12,
    "start_time": "2023-01-17T11:34:26.481Z"
   },
   {
    "duration": 4,
    "start_time": "2023-01-17T11:48:32.758Z"
   },
   {
    "duration": 40,
    "start_time": "2023-01-17T11:48:33.147Z"
   },
   {
    "duration": 4,
    "start_time": "2023-01-17T11:48:33.372Z"
   },
   {
    "duration": 14,
    "start_time": "2023-01-17T11:48:33.581Z"
   },
   {
    "duration": 7,
    "start_time": "2023-01-17T11:48:33.827Z"
   },
   {
    "duration": 5,
    "start_time": "2023-01-17T11:48:34.203Z"
   },
   {
    "duration": 23,
    "start_time": "2023-01-17T11:48:34.418Z"
   },
   {
    "duration": 12,
    "start_time": "2023-01-17T11:48:34.926Z"
   },
   {
    "duration": 5,
    "start_time": "2023-01-17T11:48:36.050Z"
   },
   {
    "duration": 4,
    "start_time": "2023-01-17T11:50:13.220Z"
   },
   {
    "duration": 39,
    "start_time": "2023-01-17T11:50:13.604Z"
   },
   {
    "duration": 4,
    "start_time": "2023-01-17T11:50:13.828Z"
   },
   {
    "duration": 15,
    "start_time": "2023-01-17T11:50:14.413Z"
   },
   {
    "duration": 5,
    "start_time": "2023-01-17T11:50:14.910Z"
   },
   {
    "duration": 4,
    "start_time": "2023-01-17T11:50:15.483Z"
   },
   {
    "duration": 21,
    "start_time": "2023-01-17T11:50:17.998Z"
   },
   {
    "duration": 12,
    "start_time": "2023-01-17T11:50:33.756Z"
   },
   {
    "duration": 4,
    "start_time": "2023-01-17T11:50:35.813Z"
   },
   {
    "duration": 12,
    "start_time": "2023-01-17T11:50:37.930Z"
   },
   {
    "duration": 2,
    "start_time": "2023-01-17T11:50:40.377Z"
   },
   {
    "duration": 12,
    "start_time": "2023-01-17T11:50:40.694Z"
   },
   {
    "duration": 8,
    "start_time": "2023-01-17T11:50:41.027Z"
   },
   {
    "duration": 11,
    "start_time": "2023-01-17T11:50:41.355Z"
   },
   {
    "duration": 6,
    "start_time": "2023-01-17T11:50:48.891Z"
   },
   {
    "duration": 13,
    "start_time": "2023-01-17T11:50:50.851Z"
   },
   {
    "duration": 11,
    "start_time": "2023-01-17T11:50:53.333Z"
   },
   {
    "duration": 5,
    "start_time": "2023-01-17T11:50:55.373Z"
   },
   {
    "duration": 613,
    "start_time": "2023-01-17T11:59:21.488Z"
   },
   {
    "duration": 135417,
    "start_time": "2023-01-17T11:59:38.732Z"
   },
   {
    "duration": 6,
    "start_time": "2023-01-17T12:01:54.152Z"
   },
   {
    "duration": 41,
    "start_time": "2023-01-17T12:01:54.159Z"
   },
   {
    "duration": 3,
    "start_time": "2023-01-17T12:01:54.203Z"
   },
   {
    "duration": 18,
    "start_time": "2023-01-17T12:01:54.208Z"
   },
   {
    "duration": 8,
    "start_time": "2023-01-17T12:01:54.228Z"
   },
   {
    "duration": 6,
    "start_time": "2023-01-17T12:01:54.237Z"
   },
   {
    "duration": 12,
    "start_time": "2023-01-17T12:01:54.245Z"
   },
   {
    "duration": 52,
    "start_time": "2023-01-17T12:02:30.146Z"
   },
   {
    "duration": 1393,
    "start_time": "2023-01-17T12:02:37.031Z"
   },
   {
    "duration": 40,
    "start_time": "2023-01-17T12:02:38.426Z"
   },
   {
    "duration": 5,
    "start_time": "2023-01-17T12:02:38.468Z"
   },
   {
    "duration": 30,
    "start_time": "2023-01-17T12:02:38.476Z"
   },
   {
    "duration": 10,
    "start_time": "2023-01-17T12:02:38.508Z"
   },
   {
    "duration": 18,
    "start_time": "2023-01-17T12:02:38.520Z"
   },
   {
    "duration": 12,
    "start_time": "2023-01-17T12:02:38.915Z"
   },
   {
    "duration": 4,
    "start_time": "2023-01-17T12:02:39.588Z"
   },
   {
    "duration": 13,
    "start_time": "2023-01-17T12:02:39.807Z"
   },
   {
    "duration": 3,
    "start_time": "2023-01-17T12:02:41.893Z"
   },
   {
    "duration": 13,
    "start_time": "2023-01-17T12:02:42.449Z"
   },
   {
    "duration": 8,
    "start_time": "2023-01-17T12:02:44.776Z"
   },
   {
    "duration": 13,
    "start_time": "2023-01-17T12:02:44.956Z"
   },
   {
    "duration": 8,
    "start_time": "2023-01-17T12:02:46.224Z"
   },
   {
    "duration": 13,
    "start_time": "2023-01-17T12:02:47.320Z"
   },
   {
    "duration": 13,
    "start_time": "2023-01-17T12:02:47.729Z"
   },
   {
    "duration": 4,
    "start_time": "2023-01-17T12:02:47.975Z"
   },
   {
    "duration": 11,
    "start_time": "2023-01-17T12:02:53.535Z"
   },
   {
    "duration": 10,
    "start_time": "2023-01-17T12:02:53.712Z"
   },
   {
    "duration": 6,
    "start_time": "2023-01-17T12:02:55.870Z"
   },
   {
    "duration": 152,
    "start_time": "2023-01-17T12:02:56.638Z"
   },
   {
    "duration": 71,
    "start_time": "2023-01-17T12:08:07.767Z"
   },
   {
    "duration": 1448,
    "start_time": "2023-01-17T12:08:13.927Z"
   },
   {
    "duration": 57,
    "start_time": "2023-01-17T12:08:15.377Z"
   },
   {
    "duration": 6,
    "start_time": "2023-01-17T12:08:15.437Z"
   },
   {
    "duration": 20,
    "start_time": "2023-01-17T12:08:15.445Z"
   },
   {
    "duration": 6,
    "start_time": "2023-01-17T12:08:15.466Z"
   },
   {
    "duration": 5,
    "start_time": "2023-01-17T12:08:15.904Z"
   },
   {
    "duration": 12,
    "start_time": "2023-01-17T12:08:16.774Z"
   },
   {
    "duration": 4,
    "start_time": "2023-01-17T12:08:18.390Z"
   },
   {
    "duration": 15,
    "start_time": "2023-01-17T12:08:19.110Z"
   },
   {
    "duration": 4,
    "start_time": "2023-01-17T12:08:20.862Z"
   },
   {
    "duration": 9,
    "start_time": "2023-01-17T12:08:21.480Z"
   },
   {
    "duration": 7,
    "start_time": "2023-01-17T12:08:22.257Z"
   },
   {
    "duration": 11,
    "start_time": "2023-01-17T12:08:23.039Z"
   },
   {
    "duration": 7,
    "start_time": "2023-01-17T12:08:27.182Z"
   },
   {
    "duration": 9,
    "start_time": "2023-01-17T12:08:29.336Z"
   },
   {
    "duration": 8,
    "start_time": "2023-01-17T12:08:30.591Z"
   },
   {
    "duration": 4,
    "start_time": "2023-01-17T12:08:31.271Z"
   },
   {
    "duration": 11,
    "start_time": "2023-01-17T12:08:35.086Z"
   },
   {
    "duration": 13,
    "start_time": "2023-01-17T12:08:35.454Z"
   },
   {
    "duration": 5,
    "start_time": "2023-01-17T12:08:38.199Z"
   },
   {
    "duration": 8,
    "start_time": "2023-01-17T12:08:38.814Z"
   },
   {
    "duration": 7,
    "start_time": "2023-01-17T12:08:53.694Z"
   },
   {
    "duration": 129,
    "start_time": "2023-01-17T12:09:12.022Z"
   },
   {
    "duration": 108,
    "start_time": "2023-01-17T12:09:22.702Z"
   },
   {
    "duration": 168,
    "start_time": "2023-01-17T12:09:36.704Z"
   },
   {
    "duration": 75,
    "start_time": "2023-01-17T12:11:50.814Z"
   },
   {
    "duration": 87,
    "start_time": "2023-01-17T12:13:04.971Z"
   },
   {
    "duration": 15,
    "start_time": "2023-01-17T12:13:11.043Z"
   },
   {
    "duration": 109,
    "start_time": "2023-01-17T12:13:27.089Z"
   },
   {
    "duration": 176,
    "start_time": "2023-01-17T12:13:41.709Z"
   },
   {
    "duration": 6,
    "start_time": "2023-01-17T12:14:14.070Z"
   },
   {
    "duration": 8,
    "start_time": "2023-01-17T12:14:29.006Z"
   },
   {
    "duration": 7,
    "start_time": "2023-01-17T12:14:43.699Z"
   },
   {
    "duration": 7,
    "start_time": "2023-01-17T12:15:08.951Z"
   },
   {
    "duration": 5,
    "start_time": "2023-01-17T12:15:19.645Z"
   },
   {
    "duration": 6,
    "start_time": "2023-01-17T12:15:38.558Z"
   },
   {
    "duration": 14,
    "start_time": "2023-01-17T12:17:20.386Z"
   },
   {
    "duration": 5,
    "start_time": "2023-01-17T12:17:24.045Z"
   },
   {
    "duration": 5,
    "start_time": "2023-01-17T12:17:24.871Z"
   },
   {
    "duration": 9,
    "start_time": "2023-01-17T12:18:24.937Z"
   },
   {
    "duration": 5,
    "start_time": "2023-01-17T12:18:27.665Z"
   },
   {
    "duration": 3,
    "start_time": "2023-01-17T12:18:28.410Z"
   },
   {
    "duration": 4,
    "start_time": "2023-01-17T12:18:48.672Z"
   },
   {
    "duration": 8,
    "start_time": "2023-01-17T12:18:54.938Z"
   },
   {
    "duration": 6,
    "start_time": "2023-01-17T12:19:00.634Z"
   },
   {
    "duration": 6,
    "start_time": "2023-01-17T12:19:17.753Z"
   },
   {
    "duration": 6,
    "start_time": "2023-01-17T12:19:18.940Z"
   },
   {
    "duration": 6,
    "start_time": "2023-01-17T12:25:45.739Z"
   },
   {
    "duration": 12,
    "start_time": "2023-01-17T12:25:47.516Z"
   },
   {
    "duration": 6,
    "start_time": "2023-01-17T12:26:01.973Z"
   },
   {
    "duration": 55,
    "start_time": "2023-01-17T12:26:02.306Z"
   },
   {
    "duration": 4,
    "start_time": "2023-01-17T12:26:02.491Z"
   },
   {
    "duration": 15,
    "start_time": "2023-01-17T12:26:02.689Z"
   },
   {
    "duration": 6,
    "start_time": "2023-01-17T12:26:02.869Z"
   },
   {
    "duration": 6,
    "start_time": "2023-01-17T12:26:03.206Z"
   },
   {
    "duration": 15,
    "start_time": "2023-01-17T12:26:03.588Z"
   },
   {
    "duration": 4,
    "start_time": "2023-01-17T12:26:04.119Z"
   },
   {
    "duration": 14,
    "start_time": "2023-01-17T12:26:04.308Z"
   },
   {
    "duration": 3,
    "start_time": "2023-01-17T12:26:04.866Z"
   },
   {
    "duration": 11,
    "start_time": "2023-01-17T12:26:05.059Z"
   },
   {
    "duration": 9,
    "start_time": "2023-01-17T12:26:05.259Z"
   },
   {
    "duration": 13,
    "start_time": "2023-01-17T12:26:05.451Z"
   },
   {
    "duration": 7,
    "start_time": "2023-01-17T12:26:06.445Z"
   },
   {
    "duration": 9,
    "start_time": "2023-01-17T12:26:07.033Z"
   },
   {
    "duration": 9,
    "start_time": "2023-01-17T12:26:07.411Z"
   },
   {
    "duration": 4,
    "start_time": "2023-01-17T12:26:07.811Z"
   },
   {
    "duration": 10,
    "start_time": "2023-01-17T12:26:09.855Z"
   },
   {
    "duration": 10,
    "start_time": "2023-01-17T12:26:10.152Z"
   },
   {
    "duration": 8,
    "start_time": "2023-01-17T12:26:11.251Z"
   },
   {
    "duration": 127,
    "start_time": "2023-01-17T12:26:11.505Z"
   },
   {
    "duration": 4,
    "start_time": "2023-01-17T12:26:12.702Z"
   },
   {
    "duration": 3,
    "start_time": "2023-01-17T12:26:13.304Z"
   },
   {
    "duration": 367,
    "start_time": "2023-01-17T12:26:16.335Z"
   },
   {
    "duration": 35,
    "start_time": "2023-01-17T12:26:17.913Z"
   },
   {
    "duration": 149636,
    "start_time": "2023-01-17T12:26:19.785Z"
   },
   {
    "duration": 251,
    "start_time": "2023-01-17T12:28:49.422Z"
   },
   {
    "duration": 30,
    "start_time": "2023-01-17T12:28:49.675Z"
   },
   {
    "duration": 424,
    "start_time": "2023-01-17T12:28:49.783Z"
   },
   {
    "duration": 37,
    "start_time": "2023-01-17T12:29:59.358Z"
   },
   {
    "duration": 293,
    "start_time": "2023-01-17T12:30:18.207Z"
   },
   {
    "duration": 160,
    "start_time": "2023-01-17T12:31:31.525Z"
   },
   {
    "duration": 384,
    "start_time": "2023-01-17T12:32:04.438Z"
   },
   {
    "duration": 45,
    "start_time": "2023-01-17T12:32:14.041Z"
   },
   {
    "duration": 49,
    "start_time": "2023-01-17T12:32:57.406Z"
   },
   {
    "duration": 49,
    "start_time": "2023-01-17T12:34:10.686Z"
   },
   {
    "duration": 4,
    "start_time": "2023-01-17T12:34:13.029Z"
   },
   {
    "duration": 18,
    "start_time": "2023-01-17T12:34:16.061Z"
   },
   {
    "duration": 11,
    "start_time": "2023-01-17T12:34:38.408Z"
   },
   {
    "duration": 407,
    "start_time": "2023-01-17T12:34:47.809Z"
   },
   {
    "duration": 38,
    "start_time": "2023-01-17T12:34:55.830Z"
   },
   {
    "duration": 9,
    "start_time": "2023-01-17T12:35:16.363Z"
   },
   {
    "duration": 12,
    "start_time": "2023-01-17T12:35:44.717Z"
   },
   {
    "duration": 172,
    "start_time": "2023-01-17T12:35:52.116Z"
   },
   {
    "duration": 24,
    "start_time": "2023-01-17T12:35:55.823Z"
   },
   {
    "duration": 146229,
    "start_time": "2023-01-17T12:36:23.677Z"
   },
   {
    "duration": 54,
    "start_time": "2023-01-17T12:41:24.264Z"
   },
   {
    "duration": 52,
    "start_time": "2023-01-17T12:41:33.565Z"
   },
   {
    "duration": 151198,
    "start_time": "2023-01-17T12:41:49.564Z"
   },
   {
    "duration": 502,
    "start_time": "2023-01-17T12:44:20.764Z"
   },
   {
    "duration": 99,
    "start_time": "2023-01-17T12:44:39.490Z"
   },
   {
    "duration": 168,
    "start_time": "2023-01-17T12:44:44.990Z"
   },
   {
    "duration": 231,
    "start_time": "2023-01-17T12:44:48.297Z"
   },
   {
    "duration": 312,
    "start_time": "2023-01-17T12:44:52.322Z"
   },
   {
    "duration": 412,
    "start_time": "2023-01-17T12:44:58.426Z"
   },
   {
    "duration": 464,
    "start_time": "2023-01-17T12:45:03.315Z"
   },
   {
    "duration": 554,
    "start_time": "2023-01-17T12:45:14.748Z"
   },
   {
    "duration": 680,
    "start_time": "2023-01-17T12:45:19.062Z"
   },
   {
    "duration": 12481,
    "start_time": "2023-01-17T12:46:51.507Z"
   },
   {
    "duration": 6,
    "start_time": "2023-01-17T12:47:16.113Z"
   },
   {
    "duration": 5,
    "start_time": "2023-01-17T12:47:25.008Z"
   },
   {
    "duration": 683,
    "start_time": "2023-01-17T12:47:32.023Z"
   },
   {
    "duration": 24,
    "start_time": "2023-01-17T12:48:36.218Z"
   },
   {
    "duration": 16,
    "start_time": "2023-01-17T12:48:46.774Z"
   },
   {
    "duration": 5,
    "start_time": "2023-01-17T12:48:53.005Z"
   },
   {
    "duration": 201004,
    "start_time": "2023-01-17T12:49:01.851Z"
   },
   {
    "duration": 1046,
    "start_time": "2023-01-17T12:54:19.451Z"
   },
   {
    "duration": 13,
    "start_time": "2023-01-17T12:54:56.985Z"
   },
   {
    "duration": 87036,
    "start_time": "2023-01-17T12:54:59.010Z"
   },
   {
    "duration": 590,
    "start_time": "2023-01-17T13:06:07.393Z"
   },
   {
    "duration": 41,
    "start_time": "2023-01-17T13:07:00.343Z"
   },
   {
    "duration": 4,
    "start_time": "2023-01-17T13:07:06.921Z"
   },
   {
    "duration": 7,
    "start_time": "2023-01-17T13:07:12.219Z"
   },
   {
    "duration": 11,
    "start_time": "2023-01-17T13:07:21.746Z"
   },
   {
    "duration": 55,
    "start_time": "2023-01-17T13:07:32.130Z"
   },
   {
    "duration": 13,
    "start_time": "2023-01-17T13:07:56.312Z"
   },
   {
    "duration": 105,
    "start_time": "2023-01-17T13:07:57.781Z"
   },
   {
    "duration": 11,
    "start_time": "2023-01-17T13:11:25.252Z"
   },
   {
    "duration": 465,
    "start_time": "2023-01-17T13:11:26.580Z"
   },
   {
    "duration": 1090,
    "start_time": "2023-01-17T13:12:00.842Z"
   },
   {
    "duration": 13,
    "start_time": "2023-01-17T13:12:08.283Z"
   },
   {
    "duration": 1090,
    "start_time": "2023-01-17T13:12:09.561Z"
   },
   {
    "duration": 1008,
    "start_time": "2023-01-17T13:12:25.212Z"
   },
   {
    "duration": 1037,
    "start_time": "2023-01-17T13:13:40.991Z"
   },
   {
    "duration": 16,
    "start_time": "2023-01-17T14:22:52.890Z"
   },
   {
    "duration": 17,
    "start_time": "2023-01-17T14:23:00.603Z"
   },
   {
    "duration": 5,
    "start_time": "2023-01-17T14:23:14.887Z"
   },
   {
    "duration": 37,
    "start_time": "2023-01-17T14:23:15.237Z"
   },
   {
    "duration": 4,
    "start_time": "2023-01-17T14:23:15.444Z"
   },
   {
    "duration": 13,
    "start_time": "2023-01-17T14:23:15.641Z"
   },
   {
    "duration": 7,
    "start_time": "2023-01-17T14:23:15.820Z"
   },
   {
    "duration": 4,
    "start_time": "2023-01-17T14:23:16.210Z"
   },
   {
    "duration": 11,
    "start_time": "2023-01-17T14:23:16.612Z"
   },
   {
    "duration": 4,
    "start_time": "2023-01-17T14:23:17.241Z"
   },
   {
    "duration": 13,
    "start_time": "2023-01-17T14:23:17.444Z"
   },
   {
    "duration": 3,
    "start_time": "2023-01-17T14:23:18.080Z"
   },
   {
    "duration": 10,
    "start_time": "2023-01-17T14:23:18.435Z"
   },
   {
    "duration": 7,
    "start_time": "2023-01-17T14:23:18.759Z"
   },
   {
    "duration": 11,
    "start_time": "2023-01-17T14:23:18.989Z"
   },
   {
    "duration": 6,
    "start_time": "2023-01-17T14:23:21.305Z"
   },
   {
    "duration": 9,
    "start_time": "2023-01-17T14:23:21.836Z"
   },
   {
    "duration": 9,
    "start_time": "2023-01-17T14:23:22.220Z"
   },
   {
    "duration": 4,
    "start_time": "2023-01-17T14:23:22.429Z"
   },
   {
    "duration": 8,
    "start_time": "2023-01-17T14:23:23.461Z"
   },
   {
    "duration": 10,
    "start_time": "2023-01-17T14:23:23.876Z"
   },
   {
    "duration": 5,
    "start_time": "2023-01-17T14:23:24.745Z"
   },
   {
    "duration": 106,
    "start_time": "2023-01-17T14:23:24.991Z"
   },
   {
    "duration": 4,
    "start_time": "2023-01-17T14:23:25.868Z"
   },
   {
    "duration": 3,
    "start_time": "2023-01-17T14:23:26.064Z"
   },
   {
    "duration": 321,
    "start_time": "2023-01-17T14:23:28.105Z"
   },
   {
    "duration": 17,
    "start_time": "2023-01-17T14:23:32.220Z"
   },
   {
    "duration": 9,
    "start_time": "2023-01-17T14:23:49.374Z"
   },
   {
    "duration": 7,
    "start_time": "2023-01-17T14:24:11.989Z"
   },
   {
    "duration": 9,
    "start_time": "2023-01-17T14:25:20.159Z"
   },
   {
    "duration": 59,
    "start_time": "2023-01-17T14:26:26.117Z"
   },
   {
    "duration": 37,
    "start_time": "2023-01-17T14:28:21.850Z"
   },
   {
    "duration": 6,
    "start_time": "2023-01-17T14:28:30.636Z"
   },
   {
    "duration": 12,
    "start_time": "2023-01-17T14:28:40.959Z"
   },
   {
    "duration": 12,
    "start_time": "2023-01-17T14:45:26.516Z"
   },
   {
    "duration": 9,
    "start_time": "2023-01-17T14:45:45.601Z"
   },
   {
    "duration": 11,
    "start_time": "2023-01-17T14:45:50.576Z"
   },
   {
    "duration": 16,
    "start_time": "2023-01-17T14:47:58.064Z"
   },
   {
    "duration": 17,
    "start_time": "2023-01-17T14:49:05.560Z"
   },
   {
    "duration": 15,
    "start_time": "2023-01-17T14:50:04.729Z"
   },
   {
    "duration": 12,
    "start_time": "2023-01-17T14:50:31.710Z"
   },
   {
    "duration": 4,
    "start_time": "2023-01-17T14:50:40.757Z"
   },
   {
    "duration": 39,
    "start_time": "2023-01-17T14:50:41.955Z"
   },
   {
    "duration": 5,
    "start_time": "2023-01-17T14:50:42.374Z"
   },
   {
    "duration": 14,
    "start_time": "2023-01-17T14:50:42.885Z"
   },
   {
    "duration": 6,
    "start_time": "2023-01-17T14:50:43.388Z"
   },
   {
    "duration": 6,
    "start_time": "2023-01-17T14:50:44.568Z"
   },
   {
    "duration": 4,
    "start_time": "2023-01-17T14:50:45.645Z"
   },
   {
    "duration": 3,
    "start_time": "2023-01-17T14:50:47.524Z"
   },
   {
    "duration": 14,
    "start_time": "2023-01-17T14:50:48.670Z"
   },
   {
    "duration": 4,
    "start_time": "2023-01-17T14:50:53.564Z"
   },
   {
    "duration": 10,
    "start_time": "2023-01-17T14:50:55.657Z"
   },
   {
    "duration": 7,
    "start_time": "2023-01-17T14:50:57.419Z"
   },
   {
    "duration": 13,
    "start_time": "2023-01-17T14:50:59.410Z"
   },
   {
    "duration": 16,
    "start_time": "2023-01-17T14:51:31.097Z"
   },
   {
    "duration": 3,
    "start_time": "2023-01-17T14:51:32.425Z"
   },
   {
    "duration": 13,
    "start_time": "2023-01-17T14:51:33.564Z"
   },
   {
    "duration": 5,
    "start_time": "2023-01-17T14:51:55.393Z"
   },
   {
    "duration": 46,
    "start_time": "2023-01-17T14:51:56.946Z"
   },
   {
    "duration": 5,
    "start_time": "2023-01-17T14:51:57.602Z"
   },
   {
    "duration": 15,
    "start_time": "2023-01-17T14:51:58.370Z"
   },
   {
    "duration": 6,
    "start_time": "2023-01-17T14:52:03.824Z"
   },
   {
    "duration": 5,
    "start_time": "2023-01-17T14:52:06.988Z"
   },
   {
    "duration": 18,
    "start_time": "2023-01-17T14:52:17.427Z"
   },
   {
    "duration": 3,
    "start_time": "2023-01-17T14:52:22.977Z"
   },
   {
    "duration": 11,
    "start_time": "2023-01-17T14:52:23.478Z"
   },
   {
    "duration": 9,
    "start_time": "2023-01-17T14:52:29.574Z"
   },
   {
    "duration": 9,
    "start_time": "2023-01-17T14:52:30.009Z"
   },
   {
    "duration": 13,
    "start_time": "2023-01-17T14:52:31.472Z"
   },
   {
    "duration": 3,
    "start_time": "2023-01-17T14:52:58.654Z"
   },
   {
    "duration": 12,
    "start_time": "2023-01-17T14:52:59.561Z"
   },
   {
    "duration": 11,
    "start_time": "2023-01-17T14:53:48.313Z"
   },
   {
    "duration": 11,
    "start_time": "2023-01-17T14:54:06.966Z"
   },
   {
    "duration": 7,
    "start_time": "2023-01-17T14:56:23.112Z"
   },
   {
    "duration": 8,
    "start_time": "2023-01-17T14:57:51.495Z"
   },
   {
    "duration": 7,
    "start_time": "2023-01-17T14:57:52.450Z"
   },
   {
    "duration": 5,
    "start_time": "2023-01-17T14:58:10.280Z"
   },
   {
    "duration": 6,
    "start_time": "2023-01-17T14:58:19.912Z"
   },
   {
    "duration": 30,
    "start_time": "2023-01-17T14:58:27.533Z"
   },
   {
    "duration": 5,
    "start_time": "2023-01-17T14:58:32.265Z"
   },
   {
    "duration": 20,
    "start_time": "2023-01-17T14:59:56.589Z"
   },
   {
    "duration": 6,
    "start_time": "2023-01-17T15:00:38.253Z"
   },
   {
    "duration": 3,
    "start_time": "2023-01-17T15:01:34.596Z"
   },
   {
    "duration": 6,
    "start_time": "2023-01-17T15:03:18.677Z"
   },
   {
    "duration": 3,
    "start_time": "2023-01-17T15:03:23.401Z"
   },
   {
    "duration": 3,
    "start_time": "2023-01-17T15:03:24.460Z"
   },
   {
    "duration": 6,
    "start_time": "2023-01-17T15:03:25.504Z"
   },
   {
    "duration": 7,
    "start_time": "2023-01-17T15:03:27.753Z"
   },
   {
    "duration": 4,
    "start_time": "2023-01-17T15:03:28.800Z"
   },
   {
    "duration": 5,
    "start_time": "2023-01-17T15:03:29.788Z"
   },
   {
    "duration": 4,
    "start_time": "2023-01-17T15:03:31.152Z"
   },
   {
    "duration": 6,
    "start_time": "2023-01-17T15:03:32.540Z"
   },
   {
    "duration": 5,
    "start_time": "2023-01-17T15:03:33.711Z"
   },
   {
    "duration": 7,
    "start_time": "2023-01-17T15:03:34.967Z"
   },
   {
    "duration": 16,
    "start_time": "2023-01-17T15:07:07.043Z"
   },
   {
    "duration": 10,
    "start_time": "2023-01-17T15:11:11.632Z"
   },
   {
    "duration": 5,
    "start_time": "2023-01-17T15:14:10.145Z"
   },
   {
    "duration": 18,
    "start_time": "2023-01-17T15:15:50.885Z"
   },
   {
    "duration": 5,
    "start_time": "2023-01-17T15:16:07.639Z"
   },
   {
    "duration": 17,
    "start_time": "2023-01-17T15:18:22.107Z"
   },
   {
    "duration": 5,
    "start_time": "2023-01-17T15:18:31.511Z"
   },
   {
    "duration": 40,
    "start_time": "2023-01-17T15:18:31.959Z"
   },
   {
    "duration": 5,
    "start_time": "2023-01-17T15:18:32.180Z"
   },
   {
    "duration": 14,
    "start_time": "2023-01-17T15:18:32.396Z"
   },
   {
    "duration": 6,
    "start_time": "2023-01-17T15:18:32.598Z"
   },
   {
    "duration": 4,
    "start_time": "2023-01-17T15:18:33.073Z"
   },
   {
    "duration": 2,
    "start_time": "2023-01-17T15:18:33.616Z"
   },
   {
    "duration": 2,
    "start_time": "2023-01-17T15:18:35.006Z"
   },
   {
    "duration": 12,
    "start_time": "2023-01-17T15:18:35.255Z"
   },
   {
    "duration": 3,
    "start_time": "2023-01-17T15:18:36.719Z"
   },
   {
    "duration": 19,
    "start_time": "2023-01-17T15:18:37.328Z"
   },
   {
    "duration": 10,
    "start_time": "2023-01-17T15:18:37.991Z"
   },
   {
    "duration": 11,
    "start_time": "2023-01-17T15:18:38.647Z"
   },
   {
    "duration": 13,
    "start_time": "2023-01-17T15:18:40.371Z"
   },
   {
    "duration": 3,
    "start_time": "2023-01-17T15:18:41.384Z"
   },
   {
    "duration": 3,
    "start_time": "2023-01-17T15:18:42.726Z"
   },
   {
    "duration": 7,
    "start_time": "2023-01-17T15:18:45.357Z"
   },
   {
    "duration": 6,
    "start_time": "2023-01-17T15:18:48.470Z"
   },
   {
    "duration": 5,
    "start_time": "2023-01-17T15:18:49.114Z"
   },
   {
    "duration": 4,
    "start_time": "2023-01-17T15:18:49.830Z"
   },
   {
    "duration": 3,
    "start_time": "2023-01-17T15:18:50.558Z"
   },
   {
    "duration": 6,
    "start_time": "2023-01-17T15:18:51.862Z"
   },
   {
    "duration": 5,
    "start_time": "2023-01-17T15:18:52.477Z"
   },
   {
    "duration": 4,
    "start_time": "2023-01-17T15:18:53.079Z"
   },
   {
    "duration": 15,
    "start_time": "2023-01-17T15:18:53.886Z"
   },
   {
    "duration": 4,
    "start_time": "2023-01-17T15:18:54.936Z"
   },
   {
    "duration": 13,
    "start_time": "2023-01-17T15:18:56.184Z"
   },
   {
    "duration": 4,
    "start_time": "2023-01-17T15:19:05.686Z"
   },
   {
    "duration": 24,
    "start_time": "2023-01-17T15:19:37.154Z"
   },
   {
    "duration": 1435,
    "start_time": "2023-01-17T15:43:54.692Z"
   },
   {
    "duration": 41,
    "start_time": "2023-01-17T15:43:56.129Z"
   },
   {
    "duration": 7,
    "start_time": "2023-01-17T15:43:56.172Z"
   },
   {
    "duration": 23,
    "start_time": "2023-01-17T15:43:56.182Z"
   },
   {
    "duration": 11,
    "start_time": "2023-01-17T15:43:56.206Z"
   },
   {
    "duration": 8,
    "start_time": "2023-01-17T15:43:56.219Z"
   },
   {
    "duration": 4,
    "start_time": "2023-01-17T15:43:56.229Z"
   },
   {
    "duration": 5,
    "start_time": "2023-01-17T15:43:56.235Z"
   },
   {
    "duration": 42,
    "start_time": "2023-01-17T15:43:56.242Z"
   },
   {
    "duration": 3,
    "start_time": "2023-01-17T15:43:56.287Z"
   },
   {
    "duration": 21,
    "start_time": "2023-01-17T15:43:56.292Z"
   },
   {
    "duration": 7,
    "start_time": "2023-01-17T15:43:56.314Z"
   },
   {
    "duration": 10,
    "start_time": "2023-01-17T15:43:56.323Z"
   },
   {
    "duration": 12,
    "start_time": "2023-01-17T15:43:56.335Z"
   },
   {
    "duration": 4,
    "start_time": "2023-01-17T15:43:56.349Z"
   },
   {
    "duration": 27,
    "start_time": "2023-01-17T15:43:56.355Z"
   },
   {
    "duration": 6,
    "start_time": "2023-01-17T15:43:56.384Z"
   },
   {
    "duration": 7,
    "start_time": "2023-01-17T15:43:56.393Z"
   },
   {
    "duration": 6,
    "start_time": "2023-01-17T15:43:56.401Z"
   },
   {
    "duration": 6,
    "start_time": "2023-01-17T15:43:56.408Z"
   },
   {
    "duration": 7,
    "start_time": "2023-01-17T15:43:56.416Z"
   },
   {
    "duration": 6,
    "start_time": "2023-01-17T15:43:56.425Z"
   },
   {
    "duration": 7,
    "start_time": "2023-01-17T15:43:56.433Z"
   },
   {
    "duration": 45,
    "start_time": "2023-01-17T15:43:56.441Z"
   },
   {
    "duration": 17,
    "start_time": "2023-01-17T15:43:56.488Z"
   },
   {
    "duration": 4,
    "start_time": "2023-01-17T15:43:56.506Z"
   },
   {
    "duration": 16,
    "start_time": "2023-01-17T15:43:56.511Z"
   },
   {
    "duration": 2,
    "start_time": "2023-01-17T15:43:56.533Z"
   },
   {
    "duration": 7,
    "start_time": "2023-01-17T15:43:56.536Z"
   },
   {
    "duration": 7,
    "start_time": "2023-01-17T15:43:56.545Z"
   },
   {
    "duration": 26,
    "start_time": "2023-01-17T15:43:56.554Z"
   },
   {
    "duration": 2,
    "start_time": "2023-01-17T15:43:56.583Z"
   },
   {
    "duration": 29,
    "start_time": "2023-01-17T15:43:56.586Z"
   },
   {
    "duration": 112,
    "start_time": "2023-01-17T15:43:56.618Z"
   },
   {
    "duration": 0,
    "start_time": "2023-01-17T15:43:56.732Z"
   },
   {
    "duration": 0,
    "start_time": "2023-01-17T15:43:56.733Z"
   },
   {
    "duration": 0,
    "start_time": "2023-01-17T15:43:56.735Z"
   },
   {
    "duration": 0,
    "start_time": "2023-01-17T15:43:56.736Z"
   },
   {
    "duration": 1,
    "start_time": "2023-01-17T15:43:56.737Z"
   },
   {
    "duration": 0,
    "start_time": "2023-01-17T15:43:56.739Z"
   },
   {
    "duration": 0,
    "start_time": "2023-01-17T15:43:56.740Z"
   },
   {
    "duration": 0,
    "start_time": "2023-01-17T15:43:56.742Z"
   },
   {
    "duration": 0,
    "start_time": "2023-01-17T15:43:56.743Z"
   },
   {
    "duration": 0,
    "start_time": "2023-01-17T15:43:56.745Z"
   },
   {
    "duration": 0,
    "start_time": "2023-01-17T15:43:56.746Z"
   },
   {
    "duration": 0,
    "start_time": "2023-01-17T15:43:56.748Z"
   },
   {
    "duration": 0,
    "start_time": "2023-01-17T15:43:56.750Z"
   },
   {
    "duration": 0,
    "start_time": "2023-01-17T15:43:56.751Z"
   },
   {
    "duration": 0,
    "start_time": "2023-01-17T15:43:56.752Z"
   },
   {
    "duration": 0,
    "start_time": "2023-01-17T15:43:56.782Z"
   },
   {
    "duration": 0,
    "start_time": "2023-01-17T15:43:56.784Z"
   },
   {
    "duration": 0,
    "start_time": "2023-01-17T15:43:56.786Z"
   },
   {
    "duration": 0,
    "start_time": "2023-01-17T15:43:56.787Z"
   },
   {
    "duration": 0,
    "start_time": "2023-01-17T15:43:56.788Z"
   },
   {
    "duration": 0,
    "start_time": "2023-01-17T15:43:56.790Z"
   },
   {
    "duration": 0,
    "start_time": "2023-01-17T15:43:56.791Z"
   },
   {
    "duration": 0,
    "start_time": "2023-01-17T15:43:56.793Z"
   },
   {
    "duration": 0,
    "start_time": "2023-01-17T15:43:56.794Z"
   },
   {
    "duration": 0,
    "start_time": "2023-01-17T15:43:56.796Z"
   },
   {
    "duration": 0,
    "start_time": "2023-01-17T15:43:56.797Z"
   },
   {
    "duration": 0,
    "start_time": "2023-01-17T15:43:56.798Z"
   },
   {
    "duration": 0,
    "start_time": "2023-01-17T15:43:56.800Z"
   },
   {
    "duration": 0,
    "start_time": "2023-01-17T15:43:56.802Z"
   },
   {
    "duration": 0,
    "start_time": "2023-01-17T15:43:56.804Z"
   },
   {
    "duration": 0,
    "start_time": "2023-01-17T15:43:56.806Z"
   },
   {
    "duration": 0,
    "start_time": "2023-01-17T15:43:56.807Z"
   },
   {
    "duration": 0,
    "start_time": "2023-01-17T15:43:56.809Z"
   },
   {
    "duration": 0,
    "start_time": "2023-01-17T15:43:56.810Z"
   },
   {
    "duration": 0,
    "start_time": "2023-01-17T15:43:56.811Z"
   },
   {
    "duration": 0,
    "start_time": "2023-01-17T15:43:56.812Z"
   },
   {
    "duration": 0,
    "start_time": "2023-01-17T15:43:56.814Z"
   },
   {
    "duration": 0,
    "start_time": "2023-01-17T15:43:56.815Z"
   },
   {
    "duration": 6,
    "start_time": "2023-01-17T15:45:01.117Z"
   },
   {
    "duration": 125,
    "start_time": "2023-01-17T15:45:09.094Z"
   },
   {
    "duration": 1503,
    "start_time": "2023-01-17T15:45:16.513Z"
   },
   {
    "duration": 39,
    "start_time": "2023-01-17T15:45:18.018Z"
   },
   {
    "duration": 6,
    "start_time": "2023-01-17T15:45:18.058Z"
   },
   {
    "duration": 23,
    "start_time": "2023-01-17T15:45:18.066Z"
   },
   {
    "duration": 5,
    "start_time": "2023-01-17T15:45:18.090Z"
   },
   {
    "duration": 7,
    "start_time": "2023-01-17T15:45:18.097Z"
   },
   {
    "duration": 5,
    "start_time": "2023-01-17T15:45:18.105Z"
   },
   {
    "duration": 7,
    "start_time": "2023-01-17T15:45:18.112Z"
   },
   {
    "duration": 15,
    "start_time": "2023-01-17T15:45:18.121Z"
   },
   {
    "duration": 2,
    "start_time": "2023-01-17T15:45:18.139Z"
   },
   {
    "duration": 39,
    "start_time": "2023-01-17T15:45:18.143Z"
   },
   {
    "duration": 6,
    "start_time": "2023-01-17T15:45:18.184Z"
   },
   {
    "duration": 10,
    "start_time": "2023-01-17T15:45:18.191Z"
   },
   {
    "duration": 12,
    "start_time": "2023-01-17T15:45:18.203Z"
   },
   {
    "duration": 5,
    "start_time": "2023-01-17T15:45:18.216Z"
   },
   {
    "duration": 4,
    "start_time": "2023-01-17T15:45:18.223Z"
   },
   {
    "duration": 8,
    "start_time": "2023-01-17T15:45:18.229Z"
   },
   {
    "duration": 47,
    "start_time": "2023-01-17T15:45:18.239Z"
   },
   {
    "duration": 6,
    "start_time": "2023-01-17T15:45:18.287Z"
   },
   {
    "duration": 9,
    "start_time": "2023-01-17T15:45:18.294Z"
   },
   {
    "duration": 7,
    "start_time": "2023-01-17T15:45:18.305Z"
   },
   {
    "duration": 18,
    "start_time": "2023-01-17T15:45:18.314Z"
   },
   {
    "duration": 7,
    "start_time": "2023-01-17T15:45:18.334Z"
   },
   {
    "duration": 7,
    "start_time": "2023-01-17T15:45:18.343Z"
   },
   {
    "duration": 42,
    "start_time": "2023-01-17T15:45:18.351Z"
   },
   {
    "duration": 5,
    "start_time": "2023-01-17T15:45:18.395Z"
   },
   {
    "duration": 15,
    "start_time": "2023-01-17T15:45:18.401Z"
   },
   {
    "duration": 2,
    "start_time": "2023-01-17T15:45:18.420Z"
   },
   {
    "duration": 9,
    "start_time": "2023-01-17T15:45:18.423Z"
   },
   {
    "duration": 11,
    "start_time": "2023-01-17T15:45:18.434Z"
   },
   {
    "duration": 10,
    "start_time": "2023-01-17T15:45:18.447Z"
   },
   {
    "duration": 17,
    "start_time": "2023-01-17T15:45:18.458Z"
   },
   {
    "duration": 11,
    "start_time": "2023-01-17T15:45:18.476Z"
   },
   {
    "duration": 5,
    "start_time": "2023-01-17T15:45:18.488Z"
   },
   {
    "duration": 129,
    "start_time": "2023-01-17T15:45:18.495Z"
   },
   {
    "duration": 117,
    "start_time": "2023-01-17T15:45:18.626Z"
   },
   {
    "duration": 0,
    "start_time": "2023-01-17T15:45:18.745Z"
   },
   {
    "duration": 0,
    "start_time": "2023-01-17T15:45:18.746Z"
   },
   {
    "duration": 0,
    "start_time": "2023-01-17T15:45:18.747Z"
   },
   {
    "duration": 0,
    "start_time": "2023-01-17T15:45:18.748Z"
   },
   {
    "duration": 0,
    "start_time": "2023-01-17T15:45:18.749Z"
   },
   {
    "duration": 0,
    "start_time": "2023-01-17T15:45:18.750Z"
   },
   {
    "duration": 0,
    "start_time": "2023-01-17T15:45:18.751Z"
   },
   {
    "duration": 0,
    "start_time": "2023-01-17T15:45:18.752Z"
   },
   {
    "duration": 0,
    "start_time": "2023-01-17T15:45:18.753Z"
   },
   {
    "duration": 0,
    "start_time": "2023-01-17T15:45:18.754Z"
   },
   {
    "duration": 0,
    "start_time": "2023-01-17T15:45:18.755Z"
   },
   {
    "duration": 0,
    "start_time": "2023-01-17T15:45:18.756Z"
   },
   {
    "duration": 0,
    "start_time": "2023-01-17T15:45:18.758Z"
   },
   {
    "duration": 0,
    "start_time": "2023-01-17T15:45:18.781Z"
   },
   {
    "duration": 0,
    "start_time": "2023-01-17T15:45:18.782Z"
   },
   {
    "duration": 0,
    "start_time": "2023-01-17T15:45:18.784Z"
   },
   {
    "duration": 0,
    "start_time": "2023-01-17T15:45:18.785Z"
   },
   {
    "duration": 0,
    "start_time": "2023-01-17T15:45:18.786Z"
   },
   {
    "duration": 0,
    "start_time": "2023-01-17T15:45:18.788Z"
   },
   {
    "duration": 0,
    "start_time": "2023-01-17T15:45:18.789Z"
   },
   {
    "duration": 0,
    "start_time": "2023-01-17T15:45:18.790Z"
   },
   {
    "duration": 0,
    "start_time": "2023-01-17T15:45:18.792Z"
   },
   {
    "duration": 0,
    "start_time": "2023-01-17T15:45:18.793Z"
   },
   {
    "duration": 0,
    "start_time": "2023-01-17T15:45:18.794Z"
   },
   {
    "duration": 0,
    "start_time": "2023-01-17T15:45:18.796Z"
   },
   {
    "duration": 0,
    "start_time": "2023-01-17T15:45:18.797Z"
   },
   {
    "duration": 0,
    "start_time": "2023-01-17T15:45:18.798Z"
   },
   {
    "duration": 0,
    "start_time": "2023-01-17T15:45:18.800Z"
   },
   {
    "duration": 0,
    "start_time": "2023-01-17T15:45:18.801Z"
   },
   {
    "duration": 0,
    "start_time": "2023-01-17T15:45:18.802Z"
   },
   {
    "duration": 0,
    "start_time": "2023-01-17T15:45:18.803Z"
   },
   {
    "duration": 0,
    "start_time": "2023-01-17T15:45:18.805Z"
   },
   {
    "duration": 0,
    "start_time": "2023-01-17T15:45:18.806Z"
   },
   {
    "duration": 0,
    "start_time": "2023-01-17T15:45:18.807Z"
   },
   {
    "duration": 0,
    "start_time": "2023-01-17T15:45:18.809Z"
   },
   {
    "duration": 0,
    "start_time": "2023-01-17T15:45:18.810Z"
   },
   {
    "duration": 5,
    "start_time": "2023-01-17T15:45:39.895Z"
   },
   {
    "duration": 9,
    "start_time": "2023-01-17T15:45:42.116Z"
   },
   {
    "duration": 3,
    "start_time": "2023-01-17T15:45:50.672Z"
   },
   {
    "duration": 1474,
    "start_time": "2023-01-17T15:45:57.743Z"
   },
   {
    "duration": 42,
    "start_time": "2023-01-17T15:45:59.219Z"
   },
   {
    "duration": 8,
    "start_time": "2023-01-17T15:45:59.263Z"
   },
   {
    "duration": 27,
    "start_time": "2023-01-17T15:45:59.274Z"
   },
   {
    "duration": 7,
    "start_time": "2023-01-17T15:45:59.303Z"
   },
   {
    "duration": 9,
    "start_time": "2023-01-17T15:45:59.312Z"
   },
   {
    "duration": 7,
    "start_time": "2023-01-17T15:45:59.323Z"
   },
   {
    "duration": 8,
    "start_time": "2023-01-17T15:45:59.332Z"
   },
   {
    "duration": 19,
    "start_time": "2023-01-17T15:45:59.342Z"
   },
   {
    "duration": 17,
    "start_time": "2023-01-17T15:45:59.364Z"
   },
   {
    "duration": 11,
    "start_time": "2023-01-17T15:45:59.384Z"
   },
   {
    "duration": 7,
    "start_time": "2023-01-17T15:45:59.397Z"
   },
   {
    "duration": 14,
    "start_time": "2023-01-17T15:45:59.406Z"
   },
   {
    "duration": 11,
    "start_time": "2023-01-17T15:45:59.422Z"
   },
   {
    "duration": 6,
    "start_time": "2023-01-17T15:45:59.435Z"
   },
   {
    "duration": 8,
    "start_time": "2023-01-17T15:45:59.443Z"
   },
   {
    "duration": 30,
    "start_time": "2023-01-17T15:45:59.452Z"
   },
   {
    "duration": 20,
    "start_time": "2023-01-17T15:45:59.484Z"
   },
   {
    "duration": 5,
    "start_time": "2023-01-17T15:45:59.506Z"
   },
   {
    "duration": 20,
    "start_time": "2023-01-17T15:45:59.513Z"
   },
   {
    "duration": 9,
    "start_time": "2023-01-17T15:45:59.535Z"
   },
   {
    "duration": 11,
    "start_time": "2023-01-17T15:45:59.546Z"
   },
   {
    "duration": 15,
    "start_time": "2023-01-17T15:45:59.559Z"
   },
   {
    "duration": 11,
    "start_time": "2023-01-17T15:45:59.576Z"
   },
   {
    "duration": 24,
    "start_time": "2023-01-17T15:45:59.589Z"
   },
   {
    "duration": 10,
    "start_time": "2023-01-17T15:45:59.615Z"
   },
   {
    "duration": 18,
    "start_time": "2023-01-17T15:45:59.628Z"
   },
   {
    "duration": 3,
    "start_time": "2023-01-17T15:45:59.653Z"
   },
   {
    "duration": 8,
    "start_time": "2023-01-17T15:45:59.657Z"
   },
   {
    "duration": 3,
    "start_time": "2023-01-17T15:45:59.683Z"
   },
   {
    "duration": 12,
    "start_time": "2023-01-17T15:45:59.689Z"
   },
   {
    "duration": 21,
    "start_time": "2023-01-17T15:45:59.703Z"
   },
   {
    "duration": 14,
    "start_time": "2023-01-17T15:45:59.726Z"
   },
   {
    "duration": 16,
    "start_time": "2023-01-17T15:45:59.741Z"
   },
   {
    "duration": 163,
    "start_time": "2023-01-17T15:45:59.759Z"
   },
   {
    "duration": 4,
    "start_time": "2023-01-17T15:45:59.924Z"
   },
   {
    "duration": 18,
    "start_time": "2023-01-17T15:45:59.929Z"
   },
   {
    "duration": 389,
    "start_time": "2023-01-17T15:45:59.949Z"
   },
   {
    "duration": 7,
    "start_time": "2023-01-17T15:46:00.340Z"
   },
   {
    "duration": 83,
    "start_time": "2023-01-17T15:46:00.348Z"
   },
   {
    "duration": 8,
    "start_time": "2023-01-17T15:46:00.433Z"
   },
   {
    "duration": 234558,
    "start_time": "2023-01-17T15:46:00.442Z"
   },
   {
    "duration": 506,
    "start_time": "2023-01-17T15:49:55.002Z"
   },
   {
    "duration": 274,
    "start_time": "2023-01-17T15:49:55.510Z"
   },
   {
    "duration": 821,
    "start_time": "2023-01-17T15:49:55.787Z"
   },
   {
    "duration": 99,
    "start_time": "2023-01-17T15:49:56.613Z"
   },
   {
    "duration": 7,
    "start_time": "2023-01-17T15:49:56.717Z"
   },
   {
    "duration": 38,
    "start_time": "2023-01-17T15:49:56.783Z"
   },
   {
    "duration": 992,
    "start_time": "2023-01-17T15:49:56.824Z"
   },
   {
    "duration": 100,
    "start_time": "2023-01-17T15:49:57.818Z"
   },
   {
    "duration": 4,
    "start_time": "2023-01-17T15:49:57.920Z"
   },
   {
    "duration": 74,
    "start_time": "2023-01-17T15:49:57.925Z"
   },
   {
    "duration": 402,
    "start_time": "2023-01-17T15:49:58.001Z"
   },
   {
    "duration": 80,
    "start_time": "2023-01-17T15:49:58.405Z"
   },
   {
    "duration": 304817,
    "start_time": "2023-01-17T15:49:58.488Z"
   },
   {
    "duration": 25591,
    "start_time": "2023-01-17T15:55:03.306Z"
   },
   {
    "duration": 1412,
    "start_time": "2023-01-17T15:55:28.899Z"
   },
   {
    "duration": 11,
    "start_time": "2023-01-17T15:55:30.313Z"
   },
   {
    "duration": 429120,
    "start_time": "2023-01-17T15:55:30.382Z"
   },
   {
    "duration": 2212,
    "start_time": "2023-01-17T16:02:39.504Z"
   },
   {
    "duration": 63,
    "start_time": "2023-01-17T16:02:41.718Z"
   },
   {
    "duration": 189221,
    "start_time": "2023-01-17T16:02:41.783Z"
   },
   {
    "duration": 1189,
    "start_time": "2023-01-17T16:05:51.006Z"
   },
   {
    "duration": 98,
    "start_time": "2023-01-17T16:05:52.197Z"
   },
   {
    "duration": 98,
    "start_time": "2023-01-17T16:05:52.297Z"
   },
   {
    "duration": 15,
    "start_time": "2023-01-17T16:05:52.482Z"
   },
   {
    "duration": 88,
    "start_time": "2023-01-17T16:05:52.498Z"
   },
   {
    "duration": 202,
    "start_time": "2023-01-17T16:05:52.588Z"
   },
   {
    "duration": 92,
    "start_time": "2023-01-17T16:05:52.792Z"
   },
   {
    "duration": 198,
    "start_time": "2023-01-17T16:05:52.886Z"
   },
   {
    "duration": 107,
    "start_time": "2023-01-17T16:05:53.088Z"
   },
   {
    "duration": 2228,
    "start_time": "2023-01-17T16:05:53.197Z"
   },
   {
    "duration": 1538,
    "start_time": "2023-01-17T16:07:53.090Z"
   },
   {
    "duration": 41,
    "start_time": "2023-01-17T16:07:54.630Z"
   },
   {
    "duration": 6,
    "start_time": "2023-01-17T16:07:54.673Z"
   },
   {
    "duration": 22,
    "start_time": "2023-01-17T16:07:54.682Z"
   },
   {
    "duration": 6,
    "start_time": "2023-01-17T16:07:54.706Z"
   },
   {
    "duration": 6,
    "start_time": "2023-01-17T16:07:54.715Z"
   },
   {
    "duration": 6,
    "start_time": "2023-01-17T16:07:54.722Z"
   },
   {
    "duration": 8,
    "start_time": "2023-01-17T16:07:54.730Z"
   },
   {
    "duration": 16,
    "start_time": "2023-01-17T16:07:54.739Z"
   },
   {
    "duration": 3,
    "start_time": "2023-01-17T16:07:54.781Z"
   },
   {
    "duration": 16,
    "start_time": "2023-01-17T16:07:54.786Z"
   },
   {
    "duration": 6,
    "start_time": "2023-01-17T16:07:54.804Z"
   },
   {
    "duration": 10,
    "start_time": "2023-01-17T16:07:54.812Z"
   },
   {
    "duration": 19,
    "start_time": "2023-01-17T16:07:54.824Z"
   },
   {
    "duration": 37,
    "start_time": "2023-01-17T16:07:54.845Z"
   },
   {
    "duration": 6,
    "start_time": "2023-01-17T16:07:54.885Z"
   },
   {
    "duration": 16,
    "start_time": "2023-01-17T16:07:54.893Z"
   },
   {
    "duration": 133,
    "start_time": "2023-01-17T16:07:54.911Z"
   },
   {
    "duration": 0,
    "start_time": "2023-01-17T16:07:55.049Z"
   },
   {
    "duration": 0,
    "start_time": "2023-01-17T16:07:55.051Z"
   },
   {
    "duration": 0,
    "start_time": "2023-01-17T16:07:55.053Z"
   },
   {
    "duration": 0,
    "start_time": "2023-01-17T16:07:55.054Z"
   },
   {
    "duration": 0,
    "start_time": "2023-01-17T16:07:55.055Z"
   },
   {
    "duration": 0,
    "start_time": "2023-01-17T16:07:55.056Z"
   },
   {
    "duration": 0,
    "start_time": "2023-01-17T16:07:55.057Z"
   },
   {
    "duration": 0,
    "start_time": "2023-01-17T16:07:55.058Z"
   },
   {
    "duration": 0,
    "start_time": "2023-01-17T16:07:55.060Z"
   },
   {
    "duration": 0,
    "start_time": "2023-01-17T16:07:55.061Z"
   },
   {
    "duration": 0,
    "start_time": "2023-01-17T16:07:55.082Z"
   },
   {
    "duration": 0,
    "start_time": "2023-01-17T16:07:55.084Z"
   },
   {
    "duration": 0,
    "start_time": "2023-01-17T16:07:55.085Z"
   },
   {
    "duration": 0,
    "start_time": "2023-01-17T16:07:55.086Z"
   },
   {
    "duration": 0,
    "start_time": "2023-01-17T16:07:55.088Z"
   },
   {
    "duration": 0,
    "start_time": "2023-01-17T16:07:55.089Z"
   },
   {
    "duration": 0,
    "start_time": "2023-01-17T16:07:55.091Z"
   },
   {
    "duration": 0,
    "start_time": "2023-01-17T16:07:55.093Z"
   },
   {
    "duration": 0,
    "start_time": "2023-01-17T16:07:55.095Z"
   },
   {
    "duration": 0,
    "start_time": "2023-01-17T16:07:55.097Z"
   },
   {
    "duration": 0,
    "start_time": "2023-01-17T16:07:55.099Z"
   },
   {
    "duration": 0,
    "start_time": "2023-01-17T16:07:55.101Z"
   },
   {
    "duration": 0,
    "start_time": "2023-01-17T16:07:55.103Z"
   },
   {
    "duration": 0,
    "start_time": "2023-01-17T16:07:55.106Z"
   },
   {
    "duration": 0,
    "start_time": "2023-01-17T16:07:55.112Z"
   },
   {
    "duration": 0,
    "start_time": "2023-01-17T16:07:55.115Z"
   },
   {
    "duration": 0,
    "start_time": "2023-01-17T16:07:55.116Z"
   },
   {
    "duration": 0,
    "start_time": "2023-01-17T16:07:55.117Z"
   },
   {
    "duration": 0,
    "start_time": "2023-01-17T16:07:55.120Z"
   },
   {
    "duration": 0,
    "start_time": "2023-01-17T16:07:55.121Z"
   },
   {
    "duration": 0,
    "start_time": "2023-01-17T16:07:55.123Z"
   },
   {
    "duration": 0,
    "start_time": "2023-01-17T16:07:55.182Z"
   },
   {
    "duration": 0,
    "start_time": "2023-01-17T16:07:55.184Z"
   },
   {
    "duration": 0,
    "start_time": "2023-01-17T16:07:55.185Z"
   },
   {
    "duration": 0,
    "start_time": "2023-01-17T16:07:55.186Z"
   },
   {
    "duration": 0,
    "start_time": "2023-01-17T16:07:55.187Z"
   },
   {
    "duration": 0,
    "start_time": "2023-01-17T16:07:55.188Z"
   },
   {
    "duration": 0,
    "start_time": "2023-01-17T16:07:55.189Z"
   },
   {
    "duration": 0,
    "start_time": "2023-01-17T16:07:55.189Z"
   },
   {
    "duration": 0,
    "start_time": "2023-01-17T16:07:55.190Z"
   },
   {
    "duration": 0,
    "start_time": "2023-01-17T16:07:55.193Z"
   },
   {
    "duration": 0,
    "start_time": "2023-01-17T16:07:55.194Z"
   },
   {
    "duration": 0,
    "start_time": "2023-01-17T16:07:55.196Z"
   },
   {
    "duration": 0,
    "start_time": "2023-01-17T16:07:55.197Z"
   },
   {
    "duration": 0,
    "start_time": "2023-01-17T16:07:55.198Z"
   },
   {
    "duration": 0,
    "start_time": "2023-01-17T16:07:55.200Z"
   },
   {
    "duration": 0,
    "start_time": "2023-01-17T16:07:55.201Z"
   },
   {
    "duration": 0,
    "start_time": "2023-01-17T16:07:55.203Z"
   },
   {
    "duration": 0,
    "start_time": "2023-01-17T16:07:55.204Z"
   },
   {
    "duration": 0,
    "start_time": "2023-01-17T16:07:55.206Z"
   },
   {
    "duration": 0,
    "start_time": "2023-01-17T16:07:55.207Z"
   },
   {
    "duration": 0,
    "start_time": "2023-01-17T16:07:55.208Z"
   },
   {
    "duration": 0,
    "start_time": "2023-01-17T16:07:55.210Z"
   },
   {
    "duration": 0,
    "start_time": "2023-01-17T16:07:55.212Z"
   },
   {
    "duration": 6,
    "start_time": "2023-01-17T16:11:29.020Z"
   },
   {
    "duration": 9,
    "start_time": "2023-01-17T16:11:46.096Z"
   },
   {
    "duration": 1423,
    "start_time": "2023-01-17T16:12:01.803Z"
   },
   {
    "duration": 41,
    "start_time": "2023-01-17T16:12:03.228Z"
   },
   {
    "duration": 8,
    "start_time": "2023-01-17T16:12:03.271Z"
   },
   {
    "duration": 61,
    "start_time": "2023-01-17T16:12:03.281Z"
   },
   {
    "duration": 32,
    "start_time": "2023-01-17T16:12:03.344Z"
   },
   {
    "duration": 37,
    "start_time": "2023-01-17T16:12:03.378Z"
   },
   {
    "duration": 37,
    "start_time": "2023-01-17T16:12:03.417Z"
   },
   {
    "duration": 55,
    "start_time": "2023-01-17T16:12:03.455Z"
   },
   {
    "duration": 42,
    "start_time": "2023-01-17T16:12:03.511Z"
   },
   {
    "duration": 14,
    "start_time": "2023-01-17T16:12:03.556Z"
   },
   {
    "duration": 36,
    "start_time": "2023-01-17T16:12:03.572Z"
   },
   {
    "duration": 27,
    "start_time": "2023-01-17T16:12:03.610Z"
   },
   {
    "duration": 40,
    "start_time": "2023-01-17T16:12:03.638Z"
   },
   {
    "duration": 40,
    "start_time": "2023-01-17T16:12:03.680Z"
   },
   {
    "duration": 37,
    "start_time": "2023-01-17T16:12:03.721Z"
   },
   {
    "duration": 27,
    "start_time": "2023-01-17T16:12:03.760Z"
   },
   {
    "duration": 47,
    "start_time": "2023-01-17T16:12:03.789Z"
   },
   {
    "duration": 31,
    "start_time": "2023-01-17T16:12:03.838Z"
   },
   {
    "duration": 30,
    "start_time": "2023-01-17T16:12:03.871Z"
   },
   {
    "duration": 28,
    "start_time": "2023-01-17T16:12:03.904Z"
   },
   {
    "duration": 28,
    "start_time": "2023-01-17T16:12:03.934Z"
   },
   {
    "duration": 33,
    "start_time": "2023-01-17T16:12:03.964Z"
   },
   {
    "duration": 36,
    "start_time": "2023-01-17T16:12:04.000Z"
   },
   {
    "duration": 50,
    "start_time": "2023-01-17T16:12:04.039Z"
   },
   {
    "duration": 64,
    "start_time": "2023-01-17T16:12:04.093Z"
   },
   {
    "duration": 5,
    "start_time": "2023-01-17T16:12:04.159Z"
   },
   {
    "duration": 52,
    "start_time": "2023-01-17T16:12:04.166Z"
   },
   {
    "duration": 41,
    "start_time": "2023-01-17T16:12:04.224Z"
   },
   {
    "duration": 35,
    "start_time": "2023-01-17T16:12:04.267Z"
   },
   {
    "duration": 27,
    "start_time": "2023-01-17T16:12:04.304Z"
   },
   {
    "duration": 54,
    "start_time": "2023-01-17T16:12:04.333Z"
   },
   {
    "duration": 32,
    "start_time": "2023-01-17T16:12:04.389Z"
   },
   {
    "duration": 30,
    "start_time": "2023-01-17T16:12:04.423Z"
   },
   {
    "duration": 45,
    "start_time": "2023-01-17T16:12:04.455Z"
   },
   {
    "duration": 157,
    "start_time": "2023-01-17T16:12:04.502Z"
   },
   {
    "duration": 4,
    "start_time": "2023-01-17T16:12:04.661Z"
   },
   {
    "duration": 30,
    "start_time": "2023-01-17T16:12:04.667Z"
   },
   {
    "duration": 417,
    "start_time": "2023-01-17T16:12:04.699Z"
   },
   {
    "duration": 9,
    "start_time": "2023-01-17T16:12:05.118Z"
   },
   {
    "duration": 57,
    "start_time": "2023-01-17T16:12:05.129Z"
   },
   {
    "duration": 20,
    "start_time": "2023-01-17T16:12:05.188Z"
   },
   {
    "duration": 153946,
    "start_time": "2023-01-17T16:12:05.210Z"
   },
   {
    "duration": 414,
    "start_time": "2023-01-17T16:14:39.158Z"
   },
   {
    "duration": 212,
    "start_time": "2023-01-17T16:14:39.574Z"
   },
   {
    "duration": 444,
    "start_time": "2023-01-17T16:14:39.789Z"
   },
   {
    "duration": 46,
    "start_time": "2023-01-17T16:14:40.235Z"
   },
   {
    "duration": 5,
    "start_time": "2023-01-17T16:14:40.283Z"
   },
   {
    "duration": 53,
    "start_time": "2023-01-17T16:14:40.290Z"
   },
   {
    "duration": 512,
    "start_time": "2023-01-17T16:14:40.345Z"
   },
   {
    "duration": 48,
    "start_time": "2023-01-17T16:14:40.859Z"
   },
   {
    "duration": 6,
    "start_time": "2023-01-17T16:14:40.910Z"
   },
   {
    "duration": 23,
    "start_time": "2023-01-17T16:14:40.919Z"
   },
   {
    "duration": 240,
    "start_time": "2023-01-17T16:14:40.944Z"
   },
   {
    "duration": 26,
    "start_time": "2023-01-17T16:14:41.186Z"
   },
   {
    "duration": 148518,
    "start_time": "2023-01-17T16:14:41.214Z"
   },
   {
    "duration": 11690,
    "start_time": "2023-01-17T16:17:09.733Z"
   },
   {
    "duration": 673,
    "start_time": "2023-01-17T16:17:21.425Z"
   },
   {
    "duration": 12,
    "start_time": "2023-01-17T16:17:22.100Z"
   },
   {
    "duration": 195655,
    "start_time": "2023-01-17T16:17:22.114Z"
   },
   {
    "duration": 1080,
    "start_time": "2023-01-17T16:20:37.771Z"
   },
   {
    "duration": 11,
    "start_time": "2023-01-17T16:20:38.853Z"
   },
   {
    "duration": 93925,
    "start_time": "2023-01-17T16:20:38.866Z"
   },
   {
    "duration": 563,
    "start_time": "2023-01-17T16:22:12.793Z"
   },
   {
    "duration": 42,
    "start_time": "2023-01-17T16:22:13.358Z"
   },
   {
    "duration": 4,
    "start_time": "2023-01-17T16:22:13.485Z"
   },
   {
    "duration": 95,
    "start_time": "2023-01-17T16:22:13.491Z"
   },
   {
    "duration": 12,
    "start_time": "2023-01-17T16:22:13.588Z"
   },
   {
    "duration": 88,
    "start_time": "2023-01-17T16:22:13.602Z"
   },
   {
    "duration": 95,
    "start_time": "2023-01-17T16:22:13.692Z"
   },
   {
    "duration": 101,
    "start_time": "2023-01-17T16:22:13.789Z"
   },
   {
    "duration": 98,
    "start_time": "2023-01-17T16:22:13.983Z"
   },
   {
    "duration": 1105,
    "start_time": "2023-01-17T16:22:14.083Z"
   },
   {
    "duration": 148710,
    "start_time": "2023-01-17T16:22:27.690Z"
   },
   {
    "duration": 13118,
    "start_time": "2023-01-17T16:26:02.641Z"
   },
   {
    "duration": 393,
    "start_time": "2023-01-17T16:26:23.707Z"
   },
   {
    "duration": 27,
    "start_time": "2023-01-17T16:26:48.465Z"
   },
   {
    "duration": 30,
    "start_time": "2023-01-17T16:27:12.761Z"
   },
   {
    "duration": 40,
    "start_time": "2023-01-17T16:27:17.618Z"
   },
   {
    "duration": 25,
    "start_time": "2023-01-17T16:27:24.435Z"
   },
   {
    "duration": 37,
    "start_time": "2023-01-17T16:27:29.623Z"
   },
   {
    "duration": 30,
    "start_time": "2023-01-17T16:27:33.056Z"
   },
   {
    "duration": 39,
    "start_time": "2023-01-17T16:27:37.076Z"
   },
   {
    "duration": 26,
    "start_time": "2023-01-17T16:27:40.053Z"
   },
   {
    "duration": 28,
    "start_time": "2023-01-17T16:27:50.132Z"
   },
   {
    "duration": 22,
    "start_time": "2023-01-17T16:28:00.800Z"
   },
   {
    "duration": 15,
    "start_time": "2023-01-17T16:28:13.850Z"
   },
   {
    "duration": 30,
    "start_time": "2023-01-17T16:28:16.947Z"
   },
   {
    "duration": 13,
    "start_time": "2023-01-17T16:28:48.162Z"
   },
   {
    "duration": 28,
    "start_time": "2023-01-17T16:28:57.330Z"
   },
   {
    "duration": 333,
    "start_time": "2023-01-17T16:29:10.852Z"
   },
   {
    "duration": 16,
    "start_time": "2023-01-17T16:29:36.196Z"
   },
   {
    "duration": 1072,
    "start_time": "2023-01-17T16:29:42.494Z"
   },
   {
    "duration": 11,
    "start_time": "2023-01-17T16:29:58.033Z"
   },
   {
    "duration": 10322,
    "start_time": "2023-01-17T16:30:07.886Z"
   },
   {
    "duration": 714,
    "start_time": "2023-01-17T16:30:23.238Z"
   },
   {
    "duration": 334,
    "start_time": "2023-01-17T16:32:50.764Z"
   },
   {
    "duration": 1456,
    "start_time": "2023-01-17T16:49:08.680Z"
   },
   {
    "duration": 41,
    "start_time": "2023-01-17T16:49:10.139Z"
   },
   {
    "duration": 8,
    "start_time": "2023-01-17T16:49:10.182Z"
   },
   {
    "duration": 19,
    "start_time": "2023-01-17T16:49:10.193Z"
   },
   {
    "duration": 5,
    "start_time": "2023-01-17T16:49:10.214Z"
   },
   {
    "duration": 9,
    "start_time": "2023-01-17T16:49:10.221Z"
   },
   {
    "duration": 5,
    "start_time": "2023-01-17T16:49:10.232Z"
   },
   {
    "duration": 8,
    "start_time": "2023-01-17T16:49:10.238Z"
   },
   {
    "duration": 13,
    "start_time": "2023-01-17T16:49:10.282Z"
   },
   {
    "duration": 8,
    "start_time": "2023-01-17T16:49:10.297Z"
   },
   {
    "duration": 12,
    "start_time": "2023-01-17T16:49:10.307Z"
   },
   {
    "duration": 7,
    "start_time": "2023-01-17T16:49:10.321Z"
   },
   {
    "duration": 12,
    "start_time": "2023-01-17T16:49:10.330Z"
   },
   {
    "duration": 49,
    "start_time": "2023-01-17T16:49:10.345Z"
   },
   {
    "duration": 5,
    "start_time": "2023-01-17T16:49:10.396Z"
   },
   {
    "duration": 17,
    "start_time": "2023-01-17T16:49:10.402Z"
   },
   {
    "duration": 17,
    "start_time": "2023-01-17T16:49:10.422Z"
   },
   {
    "duration": 12,
    "start_time": "2023-01-17T16:49:10.442Z"
   },
   {
    "duration": 5,
    "start_time": "2023-01-17T16:49:10.457Z"
   },
   {
    "duration": 5,
    "start_time": "2023-01-17T16:49:10.483Z"
   },
   {
    "duration": 8,
    "start_time": "2023-01-17T16:49:10.490Z"
   },
   {
    "duration": 13,
    "start_time": "2023-01-17T16:49:10.501Z"
   },
   {
    "duration": 12,
    "start_time": "2023-01-17T16:49:10.517Z"
   },
   {
    "duration": 29,
    "start_time": "2023-01-17T16:49:10.531Z"
   },
   {
    "duration": 35,
    "start_time": "2023-01-17T16:49:10.562Z"
   },
   {
    "duration": 6,
    "start_time": "2023-01-17T16:49:10.600Z"
   },
   {
    "duration": 28,
    "start_time": "2023-01-17T16:49:10.608Z"
   },
   {
    "duration": 12,
    "start_time": "2023-01-17T16:49:10.643Z"
   },
   {
    "duration": 15,
    "start_time": "2023-01-17T16:49:10.657Z"
   },
   {
    "duration": 9,
    "start_time": "2023-01-17T16:49:10.675Z"
   },
   {
    "duration": 11,
    "start_time": "2023-01-17T16:49:10.687Z"
   },
   {
    "duration": 21,
    "start_time": "2023-01-17T16:49:10.700Z"
   },
   {
    "duration": 22,
    "start_time": "2023-01-17T16:49:10.723Z"
   },
   {
    "duration": 9,
    "start_time": "2023-01-17T16:49:10.747Z"
   },
   {
    "duration": 148,
    "start_time": "2023-01-17T16:49:10.758Z"
   },
   {
    "duration": 6,
    "start_time": "2023-01-17T16:49:10.908Z"
   },
   {
    "duration": 27,
    "start_time": "2023-01-17T16:49:10.916Z"
   },
   {
    "duration": 366,
    "start_time": "2023-01-17T16:49:10.946Z"
   },
   {
    "duration": 167,
    "start_time": "2023-01-17T16:49:11.314Z"
   },
   {
    "duration": 0,
    "start_time": "2023-01-17T16:49:11.483Z"
   },
   {
    "duration": 0,
    "start_time": "2023-01-17T16:49:11.484Z"
   },
   {
    "duration": 0,
    "start_time": "2023-01-17T16:49:11.485Z"
   },
   {
    "duration": 0,
    "start_time": "2023-01-17T16:49:11.486Z"
   },
   {
    "duration": 0,
    "start_time": "2023-01-17T16:49:11.488Z"
   },
   {
    "duration": 0,
    "start_time": "2023-01-17T16:49:11.489Z"
   },
   {
    "duration": 1,
    "start_time": "2023-01-17T16:49:11.490Z"
   },
   {
    "duration": 0,
    "start_time": "2023-01-17T16:49:11.492Z"
   },
   {
    "duration": 0,
    "start_time": "2023-01-17T16:49:11.493Z"
   },
   {
    "duration": 0,
    "start_time": "2023-01-17T16:49:11.494Z"
   },
   {
    "duration": 0,
    "start_time": "2023-01-17T16:49:11.495Z"
   },
   {
    "duration": 0,
    "start_time": "2023-01-17T16:49:11.496Z"
   },
   {
    "duration": 0,
    "start_time": "2023-01-17T16:49:11.497Z"
   },
   {
    "duration": 0,
    "start_time": "2023-01-17T16:49:11.498Z"
   },
   {
    "duration": 0,
    "start_time": "2023-01-17T16:49:11.499Z"
   },
   {
    "duration": 0,
    "start_time": "2023-01-17T16:49:11.500Z"
   },
   {
    "duration": 0,
    "start_time": "2023-01-17T16:49:11.501Z"
   },
   {
    "duration": 0,
    "start_time": "2023-01-17T16:49:11.502Z"
   },
   {
    "duration": 0,
    "start_time": "2023-01-17T16:49:11.503Z"
   },
   {
    "duration": 0,
    "start_time": "2023-01-17T16:49:11.504Z"
   },
   {
    "duration": 0,
    "start_time": "2023-01-17T16:49:11.505Z"
   },
   {
    "duration": 0,
    "start_time": "2023-01-17T16:49:11.507Z"
   },
   {
    "duration": 0,
    "start_time": "2023-01-17T16:49:11.509Z"
   },
   {
    "duration": 0,
    "start_time": "2023-01-17T16:49:11.511Z"
   },
   {
    "duration": 0,
    "start_time": "2023-01-17T16:49:11.512Z"
   },
   {
    "duration": 0,
    "start_time": "2023-01-17T16:49:11.514Z"
   },
   {
    "duration": 0,
    "start_time": "2023-01-17T16:49:11.516Z"
   },
   {
    "duration": 0,
    "start_time": "2023-01-17T16:49:11.517Z"
   },
   {
    "duration": 0,
    "start_time": "2023-01-17T16:49:11.519Z"
   },
   {
    "duration": 0,
    "start_time": "2023-01-17T16:49:11.521Z"
   },
   {
    "duration": 0,
    "start_time": "2023-01-17T16:49:11.524Z"
   },
   {
    "duration": 0,
    "start_time": "2023-01-17T16:49:11.525Z"
   },
   {
    "duration": 0,
    "start_time": "2023-01-17T16:49:11.525Z"
   },
   {
    "duration": 0,
    "start_time": "2023-01-17T16:49:11.526Z"
   },
   {
    "duration": 0,
    "start_time": "2023-01-17T16:49:11.526Z"
   },
   {
    "duration": 1553,
    "start_time": "2023-01-17T16:51:58.710Z"
   },
   {
    "duration": 40,
    "start_time": "2023-01-17T16:52:00.265Z"
   },
   {
    "duration": 7,
    "start_time": "2023-01-17T16:52:00.307Z"
   },
   {
    "duration": 39,
    "start_time": "2023-01-17T16:52:00.316Z"
   },
   {
    "duration": 21,
    "start_time": "2023-01-17T16:52:00.357Z"
   },
   {
    "duration": 28,
    "start_time": "2023-01-17T16:52:00.379Z"
   },
   {
    "duration": 57,
    "start_time": "2023-01-17T16:52:00.409Z"
   },
   {
    "duration": 71,
    "start_time": "2023-01-17T16:52:00.468Z"
   },
   {
    "duration": 31,
    "start_time": "2023-01-17T16:52:00.540Z"
   },
   {
    "duration": 5,
    "start_time": "2023-01-17T16:52:00.574Z"
   },
   {
    "duration": 57,
    "start_time": "2023-01-17T16:52:00.582Z"
   },
   {
    "duration": 14,
    "start_time": "2023-01-17T16:52:00.641Z"
   },
   {
    "duration": 21,
    "start_time": "2023-01-17T16:52:00.658Z"
   },
   {
    "duration": 39,
    "start_time": "2023-01-17T16:52:00.682Z"
   },
   {
    "duration": 54,
    "start_time": "2023-01-17T16:52:00.723Z"
   },
   {
    "duration": 24,
    "start_time": "2023-01-17T16:52:00.779Z"
   },
   {
    "duration": 73,
    "start_time": "2023-01-17T16:52:00.804Z"
   },
   {
    "duration": 36,
    "start_time": "2023-01-17T16:52:00.879Z"
   },
   {
    "duration": 27,
    "start_time": "2023-01-17T16:52:00.917Z"
   },
   {
    "duration": 43,
    "start_time": "2023-01-17T16:52:00.946Z"
   },
   {
    "duration": 27,
    "start_time": "2023-01-17T16:52:00.991Z"
   },
   {
    "duration": 46,
    "start_time": "2023-01-17T16:52:01.020Z"
   },
   {
    "duration": 48,
    "start_time": "2023-01-17T16:52:01.068Z"
   },
   {
    "duration": 37,
    "start_time": "2023-01-17T16:52:01.129Z"
   },
   {
    "duration": 69,
    "start_time": "2023-01-17T16:52:01.169Z"
   },
   {
    "duration": 24,
    "start_time": "2023-01-17T16:52:01.240Z"
   },
   {
    "duration": 50,
    "start_time": "2023-01-17T16:52:01.266Z"
   },
   {
    "duration": 11,
    "start_time": "2023-01-17T16:52:01.321Z"
   },
   {
    "duration": 20,
    "start_time": "2023-01-17T16:52:01.334Z"
   },
   {
    "duration": 44,
    "start_time": "2023-01-17T16:52:01.357Z"
   },
   {
    "duration": 47,
    "start_time": "2023-01-17T16:52:01.404Z"
   },
   {
    "duration": 31,
    "start_time": "2023-01-17T16:52:01.453Z"
   },
   {
    "duration": 31,
    "start_time": "2023-01-17T16:52:01.486Z"
   },
   {
    "duration": 55,
    "start_time": "2023-01-17T16:52:01.519Z"
   },
   {
    "duration": 184,
    "start_time": "2023-01-17T16:52:01.576Z"
   },
   {
    "duration": 5,
    "start_time": "2023-01-17T16:52:01.761Z"
   },
   {
    "duration": 56,
    "start_time": "2023-01-17T16:52:01.767Z"
   },
   {
    "duration": 375,
    "start_time": "2023-01-17T16:52:01.825Z"
   },
   {
    "duration": 3,
    "start_time": "2023-01-17T16:52:02.202Z"
   },
   {
    "duration": 103,
    "start_time": "2023-01-17T16:52:02.208Z"
   },
   {
    "duration": 559872,
    "start_time": "2023-01-17T16:52:02.313Z"
   },
   {
    "duration": 90104,
    "start_time": "2023-01-17T17:01:22.187Z"
   },
   {
    "duration": 2805,
    "start_time": "2023-01-17T17:02:52.293Z"
   },
   {
    "duration": 312,
    "start_time": "2023-01-17T17:02:55.182Z"
   },
   {
    "duration": 2400,
    "start_time": "2023-01-17T17:02:55.496Z"
   },
   {
    "duration": 195,
    "start_time": "2023-01-17T17:02:57.898Z"
   },
   {
    "duration": 89,
    "start_time": "2023-01-17T17:02:58.096Z"
   },
   {
    "duration": 108,
    "start_time": "2023-01-17T17:02:58.187Z"
   },
   {
    "duration": 2486,
    "start_time": "2023-01-17T17:02:58.297Z"
   },
   {
    "duration": 202,
    "start_time": "2023-01-17T17:03:00.785Z"
   },
   {
    "duration": 7,
    "start_time": "2023-01-17T17:03:00.990Z"
   },
   {
    "duration": 113,
    "start_time": "2023-01-17T17:03:01.083Z"
   },
   {
    "duration": 1505,
    "start_time": "2023-01-17T17:03:01.281Z"
   },
   {
    "duration": 203,
    "start_time": "2023-01-17T17:03:02.792Z"
   },
   {
    "duration": 1007317,
    "start_time": "2023-01-17T17:03:03.081Z"
   },
   {
    "duration": 79513,
    "start_time": "2023-01-17T17:19:50.481Z"
   },
   {
    "duration": 2384,
    "start_time": "2023-01-17T17:21:09.997Z"
   },
   {
    "duration": 98,
    "start_time": "2023-01-17T17:21:12.384Z"
   },
   {
    "duration": 1337115,
    "start_time": "2023-01-17T17:21:12.484Z"
   },
   {
    "duration": 8295,
    "start_time": "2023-01-17T17:43:29.601Z"
   },
   {
    "duration": 14,
    "start_time": "2023-01-17T17:43:37.982Z"
   },
   {
    "duration": 558585,
    "start_time": "2023-01-17T17:43:37.998Z"
   },
   {
    "duration": 64000,
    "start_time": "2023-01-17T17:52:56.588Z"
   },
   {
    "duration": 3709,
    "start_time": "2023-01-17T17:54:00.590Z"
   },
   {
    "duration": 507,
    "start_time": "2023-01-17T17:54:04.383Z"
   },
   {
    "duration": 89,
    "start_time": "2023-01-17T17:54:04.893Z"
   },
   {
    "duration": 98,
    "start_time": "2023-01-17T17:54:04.984Z"
   },
   {
    "duration": 106,
    "start_time": "2023-01-17T17:54:05.085Z"
   },
   {
    "duration": 699,
    "start_time": "2023-01-17T17:54:05.194Z"
   },
   {
    "duration": 94,
    "start_time": "2023-01-17T17:54:05.896Z"
   },
   {
    "duration": 391,
    "start_time": "2023-01-17T17:54:05.992Z"
   },
   {
    "duration": 101,
    "start_time": "2023-01-17T17:54:06.385Z"
   },
   {
    "duration": 206,
    "start_time": "2023-01-17T17:54:06.488Z"
   },
   {
    "duration": 7191,
    "start_time": "2023-01-17T17:54:06.697Z"
   },
   {
    "duration": 2592,
    "start_time": "2023-01-17T17:54:13.890Z"
   },
   {
    "duration": 101,
    "start_time": "2023-01-17T18:39:03.182Z"
   },
   {
    "duration": 105,
    "start_time": "2023-01-17T18:51:50.196Z"
   },
   {
    "duration": 10,
    "start_time": "2023-01-17T18:52:11.070Z"
   },
   {
    "duration": 11,
    "start_time": "2023-01-17T18:52:24.529Z"
   },
   {
    "duration": 5,
    "start_time": "2023-01-17T18:52:40.882Z"
   },
   {
    "duration": 725,
    "start_time": "2023-01-17T18:52:47.435Z"
   },
   {
    "duration": 700,
    "start_time": "2023-01-17T18:52:57.817Z"
   },
   {
    "duration": 13,
    "start_time": "2023-01-17T18:53:05.911Z"
   },
   {
    "duration": 12,
    "start_time": "2023-01-17T18:54:06.101Z"
   },
   {
    "duration": 9,
    "start_time": "2023-01-17T18:54:10.667Z"
   },
   {
    "duration": 12,
    "start_time": "2023-01-17T18:54:34.204Z"
   },
   {
    "duration": 11,
    "start_time": "2023-01-17T18:54:38.761Z"
   },
   {
    "duration": 10,
    "start_time": "2023-01-17T18:54:42.900Z"
   },
   {
    "duration": 14,
    "start_time": "2023-01-17T18:54:49.022Z"
   },
   {
    "duration": 15,
    "start_time": "2023-01-17T18:54:58.306Z"
   },
   {
    "duration": 1637,
    "start_time": "2023-01-26T10:27:33.861Z"
   },
   {
    "duration": 6,
    "start_time": "2023-01-26T10:27:36.793Z"
   },
   {
    "duration": 98,
    "start_time": "2023-01-26T10:27:37.462Z"
   },
   {
    "duration": 6,
    "start_time": "2023-01-26T10:27:38.502Z"
   },
   {
    "duration": 19,
    "start_time": "2023-01-26T10:27:39.119Z"
   },
   {
    "duration": 13,
    "start_time": "2023-01-26T10:27:39.764Z"
   },
   {
    "duration": 5,
    "start_time": "2023-01-26T10:27:41.340Z"
   },
   {
    "duration": 16,
    "start_time": "2023-01-26T10:27:42.437Z"
   },
   {
    "duration": 12,
    "start_time": "2023-01-26T10:27:43.777Z"
   },
   {
    "duration": 8,
    "start_time": "2023-01-26T10:27:44.525Z"
   },
   {
    "duration": 11,
    "start_time": "2023-01-26T10:27:45.216Z"
   },
   {
    "duration": 20,
    "start_time": "2023-01-26T10:27:46.790Z"
   },
   {
    "duration": 3,
    "start_time": "2023-01-26T10:27:48.399Z"
   },
   {
    "duration": 4,
    "start_time": "2023-01-26T10:27:49.156Z"
   },
   {
    "duration": 12,
    "start_time": "2023-01-26T10:27:50.485Z"
   },
   {
    "duration": 14,
    "start_time": "2023-01-26T10:27:52.111Z"
   },
   {
    "duration": 5,
    "start_time": "2023-01-26T10:27:54.405Z"
   },
   {
    "duration": 4,
    "start_time": "2023-01-26T10:27:54.931Z"
   },
   {
    "duration": 5,
    "start_time": "2023-01-26T10:27:55.563Z"
   },
   {
    "duration": 4,
    "start_time": "2023-01-26T10:29:07.479Z"
   },
   {
    "duration": 5,
    "start_time": "2023-01-26T10:29:09.608Z"
   },
   {
    "duration": 5,
    "start_time": "2023-01-26T10:29:10.901Z"
   },
   {
    "duration": 1549,
    "start_time": "2023-01-26T16:52:48.030Z"
   },
   {
    "duration": 4,
    "start_time": "2023-01-26T16:52:50.631Z"
   },
   {
    "duration": 159,
    "start_time": "2023-01-26T16:52:51.274Z"
   },
   {
    "duration": 6,
    "start_time": "2023-01-26T16:52:52.095Z"
   },
   {
    "duration": 17,
    "start_time": "2023-01-26T16:52:52.478Z"
   },
   {
    "duration": 5,
    "start_time": "2023-01-26T16:52:53.154Z"
   },
   {
    "duration": 4,
    "start_time": "2023-01-26T16:52:54.537Z"
   },
   {
    "duration": 12,
    "start_time": "2023-01-26T16:52:55.482Z"
   },
   {
    "duration": 9,
    "start_time": "2023-01-26T16:52:57.830Z"
   },
   {
    "duration": 6,
    "start_time": "2023-01-26T16:53:01.202Z"
   },
   {
    "duration": 10,
    "start_time": "2023-01-26T16:53:03.003Z"
   },
   {
    "duration": 11,
    "start_time": "2023-01-26T16:53:05.652Z"
   },
   {
    "duration": 3,
    "start_time": "2023-01-26T16:53:07.667Z"
   },
   {
    "duration": 3,
    "start_time": "2023-01-26T16:53:08.258Z"
   },
   {
    "duration": 10,
    "start_time": "2023-01-26T16:53:09.404Z"
   },
   {
    "duration": 10,
    "start_time": "2023-01-26T16:53:10.657Z"
   },
   {
    "duration": 4,
    "start_time": "2023-01-26T16:53:21.883Z"
   },
   {
    "duration": 4,
    "start_time": "2023-01-26T16:53:22.525Z"
   },
   {
    "duration": 4,
    "start_time": "2023-01-26T16:53:23.148Z"
   },
   {
    "duration": 6,
    "start_time": "2023-01-26T16:53:24.643Z"
   },
   {
    "duration": 5,
    "start_time": "2023-01-26T16:53:25.402Z"
   },
   {
    "duration": 5,
    "start_time": "2023-01-26T16:53:26.084Z"
   },
   {
    "duration": 20,
    "start_time": "2023-01-26T16:53:28.025Z"
   },
   {
    "duration": 5,
    "start_time": "2023-01-26T16:53:30.018Z"
   },
   {
    "duration": 11,
    "start_time": "2023-01-26T16:53:33.017Z"
   },
   {
    "duration": 3,
    "start_time": "2023-01-26T16:53:34.786Z"
   },
   {
    "duration": 16,
    "start_time": "2023-01-26T16:53:36.490Z"
   },
   {
    "duration": 4,
    "start_time": "2023-01-26T16:54:08.866Z"
   },
   {
    "duration": 16,
    "start_time": "2023-01-26T16:54:13.410Z"
   },
   {
    "duration": 6,
    "start_time": "2023-01-26T16:54:19.509Z"
   },
   {
    "duration": 319,
    "start_time": "2023-01-26T17:41:05.317Z"
   },
   {
    "duration": 316,
    "start_time": "2023-01-26T17:41:45.580Z"
   },
   {
    "duration": 3,
    "start_time": "2023-01-26T17:43:18.158Z"
   },
   {
    "duration": 346,
    "start_time": "2023-01-26T17:43:21.823Z"
   },
   {
    "duration": 137356,
    "start_time": "2023-01-26T17:48:59.007Z"
   },
   {
    "duration": 211151,
    "start_time": "2023-01-26T17:51:35.709Z"
   },
   {
    "duration": 11947,
    "start_time": "2023-01-26T17:55:06.862Z"
   },
   {
    "duration": 73574,
    "start_time": "2023-01-26T17:55:30.716Z"
   },
   {
    "duration": 12155,
    "start_time": "2023-01-26T17:56:52.721Z"
   },
   {
    "duration": 39091,
    "start_time": "2023-01-26T17:57:17.927Z"
   },
   {
    "duration": 52978,
    "start_time": "2023-01-26T17:58:32.530Z"
   },
   {
    "duration": 187401,
    "start_time": "2023-01-26T17:59:38.363Z"
   },
   {
    "duration": 375,
    "start_time": "2023-01-26T18:12:17.046Z"
   },
   {
    "duration": 93,
    "start_time": "2023-01-26T18:21:12.089Z"
   },
   {
    "duration": 446,
    "start_time": "2023-01-26T18:23:26.449Z"
   },
   {
    "duration": 26,
    "start_time": "2023-01-26T18:28:07.503Z"
   },
   {
    "duration": 4,
    "start_time": "2023-01-26T18:33:33.169Z"
   },
   {
    "duration": 108,
    "start_time": "2023-01-26T18:33:36.155Z"
   },
   {
    "duration": 5,
    "start_time": "2023-01-26T18:33:46.157Z"
   },
   {
    "duration": 2,
    "start_time": "2023-01-26T18:33:47.244Z"
   },
   {
    "duration": 11,
    "start_time": "2023-01-26T18:33:54.754Z"
   },
   {
    "duration": 383,
    "start_time": "2023-01-26T18:33:57.931Z"
   },
   {
    "duration": 547,
    "start_time": "2023-01-26T18:34:24.637Z"
   },
   {
    "duration": 30,
    "start_time": "2023-01-26T18:34:26.695Z"
   },
   {
    "duration": 4,
    "start_time": "2023-01-26T18:35:31.419Z"
   },
   {
    "duration": 9,
    "start_time": "2023-01-26T18:35:51.952Z"
   },
   {
    "duration": 263,
    "start_time": "2023-01-26T18:36:26.186Z"
   },
   {
    "duration": 23,
    "start_time": "2023-01-26T18:36:38.821Z"
   },
   {
    "duration": 1710,
    "start_time": "2023-01-27T06:44:05.281Z"
   },
   {
    "duration": 3,
    "start_time": "2023-01-27T06:44:06.994Z"
   },
   {
    "duration": 191,
    "start_time": "2023-01-27T06:44:06.998Z"
   },
   {
    "duration": 6,
    "start_time": "2023-01-27T06:44:07.191Z"
   },
   {
    "duration": 23,
    "start_time": "2023-01-27T06:44:07.199Z"
   },
   {
    "duration": 5,
    "start_time": "2023-01-27T06:44:07.225Z"
   },
   {
    "duration": 4,
    "start_time": "2023-01-27T06:44:07.447Z"
   },
   {
    "duration": 13,
    "start_time": "2023-01-27T06:44:07.685Z"
   },
   {
    "duration": 8,
    "start_time": "2023-01-27T06:44:08.187Z"
   },
   {
    "duration": 7,
    "start_time": "2023-01-27T06:44:08.443Z"
   },
   {
    "duration": 9,
    "start_time": "2023-01-27T06:44:08.693Z"
   },
   {
    "duration": 12,
    "start_time": "2023-01-27T06:44:09.174Z"
   },
   {
    "duration": 3,
    "start_time": "2023-01-27T06:44:09.758Z"
   },
   {
    "duration": 3,
    "start_time": "2023-01-27T06:44:10.030Z"
   },
   {
    "duration": 8,
    "start_time": "2023-01-27T06:44:10.453Z"
   },
   {
    "duration": 7,
    "start_time": "2023-01-27T06:44:10.966Z"
   },
   {
    "duration": 4,
    "start_time": "2023-01-27T06:44:11.415Z"
   },
   {
    "duration": 4,
    "start_time": "2023-01-27T06:44:11.643Z"
   },
   {
    "duration": 4,
    "start_time": "2023-01-27T06:44:11.875Z"
   },
   {
    "duration": 5,
    "start_time": "2023-01-27T06:44:12.348Z"
   },
   {
    "duration": 4,
    "start_time": "2023-01-27T06:44:12.588Z"
   },
   {
    "duration": 4,
    "start_time": "2023-01-27T06:44:12.811Z"
   },
   {
    "duration": 14,
    "start_time": "2023-01-27T06:44:13.261Z"
   },
   {
    "duration": 6,
    "start_time": "2023-01-27T06:44:13.517Z"
   },
   {
    "duration": 13,
    "start_time": "2023-01-27T06:44:13.732Z"
   },
   {
    "duration": 4,
    "start_time": "2023-01-27T06:44:14.196Z"
   },
   {
    "duration": 3,
    "start_time": "2023-01-27T06:44:14.682Z"
   },
   {
    "duration": 16,
    "start_time": "2023-01-27T06:44:14.899Z"
   },
   {
    "duration": 5,
    "start_time": "2023-01-27T06:44:15.609Z"
   },
   {
    "duration": 158,
    "start_time": "2023-01-27T06:44:15.836Z"
   },
   {
    "duration": 4,
    "start_time": "2023-01-27T06:44:16.144Z"
   },
   {
    "duration": 2,
    "start_time": "2023-01-27T06:44:16.368Z"
   },
   {
    "duration": 3,
    "start_time": "2023-01-27T06:44:17.129Z"
   },
   {
    "duration": 334,
    "start_time": "2023-01-27T06:44:17.850Z"
   },
   {
    "duration": 53,
    "start_time": "2023-01-27T06:44:18.337Z"
   },
   {
    "duration": 188149,
    "start_time": "2023-01-27T06:44:19.376Z"
   },
   {
    "duration": 365,
    "start_time": "2023-01-27T06:47:27.527Z"
   },
   {
    "duration": 107,
    "start_time": "2023-01-27T06:47:27.894Z"
   },
   {
    "duration": 475,
    "start_time": "2023-01-27T06:47:28.093Z"
   },
   {
    "duration": 38,
    "start_time": "2023-01-27T06:47:28.570Z"
   },
   {
    "duration": 4,
    "start_time": "2023-01-27T06:47:28.610Z"
   },
   {
    "duration": 20,
    "start_time": "2023-01-27T06:47:28.615Z"
   },
   {
    "duration": 541,
    "start_time": "2023-01-27T06:47:28.637Z"
   },
   {
    "duration": 39,
    "start_time": "2023-01-27T06:47:29.180Z"
   },
   {
    "duration": 5,
    "start_time": "2023-01-27T06:47:29.222Z"
   },
   {
    "duration": 16,
    "start_time": "2023-01-27T06:47:29.229Z"
   },
   {
    "duration": 257,
    "start_time": "2023-01-27T06:47:29.246Z"
   },
   {
    "duration": 23,
    "start_time": "2023-01-27T06:47:29.505Z"
   },
   {
    "duration": 183386,
    "start_time": "2023-01-27T06:49:36.778Z"
   },
   {
    "duration": 289640,
    "start_time": "2023-01-27T06:53:15.302Z"
   },
   {
    "duration": 8290,
    "start_time": "2023-01-27T07:04:14.473Z"
   },
   {
    "duration": 323,
    "start_time": "2023-01-27T07:04:51.000Z"
   },
   {
    "duration": 13,
    "start_time": "2023-01-27T07:16:35.853Z"
   },
   {
    "duration": 414341,
    "start_time": "2023-01-27T07:16:37.707Z"
   },
   {
    "duration": 50802,
    "start_time": "2023-01-27T07:24:08.410Z"
   },
   {
    "duration": 1240,
    "start_time": "2023-01-27T07:25:39.976Z"
   },
   {
    "duration": 1062,
    "start_time": "2023-01-27T07:25:52.220Z"
   },
   {
    "duration": 12,
    "start_time": "2023-01-27T07:29:16.241Z"
   },
   {
    "duration": 181344,
    "start_time": "2023-01-27T07:29:29.739Z"
   },
   {
    "duration": 230076,
    "start_time": "2023-01-27T07:33:03.675Z"
   },
   {
    "duration": 12,
    "start_time": "2023-01-27T07:37:28.542Z"
   },
   {
    "duration": 5,
    "start_time": "2023-01-27T07:38:17.844Z"
   },
   {
    "duration": 53,
    "start_time": "2023-01-27T07:41:08.360Z"
   },
   {
    "duration": 1523,
    "start_time": "2023-01-27T07:41:24.960Z"
   },
   {
    "duration": 7,
    "start_time": "2023-01-27T07:41:26.485Z"
   },
   {
    "duration": 45,
    "start_time": "2023-01-27T07:41:26.494Z"
   },
   {
    "duration": 5,
    "start_time": "2023-01-27T07:41:26.541Z"
   },
   {
    "duration": 23,
    "start_time": "2023-01-27T07:41:26.548Z"
   },
   {
    "duration": 6,
    "start_time": "2023-01-27T07:41:26.767Z"
   },
   {
    "duration": 4,
    "start_time": "2023-01-27T07:41:27.300Z"
   },
   {
    "duration": 12,
    "start_time": "2023-01-27T07:41:27.551Z"
   },
   {
    "duration": 7,
    "start_time": "2023-01-27T07:41:28.352Z"
   },
   {
    "duration": 6,
    "start_time": "2023-01-27T07:41:28.610Z"
   },
   {
    "duration": 11,
    "start_time": "2023-01-27T07:41:29.150Z"
   },
   {
    "duration": 15,
    "start_time": "2023-01-27T07:41:29.966Z"
   },
   {
    "duration": 3,
    "start_time": "2023-01-27T07:41:30.776Z"
   },
   {
    "duration": 3,
    "start_time": "2023-01-27T07:41:31.031Z"
   },
   {
    "duration": 10,
    "start_time": "2023-01-27T07:41:31.607Z"
   },
   {
    "duration": 10,
    "start_time": "2023-01-27T07:41:32.427Z"
   },
   {
    "duration": 4,
    "start_time": "2023-01-27T07:41:33.505Z"
   },
   {
    "duration": 4,
    "start_time": "2023-01-27T07:41:33.732Z"
   },
   {
    "duration": 4,
    "start_time": "2023-01-27T07:41:33.932Z"
   },
   {
    "duration": 4,
    "start_time": "2023-01-27T07:41:34.292Z"
   },
   {
    "duration": 5,
    "start_time": "2023-01-27T07:41:34.444Z"
   },
   {
    "duration": 5,
    "start_time": "2023-01-27T07:41:34.640Z"
   },
   {
    "duration": 19,
    "start_time": "2023-01-27T07:41:35.230Z"
   },
   {
    "duration": 4,
    "start_time": "2023-01-27T07:41:35.421Z"
   },
   {
    "duration": 13,
    "start_time": "2023-01-27T07:41:35.623Z"
   },
   {
    "duration": 5,
    "start_time": "2023-01-27T07:41:36.028Z"
   },
   {
    "duration": 3,
    "start_time": "2023-01-27T07:41:36.507Z"
   },
   {
    "duration": 14,
    "start_time": "2023-01-27T07:41:36.814Z"
   },
   {
    "duration": 6,
    "start_time": "2023-01-27T07:41:37.917Z"
   },
   {
    "duration": 138,
    "start_time": "2023-01-27T07:41:38.591Z"
   },
   {
    "duration": 5,
    "start_time": "2023-01-27T07:41:38.763Z"
   },
   {
    "duration": 2,
    "start_time": "2023-01-27T07:41:39.351Z"
   },
   {
    "duration": 2,
    "start_time": "2023-01-27T07:41:40.284Z"
   },
   {
    "duration": 323,
    "start_time": "2023-01-27T07:41:43.643Z"
   },
   {
    "duration": 40,
    "start_time": "2023-01-27T07:41:45.840Z"
   },
   {
    "duration": 14983,
    "start_time": "2023-01-27T07:42:16.268Z"
   },
   {
    "duration": 377,
    "start_time": "2023-01-27T07:42:31.252Z"
   },
   {
    "duration": 159,
    "start_time": "2023-01-27T07:42:31.632Z"
   },
   {
    "duration": 485,
    "start_time": "2023-01-27T07:42:31.794Z"
   },
   {
    "duration": 31,
    "start_time": "2023-01-27T07:42:32.281Z"
   },
   {
    "duration": 3,
    "start_time": "2023-01-27T07:42:32.314Z"
   },
   {
    "duration": 14,
    "start_time": "2023-01-27T07:42:32.319Z"
   },
   {
    "duration": 553,
    "start_time": "2023-01-27T07:42:32.335Z"
   },
   {
    "duration": 28,
    "start_time": "2023-01-27T07:42:32.892Z"
   },
   {
    "duration": 4,
    "start_time": "2023-01-27T07:42:32.922Z"
   },
   {
    "duration": 9,
    "start_time": "2023-01-27T07:42:33.336Z"
   },
   {
    "duration": 217,
    "start_time": "2023-01-27T07:42:34.444Z"
   },
   {
    "duration": 30,
    "start_time": "2023-01-27T07:42:35.344Z"
   },
   {
    "duration": 8559,
    "start_time": "2023-01-27T07:42:39.122Z"
   },
   {
    "duration": 312,
    "start_time": "2023-01-27T07:42:47.838Z"
   },
   {
    "duration": 13,
    "start_time": "2023-01-27T07:42:59.225Z"
   },
   {
    "duration": 47668,
    "start_time": "2023-01-27T07:43:01.538Z"
   },
   {
    "duration": 1139,
    "start_time": "2023-01-27T07:43:49.209Z"
   },
   {
    "duration": 11,
    "start_time": "2023-01-27T07:43:50.350Z"
   },
   {
    "duration": 10782,
    "start_time": "2023-01-27T07:43:50.363Z"
   },
   {
    "duration": 9278,
    "start_time": "2023-01-27T07:44:41.172Z"
   },
   {
    "duration": 10644,
    "start_time": "2023-01-27T07:44:54.509Z"
   },
   {
    "duration": 10574,
    "start_time": "2023-01-27T07:45:37.617Z"
   },
   {
    "duration": 10618,
    "start_time": "2023-01-27T07:45:54.860Z"
   },
   {
    "duration": 345,
    "start_time": "2023-01-27T07:46:40.938Z"
   },
   {
    "duration": 143,
    "start_time": "2023-01-27T08:10:29.064Z"
   },
   {
    "duration": 2,
    "start_time": "2023-01-27T08:13:59.888Z"
   },
   {
    "duration": 6,
    "start_time": "2023-01-27T08:14:25.193Z"
   },
   {
    "duration": 8,
    "start_time": "2023-01-27T08:14:27.573Z"
   },
   {
    "duration": 11,
    "start_time": "2023-01-27T08:19:05.056Z"
   },
   {
    "duration": 13,
    "start_time": "2023-01-27T08:28:11.505Z"
   },
   {
    "duration": 323,
    "start_time": "2023-01-27T08:42:35.211Z"
   },
   {
    "duration": 15,
    "start_time": "2023-01-27T08:44:55.517Z"
   },
   {
    "duration": 3,
    "start_time": "2023-01-27T08:50:11.854Z"
   },
   {
    "duration": 12,
    "start_time": "2023-01-27T08:50:12.850Z"
   },
   {
    "duration": 71,
    "start_time": "2023-01-27T08:50:48.224Z"
   },
   {
    "duration": 32,
    "start_time": "2023-01-27T08:50:57.160Z"
   },
   {
    "duration": 16,
    "start_time": "2023-01-27T08:51:01.216Z"
   },
   {
    "duration": 14,
    "start_time": "2023-01-27T08:51:11.971Z"
   },
   {
    "duration": 1504,
    "start_time": "2023-01-27T09:06:44.262Z"
   },
   {
    "duration": 3,
    "start_time": "2023-01-27T09:06:45.768Z"
   },
   {
    "duration": 14,
    "start_time": "2023-01-27T09:06:45.773Z"
   },
   {
    "duration": 54,
    "start_time": "2023-01-27T09:06:45.790Z"
   },
   {
    "duration": 7,
    "start_time": "2023-01-27T09:06:45.847Z"
   },
   {
    "duration": 20,
    "start_time": "2023-01-27T09:06:45.857Z"
   },
   {
    "duration": 6,
    "start_time": "2023-01-27T09:06:45.879Z"
   },
   {
    "duration": 17,
    "start_time": "2023-01-27T09:06:45.887Z"
   },
   {
    "duration": 41,
    "start_time": "2023-01-27T09:06:45.906Z"
   },
   {
    "duration": 17,
    "start_time": "2023-01-27T09:06:45.951Z"
   },
   {
    "duration": 8,
    "start_time": "2023-01-27T09:06:45.970Z"
   },
   {
    "duration": 24,
    "start_time": "2023-01-27T09:06:45.980Z"
   },
   {
    "duration": 33,
    "start_time": "2023-01-27T09:06:46.007Z"
   },
   {
    "duration": 13,
    "start_time": "2023-01-27T09:06:46.042Z"
   },
   {
    "duration": 21,
    "start_time": "2023-01-27T09:06:46.058Z"
   },
   {
    "duration": 19,
    "start_time": "2023-01-27T09:06:46.082Z"
   },
   {
    "duration": 31,
    "start_time": "2023-01-27T09:06:46.103Z"
   },
   {
    "duration": 17,
    "start_time": "2023-01-27T09:06:46.136Z"
   },
   {
    "duration": 22,
    "start_time": "2023-01-27T09:06:46.155Z"
   },
   {
    "duration": 21,
    "start_time": "2023-01-27T09:06:46.179Z"
   },
   {
    "duration": 12,
    "start_time": "2023-01-27T09:06:46.204Z"
   },
   {
    "duration": 21,
    "start_time": "2023-01-27T09:06:46.218Z"
   },
   {
    "duration": 31,
    "start_time": "2023-01-27T09:06:46.241Z"
   },
   {
    "duration": 28,
    "start_time": "2023-01-27T09:06:46.275Z"
   },
   {
    "duration": 23,
    "start_time": "2023-01-27T09:06:46.305Z"
   },
   {
    "duration": 36,
    "start_time": "2023-01-27T09:06:46.330Z"
   },
   {
    "duration": 11,
    "start_time": "2023-01-27T09:06:46.368Z"
   },
   {
    "duration": 9,
    "start_time": "2023-01-27T09:06:46.384Z"
   },
   {
    "duration": 77,
    "start_time": "2023-01-27T09:06:46.395Z"
   },
   {
    "duration": 6,
    "start_time": "2023-01-27T09:06:46.475Z"
   },
   {
    "duration": 162,
    "start_time": "2023-01-27T09:06:46.483Z"
   },
   {
    "duration": 4,
    "start_time": "2023-01-27T09:06:46.647Z"
   },
   {
    "duration": 18,
    "start_time": "2023-01-27T09:06:46.653Z"
   },
   {
    "duration": 20,
    "start_time": "2023-01-27T09:06:46.673Z"
   },
   {
    "duration": 360,
    "start_time": "2023-01-27T09:06:46.694Z"
   },
   {
    "duration": 47,
    "start_time": "2023-01-27T09:06:47.057Z"
   },
   {
    "duration": 15547,
    "start_time": "2023-01-27T09:06:47.106Z"
   },
   {
    "duration": 387,
    "start_time": "2023-01-27T09:07:02.655Z"
   },
   {
    "duration": 61,
    "start_time": "2023-01-27T09:07:03.043Z"
   },
   {
    "duration": 607,
    "start_time": "2023-01-27T09:07:03.105Z"
   },
   {
    "duration": 29,
    "start_time": "2023-01-27T09:07:03.715Z"
   },
   {
    "duration": 4,
    "start_time": "2023-01-27T09:07:03.747Z"
   },
   {
    "duration": 16,
    "start_time": "2023-01-27T09:07:03.753Z"
   },
   {
    "duration": 573,
    "start_time": "2023-01-27T09:07:03.771Z"
   },
   {
    "duration": 30,
    "start_time": "2023-01-27T09:07:04.346Z"
   },
   {
    "duration": 16,
    "start_time": "2023-01-27T09:07:04.378Z"
   },
   {
    "duration": 13,
    "start_time": "2023-01-27T09:07:04.396Z"
   },
   {
    "duration": 235,
    "start_time": "2023-01-27T09:07:04.411Z"
   },
   {
    "duration": 23,
    "start_time": "2023-01-27T09:07:04.648Z"
   },
   {
    "duration": 8762,
    "start_time": "2023-01-27T09:07:04.673Z"
   },
   {
    "duration": 373,
    "start_time": "2023-01-27T09:07:13.437Z"
   },
   {
    "duration": 14,
    "start_time": "2023-01-27T09:07:13.812Z"
   },
   {
    "duration": 48391,
    "start_time": "2023-01-27T09:07:13.828Z"
   },
   {
    "duration": 1064,
    "start_time": "2023-01-27T09:08:02.221Z"
   },
   {
    "duration": 11,
    "start_time": "2023-01-27T09:08:03.291Z"
   },
   {
    "duration": 10779,
    "start_time": "2023-01-27T09:08:03.304Z"
   },
   {
    "duration": 360,
    "start_time": "2023-01-27T09:08:14.085Z"
   },
   {
    "duration": 54,
    "start_time": "2023-01-27T09:08:14.447Z"
   },
   {
    "duration": 92,
    "start_time": "2023-01-27T09:08:14.503Z"
   },
   {
    "duration": 96,
    "start_time": "2023-01-27T09:08:14.597Z"
   },
   {
    "duration": 201,
    "start_time": "2023-01-27T09:08:14.694Z"
   },
   {
    "duration": 96,
    "start_time": "2023-01-27T09:08:14.896Z"
   },
   {
    "duration": 198,
    "start_time": "2023-01-27T09:08:14.994Z"
   },
   {
    "duration": 17,
    "start_time": "2023-01-27T09:08:15.194Z"
   },
   {
    "duration": 333,
    "start_time": "2023-01-27T09:08:15.212Z"
   },
   {
    "duration": 1479,
    "start_time": "2023-02-19T09:03:23.305Z"
   },
   {
    "duration": 3,
    "start_time": "2023-02-19T09:03:24.786Z"
   },
   {
    "duration": 11,
    "start_time": "2023-02-19T09:03:24.791Z"
   },
   {
    "duration": 91,
    "start_time": "2023-02-19T09:03:24.804Z"
   },
   {
    "duration": 6,
    "start_time": "2023-02-19T09:03:24.898Z"
   },
   {
    "duration": 32,
    "start_time": "2023-02-19T09:03:24.907Z"
   },
   {
    "duration": 6,
    "start_time": "2023-02-19T09:03:24.941Z"
   },
   {
    "duration": 16,
    "start_time": "2023-02-19T09:03:24.950Z"
   },
   {
    "duration": 25,
    "start_time": "2023-02-19T09:03:24.968Z"
   },
   {
    "duration": 19,
    "start_time": "2023-02-19T09:03:24.995Z"
   },
   {
    "duration": 9,
    "start_time": "2023-02-19T09:03:25.016Z"
   },
   {
    "duration": 21,
    "start_time": "2023-02-19T09:03:25.027Z"
   },
   {
    "duration": 13,
    "start_time": "2023-02-19T09:03:25.050Z"
   },
   {
    "duration": 11,
    "start_time": "2023-02-19T09:03:25.067Z"
   },
   {
    "duration": 25,
    "start_time": "2023-02-19T09:03:25.080Z"
   },
   {
    "duration": 47,
    "start_time": "2023-02-19T09:03:25.111Z"
   },
   {
    "duration": 65,
    "start_time": "2023-02-19T09:03:25.160Z"
   },
   {
    "duration": 19,
    "start_time": "2023-02-19T09:03:25.227Z"
   },
   {
    "duration": 14,
    "start_time": "2023-02-19T09:03:25.248Z"
   },
   {
    "duration": 8,
    "start_time": "2023-02-19T09:03:25.265Z"
   },
   {
    "duration": 26,
    "start_time": "2023-02-19T09:03:25.275Z"
   },
   {
    "duration": 23,
    "start_time": "2023-02-19T09:03:25.304Z"
   },
   {
    "duration": 22,
    "start_time": "2023-02-19T09:03:25.329Z"
   },
   {
    "duration": 40,
    "start_time": "2023-02-19T09:03:25.353Z"
   },
   {
    "duration": 40,
    "start_time": "2023-02-19T09:03:25.395Z"
   },
   {
    "duration": 23,
    "start_time": "2023-02-19T09:03:25.438Z"
   },
   {
    "duration": 31,
    "start_time": "2023-02-19T09:03:25.464Z"
   },
   {
    "duration": 37,
    "start_time": "2023-02-19T09:03:25.498Z"
   },
   {
    "duration": 27,
    "start_time": "2023-02-19T09:03:25.537Z"
   },
   {
    "duration": 8,
    "start_time": "2023-02-19T09:03:25.566Z"
   },
   {
    "duration": 123,
    "start_time": "2023-02-19T09:03:25.576Z"
   },
   {
    "duration": 6,
    "start_time": "2023-02-19T09:03:25.700Z"
   },
   {
    "duration": 9,
    "start_time": "2023-02-19T09:03:25.707Z"
   },
   {
    "duration": 10,
    "start_time": "2023-02-19T09:03:25.717Z"
   },
   {
    "duration": 370,
    "start_time": "2023-02-19T09:03:25.729Z"
   },
   {
    "duration": 35,
    "start_time": "2023-02-19T09:03:26.101Z"
   },
   {
    "duration": 16940,
    "start_time": "2023-02-19T09:03:26.138Z"
   },
   {
    "duration": 425,
    "start_time": "2023-02-19T09:03:43.080Z"
   },
   {
    "duration": 206,
    "start_time": "2023-02-19T09:03:43.507Z"
   },
   {
    "duration": 722,
    "start_time": "2023-02-19T09:03:43.718Z"
   },
   {
    "duration": 33,
    "start_time": "2023-02-19T09:03:44.444Z"
   },
   {
    "duration": 4,
    "start_time": "2023-02-19T09:03:44.479Z"
   },
   {
    "duration": 15,
    "start_time": "2023-02-19T09:03:44.499Z"
   },
   {
    "duration": 661,
    "start_time": "2023-02-19T09:03:44.517Z"
   },
   {
    "duration": 56,
    "start_time": "2023-02-19T09:03:45.180Z"
   },
   {
    "duration": 6,
    "start_time": "2023-02-19T09:03:45.238Z"
   },
   {
    "duration": 20,
    "start_time": "2023-02-19T09:03:45.247Z"
   },
   {
    "duration": 260,
    "start_time": "2023-02-19T09:03:45.270Z"
   },
   {
    "duration": 28,
    "start_time": "2023-02-19T09:03:45.531Z"
   },
   {
    "duration": 10765,
    "start_time": "2023-02-19T09:03:45.561Z"
   },
   {
    "duration": 373,
    "start_time": "2023-02-19T09:03:56.328Z"
   },
   {
    "duration": 18,
    "start_time": "2023-02-19T09:03:56.703Z"
   },
   {
    "duration": 51057,
    "start_time": "2023-02-19T09:03:56.724Z"
   },
   {
    "duration": 1468,
    "start_time": "2023-02-19T09:04:47.783Z"
   },
   {
    "duration": 13,
    "start_time": "2023-02-19T09:04:49.253Z"
   },
   {
    "duration": 10502,
    "start_time": "2023-02-19T09:04:49.268Z"
   },
   {
    "duration": 333,
    "start_time": "2023-02-19T09:04:59.772Z"
   },
   {
    "duration": 97,
    "start_time": "2023-02-19T09:05:00.107Z"
   },
   {
    "duration": 98,
    "start_time": "2023-02-19T09:05:00.206Z"
   },
   {
    "duration": 26,
    "start_time": "2023-02-19T09:05:00.305Z"
   },
   {
    "duration": 84,
    "start_time": "2023-02-19T09:05:00.333Z"
   },
   {
    "duration": 10,
    "start_time": "2023-02-19T09:05:00.499Z"
   },
   {
    "duration": 190,
    "start_time": "2023-02-19T09:05:00.511Z"
   },
   {
    "duration": 128,
    "start_time": "2023-02-19T09:05:00.706Z"
   },
   {
    "duration": 354,
    "start_time": "2023-02-19T09:05:00.836Z"
   }
  ],
  "kernelspec": {
   "display_name": "Python 3 (ipykernel)",
   "language": "python",
   "name": "python3"
  },
  "language_info": {
   "codemirror_mode": {
    "name": "ipython",
    "version": 3
   },
   "file_extension": ".py",
   "mimetype": "text/x-python",
   "name": "python",
   "nbconvert_exporter": "python",
   "pygments_lexer": "ipython3",
   "version": "3.9.5"
  },
  "toc": {
   "base_numbering": 1,
   "nav_menu": {},
   "number_sections": true,
   "sideBar": true,
   "skip_h1_title": true,
   "title_cell": "Содержание",
   "title_sidebar": "Contents",
   "toc_cell": true,
   "toc_position": {
    "height": "532.222px",
    "left": "20.9965px",
    "top": "150.434px",
    "width": "211.997px"
   },
   "toc_section_display": true,
   "toc_window_display": true
  }
 },
 "nbformat": 4,
 "nbformat_minor": 2
}
